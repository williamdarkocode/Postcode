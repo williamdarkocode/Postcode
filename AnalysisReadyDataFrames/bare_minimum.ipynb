{
 "cells": [
  {
   "cell_type": "code",
   "execution_count": 44,
   "metadata": {},
   "outputs": [],
   "source": [
    "import pandas as pd\n",
    "import pandasql as psql\n",
    "import numpy as np\n",
    "import json\n",
    "from shapely.geometry import Point\n",
    "from shapely.geometry import Polygon\n",
    "from scipy.spatial import cKDTree"
   ]
  },
  {
   "cell_type": "code",
   "execution_count": 3,
   "metadata": {},
   "outputs": [],
   "source": [
    "neigh_bounds = '../SimplifiedGeoJson/nbounds_by_boro.json'\n",
    "pct_bounds = '../SimplifiedGeoJson/precinct_bounds_by_borough.json'"
   ]
  },
  {
   "cell_type": "code",
   "execution_count": 4,
   "metadata": {},
   "outputs": [],
   "source": [
    "with open(neigh_bounds, 'r') as fp:\n",
    "    nbounds = json.load(fp)"
   ]
  },
  {
   "cell_type": "code",
   "execution_count": 5,
   "metadata": {},
   "outputs": [],
   "source": [
    "with open(pct_bounds, 'r') as fp:\n",
    "    pbounds = json.load(fp)"
   ]
  },
  {
   "cell_type": "markdown",
   "metadata": {},
   "source": [
    "### Get neighbourhood name for listings currently listed as \"New Dev\""
   ]
  },
  {
   "cell_type": "code",
   "execution_count": 8,
   "metadata": {},
   "outputs": [],
   "source": [
    "def area_form_coord(long, lat, boro):\n",
    "    pt = Point(long, lat)\n",
    "\n",
    "    for neigh in nbounds[boro]:\n",
    "        ncoords = neigh['coords'][0][0]\n",
    "        coords = [tuple(x) for x in ncoords]\n",
    "        poly = Polygon(coords)\n",
    "\n",
    "        if poly.contains(pt):\n",
    "            return neigh['name']\n",
    "    \n",
    "    return None"
   ]
  },
  {
   "cell_type": "code",
   "execution_count": null,
   "metadata": {},
   "outputs": [],
   "source": [
    "#     daf.at[idx, 'Address'] = data[-1]\n",
    "#     daf.at[idx, 'ZipCode'] = data[2]\n",
    "#     daf.at[idx, 'Lat'] = data[1]\n",
    "#     daf.at[idx, 'Long'] = data[0]\n",
    "\n",
    "# daf.to_csv(df_dest, index=False)\n",
    "# return"
   ]
  },
  {
   "cell_type": "markdown",
   "metadata": {},
   "source": [
    "#### Brooklyn"
   ]
  },
  {
   "cell_type": "code",
   "execution_count": 9,
   "metadata": {},
   "outputs": [],
   "source": [
    "bk_df = pd.DataFrame(pd.read_csv('bklyn_df.csv'))"
   ]
  },
  {
   "cell_type": "code",
   "execution_count": 11,
   "metadata": {},
   "outputs": [
    {
     "data": {
      "text/plain": [
       "25"
      ]
     },
     "execution_count": 11,
     "metadata": {},
     "output_type": "execute_result"
    }
   ],
   "source": [
    "not_found = 0\n",
    "for idx, row in bk_df.iterrows():\n",
    "    area, lon, lat = row['Area'], row['Long'], row['Lat']\n",
    "    if area.lower() == 'new_dev':\n",
    "        afb = area_form_coord(lon, lat, 'brooklyn')\n",
    "\n",
    "        if afb is None:\n",
    "            not_found+=1\n",
    "        \n",
    "        bk_df.at[idx, 'Area'] = afb\n",
    "\n",
    "not_found"
   ]
  },
  {
   "cell_type": "code",
   "execution_count": 15,
   "metadata": {},
   "outputs": [],
   "source": [
    "bk_df.to_csv('bklyn_df.csv', index=False)"
   ]
  },
  {
   "cell_type": "markdown",
   "metadata": {},
   "source": [
    "#### Bronx"
   ]
  },
  {
   "cell_type": "code",
   "execution_count": 22,
   "metadata": {},
   "outputs": [],
   "source": [
    "bx_df = pd.DataFrame(pd.read_csv('bronx_df.csv'))"
   ]
  },
  {
   "cell_type": "code",
   "execution_count": 21,
   "metadata": {},
   "outputs": [
    {
     "data": {
      "text/plain": [
       "Borough      121\n",
       "Area         121\n",
       "Address      121\n",
       "Num_Beds     121\n",
       "Num_Baths    121\n",
       "Sq-Ft        121\n",
       "Rent         121\n",
       "Long         121\n",
       "Lat          121\n",
       "ZipCode      121\n",
       "dtype: int64"
      ]
     },
     "execution_count": 21,
     "metadata": {},
     "output_type": "execute_result"
    }
   ],
   "source": [
    "bx_df[bx_df['Area'] == 'New_Dev'].count()"
   ]
  },
  {
   "cell_type": "code",
   "execution_count": 23,
   "metadata": {},
   "outputs": [
    {
     "data": {
      "text/plain": [
       "117"
      ]
     },
     "execution_count": 23,
     "metadata": {},
     "output_type": "execute_result"
    }
   ],
   "source": [
    "not_found = 0\n",
    "for idx, row in bx_df.iterrows():\n",
    "    area, lon, lat = row['Area'], row['Long'], row['Lat']\n",
    "    if area.lower() == 'new_dev':\n",
    "        afb = area_form_coord(lon, lat, 'bronx')\n",
    "\n",
    "        if afb is None:\n",
    "            not_found+=1\n",
    "        \n",
    "        bx_df.at[idx, 'Area'] = afb\n",
    "\n",
    "not_found"
   ]
  },
  {
   "cell_type": "code",
   "execution_count": 25,
   "metadata": {},
   "outputs": [],
   "source": [
    "bx_df.to_csv('bronx_df.csv', index=False)"
   ]
  },
  {
   "cell_type": "markdown",
   "metadata": {},
   "source": [
    "#### Manhattan"
   ]
  },
  {
   "cell_type": "code",
   "execution_count": 26,
   "metadata": {},
   "outputs": [],
   "source": [
    "ma_df = pd.DataFrame(pd.read_csv('manhatt_df.csv'))"
   ]
  },
  {
   "cell_type": "code",
   "execution_count": 27,
   "metadata": {},
   "outputs": [
    {
     "data": {
      "text/plain": [
       "Borough      741\n",
       "Area         741\n",
       "Address      741\n",
       "Num_Beds     741\n",
       "Num_Baths    741\n",
       "Sq-Ft        741\n",
       "Rent         741\n",
       "Long         729\n",
       "Lat          729\n",
       "ZipCode      729\n",
       "dtype: int64"
      ]
     },
     "execution_count": 27,
     "metadata": {},
     "output_type": "execute_result"
    }
   ],
   "source": [
    "ma_df[ma_df['Area'] == 'New_Dev'].count()"
   ]
  },
  {
   "cell_type": "code",
   "execution_count": 28,
   "metadata": {},
   "outputs": [
    {
     "data": {
      "text/plain": [
       "356"
      ]
     },
     "execution_count": 28,
     "metadata": {},
     "output_type": "execute_result"
    }
   ],
   "source": [
    "not_found = 0\n",
    "for idx, row in ma_df.iterrows():\n",
    "    area, lon, lat = row['Area'], row['Long'], row['Lat']\n",
    "    if area.lower() == 'new_dev':\n",
    "        afb = area_form_coord(lon, lat, 'manhattan')\n",
    "\n",
    "        if afb is None:\n",
    "            not_found+=1\n",
    "        \n",
    "        ma_df.at[idx, 'Area'] = afb\n",
    "\n",
    "not_found"
   ]
  },
  {
   "cell_type": "code",
   "execution_count": 29,
   "metadata": {},
   "outputs": [],
   "source": [
    "ma_df.to_csv('manhatt_df.csv', index=False)"
   ]
  },
  {
   "cell_type": "markdown",
   "metadata": {},
   "source": [
    "#### Queens"
   ]
  },
  {
   "cell_type": "code",
   "execution_count": 30,
   "metadata": {},
   "outputs": [],
   "source": [
    "qu_df = pd.DataFrame(pd.read_csv('queens_df.csv'))"
   ]
  },
  {
   "cell_type": "code",
   "execution_count": 31,
   "metadata": {},
   "outputs": [
    {
     "data": {
      "text/plain": [
       "Borough      262\n",
       "Area         262\n",
       "Address      262\n",
       "Num_Beds     262\n",
       "Num_Baths    262\n",
       "Sq-Ft        262\n",
       "Rent         262\n",
       "Long         261\n",
       "Lat          261\n",
       "ZipCode      261\n",
       "dtype: int64"
      ]
     },
     "execution_count": 31,
     "metadata": {},
     "output_type": "execute_result"
    }
   ],
   "source": [
    "qu_df[qu_df['Area'] == 'New_Dev'].count()"
   ]
  },
  {
   "cell_type": "code",
   "execution_count": 32,
   "metadata": {},
   "outputs": [
    {
     "data": {
      "text/plain": [
       "1"
      ]
     },
     "execution_count": 32,
     "metadata": {},
     "output_type": "execute_result"
    }
   ],
   "source": [
    "not_found = 0\n",
    "for idx, row in qu_df.iterrows():\n",
    "    area, lon, lat = row['Area'], row['Long'], row['Lat']\n",
    "    if area.lower() == 'new_dev':\n",
    "        afb = area_form_coord(lon, lat, 'queens')\n",
    "\n",
    "        if afb is None:\n",
    "            not_found+=1\n",
    "        \n",
    "        qu_df.at[idx, 'Area'] = afb\n",
    "\n",
    "not_found"
   ]
  },
  {
   "cell_type": "code",
   "execution_count": 33,
   "metadata": {},
   "outputs": [],
   "source": [
    "qu_df.to_csv('queens_df.csv', index=False)"
   ]
  },
  {
   "cell_type": "markdown",
   "metadata": {},
   "source": [
    "#### Staten-Island"
   ]
  },
  {
   "cell_type": "code",
   "execution_count": 34,
   "metadata": {},
   "outputs": [],
   "source": [
    "st_df = pd.DataFrame(pd.read_csv('stat_df.csv'))"
   ]
  },
  {
   "cell_type": "code",
   "execution_count": 35,
   "metadata": {},
   "outputs": [
    {
     "data": {
      "text/plain": [
       "Borough      0\n",
       "Area         0\n",
       "Address      0\n",
       "Num_Beds     0\n",
       "Num_Baths    0\n",
       "Sq-Ft        0\n",
       "Rent         0\n",
       "Long         0\n",
       "Lat          0\n",
       "ZipCode      0\n",
       "dtype: int64"
      ]
     },
     "execution_count": 35,
     "metadata": {},
     "output_type": "execute_result"
    }
   ],
   "source": [
    "st_df[st_df['Area'] == 'New_Dev'].count()"
   ]
  },
  {
   "cell_type": "markdown",
   "metadata": {},
   "source": [
    "### Add Precinct Data"
   ]
  },
  {
   "cell_type": "code",
   "execution_count": null,
   "metadata": {},
   "outputs": [],
   "source": []
  },
  {
   "cell_type": "code",
   "execution_count": 61,
   "metadata": {},
   "outputs": [],
   "source": [
    "boro_dfs = ['stat_df.csv', 'queens_df.csv', 'manhatt_df.csv', 'bronx_df.csv', 'bklyn_df.csv']\n",
    "# boro_dfs = ['stat_df.csv']\n",
    "boros = ['staten-island', 'queens', 'manhattan', 'bronx', 'brooklyn']\n"
   ]
  },
  {
   "cell_type": "code",
   "execution_count": 41,
   "metadata": {},
   "outputs": [],
   "source": [
    "def pct_from_bounds(long, lat, boro):\n",
    "    pt = Point(long, lat)\n",
    "\n",
    "    pcts = pbounds[boro].keys()\n",
    "\n",
    "    for pct in pcts:\n",
    "        pcoords = pbounds[boro][pct]['geometry']['coordinates'][0][0]\n",
    "        coords = [tuple(x) for x in pcoords]\n",
    "        poly = Polygon(coords)\n",
    "\n",
    "        if poly.contains(pt):\n",
    "            return pct\n",
    "        elif poly.touches(pt):\n",
    "            return pct\n",
    "    \n",
    "    return None"
   ]
  },
  {
   "cell_type": "code",
   "execution_count": 42,
   "metadata": {},
   "outputs": [],
   "source": [
    "for bdf in boro_dfs:\n",
    "    cur_df = pd.DataFrame(pd.read_csv(bdf))\n",
    "    cur_df['Precinct'] = None\n",
    "\n",
    "    for idx, row in cur_df.iterrows():\n",
    "        borough, lon, lat = row['Borough'], row['Long'], row['Lat']\n",
    "        if lon is not None and lat is not None:\n",
    "            pct_num = pct_from_bounds(lon, lat, borough)\n",
    "\n",
    "            cur_df.at[idx, 'Precinct'] = pct_num\n",
    "    \n",
    "    cur_df.to_csv(bdf, index=False)\n",
    "\n",
    "    "
   ]
  },
  {
   "cell_type": "markdown",
   "metadata": {},
   "source": [
    "#### For instances missing precinct and neighbourhood name, use grid search to approximate."
   ]
  },
  {
   "cell_type": "code",
   "execution_count": 48,
   "metadata": {},
   "outputs": [],
   "source": [
    "# first create search trees\n",
    "bmap_ckds = {}"
   ]
  },
  {
   "cell_type": "code",
   "execution_count": 49,
   "metadata": {},
   "outputs": [],
   "source": [
    "def create_ckdtrees(bmap, boro):\n",
    "    if boro not in bmap:\n",
    "        bmap[boro] = {}\n",
    "\n",
    "    for pct in pbounds[boro]:\n",
    "        bmap[boro][pct] = cKDTree(pbounds[boro][pct]['geometry']['coordinates'][0][0])\n",
    "    \n",
    "    return"
   ]
  },
  {
   "cell_type": "code",
   "execution_count": 50,
   "metadata": {},
   "outputs": [],
   "source": [
    "for b in boros:\n",
    "    create_ckdtrees(bmap_ckds, b)"
   ]
  },
  {
   "cell_type": "code",
   "execution_count": 81,
   "metadata": {},
   "outputs": [],
   "source": [
    "def pct_grid_search(boro, lon, lat):\n",
    "    nearests = []\n",
    "\n",
    "    for pct in bmap_ckds[boro]:\n",
    "        dist, _ = bmap_ckds[boro][pct].query([lon, lat], k=1)\n",
    "        nearests.append([dist, pct])\n",
    "    \n",
    "    nearests.sort(key = lambda x: x[0])\n",
    "\n",
    "    return nearests[0][1]\n",
    "\n",
    "    "
   ]
  },
  {
   "cell_type": "code",
   "execution_count": 82,
   "metadata": {},
   "outputs": [
    {
     "name": "stdout",
     "output_type": "stream",
     "text": [
      "22\n",
      "1245\n",
      "2874\n",
      "288\n",
      "521\n"
     ]
    }
   ],
   "source": [
    "for bdf in boro_dfs:\n",
    "    cur_df = pd.DataFrame(pd.read_csv(bdf))\n",
    "\n",
    "    # cur_df['Precinct'].replace(r'^\\s*$', np.nan, regex=True, inplace=True)\n",
    "    print(cur_df['Precinct'].isna().sum())\n",
    "\n",
    "    for idx, row in cur_df.iterrows():\n",
    "        borough, lon, lat, precinct = row['Borough'], row['Long'], row['Lat'], row['Precinct']\n",
    "        if not np.isnan(lon) and not np.isnan(lat) and np.isnan(precinct):\n",
    "            pct_num = pct_grid_search(borough, lon, lat)\n",
    "            cur_df.at[idx, 'Precinct'] = pct_num\n",
    "    \n",
    "    cur_df.to_csv(bdf, index=False)"
   ]
  }
 ],
 "metadata": {
  "interpreter": {
   "hash": "c5955eb65c5dc112211fcc00164b6f01590904a8555f25d74f588620738db32e"
  },
  "kernelspec": {
   "display_name": "Python 3.9.4 ('ai')",
   "language": "python",
   "name": "python3"
  },
  "language_info": {
   "codemirror_mode": {
    "name": "ipython",
    "version": 3
   },
   "file_extension": ".py",
   "mimetype": "text/x-python",
   "name": "python",
   "nbconvert_exporter": "python",
   "pygments_lexer": "ipython3",
   "version": "3.9.4"
  },
  "orig_nbformat": 4
 },
 "nbformat": 4,
 "nbformat_minor": 2
}
