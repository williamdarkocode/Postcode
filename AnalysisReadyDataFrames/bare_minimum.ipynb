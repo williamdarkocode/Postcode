{
 "cells": [
  {
   "cell_type": "code",
   "execution_count": 2,
   "metadata": {},
   "outputs": [],
   "source": [
    "import pandas as pd\n",
    "import pandasql as psql\n",
    "import numpy as np\n",
    "import json\n",
    "from shapely.geometry import Point\n",
    "from shapely.geometry import Polygon"
   ]
  },
  {
   "cell_type": "code",
   "execution_count": 3,
   "metadata": {},
   "outputs": [],
   "source": [
    "neigh_bounds = '../SimplifiedGeoJson/nbounds_by_boro.json'\n",
    "pct_bounds = '../SimplifiedGeoJson/precinct_bounds_by_borough.json'"
   ]
  },
  {
   "cell_type": "code",
   "execution_count": 4,
   "metadata": {},
   "outputs": [],
   "source": [
    "with open(neigh_bounds, 'r') as fp:\n",
    "    nbounds = json.load(fp)"
   ]
  },
  {
   "cell_type": "code",
   "execution_count": 5,
   "metadata": {},
   "outputs": [],
   "source": [
    "with open(pct_bounds, 'r') as fp:\n",
    "    pbounds = json.load(fp)"
   ]
  },
  {
   "cell_type": "markdown",
   "metadata": {},
   "source": [
    "### Get neighbourhood name for listings currently listed as \"New Dev\""
   ]
  },
  {
   "cell_type": "code",
   "execution_count": 8,
   "metadata": {},
   "outputs": [],
   "source": [
    "def area_form_coord(long, lat, boro):\n",
    "    pt = Point(long, lat)\n",
    "\n",
    "    for neigh in nbounds[boro]:\n",
    "        ncoords = neigh['coords'][0][0]\n",
    "        coords = [tuple(x) for x in ncoords]\n",
    "        poly = Polygon(coords)\n",
    "\n",
    "        if poly.contains(pt):\n",
    "            return neigh['name']\n",
    "    \n",
    "    return None"
   ]
  },
  {
   "cell_type": "code",
   "execution_count": null,
   "metadata": {},
   "outputs": [],
   "source": [
    "#     daf.at[idx, 'Address'] = data[-1]\n",
    "#     daf.at[idx, 'ZipCode'] = data[2]\n",
    "#     daf.at[idx, 'Lat'] = data[1]\n",
    "#     daf.at[idx, 'Long'] = data[0]\n",
    "\n",
    "# daf.to_csv(df_dest, index=False)\n",
    "# return"
   ]
  },
  {
   "cell_type": "markdown",
   "metadata": {},
   "source": [
    "#### Brooklyn"
   ]
  },
  {
   "cell_type": "code",
   "execution_count": 9,
   "metadata": {},
   "outputs": [],
   "source": [
    "bk_df = pd.DataFrame(pd.read_csv('bklyn_df.csv'))"
   ]
  },
  {
   "cell_type": "code",
   "execution_count": 11,
   "metadata": {},
   "outputs": [
    {
     "data": {
      "text/plain": [
       "25"
      ]
     },
     "execution_count": 11,
     "metadata": {},
     "output_type": "execute_result"
    }
   ],
   "source": [
    "not_found = 0\n",
    "for idx, row in bk_df.iterrows():\n",
    "    area, lon, lat = row['Area'], row['Long'], row['Lat']\n",
    "    if area.lower() == 'new_dev':\n",
    "        afb = area_form_coord(lon, lat, 'brooklyn')\n",
    "\n",
    "        if afb is None:\n",
    "            not_found+=1\n",
    "        \n",
    "        bk_df.at[idx, 'Area'] = afb\n",
    "\n",
    "not_found"
   ]
  },
  {
   "cell_type": "code",
   "execution_count": 15,
   "metadata": {},
   "outputs": [],
   "source": [
    "bk_df.to_csv('bklyn_df.csv', index=False)"
   ]
  },
  {
   "cell_type": "markdown",
   "metadata": {},
   "source": [
    "#### Bronx"
   ]
  },
  {
   "cell_type": "code",
   "execution_count": 22,
   "metadata": {},
   "outputs": [],
   "source": [
    "bx_df = pd.DataFrame(pd.read_csv('bronx_df.csv'))"
   ]
  },
  {
   "cell_type": "code",
   "execution_count": 21,
   "metadata": {},
   "outputs": [
    {
     "data": {
      "text/plain": [
       "Borough      121\n",
       "Area         121\n",
       "Address      121\n",
       "Num_Beds     121\n",
       "Num_Baths    121\n",
       "Sq-Ft        121\n",
       "Rent         121\n",
       "Long         121\n",
       "Lat          121\n",
       "ZipCode      121\n",
       "dtype: int64"
      ]
     },
     "execution_count": 21,
     "metadata": {},
     "output_type": "execute_result"
    }
   ],
   "source": [
    "bx_df[bx_df['Area'] == 'New_Dev'].count()"
   ]
  },
  {
   "cell_type": "code",
   "execution_count": 23,
   "metadata": {},
   "outputs": [
    {
     "data": {
      "text/plain": [
       "117"
      ]
     },
     "execution_count": 23,
     "metadata": {},
     "output_type": "execute_result"
    }
   ],
   "source": [
    "not_found = 0\n",
    "for idx, row in bx_df.iterrows():\n",
    "    area, lon, lat = row['Area'], row['Long'], row['Lat']\n",
    "    if area.lower() == 'new_dev':\n",
    "        afb = area_form_coord(lon, lat, 'bronx')\n",
    "\n",
    "        if afb is None:\n",
    "            not_found+=1\n",
    "        \n",
    "        bx_df.at[idx, 'Area'] = afb\n",
    "\n",
    "not_found"
   ]
  },
  {
   "cell_type": "code",
   "execution_count": 25,
   "metadata": {},
   "outputs": [],
   "source": [
    "bx_df.to_csv('bronx_df.csv', index=False)"
   ]
  },
  {
   "cell_type": "markdown",
   "metadata": {},
   "source": [
    "#### Manhattan"
   ]
  },
  {
   "cell_type": "code",
   "execution_count": 26,
   "metadata": {},
   "outputs": [],
   "source": [
    "ma_df = pd.DataFrame(pd.read_csv('manhatt_df.csv'))"
   ]
  },
  {
   "cell_type": "code",
   "execution_count": 27,
   "metadata": {},
   "outputs": [
    {
     "data": {
      "text/plain": [
       "Borough      741\n",
       "Area         741\n",
       "Address      741\n",
       "Num_Beds     741\n",
       "Num_Baths    741\n",
       "Sq-Ft        741\n",
       "Rent         741\n",
       "Long         729\n",
       "Lat          729\n",
       "ZipCode      729\n",
       "dtype: int64"
      ]
     },
     "execution_count": 27,
     "metadata": {},
     "output_type": "execute_result"
    }
   ],
   "source": [
    "ma_df[ma_df['Area'] == 'New_Dev'].count()"
   ]
  },
  {
   "cell_type": "code",
   "execution_count": 28,
   "metadata": {},
   "outputs": [
    {
     "data": {
      "text/plain": [
       "356"
      ]
     },
     "execution_count": 28,
     "metadata": {},
     "output_type": "execute_result"
    }
   ],
   "source": [
    "not_found = 0\n",
    "for idx, row in ma_df.iterrows():\n",
    "    area, lon, lat = row['Area'], row['Long'], row['Lat']\n",
    "    if area.lower() == 'new_dev':\n",
    "        afb = area_form_coord(lon, lat, 'manhattan')\n",
    "\n",
    "        if afb is None:\n",
    "            not_found+=1\n",
    "        \n",
    "        ma_df.at[idx, 'Area'] = afb\n",
    "\n",
    "not_found"
   ]
  },
  {
   "cell_type": "code",
   "execution_count": 29,
   "metadata": {},
   "outputs": [],
   "source": [
    "ma_df.to_csv('manhatt_df.csv', index=False)"
   ]
  },
  {
   "cell_type": "markdown",
   "metadata": {},
   "source": [
    "#### Queens"
   ]
  },
  {
   "cell_type": "code",
   "execution_count": 30,
   "metadata": {},
   "outputs": [],
   "source": [
    "qu_df = pd.DataFrame(pd.read_csv('queens_df.csv'))"
   ]
  },
  {
   "cell_type": "code",
   "execution_count": 31,
   "metadata": {},
   "outputs": [
    {
     "data": {
      "text/plain": [
       "Borough      262\n",
       "Area         262\n",
       "Address      262\n",
       "Num_Beds     262\n",
       "Num_Baths    262\n",
       "Sq-Ft        262\n",
       "Rent         262\n",
       "Long         261\n",
       "Lat          261\n",
       "ZipCode      261\n",
       "dtype: int64"
      ]
     },
     "execution_count": 31,
     "metadata": {},
     "output_type": "execute_result"
    }
   ],
   "source": [
    "qu_df[qu_df['Area'] == 'New_Dev'].count()"
   ]
  },
  {
   "cell_type": "code",
   "execution_count": 32,
   "metadata": {},
   "outputs": [
    {
     "data": {
      "text/plain": [
       "1"
      ]
     },
     "execution_count": 32,
     "metadata": {},
     "output_type": "execute_result"
    }
   ],
   "source": [
    "not_found = 0\n",
    "for idx, row in qu_df.iterrows():\n",
    "    area, lon, lat = row['Area'], row['Long'], row['Lat']\n",
    "    if area.lower() == 'new_dev':\n",
    "        afb = area_form_coord(lon, lat, 'queens')\n",
    "\n",
    "        if afb is None:\n",
    "            not_found+=1\n",
    "        \n",
    "        qu_df.at[idx, 'Area'] = afb\n",
    "\n",
    "not_found"
   ]
  },
  {
   "cell_type": "code",
   "execution_count": 33,
   "metadata": {},
   "outputs": [],
   "source": [
    "qu_df.to_csv('queens_df.csv', index=False)"
   ]
  },
  {
   "cell_type": "markdown",
   "metadata": {},
   "source": [
    "#### Staten-Island"
   ]
  },
  {
   "cell_type": "code",
   "execution_count": 34,
   "metadata": {},
   "outputs": [],
   "source": [
    "st_df = pd.DataFrame(pd.read_csv('stat_df.csv'))"
   ]
  },
  {
   "cell_type": "code",
   "execution_count": 35,
   "metadata": {},
   "outputs": [
    {
     "data": {
      "text/plain": [
       "Borough      0\n",
       "Area         0\n",
       "Address      0\n",
       "Num_Beds     0\n",
       "Num_Baths    0\n",
       "Sq-Ft        0\n",
       "Rent         0\n",
       "Long         0\n",
       "Lat          0\n",
       "ZipCode      0\n",
       "dtype: int64"
      ]
     },
     "execution_count": 35,
     "metadata": {},
     "output_type": "execute_result"
    }
   ],
   "source": [
    "st_df[st_df['Area'] == 'New_Dev'].count()"
   ]
  }
 ],
 "metadata": {
  "interpreter": {
   "hash": "c5955eb65c5dc112211fcc00164b6f01590904a8555f25d74f588620738db32e"
  },
  "kernelspec": {
   "display_name": "Python 3.9.4 ('ai')",
   "language": "python",
   "name": "python3"
  },
  "language_info": {
   "codemirror_mode": {
    "name": "ipython",
    "version": 3
   },
   "file_extension": ".py",
   "mimetype": "text/x-python",
   "name": "python",
   "nbconvert_exporter": "python",
   "pygments_lexer": "ipython3",
   "version": "3.9.4"
  },
  "orig_nbformat": 4
 },
 "nbformat": 4,
 "nbformat_minor": 2
}
