{
 "cells": [
  {
   "cell_type": "code",
   "execution_count": 1,
   "metadata": {},
   "outputs": [],
   "source": [
    "import pandas as pd\n",
    "import pandasql as psql\n",
    "import numpy as np\n",
    "import json\n",
    "from shapely.geometry import Point\n",
    "from shapely.geometry import Polygon"
   ]
  },
  {
   "cell_type": "code",
   "execution_count": 6,
   "metadata": {},
   "outputs": [],
   "source": [
    "neigh_bounds = '../SimplifiedGeoJson/nbounds_by_boro.json'\n",
    "pct_bounds = '../SimplifiedGeoJson/precinct_bounds_by_borough.json'"
   ]
  },
  {
   "cell_type": "code",
   "execution_count": 7,
   "metadata": {},
   "outputs": [],
   "source": [
    "with open(neigh_bounds, 'r') as fp:\n",
    "    nbounds = json.load(fp)"
   ]
  },
  {
   "cell_type": "code",
   "execution_count": 5,
   "metadata": {},
   "outputs": [],
   "source": [
    "with open(pct_bounds, 'r') as fp:\n",
    "    pbounds = json.load(fp)"
   ]
  },
  {
   "cell_type": "markdown",
   "metadata": {},
   "source": [
    "### Get neighbourhood name for listings currently listed as \"New Dev\""
   ]
  },
  {
   "cell_type": "code",
   "execution_count": null,
   "metadata": {},
   "outputs": [],
   "source": [
    "def area_form_coord(long, lat, boro):\n",
    "    pt = Point(long, lat)\n",
    "\n",
    "    for neigh in nbounds[boro]:\n",
    "        ncoords = neigh['coords'][0][0]\n",
    "        coords = [tuple(x) for x in ncoords]\n",
    "        poly = Polygon(coords)\n",
    "\n",
    "        if poly.contains(pt):\n",
    "            return neigh['name']\n",
    "    \n",
    "    return None"
   ]
  },
  {
   "cell_type": "markdown",
   "metadata": {},
   "source": [
    "#### Brooklyn"
   ]
  },
  {
   "cell_type": "code",
   "execution_count": 3,
   "metadata": {},
   "outputs": [],
   "source": [
    "bk_df = pd.DataFrame(pd.read_csv('bklyn_df.csv'))"
   ]
  },
  {
   "cell_type": "markdown",
   "metadata": {},
   "source": [
    "#### Bronx"
   ]
  },
  {
   "cell_type": "markdown",
   "metadata": {},
   "source": [
    "#### Manhattan"
   ]
  },
  {
   "cell_type": "markdown",
   "metadata": {},
   "source": [
    "#### Queens"
   ]
  },
  {
   "cell_type": "markdown",
   "metadata": {},
   "source": [
    "#### Staten-Island"
   ]
  }
 ],
 "metadata": {
  "interpreter": {
   "hash": "c5955eb65c5dc112211fcc00164b6f01590904a8555f25d74f588620738db32e"
  },
  "kernelspec": {
   "display_name": "Python 3.9.4 ('ai')",
   "language": "python",
   "name": "python3"
  },
  "language_info": {
   "codemirror_mode": {
    "name": "ipython",
    "version": 3
   },
   "file_extension": ".py",
   "mimetype": "text/x-python",
   "name": "python",
   "nbconvert_exporter": "python",
   "pygments_lexer": "ipython3",
   "version": "3.9.4"
  },
  "orig_nbformat": 4
 },
 "nbformat": 4,
 "nbformat_minor": 2
}
