{
 "cells": [
  {
   "cell_type": "code",
   "execution_count": 1,
   "metadata": {},
   "outputs": [],
   "source": [
    "import pandas as pd\n",
    "import numpy as np\n",
    "import matplotlib.pyplot as plt\n",
    "import seaborn as sns\n",
    "import json\n",
    "from scipy.spatial import cKDTree"
   ]
  },
  {
   "cell_type": "code",
   "execution_count": 2,
   "metadata": {},
   "outputs": [],
   "source": [
    "boro_dfs = ['stat_df.csv', 'queens_df.csv', 'manhatt_df.csv', 'bronx_df.csv', 'bklyn_df.csv']\n",
    "boros = ['staten-island', 'queens', 'manhattan', 'bronx', 'brooklyn']\n"
   ]
  },
  {
   "cell_type": "code",
   "execution_count": 3,
   "metadata": {},
   "outputs": [],
   "source": [
    "lines_agg = '../SimplifiedGeoJson/sublines_aggregate.json'\n",
    "stations = '../SimplifiedGeoJson/reduced_stations.json'\n",
    "entrances = '../SimplifiedGeoJson/reduced_subentr.json'"
   ]
  },
  {
   "cell_type": "code",
   "execution_count": 4,
   "metadata": {},
   "outputs": [],
   "source": [
    "with open(lines_agg, 'r') as fp:\n",
    "    lines_data = json.load(fp)\n",
    "\n",
    "with open(stations, 'r') as fp:\n",
    "    stations_data = json.load(fp)\n",
    "\n",
    "with open(entrances, 'r') as fp:\n",
    "    entrance_data = json.load(fp)"
   ]
  },
  {
   "cell_type": "code",
   "execution_count": 5,
   "metadata": {},
   "outputs": [],
   "source": [
    "# create lines cdk\n",
    "lines_cdk = {}\n",
    "for line in lines_data:\n",
    "    lines_cdk[line] = cKDTree(lines_data[line])\n"
   ]
  },
  {
   "cell_type": "code",
   "execution_count": 7,
   "metadata": {},
   "outputs": [],
   "source": [
    "agg_entrances = []\n",
    "for entr in entrance_data['features']:\n",
    "    agg_entrances.append(entr['coords'])"
   ]
  },
  {
   "cell_type": "code",
   "execution_count": 9,
   "metadata": {},
   "outputs": [],
   "source": [
    "entrances_ckd = cKDTree(agg_entrances)"
   ]
  },
  {
   "cell_type": "code",
   "execution_count": 10,
   "metadata": {},
   "outputs": [],
   "source": [
    "# stations ckd\n",
    "stations_agg = []\n",
    "for s in stations_data['features']:\n",
    "    stations_agg.append(s['coords'])"
   ]
  },
  {
   "cell_type": "code",
   "execution_count": 12,
   "metadata": {},
   "outputs": [],
   "source": [
    "stations_ckd = cKDTree(stations_agg)"
   ]
  },
  {
   "cell_type": "markdown",
   "metadata": {},
   "source": [
    "### Add distance to nearest line"
   ]
  },
  {
   "cell_type": "code",
   "execution_count": 13,
   "metadata": {},
   "outputs": [],
   "source": [
    "def add_dist_to_line(df_path):\n",
    "    cbdf = pd.DataFrame(pd.read_csv(df_path))\n",
    "    cbdf['Dist_To_Line'] = None\n",
    "\n",
    "    for idx, row in cbdf.iterrows():\n",
    "        lon, lat, line_name = row['Long'], row['Lat'], row['Train_Line']\n",
    "        dist,_ = lines_cdk[line_name].query([lon, lat], k=1)\n",
    "        cbdf.at[idx, 'Dist_To_Line'] = dist\n",
    "    \n",
    "    cbdf.to_csv(df_path, index=False)\n",
    "    return"
   ]
  },
  {
   "cell_type": "code",
   "execution_count": 14,
   "metadata": {},
   "outputs": [],
   "source": [
    "for df in boro_dfs:\n",
    "    add_dist_to_line(df)"
   ]
  },
  {
   "cell_type": "markdown",
   "metadata": {},
   "source": [
    "### Add distance to nearest station"
   ]
  },
  {
   "cell_type": "code",
   "execution_count": 15,
   "metadata": {},
   "outputs": [],
   "source": [
    "def dist_to_station(df_path):\n",
    "    cbdf = pd.DataFrame(pd.read_csv(df_path))\n",
    "    cbdf['Dist_To_Station'] = None\n",
    "\n",
    "    for idx, row in cbdf.iterrows():\n",
    "        lon, lat = row['Long'], row['Lat']\n",
    "        dist,_ = stations_ckd.query([lon, lat], k=1)\n",
    "        cbdf.at[idx, 'Dist_To_Station'] = dist\n",
    "    \n",
    "    cbdf.to_csv(df_path, index=False)\n",
    "    return"
   ]
  },
  {
   "cell_type": "code",
   "execution_count": 16,
   "metadata": {},
   "outputs": [],
   "source": [
    "for df in boro_dfs:\n",
    "    dist_to_station(df)"
   ]
  },
  {
   "cell_type": "markdown",
   "metadata": {},
   "source": [
    "### Add distance to nearest train entrance"
   ]
  },
  {
   "cell_type": "code",
   "execution_count": 17,
   "metadata": {},
   "outputs": [],
   "source": [
    "def dist_to_entrance(df_path):\n",
    "    cbdf = pd.DataFrame(pd.read_csv(df_path))\n",
    "    cbdf['Dist_To_Entrance'] = None\n",
    "\n",
    "    for idx, row in cbdf.iterrows():\n",
    "        lon, lat = row['Long'], row['Lat']\n",
    "        dist,_ = entrances_ckd.query([lon, lat], k=1)\n",
    "        cbdf.at[idx, 'Dist_To_Entrance'] = dist\n",
    "    \n",
    "    cbdf.to_csv(df_path, index=False)\n",
    "    return"
   ]
  },
  {
   "cell_type": "code",
   "execution_count": null,
   "metadata": {},
   "outputs": [],
   "source": [
    "for df in boro_dfs:\n",
    "    dist_to_entrance(df)"
   ]
  }
 ],
 "metadata": {
  "interpreter": {
   "hash": "c5955eb65c5dc112211fcc00164b6f01590904a8555f25d74f588620738db32e"
  },
  "kernelspec": {
   "display_name": "Python 3.9.4 ('ai')",
   "language": "python",
   "name": "python3"
  },
  "language_info": {
   "codemirror_mode": {
    "name": "ipython",
    "version": 3
   },
   "file_extension": ".py",
   "mimetype": "text/x-python",
   "name": "python",
   "nbconvert_exporter": "python",
   "pygments_lexer": "ipython3",
   "version": "3.9.4"
  },
  "orig_nbformat": 4
 },
 "nbformat": 4,
 "nbformat_minor": 2
}
