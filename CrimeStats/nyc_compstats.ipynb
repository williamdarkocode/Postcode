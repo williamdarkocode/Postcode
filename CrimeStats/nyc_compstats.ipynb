{
 "cells": [
  {
   "cell_type": "code",
   "execution_count": 2,
   "metadata": {},
   "outputs": [],
   "source": [
    "import pandas as pd\n",
    "import numpy as np\n",
    "import pandasql as psql\n",
    "import json"
   ]
  },
  {
   "cell_type": "code",
   "execution_count": 4,
   "metadata": {},
   "outputs": [],
   "source": [
    "# precinct num by borough\n",
    "\n",
    "precinct_by_borogh_enpoints = {\n",
    "    \"manhattan\": {\n",
    "        \"1\": [],\t\n",
    "        \"5\": [],\t\n",
    "        \"6\": [],\t\n",
    "        \"7\": [],\t\n",
    "        \"9\": [],\t\n",
    "        \"10\": [], \t \n",
    "        \"13\": [], \t \n",
    "        \"14\": [], # \"Midtown So. Pct.\": [],\t  \n",
    "        \"17\": [], \t \n",
    "        \"18\": [], # \"Midtown No. Pct.\": [],\t \n",
    "        \"19\": [], \t \n",
    "        \"20\": [], \t \n",
    "        \"22\": [], # \"Central Park Pct.\": [],\t\n",
    "        \"23\": [], \t\n",
    "        \"24\": [], \t\n",
    "        \"25\": [], \t\n",
    "        \"26\": [], \n",
    "        \"28\": [], \n",
    "        \"30\": [], \n",
    "        \"32\": [], \n",
    "        \"33\": [], \n",
    "        \"34\": []\t\n",
    "    },\n",
    "\n",
    "    \"bronx\": {\n",
    "        \"40\": [], \t\n",
    "        \"41\": [], \t\n",
    "        \"42\": [], \t\n",
    "        \"43\": [], \t\n",
    "        \"44\": [], \t\n",
    "        \"45\": [], \t\n",
    "        \"46\": [], \t\n",
    "        \"47\": [], \t\n",
    "        \"48\": [], \t\n",
    "        \"49\": [], \t \n",
    "        \"50\": [], \t \n",
    "        \"52\": []\t\n",
    "    },\n",
    "\n",
    "    \"brooklyn\": {     \t\n",
    "        \"60\": [],  \n",
    "        \"61\": [], \n",
    "        \"62\": [],  \n",
    "        \"63\": [],\n",
    "        \"66\": [],\n",
    "        \"67\": [],\n",
    "        \"68\": [],\n",
    "        \"69\": [],\n",
    "        \"70\": [], \n",
    "        \"71\": [],\n",
    "        \"72\": [], \n",
    "        \"73\": [],\n",
    "        \"75\": [],\n",
    "        \"76\": [],\n",
    "        \"77\": [],\n",
    "        \"78\": [], \n",
    "        \"79\": [],\n",
    "        \"81\": [], \n",
    "        \"83\": [],\n",
    "        \"84\": [],\n",
    "        \"88\": [],\n",
    "        \"90\": [], \n",
    "        \"94\": []\n",
    "    },\n",
    "\n",
    "    \"queens\": {\n",
    "        \"100\": [],\n",
    "        \"101\": [],\n",
    "        \"102\": [],\n",
    "        \"103\": [],\n",
    "        \"104\": [],\n",
    "        \"105\": [], \n",
    "        \"106\": [],\n",
    "        \"107\": [],\n",
    "        \"108\": [], \n",
    "        \"109\": [],\n",
    "        \"110\": [], \n",
    "        \"111\": [],\n",
    "        \"112\": [],\n",
    "        \"113\": [],\n",
    "        \"114\": [],\n",
    "        \"115\": []\n",
    "    },\n",
    "\n",
    "    \"staten-island\": {\n",
    "        \"120\": [],\n",
    "        \"121\": [],\n",
    "        \"122\": [],\n",
    "        \"123\": []\n",
    "    }\n",
    "}"
   ]
  },
  {
   "cell_type": "code",
   "execution_count": 5,
   "metadata": {},
   "outputs": [],
   "source": [
    "# create precinct by borough bounds file\n",
    "\n",
    "precinct_bounds_filepath = '../SimplifiedGeoJson/precinct_bounds.geojson'\n",
    "\n",
    "with open(precinct_bounds_filepath, 'r') as pct_bnds_file:\n",
    "    pct_bnds_data = json.load(pct_bnds_file)"
   ]
  },
  {
   "cell_type": "code",
   "execution_count": 6,
   "metadata": {},
   "outputs": [],
   "source": [
    "pct_by_boro = {\n",
    "    \"manhattan\": {},\n",
    "    \"bronx\": {},\n",
    "    \"brooklyn\": {},\n",
    "    \"queens\": {},\n",
    "    \"staten-island\": {}\n",
    "}\n",
    "\n",
    "for feat in pct_bnds_data['features']:\n",
    "    pct = feat['properties']['precinct']\n",
    "\n",
    "    for k in precinct_by_borogh_enpoints.keys():\n",
    "        if pct in precinct_by_borogh_enpoints[k]:\n",
    "            pct_by_boro[k][pct] = feat\n",
    "\n"
   ]
  },
  {
   "cell_type": "code",
   "execution_count": 13,
   "metadata": {},
   "outputs": [
    {
     "data": {
      "text/plain": [
       "4"
      ]
     },
     "execution_count": 13,
     "metadata": {},
     "output_type": "execute_result"
    }
   ],
   "source": [
    "len(pct_by_boro['staten-island'].keys())"
   ]
  },
  {
   "cell_type": "code",
   "execution_count": 14,
   "metadata": {},
   "outputs": [],
   "source": [
    "with open('../SimplifiedGeoJson/precinct_bounds_by_borough.json', 'w') as f:\n",
    "    json.dump(pct_by_boro, f)"
   ]
  },
  {
   "cell_type": "code",
   "execution_count": null,
   "metadata": {},
   "outputs": [],
   "source": [
    "# precinct specific data \n",
    "\n",
    "# figuring out general excel download path format\n",
    "\n",
    "# https://www1.nyc.gov/assets/nypd/downloads/excel/crime_statistics/cs-en-us-040pct.xlsx\n",
    "\n",
    "# https://www1.nyc.gov/assets/nypd/downloads/excel/crime_statistics/cs-en-us-041pct.xlsx\n",
    "\n",
    "# https://www1.nyc.gov/assets/nypd/downloads/excel/crime_statistics/cs-en-us-042pct.xlsx\n",
    "\n",
    "# https://www1.nyc.gov/assets/nypd/downloads/excel/crime_statistics/cs-en-us-060pct.xlsx\n",
    "\n",
    "# https://www1.nyc.gov/assets/nypd/downloads/excel/crime_statistics/cs-en-us-094pct.xlsx\n",
    "\n",
    "# https://www1.nyc.gov/assets/nypd/downloads/excel/crime_statistics/cs-en-us-001pct.xlsx\n",
    "\n",
    "# https://www1.nyc.gov/assets/nypd/downloads/excel/crime_statistics/cs-en-us-014pct.xlsx\n",
    "\n",
    "# https://www1.nyc.gov/assets/nypd/downloads/excel/crime_statistics/cs-en-us-123pct.xlsx\n",
    "\n",
    "\n",
    "\n",
    "# general format:\n",
    "\n",
    "# https://www1.nyc.gov/assets/nypd/downloads/excel/crime_statistics/cs-en-us-dddpct.xlsx\n",
    "# replace \"ddd\" with precinct number in 3 digit format"
   ]
  },
  {
   "cell_type": "code",
   "execution_count": 15,
   "metadata": {},
   "outputs": [],
   "source": [
    "# populate endpoint dict\n",
    "for boro in precinct_by_borogh_enpoints:\n",
    "    for pct in precinct_by_borogh_enpoints[boro]:\n",
    "        ddd = pct\n",
    "        if len(ddd) == 1:\n",
    "            ddd = \"00\"+ddd\n",
    "        elif len(ddd) == 2:\n",
    "            ddd = \"0\"+ddd\n",
    "        \n",
    "        pct_xlx_endpoint = f\"https://www1.nyc.gov/assets/nypd/downloads/excel/crime_statistics/cs-en-us-{ddd}pct.xlsx\"\n",
    "        precinct_by_borogh_enpoints[boro][pct] = pct_xlx_endpoint\n",
    "        "
   ]
  },
  {
   "cell_type": "code",
   "execution_count": 17,
   "metadata": {},
   "outputs": [],
   "source": [
    "with open('precinct_xlsx_endpoints.json', 'w') as f:\n",
    "    json.dump(precinct_by_borogh_enpoints, f)"
   ]
  },
  {
   "cell_type": "code",
   "execution_count": null,
   "metadata": {},
   "outputs": [],
   "source": [
    "# bronx xlx\n",
    "# https://www1.nyc.gov/assets/nypd/downloads/excel/crime_statistics/cs-en-us-pbbx.xlsx\n",
    "\n",
    "# brooklyn south xlx\n",
    "# https://www1.nyc.gov/assets/nypd/downloads/excel/crime_statistics/cs-en-us-pbbs.xlsx\n",
    "\n",
    "# brooklyn north xlx\n",
    "# https://www1.nyc.gov/assets/nypd/downloads/excel/crime_statistics/cs-en-us-pbbn.xlsx\n",
    "\n",
    "# manhattan south xlx\n",
    "# https://www1.nyc.gov/assets/nypd/downloads/excel/crime_statistics/cs-en-us-pbms.xlsx\n",
    "\n",
    "# manhattan north xlx\n",
    "# https://www1.nyc.gov/assets/nypd/downloads/excel/crime_statistics/cs-en-us-pbmn.xlsx\n",
    "\n",
    "# queens south xlx\n",
    "# https://www1.nyc.gov/assets/nypd/downloads/excel/crime_statistics/cs-en-us-pbqs.xlsx\n",
    "\n",
    "# queens north xlx\n",
    "# https://www1.nyc.gov/assets/nypd/downloads/excel/crime_statistics/cs-en-us-pbqn.xlsx\n",
    "\n",
    "# staten-island xlx\n",
    "# https://www1.nyc.gov/assets/nypd/downloads/excel/crime_statistics/cs-en-us-pbsi.xlsx\n",
    "\n",
    "\n",
    "# citywide xlx\n",
    "# https://www1.nyc.gov/assets/nypd/downloads/excel/crime_statistics/cs-en-us-city.xlsx"
   ]
  },
  {
   "cell_type": "code",
   "execution_count": 18,
   "metadata": {},
   "outputs": [],
   "source": [
    "# borough specific xlsx endpoints\n",
    "\n",
    "boro_xlsx_codes = {\n",
    "    'bronx': ['bx'],\n",
    "    'brooklyn': ['bs', 'bn'],\n",
    "    'manhattan': ['ms', 'mn'],\n",
    "    'queens': ['qs', 'qn'],\n",
    "    'staten-island': ['si']\n",
    "}\n",
    "\n",
    "borough_xlsx_endpoints = {}"
   ]
  },
  {
   "cell_type": "code",
   "execution_count": 19,
   "metadata": {},
   "outputs": [],
   "source": [
    "for boro in boro_xlsx_codes:\n",
    "    for code in boro_xlsx_codes[boro]:\n",
    "        if boro not in borough_xlsx_endpoints:\n",
    "            borough_xlsx_endpoints[boro] = []\n",
    "        \n",
    "        endpnt = f\"https://www1.nyc.gov/assets/nypd/downloads/excel/crime_statistics/cs-en-us-pb{code}.xlsx\"\n",
    "        borough_xlsx_endpoints[boro].append(endpnt)"
   ]
  },
  {
   "cell_type": "code",
   "execution_count": 20,
   "metadata": {},
   "outputs": [
    {
     "data": {
      "text/plain": [
       "{'bronx': ['https://www1.nyc.gov/assets/nypd/downloads/excel/crime_statistics/cs-en-us-pbbx.xlsx'],\n",
       " 'brooklyn': ['https://www1.nyc.gov/assets/nypd/downloads/excel/crime_statistics/cs-en-us-pbbs.xlsx',\n",
       "  'https://www1.nyc.gov/assets/nypd/downloads/excel/crime_statistics/cs-en-us-pbbn.xlsx'],\n",
       " 'manhattan': ['https://www1.nyc.gov/assets/nypd/downloads/excel/crime_statistics/cs-en-us-pbms.xlsx',\n",
       "  'https://www1.nyc.gov/assets/nypd/downloads/excel/crime_statistics/cs-en-us-pbmn.xlsx'],\n",
       " 'queens': ['https://www1.nyc.gov/assets/nypd/downloads/excel/crime_statistics/cs-en-us-pbqs.xlsx',\n",
       "  'https://www1.nyc.gov/assets/nypd/downloads/excel/crime_statistics/cs-en-us-pbqn.xlsx'],\n",
       " 'staten-island': ['https://www1.nyc.gov/assets/nypd/downloads/excel/crime_statistics/cs-en-us-pbsi.xlsx']}"
      ]
     },
     "execution_count": 20,
     "metadata": {},
     "output_type": "execute_result"
    }
   ],
   "source": [
    "borough_xlsx_endpoints"
   ]
  },
  {
   "cell_type": "code",
   "execution_count": 21,
   "metadata": {},
   "outputs": [],
   "source": [
    "with open('borough_xlsx_endpoints.json', 'w') as f:\n",
    "    json.dump(borough_xlsx_endpoints, f)"
   ]
  },
  {
   "cell_type": "code",
   "execution_count": null,
   "metadata": {},
   "outputs": [],
   "source": []
  }
 ],
 "metadata": {
  "interpreter": {
   "hash": "c5955eb65c5dc112211fcc00164b6f01590904a8555f25d74f588620738db32e"
  },
  "kernelspec": {
   "display_name": "Python 3.9.4 ('ai')",
   "language": "python",
   "name": "python3"
  },
  "language_info": {
   "codemirror_mode": {
    "name": "ipython",
    "version": 3
   },
   "file_extension": ".py",
   "mimetype": "text/x-python",
   "name": "python",
   "nbconvert_exporter": "python",
   "pygments_lexer": "ipython3",
   "version": "3.9.4"
  },
  "orig_nbformat": 4
 },
 "nbformat": 4,
 "nbformat_minor": 2
}
