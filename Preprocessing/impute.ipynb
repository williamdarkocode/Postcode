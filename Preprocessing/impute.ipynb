{
 "cells": [
  {
   "cell_type": "code",
   "execution_count": 2,
   "metadata": {},
   "outputs": [],
   "source": [
    "import pandas as pd\n",
    "import numpy as np\n",
    "import matplotlib.pyplot as plt\n",
    "import math\n",
    "from scipy import stats\n",
    "\n",
    "from sklearn.linear_model import LinearRegression\n",
    "from sklearn.model_selection import train_test_split\n",
    "from sklearn.preprocessing import StandardScaler\n",
    "\n",
    "import re"
   ]
  },
  {
   "cell_type": "code",
   "execution_count": 3,
   "metadata": {},
   "outputs": [],
   "source": [
    "data_path = \"./main_nyc_rent_float_vals.csv\"\n",
    "\n",
    "fit_df = pd.DataFrame(pd.read_csv('./fit_toy_set.csv'))"
   ]
  },
  {
   "cell_type": "code",
   "execution_count": 4,
   "metadata": {},
   "outputs": [
    {
     "data": {
      "text/plain": [
       "LinearRegression()"
      ]
     },
     "execution_count": 4,
     "metadata": {},
     "output_type": "execute_result"
    }
   ],
   "source": [
    "# impute missing sq-ft data\n",
    "\n",
    "X = fit_df[['Num_Beds', 'Num_Baths', 'Rent']]\n",
    "y = fit_df[['Sq-Ft']]\n",
    "\n",
    "x_train, x_test, y_train, y_test = train_test_split(X,y,test_size=.3,random_state=1)\n",
    "\n",
    "model = LinearRegression()\n",
    "model.fit(x_train, y_train)\n"
   ]
  },
  {
   "cell_type": "code",
   "execution_count": 5,
   "metadata": {},
   "outputs": [
    {
     "name": "stdout",
     "output_type": "stream",
     "text": [
      "0.8762176895226317\n",
      "Predicted: [ 520.72  735.95 1275.4   693.59 1215.49  682.14  861.03  683.77  528.08\n",
      "  645.59 1589.57  654.3   939.49  752.47  525.62  851.22 1447.71  521.53\n",
      " 1447.71  820.52]\n",
      "Actual:  [ 535.25  691.5  1284.25  500.   1294.25  754.    893.    635.    535.25\n",
      "  636.   1400.    809.    991.    691.5   500.    884.75 1292.5   535.25\n",
      " 1292.5   631.  ]\n"
     ]
    }
   ],
   "source": [
    "print(model.score(x_test, y_test))\n",
    "\n",
    "preds = model.predict(x_test).round(2).flatten()\n",
    "actual = y_test.to_numpy().flatten()\n",
    "\n",
    "print('Predicted:', preds[:20])\n",
    "print('Actual: ', actual[:20])"
   ]
  },
  {
   "cell_type": "code",
   "execution_count": 6,
   "metadata": {},
   "outputs": [
    {
     "data": {
      "text/plain": [
       "(75.43828522435494, 84.32754430914208)"
      ]
     },
     "execution_count": 6,
     "metadata": {},
     "output_type": "execute_result"
    }
   ],
   "source": [
    "confidence = 0.95\n",
    "\n",
    "abs_errors = abs(preds - actual)\n",
    "stats.t.interval(confidence, len(abs_errors)-1, \n",
    "                         loc=abs_errors.mean(), \n",
    "                         scale=stats.sem(abs_errors))"
   ]
  },
  {
   "cell_type": "code",
   "execution_count": 7,
   "metadata": {},
   "outputs": [],
   "source": [
    "bronx = \"./CombinedData/bronxcombined.csv\"\n",
    "brooklyn = \"./CombinedData/brooklyncombined.csv\"\n",
    "manhattan = \"./CombinedData/manhattancombined.csv\"\n",
    "staten = \"./CombinedData/statenislandcombined.csv\"\n",
    "queens = \"./CombinedData/queenscombined.csv\"\n",
    "\n",
    "bronx_df = pd.DataFrame(pd.read_csv(bronx))\n",
    "brook_df = pd.DataFrame(pd.read_csv(brooklyn))\n",
    "manhat_df = pd.DataFrame(pd.read_csv(manhattan))\n",
    "queens_df = pd.DataFrame(pd.read_csv(queens))\n",
    "staten_df = pd.DataFrame(pd.read_csv(staten))"
   ]
  },
  {
   "cell_type": "code",
   "execution_count": 8,
   "metadata": {},
   "outputs": [],
   "source": [
    "def preprocess_sqft(sqft):\n",
    "    sqft = str(sqft)\n",
    "    sqft = re.sub(\"\\+\", \"\", sqft)\n",
    "    sqft = re.sub(\",\", \"\", sqft)\n",
    "    return sqft"
   ]
  },
  {
   "cell_type": "code",
   "execution_count": 9,
   "metadata": {},
   "outputs": [
    {
     "name": "stdout",
     "output_type": "stream",
     "text": [
      "1.000\n",
      "1.0\n"
     ]
    }
   ],
   "source": [
    "ans = preprocess_sqft(',1+.000')\n",
    "print(ans)\n",
    "print(float(ans))"
   ]
  },
  {
   "cell_type": "code",
   "execution_count": 10,
   "metadata": {},
   "outputs": [],
   "source": [
    "bronx_df['Sq-Ft'] = bronx_df['Sq-Ft'].apply(lambda x:float(preprocess_sqft(x)))\n",
    "brook_df['Sq-Ft'] = brook_df['Sq-Ft'].apply(lambda x:float(preprocess_sqft(x)))\n",
    "manhat_df['Sq-Ft'] = manhat_df['Sq-Ft'].apply(lambda x:float(preprocess_sqft(x)))\n",
    "queens_df['Sq-Ft'] = queens_df['Sq-Ft'].apply(lambda x:float(preprocess_sqft(x)))\n",
    "staten_df['Sq-Ft'] = staten_df['Sq-Ft'].apply(lambda x:float(preprocess_sqft(x)))"
   ]
  },
  {
   "cell_type": "code",
   "execution_count": 11,
   "metadata": {},
   "outputs": [],
   "source": [
    "bronx_df['Num_Beds'] = bronx_df['Num_Beds'].apply(lambda x:float(preprocess_sqft(x)))\n",
    "brook_df['Num_Beds'] = brook_df['Num_Beds'].apply(lambda x:float(preprocess_sqft(x)))\n",
    "manhat_df['Num_Beds'] = manhat_df['Num_Beds'].apply(lambda x:float(preprocess_sqft(x)))\n",
    "queens_df['Num_Beds'] = queens_df['Num_Beds'].apply(lambda x:float(preprocess_sqft(x)))\n",
    "staten_df['Num_Beds'] = staten_df['Num_Beds'].apply(lambda x:float(preprocess_sqft(x)))"
   ]
  },
  {
   "cell_type": "code",
   "execution_count": 12,
   "metadata": {},
   "outputs": [],
   "source": [
    "bronx_df['Num_Baths'] = bronx_df['Num_Baths'].apply(lambda x:float(preprocess_sqft(x)))\n",
    "brook_df['Num_Baths'] = brook_df['Num_Baths'].apply(lambda x:float(preprocess_sqft(x)))\n",
    "manhat_df['Num_Baths'] = manhat_df['Num_Baths'].apply(lambda x:float(preprocess_sqft(x)))\n",
    "queens_df['Num_Baths'] = queens_df['Num_Baths'].apply(lambda x:float(preprocess_sqft(x)))\n",
    "staten_df['Num_Baths'] = staten_df['Num_Baths'].apply(lambda x:float(preprocess_sqft(x)))"
   ]
  },
  {
   "cell_type": "code",
   "execution_count": 13,
   "metadata": {},
   "outputs": [],
   "source": [
    "# fill in missing square feet\n",
    "predictors = ['Num_Beds', 'Num_Baths', 'Rent']\n",
    "\n",
    "bronx_preds = model.predict(bronx_df[predictors]).flatten().round(2)\n",
    "brook_preds = model.predict(brook_df[predictors]).flatten().round(2)\n",
    "manhat_preds = model.predict(manhat_df[predictors]).flatten().round(2)\n",
    "queens_preds = model.predict(queens_df[predictors]).flatten().round(2)\n",
    "staten_preds = model.predict(staten_df[predictors]).flatten().round(2)\n",
    "\n",
    "\n",
    "bronx_df['Sq-Ft'] = np.where(bronx_df['Sq-Ft'] > 20, bronx_df['Sq-Ft'], bronx_preds)\n",
    "brook_df['Sq-Ft'] = np.where(brook_df['Sq-Ft'] > 20, brook_df['Sq-Ft'], brook_preds)\n",
    "manhat_df['Sq-Ft'] = np.where(manhat_df['Sq-Ft'] > 20, manhat_df['Sq-Ft'], manhat_preds)\n",
    "queens_df['Sq-Ft'] = np.where(queens_df['Sq-Ft'] > 20, queens_df['Sq-Ft'], queens_preds)\n",
    "staten_df['Sq-Ft'] = np.where(staten_df['Sq-Ft'] > 20, staten_df['Sq-Ft'], staten_preds)\n"
   ]
  },
  {
   "cell_type": "code",
   "execution_count": 14,
   "metadata": {},
   "outputs": [
    {
     "data": {
      "text/plain": [
       "array([ 841.96,  848.76,  631.43,  833.22,  675.  ,  628.16,  642.88,\n",
       "        846.31,  571.95,  629.79,  622.43,  581.76,  825.86, 1171.26,\n",
       "       1240.69,  677.69, 1182.71,  626.52, 1439.31, 1048.1 ,  637.15,\n",
       "        847.94,  838.13, 1064.46,  847.78,  625.7 ,  570.38,  686.32,\n",
       "        570.38,  580.62])"
      ]
     },
     "execution_count": 14,
     "metadata": {},
     "output_type": "execute_result"
    }
   ],
   "source": [
    "bronx_preds[:30].flatten()"
   ]
  },
  {
   "cell_type": "code",
   "execution_count": 15,
   "metadata": {},
   "outputs": [],
   "source": [
    "bronx_df.to_csv('./ImputedSets/bronx_imputed.csv', index=False)\n",
    "brook_df.to_csv('./ImputedSets/brook_imputed.csv', index=False)\n",
    "manhat_df.to_csv('./ImputedSets/manhat_imputed.csv', index=False)\n",
    "queens_df.to_csv('./ImputedSets/queens_imputed.csv', index=False)\n",
    "staten_df.to_csv('./ImputedSets/staten_imputed.csv', index=False)"
   ]
  }
 ],
 "metadata": {
  "interpreter": {
   "hash": "c5955eb65c5dc112211fcc00164b6f01590904a8555f25d74f588620738db32e"
  },
  "kernelspec": {
   "display_name": "Python 3.9.4 ('ai')",
   "language": "python",
   "name": "python3"
  },
  "language_info": {
   "codemirror_mode": {
    "name": "ipython",
    "version": 3
   },
   "file_extension": ".py",
   "mimetype": "text/x-python",
   "name": "python",
   "nbconvert_exporter": "python",
   "pygments_lexer": "ipython3",
   "version": "3.9.4"
  },
  "orig_nbformat": 4
 },
 "nbformat": 4,
 "nbformat_minor": 2
}
