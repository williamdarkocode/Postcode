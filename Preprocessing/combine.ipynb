{
 "cells": [
  {
   "cell_type": "code",
   "execution_count": 1,
   "metadata": {},
   "outputs": [],
   "source": [
    "import pandas as pd\n",
    "import numpy as np\n",
    "import matplotlib.pyplot as plt\n",
    "import math\n",
    "\n",
    "from sklearn.linear_model import LinearRegression\n",
    "from sklearn.model_selection import train_test_split\n",
    "from sklearn.preprocessing import StandardScaler"
   ]
  },
  {
   "cell_type": "code",
   "execution_count": 4,
   "metadata": {},
   "outputs": [],
   "source": [
    "# combine individual borough datasets\n",
    "bronx_old = \"bronx_old_rent.csv\"\n",
    "bronx_new = \"../Scrapper/streey_easy_rent_bronx.csv\"\n",
    "\n",
    "manhat_old = \"manhattan_old_csv_rent.csv\"\n",
    "manhat_new = \"../Scrapper/streey_easy_rent_manhattan.csv\"\n",
    "\n",
    "brook_old = \"brooklyn_old_csv_rent.csv\"\n",
    "brook_new = \"../Scrapper/streey_easy_rent_brooklyn.csv\"\n",
    "\n",
    "statland_old = \"statenisland_old_rent.csv\"\n",
    "statland_new = \"../Scrapper/streey_easy_rent_staten-island.csv\"\n",
    "\n",
    "queens_old = \"queens_old_rent.csv\"\n",
    "queens_new = \"../Scrapper/streey_easy_rent_queens.csv\"\n",
    "\n",
    "pairs = [[bronx_old, bronx_new], [manhat_old, manhat_new], [brook_old, brook_new], [statland_old, statland_new], [queens_old, queens_new]]\n",
    "\n",
    "for old, new in pairs:\n",
    "    old_df = pd.DataFrame(pd.read_csv(old))\n",
    "    new_df = pd.DataFrame(pd.read_csv(new))\n",
    "\n",
    "    combined_df = new_df.append(old_df, ignore_index=True)\n",
    "\n",
    "    combined_df.drop('Unnamed: 0', inplace=True, axis=1)\n",
    "\n",
    "    name = old.split(\"_\")[0]+\"combined.csv\"\n",
    "    combined_df.to_csv(\"./CombinedData/\"+name, index=False)\n"
   ]
  }
 ],
 "metadata": {
  "interpreter": {
   "hash": "c5955eb65c5dc112211fcc00164b6f01590904a8555f25d74f588620738db32e"
  },
  "kernelspec": {
   "display_name": "Python 3.9.4 ('ai')",
   "language": "python",
   "name": "python3"
  },
  "language_info": {
   "codemirror_mode": {
    "name": "ipython",
    "version": 3
   },
   "file_extension": ".py",
   "mimetype": "text/x-python",
   "name": "python",
   "nbconvert_exporter": "python",
   "pygments_lexer": "ipython3",
   "version": "3.9.4"
  },
  "orig_nbformat": 4
 },
 "nbformat": 4,
 "nbformat_minor": 2
}
