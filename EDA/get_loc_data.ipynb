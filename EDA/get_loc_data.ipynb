{
 "cells": [
  {
   "cell_type": "code",
   "execution_count": 1,
   "metadata": {},
   "outputs": [],
   "source": [
    "import pandas as pd\n",
    "import requests as req\n",
    "import numpy as np\n",
    "import re"
   ]
  },
  {
   "cell_type": "code",
   "execution_count": 2,
   "metadata": {},
   "outputs": [],
   "source": [
    "# objectives: get longitude, latitude, zipcode"
   ]
  },
  {
   "cell_type": "code",
   "execution_count": 3,
   "metadata": {},
   "outputs": [
    {
     "data": {
      "text/plain": [
       "[{'place_id': 238740394,\n",
       "  'licence': 'Data © OpenStreetMap contributors, ODbL 1.0. https://osm.org/copyright',\n",
       "  'osm_type': 'way',\n",
       "  'osm_id': 684690680,\n",
       "  'boundingbox': ['40.7024618', '40.7026248', '-73.9863777', '-73.9855975'],\n",
       "  'lat': '40.70252645',\n",
       "  'lon': '-73.98598783528503',\n",
       "  'display_name': '181 Front Street, Front Street, Brooklyn, Kings County, New York, 11201, United States',\n",
       "  'class': 'building',\n",
       "  'type': 'yes',\n",
       "  'importance': 0.611,\n",
       "  'address': {'building': '181 Front Street',\n",
       "   'road': 'Front Street',\n",
       "   'suburb': 'Brooklyn',\n",
       "   'city': 'New York',\n",
       "   'state': 'New York',\n",
       "   'ISO3166-2-lvl4': 'US-NY',\n",
       "   'postcode': '11201',\n",
       "   'country': 'United States',\n",
       "   'country_code': 'us'}}]"
      ]
     },
     "execution_count": 3,
     "metadata": {},
     "output_type": "execute_result"
    }
   ],
   "source": [
    "res = req.get('https://nominatim.openstreetmap.org/search?street=181 Front Street&state=New York&city=Brooklyn&addressdetails=1&format=json')\n",
    "res.json()"
   ]
  },
  {
   "cell_type": "code",
   "execution_count": 4,
   "metadata": {},
   "outputs": [
    {
     "data": {
      "text/plain": [
       "'48C Winham Avenue'"
      ]
     },
     "execution_count": 4,
     "metadata": {},
     "output_type": "execute_result"
    }
   ],
   "source": [
    "fakeaddy = '48C Winham Avenue'\n",
    "fakeaddy = re.sub('([a-zA-Z0-9]{1,}-)*FLOOR', '', str(fakeaddy).strip(), flags=re.IGNORECASE).strip()\n",
    "fakeaddy = re.sub('\\s{2,}', ' ', fakeaddy.strip(), flags=re.IGNORECASE).strip()\n",
    "fakeaddy"
   ]
  },
  {
   "cell_type": "code",
   "execution_count": 5,
   "metadata": {},
   "outputs": [
    {
     "data": {
      "text/plain": [
       "'1000'"
      ]
     },
     "execution_count": 5,
     "metadata": {},
     "output_type": "execute_result"
    }
   ],
   "source": [
    "fake_zip = '1000:5000'\n",
    "re.sub(':.*','',fake_zip, flags=re.IGNORECASE).strip()"
   ]
  },
  {
   "cell_type": "code",
   "execution_count": 6,
   "metadata": {},
   "outputs": [],
   "source": [
    "def remove_floor_info(addy):\n",
    "    new_addy = re.sub('([a-zA-Z0-9]{1,}-)*FLOOR', '', str(addy).strip(), flags=re.IGNORECASE).strip()\n",
    "    new_addy = re.sub('\\s{2,}', ' ', new_addy.strip(), flags=re.IGNORECASE).strip()\n",
    "    return new_addy"
   ]
  },
  {
   "cell_type": "code",
   "execution_count": 15,
   "metadata": {},
   "outputs": [],
   "source": [
    "def get_loc_data(street, boro):\n",
    "    state = \"New York\"\n",
    "    city = str(boro).strip()\n",
    "    address = remove_floor_info(str(street).strip())\n",
    "    query = f\"https://nominatim.openstreetmap.org/search?street={address}&state={state}&city={city}&addressdetails=1&limit=1&format=json\"\n",
    "    result = req.get(query).json()\n",
    "    \n",
    "    if len(result) < 1:\n",
    "        return [np.NaN, np.NaN, np.NaN, address]\n",
    "\n",
    "    data = result[0]\n",
    "    zipcode = None\n",
    "    if 'postcode' in data['address'].keys():\n",
    "        zipcode = re.sub(':.*','', data['address']['postcode'].strip(), flags=re.IGNORECASE).strip()\n",
    "    elif data['display_name']:\n",
    "        zipcode = data['display_name'].split(',')[-2].strip()\n",
    "        zipcode = re.sub(':.*','', zipcode, flags=re.IGNORECASE).strip()\n",
    "\n",
    "    res = [float(data['lon'].strip()), float(data['lat'].strip()), zipcode, address]\n",
    "    return res"
   ]
  },
  {
   "cell_type": "code",
   "execution_count": 8,
   "metadata": {},
   "outputs": [],
   "source": [
    "stat_csv = '../Preprocessing/ImputedSets/staten_imputed.csv'\n",
    "bx_csv = '../Preprocessing/ImputedSets/bronx_imputed.csv'\n",
    "manhatt_csv = '../Preprocessing/ImputedSets/manhat_imputed.csv'\n",
    "queens_csv = '../Preprocessing/ImputedSets/queens_imputed.csv'\n",
    "bklyn_csv = '../Preprocessing/ImputedSets/brook_imputed.csv'\n",
    "\n",
    "source_csvs = [stat_csv, bx_csv, manhatt_csv, queens_csv, bklyn_csv]\n",
    "dest_paths = ['./DFwLoc/stat_df.csv', './DFwLoc/bronx_df.csv', './DFwLoc/manhatt_df.csv', './DFwLoc/queens_df.csv', './DFwLoc/bklyn_df.csv']\n",
    "boros = ['Staten-Island', 'Bronx', 'Manhattan', 'Queens', 'Brooklyn']"
   ]
  },
  {
   "cell_type": "code",
   "execution_count": 17,
   "metadata": {},
   "outputs": [],
   "source": [
    "def get_loc_for_all(df_source, df_dest, boro):\n",
    "    print(f\"getting {boro}...\")\n",
    "    daf = pd.DataFrame(pd.read_csv(df_source))\n",
    "    daf[['Long', 'Lat', 'ZipCode']] = None\n",
    "\n",
    "    for idx, row in daf.iterrows():\n",
    "        data = get_loc_data(row['Address'], boro)\n",
    "        daf.at[idx, 'Address'] = data[-1]\n",
    "        daf.at[idx, 'ZipCode'] = data[2]\n",
    "        daf.at[idx, 'Lat'] = data[1]\n",
    "        daf.at[idx, 'Long'] = data[0]\n",
    "    \n",
    "    daf.to_csv(df_dest, index=False)\n",
    "    return"
   ]
  },
  {
   "cell_type": "code",
   "execution_count": 18,
   "metadata": {},
   "outputs": [
    {
     "name": "stdout",
     "output_type": "stream",
     "text": [
      "getting Manhattan...\n",
      "getting Queens...\n",
      "getting Brooklyn...\n"
     ]
    }
   ],
   "source": [
    "for i in range(2, len(source_csvs), 1):\n",
    "    get_loc_for_all(df_source=source_csvs[i], df_dest=dest_paths[i], boro=boros[i])\n",
    "    "
   ]
  }
 ],
 "metadata": {
  "interpreter": {
   "hash": "c5955eb65c5dc112211fcc00164b6f01590904a8555f25d74f588620738db32e"
  },
  "kernelspec": {
   "display_name": "Python 3.9.4 ('ai')",
   "language": "python",
   "name": "python3"
  },
  "language_info": {
   "codemirror_mode": {
    "name": "ipython",
    "version": 3
   },
   "file_extension": ".py",
   "mimetype": "text/x-python",
   "name": "python",
   "nbconvert_exporter": "python",
   "pygments_lexer": "ipython3",
   "version": "3.9.4"
  },
  "orig_nbformat": 4
 },
 "nbformat": 4,
 "nbformat_minor": 2
}
