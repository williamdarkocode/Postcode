{
  "nbformat": 4,
  "nbformat_minor": 0,
  "metadata": {
    "colab": {
      "name": "Queens_Rent_Prediction_MinimumFeatures.ipynb",
      "provenance": [],
      "machine_shape": "hm"
    },
    "kernelspec": {
      "name": "python3",
      "display_name": "Python 3"
    },
    "language_info": {
      "name": "python"
    },
    "accelerator": "GPU"
  },
  "cells": [
    {
      "cell_type": "code",
      "execution_count": 1,
      "metadata": {
        "id": "IHq6vEX0JQh5"
      },
      "outputs": [],
      "source": [
        "import matplotlib.pyplot as plt\n",
        "import pandas as pd\n",
        "import numpy as np\n",
        "import tarfile\n",
        "import math\n",
        "\n",
        "from tensorflow import keras\n",
        "from keras import models\n",
        "from keras import layers\n",
        "from keras.callbacks import EarlyStopping\n",
        "\n",
        "\n",
        "from sklearn.model_selection import train_test_split\n",
        "from sklearn.impute import SimpleImputer\n",
        "from sklearn.preprocessing import MinMaxScaler\n",
        "from sklearn.preprocessing import OneHotEncoder"
      ]
    },
    {
      "cell_type": "code",
      "source": [
        "from keras.callbacks import ReduceLROnPlateau"
      ],
      "metadata": {
        "id": "QT0Ilkkn0pq5"
      },
      "execution_count": 2,
      "outputs": []
    },
    {
      "cell_type": "code",
      "source": [
        "from keras.layers import AlphaDropout"
      ],
      "metadata": {
        "id": "9pv0CxHhAe4c"
      },
      "execution_count": 3,
      "outputs": []
    },
    {
      "cell_type": "code",
      "source": [
        "from google.colab import drive\n",
        "drive.mount('/content/drive/')"
      ],
      "metadata": {
        "colab": {
          "base_uri": "https://localhost:8080/"
        },
        "id": "LznBSqDlpFQe",
        "outputId": "dd303f3b-d3f4-4c74-8f7e-c76fb8316922"
      },
      "execution_count": 4,
      "outputs": [
        {
          "output_type": "stream",
          "name": "stdout",
          "text": [
            "Mounted at /content/drive/\n"
          ]
        }
      ]
    },
    {
      "cell_type": "code",
      "source": [
        "from numpy.random import seed\n",
        "seed(15)\n",
        "\n",
        "from tensorflow.random import set_seed\n",
        "set_seed(15)"
      ],
      "metadata": {
        "id": "F82b9igNpD4a"
      },
      "execution_count": 5,
      "outputs": []
    },
    {
      "cell_type": "code",
      "source": [
        "queens_csv = '/content/drive/MyDrive/Boro_DFs/queens_df.csv'"
      ],
      "metadata": {
        "id": "It23BQMkpZrO"
      },
      "execution_count": 6,
      "outputs": []
    },
    {
      "cell_type": "code",
      "source": [
        "queens_df = pd.DataFrame(pd.read_csv(queens_csv))"
      ],
      "metadata": {
        "id": "cGPCANEIppM-"
      },
      "execution_count": 7,
      "outputs": []
    },
    {
      "cell_type": "code",
      "source": [
        "queens_df.head()"
      ],
      "metadata": {
        "colab": {
          "base_uri": "https://localhost:8080/",
          "height": 206
        },
        "id": "nn32hx06p1M7",
        "outputId": "4c72b3fd-8ca7-4c21-b806-fcaee19bb5bb"
      },
      "execution_count": 8,
      "outputs": [
        {
          "output_type": "execute_result",
          "data": {
            "text/plain": [
              "  Borough              Area                          Address  Num_Beds  \\\n",
              "0  queens           Jamaica               153-30 89th Avenue       2.0   \n",
              "1  queens            Corona  97-11 Horace Harding Expressway       1.0   \n",
              "2  queens           Astoria                32-57 46th Street       3.0   \n",
              "3  queens  Long Island City         29-59 Northern Boulevard       0.5   \n",
              "4  queens          Woodside                33-16 61st Street       2.0   \n",
              "\n",
              "   Num_Baths    Sq-Ft    Rent       Long        Lat ZipCode  Precinct  \\\n",
              "0        2.0  1040.00  3000.0 -73.802233  40.705192   11432     103.0   \n",
              "1        1.0   713.00  2003.0 -73.861895  40.736073   11368     110.0   \n",
              "2        2.0  1200.00  3500.0 -73.915120  40.755264   11103     115.0   \n",
              "3        1.0   578.26  3184.0 -73.854861  40.758454   11368     115.0   \n",
              "4        1.0   843.04  2250.0 -73.903724  40.737006   11377     104.0   \n",
              "\n",
              "   CrimeTotalPastYear Train_Line  Dist_To_Line  Dist_To_Station  \\\n",
              "0              1705.0          F      0.002611         0.002604   \n",
              "1              2102.0          R      0.005640         0.006315   \n",
              "2              1943.0          M      0.001530         0.001914   \n",
              "3              1943.0          7      0.006741         0.006740   \n",
              "4              1473.0          7      0.008501         0.008655   \n",
              "\n",
              "   Dist_To_Entrance  \n",
              "0          0.002350  \n",
              "1          0.005676  \n",
              "2          0.001536  \n",
              "3          0.006945  \n",
              "4          0.008538  "
            ],
            "text/html": [
              "\n",
              "  <div id=\"df-9d0fa7a8-6a95-48d7-9041-023975b68c73\">\n",
              "    <div class=\"colab-df-container\">\n",
              "      <div>\n",
              "<style scoped>\n",
              "    .dataframe tbody tr th:only-of-type {\n",
              "        vertical-align: middle;\n",
              "    }\n",
              "\n",
              "    .dataframe tbody tr th {\n",
              "        vertical-align: top;\n",
              "    }\n",
              "\n",
              "    .dataframe thead th {\n",
              "        text-align: right;\n",
              "    }\n",
              "</style>\n",
              "<table border=\"1\" class=\"dataframe\">\n",
              "  <thead>\n",
              "    <tr style=\"text-align: right;\">\n",
              "      <th></th>\n",
              "      <th>Borough</th>\n",
              "      <th>Area</th>\n",
              "      <th>Address</th>\n",
              "      <th>Num_Beds</th>\n",
              "      <th>Num_Baths</th>\n",
              "      <th>Sq-Ft</th>\n",
              "      <th>Rent</th>\n",
              "      <th>Long</th>\n",
              "      <th>Lat</th>\n",
              "      <th>ZipCode</th>\n",
              "      <th>Precinct</th>\n",
              "      <th>CrimeTotalPastYear</th>\n",
              "      <th>Train_Line</th>\n",
              "      <th>Dist_To_Line</th>\n",
              "      <th>Dist_To_Station</th>\n",
              "      <th>Dist_To_Entrance</th>\n",
              "    </tr>\n",
              "  </thead>\n",
              "  <tbody>\n",
              "    <tr>\n",
              "      <th>0</th>\n",
              "      <td>queens</td>\n",
              "      <td>Jamaica</td>\n",
              "      <td>153-30 89th Avenue</td>\n",
              "      <td>2.0</td>\n",
              "      <td>2.0</td>\n",
              "      <td>1040.00</td>\n",
              "      <td>3000.0</td>\n",
              "      <td>-73.802233</td>\n",
              "      <td>40.705192</td>\n",
              "      <td>11432</td>\n",
              "      <td>103.0</td>\n",
              "      <td>1705.0</td>\n",
              "      <td>F</td>\n",
              "      <td>0.002611</td>\n",
              "      <td>0.002604</td>\n",
              "      <td>0.002350</td>\n",
              "    </tr>\n",
              "    <tr>\n",
              "      <th>1</th>\n",
              "      <td>queens</td>\n",
              "      <td>Corona</td>\n",
              "      <td>97-11 Horace Harding Expressway</td>\n",
              "      <td>1.0</td>\n",
              "      <td>1.0</td>\n",
              "      <td>713.00</td>\n",
              "      <td>2003.0</td>\n",
              "      <td>-73.861895</td>\n",
              "      <td>40.736073</td>\n",
              "      <td>11368</td>\n",
              "      <td>110.0</td>\n",
              "      <td>2102.0</td>\n",
              "      <td>R</td>\n",
              "      <td>0.005640</td>\n",
              "      <td>0.006315</td>\n",
              "      <td>0.005676</td>\n",
              "    </tr>\n",
              "    <tr>\n",
              "      <th>2</th>\n",
              "      <td>queens</td>\n",
              "      <td>Astoria</td>\n",
              "      <td>32-57 46th Street</td>\n",
              "      <td>3.0</td>\n",
              "      <td>2.0</td>\n",
              "      <td>1200.00</td>\n",
              "      <td>3500.0</td>\n",
              "      <td>-73.915120</td>\n",
              "      <td>40.755264</td>\n",
              "      <td>11103</td>\n",
              "      <td>115.0</td>\n",
              "      <td>1943.0</td>\n",
              "      <td>M</td>\n",
              "      <td>0.001530</td>\n",
              "      <td>0.001914</td>\n",
              "      <td>0.001536</td>\n",
              "    </tr>\n",
              "    <tr>\n",
              "      <th>3</th>\n",
              "      <td>queens</td>\n",
              "      <td>Long Island City</td>\n",
              "      <td>29-59 Northern Boulevard</td>\n",
              "      <td>0.5</td>\n",
              "      <td>1.0</td>\n",
              "      <td>578.26</td>\n",
              "      <td>3184.0</td>\n",
              "      <td>-73.854861</td>\n",
              "      <td>40.758454</td>\n",
              "      <td>11368</td>\n",
              "      <td>115.0</td>\n",
              "      <td>1943.0</td>\n",
              "      <td>7</td>\n",
              "      <td>0.006741</td>\n",
              "      <td>0.006740</td>\n",
              "      <td>0.006945</td>\n",
              "    </tr>\n",
              "    <tr>\n",
              "      <th>4</th>\n",
              "      <td>queens</td>\n",
              "      <td>Woodside</td>\n",
              "      <td>33-16 61st Street</td>\n",
              "      <td>2.0</td>\n",
              "      <td>1.0</td>\n",
              "      <td>843.04</td>\n",
              "      <td>2250.0</td>\n",
              "      <td>-73.903724</td>\n",
              "      <td>40.737006</td>\n",
              "      <td>11377</td>\n",
              "      <td>104.0</td>\n",
              "      <td>1473.0</td>\n",
              "      <td>7</td>\n",
              "      <td>0.008501</td>\n",
              "      <td>0.008655</td>\n",
              "      <td>0.008538</td>\n",
              "    </tr>\n",
              "  </tbody>\n",
              "</table>\n",
              "</div>\n",
              "      <button class=\"colab-df-convert\" onclick=\"convertToInteractive('df-9d0fa7a8-6a95-48d7-9041-023975b68c73')\"\n",
              "              title=\"Convert this dataframe to an interactive table.\"\n",
              "              style=\"display:none;\">\n",
              "        \n",
              "  <svg xmlns=\"http://www.w3.org/2000/svg\" height=\"24px\"viewBox=\"0 0 24 24\"\n",
              "       width=\"24px\">\n",
              "    <path d=\"M0 0h24v24H0V0z\" fill=\"none\"/>\n",
              "    <path d=\"M18.56 5.44l.94 2.06.94-2.06 2.06-.94-2.06-.94-.94-2.06-.94 2.06-2.06.94zm-11 1L8.5 8.5l.94-2.06 2.06-.94-2.06-.94L8.5 2.5l-.94 2.06-2.06.94zm10 10l.94 2.06.94-2.06 2.06-.94-2.06-.94-.94-2.06-.94 2.06-2.06.94z\"/><path d=\"M17.41 7.96l-1.37-1.37c-.4-.4-.92-.59-1.43-.59-.52 0-1.04.2-1.43.59L10.3 9.45l-7.72 7.72c-.78.78-.78 2.05 0 2.83L4 21.41c.39.39.9.59 1.41.59.51 0 1.02-.2 1.41-.59l7.78-7.78 2.81-2.81c.8-.78.8-2.07 0-2.86zM5.41 20L4 18.59l7.72-7.72 1.47 1.35L5.41 20z\"/>\n",
              "  </svg>\n",
              "      </button>\n",
              "      \n",
              "  <style>\n",
              "    .colab-df-container {\n",
              "      display:flex;\n",
              "      flex-wrap:wrap;\n",
              "      gap: 12px;\n",
              "    }\n",
              "\n",
              "    .colab-df-convert {\n",
              "      background-color: #E8F0FE;\n",
              "      border: none;\n",
              "      border-radius: 50%;\n",
              "      cursor: pointer;\n",
              "      display: none;\n",
              "      fill: #1967D2;\n",
              "      height: 32px;\n",
              "      padding: 0 0 0 0;\n",
              "      width: 32px;\n",
              "    }\n",
              "\n",
              "    .colab-df-convert:hover {\n",
              "      background-color: #E2EBFA;\n",
              "      box-shadow: 0px 1px 2px rgba(60, 64, 67, 0.3), 0px 1px 3px 1px rgba(60, 64, 67, 0.15);\n",
              "      fill: #174EA6;\n",
              "    }\n",
              "\n",
              "    [theme=dark] .colab-df-convert {\n",
              "      background-color: #3B4455;\n",
              "      fill: #D2E3FC;\n",
              "    }\n",
              "\n",
              "    [theme=dark] .colab-df-convert:hover {\n",
              "      background-color: #434B5C;\n",
              "      box-shadow: 0px 1px 3px 1px rgba(0, 0, 0, 0.15);\n",
              "      filter: drop-shadow(0px 1px 2px rgba(0, 0, 0, 0.3));\n",
              "      fill: #FFFFFF;\n",
              "    }\n",
              "  </style>\n",
              "\n",
              "      <script>\n",
              "        const buttonEl =\n",
              "          document.querySelector('#df-9d0fa7a8-6a95-48d7-9041-023975b68c73 button.colab-df-convert');\n",
              "        buttonEl.style.display =\n",
              "          google.colab.kernel.accessAllowed ? 'block' : 'none';\n",
              "\n",
              "        async function convertToInteractive(key) {\n",
              "          const element = document.querySelector('#df-9d0fa7a8-6a95-48d7-9041-023975b68c73');\n",
              "          const dataTable =\n",
              "            await google.colab.kernel.invokeFunction('convertToInteractive',\n",
              "                                                     [key], {});\n",
              "          if (!dataTable) return;\n",
              "\n",
              "          const docLinkHtml = 'Like what you see? Visit the ' +\n",
              "            '<a target=\"_blank\" href=https://colab.research.google.com/notebooks/data_table.ipynb>data table notebook</a>'\n",
              "            + ' to learn more about interactive tables.';\n",
              "          element.innerHTML = '';\n",
              "          dataTable['output_type'] = 'display_data';\n",
              "          await google.colab.output.renderOutput(dataTable, element);\n",
              "          const docLink = document.createElement('div');\n",
              "          docLink.innerHTML = docLinkHtml;\n",
              "          element.appendChild(docLink);\n",
              "        }\n",
              "      </script>\n",
              "    </div>\n",
              "  </div>\n",
              "  "
            ]
          },
          "metadata": {},
          "execution_count": 8
        }
      ]
    },
    {
      "cell_type": "code",
      "source": [
        "y = queens_df[['Rent']]"
      ],
      "metadata": {
        "id": "nDuMfPUQqMH2"
      },
      "execution_count": 9,
      "outputs": []
    },
    {
      "cell_type": "code",
      "source": [
        "X = queens_df.drop(['Area', 'Address','Borough', 'Rent', 'ZipCode', 'Precinct', 'CrimeTotalPastYear', 'Train_Line', 'Dist_To_Line', 'Dist_To_Station', 'Dist_To_Entrance'], axis=1)\n",
        "X.head()"
      ],
      "metadata": {
        "colab": {
          "base_uri": "https://localhost:8080/",
          "height": 206
        },
        "id": "xhlAi-gSqUtm",
        "outputId": "86a53227-c42c-49d2-b7ba-5cabf6c30486"
      },
      "execution_count": 10,
      "outputs": [
        {
          "output_type": "execute_result",
          "data": {
            "text/plain": [
              "   Num_Beds  Num_Baths    Sq-Ft       Long        Lat\n",
              "0       2.0        2.0  1040.00 -73.802233  40.705192\n",
              "1       1.0        1.0   713.00 -73.861895  40.736073\n",
              "2       3.0        2.0  1200.00 -73.915120  40.755264\n",
              "3       0.5        1.0   578.26 -73.854861  40.758454\n",
              "4       2.0        1.0   843.04 -73.903724  40.737006"
            ],
            "text/html": [
              "\n",
              "  <div id=\"df-8a45cb6d-f050-4ef6-9b72-fe5b422864e3\">\n",
              "    <div class=\"colab-df-container\">\n",
              "      <div>\n",
              "<style scoped>\n",
              "    .dataframe tbody tr th:only-of-type {\n",
              "        vertical-align: middle;\n",
              "    }\n",
              "\n",
              "    .dataframe tbody tr th {\n",
              "        vertical-align: top;\n",
              "    }\n",
              "\n",
              "    .dataframe thead th {\n",
              "        text-align: right;\n",
              "    }\n",
              "</style>\n",
              "<table border=\"1\" class=\"dataframe\">\n",
              "  <thead>\n",
              "    <tr style=\"text-align: right;\">\n",
              "      <th></th>\n",
              "      <th>Num_Beds</th>\n",
              "      <th>Num_Baths</th>\n",
              "      <th>Sq-Ft</th>\n",
              "      <th>Long</th>\n",
              "      <th>Lat</th>\n",
              "    </tr>\n",
              "  </thead>\n",
              "  <tbody>\n",
              "    <tr>\n",
              "      <th>0</th>\n",
              "      <td>2.0</td>\n",
              "      <td>2.0</td>\n",
              "      <td>1040.00</td>\n",
              "      <td>-73.802233</td>\n",
              "      <td>40.705192</td>\n",
              "    </tr>\n",
              "    <tr>\n",
              "      <th>1</th>\n",
              "      <td>1.0</td>\n",
              "      <td>1.0</td>\n",
              "      <td>713.00</td>\n",
              "      <td>-73.861895</td>\n",
              "      <td>40.736073</td>\n",
              "    </tr>\n",
              "    <tr>\n",
              "      <th>2</th>\n",
              "      <td>3.0</td>\n",
              "      <td>2.0</td>\n",
              "      <td>1200.00</td>\n",
              "      <td>-73.915120</td>\n",
              "      <td>40.755264</td>\n",
              "    </tr>\n",
              "    <tr>\n",
              "      <th>3</th>\n",
              "      <td>0.5</td>\n",
              "      <td>1.0</td>\n",
              "      <td>578.26</td>\n",
              "      <td>-73.854861</td>\n",
              "      <td>40.758454</td>\n",
              "    </tr>\n",
              "    <tr>\n",
              "      <th>4</th>\n",
              "      <td>2.0</td>\n",
              "      <td>1.0</td>\n",
              "      <td>843.04</td>\n",
              "      <td>-73.903724</td>\n",
              "      <td>40.737006</td>\n",
              "    </tr>\n",
              "  </tbody>\n",
              "</table>\n",
              "</div>\n",
              "      <button class=\"colab-df-convert\" onclick=\"convertToInteractive('df-8a45cb6d-f050-4ef6-9b72-fe5b422864e3')\"\n",
              "              title=\"Convert this dataframe to an interactive table.\"\n",
              "              style=\"display:none;\">\n",
              "        \n",
              "  <svg xmlns=\"http://www.w3.org/2000/svg\" height=\"24px\"viewBox=\"0 0 24 24\"\n",
              "       width=\"24px\">\n",
              "    <path d=\"M0 0h24v24H0V0z\" fill=\"none\"/>\n",
              "    <path d=\"M18.56 5.44l.94 2.06.94-2.06 2.06-.94-2.06-.94-.94-2.06-.94 2.06-2.06.94zm-11 1L8.5 8.5l.94-2.06 2.06-.94-2.06-.94L8.5 2.5l-.94 2.06-2.06.94zm10 10l.94 2.06.94-2.06 2.06-.94-2.06-.94-.94-2.06-.94 2.06-2.06.94z\"/><path d=\"M17.41 7.96l-1.37-1.37c-.4-.4-.92-.59-1.43-.59-.52 0-1.04.2-1.43.59L10.3 9.45l-7.72 7.72c-.78.78-.78 2.05 0 2.83L4 21.41c.39.39.9.59 1.41.59.51 0 1.02-.2 1.41-.59l7.78-7.78 2.81-2.81c.8-.78.8-2.07 0-2.86zM5.41 20L4 18.59l7.72-7.72 1.47 1.35L5.41 20z\"/>\n",
              "  </svg>\n",
              "      </button>\n",
              "      \n",
              "  <style>\n",
              "    .colab-df-container {\n",
              "      display:flex;\n",
              "      flex-wrap:wrap;\n",
              "      gap: 12px;\n",
              "    }\n",
              "\n",
              "    .colab-df-convert {\n",
              "      background-color: #E8F0FE;\n",
              "      border: none;\n",
              "      border-radius: 50%;\n",
              "      cursor: pointer;\n",
              "      display: none;\n",
              "      fill: #1967D2;\n",
              "      height: 32px;\n",
              "      padding: 0 0 0 0;\n",
              "      width: 32px;\n",
              "    }\n",
              "\n",
              "    .colab-df-convert:hover {\n",
              "      background-color: #E2EBFA;\n",
              "      box-shadow: 0px 1px 2px rgba(60, 64, 67, 0.3), 0px 1px 3px 1px rgba(60, 64, 67, 0.15);\n",
              "      fill: #174EA6;\n",
              "    }\n",
              "\n",
              "    [theme=dark] .colab-df-convert {\n",
              "      background-color: #3B4455;\n",
              "      fill: #D2E3FC;\n",
              "    }\n",
              "\n",
              "    [theme=dark] .colab-df-convert:hover {\n",
              "      background-color: #434B5C;\n",
              "      box-shadow: 0px 1px 3px 1px rgba(0, 0, 0, 0.15);\n",
              "      filter: drop-shadow(0px 1px 2px rgba(0, 0, 0, 0.3));\n",
              "      fill: #FFFFFF;\n",
              "    }\n",
              "  </style>\n",
              "\n",
              "      <script>\n",
              "        const buttonEl =\n",
              "          document.querySelector('#df-8a45cb6d-f050-4ef6-9b72-fe5b422864e3 button.colab-df-convert');\n",
              "        buttonEl.style.display =\n",
              "          google.colab.kernel.accessAllowed ? 'block' : 'none';\n",
              "\n",
              "        async function convertToInteractive(key) {\n",
              "          const element = document.querySelector('#df-8a45cb6d-f050-4ef6-9b72-fe5b422864e3');\n",
              "          const dataTable =\n",
              "            await google.colab.kernel.invokeFunction('convertToInteractive',\n",
              "                                                     [key], {});\n",
              "          if (!dataTable) return;\n",
              "\n",
              "          const docLinkHtml = 'Like what you see? Visit the ' +\n",
              "            '<a target=\"_blank\" href=https://colab.research.google.com/notebooks/data_table.ipynb>data table notebook</a>'\n",
              "            + ' to learn more about interactive tables.';\n",
              "          element.innerHTML = '';\n",
              "          dataTable['output_type'] = 'display_data';\n",
              "          await google.colab.output.renderOutput(dataTable, element);\n",
              "          const docLink = document.createElement('div');\n",
              "          docLink.innerHTML = docLinkHtml;\n",
              "          element.appendChild(docLink);\n",
              "        }\n",
              "      </script>\n",
              "    </div>\n",
              "  </div>\n",
              "  "
            ]
          },
          "metadata": {},
          "execution_count": 10
        }
      ]
    },
    {
      "cell_type": "code",
      "source": [
        "# X = pd.get_dummies(X, columns=['Area', 'Address', 'ZipCode', 'Precinct', 'Train_Line'])"
      ],
      "metadata": {
        "id": "4P1BFCNV4NK4"
      },
      "execution_count": 11,
      "outputs": []
    },
    {
      "cell_type": "code",
      "source": [
        "X_train, X_test, y_train, y_test = train_test_split(X, y, test_size=0.2, random_state=42) "
      ],
      "metadata": {
        "id": "PGBo1zfvsq38"
      },
      "execution_count": 12,
      "outputs": []
    },
    {
      "cell_type": "code",
      "source": [
        "# numeric_cols = ['Num_Beds', 'Num_Baths', 'Sq-Ft', 'Long', 'Lat', 'CrimeTotalPastYear', 'Dist_To_Line', 'Dist_To_Station', 'Dist_To_Entrance']"
      ],
      "metadata": {
        "id": "uQhhxKkD4efw"
      },
      "execution_count": 13,
      "outputs": []
    },
    {
      "cell_type": "code",
      "source": [
        "# X_train_num = X_train[numeric_cols]"
      ],
      "metadata": {
        "id": "I4uVOTx2tGNS"
      },
      "execution_count": 14,
      "outputs": []
    },
    {
      "cell_type": "code",
      "source": [
        "# X_test_num = X_test[numeric_cols]"
      ],
      "metadata": {
        "id": "z5-Af9EKtmY2"
      },
      "execution_count": 15,
      "outputs": []
    },
    {
      "cell_type": "code",
      "source": [
        "# print(X_train_num.shape)\n",
        "# print(X_test_num.shape)"
      ],
      "metadata": {
        "id": "Vdgob14o5HKD"
      },
      "execution_count": 16,
      "outputs": []
    },
    {
      "cell_type": "code",
      "source": [
        "scaler = MinMaxScaler()"
      ],
      "metadata": {
        "id": "p9RNRLAbtwBQ"
      },
      "execution_count": 17,
      "outputs": []
    },
    {
      "cell_type": "code",
      "source": [
        "X_train = scaler.fit_transform(X_train)"
      ],
      "metadata": {
        "id": "7PtlLZ1Ct1q8"
      },
      "execution_count": 18,
      "outputs": []
    },
    {
      "cell_type": "code",
      "source": [
        "X_train.shape"
      ],
      "metadata": {
        "colab": {
          "base_uri": "https://localhost:8080/"
        },
        "id": "UOd7oCyH2aUQ",
        "outputId": "7991068b-967a-46c4-dea2-e82de8d25eee"
      },
      "execution_count": 19,
      "outputs": [
        {
          "output_type": "execute_result",
          "data": {
            "text/plain": [
              "(1936, 5)"
            ]
          },
          "metadata": {},
          "execution_count": 19
        }
      ]
    },
    {
      "cell_type": "code",
      "source": [
        "X_test = scaler.transform(X_test)"
      ],
      "metadata": {
        "id": "P71FdUJ0uBwi"
      },
      "execution_count": 20,
      "outputs": []
    },
    {
      "cell_type": "code",
      "source": [
        "X_test.shape"
      ],
      "metadata": {
        "colab": {
          "base_uri": "https://localhost:8080/"
        },
        "id": "ReDQGS852Xdb",
        "outputId": "378c155b-d719-4900-c7d7-4b69d4de11f6"
      },
      "execution_count": 21,
      "outputs": [
        {
          "output_type": "execute_result",
          "data": {
            "text/plain": [
              "(484, 5)"
            ]
          },
          "metadata": {},
          "execution_count": 21
        }
      ]
    },
    {
      "cell_type": "code",
      "source": [
        "# X_train_onehots = X_train.drop(numeric_cols, axis=1)\n",
        "# X_test_onehots = X_test.drop(numeric_cols, axis=1)"
      ],
      "metadata": {
        "id": "FdZcJP0QuIVM"
      },
      "execution_count": 22,
      "outputs": []
    },
    {
      "cell_type": "code",
      "source": [
        "# X_train_onehots.shape"
      ],
      "metadata": {
        "id": "z6g_xtgK15Je"
      },
      "execution_count": 23,
      "outputs": []
    },
    {
      "cell_type": "code",
      "source": [
        "# X_test_onehots.shape"
      ],
      "metadata": {
        "id": "kqRZuLf917vt"
      },
      "execution_count": 24,
      "outputs": []
    },
    {
      "cell_type": "code",
      "source": [
        "# X_train = np.concatenate((X_train_num, X_train_onehots), axis=1)"
      ],
      "metadata": {
        "id": "fr7kghS9yA5F"
      },
      "execution_count": 25,
      "outputs": []
    },
    {
      "cell_type": "code",
      "source": [
        "# X_test = np.concatenate((X_test_num, X_test_onehots), axis=1)"
      ],
      "metadata": {
        "id": "WTUi2RjXyMFd"
      },
      "execution_count": 26,
      "outputs": []
    },
    {
      "cell_type": "code",
      "source": [
        "# create validation set\n",
        "num_val_insts = math.floor(X_train.shape[0]*(.10))\n",
        "\n",
        "X_val = X_train[:num_val_insts]\n",
        "y_val = y_train[:num_val_insts]\n",
        "\n",
        "X_train = X_train[num_val_insts:]\n",
        "y_train = y_train[num_val_insts:]"
      ],
      "metadata": {
        "id": "d3BMgWC8yaXg"
      },
      "execution_count": 27,
      "outputs": []
    },
    {
      "cell_type": "code",
      "source": [
        "print(f\"X_train shape: {X_train.shape}, y_train shape: {y_train.shape}\")\n",
        "print(f\"X_val shape: {X_val.shape}, y_val shape: {y_val.shape}\")\n",
        "print(f\"X_test shape: {X_test.shape}, y_test shape: {y_test.shape}\")"
      ],
      "metadata": {
        "colab": {
          "base_uri": "https://localhost:8080/"
        },
        "id": "HytfmXvtyjHK",
        "outputId": "57bddd6c-1574-48e4-ffb4-5807e047a8ea"
      },
      "execution_count": 28,
      "outputs": [
        {
          "output_type": "stream",
          "name": "stdout",
          "text": [
            "X_train shape: (1743, 5), y_train shape: (1743, 1)\n",
            "X_val shape: (193, 5), y_val shape: (193, 1)\n",
            "X_test shape: (484, 5), y_test shape: (484, 1)\n"
          ]
        }
      ]
    },
    {
      "cell_type": "code",
      "source": [
        "from keras.initializers import lecun_normal"
      ],
      "metadata": {
        "id": "Yc8srrdAy3cI"
      },
      "execution_count": 29,
      "outputs": []
    },
    {
      "cell_type": "code",
      "source": [
        "initialiser = lecun_normal(seed=31)"
      ],
      "metadata": {
        "id": "mSe9P4ETy4zn"
      },
      "execution_count": 30,
      "outputs": []
    },
    {
      "cell_type": "code",
      "source": [
        "# model\n",
        "\n",
        "model = models.Sequential()\n",
        "model.add(layers.Dense(512, activation='selu', input_shape=(X_train.shape[1],), kernel_initializer=initialiser))\n",
        "model.add(layers.Dense(512, activation='selu', kernel_initializer=initialiser))\n",
        "model.add(layers.Dense(512, activation='selu', kernel_initializer=initialiser))\n",
        "model.add(layers.Dense(512, activation='selu', kernel_initializer=initialiser))\n",
        "model.add(layers.Dense(512, activation='selu', kernel_initializer=initialiser))\n",
        "model.add(layers.Dense(512, activation='selu', kernel_initializer=initialiser))\n",
        "model.add(layers.Dense(512, activation='selu', kernel_initializer=initialiser))\n",
        "\n",
        "model.add(layers.Dense(256, activation='selu', kernel_initializer=initialiser))\n",
        "model.add(layers.Dense(256, activation='selu', kernel_initializer=initialiser))\n",
        "\n",
        "model.add(layers.Dense(128, activation='selu', kernel_initializer=initialiser))\n",
        "model.add(layers.Dense(128, activation='selu', kernel_initializer=initialiser))\n",
        "\n",
        "model.add(layers.Dense(64, activation='selu', kernel_initializer=initialiser))\n",
        "model.add(layers.Dense(64, activation='selu', kernel_initializer=initialiser))\n",
        "\n",
        "\n",
        "model.add(layers.Dense(1))"
      ],
      "metadata": {
        "id": "iHi12V7BzCM6"
      },
      "execution_count": 31,
      "outputs": []
    },
    {
      "cell_type": "code",
      "source": [
        "model.summary()"
      ],
      "metadata": {
        "colab": {
          "base_uri": "https://localhost:8080/"
        },
        "id": "TPI57bQuzJcc",
        "outputId": "871b916a-fdea-4440-edf4-93af77b9ec7a"
      },
      "execution_count": 32,
      "outputs": [
        {
          "output_type": "stream",
          "name": "stdout",
          "text": [
            "Model: \"sequential\"\n",
            "_________________________________________________________________\n",
            " Layer (type)                Output Shape              Param #   \n",
            "=================================================================\n",
            " dense (Dense)               (None, 512)               3072      \n",
            "                                                                 \n",
            " dense_1 (Dense)             (None, 512)               262656    \n",
            "                                                                 \n",
            " dense_2 (Dense)             (None, 512)               262656    \n",
            "                                                                 \n",
            " dense_3 (Dense)             (None, 512)               262656    \n",
            "                                                                 \n",
            " dense_4 (Dense)             (None, 512)               262656    \n",
            "                                                                 \n",
            " dense_5 (Dense)             (None, 512)               262656    \n",
            "                                                                 \n",
            " dense_6 (Dense)             (None, 512)               262656    \n",
            "                                                                 \n",
            " dense_7 (Dense)             (None, 256)               131328    \n",
            "                                                                 \n",
            " dense_8 (Dense)             (None, 256)               65792     \n",
            "                                                                 \n",
            " dense_9 (Dense)             (None, 128)               32896     \n",
            "                                                                 \n",
            " dense_10 (Dense)            (None, 128)               16512     \n",
            "                                                                 \n",
            " dense_11 (Dense)            (None, 64)                8256      \n",
            "                                                                 \n",
            " dense_12 (Dense)            (None, 64)                4160      \n",
            "                                                                 \n",
            " dense_13 (Dense)            (None, 1)                 65        \n",
            "                                                                 \n",
            "=================================================================\n",
            "Total params: 1,838,017\n",
            "Trainable params: 1,838,017\n",
            "Non-trainable params: 0\n",
            "_________________________________________________________________\n"
          ]
        }
      ]
    },
    {
      "cell_type": "code",
      "source": [
        "model.compile(loss=\"huber_loss\", optimizer=keras.optimizers.Adam(learning_rate=.001), metrics=[\"mae\"])"
      ],
      "metadata": {
        "id": "3vPBvwnDzLl7"
      },
      "execution_count": 33,
      "outputs": []
    },
    {
      "cell_type": "code",
      "source": [
        "early_stop = EarlyStopping(monitor='val_mae', mode='min', \n",
        "                           verbose=1, patience=30, min_delta=.5, \n",
        "                           restore_best_weights=True)"
      ],
      "metadata": {
        "id": "SEE4clNfzT-Z"
      },
      "execution_count": 34,
      "outputs": []
    },
    {
      "cell_type": "code",
      "source": [
        "#reduce on plateau\n",
        "reduce_lr = ReduceLROnPlateau(\n",
        "    monitor='val_mae',\n",
        "    patience=15,\n",
        "    factor=.1,\n",
        "    mode='min',\n",
        "    min_delta=.5,\n",
        "    verbose=1,\n",
        "    min_lr=.0001\n",
        ")"
      ],
      "metadata": {
        "id": "Ki-Wg3ke0GSk"
      },
      "execution_count": 35,
      "outputs": []
    },
    {
      "cell_type": "code",
      "source": [
        "history = model.fit(X_train, y_train, epochs=500,\n",
        "                    validation_data=(X_val, y_val),\n",
        "                    callbacks=[early_stop, reduce_lr])"
      ],
      "metadata": {
        "colab": {
          "base_uri": "https://localhost:8080/"
        },
        "id": "ghmmiDo1zYHv",
        "outputId": "bf6d822a-6be3-4c10-d665-3b921bee0f67"
      },
      "execution_count": 36,
      "outputs": [
        {
          "output_type": "stream",
          "name": "stdout",
          "text": [
            "Epoch 1/500\n",
            "55/55 [==============================] - 5s 12ms/step - loss: 1156.1448 - mae: 1156.6448 - val_loss: 650.7390 - val_mae: 651.2388 - lr: 0.0010\n",
            "Epoch 2/500\n",
            "55/55 [==============================] - 0s 5ms/step - loss: 706.7779 - mae: 707.2773 - val_loss: 765.1535 - val_mae: 765.6535 - lr: 0.0010\n",
            "Epoch 3/500\n",
            "55/55 [==============================] - 0s 5ms/step - loss: 573.7953 - mae: 574.2952 - val_loss: 580.2106 - val_mae: 580.7106 - lr: 0.0010\n",
            "Epoch 4/500\n",
            "55/55 [==============================] - 0s 5ms/step - loss: 512.8633 - mae: 513.3626 - val_loss: 453.6175 - val_mae: 454.1175 - lr: 0.0010\n",
            "Epoch 5/500\n",
            "55/55 [==============================] - 0s 5ms/step - loss: 518.2284 - mae: 518.7283 - val_loss: 446.8609 - val_mae: 447.3609 - lr: 0.0010\n",
            "Epoch 6/500\n",
            "55/55 [==============================] - 0s 5ms/step - loss: 547.0144 - mae: 547.5140 - val_loss: 562.1451 - val_mae: 562.6451 - lr: 0.0010\n",
            "Epoch 7/500\n",
            "55/55 [==============================] - 0s 5ms/step - loss: 579.0461 - mae: 579.5452 - val_loss: 504.5465 - val_mae: 505.0465 - lr: 0.0010\n",
            "Epoch 8/500\n",
            "55/55 [==============================] - 0s 5ms/step - loss: 504.7054 - mae: 505.2050 - val_loss: 446.8335 - val_mae: 447.3335 - lr: 0.0010\n",
            "Epoch 9/500\n",
            "55/55 [==============================] - 0s 5ms/step - loss: 476.5700 - mae: 477.0694 - val_loss: 441.8251 - val_mae: 442.3251 - lr: 0.0010\n",
            "Epoch 10/500\n",
            "55/55 [==============================] - 0s 5ms/step - loss: 477.4047 - mae: 477.9047 - val_loss: 475.7628 - val_mae: 476.2623 - lr: 0.0010\n",
            "Epoch 11/500\n",
            "55/55 [==============================] - 0s 5ms/step - loss: 480.2081 - mae: 480.7079 - val_loss: 451.6165 - val_mae: 452.1165 - lr: 0.0010\n",
            "Epoch 12/500\n",
            "55/55 [==============================] - 0s 5ms/step - loss: 461.3914 - mae: 461.8909 - val_loss: 488.1146 - val_mae: 488.6146 - lr: 0.0010\n",
            "Epoch 13/500\n",
            "55/55 [==============================] - 0s 5ms/step - loss: 489.9881 - mae: 490.4879 - val_loss: 442.1663 - val_mae: 442.6663 - lr: 0.0010\n",
            "Epoch 14/500\n",
            "55/55 [==============================] - 0s 5ms/step - loss: 462.3316 - mae: 462.8313 - val_loss: 449.0404 - val_mae: 449.5404 - lr: 0.0010\n",
            "Epoch 15/500\n",
            "55/55 [==============================] - 0s 5ms/step - loss: 483.3327 - mae: 483.8321 - val_loss: 482.8642 - val_mae: 483.3640 - lr: 0.0010\n",
            "Epoch 16/500\n",
            "55/55 [==============================] - 0s 5ms/step - loss: 461.4557 - mae: 461.9554 - val_loss: 447.9844 - val_mae: 448.4819 - lr: 0.0010\n",
            "Epoch 17/500\n",
            "55/55 [==============================] - 0s 5ms/step - loss: 487.6884 - mae: 488.1881 - val_loss: 456.5924 - val_mae: 457.0900 - lr: 0.0010\n",
            "Epoch 18/500\n",
            "55/55 [==============================] - 0s 5ms/step - loss: 500.9638 - mae: 501.4637 - val_loss: 546.4539 - val_mae: 546.9539 - lr: 0.0010\n",
            "Epoch 19/500\n",
            "55/55 [==============================] - 0s 5ms/step - loss: 496.3795 - mae: 496.8792 - val_loss: 607.2612 - val_mae: 607.7612 - lr: 0.0010\n",
            "Epoch 20/500\n",
            "55/55 [==============================] - 0s 5ms/step - loss: 499.5323 - mae: 500.0320 - val_loss: 437.4730 - val_mae: 437.9714 - lr: 0.0010\n",
            "Epoch 21/500\n",
            "55/55 [==============================] - 0s 5ms/step - loss: 459.5307 - mae: 460.0301 - val_loss: 423.9178 - val_mae: 424.4166 - lr: 0.0010\n",
            "Epoch 22/500\n",
            "55/55 [==============================] - 0s 5ms/step - loss: 453.4653 - mae: 453.9645 - val_loss: 419.8618 - val_mae: 420.3618 - lr: 0.0010\n",
            "Epoch 23/500\n",
            "55/55 [==============================] - 0s 5ms/step - loss: 483.3654 - mae: 483.8653 - val_loss: 441.9377 - val_mae: 442.4362 - lr: 0.0010\n",
            "Epoch 24/500\n",
            "55/55 [==============================] - 0s 5ms/step - loss: 505.1110 - mae: 505.6109 - val_loss: 460.0712 - val_mae: 460.5712 - lr: 0.0010\n",
            "Epoch 25/500\n",
            "55/55 [==============================] - 0s 5ms/step - loss: 480.7426 - mae: 481.2421 - val_loss: 496.6714 - val_mae: 497.1714 - lr: 0.0010\n",
            "Epoch 26/500\n",
            "55/55 [==============================] - 0s 5ms/step - loss: 460.8054 - mae: 461.3051 - val_loss: 553.4098 - val_mae: 553.9098 - lr: 0.0010\n",
            "Epoch 27/500\n",
            "55/55 [==============================] - 0s 5ms/step - loss: 484.1779 - mae: 484.6773 - val_loss: 434.6355 - val_mae: 435.1355 - lr: 0.0010\n",
            "Epoch 28/500\n",
            "55/55 [==============================] - 0s 5ms/step - loss: 497.1806 - mae: 497.6801 - val_loss: 545.8251 - val_mae: 546.3251 - lr: 0.0010\n",
            "Epoch 29/500\n",
            "55/55 [==============================] - 0s 5ms/step - loss: 458.9459 - mae: 459.4456 - val_loss: 449.3685 - val_mae: 449.8685 - lr: 0.0010\n",
            "Epoch 30/500\n",
            "55/55 [==============================] - 0s 5ms/step - loss: 460.7068 - mae: 461.2067 - val_loss: 722.0359 - val_mae: 722.5345 - lr: 0.0010\n",
            "Epoch 31/500\n",
            "55/55 [==============================] - 0s 5ms/step - loss: 504.3323 - mae: 504.8318 - val_loss: 446.2467 - val_mae: 446.7467 - lr: 0.0010\n",
            "Epoch 32/500\n",
            "55/55 [==============================] - 0s 5ms/step - loss: 469.2328 - mae: 469.7326 - val_loss: 449.5750 - val_mae: 450.0750 - lr: 0.0010\n",
            "Epoch 33/500\n",
            "55/55 [==============================] - 0s 5ms/step - loss: 467.9801 - mae: 468.4796 - val_loss: 440.8594 - val_mae: 441.3594 - lr: 0.0010\n",
            "Epoch 34/500\n",
            "55/55 [==============================] - 0s 5ms/step - loss: 468.7661 - mae: 469.2660 - val_loss: 425.6950 - val_mae: 426.1943 - lr: 0.0010\n",
            "Epoch 35/500\n",
            "55/55 [==============================] - 0s 5ms/step - loss: 463.0978 - mae: 463.5971 - val_loss: 457.8174 - val_mae: 458.3174 - lr: 0.0010\n",
            "Epoch 36/500\n",
            "55/55 [==============================] - 0s 5ms/step - loss: 458.3317 - mae: 458.8307 - val_loss: 546.4287 - val_mae: 546.9287 - lr: 0.0010\n",
            "Epoch 37/500\n",
            "49/55 [=========================>....] - ETA: 0s - loss: 474.9102 - mae: 475.4099\n",
            "Epoch 37: ReduceLROnPlateau reducing learning rate to 0.00010000000474974513.\n",
            "55/55 [==============================] - 0s 5ms/step - loss: 474.6797 - mae: 475.1794 - val_loss: 422.5620 - val_mae: 423.0620 - lr: 0.0010\n",
            "Epoch 38/500\n",
            "55/55 [==============================] - 0s 5ms/step - loss: 436.3405 - mae: 436.8401 - val_loss: 423.9237 - val_mae: 424.4237 - lr: 1.0000e-04\n",
            "Epoch 39/500\n",
            "55/55 [==============================] - 0s 5ms/step - loss: 427.3407 - mae: 427.8399 - val_loss: 430.5096 - val_mae: 431.0078 - lr: 1.0000e-04\n",
            "Epoch 40/500\n",
            "55/55 [==============================] - 0s 5ms/step - loss: 424.2829 - mae: 424.7823 - val_loss: 424.2246 - val_mae: 424.7246 - lr: 1.0000e-04\n",
            "Epoch 41/500\n",
            "55/55 [==============================] - 0s 5ms/step - loss: 422.7170 - mae: 423.2168 - val_loss: 427.5196 - val_mae: 428.0175 - lr: 1.0000e-04\n",
            "Epoch 42/500\n",
            "55/55 [==============================] - 0s 5ms/step - loss: 424.6324 - mae: 425.1316 - val_loss: 417.6818 - val_mae: 418.1818 - lr: 1.0000e-04\n",
            "Epoch 43/500\n",
            "55/55 [==============================] - 0s 5ms/step - loss: 423.3177 - mae: 423.8176 - val_loss: 419.5072 - val_mae: 420.0072 - lr: 1.0000e-04\n",
            "Epoch 44/500\n",
            "55/55 [==============================] - 0s 5ms/step - loss: 420.4053 - mae: 420.9047 - val_loss: 419.3559 - val_mae: 419.8559 - lr: 1.0000e-04\n",
            "Epoch 45/500\n",
            "55/55 [==============================] - 0s 5ms/step - loss: 421.7372 - mae: 422.2368 - val_loss: 421.7943 - val_mae: 422.2943 - lr: 1.0000e-04\n",
            "Epoch 46/500\n",
            "55/55 [==============================] - 0s 5ms/step - loss: 421.4423 - mae: 421.9419 - val_loss: 416.0729 - val_mae: 416.5729 - lr: 1.0000e-04\n",
            "Epoch 47/500\n",
            "55/55 [==============================] - 0s 5ms/step - loss: 420.8341 - mae: 421.3341 - val_loss: 419.8383 - val_mae: 420.3383 - lr: 1.0000e-04\n",
            "Epoch 48/500\n",
            "55/55 [==============================] - 0s 5ms/step - loss: 418.2673 - mae: 418.7670 - val_loss: 420.7506 - val_mae: 421.2506 - lr: 1.0000e-04\n",
            "Epoch 49/500\n",
            "55/55 [==============================] - 0s 9ms/step - loss: 420.1943 - mae: 420.6941 - val_loss: 422.3637 - val_mae: 422.8636 - lr: 1.0000e-04\n",
            "Epoch 50/500\n",
            "55/55 [==============================] - 0s 6ms/step - loss: 419.2927 - mae: 419.7923 - val_loss: 414.9400 - val_mae: 415.4400 - lr: 1.0000e-04\n",
            "Epoch 51/500\n",
            "55/55 [==============================] - 0s 6ms/step - loss: 417.4756 - mae: 417.9750 - val_loss: 416.6862 - val_mae: 417.1859 - lr: 1.0000e-04\n",
            "Epoch 52/500\n",
            "55/55 [==============================] - 0s 8ms/step - loss: 416.9048 - mae: 417.4038 - val_loss: 416.6998 - val_mae: 417.1998 - lr: 1.0000e-04\n",
            "Epoch 53/500\n",
            "55/55 [==============================] - 0s 5ms/step - loss: 417.4288 - mae: 417.9286 - val_loss: 421.3864 - val_mae: 421.8864 - lr: 1.0000e-04\n",
            "Epoch 54/500\n",
            "55/55 [==============================] - 0s 6ms/step - loss: 417.9928 - mae: 418.4920 - val_loss: 414.2608 - val_mae: 414.7608 - lr: 1.0000e-04\n",
            "Epoch 55/500\n",
            "55/55 [==============================] - 0s 8ms/step - loss: 416.3545 - mae: 416.8535 - val_loss: 429.0671 - val_mae: 429.5671 - lr: 1.0000e-04\n",
            "Epoch 56/500\n",
            "55/55 [==============================] - 0s 6ms/step - loss: 417.5656 - mae: 418.0651 - val_loss: 421.3584 - val_mae: 421.8584 - lr: 1.0000e-04\n",
            "Epoch 57/500\n",
            "55/55 [==============================] - 0s 5ms/step - loss: 416.1920 - mae: 416.6911 - val_loss: 411.2709 - val_mae: 411.7709 - lr: 1.0000e-04\n",
            "Epoch 58/500\n",
            "55/55 [==============================] - 0s 5ms/step - loss: 416.4703 - mae: 416.9693 - val_loss: 415.1837 - val_mae: 415.6837 - lr: 1.0000e-04\n",
            "Epoch 59/500\n",
            "55/55 [==============================] - 0s 5ms/step - loss: 422.1283 - mae: 422.6277 - val_loss: 417.0554 - val_mae: 417.5544 - lr: 1.0000e-04\n",
            "Epoch 60/500\n",
            "55/55 [==============================] - 0s 5ms/step - loss: 422.1260 - mae: 422.6258 - val_loss: 410.3410 - val_mae: 410.8410 - lr: 1.0000e-04\n",
            "Epoch 61/500\n",
            "55/55 [==============================] - 0s 5ms/step - loss: 416.2476 - mae: 416.7473 - val_loss: 416.3995 - val_mae: 416.8995 - lr: 1.0000e-04\n",
            "Epoch 62/500\n",
            "55/55 [==============================] - 0s 5ms/step - loss: 414.8145 - mae: 415.3140 - val_loss: 417.2129 - val_mae: 417.7110 - lr: 1.0000e-04\n",
            "Epoch 63/500\n",
            "55/55 [==============================] - 0s 5ms/step - loss: 416.8209 - mae: 417.3209 - val_loss: 421.9459 - val_mae: 422.4459 - lr: 1.0000e-04\n",
            "Epoch 64/500\n",
            "55/55 [==============================] - 0s 5ms/step - loss: 420.1468 - mae: 420.6463 - val_loss: 414.7710 - val_mae: 415.2708 - lr: 1.0000e-04\n",
            "Epoch 65/500\n",
            "55/55 [==============================] - 0s 5ms/step - loss: 413.0818 - mae: 413.5811 - val_loss: 411.5176 - val_mae: 412.0173 - lr: 1.0000e-04\n",
            "Epoch 66/500\n",
            "55/55 [==============================] - 0s 5ms/step - loss: 414.7162 - mae: 415.2158 - val_loss: 414.8948 - val_mae: 415.3948 - lr: 1.0000e-04\n",
            "Epoch 67/500\n",
            "55/55 [==============================] - 0s 5ms/step - loss: 412.2996 - mae: 412.7986 - val_loss: 420.2202 - val_mae: 420.7202 - lr: 1.0000e-04\n",
            "Epoch 68/500\n",
            "55/55 [==============================] - 0s 5ms/step - loss: 415.5095 - mae: 416.0085 - val_loss: 411.1509 - val_mae: 411.6509 - lr: 1.0000e-04\n",
            "Epoch 69/500\n",
            "55/55 [==============================] - 0s 5ms/step - loss: 410.5499 - mae: 411.0492 - val_loss: 416.3004 - val_mae: 416.8004 - lr: 1.0000e-04\n",
            "Epoch 70/500\n",
            "55/55 [==============================] - 0s 5ms/step - loss: 412.5894 - mae: 413.0887 - val_loss: 409.1922 - val_mae: 409.6922 - lr: 1.0000e-04\n",
            "Epoch 71/500\n",
            "55/55 [==============================] - 0s 5ms/step - loss: 411.1834 - mae: 411.6831 - val_loss: 414.9956 - val_mae: 415.4940 - lr: 1.0000e-04\n",
            "Epoch 72/500\n",
            "55/55 [==============================] - 0s 5ms/step - loss: 409.5499 - mae: 410.0496 - val_loss: 414.9087 - val_mae: 415.4087 - lr: 1.0000e-04\n",
            "Epoch 73/500\n",
            "55/55 [==============================] - 0s 5ms/step - loss: 409.1586 - mae: 409.6575 - val_loss: 402.5172 - val_mae: 403.0172 - lr: 1.0000e-04\n",
            "Epoch 74/500\n",
            "55/55 [==============================] - 0s 5ms/step - loss: 413.0306 - mae: 413.5302 - val_loss: 410.8956 - val_mae: 411.3956 - lr: 1.0000e-04\n",
            "Epoch 75/500\n",
            "55/55 [==============================] - 0s 5ms/step - loss: 408.6595 - mae: 409.1594 - val_loss: 407.0031 - val_mae: 407.5031 - lr: 1.0000e-04\n",
            "Epoch 76/500\n",
            "55/55 [==============================] - 0s 5ms/step - loss: 411.7090 - mae: 412.2074 - val_loss: 419.9510 - val_mae: 420.4510 - lr: 1.0000e-04\n",
            "Epoch 77/500\n",
            "55/55 [==============================] - 0s 5ms/step - loss: 408.6002 - mae: 409.0999 - val_loss: 398.2389 - val_mae: 398.7389 - lr: 1.0000e-04\n",
            "Epoch 78/500\n",
            "55/55 [==============================] - 0s 5ms/step - loss: 413.3009 - mae: 413.8002 - val_loss: 413.6620 - val_mae: 414.1620 - lr: 1.0000e-04\n",
            "Epoch 79/500\n",
            "55/55 [==============================] - 0s 5ms/step - loss: 409.3977 - mae: 409.8971 - val_loss: 397.9618 - val_mae: 398.4577 - lr: 1.0000e-04\n",
            "Epoch 80/500\n",
            "55/55 [==============================] - 0s 5ms/step - loss: 406.8639 - mae: 407.3633 - val_loss: 398.5689 - val_mae: 399.0685 - lr: 1.0000e-04\n",
            "Epoch 81/500\n",
            "55/55 [==============================] - 0s 5ms/step - loss: 407.5070 - mae: 408.0066 - val_loss: 421.1148 - val_mae: 421.6148 - lr: 1.0000e-04\n",
            "Epoch 82/500\n",
            "55/55 [==============================] - 0s 5ms/step - loss: 413.8102 - mae: 414.3101 - val_loss: 454.0541 - val_mae: 454.5541 - lr: 1.0000e-04\n",
            "Epoch 83/500\n",
            "55/55 [==============================] - 0s 5ms/step - loss: 410.3018 - mae: 410.8016 - val_loss: 398.9327 - val_mae: 399.4327 - lr: 1.0000e-04\n",
            "Epoch 84/500\n",
            "55/55 [==============================] - 0s 5ms/step - loss: 405.0370 - mae: 405.5365 - val_loss: 402.1159 - val_mae: 402.6159 - lr: 1.0000e-04\n",
            "Epoch 85/500\n",
            "55/55 [==============================] - 0s 5ms/step - loss: 402.6258 - mae: 403.1248 - val_loss: 411.8152 - val_mae: 412.3152 - lr: 1.0000e-04\n",
            "Epoch 86/500\n",
            "55/55 [==============================] - 0s 5ms/step - loss: 411.4180 - mae: 411.9177 - val_loss: 421.0091 - val_mae: 421.5091 - lr: 1.0000e-04\n",
            "Epoch 87/500\n",
            "55/55 [==============================] - 0s 5ms/step - loss: 406.4915 - mae: 406.9910 - val_loss: 418.6366 - val_mae: 419.1363 - lr: 1.0000e-04\n",
            "Epoch 88/500\n",
            "55/55 [==============================] - 0s 5ms/step - loss: 402.9054 - mae: 403.4051 - val_loss: 415.5345 - val_mae: 416.0341 - lr: 1.0000e-04\n",
            "Epoch 89/500\n",
            "55/55 [==============================] - 0s 5ms/step - loss: 403.3588 - mae: 403.8584 - val_loss: 431.2192 - val_mae: 431.7192 - lr: 1.0000e-04\n",
            "Epoch 90/500\n",
            "55/55 [==============================] - 0s 5ms/step - loss: 401.9114 - mae: 402.4114 - val_loss: 418.5135 - val_mae: 419.0135 - lr: 1.0000e-04\n",
            "Epoch 91/500\n",
            "55/55 [==============================] - 0s 5ms/step - loss: 401.9162 - mae: 402.4156 - val_loss: 407.1467 - val_mae: 407.6450 - lr: 1.0000e-04\n",
            "Epoch 92/500\n",
            "50/55 [==========================>...] - ETA: 0s - loss: 401.5699 - mae: 402.0692\n",
            "Epoch 92: ReduceLROnPlateau reducing learning rate to 0.0001.\n",
            "55/55 [==============================] - 0s 5ms/step - loss: 404.1561 - mae: 404.6554 - val_loss: 401.3906 - val_mae: 401.8906 - lr: 1.0000e-04\n",
            "Epoch 93/500\n",
            "55/55 [==============================] - 0s 5ms/step - loss: 402.0166 - mae: 402.5156 - val_loss: 407.3874 - val_mae: 407.8874 - lr: 1.0000e-04\n",
            "Epoch 94/500\n",
            "55/55 [==============================] - 0s 5ms/step - loss: 403.4042 - mae: 403.9041 - val_loss: 409.5855 - val_mae: 410.0855 - lr: 1.0000e-04\n",
            "Epoch 95/500\n",
            "55/55 [==============================] - 0s 5ms/step - loss: 402.9692 - mae: 403.4683 - val_loss: 400.3370 - val_mae: 400.8370 - lr: 1.0000e-04\n",
            "Epoch 96/500\n",
            "55/55 [==============================] - 0s 5ms/step - loss: 399.0366 - mae: 399.5360 - val_loss: 397.0462 - val_mae: 397.5462 - lr: 1.0000e-04\n",
            "Epoch 97/500\n",
            "55/55 [==============================] - 0s 5ms/step - loss: 398.4041 - mae: 398.9041 - val_loss: 417.1925 - val_mae: 417.6909 - lr: 1.0000e-04\n",
            "Epoch 98/500\n",
            "55/55 [==============================] - 0s 5ms/step - loss: 397.8045 - mae: 398.3041 - val_loss: 400.0170 - val_mae: 400.5170 - lr: 1.0000e-04\n",
            "Epoch 99/500\n",
            "55/55 [==============================] - 0s 5ms/step - loss: 395.6810 - mae: 396.1807 - val_loss: 403.2049 - val_mae: 403.7047 - lr: 1.0000e-04\n",
            "Epoch 100/500\n",
            "55/55 [==============================] - 0s 5ms/step - loss: 397.9009 - mae: 398.4008 - val_loss: 405.0985 - val_mae: 405.5984 - lr: 1.0000e-04\n",
            "Epoch 101/500\n",
            "55/55 [==============================] - 0s 5ms/step - loss: 394.5916 - mae: 395.0906 - val_loss: 412.6614 - val_mae: 413.1614 - lr: 1.0000e-04\n",
            "Epoch 102/500\n",
            "55/55 [==============================] - 0s 5ms/step - loss: 396.7361 - mae: 397.2360 - val_loss: 391.5119 - val_mae: 392.0119 - lr: 1.0000e-04\n",
            "Epoch 103/500\n",
            "55/55 [==============================] - 0s 5ms/step - loss: 392.1844 - mae: 392.6840 - val_loss: 393.3173 - val_mae: 393.8173 - lr: 1.0000e-04\n",
            "Epoch 104/500\n",
            "55/55 [==============================] - 0s 5ms/step - loss: 389.5471 - mae: 390.0469 - val_loss: 407.3057 - val_mae: 407.8057 - lr: 1.0000e-04\n",
            "Epoch 105/500\n",
            "55/55 [==============================] - 0s 5ms/step - loss: 395.2878 - mae: 395.7871 - val_loss: 385.4310 - val_mae: 385.9310 - lr: 1.0000e-04\n",
            "Epoch 106/500\n",
            "55/55 [==============================] - 0s 5ms/step - loss: 391.7215 - mae: 392.2201 - val_loss: 399.3730 - val_mae: 399.8730 - lr: 1.0000e-04\n",
            "Epoch 107/500\n",
            "55/55 [==============================] - 0s 5ms/step - loss: 397.5067 - mae: 398.0059 - val_loss: 392.9499 - val_mae: 393.4499 - lr: 1.0000e-04\n",
            "Epoch 108/500\n",
            "55/55 [==============================] - 0s 5ms/step - loss: 389.5260 - mae: 390.0248 - val_loss: 401.5038 - val_mae: 402.0020 - lr: 1.0000e-04\n",
            "Epoch 109/500\n",
            "55/55 [==============================] - 0s 5ms/step - loss: 391.3751 - mae: 391.8749 - val_loss: 394.8684 - val_mae: 395.3661 - lr: 1.0000e-04\n",
            "Epoch 110/500\n",
            "55/55 [==============================] - 0s 5ms/step - loss: 388.1713 - mae: 388.6710 - val_loss: 408.6266 - val_mae: 409.1261 - lr: 1.0000e-04\n",
            "Epoch 111/500\n",
            "55/55 [==============================] - 0s 5ms/step - loss: 385.9139 - mae: 386.4137 - val_loss: 398.5267 - val_mae: 399.0266 - lr: 1.0000e-04\n",
            "Epoch 112/500\n",
            "55/55 [==============================] - 0s 5ms/step - loss: 385.9366 - mae: 386.4365 - val_loss: 414.2645 - val_mae: 414.7643 - lr: 1.0000e-04\n",
            "Epoch 113/500\n",
            "55/55 [==============================] - 0s 5ms/step - loss: 385.4463 - mae: 385.9461 - val_loss: 393.4235 - val_mae: 393.9235 - lr: 1.0000e-04\n",
            "Epoch 114/500\n",
            "55/55 [==============================] - 0s 5ms/step - loss: 378.1158 - mae: 378.6155 - val_loss: 398.2424 - val_mae: 398.7424 - lr: 1.0000e-04\n",
            "Epoch 115/500\n",
            "55/55 [==============================] - 0s 5ms/step - loss: 382.0647 - mae: 382.5641 - val_loss: 392.8115 - val_mae: 393.3115 - lr: 1.0000e-04\n",
            "Epoch 116/500\n",
            "55/55 [==============================] - 0s 5ms/step - loss: 386.9339 - mae: 387.4336 - val_loss: 415.6579 - val_mae: 416.1579 - lr: 1.0000e-04\n",
            "Epoch 117/500\n",
            "55/55 [==============================] - 0s 5ms/step - loss: 385.2680 - mae: 385.7678 - val_loss: 394.2837 - val_mae: 394.7837 - lr: 1.0000e-04\n",
            "Epoch 118/500\n",
            "55/55 [==============================] - 0s 5ms/step - loss: 379.3126 - mae: 379.8119 - val_loss: 383.6794 - val_mae: 384.1794 - lr: 1.0000e-04\n",
            "Epoch 119/500\n",
            "55/55 [==============================] - 0s 5ms/step - loss: 372.6301 - mae: 373.1293 - val_loss: 394.2456 - val_mae: 394.7456 - lr: 1.0000e-04\n",
            "Epoch 120/500\n",
            "55/55 [==============================] - 0s 5ms/step - loss: 381.8850 - mae: 382.3847 - val_loss: 432.3896 - val_mae: 432.8896 - lr: 1.0000e-04\n",
            "Epoch 121/500\n",
            "55/55 [==============================] - 0s 5ms/step - loss: 377.8367 - mae: 378.3361 - val_loss: 375.6133 - val_mae: 376.1133 - lr: 1.0000e-04\n",
            "Epoch 122/500\n",
            "55/55 [==============================] - 0s 5ms/step - loss: 370.3422 - mae: 370.8421 - val_loss: 394.7852 - val_mae: 395.2850 - lr: 1.0000e-04\n",
            "Epoch 123/500\n",
            "55/55 [==============================] - 0s 5ms/step - loss: 366.8041 - mae: 367.3037 - val_loss: 402.2817 - val_mae: 402.7784 - lr: 1.0000e-04\n",
            "Epoch 124/500\n",
            "55/55 [==============================] - 0s 5ms/step - loss: 371.0408 - mae: 371.5404 - val_loss: 396.7742 - val_mae: 397.2742 - lr: 1.0000e-04\n",
            "Epoch 125/500\n",
            "55/55 [==============================] - 0s 5ms/step - loss: 368.3211 - mae: 368.8206 - val_loss: 422.8920 - val_mae: 423.3920 - lr: 1.0000e-04\n",
            "Epoch 126/500\n",
            "55/55 [==============================] - 0s 5ms/step - loss: 370.4987 - mae: 370.9984 - val_loss: 389.0049 - val_mae: 389.5049 - lr: 1.0000e-04\n",
            "Epoch 127/500\n",
            "55/55 [==============================] - 0s 5ms/step - loss: 359.8299 - mae: 360.3295 - val_loss: 385.3267 - val_mae: 385.8260 - lr: 1.0000e-04\n",
            "Epoch 128/500\n",
            "55/55 [==============================] - 0s 5ms/step - loss: 349.4388 - mae: 349.9385 - val_loss: 378.1726 - val_mae: 378.6714 - lr: 1.0000e-04\n",
            "Epoch 129/500\n",
            "55/55 [==============================] - 0s 5ms/step - loss: 349.1133 - mae: 349.6131 - val_loss: 377.1167 - val_mae: 377.6167 - lr: 1.0000e-04\n",
            "Epoch 130/500\n",
            "55/55 [==============================] - 0s 5ms/step - loss: 344.6440 - mae: 345.1436 - val_loss: 357.2004 - val_mae: 357.6981 - lr: 1.0000e-04\n",
            "Epoch 131/500\n",
            "55/55 [==============================] - 0s 5ms/step - loss: 335.6429 - mae: 336.1425 - val_loss: 381.7200 - val_mae: 382.2199 - lr: 1.0000e-04\n",
            "Epoch 132/500\n",
            "55/55 [==============================] - 0s 5ms/step - loss: 337.5028 - mae: 338.0021 - val_loss: 362.6466 - val_mae: 363.1466 - lr: 1.0000e-04\n",
            "Epoch 133/500\n",
            "55/55 [==============================] - 0s 5ms/step - loss: 330.9687 - mae: 331.4684 - val_loss: 366.9871 - val_mae: 367.4871 - lr: 1.0000e-04\n",
            "Epoch 134/500\n",
            "55/55 [==============================] - 0s 5ms/step - loss: 336.3551 - mae: 336.8544 - val_loss: 377.6259 - val_mae: 378.1243 - lr: 1.0000e-04\n",
            "Epoch 135/500\n",
            "55/55 [==============================] - 0s 5ms/step - loss: 338.2721 - mae: 338.7718 - val_loss: 362.5925 - val_mae: 363.0925 - lr: 1.0000e-04\n",
            "Epoch 136/500\n",
            "55/55 [==============================] - 0s 5ms/step - loss: 334.4828 - mae: 334.9822 - val_loss: 378.0471 - val_mae: 378.5471 - lr: 1.0000e-04\n",
            "Epoch 137/500\n",
            "55/55 [==============================] - 0s 5ms/step - loss: 319.1307 - mae: 319.6303 - val_loss: 360.2030 - val_mae: 360.7030 - lr: 1.0000e-04\n",
            "Epoch 138/500\n",
            "55/55 [==============================] - 0s 5ms/step - loss: 323.5868 - mae: 324.0858 - val_loss: 363.2165 - val_mae: 363.7165 - lr: 1.0000e-04\n",
            "Epoch 139/500\n",
            "55/55 [==============================] - 0s 5ms/step - loss: 322.9563 - mae: 323.4554 - val_loss: 370.2903 - val_mae: 370.7878 - lr: 1.0000e-04\n",
            "Epoch 140/500\n",
            "55/55 [==============================] - 0s 5ms/step - loss: 321.5020 - mae: 322.0009 - val_loss: 369.8454 - val_mae: 370.3454 - lr: 1.0000e-04\n",
            "Epoch 141/500\n",
            "55/55 [==============================] - 0s 5ms/step - loss: 321.8854 - mae: 322.3846 - val_loss: 378.1591 - val_mae: 378.6580 - lr: 1.0000e-04\n",
            "Epoch 142/500\n",
            "55/55 [==============================] - 0s 5ms/step - loss: 318.4732 - mae: 318.9726 - val_loss: 364.2677 - val_mae: 364.7677 - lr: 1.0000e-04\n",
            "Epoch 143/500\n",
            "55/55 [==============================] - 0s 5ms/step - loss: 311.3881 - mae: 311.8880 - val_loss: 361.3208 - val_mae: 361.8208 - lr: 1.0000e-04\n",
            "Epoch 144/500\n",
            "55/55 [==============================] - 0s 5ms/step - loss: 313.9713 - mae: 314.4705 - val_loss: 351.6902 - val_mae: 352.1902 - lr: 1.0000e-04\n",
            "Epoch 145/500\n",
            "55/55 [==============================] - 0s 5ms/step - loss: 313.1686 - mae: 313.6682 - val_loss: 362.8552 - val_mae: 363.3552 - lr: 1.0000e-04\n",
            "Epoch 146/500\n",
            "55/55 [==============================] - 0s 5ms/step - loss: 313.1918 - mae: 313.6917 - val_loss: 359.4912 - val_mae: 359.9892 - lr: 1.0000e-04\n",
            "Epoch 147/500\n",
            "55/55 [==============================] - 0s 5ms/step - loss: 317.2088 - mae: 317.7081 - val_loss: 348.7733 - val_mae: 349.2704 - lr: 1.0000e-04\n",
            "Epoch 148/500\n",
            "55/55 [==============================] - 0s 5ms/step - loss: 305.2250 - mae: 305.7242 - val_loss: 349.7753 - val_mae: 350.2753 - lr: 1.0000e-04\n",
            "Epoch 149/500\n",
            "55/55 [==============================] - 0s 5ms/step - loss: 306.2345 - mae: 306.7339 - val_loss: 355.7915 - val_mae: 356.2915 - lr: 1.0000e-04\n",
            "Epoch 150/500\n",
            "55/55 [==============================] - 0s 5ms/step - loss: 304.3355 - mae: 304.8353 - val_loss: 349.7733 - val_mae: 350.2733 - lr: 1.0000e-04\n",
            "Epoch 151/500\n",
            "55/55 [==============================] - 0s 5ms/step - loss: 319.7205 - mae: 320.2201 - val_loss: 356.7376 - val_mae: 357.2376 - lr: 1.0000e-04\n",
            "Epoch 152/500\n",
            "55/55 [==============================] - 0s 5ms/step - loss: 303.4766 - mae: 303.9763 - val_loss: 369.8552 - val_mae: 370.3544 - lr: 1.0000e-04\n",
            "Epoch 153/500\n",
            "55/55 [==============================] - 0s 5ms/step - loss: 307.9289 - mae: 308.4279 - val_loss: 351.3921 - val_mae: 351.8921 - lr: 1.0000e-04\n",
            "Epoch 154/500\n",
            "55/55 [==============================] - 0s 5ms/step - loss: 313.9666 - mae: 314.4656 - val_loss: 366.4103 - val_mae: 366.9103 - lr: 1.0000e-04\n",
            "Epoch 155/500\n",
            "55/55 [==============================] - 0s 5ms/step - loss: 304.1417 - mae: 304.6404 - val_loss: 341.0755 - val_mae: 341.5755 - lr: 1.0000e-04\n",
            "Epoch 156/500\n",
            "55/55 [==============================] - 0s 5ms/step - loss: 311.5200 - mae: 312.0197 - val_loss: 373.9623 - val_mae: 374.4623 - lr: 1.0000e-04\n",
            "Epoch 157/500\n",
            "55/55 [==============================] - 0s 5ms/step - loss: 307.2380 - mae: 307.7377 - val_loss: 349.9288 - val_mae: 350.4288 - lr: 1.0000e-04\n",
            "Epoch 158/500\n",
            "55/55 [==============================] - 0s 5ms/step - loss: 306.6472 - mae: 307.1461 - val_loss: 350.5572 - val_mae: 351.0552 - lr: 1.0000e-04\n",
            "Epoch 159/500\n",
            "55/55 [==============================] - 0s 5ms/step - loss: 305.2299 - mae: 305.7295 - val_loss: 349.5989 - val_mae: 350.0989 - lr: 1.0000e-04\n",
            "Epoch 160/500\n",
            "55/55 [==============================] - 0s 5ms/step - loss: 301.5042 - mae: 302.0034 - val_loss: 351.5395 - val_mae: 352.0379 - lr: 1.0000e-04\n",
            "Epoch 161/500\n",
            "55/55 [==============================] - 0s 5ms/step - loss: 297.1642 - mae: 297.6640 - val_loss: 371.4794 - val_mae: 371.9790 - lr: 1.0000e-04\n",
            "Epoch 162/500\n",
            "55/55 [==============================] - 0s 5ms/step - loss: 297.6128 - mae: 298.1125 - val_loss: 349.7332 - val_mae: 350.2332 - lr: 1.0000e-04\n",
            "Epoch 163/500\n",
            "55/55 [==============================] - 0s 5ms/step - loss: 305.2190 - mae: 305.7184 - val_loss: 344.4039 - val_mae: 344.9035 - lr: 1.0000e-04\n",
            "Epoch 164/500\n",
            "55/55 [==============================] - 0s 5ms/step - loss: 288.6283 - mae: 289.1281 - val_loss: 349.4643 - val_mae: 349.9643 - lr: 1.0000e-04\n",
            "Epoch 165/500\n",
            "55/55 [==============================] - 0s 5ms/step - loss: 295.5569 - mae: 296.0563 - val_loss: 359.7686 - val_mae: 360.2686 - lr: 1.0000e-04\n",
            "Epoch 166/500\n",
            "55/55 [==============================] - 0s 5ms/step - loss: 296.3340 - mae: 296.8337 - val_loss: 337.3262 - val_mae: 337.8262 - lr: 1.0000e-04\n",
            "Epoch 167/500\n",
            "55/55 [==============================] - 0s 5ms/step - loss: 288.8746 - mae: 289.3737 - val_loss: 339.1609 - val_mae: 339.6609 - lr: 1.0000e-04\n",
            "Epoch 168/500\n",
            "55/55 [==============================] - 0s 5ms/step - loss: 291.5721 - mae: 292.0713 - val_loss: 349.4204 - val_mae: 349.9199 - lr: 1.0000e-04\n",
            "Epoch 169/500\n",
            "55/55 [==============================] - 0s 5ms/step - loss: 305.1060 - mae: 305.6051 - val_loss: 341.1874 - val_mae: 341.6867 - lr: 1.0000e-04\n",
            "Epoch 170/500\n",
            "55/55 [==============================] - 0s 5ms/step - loss: 290.0008 - mae: 290.5005 - val_loss: 348.7641 - val_mae: 349.2641 - lr: 1.0000e-04\n",
            "Epoch 171/500\n",
            "55/55 [==============================] - 0s 5ms/step - loss: 292.9289 - mae: 293.4284 - val_loss: 346.7796 - val_mae: 347.2796 - lr: 1.0000e-04\n",
            "Epoch 172/500\n",
            "55/55 [==============================] - 0s 5ms/step - loss: 281.6894 - mae: 282.1888 - val_loss: 351.4384 - val_mae: 351.9384 - lr: 1.0000e-04\n",
            "Epoch 173/500\n",
            "55/55 [==============================] - 0s 5ms/step - loss: 291.6310 - mae: 292.1302 - val_loss: 373.2448 - val_mae: 373.7448 - lr: 1.0000e-04\n",
            "Epoch 174/500\n",
            "55/55 [==============================] - 0s 5ms/step - loss: 286.1420 - mae: 286.6415 - val_loss: 372.9245 - val_mae: 373.4239 - lr: 1.0000e-04\n",
            "Epoch 175/500\n",
            "55/55 [==============================] - 0s 5ms/step - loss: 302.0721 - mae: 302.5715 - val_loss: 346.0021 - val_mae: 346.5021 - lr: 1.0000e-04\n",
            "Epoch 176/500\n",
            "55/55 [==============================] - 0s 5ms/step - loss: 291.5943 - mae: 292.0932 - val_loss: 348.0300 - val_mae: 348.5300 - lr: 1.0000e-04\n",
            "Epoch 177/500\n",
            "55/55 [==============================] - 0s 5ms/step - loss: 282.1364 - mae: 282.6363 - val_loss: 339.5938 - val_mae: 340.0938 - lr: 1.0000e-04\n",
            "Epoch 178/500\n",
            "55/55 [==============================] - 0s 5ms/step - loss: 286.6543 - mae: 287.1536 - val_loss: 330.4443 - val_mae: 330.9443 - lr: 1.0000e-04\n",
            "Epoch 179/500\n",
            "55/55 [==============================] - 0s 5ms/step - loss: 278.2388 - mae: 278.7379 - val_loss: 334.9880 - val_mae: 335.4869 - lr: 1.0000e-04\n",
            "Epoch 180/500\n",
            "55/55 [==============================] - 0s 5ms/step - loss: 282.6114 - mae: 283.1108 - val_loss: 334.4612 - val_mae: 334.9612 - lr: 1.0000e-04\n",
            "Epoch 181/500\n",
            "55/55 [==============================] - 0s 5ms/step - loss: 287.5986 - mae: 288.0982 - val_loss: 341.7821 - val_mae: 342.2819 - lr: 1.0000e-04\n",
            "Epoch 182/500\n",
            "55/55 [==============================] - 0s 5ms/step - loss: 279.1558 - mae: 279.6553 - val_loss: 346.9500 - val_mae: 347.4500 - lr: 1.0000e-04\n",
            "Epoch 183/500\n",
            "55/55 [==============================] - 0s 5ms/step - loss: 287.1385 - mae: 287.6377 - val_loss: 351.8674 - val_mae: 352.3674 - lr: 1.0000e-04\n",
            "Epoch 184/500\n",
            "55/55 [==============================] - 0s 5ms/step - loss: 286.0536 - mae: 286.5526 - val_loss: 372.4146 - val_mae: 372.9130 - lr: 1.0000e-04\n",
            "Epoch 185/500\n",
            "55/55 [==============================] - 0s 5ms/step - loss: 284.7460 - mae: 285.2454 - val_loss: 335.5958 - val_mae: 336.0958 - lr: 1.0000e-04\n",
            "Epoch 186/500\n",
            "55/55 [==============================] - 0s 5ms/step - loss: 276.3347 - mae: 276.8345 - val_loss: 339.6335 - val_mae: 340.1315 - lr: 1.0000e-04\n",
            "Epoch 187/500\n",
            "55/55 [==============================] - 0s 5ms/step - loss: 274.3793 - mae: 274.8789 - val_loss: 357.9473 - val_mae: 358.4458 - lr: 1.0000e-04\n",
            "Epoch 188/500\n",
            "55/55 [==============================] - 0s 5ms/step - loss: 282.3545 - mae: 282.8544 - val_loss: 370.9844 - val_mae: 371.4804 - lr: 1.0000e-04\n",
            "Epoch 189/500\n",
            "55/55 [==============================] - 0s 5ms/step - loss: 277.0050 - mae: 277.5037 - val_loss: 353.0444 - val_mae: 353.5444 - lr: 1.0000e-04\n",
            "Epoch 190/500\n",
            "55/55 [==============================] - 0s 5ms/step - loss: 279.7869 - mae: 280.2863 - val_loss: 332.7213 - val_mae: 333.2213 - lr: 1.0000e-04\n",
            "Epoch 191/500\n",
            "55/55 [==============================] - 0s 5ms/step - loss: 271.9575 - mae: 272.4574 - val_loss: 340.7201 - val_mae: 341.2201 - lr: 1.0000e-04\n",
            "Epoch 192/500\n",
            "55/55 [==============================] - 0s 5ms/step - loss: 282.7998 - mae: 283.2994 - val_loss: 348.7974 - val_mae: 349.2925 - lr: 1.0000e-04\n",
            "Epoch 193/500\n",
            "55/55 [==============================] - 0s 5ms/step - loss: 274.1936 - mae: 274.6929 - val_loss: 353.2771 - val_mae: 353.7771 - lr: 1.0000e-04\n",
            "Epoch 194/500\n",
            "55/55 [==============================] - 0s 5ms/step - loss: 276.0218 - mae: 276.5208 - val_loss: 337.8691 - val_mae: 338.3679 - lr: 1.0000e-04\n",
            "Epoch 195/500\n",
            "55/55 [==============================] - 0s 5ms/step - loss: 273.5446 - mae: 274.0437 - val_loss: 327.8632 - val_mae: 328.3622 - lr: 1.0000e-04\n",
            "Epoch 196/500\n",
            "55/55 [==============================] - 0s 5ms/step - loss: 269.7467 - mae: 270.2459 - val_loss: 346.0184 - val_mae: 346.5184 - lr: 1.0000e-04\n",
            "Epoch 197/500\n",
            "55/55 [==============================] - 0s 5ms/step - loss: 272.2336 - mae: 272.7325 - val_loss: 338.4566 - val_mae: 338.9566 - lr: 1.0000e-04\n",
            "Epoch 198/500\n",
            "55/55 [==============================] - 0s 5ms/step - loss: 264.6291 - mae: 265.1281 - val_loss: 326.0110 - val_mae: 326.5110 - lr: 1.0000e-04\n",
            "Epoch 199/500\n",
            "55/55 [==============================] - 0s 5ms/step - loss: 268.5426 - mae: 269.0419 - val_loss: 329.1646 - val_mae: 329.6646 - lr: 1.0000e-04\n",
            "Epoch 200/500\n",
            "55/55 [==============================] - 0s 5ms/step - loss: 274.3869 - mae: 274.8860 - val_loss: 348.1467 - val_mae: 348.6467 - lr: 1.0000e-04\n",
            "Epoch 201/500\n",
            "55/55 [==============================] - 0s 5ms/step - loss: 268.9348 - mae: 269.4338 - val_loss: 328.7284 - val_mae: 329.2264 - lr: 1.0000e-04\n",
            "Epoch 202/500\n",
            "55/55 [==============================] - 0s 5ms/step - loss: 268.3524 - mae: 268.8515 - val_loss: 345.4186 - val_mae: 345.9186 - lr: 1.0000e-04\n",
            "Epoch 203/500\n",
            "55/55 [==============================] - 0s 5ms/step - loss: 272.9936 - mae: 273.4930 - val_loss: 373.3708 - val_mae: 373.8707 - lr: 1.0000e-04\n",
            "Epoch 204/500\n",
            "55/55 [==============================] - 0s 5ms/step - loss: 281.2968 - mae: 281.7962 - val_loss: 332.5320 - val_mae: 333.0320 - lr: 1.0000e-04\n",
            "Epoch 205/500\n",
            "55/55 [==============================] - 0s 5ms/step - loss: 275.5421 - mae: 276.0416 - val_loss: 334.4547 - val_mae: 334.9526 - lr: 1.0000e-04\n",
            "Epoch 206/500\n",
            "55/55 [==============================] - 0s 5ms/step - loss: 264.1432 - mae: 264.6421 - val_loss: 336.8167 - val_mae: 337.3160 - lr: 1.0000e-04\n",
            "Epoch 207/500\n",
            "55/55 [==============================] - 0s 5ms/step - loss: 269.7113 - mae: 270.2110 - val_loss: 331.1198 - val_mae: 331.6198 - lr: 1.0000e-04\n",
            "Epoch 208/500\n",
            "55/55 [==============================] - 0s 5ms/step - loss: 272.4123 - mae: 272.9116 - val_loss: 355.6277 - val_mae: 356.1277 - lr: 1.0000e-04\n",
            "Epoch 209/500\n",
            "55/55 [==============================] - 0s 5ms/step - loss: 272.3551 - mae: 272.8541 - val_loss: 351.3059 - val_mae: 351.8059 - lr: 1.0000e-04\n",
            "Epoch 210/500\n",
            "55/55 [==============================] - 0s 5ms/step - loss: 283.9406 - mae: 284.4392 - val_loss: 355.4849 - val_mae: 355.9849 - lr: 1.0000e-04\n",
            "Epoch 211/500\n",
            "55/55 [==============================] - 0s 5ms/step - loss: 277.5201 - mae: 278.0191 - val_loss: 331.4376 - val_mae: 331.9376 - lr: 1.0000e-04\n",
            "Epoch 212/500\n",
            "55/55 [==============================] - 0s 5ms/step - loss: 262.2267 - mae: 262.7266 - val_loss: 352.8989 - val_mae: 353.3916 - lr: 1.0000e-04\n",
            "Epoch 213/500\n",
            "55/55 [==============================] - 0s 5ms/step - loss: 270.4361 - mae: 270.9354 - val_loss: 337.0715 - val_mae: 337.5715 - lr: 1.0000e-04\n",
            "Epoch 214/500\n",
            "55/55 [==============================] - 0s 5ms/step - loss: 270.5859 - mae: 271.0854 - val_loss: 356.8937 - val_mae: 357.3937 - lr: 1.0000e-04\n",
            "Epoch 215/500\n",
            "55/55 [==============================] - 0s 5ms/step - loss: 252.8805 - mae: 253.3803 - val_loss: 341.9272 - val_mae: 342.4272 - lr: 1.0000e-04\n",
            "Epoch 216/500\n",
            "55/55 [==============================] - 0s 5ms/step - loss: 260.1714 - mae: 260.6704 - val_loss: 335.9973 - val_mae: 336.4969 - lr: 1.0000e-04\n",
            "Epoch 217/500\n",
            "55/55 [==============================] - 0s 5ms/step - loss: 270.4169 - mae: 270.9164 - val_loss: 353.0532 - val_mae: 353.5508 - lr: 1.0000e-04\n",
            "Epoch 218/500\n",
            "55/55 [==============================] - 0s 5ms/step - loss: 264.2359 - mae: 264.7354 - val_loss: 342.7051 - val_mae: 343.2051 - lr: 1.0000e-04\n",
            "Epoch 219/500\n",
            "55/55 [==============================] - 0s 5ms/step - loss: 257.3273 - mae: 257.8262 - val_loss: 333.0938 - val_mae: 333.5935 - lr: 1.0000e-04\n",
            "Epoch 220/500\n",
            "55/55 [==============================] - 0s 5ms/step - loss: 258.3316 - mae: 258.8305 - val_loss: 339.7140 - val_mae: 340.2140 - lr: 1.0000e-04\n",
            "Epoch 221/500\n",
            "55/55 [==============================] - 0s 5ms/step - loss: 259.7091 - mae: 260.2081 - val_loss: 346.3244 - val_mae: 346.8244 - lr: 1.0000e-04\n",
            "Epoch 222/500\n",
            "55/55 [==============================] - 0s 5ms/step - loss: 258.5245 - mae: 259.0241 - val_loss: 337.5201 - val_mae: 338.0162 - lr: 1.0000e-04\n",
            "Epoch 223/500\n",
            "55/55 [==============================] - 0s 5ms/step - loss: 254.1449 - mae: 254.6443 - val_loss: 369.6903 - val_mae: 370.1903 - lr: 1.0000e-04\n",
            "Epoch 224/500\n",
            "55/55 [==============================] - 0s 5ms/step - loss: 265.5727 - mae: 266.0722 - val_loss: 328.4677 - val_mae: 328.9677 - lr: 1.0000e-04\n",
            "Epoch 225/500\n",
            "55/55 [==============================] - 0s 5ms/step - loss: 255.2373 - mae: 255.7370 - val_loss: 329.3742 - val_mae: 329.8727 - lr: 1.0000e-04\n",
            "Epoch 226/500\n",
            "55/55 [==============================] - 0s 5ms/step - loss: 250.4876 - mae: 250.9863 - val_loss: 340.8394 - val_mae: 341.3373 - lr: 1.0000e-04\n",
            "Epoch 227/500\n",
            "55/55 [==============================] - 0s 5ms/step - loss: 259.3969 - mae: 259.8961 - val_loss: 358.1192 - val_mae: 358.6192 - lr: 1.0000e-04\n",
            "Epoch 228/500\n",
            "49/55 [=========================>....] - ETA: 0s - loss: 251.2128 - mae: 251.7118Restoring model weights from the end of the best epoch: 198.\n",
            "55/55 [==============================] - 0s 5ms/step - loss: 255.6548 - mae: 256.1537 - val_loss: 340.0725 - val_mae: 340.5717 - lr: 1.0000e-04\n",
            "Epoch 228: early stopping\n"
          ]
        }
      ]
    },
    {
      "cell_type": "code",
      "source": [
        "pd.DataFrame(history.history).plot(figsize=(10, 7))\n",
        "plt.grid(True)\n",
        "plt.show()"
      ],
      "metadata": {
        "colab": {
          "base_uri": "https://localhost:8080/",
          "height": 428
        },
        "id": "P4CCymPgzoNH",
        "outputId": "90751b94-41e4-49af-9d83-c537228f9243"
      },
      "execution_count": 37,
      "outputs": [
        {
          "output_type": "display_data",
          "data": {
            "text/plain": [
              "<Figure size 720x504 with 1 Axes>"
            ],
            "image/png": "[encoded data removed]"
          },
          "metadata": {
            "needs_background": "light"
          }
        }
      ]
    },
    {
      "cell_type": "code",
      "source": [
        "scores = model.evaluate(X_test, y_test)"
      ],
      "metadata": {
        "colab": {
          "base_uri": "https://localhost:8080/"
        },
        "id": "LOYayY7H0XTP",
        "outputId": "4bd7f8c6-894c-4258-d99c-00ad0d61a353"
      },
      "execution_count": 38,
      "outputs": [
        {
          "output_type": "stream",
          "name": "stdout",
          "text": [
            "16/16 [==============================] - 0s 3ms/step - loss: 318.4150 - mae: 318.9150\n"
          ]
        }
      ]
    },
    {
      "cell_type": "code",
      "source": [
        "preds = model.predict(X_test, verbose=1)"
      ],
      "metadata": {
        "colab": {
          "base_uri": "https://localhost:8080/"
        },
        "id": "FJIpkBZg6T-D",
        "outputId": "b81f0b3a-be55-4d54-c8ae-de8cde955315"
      },
      "execution_count": 39,
      "outputs": [
        {
          "output_type": "stream",
          "name": "stdout",
          "text": [
            "16/16 [==============================] - 0s 2ms/step\n"
          ]
        }
      ]
    },
    {
      "cell_type": "code",
      "source": [
        "from scipy import stats"
      ],
      "metadata": {
        "id": "tczk9B-N6WLu"
      },
      "execution_count": 40,
      "outputs": []
    },
    {
      "cell_type": "code",
      "source": [
        "confidence = 0.95\n",
        "\n",
        "abs_errors = abs(preds.flatten() - y_test.to_numpy().flatten())\n",
        "stats.t.interval(confidence, len(abs_errors)-1, \n",
        "                         loc=abs_errors.mean(), \n",
        "                         scale=stats.sem(abs_errors))"
      ],
      "metadata": {
        "colab": {
          "base_uri": "https://localhost:8080/"
        },
        "id": "EXiGUnWP6YUu",
        "outputId": "93aebf21-99d7-4c01-fc2e-5e214433e774"
      },
      "execution_count": 41,
      "outputs": [
        {
          "output_type": "execute_result",
          "data": {
            "text/plain": [
              "(277.1452193788507, 360.6846776583717)"
            ]
          },
          "metadata": {},
          "execution_count": 41
        }
      ]
    },
    {
      "cell_type": "code",
      "source": [
        "# We observe a better confidence interval using the full set of features; thus make better predictions\n",
        "# The model using the minimum set of features doesn't out perform the model using all features"
      ],
      "metadata": {
        "id": "a7a4tGKDHiqk"
      },
      "execution_count": 42,
      "outputs": []
    },
    {
      "cell_type": "code",
      "source": [
        "# model.save(\"queems_model.h5\")"
      ],
      "metadata": {
        "id": "O1EocXxa6r0p"
      },
      "execution_count": 43,
      "outputs": []
    },
    {
      "cell_type": "code",
      "source": [
        "# /content/drive/MyDrive/Boro_DFs/\n",
        "model.save(\"/content/drive/MyDrive/Boro_DFs/queens_minimum_features_model.h5\")"
      ],
      "metadata": {
        "id": "yBEwI7ai60uc"
      },
      "execution_count": 44,
      "outputs": []
    }
  ]
}