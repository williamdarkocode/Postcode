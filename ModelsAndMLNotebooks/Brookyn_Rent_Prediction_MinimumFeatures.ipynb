{
  "nbformat": 4,
  "nbformat_minor": 0,
  "metadata": {
    "colab": {
      "name": "Brookyn_Rent_Prediction_MinimumFeatures.ipynb",
      "provenance": []
    },
    "kernelspec": {
      "name": "python3",
      "display_name": "Python 3"
    },
    "language_info": {
      "name": "python"
    },
    "accelerator": "GPU"
  },
  "cells": [
    {
      "cell_type": "code",
      "execution_count": 1,
      "metadata": {
        "id": "IHq6vEX0JQh5"
      },
      "outputs": [],
      "source": [
        "import matplotlib.pyplot as plt\n",
        "import pandas as pd\n",
        "import numpy as np\n",
        "import tarfile\n",
        "import math\n",
        "\n",
        "from tensorflow import keras\n",
        "from keras import models\n",
        "from keras import layers\n",
        "from keras.callbacks import EarlyStopping\n",
        "\n",
        "\n",
        "from sklearn.model_selection import train_test_split\n",
        "from sklearn.impute import SimpleImputer\n",
        "from sklearn.preprocessing import MinMaxScaler\n",
        "from sklearn.preprocessing import OneHotEncoder"
      ]
    },
    {
      "cell_type": "code",
      "source": [
        "from keras.callbacks import ReduceLROnPlateau"
      ],
      "metadata": {
        "id": "QT0Ilkkn0pq5"
      },
      "execution_count": 2,
      "outputs": []
    },
    {
      "cell_type": "code",
      "source": [
        "from keras.layers import AlphaDropout"
      ],
      "metadata": {
        "id": "9pv0CxHhAe4c"
      },
      "execution_count": 3,
      "outputs": []
    },
    {
      "cell_type": "code",
      "source": [
        "from google.colab import drive\n",
        "drive.mount('/content/drive/')"
      ],
      "metadata": {
        "colab": {
          "base_uri": "https://localhost:8080/"
        },
        "id": "LznBSqDlpFQe",
        "outputId": "be28195f-e7b8-4c28-9c8b-49545629a51c"
      },
      "execution_count": 4,
      "outputs": [
        {
          "output_type": "stream",
          "name": "stdout",
          "text": [
            "Mounted at /content/drive/\n"
          ]
        }
      ]
    },
    {
      "cell_type": "code",
      "source": [
        "from numpy.random import seed\n",
        "seed(15)\n",
        "\n",
        "from tensorflow.random import set_seed\n",
        "set_seed(15)"
      ],
      "metadata": {
        "id": "F82b9igNpD4a"
      },
      "execution_count": 5,
      "outputs": []
    },
    {
      "cell_type": "code",
      "source": [
        "brooklyn_csv = '/content/drive/MyDrive/Boro_DFs/bklyn_df.csv'"
      ],
      "metadata": {
        "id": "It23BQMkpZrO"
      },
      "execution_count": 6,
      "outputs": []
    },
    {
      "cell_type": "code",
      "source": [
        "brooklyn_df = pd.DataFrame(pd.read_csv(brooklyn_csv))"
      ],
      "metadata": {
        "id": "cGPCANEIppM-"
      },
      "execution_count": 7,
      "outputs": []
    },
    {
      "cell_type": "code",
      "source": [
        "brooklyn_df.head()"
      ],
      "metadata": {
        "colab": {
          "base_uri": "https://localhost:8080/",
          "height": 302
        },
        "id": "nn32hx06p1M7",
        "outputId": "386ea91f-ad52-491c-ee8f-0cc721e3cc51"
      },
      "execution_count": 8,
      "outputs": [
        {
          "output_type": "execute_result",
          "data": {
            "text/plain": [
              "    Borough                                              Area  \\\n",
              "0  brooklyn                         Prospect Lefferts Gardens   \n",
              "1  brooklyn                                      Williamsburg   \n",
              "2  brooklyn                                       Bensonhurst   \n",
              "3  brooklyn  DUMBO-Vinegar Hill-Downtown Brooklyn-Boerum Hill   \n",
              "4  brooklyn                                     East Flatbush   \n",
              "\n",
              "               Address  Num_Beds  Num_Baths    Sq-Ft    Rent       Long  \\\n",
              "0  620 Parkside Avenue       3.0        1.0  1067.73  3100.0 -73.952639   \n",
              "1        1 N 4th Place       1.0        1.0   600.00  4597.0 -74.000048   \n",
              "2     1651 84th Street       2.0        1.0   600.00  1650.0 -74.004634   \n",
              "3     181 Front Street       2.0        2.0  1290.54  6496.0 -73.985988   \n",
              "4  3420 Clarendon Road       1.0        1.0   624.88  1600.0 -73.944233   \n",
              "\n",
              "         Lat  ZipCode  Precinct  CrimeTotalPastYear Train_Line  Dist_To_Line  \\\n",
              "0  40.656024  11226.0      71.0               954.0          2      0.002519   \n",
              "1  40.678412  11231.0      76.0               406.0          F      0.003447   \n",
              "2  40.610703  11214.0      62.0              1179.0          D      0.003225   \n",
              "3  40.702526  11201.0      84.0              1063.0          F      0.001683   \n",
              "4  40.643375  11203.0      67.0              1832.0          5      0.004833   \n",
              "\n",
              "   Dist_To_Station  Dist_To_Entrance  \n",
              "0         0.002638          0.002298  \n",
              "1         0.005430          0.004440  \n",
              "2         0.004249          0.004048  \n",
              "3         0.002925          0.001326  \n",
              "4         0.004935          0.004754  "
            ],
            "text/html": [
              "\n",
              "  <div id=\"df-487d0580-a089-44e4-a850-96b2f5284331\">\n",
              "    <div class=\"colab-df-container\">\n",
              "      <div>\n",
              "<style scoped>\n",
              "    .dataframe tbody tr th:only-of-type {\n",
              "        vertical-align: middle;\n",
              "    }\n",
              "\n",
              "    .dataframe tbody tr th {\n",
              "        vertical-align: top;\n",
              "    }\n",
              "\n",
              "    .dataframe thead th {\n",
              "        text-align: right;\n",
              "    }\n",
              "</style>\n",
              "<table border=\"1\" class=\"dataframe\">\n",
              "  <thead>\n",
              "    <tr style=\"text-align: right;\">\n",
              "      <th></th>\n",
              "      <th>Borough</th>\n",
              "      <th>Area</th>\n",
              "      <th>Address</th>\n",
              "      <th>Num_Beds</th>\n",
              "      <th>Num_Baths</th>\n",
              "      <th>Sq-Ft</th>\n",
              "      <th>Rent</th>\n",
              "      <th>Long</th>\n",
              "      <th>Lat</th>\n",
              "      <th>ZipCode</th>\n",
              "      <th>Precinct</th>\n",
              "      <th>CrimeTotalPastYear</th>\n",
              "      <th>Train_Line</th>\n",
              "      <th>Dist_To_Line</th>\n",
              "      <th>Dist_To_Station</th>\n",
              "      <th>Dist_To_Entrance</th>\n",
              "    </tr>\n",
              "  </thead>\n",
              "  <tbody>\n",
              "    <tr>\n",
              "      <th>0</th>\n",
              "      <td>brooklyn</td>\n",
              "      <td>Prospect Lefferts Gardens</td>\n",
              "      <td>620 Parkside Avenue</td>\n",
              "      <td>3.0</td>\n",
              "      <td>1.0</td>\n",
              "      <td>1067.73</td>\n",
              "      <td>3100.0</td>\n",
              "      <td>-73.952639</td>\n",
              "      <td>40.656024</td>\n",
              "      <td>11226.0</td>\n",
              "      <td>71.0</td>\n",
              "      <td>954.0</td>\n",
              "      <td>2</td>\n",
              "      <td>0.002519</td>\n",
              "      <td>0.002638</td>\n",
              "      <td>0.002298</td>\n",
              "    </tr>\n",
              "    <tr>\n",
              "      <th>1</th>\n",
              "      <td>brooklyn</td>\n",
              "      <td>Williamsburg</td>\n",
              "      <td>1 N 4th Place</td>\n",
              "      <td>1.0</td>\n",
              "      <td>1.0</td>\n",
              "      <td>600.00</td>\n",
              "      <td>4597.0</td>\n",
              "      <td>-74.000048</td>\n",
              "      <td>40.678412</td>\n",
              "      <td>11231.0</td>\n",
              "      <td>76.0</td>\n",
              "      <td>406.0</td>\n",
              "      <td>F</td>\n",
              "      <td>0.003447</td>\n",
              "      <td>0.005430</td>\n",
              "      <td>0.004440</td>\n",
              "    </tr>\n",
              "    <tr>\n",
              "      <th>2</th>\n",
              "      <td>brooklyn</td>\n",
              "      <td>Bensonhurst</td>\n",
              "      <td>1651 84th Street</td>\n",
              "      <td>2.0</td>\n",
              "      <td>1.0</td>\n",
              "      <td>600.00</td>\n",
              "      <td>1650.0</td>\n",
              "      <td>-74.004634</td>\n",
              "      <td>40.610703</td>\n",
              "      <td>11214.0</td>\n",
              "      <td>62.0</td>\n",
              "      <td>1179.0</td>\n",
              "      <td>D</td>\n",
              "      <td>0.003225</td>\n",
              "      <td>0.004249</td>\n",
              "      <td>0.004048</td>\n",
              "    </tr>\n",
              "    <tr>\n",
              "      <th>3</th>\n",
              "      <td>brooklyn</td>\n",
              "      <td>DUMBO-Vinegar Hill-Downtown Brooklyn-Boerum Hill</td>\n",
              "      <td>181 Front Street</td>\n",
              "      <td>2.0</td>\n",
              "      <td>2.0</td>\n",
              "      <td>1290.54</td>\n",
              "      <td>6496.0</td>\n",
              "      <td>-73.985988</td>\n",
              "      <td>40.702526</td>\n",
              "      <td>11201.0</td>\n",
              "      <td>84.0</td>\n",
              "      <td>1063.0</td>\n",
              "      <td>F</td>\n",
              "      <td>0.001683</td>\n",
              "      <td>0.002925</td>\n",
              "      <td>0.001326</td>\n",
              "    </tr>\n",
              "    <tr>\n",
              "      <th>4</th>\n",
              "      <td>brooklyn</td>\n",
              "      <td>East Flatbush</td>\n",
              "      <td>3420 Clarendon Road</td>\n",
              "      <td>1.0</td>\n",
              "      <td>1.0</td>\n",
              "      <td>624.88</td>\n",
              "      <td>1600.0</td>\n",
              "      <td>-73.944233</td>\n",
              "      <td>40.643375</td>\n",
              "      <td>11203.0</td>\n",
              "      <td>67.0</td>\n",
              "      <td>1832.0</td>\n",
              "      <td>5</td>\n",
              "      <td>0.004833</td>\n",
              "      <td>0.004935</td>\n",
              "      <td>0.004754</td>\n",
              "    </tr>\n",
              "  </tbody>\n",
              "</table>\n",
              "</div>\n",
              "      <button class=\"colab-df-convert\" onclick=\"convertToInteractive('df-487d0580-a089-44e4-a850-96b2f5284331')\"\n",
              "              title=\"Convert this dataframe to an interactive table.\"\n",
              "              style=\"display:none;\">\n",
              "        \n",
              "  <svg xmlns=\"http://www.w3.org/2000/svg\" height=\"24px\"viewBox=\"0 0 24 24\"\n",
              "       width=\"24px\">\n",
              "    <path d=\"M0 0h24v24H0V0z\" fill=\"none\"/>\n",
              "    <path d=\"M18.56 5.44l.94 2.06.94-2.06 2.06-.94-2.06-.94-.94-2.06-.94 2.06-2.06.94zm-11 1L8.5 8.5l.94-2.06 2.06-.94-2.06-.94L8.5 2.5l-.94 2.06-2.06.94zm10 10l.94 2.06.94-2.06 2.06-.94-2.06-.94-.94-2.06-.94 2.06-2.06.94z\"/><path d=\"M17.41 7.96l-1.37-1.37c-.4-.4-.92-.59-1.43-.59-.52 0-1.04.2-1.43.59L10.3 9.45l-7.72 7.72c-.78.78-.78 2.05 0 2.83L4 21.41c.39.39.9.59 1.41.59.51 0 1.02-.2 1.41-.59l7.78-7.78 2.81-2.81c.8-.78.8-2.07 0-2.86zM5.41 20L4 18.59l7.72-7.72 1.47 1.35L5.41 20z\"/>\n",
              "  </svg>\n",
              "      </button>\n",
              "      \n",
              "  <style>\n",
              "    .colab-df-container {\n",
              "      display:flex;\n",
              "      flex-wrap:wrap;\n",
              "      gap: 12px;\n",
              "    }\n",
              "\n",
              "    .colab-df-convert {\n",
              "      background-color: #E8F0FE;\n",
              "      border: none;\n",
              "      border-radius: 50%;\n",
              "      cursor: pointer;\n",
              "      display: none;\n",
              "      fill: #1967D2;\n",
              "      height: 32px;\n",
              "      padding: 0 0 0 0;\n",
              "      width: 32px;\n",
              "    }\n",
              "\n",
              "    .colab-df-convert:hover {\n",
              "      background-color: #E2EBFA;\n",
              "      box-shadow: 0px 1px 2px rgba(60, 64, 67, 0.3), 0px 1px 3px 1px rgba(60, 64, 67, 0.15);\n",
              "      fill: #174EA6;\n",
              "    }\n",
              "\n",
              "    [theme=dark] .colab-df-convert {\n",
              "      background-color: #3B4455;\n",
              "      fill: #D2E3FC;\n",
              "    }\n",
              "\n",
              "    [theme=dark] .colab-df-convert:hover {\n",
              "      background-color: #434B5C;\n",
              "      box-shadow: 0px 1px 3px 1px rgba(0, 0, 0, 0.15);\n",
              "      filter: drop-shadow(0px 1px 2px rgba(0, 0, 0, 0.3));\n",
              "      fill: #FFFFFF;\n",
              "    }\n",
              "  </style>\n",
              "\n",
              "      <script>\n",
              "        const buttonEl =\n",
              "          document.querySelector('#df-487d0580-a089-44e4-a850-96b2f5284331 button.colab-df-convert');\n",
              "        buttonEl.style.display =\n",
              "          google.colab.kernel.accessAllowed ? 'block' : 'none';\n",
              "\n",
              "        async function convertToInteractive(key) {\n",
              "          const element = document.querySelector('#df-487d0580-a089-44e4-a850-96b2f5284331');\n",
              "          const dataTable =\n",
              "            await google.colab.kernel.invokeFunction('convertToInteractive',\n",
              "                                                     [key], {});\n",
              "          if (!dataTable) return;\n",
              "\n",
              "          const docLinkHtml = 'Like what you see? Visit the ' +\n",
              "            '<a target=\"_blank\" href=https://colab.research.google.com/notebooks/data_table.ipynb>data table notebook</a>'\n",
              "            + ' to learn more about interactive tables.';\n",
              "          element.innerHTML = '';\n",
              "          dataTable['output_type'] = 'display_data';\n",
              "          await google.colab.output.renderOutput(dataTable, element);\n",
              "          const docLink = document.createElement('div');\n",
              "          docLink.innerHTML = docLinkHtml;\n",
              "          element.appendChild(docLink);\n",
              "        }\n",
              "      </script>\n",
              "    </div>\n",
              "  </div>\n",
              "  "
            ]
          },
          "metadata": {},
          "execution_count": 8
        }
      ]
    },
    {
      "cell_type": "code",
      "source": [
        "y = brooklyn_df[['Rent']]"
      ],
      "metadata": {
        "id": "nDuMfPUQqMH2"
      },
      "execution_count": 9,
      "outputs": []
    },
    {
      "cell_type": "code",
      "source": [
        "X = brooklyn_df.drop(['Area', 'Address','Borough', 'Rent', 'ZipCode', 'Precinct', 'CrimeTotalPastYear', 'Train_Line', 'Dist_To_Line', 'Dist_To_Station', 'Dist_To_Entrance'], axis=1)\n",
        "X.head()"
      ],
      "metadata": {
        "colab": {
          "base_uri": "https://localhost:8080/",
          "height": 206
        },
        "id": "xhlAi-gSqUtm",
        "outputId": "46b777d2-0356-405b-fe25-7fa3bc688609"
      },
      "execution_count": 10,
      "outputs": [
        {
          "output_type": "execute_result",
          "data": {
            "text/plain": [
              "   Num_Beds  Num_Baths    Sq-Ft       Long        Lat\n",
              "0       3.0        1.0  1067.73 -73.952639  40.656024\n",
              "1       1.0        1.0   600.00 -74.000048  40.678412\n",
              "2       2.0        1.0   600.00 -74.004634  40.610703\n",
              "3       2.0        2.0  1290.54 -73.985988  40.702526\n",
              "4       1.0        1.0   624.88 -73.944233  40.643375"
            ],
            "text/html": [
              "\n",
              "  <div id=\"df-065c7d37-947e-48b2-a926-f0856f21a873\">\n",
              "    <div class=\"colab-df-container\">\n",
              "      <div>\n",
              "<style scoped>\n",
              "    .dataframe tbody tr th:only-of-type {\n",
              "        vertical-align: middle;\n",
              "    }\n",
              "\n",
              "    .dataframe tbody tr th {\n",
              "        vertical-align: top;\n",
              "    }\n",
              "\n",
              "    .dataframe thead th {\n",
              "        text-align: right;\n",
              "    }\n",
              "</style>\n",
              "<table border=\"1\" class=\"dataframe\">\n",
              "  <thead>\n",
              "    <tr style=\"text-align: right;\">\n",
              "      <th></th>\n",
              "      <th>Num_Beds</th>\n",
              "      <th>Num_Baths</th>\n",
              "      <th>Sq-Ft</th>\n",
              "      <th>Long</th>\n",
              "      <th>Lat</th>\n",
              "    </tr>\n",
              "  </thead>\n",
              "  <tbody>\n",
              "    <tr>\n",
              "      <th>0</th>\n",
              "      <td>3.0</td>\n",
              "      <td>1.0</td>\n",
              "      <td>1067.73</td>\n",
              "      <td>-73.952639</td>\n",
              "      <td>40.656024</td>\n",
              "    </tr>\n",
              "    <tr>\n",
              "      <th>1</th>\n",
              "      <td>1.0</td>\n",
              "      <td>1.0</td>\n",
              "      <td>600.00</td>\n",
              "      <td>-74.000048</td>\n",
              "      <td>40.678412</td>\n",
              "    </tr>\n",
              "    <tr>\n",
              "      <th>2</th>\n",
              "      <td>2.0</td>\n",
              "      <td>1.0</td>\n",
              "      <td>600.00</td>\n",
              "      <td>-74.004634</td>\n",
              "      <td>40.610703</td>\n",
              "    </tr>\n",
              "    <tr>\n",
              "      <th>3</th>\n",
              "      <td>2.0</td>\n",
              "      <td>2.0</td>\n",
              "      <td>1290.54</td>\n",
              "      <td>-73.985988</td>\n",
              "      <td>40.702526</td>\n",
              "    </tr>\n",
              "    <tr>\n",
              "      <th>4</th>\n",
              "      <td>1.0</td>\n",
              "      <td>1.0</td>\n",
              "      <td>624.88</td>\n",
              "      <td>-73.944233</td>\n",
              "      <td>40.643375</td>\n",
              "    </tr>\n",
              "  </tbody>\n",
              "</table>\n",
              "</div>\n",
              "      <button class=\"colab-df-convert\" onclick=\"convertToInteractive('df-065c7d37-947e-48b2-a926-f0856f21a873')\"\n",
              "              title=\"Convert this dataframe to an interactive table.\"\n",
              "              style=\"display:none;\">\n",
              "        \n",
              "  <svg xmlns=\"http://www.w3.org/2000/svg\" height=\"24px\"viewBox=\"0 0 24 24\"\n",
              "       width=\"24px\">\n",
              "    <path d=\"M0 0h24v24H0V0z\" fill=\"none\"/>\n",
              "    <path d=\"M18.56 5.44l.94 2.06.94-2.06 2.06-.94-2.06-.94-.94-2.06-.94 2.06-2.06.94zm-11 1L8.5 8.5l.94-2.06 2.06-.94-2.06-.94L8.5 2.5l-.94 2.06-2.06.94zm10 10l.94 2.06.94-2.06 2.06-.94-2.06-.94-.94-2.06-.94 2.06-2.06.94z\"/><path d=\"M17.41 7.96l-1.37-1.37c-.4-.4-.92-.59-1.43-.59-.52 0-1.04.2-1.43.59L10.3 9.45l-7.72 7.72c-.78.78-.78 2.05 0 2.83L4 21.41c.39.39.9.59 1.41.59.51 0 1.02-.2 1.41-.59l7.78-7.78 2.81-2.81c.8-.78.8-2.07 0-2.86zM5.41 20L4 18.59l7.72-7.72 1.47 1.35L5.41 20z\"/>\n",
              "  </svg>\n",
              "      </button>\n",
              "      \n",
              "  <style>\n",
              "    .colab-df-container {\n",
              "      display:flex;\n",
              "      flex-wrap:wrap;\n",
              "      gap: 12px;\n",
              "    }\n",
              "\n",
              "    .colab-df-convert {\n",
              "      background-color: #E8F0FE;\n",
              "      border: none;\n",
              "      border-radius: 50%;\n",
              "      cursor: pointer;\n",
              "      display: none;\n",
              "      fill: #1967D2;\n",
              "      height: 32px;\n",
              "      padding: 0 0 0 0;\n",
              "      width: 32px;\n",
              "    }\n",
              "\n",
              "    .colab-df-convert:hover {\n",
              "      background-color: #E2EBFA;\n",
              "      box-shadow: 0px 1px 2px rgba(60, 64, 67, 0.3), 0px 1px 3px 1px rgba(60, 64, 67, 0.15);\n",
              "      fill: #174EA6;\n",
              "    }\n",
              "\n",
              "    [theme=dark] .colab-df-convert {\n",
              "      background-color: #3B4455;\n",
              "      fill: #D2E3FC;\n",
              "    }\n",
              "\n",
              "    [theme=dark] .colab-df-convert:hover {\n",
              "      background-color: #434B5C;\n",
              "      box-shadow: 0px 1px 3px 1px rgba(0, 0, 0, 0.15);\n",
              "      filter: drop-shadow(0px 1px 2px rgba(0, 0, 0, 0.3));\n",
              "      fill: #FFFFFF;\n",
              "    }\n",
              "  </style>\n",
              "\n",
              "      <script>\n",
              "        const buttonEl =\n",
              "          document.querySelector('#df-065c7d37-947e-48b2-a926-f0856f21a873 button.colab-df-convert');\n",
              "        buttonEl.style.display =\n",
              "          google.colab.kernel.accessAllowed ? 'block' : 'none';\n",
              "\n",
              "        async function convertToInteractive(key) {\n",
              "          const element = document.querySelector('#df-065c7d37-947e-48b2-a926-f0856f21a873');\n",
              "          const dataTable =\n",
              "            await google.colab.kernel.invokeFunction('convertToInteractive',\n",
              "                                                     [key], {});\n",
              "          if (!dataTable) return;\n",
              "\n",
              "          const docLinkHtml = 'Like what you see? Visit the ' +\n",
              "            '<a target=\"_blank\" href=https://colab.research.google.com/notebooks/data_table.ipynb>data table notebook</a>'\n",
              "            + ' to learn more about interactive tables.';\n",
              "          element.innerHTML = '';\n",
              "          dataTable['output_type'] = 'display_data';\n",
              "          await google.colab.output.renderOutput(dataTable, element);\n",
              "          const docLink = document.createElement('div');\n",
              "          docLink.innerHTML = docLinkHtml;\n",
              "          element.appendChild(docLink);\n",
              "        }\n",
              "      </script>\n",
              "    </div>\n",
              "  </div>\n",
              "  "
            ]
          },
          "metadata": {},
          "execution_count": 10
        }
      ]
    },
    {
      "cell_type": "code",
      "source": [
        "# X = pd.get_dummies(X, columns=['Area', 'Address', 'ZipCode', 'Precinct', 'Train_Line'])"
      ],
      "metadata": {
        "id": "4P1BFCNV4NK4"
      },
      "execution_count": 11,
      "outputs": []
    },
    {
      "cell_type": "code",
      "source": [
        "X_train, X_test, y_train, y_test = train_test_split(X, y, test_size=0.2, random_state=42) "
      ],
      "metadata": {
        "id": "PGBo1zfvsq38"
      },
      "execution_count": 12,
      "outputs": []
    },
    {
      "cell_type": "code",
      "source": [
        "# numeric_cols = ['Num_Beds', 'Num_Baths', 'Sq-Ft', 'Long', 'Lat', 'CrimeTotalPastYear', 'Dist_To_Line', 'Dist_To_Station', 'Dist_To_Entrance']"
      ],
      "metadata": {
        "id": "uQhhxKkD4efw"
      },
      "execution_count": 13,
      "outputs": []
    },
    {
      "cell_type": "code",
      "source": [
        "# X_train_num = X_train[numeric_cols]"
      ],
      "metadata": {
        "id": "I4uVOTx2tGNS"
      },
      "execution_count": 14,
      "outputs": []
    },
    {
      "cell_type": "code",
      "source": [
        "# X_test_num = X_test[numeric_cols]"
      ],
      "metadata": {
        "id": "z5-Af9EKtmY2"
      },
      "execution_count": 15,
      "outputs": []
    },
    {
      "cell_type": "code",
      "source": [
        "# print(X_train_num.shape)\n",
        "# print(X_test_num.shape)"
      ],
      "metadata": {
        "id": "Vdgob14o5HKD"
      },
      "execution_count": 16,
      "outputs": []
    },
    {
      "cell_type": "code",
      "source": [
        "scaler = MinMaxScaler()"
      ],
      "metadata": {
        "id": "p9RNRLAbtwBQ"
      },
      "execution_count": 17,
      "outputs": []
    },
    {
      "cell_type": "code",
      "source": [
        "X_train = scaler.fit_transform(X_train)"
      ],
      "metadata": {
        "id": "7PtlLZ1Ct1q8"
      },
      "execution_count": 18,
      "outputs": []
    },
    {
      "cell_type": "code",
      "source": [
        "X_train.shape"
      ],
      "metadata": {
        "colab": {
          "base_uri": "https://localhost:8080/"
        },
        "id": "UOd7oCyH2aUQ",
        "outputId": "9ab7a423-1b46-4a5c-abda-fac87b1e3348"
      },
      "execution_count": 19,
      "outputs": [
        {
          "output_type": "execute_result",
          "data": {
            "text/plain": [
              "(4150, 5)"
            ]
          },
          "metadata": {},
          "execution_count": 19
        }
      ]
    },
    {
      "cell_type": "code",
      "source": [
        "X_test = scaler.transform(X_test)"
      ],
      "metadata": {
        "id": "P71FdUJ0uBwi"
      },
      "execution_count": 20,
      "outputs": []
    },
    {
      "cell_type": "code",
      "source": [
        "X_test.shape"
      ],
      "metadata": {
        "colab": {
          "base_uri": "https://localhost:8080/"
        },
        "id": "ReDQGS852Xdb",
        "outputId": "98c86b2f-e710-4498-ce0f-c4b6a6746e13"
      },
      "execution_count": 21,
      "outputs": [
        {
          "output_type": "execute_result",
          "data": {
            "text/plain": [
              "(1038, 5)"
            ]
          },
          "metadata": {},
          "execution_count": 21
        }
      ]
    },
    {
      "cell_type": "code",
      "source": [
        "# X_train_onehots = X_train.drop(numeric_cols, axis=1)\n",
        "# X_test_onehots = X_test.drop(numeric_cols, axis=1)"
      ],
      "metadata": {
        "id": "FdZcJP0QuIVM"
      },
      "execution_count": 22,
      "outputs": []
    },
    {
      "cell_type": "code",
      "source": [
        "# X_train_onehots.shape"
      ],
      "metadata": {
        "id": "z6g_xtgK15Je"
      },
      "execution_count": 23,
      "outputs": []
    },
    {
      "cell_type": "code",
      "source": [
        "# X_test_onehots.shape"
      ],
      "metadata": {
        "id": "kqRZuLf917vt"
      },
      "execution_count": 24,
      "outputs": []
    },
    {
      "cell_type": "code",
      "source": [
        "# X_train = np.concatenate((X_train_num, X_train_onehots), axis=1)"
      ],
      "metadata": {
        "id": "fr7kghS9yA5F"
      },
      "execution_count": 25,
      "outputs": []
    },
    {
      "cell_type": "code",
      "source": [
        "# X_test = np.concatenate((X_test_num, X_test_onehots), axis=1)"
      ],
      "metadata": {
        "id": "WTUi2RjXyMFd"
      },
      "execution_count": 26,
      "outputs": []
    },
    {
      "cell_type": "code",
      "source": [
        "# create validation set\n",
        "num_val_insts = math.floor(X_train.shape[0]*(.10))\n",
        "\n",
        "X_val = X_train[:num_val_insts]\n",
        "y_val = y_train[:num_val_insts]\n",
        "\n",
        "X_train = X_train[num_val_insts:]\n",
        "y_train = y_train[num_val_insts:]"
      ],
      "metadata": {
        "id": "d3BMgWC8yaXg"
      },
      "execution_count": 27,
      "outputs": []
    },
    {
      "cell_type": "code",
      "source": [
        "print(f\"X_train shape: {X_train.shape}, y_train shape: {y_train.shape}\")\n",
        "print(f\"X_val shape: {X_val.shape}, y_val shape: {y_val.shape}\")\n",
        "print(f\"X_test shape: {X_test.shape}, y_test shape: {y_test.shape}\")"
      ],
      "metadata": {
        "colab": {
          "base_uri": "https://localhost:8080/"
        },
        "id": "HytfmXvtyjHK",
        "outputId": "5a90f746-a74c-4c03-b823-05a0f801cb5d"
      },
      "execution_count": 28,
      "outputs": [
        {
          "output_type": "stream",
          "name": "stdout",
          "text": [
            "X_train shape: (3735, 5), y_train shape: (3735, 1)\n",
            "X_val shape: (415, 5), y_val shape: (415, 1)\n",
            "X_test shape: (1038, 5), y_test shape: (1038, 1)\n"
          ]
        }
      ]
    },
    {
      "cell_type": "code",
      "source": [
        "from keras.initializers import lecun_normal"
      ],
      "metadata": {
        "id": "Yc8srrdAy3cI"
      },
      "execution_count": 29,
      "outputs": []
    },
    {
      "cell_type": "code",
      "source": [
        "initialiser = lecun_normal(seed=31)"
      ],
      "metadata": {
        "id": "mSe9P4ETy4zn"
      },
      "execution_count": 30,
      "outputs": []
    },
    {
      "cell_type": "code",
      "source": [
        "# model\n",
        "\n",
        "model = models.Sequential()\n",
        "model.add(layers.Dense(512, activation='selu', input_shape=(X_train.shape[1],), kernel_initializer=initialiser))\n",
        "model.add(layers.Dense(512, activation='selu', kernel_initializer=initialiser))\n",
        "model.add(layers.Dense(512, activation='selu', kernel_initializer=initialiser))\n",
        "model.add(layers.Dense(512, activation='selu', kernel_initializer=initialiser))\n",
        "model.add(layers.Dense(512, activation='selu', kernel_initializer=initialiser))\n",
        "model.add(layers.Dense(512, activation='selu', kernel_initializer=initialiser))\n",
        "model.add(layers.Dense(512, activation='selu', kernel_initializer=initialiser))\n",
        "\n",
        "model.add(layers.Dense(256, activation='selu', kernel_initializer=initialiser))\n",
        "model.add(layers.Dense(256, activation='selu', kernel_initializer=initialiser))\n",
        "\n",
        "model.add(layers.Dense(128, activation='selu', kernel_initializer=initialiser))\n",
        "model.add(layers.Dense(128, activation='selu', kernel_initializer=initialiser))\n",
        "\n",
        "model.add(layers.Dense(64, activation='selu', kernel_initializer=initialiser))\n",
        "model.add(layers.Dense(64, activation='selu', kernel_initializer=initialiser))\n",
        "\n",
        "\n",
        "model.add(layers.Dense(1))"
      ],
      "metadata": {
        "id": "iHi12V7BzCM6"
      },
      "execution_count": 45,
      "outputs": []
    },
    {
      "cell_type": "code",
      "source": [
        "model.summary()"
      ],
      "metadata": {
        "colab": {
          "base_uri": "https://localhost:8080/"
        },
        "id": "TPI57bQuzJcc",
        "outputId": "928fa725-47e5-4773-f3f9-7f09160201e0"
      },
      "execution_count": 46,
      "outputs": [
        {
          "output_type": "stream",
          "name": "stdout",
          "text": [
            "Model: \"sequential_1\"\n",
            "_________________________________________________________________\n",
            " Layer (type)                Output Shape              Param #   \n",
            "=================================================================\n",
            " dense_14 (Dense)            (None, 512)               3072      \n",
            "                                                                 \n",
            " dense_15 (Dense)            (None, 512)               262656    \n",
            "                                                                 \n",
            " dense_16 (Dense)            (None, 512)               262656    \n",
            "                                                                 \n",
            " dense_17 (Dense)            (None, 512)               262656    \n",
            "                                                                 \n",
            " dense_18 (Dense)            (None, 512)               262656    \n",
            "                                                                 \n",
            " dense_19 (Dense)            (None, 512)               262656    \n",
            "                                                                 \n",
            " dense_20 (Dense)            (None, 512)               262656    \n",
            "                                                                 \n",
            " dense_21 (Dense)            (None, 256)               131328    \n",
            "                                                                 \n",
            " dense_22 (Dense)            (None, 256)               65792     \n",
            "                                                                 \n",
            " dense_23 (Dense)            (None, 128)               32896     \n",
            "                                                                 \n",
            " dense_24 (Dense)            (None, 128)               16512     \n",
            "                                                                 \n",
            " dense_25 (Dense)            (None, 64)                8256      \n",
            "                                                                 \n",
            " dense_26 (Dense)            (None, 64)                4160      \n",
            "                                                                 \n",
            " dense_27 (Dense)            (None, 1)                 65        \n",
            "                                                                 \n",
            "=================================================================\n",
            "Total params: 1,838,017\n",
            "Trainable params: 1,838,017\n",
            "Non-trainable params: 0\n",
            "_________________________________________________________________\n"
          ]
        }
      ]
    },
    {
      "cell_type": "code",
      "source": [
        "model.compile(loss=\"huber_loss\", optimizer=keras.optimizers.Adam(learning_rate=.001), metrics=[\"mae\"])"
      ],
      "metadata": {
        "id": "3vPBvwnDzLl7"
      },
      "execution_count": 47,
      "outputs": []
    },
    {
      "cell_type": "code",
      "source": [
        "early_stop = EarlyStopping(monitor='val_mae', mode='min', \n",
        "                           verbose=1, patience=50, min_delta=.5, \n",
        "                           restore_best_weights=True)"
      ],
      "metadata": {
        "id": "SEE4clNfzT-Z"
      },
      "execution_count": 48,
      "outputs": []
    },
    {
      "cell_type": "code",
      "source": [
        "#reduce on plateau\n",
        "reduce_lr = ReduceLROnPlateau(\n",
        "    monitor='val_mae',\n",
        "    patience=10,\n",
        "    factor=.1,\n",
        "    mode='min',\n",
        "    min_delta=.5,\n",
        "    verbose=1,\n",
        "    min_lr=.0001\n",
        ")"
      ],
      "metadata": {
        "id": "Ki-Wg3ke0GSk"
      },
      "execution_count": 49,
      "outputs": []
    },
    {
      "cell_type": "code",
      "source": [
        "history = model.fit(X_train, y_train, epochs=500,\n",
        "                    validation_data=(X_val, y_val),\n",
        "                    callbacks=[early_stop, reduce_lr])"
      ],
      "metadata": {
        "colab": {
          "base_uri": "https://localhost:8080/"
        },
        "id": "ghmmiDo1zYHv",
        "outputId": "62fc889e-0454-4bd3-f5e7-f859c232deea"
      },
      "execution_count": 50,
      "outputs": [
        {
          "output_type": "stream",
          "name": "stdout",
          "text": [
            "Epoch 1/500\n",
            "117/117 [==============================] - 3s 13ms/step - loss: 1061.5493 - mae: 1062.0491 - val_loss: 876.1442 - val_mae: 876.6439 - lr: 0.0010\n",
            "Epoch 2/500\n",
            "117/117 [==============================] - 1s 9ms/step - loss: 751.1003 - mae: 751.6000 - val_loss: 667.2003 - val_mae: 667.7003 - lr: 0.0010\n",
            "Epoch 3/500\n",
            "117/117 [==============================] - 1s 8ms/step - loss: 730.3179 - mae: 730.8178 - val_loss: 677.6901 - val_mae: 678.1901 - lr: 0.0010\n",
            "Epoch 4/500\n",
            "117/117 [==============================] - 1s 9ms/step - loss: 712.9312 - mae: 713.4312 - val_loss: 659.9395 - val_mae: 660.4387 - lr: 0.0010\n",
            "Epoch 5/500\n",
            "117/117 [==============================] - 1s 9ms/step - loss: 653.3331 - mae: 653.8329 - val_loss: 730.8949 - val_mae: 731.3949 - lr: 0.0010\n",
            "Epoch 6/500\n",
            "117/117 [==============================] - 1s 9ms/step - loss: 680.9161 - mae: 681.4161 - val_loss: 671.3167 - val_mae: 671.8167 - lr: 0.0010\n",
            "Epoch 7/500\n",
            "117/117 [==============================] - 1s 8ms/step - loss: 663.0006 - mae: 663.5003 - val_loss: 641.0510 - val_mae: 641.5510 - lr: 0.0010\n",
            "Epoch 8/500\n",
            "117/117 [==============================] - 1s 5ms/step - loss: 638.4222 - mae: 638.9220 - val_loss: 650.6042 - val_mae: 651.1042 - lr: 0.0010\n",
            "Epoch 9/500\n",
            "117/117 [==============================] - 1s 5ms/step - loss: 645.2683 - mae: 645.7682 - val_loss: 970.0540 - val_mae: 970.5540 - lr: 0.0010\n",
            "Epoch 10/500\n",
            "117/117 [==============================] - 1s 5ms/step - loss: 646.7784 - mae: 647.2783 - val_loss: 708.4727 - val_mae: 708.9727 - lr: 0.0010\n",
            "Epoch 11/500\n",
            "117/117 [==============================] - 1s 5ms/step - loss: 618.8829 - mae: 619.3828 - val_loss: 657.5042 - val_mae: 658.0042 - lr: 0.0010\n",
            "Epoch 12/500\n",
            "117/117 [==============================] - 1s 5ms/step - loss: 643.7963 - mae: 644.2958 - val_loss: 652.1776 - val_mae: 652.6772 - lr: 0.0010\n",
            "Epoch 13/500\n",
            "117/117 [==============================] - 1s 5ms/step - loss: 650.0276 - mae: 650.5272 - val_loss: 569.2285 - val_mae: 569.7285 - lr: 0.0010\n",
            "Epoch 14/500\n",
            "117/117 [==============================] - 1s 5ms/step - loss: 618.0877 - mae: 618.5875 - val_loss: 573.5757 - val_mae: 574.0756 - lr: 0.0010\n",
            "Epoch 15/500\n",
            "117/117 [==============================] - 1s 5ms/step - loss: 613.8350 - mae: 614.3347 - val_loss: 574.2985 - val_mae: 574.7984 - lr: 0.0010\n",
            "Epoch 16/500\n",
            "117/117 [==============================] - 1s 5ms/step - loss: 596.7083 - mae: 597.2079 - val_loss: 583.7903 - val_mae: 584.2903 - lr: 0.0010\n",
            "Epoch 17/500\n",
            "117/117 [==============================] - 1s 5ms/step - loss: 611.0756 - mae: 611.5754 - val_loss: 557.9182 - val_mae: 558.4179 - lr: 0.0010\n",
            "Epoch 18/500\n",
            "117/117 [==============================] - 1s 5ms/step - loss: 598.3101 - mae: 598.8096 - val_loss: 557.9816 - val_mae: 558.4813 - lr: 0.0010\n",
            "Epoch 19/500\n",
            "117/117 [==============================] - 1s 5ms/step - loss: 649.4020 - mae: 649.9019 - val_loss: 576.0795 - val_mae: 576.5795 - lr: 0.0010\n",
            "Epoch 20/500\n",
            "117/117 [==============================] - 1s 5ms/step - loss: 601.0081 - mae: 601.5079 - val_loss: 608.4374 - val_mae: 608.9374 - lr: 0.0010\n",
            "Epoch 21/500\n",
            "117/117 [==============================] - 1s 5ms/step - loss: 590.5097 - mae: 591.0092 - val_loss: 633.3440 - val_mae: 633.8436 - lr: 0.0010\n",
            "Epoch 22/500\n",
            "117/117 [==============================] - 1s 5ms/step - loss: 593.2087 - mae: 593.7086 - val_loss: 602.3501 - val_mae: 602.8501 - lr: 0.0010\n",
            "Epoch 23/500\n",
            "117/117 [==============================] - 1s 5ms/step - loss: 579.4191 - mae: 579.9188 - val_loss: 556.8633 - val_mae: 557.3633 - lr: 0.0010\n",
            "Epoch 24/500\n",
            "117/117 [==============================] - 1s 5ms/step - loss: 620.1497 - mae: 620.6493 - val_loss: 648.1839 - val_mae: 648.6831 - lr: 0.0010\n",
            "Epoch 25/500\n",
            "117/117 [==============================] - 1s 5ms/step - loss: 585.7881 - mae: 586.2878 - val_loss: 539.7090 - val_mae: 540.2090 - lr: 0.0010\n",
            "Epoch 26/500\n",
            "117/117 [==============================] - 1s 5ms/step - loss: 565.9938 - mae: 566.4935 - val_loss: 596.6158 - val_mae: 597.1156 - lr: 0.0010\n",
            "Epoch 27/500\n",
            "117/117 [==============================] - 1s 5ms/step - loss: 572.0547 - mae: 572.5544 - val_loss: 544.6467 - val_mae: 545.1467 - lr: 0.0010\n",
            "Epoch 28/500\n",
            "117/117 [==============================] - 1s 5ms/step - loss: 572.7015 - mae: 573.2014 - val_loss: 537.0034 - val_mae: 537.5029 - lr: 0.0010\n",
            "Epoch 29/500\n",
            "117/117 [==============================] - 1s 5ms/step - loss: 560.4769 - mae: 560.9767 - val_loss: 581.1074 - val_mae: 581.6072 - lr: 0.0010\n",
            "Epoch 30/500\n",
            "117/117 [==============================] - 1s 5ms/step - loss: 567.6850 - mae: 568.1849 - val_loss: 674.4930 - val_mae: 674.9927 - lr: 0.0010\n",
            "Epoch 31/500\n",
            "117/117 [==============================] - 1s 5ms/step - loss: 574.1235 - mae: 574.6234 - val_loss: 615.9556 - val_mae: 616.4546 - lr: 0.0010\n",
            "Epoch 32/500\n",
            "117/117 [==============================] - 1s 5ms/step - loss: 556.9551 - mae: 557.4550 - val_loss: 526.1688 - val_mae: 526.6688 - lr: 0.0010\n",
            "Epoch 33/500\n",
            "117/117 [==============================] - 1s 4ms/step - loss: 550.1563 - mae: 550.6561 - val_loss: 545.2493 - val_mae: 545.7493 - lr: 0.0010\n",
            "Epoch 34/500\n",
            "117/117 [==============================] - 1s 5ms/step - loss: 547.9665 - mae: 548.4662 - val_loss: 544.5605 - val_mae: 545.0599 - lr: 0.0010\n",
            "Epoch 35/500\n",
            "117/117 [==============================] - 1s 5ms/step - loss: 573.8533 - mae: 574.3529 - val_loss: 619.6449 - val_mae: 620.1449 - lr: 0.0010\n",
            "Epoch 36/500\n",
            "117/117 [==============================] - 1s 5ms/step - loss: 563.8783 - mae: 564.3782 - val_loss: 525.2070 - val_mae: 525.7056 - lr: 0.0010\n",
            "Epoch 37/500\n",
            "117/117 [==============================] - 1s 5ms/step - loss: 534.6547 - mae: 535.1546 - val_loss: 551.1920 - val_mae: 551.6918 - lr: 0.0010\n",
            "Epoch 38/500\n",
            "117/117 [==============================] - 1s 5ms/step - loss: 534.7132 - mae: 535.2128 - val_loss: 544.7538 - val_mae: 545.2538 - lr: 0.0010\n",
            "Epoch 39/500\n",
            "117/117 [==============================] - 1s 5ms/step - loss: 540.1296 - mae: 540.6292 - val_loss: 525.1576 - val_mae: 525.6576 - lr: 0.0010\n",
            "Epoch 40/500\n",
            "117/117 [==============================] - 1s 5ms/step - loss: 543.7532 - mae: 544.2531 - val_loss: 560.0035 - val_mae: 560.5035 - lr: 0.0010\n",
            "Epoch 41/500\n",
            "117/117 [==============================] - 1s 5ms/step - loss: 534.0764 - mae: 534.5762 - val_loss: 532.3950 - val_mae: 532.8944 - lr: 0.0010\n",
            "Epoch 42/500\n",
            "117/117 [==============================] - 1s 5ms/step - loss: 531.6572 - mae: 532.1569 - val_loss: 510.8856 - val_mae: 511.3856 - lr: 0.0010\n",
            "Epoch 43/500\n",
            "117/117 [==============================] - 1s 5ms/step - loss: 532.5884 - mae: 533.0882 - val_loss: 552.6533 - val_mae: 553.1533 - lr: 0.0010\n",
            "Epoch 44/500\n",
            "117/117 [==============================] - 1s 5ms/step - loss: 534.1772 - mae: 534.6768 - val_loss: 592.1837 - val_mae: 592.6837 - lr: 0.0010\n",
            "Epoch 45/500\n",
            "117/117 [==============================] - 1s 5ms/step - loss: 530.3526 - mae: 530.8520 - val_loss: 543.2762 - val_mae: 543.7758 - lr: 0.0010\n",
            "Epoch 46/500\n",
            "117/117 [==============================] - 1s 5ms/step - loss: 541.6031 - mae: 542.1031 - val_loss: 598.4937 - val_mae: 598.9935 - lr: 0.0010\n",
            "Epoch 47/500\n",
            "117/117 [==============================] - 1s 5ms/step - loss: 519.6179 - mae: 520.1175 - val_loss: 529.4583 - val_mae: 529.9583 - lr: 0.0010\n",
            "Epoch 48/500\n",
            "117/117 [==============================] - 1s 5ms/step - loss: 533.0715 - mae: 533.5713 - val_loss: 569.1992 - val_mae: 569.6992 - lr: 0.0010\n",
            "Epoch 49/500\n",
            "117/117 [==============================] - 1s 5ms/step - loss: 518.6185 - mae: 519.1183 - val_loss: 513.8262 - val_mae: 514.3262 - lr: 0.0010\n",
            "Epoch 50/500\n",
            "117/117 [==============================] - 1s 5ms/step - loss: 531.5095 - mae: 532.0095 - val_loss: 530.6042 - val_mae: 531.1022 - lr: 0.0010\n",
            "Epoch 51/500\n",
            "117/117 [==============================] - 1s 5ms/step - loss: 521.4007 - mae: 521.9007 - val_loss: 542.9097 - val_mae: 543.4097 - lr: 0.0010\n",
            "Epoch 52/500\n",
            "114/117 [============================>.] - ETA: 0s - loss: 520.9140 - mae: 521.4138\n",
            "Epoch 52: ReduceLROnPlateau reducing learning rate to 0.00010000000474974513.\n",
            "117/117 [==============================] - 1s 5ms/step - loss: 519.7682 - mae: 520.2681 - val_loss: 541.9396 - val_mae: 542.4396 - lr: 0.0010\n",
            "Epoch 53/500\n",
            "117/117 [==============================] - 1s 5ms/step - loss: 484.6528 - mae: 485.1523 - val_loss: 498.1110 - val_mae: 498.6110 - lr: 1.0000e-04\n",
            "Epoch 54/500\n",
            "117/117 [==============================] - 1s 5ms/step - loss: 465.3599 - mae: 465.8594 - val_loss: 502.1535 - val_mae: 502.6535 - lr: 1.0000e-04\n",
            "Epoch 55/500\n",
            "117/117 [==============================] - 1s 5ms/step - loss: 460.8657 - mae: 461.3652 - val_loss: 493.7412 - val_mae: 494.2412 - lr: 1.0000e-04\n",
            "Epoch 56/500\n",
            "117/117 [==============================] - 1s 5ms/step - loss: 458.0294 - mae: 458.5291 - val_loss: 495.3130 - val_mae: 495.8127 - lr: 1.0000e-04\n",
            "Epoch 57/500\n",
            "117/117 [==============================] - 1s 5ms/step - loss: 457.6466 - mae: 458.1465 - val_loss: 489.1921 - val_mae: 489.6913 - lr: 1.0000e-04\n",
            "Epoch 58/500\n",
            "117/117 [==============================] - 1s 5ms/step - loss: 460.1072 - mae: 460.6069 - val_loss: 492.8390 - val_mae: 493.3390 - lr: 1.0000e-04\n",
            "Epoch 59/500\n",
            "117/117 [==============================] - 1s 5ms/step - loss: 457.1472 - mae: 457.6470 - val_loss: 495.5986 - val_mae: 496.0986 - lr: 1.0000e-04\n",
            "Epoch 60/500\n",
            "117/117 [==============================] - 1s 5ms/step - loss: 455.4076 - mae: 455.9067 - val_loss: 492.6975 - val_mae: 493.1968 - lr: 1.0000e-04\n",
            "Epoch 61/500\n",
            "117/117 [==============================] - 1s 5ms/step - loss: 457.7049 - mae: 458.2045 - val_loss: 492.3093 - val_mae: 492.8093 - lr: 1.0000e-04\n",
            "Epoch 62/500\n",
            "117/117 [==============================] - 1s 5ms/step - loss: 455.1859 - mae: 455.6856 - val_loss: 492.7872 - val_mae: 493.2856 - lr: 1.0000e-04\n",
            "Epoch 63/500\n",
            "117/117 [==============================] - 1s 5ms/step - loss: 451.2020 - mae: 451.7014 - val_loss: 488.5844 - val_mae: 489.0844 - lr: 1.0000e-04\n",
            "Epoch 64/500\n",
            "117/117 [==============================] - 1s 5ms/step - loss: 448.9791 - mae: 449.4786 - val_loss: 494.8239 - val_mae: 495.3239 - lr: 1.0000e-04\n",
            "Epoch 65/500\n",
            "117/117 [==============================] - 1s 5ms/step - loss: 450.2419 - mae: 450.7417 - val_loss: 489.2210 - val_mae: 489.7210 - lr: 1.0000e-04\n",
            "Epoch 66/500\n",
            "117/117 [==============================] - 1s 5ms/step - loss: 448.1050 - mae: 448.6045 - val_loss: 493.2690 - val_mae: 493.7686 - lr: 1.0000e-04\n",
            "Epoch 67/500\n",
            "117/117 [==============================] - 1s 5ms/step - loss: 446.2757 - mae: 446.7753 - val_loss: 497.1601 - val_mae: 497.6588 - lr: 1.0000e-04\n",
            "Epoch 68/500\n",
            "117/117 [==============================] - 1s 5ms/step - loss: 446.9772 - mae: 447.4767 - val_loss: 490.5563 - val_mae: 491.0556 - lr: 1.0000e-04\n",
            "Epoch 69/500\n",
            "117/117 [==============================] - 1s 5ms/step - loss: 444.3340 - mae: 444.8335 - val_loss: 493.7837 - val_mae: 494.2803 - lr: 1.0000e-04\n",
            "Epoch 70/500\n",
            "117/117 [==============================] - 1s 5ms/step - loss: 442.9320 - mae: 443.4313 - val_loss: 498.9594 - val_mae: 499.4594 - lr: 1.0000e-04\n",
            "Epoch 71/500\n",
            "117/117 [==============================] - 1s 5ms/step - loss: 446.5353 - mae: 447.0347 - val_loss: 505.6451 - val_mae: 506.1449 - lr: 1.0000e-04\n",
            "Epoch 72/500\n",
            "117/117 [==============================] - 1s 5ms/step - loss: 444.1868 - mae: 444.6865 - val_loss: 507.3671 - val_mae: 507.8671 - lr: 1.0000e-04\n",
            "Epoch 73/500\n",
            "112/117 [===========================>..] - ETA: 0s - loss: 441.6967 - mae: 442.1963\n",
            "Epoch 73: ReduceLROnPlateau reducing learning rate to 0.0001.\n",
            "117/117 [==============================] - 1s 5ms/step - loss: 440.7463 - mae: 441.2458 - val_loss: 493.3531 - val_mae: 493.8524 - lr: 1.0000e-04\n",
            "Epoch 74/500\n",
            "117/117 [==============================] - 1s 5ms/step - loss: 445.7139 - mae: 446.2133 - val_loss: 484.5665 - val_mae: 485.0662 - lr: 1.0000e-04\n",
            "Epoch 75/500\n",
            "117/117 [==============================] - 1s 5ms/step - loss: 440.1032 - mae: 440.6028 - val_loss: 491.4985 - val_mae: 491.9985 - lr: 1.0000e-04\n",
            "Epoch 76/500\n",
            "117/117 [==============================] - 1s 5ms/step - loss: 439.1998 - mae: 439.6993 - val_loss: 513.2117 - val_mae: 513.7117 - lr: 1.0000e-04\n",
            "Epoch 77/500\n",
            "117/117 [==============================] - 1s 5ms/step - loss: 443.9030 - mae: 444.4026 - val_loss: 497.3647 - val_mae: 497.8647 - lr: 1.0000e-04\n",
            "Epoch 78/500\n",
            "117/117 [==============================] - 1s 5ms/step - loss: 438.9240 - mae: 439.4234 - val_loss: 488.7312 - val_mae: 489.2312 - lr: 1.0000e-04\n",
            "Epoch 79/500\n",
            "117/117 [==============================] - 1s 5ms/step - loss: 440.0276 - mae: 440.5271 - val_loss: 487.7389 - val_mae: 488.2383 - lr: 1.0000e-04\n",
            "Epoch 80/500\n",
            "117/117 [==============================] - 1s 5ms/step - loss: 436.8182 - mae: 437.3179 - val_loss: 492.2635 - val_mae: 492.7635 - lr: 1.0000e-04\n",
            "Epoch 81/500\n",
            "117/117 [==============================] - 1s 5ms/step - loss: 435.9294 - mae: 436.4288 - val_loss: 487.6063 - val_mae: 488.1043 - lr: 1.0000e-04\n",
            "Epoch 82/500\n",
            "117/117 [==============================] - 1s 5ms/step - loss: 435.1096 - mae: 435.6089 - val_loss: 487.0980 - val_mae: 487.5980 - lr: 1.0000e-04\n",
            "Epoch 83/500\n",
            "117/117 [==============================] - 1s 5ms/step - loss: 433.9384 - mae: 434.4378 - val_loss: 483.5790 - val_mae: 484.0782 - lr: 1.0000e-04\n",
            "Epoch 84/500\n",
            "117/117 [==============================] - 1s 5ms/step - loss: 433.4751 - mae: 433.9745 - val_loss: 499.0152 - val_mae: 499.5152 - lr: 1.0000e-04\n",
            "Epoch 85/500\n",
            "117/117 [==============================] - 1s 5ms/step - loss: 435.7404 - mae: 436.2399 - val_loss: 490.0585 - val_mae: 490.5573 - lr: 1.0000e-04\n",
            "Epoch 86/500\n",
            "117/117 [==============================] - 1s 5ms/step - loss: 431.9092 - mae: 432.4087 - val_loss: 489.1186 - val_mae: 489.6186 - lr: 1.0000e-04\n",
            "Epoch 87/500\n",
            "117/117 [==============================] - 1s 5ms/step - loss: 430.9968 - mae: 431.4966 - val_loss: 486.4232 - val_mae: 486.9231 - lr: 1.0000e-04\n",
            "Epoch 88/500\n",
            "117/117 [==============================] - 1s 5ms/step - loss: 433.6040 - mae: 434.1036 - val_loss: 508.4300 - val_mae: 508.9300 - lr: 1.0000e-04\n",
            "Epoch 89/500\n",
            "117/117 [==============================] - 1s 6ms/step - loss: 432.1565 - mae: 432.6559 - val_loss: 487.8443 - val_mae: 488.3443 - lr: 1.0000e-04\n",
            "Epoch 90/500\n",
            "117/117 [==============================] - 1s 8ms/step - loss: 430.7036 - mae: 431.2027 - val_loss: 489.8090 - val_mae: 490.3088 - lr: 1.0000e-04\n",
            "Epoch 91/500\n",
            "117/117 [==============================] - 1s 7ms/step - loss: 427.6203 - mae: 428.1199 - val_loss: 494.4229 - val_mae: 494.9221 - lr: 1.0000e-04\n",
            "Epoch 92/500\n",
            "117/117 [==============================] - 1s 10ms/step - loss: 429.9186 - mae: 430.4179 - val_loss: 491.9119 - val_mae: 492.4118 - lr: 1.0000e-04\n",
            "Epoch 93/500\n",
            "117/117 [==============================] - 1s 5ms/step - loss: 428.2342 - mae: 428.7335 - val_loss: 487.5052 - val_mae: 488.0010 - lr: 1.0000e-04\n",
            "Epoch 94/500\n",
            "117/117 [==============================] - 1s 5ms/step - loss: 425.4398 - mae: 425.9385 - val_loss: 488.3362 - val_mae: 488.8322 - lr: 1.0000e-04\n",
            "Epoch 95/500\n",
            "117/117 [==============================] - 1s 5ms/step - loss: 424.3282 - mae: 424.8278 - val_loss: 492.9678 - val_mae: 493.4652 - lr: 1.0000e-04\n",
            "Epoch 96/500\n",
            "117/117 [==============================] - 1s 5ms/step - loss: 428.1218 - mae: 428.6215 - val_loss: 494.3698 - val_mae: 494.8698 - lr: 1.0000e-04\n",
            "Epoch 97/500\n",
            "117/117 [==============================] - 1s 5ms/step - loss: 424.5536 - mae: 425.0530 - val_loss: 488.2004 - val_mae: 488.6986 - lr: 1.0000e-04\n",
            "Epoch 98/500\n",
            "117/117 [==============================] - 1s 5ms/step - loss: 425.1295 - mae: 425.6284 - val_loss: 498.5144 - val_mae: 499.0144 - lr: 1.0000e-04\n",
            "Epoch 99/500\n",
            "117/117 [==============================] - 1s 5ms/step - loss: 422.4290 - mae: 422.9280 - val_loss: 485.0832 - val_mae: 485.5832 - lr: 1.0000e-04\n",
            "Epoch 100/500\n",
            "117/117 [==============================] - 1s 5ms/step - loss: 425.1929 - mae: 425.6925 - val_loss: 486.4610 - val_mae: 486.9610 - lr: 1.0000e-04\n",
            "Epoch 101/500\n",
            "117/117 [==============================] - 1s 5ms/step - loss: 425.2581 - mae: 425.7574 - val_loss: 486.5572 - val_mae: 487.0572 - lr: 1.0000e-04\n",
            "Epoch 102/500\n",
            "117/117 [==============================] - 1s 5ms/step - loss: 418.8269 - mae: 419.3265 - val_loss: 485.0404 - val_mae: 485.5404 - lr: 1.0000e-04\n",
            "Epoch 103/500\n",
            "117/117 [==============================] - 1s 5ms/step - loss: 425.1160 - mae: 425.6157 - val_loss: 488.6572 - val_mae: 489.1559 - lr: 1.0000e-04\n",
            "Epoch 104/500\n",
            "117/117 [==============================] - 1s 5ms/step - loss: 420.5357 - mae: 421.0353 - val_loss: 484.6167 - val_mae: 485.1157 - lr: 1.0000e-04\n",
            "Epoch 105/500\n",
            "117/117 [==============================] - 1s 5ms/step - loss: 418.1307 - mae: 418.6303 - val_loss: 484.7110 - val_mae: 485.2102 - lr: 1.0000e-04\n",
            "Epoch 106/500\n",
            "117/117 [==============================] - 1s 5ms/step - loss: 418.9136 - mae: 419.4131 - val_loss: 480.4188 - val_mae: 480.9178 - lr: 1.0000e-04\n",
            "Epoch 107/500\n",
            "117/117 [==============================] - 1s 5ms/step - loss: 419.9850 - mae: 420.4845 - val_loss: 478.5971 - val_mae: 479.0971 - lr: 1.0000e-04\n",
            "Epoch 108/500\n",
            "117/117 [==============================] - 1s 5ms/step - loss: 417.7199 - mae: 418.2191 - val_loss: 482.9790 - val_mae: 483.4782 - lr: 1.0000e-04\n",
            "Epoch 109/500\n",
            "117/117 [==============================] - 1s 5ms/step - loss: 422.2041 - mae: 422.7040 - val_loss: 502.3886 - val_mae: 502.8883 - lr: 1.0000e-04\n",
            "Epoch 110/500\n",
            "117/117 [==============================] - 1s 5ms/step - loss: 418.6942 - mae: 419.1938 - val_loss: 483.6091 - val_mae: 484.1091 - lr: 1.0000e-04\n",
            "Epoch 111/500\n",
            "117/117 [==============================] - 1s 5ms/step - loss: 416.5698 - mae: 417.0692 - val_loss: 489.2089 - val_mae: 489.7089 - lr: 1.0000e-04\n",
            "Epoch 112/500\n",
            "117/117 [==============================] - 1s 5ms/step - loss: 416.9190 - mae: 417.4186 - val_loss: 474.9458 - val_mae: 475.4446 - lr: 1.0000e-04\n",
            "Epoch 113/500\n",
            "117/117 [==============================] - 1s 5ms/step - loss: 418.4496 - mae: 418.9491 - val_loss: 490.4230 - val_mae: 490.9228 - lr: 1.0000e-04\n",
            "Epoch 114/500\n",
            "117/117 [==============================] - 1s 5ms/step - loss: 416.1682 - mae: 416.6675 - val_loss: 503.4910 - val_mae: 503.9910 - lr: 1.0000e-04\n",
            "Epoch 115/500\n",
            "117/117 [==============================] - 1s 5ms/step - loss: 417.4419 - mae: 417.9409 - val_loss: 497.9150 - val_mae: 498.4150 - lr: 1.0000e-04\n",
            "Epoch 116/500\n",
            "117/117 [==============================] - 1s 5ms/step - loss: 417.6308 - mae: 418.1306 - val_loss: 481.4102 - val_mae: 481.9091 - lr: 1.0000e-04\n",
            "Epoch 117/500\n",
            "117/117 [==============================] - 1s 5ms/step - loss: 415.1580 - mae: 415.6578 - val_loss: 485.5686 - val_mae: 486.0686 - lr: 1.0000e-04\n",
            "Epoch 118/500\n",
            "117/117 [==============================] - 1s 5ms/step - loss: 412.9467 - mae: 413.4460 - val_loss: 491.0432 - val_mae: 491.5432 - lr: 1.0000e-04\n",
            "Epoch 119/500\n",
            "117/117 [==============================] - 1s 5ms/step - loss: 410.8502 - mae: 411.3495 - val_loss: 479.6691 - val_mae: 480.1691 - lr: 1.0000e-04\n",
            "Epoch 120/500\n",
            "117/117 [==============================] - 1s 5ms/step - loss: 412.3017 - mae: 412.8010 - val_loss: 484.5303 - val_mae: 485.0302 - lr: 1.0000e-04\n",
            "Epoch 121/500\n",
            "117/117 [==============================] - 1s 5ms/step - loss: 409.0311 - mae: 409.5305 - val_loss: 488.5505 - val_mae: 489.0504 - lr: 1.0000e-04\n",
            "Epoch 122/500\n",
            "117/117 [==============================] - 1s 5ms/step - loss: 411.0887 - mae: 411.5880 - val_loss: 489.4009 - val_mae: 489.9009 - lr: 1.0000e-04\n",
            "Epoch 123/500\n",
            "117/117 [==============================] - 1s 5ms/step - loss: 410.0849 - mae: 410.5845 - val_loss: 495.7296 - val_mae: 496.2296 - lr: 1.0000e-04\n",
            "Epoch 124/500\n",
            "117/117 [==============================] - 1s 5ms/step - loss: 408.0972 - mae: 408.5967 - val_loss: 489.4148 - val_mae: 489.9137 - lr: 1.0000e-04\n",
            "Epoch 125/500\n",
            "117/117 [==============================] - 1s 5ms/step - loss: 408.9206 - mae: 409.4197 - val_loss: 478.9897 - val_mae: 479.4897 - lr: 1.0000e-04\n",
            "Epoch 126/500\n",
            "117/117 [==============================] - 1s 5ms/step - loss: 412.1916 - mae: 412.6911 - val_loss: 482.5840 - val_mae: 483.0839 - lr: 1.0000e-04\n",
            "Epoch 127/500\n",
            "117/117 [==============================] - 1s 5ms/step - loss: 406.6236 - mae: 407.1233 - val_loss: 477.6794 - val_mae: 478.1794 - lr: 1.0000e-04\n",
            "Epoch 128/500\n",
            "117/117 [==============================] - 1s 5ms/step - loss: 408.5975 - mae: 409.0973 - val_loss: 483.6392 - val_mae: 484.1385 - lr: 1.0000e-04\n",
            "Epoch 129/500\n",
            "117/117 [==============================] - 1s 5ms/step - loss: 405.1107 - mae: 405.6102 - val_loss: 480.6252 - val_mae: 481.1252 - lr: 1.0000e-04\n",
            "Epoch 130/500\n",
            "117/117 [==============================] - 1s 5ms/step - loss: 405.2904 - mae: 405.7898 - val_loss: 495.5099 - val_mae: 496.0087 - lr: 1.0000e-04\n",
            "Epoch 131/500\n",
            "117/117 [==============================] - 1s 5ms/step - loss: 408.4193 - mae: 408.9183 - val_loss: 482.6899 - val_mae: 483.1879 - lr: 1.0000e-04\n",
            "Epoch 132/500\n",
            "117/117 [==============================] - 1s 5ms/step - loss: 408.2632 - mae: 408.7626 - val_loss: 484.7987 - val_mae: 485.2987 - lr: 1.0000e-04\n",
            "Epoch 133/500\n",
            "117/117 [==============================] - 1s 5ms/step - loss: 404.9070 - mae: 405.4066 - val_loss: 487.6869 - val_mae: 488.1865 - lr: 1.0000e-04\n",
            "Epoch 134/500\n",
            "117/117 [==============================] - 1s 5ms/step - loss: 407.4950 - mae: 407.9945 - val_loss: 482.5538 - val_mae: 483.0533 - lr: 1.0000e-04\n",
            "Epoch 135/500\n",
            "117/117 [==============================] - 1s 5ms/step - loss: 405.7945 - mae: 406.2941 - val_loss: 484.5357 - val_mae: 485.0354 - lr: 1.0000e-04\n",
            "Epoch 136/500\n",
            "117/117 [==============================] - 1s 5ms/step - loss: 403.3492 - mae: 403.8487 - val_loss: 485.7342 - val_mae: 486.2324 - lr: 1.0000e-04\n",
            "Epoch 137/500\n",
            "117/117 [==============================] - 1s 5ms/step - loss: 402.8786 - mae: 403.3782 - val_loss: 483.8160 - val_mae: 484.3160 - lr: 1.0000e-04\n",
            "Epoch 138/500\n",
            "117/117 [==============================] - 1s 5ms/step - loss: 404.0269 - mae: 404.5263 - val_loss: 482.2204 - val_mae: 482.7204 - lr: 1.0000e-04\n",
            "Epoch 139/500\n",
            "117/117 [==============================] - 1s 5ms/step - loss: 400.6724 - mae: 401.1716 - val_loss: 487.4262 - val_mae: 487.9254 - lr: 1.0000e-04\n",
            "Epoch 140/500\n",
            "117/117 [==============================] - 1s 5ms/step - loss: 405.1667 - mae: 405.6661 - val_loss: 482.5486 - val_mae: 483.0484 - lr: 1.0000e-04\n",
            "Epoch 141/500\n",
            "117/117 [==============================] - 1s 5ms/step - loss: 401.9251 - mae: 402.4247 - val_loss: 490.9130 - val_mae: 491.4130 - lr: 1.0000e-04\n",
            "Epoch 142/500\n",
            "117/117 [==============================] - 1s 5ms/step - loss: 401.6114 - mae: 402.1107 - val_loss: 484.2273 - val_mae: 484.7273 - lr: 1.0000e-04\n",
            "Epoch 143/500\n",
            "117/117 [==============================] - 1s 5ms/step - loss: 400.4346 - mae: 400.9339 - val_loss: 481.2739 - val_mae: 481.7737 - lr: 1.0000e-04\n",
            "Epoch 144/500\n",
            "117/117 [==============================] - 1s 5ms/step - loss: 400.8898 - mae: 401.3896 - val_loss: 477.8333 - val_mae: 478.3333 - lr: 1.0000e-04\n",
            "Epoch 145/500\n",
            "117/117 [==============================] - 1s 5ms/step - loss: 397.8288 - mae: 398.3285 - val_loss: 489.9271 - val_mae: 490.4271 - lr: 1.0000e-04\n",
            "Epoch 146/500\n",
            "117/117 [==============================] - 1s 5ms/step - loss: 399.4277 - mae: 399.9271 - val_loss: 487.4467 - val_mae: 487.9456 - lr: 1.0000e-04\n",
            "Epoch 147/500\n",
            "117/117 [==============================] - 1s 5ms/step - loss: 399.1206 - mae: 399.6201 - val_loss: 489.2967 - val_mae: 489.7965 - lr: 1.0000e-04\n",
            "Epoch 148/500\n",
            "117/117 [==============================] - 1s 5ms/step - loss: 396.8547 - mae: 397.3540 - val_loss: 480.9391 - val_mae: 481.4385 - lr: 1.0000e-04\n",
            "Epoch 149/500\n",
            "117/117 [==============================] - 1s 5ms/step - loss: 396.0713 - mae: 396.5700 - val_loss: 479.4198 - val_mae: 479.9185 - lr: 1.0000e-04\n",
            "Epoch 150/500\n",
            "117/117 [==============================] - 1s 5ms/step - loss: 396.2326 - mae: 396.7318 - val_loss: 481.4865 - val_mae: 481.9865 - lr: 1.0000e-04\n",
            "Epoch 151/500\n",
            "117/117 [==============================] - 1s 5ms/step - loss: 396.6939 - mae: 397.1934 - val_loss: 484.5824 - val_mae: 485.0824 - lr: 1.0000e-04\n",
            "Epoch 152/500\n",
            "117/117 [==============================] - 1s 5ms/step - loss: 399.5792 - mae: 400.0786 - val_loss: 479.2658 - val_mae: 479.7655 - lr: 1.0000e-04\n",
            "Epoch 153/500\n",
            "117/117 [==============================] - 1s 5ms/step - loss: 394.0797 - mae: 394.5790 - val_loss: 489.0691 - val_mae: 489.5691 - lr: 1.0000e-04\n",
            "Epoch 154/500\n",
            "117/117 [==============================] - 1s 5ms/step - loss: 396.9724 - mae: 397.4717 - val_loss: 483.2629 - val_mae: 483.7629 - lr: 1.0000e-04\n",
            "Epoch 155/500\n",
            "117/117 [==============================] - 1s 5ms/step - loss: 398.0450 - mae: 398.5444 - val_loss: 472.0619 - val_mae: 472.5619 - lr: 1.0000e-04\n",
            "Epoch 156/500\n",
            "117/117 [==============================] - 1s 5ms/step - loss: 392.7836 - mae: 393.2832 - val_loss: 484.5170 - val_mae: 485.0163 - lr: 1.0000e-04\n",
            "Epoch 157/500\n",
            "117/117 [==============================] - 1s 5ms/step - loss: 394.8113 - mae: 395.3103 - val_loss: 482.8577 - val_mae: 483.3575 - lr: 1.0000e-04\n",
            "Epoch 158/500\n",
            "117/117 [==============================] - 1s 5ms/step - loss: 394.2031 - mae: 394.7025 - val_loss: 491.3916 - val_mae: 491.8909 - lr: 1.0000e-04\n",
            "Epoch 159/500\n",
            "117/117 [==============================] - 1s 5ms/step - loss: 390.5288 - mae: 391.0276 - val_loss: 486.8042 - val_mae: 487.3042 - lr: 1.0000e-04\n",
            "Epoch 160/500\n",
            "117/117 [==============================] - 1s 5ms/step - loss: 392.1697 - mae: 392.6683 - val_loss: 484.4254 - val_mae: 484.9235 - lr: 1.0000e-04\n",
            "Epoch 161/500\n",
            "117/117 [==============================] - 1s 5ms/step - loss: 394.2651 - mae: 394.7649 - val_loss: 477.5949 - val_mae: 478.0944 - lr: 1.0000e-04\n",
            "Epoch 162/500\n",
            "117/117 [==============================] - 1s 5ms/step - loss: 393.0633 - mae: 393.5624 - val_loss: 488.6166 - val_mae: 489.1162 - lr: 1.0000e-04\n",
            "Epoch 163/500\n",
            "117/117 [==============================] - 1s 5ms/step - loss: 390.6057 - mae: 391.1046 - val_loss: 473.2673 - val_mae: 473.7673 - lr: 1.0000e-04\n",
            "Epoch 164/500\n",
            "117/117 [==============================] - 1s 5ms/step - loss: 389.3589 - mae: 389.8583 - val_loss: 484.9276 - val_mae: 485.4276 - lr: 1.0000e-04\n",
            "Epoch 165/500\n",
            "117/117 [==============================] - 1s 5ms/step - loss: 390.5553 - mae: 391.0546 - val_loss: 481.3798 - val_mae: 481.8798 - lr: 1.0000e-04\n",
            "Epoch 166/500\n",
            "117/117 [==============================] - 1s 5ms/step - loss: 387.8204 - mae: 388.3199 - val_loss: 479.4709 - val_mae: 479.9708 - lr: 1.0000e-04\n",
            "Epoch 167/500\n",
            "117/117 [==============================] - 1s 5ms/step - loss: 388.1465 - mae: 388.6453 - val_loss: 483.0172 - val_mae: 483.5172 - lr: 1.0000e-04\n",
            "Epoch 168/500\n",
            "117/117 [==============================] - 1s 5ms/step - loss: 388.6060 - mae: 389.1050 - val_loss: 474.9325 - val_mae: 475.4300 - lr: 1.0000e-04\n",
            "Epoch 169/500\n",
            "117/117 [==============================] - 1s 5ms/step - loss: 386.6544 - mae: 387.1541 - val_loss: 472.7025 - val_mae: 473.2010 - lr: 1.0000e-04\n",
            "Epoch 170/500\n",
            "117/117 [==============================] - 1s 5ms/step - loss: 385.2832 - mae: 385.7827 - val_loss: 483.3807 - val_mae: 483.8795 - lr: 1.0000e-04\n",
            "Epoch 171/500\n",
            "117/117 [==============================] - 1s 5ms/step - loss: 387.0573 - mae: 387.5567 - val_loss: 488.9587 - val_mae: 489.4584 - lr: 1.0000e-04\n",
            "Epoch 172/500\n",
            "117/117 [==============================] - 1s 5ms/step - loss: 394.5893 - mae: 395.0880 - val_loss: 480.3532 - val_mae: 480.8528 - lr: 1.0000e-04\n",
            "Epoch 173/500\n",
            "117/117 [==============================] - 1s 5ms/step - loss: 385.1743 - mae: 385.6734 - val_loss: 488.2120 - val_mae: 488.7120 - lr: 1.0000e-04\n",
            "Epoch 174/500\n",
            "117/117 [==============================] - 1s 5ms/step - loss: 387.2240 - mae: 387.7233 - val_loss: 476.4557 - val_mae: 476.9557 - lr: 1.0000e-04\n",
            "Epoch 175/500\n",
            "117/117 [==============================] - 1s 8ms/step - loss: 386.9410 - mae: 387.4404 - val_loss: 487.3276 - val_mae: 487.8268 - lr: 1.0000e-04\n",
            "Epoch 176/500\n",
            "117/117 [==============================] - 1s 8ms/step - loss: 384.9406 - mae: 385.4400 - val_loss: 494.2322 - val_mae: 494.7314 - lr: 1.0000e-04\n",
            "Epoch 177/500\n",
            "117/117 [==============================] - 1s 6ms/step - loss: 384.0060 - mae: 384.5052 - val_loss: 485.1159 - val_mae: 485.6153 - lr: 1.0000e-04\n",
            "Epoch 178/500\n",
            "117/117 [==============================] - 1s 7ms/step - loss: 388.2528 - mae: 388.7525 - val_loss: 491.2094 - val_mae: 491.7094 - lr: 1.0000e-04\n",
            "Epoch 179/500\n",
            "117/117 [==============================] - 1s 5ms/step - loss: 389.5218 - mae: 390.0212 - val_loss: 480.2608 - val_mae: 480.7608 - lr: 1.0000e-04\n",
            "Epoch 180/500\n",
            "117/117 [==============================] - 1s 5ms/step - loss: 384.5142 - mae: 385.0136 - val_loss: 485.4813 - val_mae: 485.9805 - lr: 1.0000e-04\n",
            "Epoch 181/500\n",
            "117/117 [==============================] - 1s 5ms/step - loss: 385.0380 - mae: 385.5374 - val_loss: 482.8813 - val_mae: 483.3813 - lr: 1.0000e-04\n",
            "Epoch 182/500\n",
            "117/117 [==============================] - 1s 5ms/step - loss: 384.8782 - mae: 385.3777 - val_loss: 483.3009 - val_mae: 483.8009 - lr: 1.0000e-04\n",
            "Epoch 183/500\n",
            "117/117 [==============================] - 1s 5ms/step - loss: 384.2946 - mae: 384.7936 - val_loss: 485.8780 - val_mae: 486.3779 - lr: 1.0000e-04\n",
            "Epoch 184/500\n",
            "117/117 [==============================] - 1s 5ms/step - loss: 382.8698 - mae: 383.3690 - val_loss: 486.5897 - val_mae: 487.0894 - lr: 1.0000e-04\n",
            "Epoch 185/500\n",
            "117/117 [==============================] - 1s 5ms/step - loss: 383.4910 - mae: 383.9905 - val_loss: 489.6696 - val_mae: 490.1696 - lr: 1.0000e-04\n",
            "Epoch 186/500\n",
            "117/117 [==============================] - 1s 5ms/step - loss: 383.4180 - mae: 383.9173 - val_loss: 486.2574 - val_mae: 486.7571 - lr: 1.0000e-04\n",
            "Epoch 187/500\n",
            "117/117 [==============================] - 1s 5ms/step - loss: 383.0485 - mae: 383.5480 - val_loss: 485.5997 - val_mae: 486.0982 - lr: 1.0000e-04\n",
            "Epoch 188/500\n",
            "117/117 [==============================] - 1s 5ms/step - loss: 385.9838 - mae: 386.4832 - val_loss: 489.4805 - val_mae: 489.9805 - lr: 1.0000e-04\n",
            "Epoch 189/500\n",
            "117/117 [==============================] - 1s 5ms/step - loss: 382.1519 - mae: 382.6513 - val_loss: 479.3053 - val_mae: 479.8053 - lr: 1.0000e-04\n",
            "Epoch 190/500\n",
            "117/117 [==============================] - 1s 5ms/step - loss: 380.2322 - mae: 380.7310 - val_loss: 487.7308 - val_mae: 488.2308 - lr: 1.0000e-04\n",
            "Epoch 191/500\n",
            "117/117 [==============================] - 1s 5ms/step - loss: 380.5891 - mae: 381.0889 - val_loss: 486.3444 - val_mae: 486.8438 - lr: 1.0000e-04\n",
            "Epoch 192/500\n",
            "117/117 [==============================] - 1s 5ms/step - loss: 379.6355 - mae: 380.1346 - val_loss: 489.6110 - val_mae: 490.1110 - lr: 1.0000e-04\n",
            "Epoch 193/500\n",
            "117/117 [==============================] - 1s 5ms/step - loss: 381.0462 - mae: 381.5456 - val_loss: 478.3616 - val_mae: 478.8612 - lr: 1.0000e-04\n",
            "Epoch 194/500\n",
            "117/117 [==============================] - 1s 5ms/step - loss: 379.5514 - mae: 380.0505 - val_loss: 482.9799 - val_mae: 483.4798 - lr: 1.0000e-04\n",
            "Epoch 195/500\n",
            "117/117 [==============================] - 1s 5ms/step - loss: 377.7092 - mae: 378.2086 - val_loss: 473.3781 - val_mae: 473.8771 - lr: 1.0000e-04\n",
            "Epoch 196/500\n",
            "117/117 [==============================] - 1s 5ms/step - loss: 378.9667 - mae: 379.4660 - val_loss: 476.7495 - val_mae: 477.2489 - lr: 1.0000e-04\n",
            "Epoch 197/500\n",
            "117/117 [==============================] - 1s 5ms/step - loss: 379.2774 - mae: 379.7765 - val_loss: 484.5952 - val_mae: 485.0941 - lr: 1.0000e-04\n",
            "Epoch 198/500\n",
            "117/117 [==============================] - 1s 5ms/step - loss: 376.6612 - mae: 377.1603 - val_loss: 484.3595 - val_mae: 484.8573 - lr: 1.0000e-04\n",
            "Epoch 199/500\n",
            "117/117 [==============================] - 1s 5ms/step - loss: 378.3164 - mae: 378.8154 - val_loss: 478.5347 - val_mae: 479.0337 - lr: 1.0000e-04\n",
            "Epoch 200/500\n",
            "117/117 [==============================] - 1s 5ms/step - loss: 380.5869 - mae: 381.0865 - val_loss: 476.5907 - val_mae: 477.0904 - lr: 1.0000e-04\n",
            "Epoch 201/500\n",
            "117/117 [==============================] - 1s 5ms/step - loss: 377.8461 - mae: 378.3453 - val_loss: 486.0294 - val_mae: 486.5294 - lr: 1.0000e-04\n",
            "Epoch 202/500\n",
            "117/117 [==============================] - 1s 5ms/step - loss: 376.8615 - mae: 377.3608 - val_loss: 479.4166 - val_mae: 479.9166 - lr: 1.0000e-04\n",
            "Epoch 203/500\n",
            "117/117 [==============================] - 1s 5ms/step - loss: 373.9755 - mae: 374.4745 - val_loss: 487.4527 - val_mae: 487.9527 - lr: 1.0000e-04\n",
            "Epoch 204/500\n",
            "117/117 [==============================] - 1s 5ms/step - loss: 372.5284 - mae: 373.0276 - val_loss: 490.7283 - val_mae: 491.2283 - lr: 1.0000e-04\n",
            "Epoch 205/500\n",
            "109/117 [==========================>...] - ETA: 0s - loss: 378.8481 - mae: 379.3477Restoring model weights from the end of the best epoch: 155.\n",
            "117/117 [==============================] - 1s 5ms/step - loss: 374.6837 - mae: 375.1833 - val_loss: 477.1159 - val_mae: 477.6159 - lr: 1.0000e-04\n",
            "Epoch 205: early stopping\n"
          ]
        }
      ]
    },
    {
      "cell_type": "code",
      "source": [
        "pd.DataFrame(history.history).plot(figsize=(10, 7))\n",
        "plt.grid(True)\n",
        "plt.show()"
      ],
      "metadata": {
        "colab": {
          "base_uri": "https://localhost:8080/",
          "height": 428
        },
        "id": "P4CCymPgzoNH",
        "outputId": "8d35ea5f-0133-4099-a0f0-85f2679f7a0b"
      },
      "execution_count": 51,
      "outputs": [
        {
          "output_type": "display_data",
          "data": {
            "text/plain": [
              "<Figure size 720x504 with 1 Axes>"
            ],
            "image/png": "[encoded data removed]"
          },
          "metadata": {
            "needs_background": "light"
          }
        }
      ]
    },
    {
      "cell_type": "code",
      "source": [
        "scores = model.evaluate(X_test, y_test)"
      ],
      "metadata": {
        "colab": {
          "base_uri": "https://localhost:8080/"
        },
        "id": "LOYayY7H0XTP",
        "outputId": "cccf92a8-ec63-4519-961d-41540aef7860"
      },
      "execution_count": 52,
      "outputs": [
        {
          "output_type": "stream",
          "name": "stdout",
          "text": [
            "33/33 [==============================] - 0s 3ms/step - loss: 495.1500 - mae: 495.6499\n"
          ]
        }
      ]
    },
    {
      "cell_type": "code",
      "source": [
        "preds = model.predict(X_test, verbose=1)"
      ],
      "metadata": {
        "colab": {
          "base_uri": "https://localhost:8080/"
        },
        "id": "FJIpkBZg6T-D",
        "outputId": "1b0ab7b2-3b69-42e4-d7f3-5fdc4dd59380"
      },
      "execution_count": 53,
      "outputs": [
        {
          "output_type": "stream",
          "name": "stdout",
          "text": [
            "33/33 [==============================] - 0s 2ms/step\n"
          ]
        }
      ]
    },
    {
      "cell_type": "code",
      "source": [
        "from scipy import stats"
      ],
      "metadata": {
        "id": "tczk9B-N6WLu"
      },
      "execution_count": 54,
      "outputs": []
    },
    {
      "cell_type": "code",
      "source": [
        "confidence = 0.95\n",
        "\n",
        "abs_errors = abs(preds.flatten() - y_test.to_numpy().flatten())\n",
        "stats.t.interval(confidence, len(abs_errors)-1, \n",
        "                         loc=abs_errors.mean(), \n",
        "                         scale=stats.sem(abs_errors))"
      ],
      "metadata": {
        "colab": {
          "base_uri": "https://localhost:8080/"
        },
        "id": "EXiGUnWP6YUu",
        "outputId": "2c98b29e-d65e-4e93-a442-c3b4f8eb179e"
      },
      "execution_count": 55,
      "outputs": [
        {
          "output_type": "execute_result",
          "data": {
            "text/plain": [
              "(450.8479165788603, 540.4519255059031)"
            ]
          },
          "metadata": {},
          "execution_count": 55
        }
      ]
    },
    {
      "cell_type": "code",
      "source": [
        "# We observe a better confidence interval using the full set of features; thus make better predictions"
      ],
      "metadata": {
        "id": "a7a4tGKDHiqk"
      },
      "execution_count": 56,
      "outputs": []
    },
    {
      "cell_type": "code",
      "source": [
        "# model.save(\"brooklyn_model.h5\")"
      ],
      "metadata": {
        "id": "O1EocXxa6r0p"
      },
      "execution_count": 57,
      "outputs": []
    },
    {
      "cell_type": "code",
      "source": [
        "# /content/drive/MyDrive/Boro_DFs/\n",
        "# model.save(\"/content/drive/MyDrive/Boro_DFs/brooklyn_minimum_features_model.h5\")"
      ],
      "metadata": {
        "id": "yBEwI7ai60uc"
      },
      "execution_count": 58,
      "outputs": []
    }
  ]
}