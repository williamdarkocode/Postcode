{
  "nbformat": 4,
  "nbformat_minor": 0,
  "metadata": {
    "colab": {
      "name": "Bronx_Rent_Prediction_MinimumFeatures.ipynb",
      "provenance": [],
      "machine_shape": "hm"
    },
    "kernelspec": {
      "name": "python3",
      "display_name": "Python 3"
    },
    "language_info": {
      "name": "python"
    },
    "accelerator": "GPU"
  },
  "cells": [
    {
      "cell_type": "code",
      "execution_count": 1,
      "metadata": {
        "id": "IHq6vEX0JQh5"
      },
      "outputs": [],
      "source": [
        "import matplotlib.pyplot as plt\n",
        "import pandas as pd\n",
        "import numpy as np\n",
        "import tarfile\n",
        "import math\n",
        "\n",
        "from tensorflow import keras\n",
        "from keras import models\n",
        "from keras import layers\n",
        "from keras.callbacks import EarlyStopping\n",
        "\n",
        "\n",
        "from sklearn.model_selection import train_test_split\n",
        "from sklearn.impute import SimpleImputer\n",
        "from sklearn.preprocessing import MinMaxScaler\n",
        "from sklearn.preprocessing import OneHotEncoder"
      ]
    },
    {
      "cell_type": "code",
      "source": [
        "from keras.callbacks import ReduceLROnPlateau"
      ],
      "metadata": {
        "id": "QT0Ilkkn0pq5"
      },
      "execution_count": 2,
      "outputs": []
    },
    {
      "cell_type": "code",
      "source": [
        "from keras.layers import AlphaDropout"
      ],
      "metadata": {
        "id": "9pv0CxHhAe4c"
      },
      "execution_count": 3,
      "outputs": []
    },
    {
      "cell_type": "code",
      "source": [
        "from google.colab import drive\n",
        "drive.mount('/content/drive/')"
      ],
      "metadata": {
        "colab": {
          "base_uri": "https://localhost:8080/"
        },
        "id": "LznBSqDlpFQe",
        "outputId": "24a731d7-47a1-48c2-e0f6-de4d985b07fa"
      },
      "execution_count": 4,
      "outputs": [
        {
          "output_type": "stream",
          "name": "stdout",
          "text": [
            "Mounted at /content/drive/\n"
          ]
        }
      ]
    },
    {
      "cell_type": "code",
      "source": [
        "from numpy.random import seed\n",
        "seed(15)\n",
        "\n",
        "from tensorflow.random import set_seed\n",
        "set_seed(15)"
      ],
      "metadata": {
        "id": "F82b9igNpD4a"
      },
      "execution_count": 5,
      "outputs": []
    },
    {
      "cell_type": "code",
      "source": [
        "bronx_csv = '/content/drive/MyDrive/Boro_DFs/bronx_df.csv'"
      ],
      "metadata": {
        "id": "It23BQMkpZrO"
      },
      "execution_count": 6,
      "outputs": []
    },
    {
      "cell_type": "code",
      "source": [
        "bronx_df = pd.DataFrame(pd.read_csv(bronx_csv))"
      ],
      "metadata": {
        "id": "cGPCANEIppM-"
      },
      "execution_count": 7,
      "outputs": []
    },
    {
      "cell_type": "code",
      "source": [
        "bronx_df.head()"
      ],
      "metadata": {
        "colab": {
          "base_uri": "https://localhost:8080/",
          "height": 206
        },
        "id": "nn32hx06p1M7",
        "outputId": "91e227f2-39f6-4c3b-b9a2-d81dac75b08f"
      },
      "execution_count": 8,
      "outputs": [
        {
          "output_type": "execute_result",
          "data": {
            "text/plain": [
              "  Borough               Area                        Address  Num_Beds  \\\n",
              "0   bronx            Tremont               2065 Ryer Avenue       2.0   \n",
              "1   bronx  Crotona Park East                1169 Hoe Avenue       2.0   \n",
              "2   bronx         Highbridge              1515 Macombs Road       1.0   \n",
              "3   bronx            Norwood  31 West Mosholu Parkway North       2.0   \n",
              "4   bronx     west concourse                2401 3rd Avenue       1.0   \n",
              "\n",
              "   Num_Baths   Sq-Ft    Rent       Long        Lat  ZipCode  Precinct  \\\n",
              "0        1.0  719.00  2217.0 -73.901209  40.852362  10457.0      46.0   \n",
              "1        1.0  848.76  2425.0 -73.890999  40.827804  10459.0      42.0   \n",
              "2        1.0  631.43  1800.0 -73.917725  40.843560  10452.0      44.0   \n",
              "3        1.0  833.22  1950.0 -73.884467  40.881828  10467.0      52.0   \n",
              "4        1.0  675.00  3132.0 -73.931714  40.808009  10451.0      44.0   \n",
              "\n",
              "   CrimeTotalPastYear Train_Line  Dist_To_Line  Dist_To_Station  \\\n",
              "0              2002.0        B-D      0.002654         0.003761   \n",
              "1              1957.0          5      0.002137         0.002310   \n",
              "2              2726.0          4      0.003163         0.003163   \n",
              "3              2092.0          4      0.002087         0.002087   \n",
              "4              2726.0      4-5-6      0.002680         0.005538   \n",
              "\n",
              "   Dist_To_Entrance  \n",
              "0          0.003276  \n",
              "1          0.002322  \n",
              "2          0.003254  \n",
              "3          0.001751  \n",
              "4          0.005391  "
            ],
            "text/html": [
              "\n",
              "  <div id=\"df-64906165-64bf-4b84-8fa1-d6a7623770f6\">\n",
              "    <div class=\"colab-df-container\">\n",
              "      <div>\n",
              "<style scoped>\n",
              "    .dataframe tbody tr th:only-of-type {\n",
              "        vertical-align: middle;\n",
              "    }\n",
              "\n",
              "    .dataframe tbody tr th {\n",
              "        vertical-align: top;\n",
              "    }\n",
              "\n",
              "    .dataframe thead th {\n",
              "        text-align: right;\n",
              "    }\n",
              "</style>\n",
              "<table border=\"1\" class=\"dataframe\">\n",
              "  <thead>\n",
              "    <tr style=\"text-align: right;\">\n",
              "      <th></th>\n",
              "      <th>Borough</th>\n",
              "      <th>Area</th>\n",
              "      <th>Address</th>\n",
              "      <th>Num_Beds</th>\n",
              "      <th>Num_Baths</th>\n",
              "      <th>Sq-Ft</th>\n",
              "      <th>Rent</th>\n",
              "      <th>Long</th>\n",
              "      <th>Lat</th>\n",
              "      <th>ZipCode</th>\n",
              "      <th>Precinct</th>\n",
              "      <th>CrimeTotalPastYear</th>\n",
              "      <th>Train_Line</th>\n",
              "      <th>Dist_To_Line</th>\n",
              "      <th>Dist_To_Station</th>\n",
              "      <th>Dist_To_Entrance</th>\n",
              "    </tr>\n",
              "  </thead>\n",
              "  <tbody>\n",
              "    <tr>\n",
              "      <th>0</th>\n",
              "      <td>bronx</td>\n",
              "      <td>Tremont</td>\n",
              "      <td>2065 Ryer Avenue</td>\n",
              "      <td>2.0</td>\n",
              "      <td>1.0</td>\n",
              "      <td>719.00</td>\n",
              "      <td>2217.0</td>\n",
              "      <td>-73.901209</td>\n",
              "      <td>40.852362</td>\n",
              "      <td>10457.0</td>\n",
              "      <td>46.0</td>\n",
              "      <td>2002.0</td>\n",
              "      <td>B-D</td>\n",
              "      <td>0.002654</td>\n",
              "      <td>0.003761</td>\n",
              "      <td>0.003276</td>\n",
              "    </tr>\n",
              "    <tr>\n",
              "      <th>1</th>\n",
              "      <td>bronx</td>\n",
              "      <td>Crotona Park East</td>\n",
              "      <td>1169 Hoe Avenue</td>\n",
              "      <td>2.0</td>\n",
              "      <td>1.0</td>\n",
              "      <td>848.76</td>\n",
              "      <td>2425.0</td>\n",
              "      <td>-73.890999</td>\n",
              "      <td>40.827804</td>\n",
              "      <td>10459.0</td>\n",
              "      <td>42.0</td>\n",
              "      <td>1957.0</td>\n",
              "      <td>5</td>\n",
              "      <td>0.002137</td>\n",
              "      <td>0.002310</td>\n",
              "      <td>0.002322</td>\n",
              "    </tr>\n",
              "    <tr>\n",
              "      <th>2</th>\n",
              "      <td>bronx</td>\n",
              "      <td>Highbridge</td>\n",
              "      <td>1515 Macombs Road</td>\n",
              "      <td>1.0</td>\n",
              "      <td>1.0</td>\n",
              "      <td>631.43</td>\n",
              "      <td>1800.0</td>\n",
              "      <td>-73.917725</td>\n",
              "      <td>40.843560</td>\n",
              "      <td>10452.0</td>\n",
              "      <td>44.0</td>\n",
              "      <td>2726.0</td>\n",
              "      <td>4</td>\n",
              "      <td>0.003163</td>\n",
              "      <td>0.003163</td>\n",
              "      <td>0.003254</td>\n",
              "    </tr>\n",
              "    <tr>\n",
              "      <th>3</th>\n",
              "      <td>bronx</td>\n",
              "      <td>Norwood</td>\n",
              "      <td>31 West Mosholu Parkway North</td>\n",
              "      <td>2.0</td>\n",
              "      <td>1.0</td>\n",
              "      <td>833.22</td>\n",
              "      <td>1950.0</td>\n",
              "      <td>-73.884467</td>\n",
              "      <td>40.881828</td>\n",
              "      <td>10467.0</td>\n",
              "      <td>52.0</td>\n",
              "      <td>2092.0</td>\n",
              "      <td>4</td>\n",
              "      <td>0.002087</td>\n",
              "      <td>0.002087</td>\n",
              "      <td>0.001751</td>\n",
              "    </tr>\n",
              "    <tr>\n",
              "      <th>4</th>\n",
              "      <td>bronx</td>\n",
              "      <td>west concourse</td>\n",
              "      <td>2401 3rd Avenue</td>\n",
              "      <td>1.0</td>\n",
              "      <td>1.0</td>\n",
              "      <td>675.00</td>\n",
              "      <td>3132.0</td>\n",
              "      <td>-73.931714</td>\n",
              "      <td>40.808009</td>\n",
              "      <td>10451.0</td>\n",
              "      <td>44.0</td>\n",
              "      <td>2726.0</td>\n",
              "      <td>4-5-6</td>\n",
              "      <td>0.002680</td>\n",
              "      <td>0.005538</td>\n",
              "      <td>0.005391</td>\n",
              "    </tr>\n",
              "  </tbody>\n",
              "</table>\n",
              "</div>\n",
              "      <button class=\"colab-df-convert\" onclick=\"convertToInteractive('df-64906165-64bf-4b84-8fa1-d6a7623770f6')\"\n",
              "              title=\"Convert this dataframe to an interactive table.\"\n",
              "              style=\"display:none;\">\n",
              "        \n",
              "  <svg xmlns=\"http://www.w3.org/2000/svg\" height=\"24px\"viewBox=\"0 0 24 24\"\n",
              "       width=\"24px\">\n",
              "    <path d=\"M0 0h24v24H0V0z\" fill=\"none\"/>\n",
              "    <path d=\"M18.56 5.44l.94 2.06.94-2.06 2.06-.94-2.06-.94-.94-2.06-.94 2.06-2.06.94zm-11 1L8.5 8.5l.94-2.06 2.06-.94-2.06-.94L8.5 2.5l-.94 2.06-2.06.94zm10 10l.94 2.06.94-2.06 2.06-.94-2.06-.94-.94-2.06-.94 2.06-2.06.94z\"/><path d=\"M17.41 7.96l-1.37-1.37c-.4-.4-.92-.59-1.43-.59-.52 0-1.04.2-1.43.59L10.3 9.45l-7.72 7.72c-.78.78-.78 2.05 0 2.83L4 21.41c.39.39.9.59 1.41.59.51 0 1.02-.2 1.41-.59l7.78-7.78 2.81-2.81c.8-.78.8-2.07 0-2.86zM5.41 20L4 18.59l7.72-7.72 1.47 1.35L5.41 20z\"/>\n",
              "  </svg>\n",
              "      </button>\n",
              "      \n",
              "  <style>\n",
              "    .colab-df-container {\n",
              "      display:flex;\n",
              "      flex-wrap:wrap;\n",
              "      gap: 12px;\n",
              "    }\n",
              "\n",
              "    .colab-df-convert {\n",
              "      background-color: #E8F0FE;\n",
              "      border: none;\n",
              "      border-radius: 50%;\n",
              "      cursor: pointer;\n",
              "      display: none;\n",
              "      fill: #1967D2;\n",
              "      height: 32px;\n",
              "      padding: 0 0 0 0;\n",
              "      width: 32px;\n",
              "    }\n",
              "\n",
              "    .colab-df-convert:hover {\n",
              "      background-color: #E2EBFA;\n",
              "      box-shadow: 0px 1px 2px rgba(60, 64, 67, 0.3), 0px 1px 3px 1px rgba(60, 64, 67, 0.15);\n",
              "      fill: #174EA6;\n",
              "    }\n",
              "\n",
              "    [theme=dark] .colab-df-convert {\n",
              "      background-color: #3B4455;\n",
              "      fill: #D2E3FC;\n",
              "    }\n",
              "\n",
              "    [theme=dark] .colab-df-convert:hover {\n",
              "      background-color: #434B5C;\n",
              "      box-shadow: 0px 1px 3px 1px rgba(0, 0, 0, 0.15);\n",
              "      filter: drop-shadow(0px 1px 2px rgba(0, 0, 0, 0.3));\n",
              "      fill: #FFFFFF;\n",
              "    }\n",
              "  </style>\n",
              "\n",
              "      <script>\n",
              "        const buttonEl =\n",
              "          document.querySelector('#df-64906165-64bf-4b84-8fa1-d6a7623770f6 button.colab-df-convert');\n",
              "        buttonEl.style.display =\n",
              "          google.colab.kernel.accessAllowed ? 'block' : 'none';\n",
              "\n",
              "        async function convertToInteractive(key) {\n",
              "          const element = document.querySelector('#df-64906165-64bf-4b84-8fa1-d6a7623770f6');\n",
              "          const dataTable =\n",
              "            await google.colab.kernel.invokeFunction('convertToInteractive',\n",
              "                                                     [key], {});\n",
              "          if (!dataTable) return;\n",
              "\n",
              "          const docLinkHtml = 'Like what you see? Visit the ' +\n",
              "            '<a target=\"_blank\" href=https://colab.research.google.com/notebooks/data_table.ipynb>data table notebook</a>'\n",
              "            + ' to learn more about interactive tables.';\n",
              "          element.innerHTML = '';\n",
              "          dataTable['output_type'] = 'display_data';\n",
              "          await google.colab.output.renderOutput(dataTable, element);\n",
              "          const docLink = document.createElement('div');\n",
              "          docLink.innerHTML = docLinkHtml;\n",
              "          element.appendChild(docLink);\n",
              "        }\n",
              "      </script>\n",
              "    </div>\n",
              "  </div>\n",
              "  "
            ]
          },
          "metadata": {},
          "execution_count": 8
        }
      ]
    },
    {
      "cell_type": "code",
      "source": [
        "y = bronx_df[['Rent']]"
      ],
      "metadata": {
        "id": "nDuMfPUQqMH2"
      },
      "execution_count": 9,
      "outputs": []
    },
    {
      "cell_type": "code",
      "source": [
        "X = bronx_df.drop(['Area', 'Address','Borough', 'Rent', 'ZipCode', 'Precinct', 'CrimeTotalPastYear', 'Train_Line', 'Dist_To_Line', 'Dist_To_Station', 'Dist_To_Entrance'], axis=1)\n",
        "X.head()"
      ],
      "metadata": {
        "colab": {
          "base_uri": "https://localhost:8080/",
          "height": 206
        },
        "id": "xhlAi-gSqUtm",
        "outputId": "8f3ca371-b48b-461a-a4e7-6b87b1ec6c90"
      },
      "execution_count": 10,
      "outputs": [
        {
          "output_type": "execute_result",
          "data": {
            "text/plain": [
              "   Num_Beds  Num_Baths   Sq-Ft       Long        Lat\n",
              "0       2.0        1.0  719.00 -73.901209  40.852362\n",
              "1       2.0        1.0  848.76 -73.890999  40.827804\n",
              "2       1.0        1.0  631.43 -73.917725  40.843560\n",
              "3       2.0        1.0  833.22 -73.884467  40.881828\n",
              "4       1.0        1.0  675.00 -73.931714  40.808009"
            ],
            "text/html": [
              "\n",
              "  <div id=\"df-e486f03a-5cc5-48dc-af79-4abac79d76c7\">\n",
              "    <div class=\"colab-df-container\">\n",
              "      <div>\n",
              "<style scoped>\n",
              "    .dataframe tbody tr th:only-of-type {\n",
              "        vertical-align: middle;\n",
              "    }\n",
              "\n",
              "    .dataframe tbody tr th {\n",
              "        vertical-align: top;\n",
              "    }\n",
              "\n",
              "    .dataframe thead th {\n",
              "        text-align: right;\n",
              "    }\n",
              "</style>\n",
              "<table border=\"1\" class=\"dataframe\">\n",
              "  <thead>\n",
              "    <tr style=\"text-align: right;\">\n",
              "      <th></th>\n",
              "      <th>Num_Beds</th>\n",
              "      <th>Num_Baths</th>\n",
              "      <th>Sq-Ft</th>\n",
              "      <th>Long</th>\n",
              "      <th>Lat</th>\n",
              "    </tr>\n",
              "  </thead>\n",
              "  <tbody>\n",
              "    <tr>\n",
              "      <th>0</th>\n",
              "      <td>2.0</td>\n",
              "      <td>1.0</td>\n",
              "      <td>719.00</td>\n",
              "      <td>-73.901209</td>\n",
              "      <td>40.852362</td>\n",
              "    </tr>\n",
              "    <tr>\n",
              "      <th>1</th>\n",
              "      <td>2.0</td>\n",
              "      <td>1.0</td>\n",
              "      <td>848.76</td>\n",
              "      <td>-73.890999</td>\n",
              "      <td>40.827804</td>\n",
              "    </tr>\n",
              "    <tr>\n",
              "      <th>2</th>\n",
              "      <td>1.0</td>\n",
              "      <td>1.0</td>\n",
              "      <td>631.43</td>\n",
              "      <td>-73.917725</td>\n",
              "      <td>40.843560</td>\n",
              "    </tr>\n",
              "    <tr>\n",
              "      <th>3</th>\n",
              "      <td>2.0</td>\n",
              "      <td>1.0</td>\n",
              "      <td>833.22</td>\n",
              "      <td>-73.884467</td>\n",
              "      <td>40.881828</td>\n",
              "    </tr>\n",
              "    <tr>\n",
              "      <th>4</th>\n",
              "      <td>1.0</td>\n",
              "      <td>1.0</td>\n",
              "      <td>675.00</td>\n",
              "      <td>-73.931714</td>\n",
              "      <td>40.808009</td>\n",
              "    </tr>\n",
              "  </tbody>\n",
              "</table>\n",
              "</div>\n",
              "      <button class=\"colab-df-convert\" onclick=\"convertToInteractive('df-e486f03a-5cc5-48dc-af79-4abac79d76c7')\"\n",
              "              title=\"Convert this dataframe to an interactive table.\"\n",
              "              style=\"display:none;\">\n",
              "        \n",
              "  <svg xmlns=\"http://www.w3.org/2000/svg\" height=\"24px\"viewBox=\"0 0 24 24\"\n",
              "       width=\"24px\">\n",
              "    <path d=\"M0 0h24v24H0V0z\" fill=\"none\"/>\n",
              "    <path d=\"M18.56 5.44l.94 2.06.94-2.06 2.06-.94-2.06-.94-.94-2.06-.94 2.06-2.06.94zm-11 1L8.5 8.5l.94-2.06 2.06-.94-2.06-.94L8.5 2.5l-.94 2.06-2.06.94zm10 10l.94 2.06.94-2.06 2.06-.94-2.06-.94-.94-2.06-.94 2.06-2.06.94z\"/><path d=\"M17.41 7.96l-1.37-1.37c-.4-.4-.92-.59-1.43-.59-.52 0-1.04.2-1.43.59L10.3 9.45l-7.72 7.72c-.78.78-.78 2.05 0 2.83L4 21.41c.39.39.9.59 1.41.59.51 0 1.02-.2 1.41-.59l7.78-7.78 2.81-2.81c.8-.78.8-2.07 0-2.86zM5.41 20L4 18.59l7.72-7.72 1.47 1.35L5.41 20z\"/>\n",
              "  </svg>\n",
              "      </button>\n",
              "      \n",
              "  <style>\n",
              "    .colab-df-container {\n",
              "      display:flex;\n",
              "      flex-wrap:wrap;\n",
              "      gap: 12px;\n",
              "    }\n",
              "\n",
              "    .colab-df-convert {\n",
              "      background-color: #E8F0FE;\n",
              "      border: none;\n",
              "      border-radius: 50%;\n",
              "      cursor: pointer;\n",
              "      display: none;\n",
              "      fill: #1967D2;\n",
              "      height: 32px;\n",
              "      padding: 0 0 0 0;\n",
              "      width: 32px;\n",
              "    }\n",
              "\n",
              "    .colab-df-convert:hover {\n",
              "      background-color: #E2EBFA;\n",
              "      box-shadow: 0px 1px 2px rgba(60, 64, 67, 0.3), 0px 1px 3px 1px rgba(60, 64, 67, 0.15);\n",
              "      fill: #174EA6;\n",
              "    }\n",
              "\n",
              "    [theme=dark] .colab-df-convert {\n",
              "      background-color: #3B4455;\n",
              "      fill: #D2E3FC;\n",
              "    }\n",
              "\n",
              "    [theme=dark] .colab-df-convert:hover {\n",
              "      background-color: #434B5C;\n",
              "      box-shadow: 0px 1px 3px 1px rgba(0, 0, 0, 0.15);\n",
              "      filter: drop-shadow(0px 1px 2px rgba(0, 0, 0, 0.3));\n",
              "      fill: #FFFFFF;\n",
              "    }\n",
              "  </style>\n",
              "\n",
              "      <script>\n",
              "        const buttonEl =\n",
              "          document.querySelector('#df-e486f03a-5cc5-48dc-af79-4abac79d76c7 button.colab-df-convert');\n",
              "        buttonEl.style.display =\n",
              "          google.colab.kernel.accessAllowed ? 'block' : 'none';\n",
              "\n",
              "        async function convertToInteractive(key) {\n",
              "          const element = document.querySelector('#df-e486f03a-5cc5-48dc-af79-4abac79d76c7');\n",
              "          const dataTable =\n",
              "            await google.colab.kernel.invokeFunction('convertToInteractive',\n",
              "                                                     [key], {});\n",
              "          if (!dataTable) return;\n",
              "\n",
              "          const docLinkHtml = 'Like what you see? Visit the ' +\n",
              "            '<a target=\"_blank\" href=https://colab.research.google.com/notebooks/data_table.ipynb>data table notebook</a>'\n",
              "            + ' to learn more about interactive tables.';\n",
              "          element.innerHTML = '';\n",
              "          dataTable['output_type'] = 'display_data';\n",
              "          await google.colab.output.renderOutput(dataTable, element);\n",
              "          const docLink = document.createElement('div');\n",
              "          docLink.innerHTML = docLinkHtml;\n",
              "          element.appendChild(docLink);\n",
              "        }\n",
              "      </script>\n",
              "    </div>\n",
              "  </div>\n",
              "  "
            ]
          },
          "metadata": {},
          "execution_count": 10
        }
      ]
    },
    {
      "cell_type": "code",
      "source": [
        "# X = pd.get_dummies(X, columns=['Area', 'Address', 'ZipCode', 'Precinct', 'Train_Line'])"
      ],
      "metadata": {
        "id": "4P1BFCNV4NK4"
      },
      "execution_count": 11,
      "outputs": []
    },
    {
      "cell_type": "code",
      "source": [
        "X_train, X_test, y_train, y_test = train_test_split(X, y, test_size=0.2, random_state=42) "
      ],
      "metadata": {
        "id": "PGBo1zfvsq38"
      },
      "execution_count": 12,
      "outputs": []
    },
    {
      "cell_type": "code",
      "source": [
        "# numeric_cols = ['Num_Beds', 'Num_Baths', 'Sq-Ft', 'Long', 'Lat', 'CrimeTotalPastYear', 'Dist_To_Line', 'Dist_To_Station', 'Dist_To_Entrance']"
      ],
      "metadata": {
        "id": "uQhhxKkD4efw"
      },
      "execution_count": 13,
      "outputs": []
    },
    {
      "cell_type": "code",
      "source": [
        "# X_train_num = X_train[numeric_cols]"
      ],
      "metadata": {
        "id": "I4uVOTx2tGNS"
      },
      "execution_count": 14,
      "outputs": []
    },
    {
      "cell_type": "code",
      "source": [
        "# X_test_num = X_test[numeric_cols]"
      ],
      "metadata": {
        "id": "z5-Af9EKtmY2"
      },
      "execution_count": 15,
      "outputs": []
    },
    {
      "cell_type": "code",
      "source": [
        "# print(X_train_num.shape)\n",
        "# print(X_test_num.shape)"
      ],
      "metadata": {
        "id": "Vdgob14o5HKD"
      },
      "execution_count": 16,
      "outputs": []
    },
    {
      "cell_type": "code",
      "source": [
        "scaler = MinMaxScaler()"
      ],
      "metadata": {
        "id": "p9RNRLAbtwBQ"
      },
      "execution_count": 17,
      "outputs": []
    },
    {
      "cell_type": "code",
      "source": [
        "X_train = scaler.fit_transform(X_train)"
      ],
      "metadata": {
        "id": "7PtlLZ1Ct1q8"
      },
      "execution_count": 18,
      "outputs": []
    },
    {
      "cell_type": "code",
      "source": [
        "X_train.shape"
      ],
      "metadata": {
        "colab": {
          "base_uri": "https://localhost:8080/"
        },
        "id": "UOd7oCyH2aUQ",
        "outputId": "23ffc60e-67a8-4cc7-e9bb-9f0cef413e7d"
      },
      "execution_count": 19,
      "outputs": [
        {
          "output_type": "execute_result",
          "data": {
            "text/plain": [
              "(548, 5)"
            ]
          },
          "metadata": {},
          "execution_count": 19
        }
      ]
    },
    {
      "cell_type": "code",
      "source": [
        "X_test = scaler.transform(X_test)"
      ],
      "metadata": {
        "id": "P71FdUJ0uBwi"
      },
      "execution_count": 20,
      "outputs": []
    },
    {
      "cell_type": "code",
      "source": [
        "X_test.shape"
      ],
      "metadata": {
        "colab": {
          "base_uri": "https://localhost:8080/"
        },
        "id": "ReDQGS852Xdb",
        "outputId": "46c3b6d5-02cc-498d-cb52-aec5ed468764"
      },
      "execution_count": 21,
      "outputs": [
        {
          "output_type": "execute_result",
          "data": {
            "text/plain": [
              "(138, 5)"
            ]
          },
          "metadata": {},
          "execution_count": 21
        }
      ]
    },
    {
      "cell_type": "code",
      "source": [
        "# X_train_onehots = X_train.drop(numeric_cols, axis=1)\n",
        "# X_test_onehots = X_test.drop(numeric_cols, axis=1)"
      ],
      "metadata": {
        "id": "FdZcJP0QuIVM"
      },
      "execution_count": 22,
      "outputs": []
    },
    {
      "cell_type": "code",
      "source": [
        "# X_train_onehots.shape"
      ],
      "metadata": {
        "id": "z6g_xtgK15Je"
      },
      "execution_count": 23,
      "outputs": []
    },
    {
      "cell_type": "code",
      "source": [
        "# X_test_onehots.shape"
      ],
      "metadata": {
        "id": "kqRZuLf917vt"
      },
      "execution_count": 24,
      "outputs": []
    },
    {
      "cell_type": "code",
      "source": [
        "# X_train = np.concatenate((X_train_num, X_train_onehots), axis=1)"
      ],
      "metadata": {
        "id": "fr7kghS9yA5F"
      },
      "execution_count": 25,
      "outputs": []
    },
    {
      "cell_type": "code",
      "source": [
        "# X_test = np.concatenate((X_test_num, X_test_onehots), axis=1)"
      ],
      "metadata": {
        "id": "WTUi2RjXyMFd"
      },
      "execution_count": 26,
      "outputs": []
    },
    {
      "cell_type": "code",
      "source": [
        "# create validation set\n",
        "num_val_insts = math.floor(X_train.shape[0]*(.10))\n",
        "\n",
        "X_val = X_train[:num_val_insts]\n",
        "y_val = y_train[:num_val_insts]\n",
        "\n",
        "X_train = X_train[num_val_insts:]\n",
        "y_train = y_train[num_val_insts:]"
      ],
      "metadata": {
        "id": "d3BMgWC8yaXg"
      },
      "execution_count": 27,
      "outputs": []
    },
    {
      "cell_type": "code",
      "source": [
        "print(f\"X_train shape: {X_train.shape}, y_train shape: {y_train.shape}\")\n",
        "print(f\"X_val shape: {X_val.shape}, y_val shape: {y_val.shape}\")\n",
        "print(f\"X_test shape: {X_test.shape}, y_test shape: {y_test.shape}\")"
      ],
      "metadata": {
        "colab": {
          "base_uri": "https://localhost:8080/"
        },
        "id": "HytfmXvtyjHK",
        "outputId": "e7bae928-3989-4cc0-f016-5ca41944258b"
      },
      "execution_count": 28,
      "outputs": [
        {
          "output_type": "stream",
          "name": "stdout",
          "text": [
            "X_train shape: (494, 5), y_train shape: (494, 1)\n",
            "X_val shape: (54, 5), y_val shape: (54, 1)\n",
            "X_test shape: (138, 5), y_test shape: (138, 1)\n"
          ]
        }
      ]
    },
    {
      "cell_type": "code",
      "source": [
        "from keras.initializers import lecun_normal"
      ],
      "metadata": {
        "id": "Yc8srrdAy3cI"
      },
      "execution_count": 29,
      "outputs": []
    },
    {
      "cell_type": "code",
      "source": [
        "initialiser = lecun_normal(seed=31)"
      ],
      "metadata": {
        "id": "MZJL42VFMJfy"
      },
      "execution_count": 30,
      "outputs": []
    },
    {
      "cell_type": "code",
      "source": [
        "# model 1\n",
        "\n",
        "# model = models.Sequential()\n",
        "# model.add(layers.Dense(100, activation='selu', input_shape=(X_train.shape[1],), kernel_initializer=initialiser))\n",
        "# model.add(layers.Dense(100, activation='selu', kernel_initializer=initialiser))\n",
        "# model.add(layers.Dense(100, activation='selu', kernel_initializer=initialiser))\n",
        "# model.add(layers.Dense(100, activation='selu', kernel_initializer=initialiser))\n",
        "# model.add(layers.Dense(100, activation='selu', kernel_initializer=initialiser))\n",
        "# model.add(layers.Dense(100, activation='selu', kernel_initializer=initialiser))\n",
        "# model.add(layers.Dense(1))\n",
        "\n",
        "\n",
        "# model 2\n",
        "\n",
        "model = models.Sequential()\n",
        "model.add(layers.Dense(512, activation='selu', input_shape=(X_train.shape[1],), kernel_initializer=initialiser))\n",
        "model.add(layers.Dense(512, activation='selu', kernel_initializer=initialiser))\n",
        "model.add(layers.Dense(512, activation='selu', kernel_initializer=initialiser))\n",
        "model.add(layers.Dense(512, activation='selu', kernel_initializer=initialiser))\n",
        "model.add(layers.Dense(512, activation='selu', kernel_initializer=initialiser))\n",
        "model.add(layers.Dense(512, activation='selu', kernel_initializer=initialiser))\n",
        "model.add(layers.Dense(512, activation='selu', kernel_initializer=initialiser))\n",
        "\n",
        "model.add(layers.Dense(256, activation='selu', kernel_initializer=initialiser))\n",
        "model.add(layers.Dense(256, activation='selu', kernel_initializer=initialiser))\n",
        "\n",
        "model.add(layers.Dense(128, activation='selu', kernel_initializer=initialiser))\n",
        "model.add(layers.Dense(128, activation='selu', kernel_initializer=initialiser))\n",
        "\n",
        "model.add(layers.Dense(64, activation='selu', kernel_initializer=initialiser))\n",
        "model.add(layers.Dense(64, activation='selu', kernel_initializer=initialiser))\n",
        "\n",
        "\n",
        "model.add(layers.Dense(1))"
      ],
      "metadata": {
        "id": "iHi12V7BzCM6"
      },
      "execution_count": 31,
      "outputs": []
    },
    {
      "cell_type": "code",
      "source": [
        "model.summary()"
      ],
      "metadata": {
        "colab": {
          "base_uri": "https://localhost:8080/"
        },
        "id": "TPI57bQuzJcc",
        "outputId": "f9da93a3-18ba-4297-acbb-0b5e4013e232"
      },
      "execution_count": 32,
      "outputs": [
        {
          "output_type": "stream",
          "name": "stdout",
          "text": [
            "Model: \"sequential\"\n",
            "_________________________________________________________________\n",
            " Layer (type)                Output Shape              Param #   \n",
            "=================================================================\n",
            " dense (Dense)               (None, 512)               3072      \n",
            "                                                                 \n",
            " dense_1 (Dense)             (None, 512)               262656    \n",
            "                                                                 \n",
            " dense_2 (Dense)             (None, 512)               262656    \n",
            "                                                                 \n",
            " dense_3 (Dense)             (None, 512)               262656    \n",
            "                                                                 \n",
            " dense_4 (Dense)             (None, 512)               262656    \n",
            "                                                                 \n",
            " dense_5 (Dense)             (None, 512)               262656    \n",
            "                                                                 \n",
            " dense_6 (Dense)             (None, 512)               262656    \n",
            "                                                                 \n",
            " dense_7 (Dense)             (None, 256)               131328    \n",
            "                                                                 \n",
            " dense_8 (Dense)             (None, 256)               65792     \n",
            "                                                                 \n",
            " dense_9 (Dense)             (None, 128)               32896     \n",
            "                                                                 \n",
            " dense_10 (Dense)            (None, 128)               16512     \n",
            "                                                                 \n",
            " dense_11 (Dense)            (None, 64)                8256      \n",
            "                                                                 \n",
            " dense_12 (Dense)            (None, 64)                4160      \n",
            "                                                                 \n",
            " dense_13 (Dense)            (None, 1)                 65        \n",
            "                                                                 \n",
            "=================================================================\n",
            "Total params: 1,838,017\n",
            "Trainable params: 1,838,017\n",
            "Non-trainable params: 0\n",
            "_________________________________________________________________\n"
          ]
        }
      ]
    },
    {
      "cell_type": "code",
      "source": [
        "keras.utils.plot_model(model)"
      ],
      "metadata": {
        "colab": {
          "base_uri": "https://localhost:8080/",
          "height": 1000
        },
        "id": "GJJt7Kutd-H8",
        "outputId": "7ed94f87-775b-4627-cf43-2208c52084dd"
      },
      "execution_count": 45,
      "outputs": [
        {
          "output_type": "execute_result",
          "data": {
            "text/plain": [
              "<IPython.core.display.Image object>"
            ],
            "image/png": "[encoded data removed]"
          },
          "metadata": {},
          "execution_count": 45
        }
      ]
    },
    {
      "cell_type": "code",
      "source": [
        "model.compile(loss=\"huber_loss\", optimizer=keras.optimizers.Adam(learning_rate=.001), metrics=[\"mae\"])"
      ],
      "metadata": {
        "id": "3vPBvwnDzLl7"
      },
      "execution_count": 33,
      "outputs": []
    },
    {
      "cell_type": "code",
      "source": [
        "early_stop = EarlyStopping(monitor='val_mae', mode='min', \n",
        "                           verbose=1, patience=30, min_delta=.5, \n",
        "                           restore_best_weights=True)"
      ],
      "metadata": {
        "id": "SEE4clNfzT-Z"
      },
      "execution_count": 34,
      "outputs": []
    },
    {
      "cell_type": "code",
      "source": [
        "#reduce on plateau\n",
        "reduce_lr = ReduceLROnPlateau(\n",
        "    monitor='val_mae',\n",
        "    patience=15,\n",
        "    factor=.1,\n",
        "    mode='min',\n",
        "    min_delta=.5,\n",
        "    verbose=1,\n",
        "    min_lr=.0001\n",
        ")"
      ],
      "metadata": {
        "id": "Ki-Wg3ke0GSk"
      },
      "execution_count": 35,
      "outputs": []
    },
    {
      "cell_type": "code",
      "source": [
        "history = model.fit(X_train, y_train, epochs=500,\n",
        "                    validation_data=(X_val, y_val),\n",
        "                    callbacks=[early_stop, reduce_lr])"
      ],
      "metadata": {
        "colab": {
          "base_uri": "https://localhost:8080/"
        },
        "id": "ghmmiDo1zYHv",
        "outputId": "6f789a55-8294-4d72-e5bb-947d27e6fb63"
      },
      "execution_count": 36,
      "outputs": [
        {
          "output_type": "stream",
          "name": "stdout",
          "text": [
            "Epoch 1/500\n",
            "16/16 [==============================] - 5s 25ms/step - loss: 1904.6661 - mae: 1905.1661 - val_loss: 1295.3617 - val_mae: 1295.8617 - lr: 0.0010\n",
            "Epoch 2/500\n",
            "16/16 [==============================] - 0s 7ms/step - loss: 750.1682 - mae: 750.6681 - val_loss: 791.5304 - val_mae: 792.0304 - lr: 0.0010\n",
            "Epoch 3/500\n",
            "16/16 [==============================] - 0s 7ms/step - loss: 570.4480 - mae: 570.9478 - val_loss: 719.6546 - val_mae: 720.1546 - lr: 0.0010\n",
            "Epoch 4/500\n",
            "16/16 [==============================] - 0s 7ms/step - loss: 520.4581 - mae: 520.9581 - val_loss: 673.3215 - val_mae: 673.8124 - lr: 0.0010\n",
            "Epoch 5/500\n",
            "16/16 [==============================] - 0s 7ms/step - loss: 506.8550 - mae: 507.3550 - val_loss: 611.4507 - val_mae: 611.9507 - lr: 0.0010\n",
            "Epoch 6/500\n",
            "16/16 [==============================] - 0s 7ms/step - loss: 455.7474 - mae: 456.2472 - val_loss: 543.4768 - val_mae: 543.9768 - lr: 0.0010\n",
            "Epoch 7/500\n",
            "16/16 [==============================] - 0s 6ms/step - loss: 464.7540 - mae: 465.2532 - val_loss: 790.5327 - val_mae: 791.0327 - lr: 0.0010\n",
            "Epoch 8/500\n",
            "16/16 [==============================] - 0s 6ms/step - loss: 482.5963 - mae: 483.0963 - val_loss: 582.5933 - val_mae: 583.0933 - lr: 0.0010\n",
            "Epoch 9/500\n",
            "16/16 [==============================] - 0s 7ms/step - loss: 395.1756 - mae: 395.6754 - val_loss: 538.7903 - val_mae: 539.2903 - lr: 0.0010\n",
            "Epoch 10/500\n",
            "16/16 [==============================] - 0s 7ms/step - loss: 457.4270 - mae: 457.9270 - val_loss: 494.0298 - val_mae: 494.5298 - lr: 0.0010\n",
            "Epoch 11/500\n",
            "16/16 [==============================] - 0s 7ms/step - loss: 441.9594 - mae: 442.4590 - val_loss: 458.5030 - val_mae: 459.0017 - lr: 0.0010\n",
            "Epoch 12/500\n",
            "16/16 [==============================] - 0s 7ms/step - loss: 374.4227 - mae: 374.9226 - val_loss: 451.8984 - val_mae: 452.3984 - lr: 0.0010\n",
            "Epoch 13/500\n",
            "16/16 [==============================] - 0s 6ms/step - loss: 386.1733 - mae: 386.6727 - val_loss: 494.3029 - val_mae: 494.8029 - lr: 0.0010\n",
            "Epoch 14/500\n",
            "16/16 [==============================] - 0s 6ms/step - loss: 387.5151 - mae: 388.0150 - val_loss: 476.0852 - val_mae: 476.5852 - lr: 0.0010\n",
            "Epoch 15/500\n",
            "16/16 [==============================] - 0s 7ms/step - loss: 359.6762 - mae: 360.1762 - val_loss: 382.2373 - val_mae: 382.7372 - lr: 0.0010\n",
            "Epoch 16/500\n",
            "16/16 [==============================] - 0s 6ms/step - loss: 355.2753 - mae: 355.7753 - val_loss: 462.6031 - val_mae: 463.1031 - lr: 0.0010\n",
            "Epoch 17/500\n",
            "16/16 [==============================] - 0s 6ms/step - loss: 423.8877 - mae: 424.3872 - val_loss: 436.1785 - val_mae: 436.6785 - lr: 0.0010\n",
            "Epoch 18/500\n",
            "16/16 [==============================] - 0s 6ms/step - loss: 412.6716 - mae: 413.1716 - val_loss: 476.6289 - val_mae: 477.1289 - lr: 0.0010\n",
            "Epoch 19/500\n",
            "16/16 [==============================] - 0s 6ms/step - loss: 378.9160 - mae: 379.4143 - val_loss: 466.5883 - val_mae: 467.0883 - lr: 0.0010\n",
            "Epoch 20/500\n",
            "16/16 [==============================] - 0s 6ms/step - loss: 339.0684 - mae: 339.5672 - val_loss: 459.7386 - val_mae: 460.2386 - lr: 0.0010\n",
            "Epoch 21/500\n",
            "16/16 [==============================] - 0s 6ms/step - loss: 362.0180 - mae: 362.5177 - val_loss: 449.2286 - val_mae: 449.7286 - lr: 0.0010\n",
            "Epoch 22/500\n",
            "16/16 [==============================] - 0s 6ms/step - loss: 424.2079 - mae: 424.7079 - val_loss: 555.8554 - val_mae: 556.3554 - lr: 0.0010\n",
            "Epoch 23/500\n",
            "16/16 [==============================] - 0s 7ms/step - loss: 392.8589 - mae: 393.3586 - val_loss: 345.9926 - val_mae: 346.4926 - lr: 0.0010\n",
            "Epoch 24/500\n",
            "16/16 [==============================] - 0s 7ms/step - loss: 332.3015 - mae: 332.8006 - val_loss: 329.9872 - val_mae: 330.4872 - lr: 0.0010\n",
            "Epoch 25/500\n",
            "16/16 [==============================] - 0s 6ms/step - loss: 308.9898 - mae: 309.4898 - val_loss: 388.3731 - val_mae: 388.8731 - lr: 0.0010\n",
            "Epoch 26/500\n",
            "16/16 [==============================] - 0s 6ms/step - loss: 355.5811 - mae: 356.0811 - val_loss: 371.3817 - val_mae: 371.8817 - lr: 0.0010\n",
            "Epoch 27/500\n",
            "16/16 [==============================] - 0s 6ms/step - loss: 384.8195 - mae: 385.3195 - val_loss: 646.6643 - val_mae: 647.1643 - lr: 0.0010\n",
            "Epoch 28/500\n",
            "16/16 [==============================] - 0s 6ms/step - loss: 467.6439 - mae: 468.1432 - val_loss: 433.1371 - val_mae: 433.6371 - lr: 0.0010\n",
            "Epoch 29/500\n",
            "16/16 [==============================] - 0s 6ms/step - loss: 353.1208 - mae: 353.6206 - val_loss: 427.1633 - val_mae: 427.6633 - lr: 0.0010\n",
            "Epoch 30/500\n",
            "16/16 [==============================] - 0s 6ms/step - loss: 329.5150 - mae: 330.0149 - val_loss: 337.5525 - val_mae: 338.0525 - lr: 0.0010\n",
            "Epoch 31/500\n",
            "16/16 [==============================] - 0s 6ms/step - loss: 343.7849 - mae: 344.2837 - val_loss: 407.9441 - val_mae: 408.4441 - lr: 0.0010\n",
            "Epoch 32/500\n",
            "16/16 [==============================] - 0s 6ms/step - loss: 328.1338 - mae: 328.6329 - val_loss: 506.9810 - val_mae: 507.4810 - lr: 0.0010\n",
            "Epoch 33/500\n",
            "16/16 [==============================] - 0s 6ms/step - loss: 398.9850 - mae: 399.4845 - val_loss: 452.7873 - val_mae: 453.2873 - lr: 0.0010\n",
            "Epoch 34/500\n",
            "16/16 [==============================] - 0s 6ms/step - loss: 369.3149 - mae: 369.8149 - val_loss: 440.7465 - val_mae: 441.2465 - lr: 0.0010\n",
            "Epoch 35/500\n",
            "16/16 [==============================] - 0s 6ms/step - loss: 309.6853 - mae: 310.1848 - val_loss: 339.7550 - val_mae: 340.2486 - lr: 0.0010\n",
            "Epoch 36/500\n",
            "16/16 [==============================] - 0s 6ms/step - loss: 296.8571 - mae: 297.3559 - val_loss: 346.2885 - val_mae: 346.7885 - lr: 0.0010\n",
            "Epoch 37/500\n",
            "16/16 [==============================] - 0s 6ms/step - loss: 285.7179 - mae: 286.2175 - val_loss: 346.5788 - val_mae: 347.0788 - lr: 0.0010\n",
            "Epoch 38/500\n",
            "16/16 [==============================] - 0s 6ms/step - loss: 285.9631 - mae: 286.4627 - val_loss: 382.7440 - val_mae: 383.2440 - lr: 0.0010\n",
            "Epoch 39/500\n",
            "14/16 [=========================>....] - ETA: 0s - loss: 285.9968 - mae: 286.4968\n",
            "Epoch 39: ReduceLROnPlateau reducing learning rate to 0.00010000000474974513.\n",
            "16/16 [==============================] - 0s 6ms/step - loss: 282.7278 - mae: 283.2276 - val_loss: 351.0310 - val_mae: 351.5302 - lr: 0.0010\n",
            "Epoch 40/500\n",
            "16/16 [==============================] - 0s 6ms/step - loss: 270.5912 - mae: 271.0912 - val_loss: 330.5845 - val_mae: 331.0840 - lr: 1.0000e-04\n",
            "Epoch 41/500\n",
            "16/16 [==============================] - 0s 6ms/step - loss: 260.8954 - mae: 261.3950 - val_loss: 330.5428 - val_mae: 331.0374 - lr: 1.0000e-04\n",
            "Epoch 42/500\n",
            "16/16 [==============================] - 0s 7ms/step - loss: 259.6365 - mae: 260.1365 - val_loss: 317.0490 - val_mae: 317.5490 - lr: 1.0000e-04\n",
            "Epoch 43/500\n",
            "16/16 [==============================] - 0s 6ms/step - loss: 256.5002 - mae: 256.9976 - val_loss: 321.8649 - val_mae: 322.3649 - lr: 1.0000e-04\n",
            "Epoch 44/500\n",
            "16/16 [==============================] - 0s 6ms/step - loss: 253.1629 - mae: 253.6617 - val_loss: 316.7244 - val_mae: 317.2244 - lr: 1.0000e-04\n",
            "Epoch 45/500\n",
            "16/16 [==============================] - 0s 6ms/step - loss: 253.2519 - mae: 253.7513 - val_loss: 324.1816 - val_mae: 324.6816 - lr: 1.0000e-04\n",
            "Epoch 46/500\n",
            "16/16 [==============================] - 0s 7ms/step - loss: 251.5410 - mae: 252.0401 - val_loss: 312.7217 - val_mae: 313.2217 - lr: 1.0000e-04\n",
            "Epoch 47/500\n",
            "16/16 [==============================] - 0s 6ms/step - loss: 252.6604 - mae: 253.1597 - val_loss: 334.0092 - val_mae: 334.5092 - lr: 1.0000e-04\n",
            "Epoch 48/500\n",
            "16/16 [==============================] - 0s 6ms/step - loss: 259.0309 - mae: 259.5306 - val_loss: 323.0118 - val_mae: 323.5118 - lr: 1.0000e-04\n",
            "Epoch 49/500\n",
            "16/16 [==============================] - 0s 6ms/step - loss: 258.8283 - mae: 259.3280 - val_loss: 329.8103 - val_mae: 330.3103 - lr: 1.0000e-04\n",
            "Epoch 50/500\n",
            "16/16 [==============================] - 0s 6ms/step - loss: 255.8773 - mae: 256.3767 - val_loss: 322.5247 - val_mae: 323.0247 - lr: 1.0000e-04\n",
            "Epoch 51/500\n",
            "16/16 [==============================] - 0s 6ms/step - loss: 254.3638 - mae: 254.8628 - val_loss: 318.2787 - val_mae: 318.7787 - lr: 1.0000e-04\n",
            "Epoch 52/500\n",
            "16/16 [==============================] - 0s 6ms/step - loss: 255.8504 - mae: 256.3486 - val_loss: 320.3076 - val_mae: 320.8076 - lr: 1.0000e-04\n",
            "Epoch 53/500\n",
            "16/16 [==============================] - 0s 6ms/step - loss: 255.7055 - mae: 256.2052 - val_loss: 328.5631 - val_mae: 329.0631 - lr: 1.0000e-04\n",
            "Epoch 54/500\n",
            "16/16 [==============================] - 0s 6ms/step - loss: 250.9640 - mae: 251.4632 - val_loss: 334.5900 - val_mae: 335.0900 - lr: 1.0000e-04\n",
            "Epoch 55/500\n",
            "16/16 [==============================] - 0s 6ms/step - loss: 258.4302 - mae: 258.9295 - val_loss: 326.1399 - val_mae: 326.6399 - lr: 1.0000e-04\n",
            "Epoch 56/500\n",
            "16/16 [==============================] - 0s 6ms/step - loss: 251.7391 - mae: 252.2379 - val_loss: 330.5418 - val_mae: 331.0418 - lr: 1.0000e-04\n",
            "Epoch 57/500\n",
            "16/16 [==============================] - 0s 6ms/step - loss: 255.3369 - mae: 255.8360 - val_loss: 324.1756 - val_mae: 324.6756 - lr: 1.0000e-04\n",
            "Epoch 58/500\n",
            "16/16 [==============================] - 0s 6ms/step - loss: 253.1984 - mae: 253.6979 - val_loss: 319.7574 - val_mae: 320.2543 - lr: 1.0000e-04\n",
            "Epoch 59/500\n",
            "16/16 [==============================] - 0s 6ms/step - loss: 250.8431 - mae: 251.3429 - val_loss: 321.1401 - val_mae: 321.6401 - lr: 1.0000e-04\n",
            "Epoch 60/500\n",
            "16/16 [==============================] - 0s 6ms/step - loss: 249.0233 - mae: 249.5233 - val_loss: 326.1549 - val_mae: 326.6549 - lr: 1.0000e-04\n",
            "Epoch 61/500\n",
            "14/16 [=========================>....] - ETA: 0s - loss: 254.0771 - mae: 254.5758\n",
            "Epoch 61: ReduceLROnPlateau reducing learning rate to 0.0001.\n",
            "16/16 [==============================] - 0s 6ms/step - loss: 251.8212 - mae: 252.3200 - val_loss: 320.1076 - val_mae: 320.6076 - lr: 1.0000e-04\n",
            "Epoch 62/500\n",
            "16/16 [==============================] - 0s 6ms/step - loss: 249.5060 - mae: 250.0044 - val_loss: 322.6327 - val_mae: 323.1327 - lr: 1.0000e-04\n",
            "Epoch 63/500\n",
            "16/16 [==============================] - 0s 6ms/step - loss: 247.4722 - mae: 247.9722 - val_loss: 321.1381 - val_mae: 321.6324 - lr: 1.0000e-04\n",
            "Epoch 64/500\n",
            "16/16 [==============================] - 0s 6ms/step - loss: 249.3981 - mae: 249.8965 - val_loss: 328.2215 - val_mae: 328.7215 - lr: 1.0000e-04\n",
            "Epoch 65/500\n",
            "16/16 [==============================] - 0s 6ms/step - loss: 258.9041 - mae: 259.4031 - val_loss: 317.6959 - val_mae: 318.1959 - lr: 1.0000e-04\n",
            "Epoch 66/500\n",
            "16/16 [==============================] - 0s 6ms/step - loss: 258.5644 - mae: 259.0638 - val_loss: 320.0255 - val_mae: 320.5255 - lr: 1.0000e-04\n",
            "Epoch 67/500\n",
            "16/16 [==============================] - 0s 6ms/step - loss: 251.0159 - mae: 251.5157 - val_loss: 318.3971 - val_mae: 318.8934 - lr: 1.0000e-04\n",
            "Epoch 68/500\n",
            "16/16 [==============================] - 0s 6ms/step - loss: 254.0871 - mae: 254.5865 - val_loss: 320.8971 - val_mae: 321.3951 - lr: 1.0000e-04\n",
            "Epoch 69/500\n",
            "16/16 [==============================] - 0s 6ms/step - loss: 253.2505 - mae: 253.7490 - val_loss: 313.7165 - val_mae: 314.2165 - lr: 1.0000e-04\n",
            "Epoch 70/500\n",
            "16/16 [==============================] - 0s 6ms/step - loss: 248.5048 - mae: 249.0045 - val_loss: 316.8938 - val_mae: 317.3863 - lr: 1.0000e-04\n",
            "Epoch 71/500\n",
            "16/16 [==============================] - 0s 6ms/step - loss: 246.4210 - mae: 246.9198 - val_loss: 322.7435 - val_mae: 323.2435 - lr: 1.0000e-04\n",
            "Epoch 72/500\n",
            "16/16 [==============================] - 0s 6ms/step - loss: 248.1109 - mae: 248.6106 - val_loss: 324.9792 - val_mae: 325.4792 - lr: 1.0000e-04\n",
            "Epoch 73/500\n",
            "16/16 [==============================] - 0s 6ms/step - loss: 246.8718 - mae: 247.3708 - val_loss: 320.5725 - val_mae: 321.0725 - lr: 1.0000e-04\n",
            "Epoch 74/500\n",
            "16/16 [==============================] - 0s 6ms/step - loss: 250.1007 - mae: 250.5985 - val_loss: 329.0481 - val_mae: 329.5481 - lr: 1.0000e-04\n",
            "Epoch 75/500\n",
            "16/16 [==============================] - 0s 6ms/step - loss: 253.3600 - mae: 253.8595 - val_loss: 321.2758 - val_mae: 321.7758 - lr: 1.0000e-04\n",
            "Epoch 76/500\n",
            "13/16 [=======================>......] - ETA: 0s - loss: 255.4982 - mae: 255.9981Restoring model weights from the end of the best epoch: 46.\n",
            "16/16 [==============================] - 0s 7ms/step - loss: 251.9114 - mae: 252.4105 - val_loss: 320.6836 - val_mae: 321.1836 - lr: 1.0000e-04\n",
            "Epoch 76: early stopping\n"
          ]
        }
      ]
    },
    {
      "cell_type": "code",
      "source": [
        "pd.DataFrame(history.history).plot(figsize=(10, 7))\n",
        "plt.grid(True)\n",
        "plt.show()"
      ],
      "metadata": {
        "colab": {
          "base_uri": "https://localhost:8080/",
          "height": 432
        },
        "id": "P4CCymPgzoNH",
        "outputId": "48f552c3-41f3-46bc-b5f8-0dc7d15ec29e"
      },
      "execution_count": 37,
      "outputs": [
        {
          "output_type": "display_data",
          "data": {
            "text/plain": [
              "<Figure size 720x504 with 1 Axes>"
            ],
            "image/png": "[encoded data removed]"
          },
          "metadata": {
            "needs_background": "light"
          }
        }
      ]
    },
    {
      "cell_type": "code",
      "source": [
        "scores = model.evaluate(X_test, y_test)"
      ],
      "metadata": {
        "colab": {
          "base_uri": "https://localhost:8080/"
        },
        "id": "LOYayY7H0XTP",
        "outputId": "50211a5d-c45a-46f6-a270-cb6643d60241"
      },
      "execution_count": 38,
      "outputs": [
        {
          "output_type": "stream",
          "name": "stdout",
          "text": [
            "5/5 [==============================] - 0s 3ms/step - loss: 319.4271 - mae: 319.9231\n"
          ]
        }
      ]
    },
    {
      "cell_type": "code",
      "source": [
        "preds = model.predict(X_test, verbose=1)"
      ],
      "metadata": {
        "colab": {
          "base_uri": "https://localhost:8080/"
        },
        "id": "FJIpkBZg6T-D",
        "outputId": "847a94ea-98d1-4c9b-89fb-925cad09b346"
      },
      "execution_count": 39,
      "outputs": [
        {
          "output_type": "stream",
          "name": "stdout",
          "text": [
            "5/5 [==============================] - 0s 2ms/step\n"
          ]
        }
      ]
    },
    {
      "cell_type": "code",
      "source": [
        "from scipy import stats"
      ],
      "metadata": {
        "id": "tczk9B-N6WLu"
      },
      "execution_count": 40,
      "outputs": []
    },
    {
      "cell_type": "code",
      "source": [
        "confidence = 0.95\n",
        "\n",
        "abs_errors = abs(preds.flatten() - y_test.to_numpy().flatten())\n",
        "stats.t.interval(confidence, len(abs_errors)-1, \n",
        "                         loc=abs_errors.mean(), \n",
        "                         scale=stats.sem(abs_errors))"
      ],
      "metadata": {
        "colab": {
          "base_uri": "https://localhost:8080/"
        },
        "id": "EXiGUnWP6YUu",
        "outputId": "8f5c42ec-dac3-4ea7-becc-cc6654bf45f6"
      },
      "execution_count": 41,
      "outputs": [
        {
          "output_type": "execute_result",
          "data": {
            "text/plain": [
              "(225.05957264206904, 414.7865833814817)"
            ]
          },
          "metadata": {},
          "execution_count": 41
        }
      ]
    },
    {
      "cell_type": "code",
      "source": [
        "# On complex model, we don't observe better performance than model using all set of features\n",
        "# CI with min features on complex model: (253.50048841324852, 445.4612292752705) -> (225.05957264206904, 414.7865833814817)\n",
        "# CI with min features on simpler model: (279.62445102152765, 477.8885468130511)\n",
        "\n",
        "\n"
      ],
      "metadata": {
        "id": "a7a4tGKDHiqk"
      },
      "execution_count": 42,
      "outputs": []
    },
    {
      "cell_type": "code",
      "source": [
        "# model.save(\"bronx_model.h5\")"
      ],
      "metadata": {
        "id": "O1EocXxa6r0p"
      },
      "execution_count": 43,
      "outputs": []
    },
    {
      "cell_type": "code",
      "source": [
        "# /content/drive/MyDrive/Boro_DFs/\n",
        "model.save(\"/content/drive/MyDrive/Boro_DFs/bronx_minimum_features_model.h5\")"
      ],
      "metadata": {
        "id": "yBEwI7ai60uc"
      },
      "execution_count": 44,
      "outputs": []
    }
  ]
}