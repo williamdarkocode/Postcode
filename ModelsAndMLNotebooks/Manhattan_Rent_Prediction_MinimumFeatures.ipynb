{
  "nbformat": 4,
  "nbformat_minor": 0,
  "metadata": {
    "colab": {
      "name": "Manhattan_Rent_Prediction_MinimumFeatures",
      "provenance": [],
      "machine_shape": "hm"
    },
    "kernelspec": {
      "name": "python3",
      "display_name": "Python 3"
    },
    "language_info": {
      "name": "python"
    },
    "accelerator": "GPU"
  },
  "cells": [
    {
      "cell_type": "code",
      "execution_count": 1,
      "metadata": {
        "id": "IHq6vEX0JQh5"
      },
      "outputs": [],
      "source": [
        "import matplotlib.pyplot as plt\n",
        "import pandas as pd\n",
        "import numpy as np\n",
        "import tarfile\n",
        "import math\n",
        "\n",
        "from tensorflow import keras\n",
        "from keras import models\n",
        "from keras import layers\n",
        "from keras.callbacks import EarlyStopping\n",
        "\n",
        "\n",
        "from sklearn.model_selection import train_test_split\n",
        "from sklearn.impute import SimpleImputer\n",
        "from sklearn.preprocessing import MinMaxScaler\n",
        "from sklearn.preprocessing import OneHotEncoder"
      ]
    },
    {
      "cell_type": "code",
      "source": [
        "from keras.callbacks import ReduceLROnPlateau"
      ],
      "metadata": {
        "id": "QT0Ilkkn0pq5"
      },
      "execution_count": 2,
      "outputs": []
    },
    {
      "cell_type": "code",
      "source": [
        "from keras.layers import AlphaDropout"
      ],
      "metadata": {
        "id": "9pv0CxHhAe4c"
      },
      "execution_count": 3,
      "outputs": []
    },
    {
      "cell_type": "code",
      "source": [
        "from google.colab import drive\n",
        "drive.mount('/content/drive/')"
      ],
      "metadata": {
        "colab": {
          "base_uri": "https://localhost:8080/"
        },
        "id": "LznBSqDlpFQe",
        "outputId": "2c1da5fa-effc-40b9-a990-cd1f1a227c08"
      },
      "execution_count": 4,
      "outputs": [
        {
          "output_type": "stream",
          "name": "stdout",
          "text": [
            "Mounted at /content/drive/\n"
          ]
        }
      ]
    },
    {
      "cell_type": "code",
      "source": [
        "from numpy.random import seed\n",
        "seed(15)\n",
        "\n",
        "from tensorflow.random import set_seed\n",
        "set_seed(15)"
      ],
      "metadata": {
        "id": "F82b9igNpD4a"
      },
      "execution_count": 5,
      "outputs": []
    },
    {
      "cell_type": "code",
      "source": [
        "manhattan_csv = '/content/drive/MyDrive/Boro_DFs/manhatt_df.csv'"
      ],
      "metadata": {
        "id": "It23BQMkpZrO"
      },
      "execution_count": 11,
      "outputs": []
    },
    {
      "cell_type": "code",
      "source": [
        "manhattan_df = pd.DataFrame(pd.read_csv(manhattan_csv))"
      ],
      "metadata": {
        "id": "cGPCANEIppM-"
      },
      "execution_count": 12,
      "outputs": []
    },
    {
      "cell_type": "code",
      "source": [
        "manhattan_df.head()"
      ],
      "metadata": {
        "colab": {
          "base_uri": "https://localhost:8080/",
          "height": 206
        },
        "id": "nn32hx06p1M7",
        "outputId": "0922d00c-bcc4-4864-88ce-c4a7884737e3"
      },
      "execution_count": 13,
      "outputs": [
        {
          "output_type": "execute_result",
          "data": {
            "text/plain": [
              "     Borough                           Area                Address  Num_Beds  \\\n",
              "0  manhattan                        Chelsea      130 W 15th Street       2.0   \n",
              "1  manhattan                    Murray Hill   401 East 34th Street       2.0   \n",
              "2  manhattan             Washington Heights  432 West 163rd Street       2.0   \n",
              "3  manhattan                   South Harlem  207 West 121st Street       0.5   \n",
              "4  manhattan  upper east side-carnegie hill      420 E 54th Street       1.0   \n",
              "\n",
              "   Num_Baths    Sq-Ft    Rent       Long        Lat ZipCode  Precinct  \\\n",
              "0        2.0  1377.37  9150.0 -73.997478  40.738415   10011      13.0   \n",
              "1        2.0  1085.00  6276.0 -73.972708  40.743649   10016      13.0   \n",
              "2        1.0   855.99  2646.0 -73.938373  40.836002   10032      33.0   \n",
              "3        1.0   537.89  1950.0 -73.950435  40.806607   10027      28.0   \n",
              "4        2.0   851.00  5869.0 -73.963335  40.755807   10022      18.0   \n",
              "\n",
              "   CrimeTotalPastYear Train_Line  Dist_To_Line  Dist_To_Station  \\\n",
              "0              1549.0          L      0.001283         0.000726   \n",
              "1              1549.0          7      0.008466         0.008466   \n",
              "2              1126.0        A-C      0.001519         0.001519   \n",
              "3              1017.0        B-D      0.002599         0.004581   \n",
              "4              1926.0          E      0.001128         0.005973   \n",
              "\n",
              "   Dist_To_Entrance  \n",
              "0          0.000919  \n",
              "1          0.007582  \n",
              "2          0.001446  \n",
              "3          0.004434  \n",
              "4          0.006087  "
            ],
            "text/html": [
              "\n",
              "  <div id=\"df-a07fa39c-c3dd-4807-bb1e-a27325d36d3f\">\n",
              "    <div class=\"colab-df-container\">\n",
              "      <div>\n",
              "<style scoped>\n",
              "    .dataframe tbody tr th:only-of-type {\n",
              "        vertical-align: middle;\n",
              "    }\n",
              "\n",
              "    .dataframe tbody tr th {\n",
              "        vertical-align: top;\n",
              "    }\n",
              "\n",
              "    .dataframe thead th {\n",
              "        text-align: right;\n",
              "    }\n",
              "</style>\n",
              "<table border=\"1\" class=\"dataframe\">\n",
              "  <thead>\n",
              "    <tr style=\"text-align: right;\">\n",
              "      <th></th>\n",
              "      <th>Borough</th>\n",
              "      <th>Area</th>\n",
              "      <th>Address</th>\n",
              "      <th>Num_Beds</th>\n",
              "      <th>Num_Baths</th>\n",
              "      <th>Sq-Ft</th>\n",
              "      <th>Rent</th>\n",
              "      <th>Long</th>\n",
              "      <th>Lat</th>\n",
              "      <th>ZipCode</th>\n",
              "      <th>Precinct</th>\n",
              "      <th>CrimeTotalPastYear</th>\n",
              "      <th>Train_Line</th>\n",
              "      <th>Dist_To_Line</th>\n",
              "      <th>Dist_To_Station</th>\n",
              "      <th>Dist_To_Entrance</th>\n",
              "    </tr>\n",
              "  </thead>\n",
              "  <tbody>\n",
              "    <tr>\n",
              "      <th>0</th>\n",
              "      <td>manhattan</td>\n",
              "      <td>Chelsea</td>\n",
              "      <td>130 W 15th Street</td>\n",
              "      <td>2.0</td>\n",
              "      <td>2.0</td>\n",
              "      <td>1377.37</td>\n",
              "      <td>9150.0</td>\n",
              "      <td>-73.997478</td>\n",
              "      <td>40.738415</td>\n",
              "      <td>10011</td>\n",
              "      <td>13.0</td>\n",
              "      <td>1549.0</td>\n",
              "      <td>L</td>\n",
              "      <td>0.001283</td>\n",
              "      <td>0.000726</td>\n",
              "      <td>0.000919</td>\n",
              "    </tr>\n",
              "    <tr>\n",
              "      <th>1</th>\n",
              "      <td>manhattan</td>\n",
              "      <td>Murray Hill</td>\n",
              "      <td>401 East 34th Street</td>\n",
              "      <td>2.0</td>\n",
              "      <td>2.0</td>\n",
              "      <td>1085.00</td>\n",
              "      <td>6276.0</td>\n",
              "      <td>-73.972708</td>\n",
              "      <td>40.743649</td>\n",
              "      <td>10016</td>\n",
              "      <td>13.0</td>\n",
              "      <td>1549.0</td>\n",
              "      <td>7</td>\n",
              "      <td>0.008466</td>\n",
              "      <td>0.008466</td>\n",
              "      <td>0.007582</td>\n",
              "    </tr>\n",
              "    <tr>\n",
              "      <th>2</th>\n",
              "      <td>manhattan</td>\n",
              "      <td>Washington Heights</td>\n",
              "      <td>432 West 163rd Street</td>\n",
              "      <td>2.0</td>\n",
              "      <td>1.0</td>\n",
              "      <td>855.99</td>\n",
              "      <td>2646.0</td>\n",
              "      <td>-73.938373</td>\n",
              "      <td>40.836002</td>\n",
              "      <td>10032</td>\n",
              "      <td>33.0</td>\n",
              "      <td>1126.0</td>\n",
              "      <td>A-C</td>\n",
              "      <td>0.001519</td>\n",
              "      <td>0.001519</td>\n",
              "      <td>0.001446</td>\n",
              "    </tr>\n",
              "    <tr>\n",
              "      <th>3</th>\n",
              "      <td>manhattan</td>\n",
              "      <td>South Harlem</td>\n",
              "      <td>207 West 121st Street</td>\n",
              "      <td>0.5</td>\n",
              "      <td>1.0</td>\n",
              "      <td>537.89</td>\n",
              "      <td>1950.0</td>\n",
              "      <td>-73.950435</td>\n",
              "      <td>40.806607</td>\n",
              "      <td>10027</td>\n",
              "      <td>28.0</td>\n",
              "      <td>1017.0</td>\n",
              "      <td>B-D</td>\n",
              "      <td>0.002599</td>\n",
              "      <td>0.004581</td>\n",
              "      <td>0.004434</td>\n",
              "    </tr>\n",
              "    <tr>\n",
              "      <th>4</th>\n",
              "      <td>manhattan</td>\n",
              "      <td>upper east side-carnegie hill</td>\n",
              "      <td>420 E 54th Street</td>\n",
              "      <td>1.0</td>\n",
              "      <td>2.0</td>\n",
              "      <td>851.00</td>\n",
              "      <td>5869.0</td>\n",
              "      <td>-73.963335</td>\n",
              "      <td>40.755807</td>\n",
              "      <td>10022</td>\n",
              "      <td>18.0</td>\n",
              "      <td>1926.0</td>\n",
              "      <td>E</td>\n",
              "      <td>0.001128</td>\n",
              "      <td>0.005973</td>\n",
              "      <td>0.006087</td>\n",
              "    </tr>\n",
              "  </tbody>\n",
              "</table>\n",
              "</div>\n",
              "      <button class=\"colab-df-convert\" onclick=\"convertToInteractive('df-a07fa39c-c3dd-4807-bb1e-a27325d36d3f')\"\n",
              "              title=\"Convert this dataframe to an interactive table.\"\n",
              "              style=\"display:none;\">\n",
              "        \n",
              "  <svg xmlns=\"http://www.w3.org/2000/svg\" height=\"24px\"viewBox=\"0 0 24 24\"\n",
              "       width=\"24px\">\n",
              "    <path d=\"M0 0h24v24H0V0z\" fill=\"none\"/>\n",
              "    <path d=\"M18.56 5.44l.94 2.06.94-2.06 2.06-.94-2.06-.94-.94-2.06-.94 2.06-2.06.94zm-11 1L8.5 8.5l.94-2.06 2.06-.94-2.06-.94L8.5 2.5l-.94 2.06-2.06.94zm10 10l.94 2.06.94-2.06 2.06-.94-2.06-.94-.94-2.06-.94 2.06-2.06.94z\"/><path d=\"M17.41 7.96l-1.37-1.37c-.4-.4-.92-.59-1.43-.59-.52 0-1.04.2-1.43.59L10.3 9.45l-7.72 7.72c-.78.78-.78 2.05 0 2.83L4 21.41c.39.39.9.59 1.41.59.51 0 1.02-.2 1.41-.59l7.78-7.78 2.81-2.81c.8-.78.8-2.07 0-2.86zM5.41 20L4 18.59l7.72-7.72 1.47 1.35L5.41 20z\"/>\n",
              "  </svg>\n",
              "      </button>\n",
              "      \n",
              "  <style>\n",
              "    .colab-df-container {\n",
              "      display:flex;\n",
              "      flex-wrap:wrap;\n",
              "      gap: 12px;\n",
              "    }\n",
              "\n",
              "    .colab-df-convert {\n",
              "      background-color: #E8F0FE;\n",
              "      border: none;\n",
              "      border-radius: 50%;\n",
              "      cursor: pointer;\n",
              "      display: none;\n",
              "      fill: #1967D2;\n",
              "      height: 32px;\n",
              "      padding: 0 0 0 0;\n",
              "      width: 32px;\n",
              "    }\n",
              "\n",
              "    .colab-df-convert:hover {\n",
              "      background-color: #E2EBFA;\n",
              "      box-shadow: 0px 1px 2px rgba(60, 64, 67, 0.3), 0px 1px 3px 1px rgba(60, 64, 67, 0.15);\n",
              "      fill: #174EA6;\n",
              "    }\n",
              "\n",
              "    [theme=dark] .colab-df-convert {\n",
              "      background-color: #3B4455;\n",
              "      fill: #D2E3FC;\n",
              "    }\n",
              "\n",
              "    [theme=dark] .colab-df-convert:hover {\n",
              "      background-color: #434B5C;\n",
              "      box-shadow: 0px 1px 3px 1px rgba(0, 0, 0, 0.15);\n",
              "      filter: drop-shadow(0px 1px 2px rgba(0, 0, 0, 0.3));\n",
              "      fill: #FFFFFF;\n",
              "    }\n",
              "  </style>\n",
              "\n",
              "      <script>\n",
              "        const buttonEl =\n",
              "          document.querySelector('#df-a07fa39c-c3dd-4807-bb1e-a27325d36d3f button.colab-df-convert');\n",
              "        buttonEl.style.display =\n",
              "          google.colab.kernel.accessAllowed ? 'block' : 'none';\n",
              "\n",
              "        async function convertToInteractive(key) {\n",
              "          const element = document.querySelector('#df-a07fa39c-c3dd-4807-bb1e-a27325d36d3f');\n",
              "          const dataTable =\n",
              "            await google.colab.kernel.invokeFunction('convertToInteractive',\n",
              "                                                     [key], {});\n",
              "          if (!dataTable) return;\n",
              "\n",
              "          const docLinkHtml = 'Like what you see? Visit the ' +\n",
              "            '<a target=\"_blank\" href=https://colab.research.google.com/notebooks/data_table.ipynb>data table notebook</a>'\n",
              "            + ' to learn more about interactive tables.';\n",
              "          element.innerHTML = '';\n",
              "          dataTable['output_type'] = 'display_data';\n",
              "          await google.colab.output.renderOutput(dataTable, element);\n",
              "          const docLink = document.createElement('div');\n",
              "          docLink.innerHTML = docLinkHtml;\n",
              "          element.appendChild(docLink);\n",
              "        }\n",
              "      </script>\n",
              "    </div>\n",
              "  </div>\n",
              "  "
            ]
          },
          "metadata": {},
          "execution_count": 13
        }
      ]
    },
    {
      "cell_type": "code",
      "source": [
        "y = manhattan_df[['Rent']]"
      ],
      "metadata": {
        "id": "nDuMfPUQqMH2"
      },
      "execution_count": 14,
      "outputs": []
    },
    {
      "cell_type": "code",
      "source": [
        "X = manhattan_df.drop(['Area', 'Address','Borough', 'Rent', 'ZipCode', 'Precinct', 'CrimeTotalPastYear', 'Train_Line', 'Dist_To_Line', 'Dist_To_Station', 'Dist_To_Entrance'], axis=1)\n",
        "X.head()"
      ],
      "metadata": {
        "colab": {
          "base_uri": "https://localhost:8080/",
          "height": 206
        },
        "id": "xhlAi-gSqUtm",
        "outputId": "e5f5007f-1dab-4770-8cee-e8926a80da8f"
      },
      "execution_count": 15,
      "outputs": [
        {
          "output_type": "execute_result",
          "data": {
            "text/plain": [
              "   Num_Beds  Num_Baths    Sq-Ft       Long        Lat\n",
              "0       2.0        2.0  1377.37 -73.997478  40.738415\n",
              "1       2.0        2.0  1085.00 -73.972708  40.743649\n",
              "2       2.0        1.0   855.99 -73.938373  40.836002\n",
              "3       0.5        1.0   537.89 -73.950435  40.806607\n",
              "4       1.0        2.0   851.00 -73.963335  40.755807"
            ],
            "text/html": [
              "\n",
              "  <div id=\"df-7e78b392-2153-41cd-9867-76740bbcbbc5\">\n",
              "    <div class=\"colab-df-container\">\n",
              "      <div>\n",
              "<style scoped>\n",
              "    .dataframe tbody tr th:only-of-type {\n",
              "        vertical-align: middle;\n",
              "    }\n",
              "\n",
              "    .dataframe tbody tr th {\n",
              "        vertical-align: top;\n",
              "    }\n",
              "\n",
              "    .dataframe thead th {\n",
              "        text-align: right;\n",
              "    }\n",
              "</style>\n",
              "<table border=\"1\" class=\"dataframe\">\n",
              "  <thead>\n",
              "    <tr style=\"text-align: right;\">\n",
              "      <th></th>\n",
              "      <th>Num_Beds</th>\n",
              "      <th>Num_Baths</th>\n",
              "      <th>Sq-Ft</th>\n",
              "      <th>Long</th>\n",
              "      <th>Lat</th>\n",
              "    </tr>\n",
              "  </thead>\n",
              "  <tbody>\n",
              "    <tr>\n",
              "      <th>0</th>\n",
              "      <td>2.0</td>\n",
              "      <td>2.0</td>\n",
              "      <td>1377.37</td>\n",
              "      <td>-73.997478</td>\n",
              "      <td>40.738415</td>\n",
              "    </tr>\n",
              "    <tr>\n",
              "      <th>1</th>\n",
              "      <td>2.0</td>\n",
              "      <td>2.0</td>\n",
              "      <td>1085.00</td>\n",
              "      <td>-73.972708</td>\n",
              "      <td>40.743649</td>\n",
              "    </tr>\n",
              "    <tr>\n",
              "      <th>2</th>\n",
              "      <td>2.0</td>\n",
              "      <td>1.0</td>\n",
              "      <td>855.99</td>\n",
              "      <td>-73.938373</td>\n",
              "      <td>40.836002</td>\n",
              "    </tr>\n",
              "    <tr>\n",
              "      <th>3</th>\n",
              "      <td>0.5</td>\n",
              "      <td>1.0</td>\n",
              "      <td>537.89</td>\n",
              "      <td>-73.950435</td>\n",
              "      <td>40.806607</td>\n",
              "    </tr>\n",
              "    <tr>\n",
              "      <th>4</th>\n",
              "      <td>1.0</td>\n",
              "      <td>2.0</td>\n",
              "      <td>851.00</td>\n",
              "      <td>-73.963335</td>\n",
              "      <td>40.755807</td>\n",
              "    </tr>\n",
              "  </tbody>\n",
              "</table>\n",
              "</div>\n",
              "      <button class=\"colab-df-convert\" onclick=\"convertToInteractive('df-7e78b392-2153-41cd-9867-76740bbcbbc5')\"\n",
              "              title=\"Convert this dataframe to an interactive table.\"\n",
              "              style=\"display:none;\">\n",
              "        \n",
              "  <svg xmlns=\"http://www.w3.org/2000/svg\" height=\"24px\"viewBox=\"0 0 24 24\"\n",
              "       width=\"24px\">\n",
              "    <path d=\"M0 0h24v24H0V0z\" fill=\"none\"/>\n",
              "    <path d=\"M18.56 5.44l.94 2.06.94-2.06 2.06-.94-2.06-.94-.94-2.06-.94 2.06-2.06.94zm-11 1L8.5 8.5l.94-2.06 2.06-.94-2.06-.94L8.5 2.5l-.94 2.06-2.06.94zm10 10l.94 2.06.94-2.06 2.06-.94-2.06-.94-.94-2.06-.94 2.06-2.06.94z\"/><path d=\"M17.41 7.96l-1.37-1.37c-.4-.4-.92-.59-1.43-.59-.52 0-1.04.2-1.43.59L10.3 9.45l-7.72 7.72c-.78.78-.78 2.05 0 2.83L4 21.41c.39.39.9.59 1.41.59.51 0 1.02-.2 1.41-.59l7.78-7.78 2.81-2.81c.8-.78.8-2.07 0-2.86zM5.41 20L4 18.59l7.72-7.72 1.47 1.35L5.41 20z\"/>\n",
              "  </svg>\n",
              "      </button>\n",
              "      \n",
              "  <style>\n",
              "    .colab-df-container {\n",
              "      display:flex;\n",
              "      flex-wrap:wrap;\n",
              "      gap: 12px;\n",
              "    }\n",
              "\n",
              "    .colab-df-convert {\n",
              "      background-color: #E8F0FE;\n",
              "      border: none;\n",
              "      border-radius: 50%;\n",
              "      cursor: pointer;\n",
              "      display: none;\n",
              "      fill: #1967D2;\n",
              "      height: 32px;\n",
              "      padding: 0 0 0 0;\n",
              "      width: 32px;\n",
              "    }\n",
              "\n",
              "    .colab-df-convert:hover {\n",
              "      background-color: #E2EBFA;\n",
              "      box-shadow: 0px 1px 2px rgba(60, 64, 67, 0.3), 0px 1px 3px 1px rgba(60, 64, 67, 0.15);\n",
              "      fill: #174EA6;\n",
              "    }\n",
              "\n",
              "    [theme=dark] .colab-df-convert {\n",
              "      background-color: #3B4455;\n",
              "      fill: #D2E3FC;\n",
              "    }\n",
              "\n",
              "    [theme=dark] .colab-df-convert:hover {\n",
              "      background-color: #434B5C;\n",
              "      box-shadow: 0px 1px 3px 1px rgba(0, 0, 0, 0.15);\n",
              "      filter: drop-shadow(0px 1px 2px rgba(0, 0, 0, 0.3));\n",
              "      fill: #FFFFFF;\n",
              "    }\n",
              "  </style>\n",
              "\n",
              "      <script>\n",
              "        const buttonEl =\n",
              "          document.querySelector('#df-7e78b392-2153-41cd-9867-76740bbcbbc5 button.colab-df-convert');\n",
              "        buttonEl.style.display =\n",
              "          google.colab.kernel.accessAllowed ? 'block' : 'none';\n",
              "\n",
              "        async function convertToInteractive(key) {\n",
              "          const element = document.querySelector('#df-7e78b392-2153-41cd-9867-76740bbcbbc5');\n",
              "          const dataTable =\n",
              "            await google.colab.kernel.invokeFunction('convertToInteractive',\n",
              "                                                     [key], {});\n",
              "          if (!dataTable) return;\n",
              "\n",
              "          const docLinkHtml = 'Like what you see? Visit the ' +\n",
              "            '<a target=\"_blank\" href=https://colab.research.google.com/notebooks/data_table.ipynb>data table notebook</a>'\n",
              "            + ' to learn more about interactive tables.';\n",
              "          element.innerHTML = '';\n",
              "          dataTable['output_type'] = 'display_data';\n",
              "          await google.colab.output.renderOutput(dataTable, element);\n",
              "          const docLink = document.createElement('div');\n",
              "          docLink.innerHTML = docLinkHtml;\n",
              "          element.appendChild(docLink);\n",
              "        }\n",
              "      </script>\n",
              "    </div>\n",
              "  </div>\n",
              "  "
            ]
          },
          "metadata": {},
          "execution_count": 15
        }
      ]
    },
    {
      "cell_type": "code",
      "source": [
        "# X = pd.get_dummies(X, columns=['Area', 'Address', 'ZipCode', 'Precinct', 'Train_Line'])"
      ],
      "metadata": {
        "id": "4P1BFCNV4NK4"
      },
      "execution_count": null,
      "outputs": []
    },
    {
      "cell_type": "code",
      "source": [
        "X_train, X_test, y_train, y_test = train_test_split(X, y, test_size=0.2, random_state=42) "
      ],
      "metadata": {
        "id": "PGBo1zfvsq38"
      },
      "execution_count": 16,
      "outputs": []
    },
    {
      "cell_type": "code",
      "source": [
        "# numeric_cols = ['Num_Beds', 'Num_Baths', 'Sq-Ft', 'Long', 'Lat', 'CrimeTotalPastYear', 'Dist_To_Line', 'Dist_To_Station', 'Dist_To_Entrance']"
      ],
      "metadata": {
        "id": "uQhhxKkD4efw"
      },
      "execution_count": null,
      "outputs": []
    },
    {
      "cell_type": "code",
      "source": [
        "# X_train_num = X_train[numeric_cols]"
      ],
      "metadata": {
        "id": "I4uVOTx2tGNS"
      },
      "execution_count": null,
      "outputs": []
    },
    {
      "cell_type": "code",
      "source": [
        "# X_test_num = X_test[numeric_cols]"
      ],
      "metadata": {
        "id": "z5-Af9EKtmY2"
      },
      "execution_count": null,
      "outputs": []
    },
    {
      "cell_type": "code",
      "source": [
        "# print(X_train_num.shape)\n",
        "# print(X_test_num.shape)"
      ],
      "metadata": {
        "id": "Vdgob14o5HKD"
      },
      "execution_count": 17,
      "outputs": []
    },
    {
      "cell_type": "code",
      "source": [
        "scaler = MinMaxScaler()"
      ],
      "metadata": {
        "id": "p9RNRLAbtwBQ"
      },
      "execution_count": 18,
      "outputs": []
    },
    {
      "cell_type": "code",
      "source": [
        "X_train = scaler.fit_transform(X_train)"
      ],
      "metadata": {
        "id": "7PtlLZ1Ct1q8"
      },
      "execution_count": 19,
      "outputs": []
    },
    {
      "cell_type": "code",
      "source": [
        "X_train.shape"
      ],
      "metadata": {
        "colab": {
          "base_uri": "https://localhost:8080/"
        },
        "id": "UOd7oCyH2aUQ",
        "outputId": "2d868c33-660f-479a-d694-ded71bbff9fb"
      },
      "execution_count": 20,
      "outputs": [
        {
          "output_type": "execute_result",
          "data": {
            "text/plain": [
              "(6914, 5)"
            ]
          },
          "metadata": {},
          "execution_count": 20
        }
      ]
    },
    {
      "cell_type": "code",
      "source": [
        "X_test = scaler.transform(X_test)"
      ],
      "metadata": {
        "id": "P71FdUJ0uBwi"
      },
      "execution_count": 21,
      "outputs": []
    },
    {
      "cell_type": "code",
      "source": [
        "X_test.shape"
      ],
      "metadata": {
        "colab": {
          "base_uri": "https://localhost:8080/"
        },
        "id": "ReDQGS852Xdb",
        "outputId": "4374d84d-4db8-494e-beed-dc14be7f9930"
      },
      "execution_count": 22,
      "outputs": [
        {
          "output_type": "execute_result",
          "data": {
            "text/plain": [
              "(1729, 5)"
            ]
          },
          "metadata": {},
          "execution_count": 22
        }
      ]
    },
    {
      "cell_type": "code",
      "source": [
        "# X_train_onehots = X_train.drop(numeric_cols, axis=1)\n",
        "# X_test_onehots = X_test.drop(numeric_cols, axis=1)"
      ],
      "metadata": {
        "id": "FdZcJP0QuIVM"
      },
      "execution_count": 23,
      "outputs": []
    },
    {
      "cell_type": "code",
      "source": [
        "# X_train_onehots.shape"
      ],
      "metadata": {
        "id": "z6g_xtgK15Je"
      },
      "execution_count": 24,
      "outputs": []
    },
    {
      "cell_type": "code",
      "source": [
        "# X_test_onehots.shape"
      ],
      "metadata": {
        "id": "kqRZuLf917vt"
      },
      "execution_count": 25,
      "outputs": []
    },
    {
      "cell_type": "code",
      "source": [
        "# X_train = np.concatenate((X_train_num, X_train_onehots), axis=1)"
      ],
      "metadata": {
        "id": "fr7kghS9yA5F"
      },
      "execution_count": 26,
      "outputs": []
    },
    {
      "cell_type": "code",
      "source": [
        "# X_test = np.concatenate((X_test_num, X_test_onehots), axis=1)"
      ],
      "metadata": {
        "id": "WTUi2RjXyMFd"
      },
      "execution_count": 27,
      "outputs": []
    },
    {
      "cell_type": "code",
      "source": [
        "# create validation set\n",
        "num_val_insts = math.floor(X_train.shape[0]*(.10))\n",
        "\n",
        "X_val = X_train[:num_val_insts]\n",
        "y_val = y_train[:num_val_insts]\n",
        "\n",
        "X_train = X_train[num_val_insts:]\n",
        "y_train = y_train[num_val_insts:]"
      ],
      "metadata": {
        "id": "d3BMgWC8yaXg"
      },
      "execution_count": 28,
      "outputs": []
    },
    {
      "cell_type": "code",
      "source": [
        "print(f\"X_train shape: {X_train.shape}, y_train shape: {y_train.shape}\")\n",
        "print(f\"X_val shape: {X_val.shape}, y_val shape: {y_val.shape}\")\n",
        "print(f\"X_test shape: {X_test.shape}, y_test shape: {y_test.shape}\")"
      ],
      "metadata": {
        "colab": {
          "base_uri": "https://localhost:8080/"
        },
        "id": "HytfmXvtyjHK",
        "outputId": "c4c4f0fc-f465-4f93-e258-1a02485c86d5"
      },
      "execution_count": 29,
      "outputs": [
        {
          "output_type": "stream",
          "name": "stdout",
          "text": [
            "X_train shape: (6223, 5), y_train shape: (6223, 1)\n",
            "X_val shape: (691, 5), y_val shape: (691, 1)\n",
            "X_test shape: (1729, 5), y_test shape: (1729, 1)\n"
          ]
        }
      ]
    },
    {
      "cell_type": "code",
      "source": [
        "from keras.initializers import lecun_normal"
      ],
      "metadata": {
        "id": "Yc8srrdAy3cI"
      },
      "execution_count": 30,
      "outputs": []
    },
    {
      "cell_type": "code",
      "source": [
        "initialiser = lecun_normal(seed=31)"
      ],
      "metadata": {
        "id": "mSe9P4ETy4zn"
      },
      "execution_count": 31,
      "outputs": []
    },
    {
      "cell_type": "code",
      "source": [
        "# model\n",
        "\n",
        "model = models.Sequential()\n",
        "model.add(layers.Dense(512, activation='selu', input_shape=(X_train.shape[1],), kernel_initializer=initialiser))\n",
        "model.add(layers.Dense(512, activation='selu', kernel_initializer=initialiser))\n",
        "model.add(layers.Dense(512, activation='selu', kernel_initializer=initialiser))\n",
        "model.add(layers.Dense(512, activation='selu', kernel_initializer=initialiser))\n",
        "model.add(layers.Dense(512, activation='selu', kernel_initializer=initialiser))\n",
        "model.add(layers.Dense(512, activation='selu', kernel_initializer=initialiser))\n",
        "model.add(layers.Dense(512, activation='selu', kernel_initializer=initialiser))\n",
        "\n",
        "model.add(layers.Dense(256, activation='selu', kernel_initializer=initialiser))\n",
        "model.add(layers.Dense(256, activation='selu', kernel_initializer=initialiser))\n",
        "\n",
        "model.add(layers.Dense(128, activation='selu', kernel_initializer=initialiser))\n",
        "model.add(layers.Dense(128, activation='selu', kernel_initializer=initialiser))\n",
        "\n",
        "model.add(layers.Dense(64, activation='selu', kernel_initializer=initialiser))\n",
        "model.add(layers.Dense(64, activation='selu', kernel_initializer=initialiser))\n",
        "\n",
        "\n",
        "model.add(layers.Dense(1))"
      ],
      "metadata": {
        "id": "iHi12V7BzCM6"
      },
      "execution_count": 32,
      "outputs": []
    },
    {
      "cell_type": "code",
      "source": [
        "model.summary()"
      ],
      "metadata": {
        "colab": {
          "base_uri": "https://localhost:8080/"
        },
        "id": "TPI57bQuzJcc",
        "outputId": "23485abe-04b5-4494-d8c2-7e5023ba2626"
      },
      "execution_count": 33,
      "outputs": [
        {
          "output_type": "stream",
          "name": "stdout",
          "text": [
            "Model: \"sequential\"\n",
            "_________________________________________________________________\n",
            " Layer (type)                Output Shape              Param #   \n",
            "=================================================================\n",
            " dense (Dense)               (None, 512)               3072      \n",
            "                                                                 \n",
            " dense_1 (Dense)             (None, 512)               262656    \n",
            "                                                                 \n",
            " dense_2 (Dense)             (None, 512)               262656    \n",
            "                                                                 \n",
            " dense_3 (Dense)             (None, 512)               262656    \n",
            "                                                                 \n",
            " dense_4 (Dense)             (None, 512)               262656    \n",
            "                                                                 \n",
            " dense_5 (Dense)             (None, 512)               262656    \n",
            "                                                                 \n",
            " dense_6 (Dense)             (None, 512)               262656    \n",
            "                                                                 \n",
            " dense_7 (Dense)             (None, 256)               131328    \n",
            "                                                                 \n",
            " dense_8 (Dense)             (None, 256)               65792     \n",
            "                                                                 \n",
            " dense_9 (Dense)             (None, 128)               32896     \n",
            "                                                                 \n",
            " dense_10 (Dense)            (None, 128)               16512     \n",
            "                                                                 \n",
            " dense_11 (Dense)            (None, 64)                8256      \n",
            "                                                                 \n",
            " dense_12 (Dense)            (None, 64)                4160      \n",
            "                                                                 \n",
            " dense_13 (Dense)            (None, 1)                 65        \n",
            "                                                                 \n",
            "=================================================================\n",
            "Total params: 1,838,017\n",
            "Trainable params: 1,838,017\n",
            "Non-trainable params: 0\n",
            "_________________________________________________________________\n"
          ]
        }
      ]
    },
    {
      "cell_type": "code",
      "source": [
        "model.compile(loss=\"huber_loss\", optimizer=keras.optimizers.Adam(learning_rate=.001), metrics=[\"mae\"])"
      ],
      "metadata": {
        "id": "3vPBvwnDzLl7"
      },
      "execution_count": 34,
      "outputs": []
    },
    {
      "cell_type": "code",
      "source": [
        "early_stop = EarlyStopping(monitor='val_mae', mode='min', \n",
        "                           verbose=1, patience=30, min_delta=.5, \n",
        "                           restore_best_weights=True)"
      ],
      "metadata": {
        "id": "SEE4clNfzT-Z"
      },
      "execution_count": 35,
      "outputs": []
    },
    {
      "cell_type": "code",
      "source": [
        "#reduce on plateau\n",
        "reduce_lr = ReduceLROnPlateau(\n",
        "    monitor='val_mae',\n",
        "    patience=15,\n",
        "    factor=.1,\n",
        "    mode='min',\n",
        "    min_delta=.5,\n",
        "    verbose=1,\n",
        "    min_lr=.0001\n",
        ")"
      ],
      "metadata": {
        "id": "Ki-Wg3ke0GSk"
      },
      "execution_count": 36,
      "outputs": []
    },
    {
      "cell_type": "code",
      "source": [
        "history = model.fit(X_train, y_train, epochs=500,\n",
        "                    validation_data=(X_val, y_val),\n",
        "                    callbacks=[early_stop, reduce_lr])"
      ],
      "metadata": {
        "colab": {
          "base_uri": "https://localhost:8080/"
        },
        "id": "ghmmiDo1zYHv",
        "outputId": "5d13b827-2bff-491f-a2c3-3ee2d736a9c6"
      },
      "execution_count": 37,
      "outputs": [
        {
          "output_type": "stream",
          "name": "stdout",
          "text": [
            "Epoch 1/500\n",
            "195/195 [==============================] - 5s 6ms/step - loss: 2285.7646 - mae: 2286.2644 - val_loss: 1454.4338 - val_mae: 1454.9338 - lr: 0.0010\n",
            "Epoch 2/500\n",
            "195/195 [==============================] - 1s 5ms/step - loss: 1505.3186 - mae: 1505.8186 - val_loss: 1357.7419 - val_mae: 1358.2419 - lr: 0.0010\n",
            "Epoch 3/500\n",
            "195/195 [==============================] - 1s 5ms/step - loss: 1522.1949 - mae: 1522.6949 - val_loss: 1342.9535 - val_mae: 1343.4535 - lr: 0.0010\n",
            "Epoch 4/500\n",
            "195/195 [==============================] - 1s 5ms/step - loss: 1501.0936 - mae: 1501.5936 - val_loss: 1263.6396 - val_mae: 1264.1396 - lr: 0.0010\n",
            "Epoch 5/500\n",
            "195/195 [==============================] - 1s 5ms/step - loss: 1341.3511 - mae: 1341.8511 - val_loss: 1277.0106 - val_mae: 1277.5106 - lr: 0.0010\n",
            "Epoch 6/500\n",
            "195/195 [==============================] - 1s 4ms/step - loss: 1413.1078 - mae: 1413.6075 - val_loss: 1464.3658 - val_mae: 1464.8658 - lr: 0.0010\n",
            "Epoch 7/500\n",
            "195/195 [==============================] - 1s 4ms/step - loss: 1405.3593 - mae: 1405.8593 - val_loss: 1263.9478 - val_mae: 1264.4476 - lr: 0.0010\n",
            "Epoch 8/500\n",
            "195/195 [==============================] - 1s 5ms/step - loss: 1342.7122 - mae: 1343.2122 - val_loss: 1312.1903 - val_mae: 1312.6903 - lr: 0.0010\n",
            "Epoch 9/500\n",
            "195/195 [==============================] - 1s 5ms/step - loss: 1356.0291 - mae: 1356.5291 - val_loss: 1376.7201 - val_mae: 1377.2201 - lr: 0.0010\n",
            "Epoch 10/500\n",
            "195/195 [==============================] - 1s 4ms/step - loss: 1319.7224 - mae: 1320.2223 - val_loss: 1409.6531 - val_mae: 1410.1531 - lr: 0.0010\n",
            "Epoch 11/500\n",
            "195/195 [==============================] - 1s 4ms/step - loss: 1281.1370 - mae: 1281.6368 - val_loss: 1609.9744 - val_mae: 1610.4740 - lr: 0.0010\n",
            "Epoch 12/500\n",
            "195/195 [==============================] - 1s 4ms/step - loss: 1314.3123 - mae: 1314.8123 - val_loss: 1422.8945 - val_mae: 1423.3944 - lr: 0.0010\n",
            "Epoch 13/500\n",
            "195/195 [==============================] - 1s 5ms/step - loss: 1271.3024 - mae: 1271.8021 - val_loss: 1257.0654 - val_mae: 1257.5654 - lr: 0.0010\n",
            "Epoch 14/500\n",
            "195/195 [==============================] - 1s 4ms/step - loss: 1297.9684 - mae: 1298.4680 - val_loss: 1429.5981 - val_mae: 1430.0981 - lr: 0.0010\n",
            "Epoch 15/500\n",
            "195/195 [==============================] - 1s 5ms/step - loss: 1313.0875 - mae: 1313.5875 - val_loss: 1230.4532 - val_mae: 1230.9532 - lr: 0.0010\n",
            "Epoch 16/500\n",
            "195/195 [==============================] - 1s 5ms/step - loss: 1262.2203 - mae: 1262.7202 - val_loss: 1200.8342 - val_mae: 1201.3340 - lr: 0.0010\n",
            "Epoch 17/500\n",
            "195/195 [==============================] - 1s 4ms/step - loss: 1250.0066 - mae: 1250.5066 - val_loss: 1385.7125 - val_mae: 1386.2125 - lr: 0.0010\n",
            "Epoch 18/500\n",
            "195/195 [==============================] - 1s 4ms/step - loss: 1271.6869 - mae: 1272.1866 - val_loss: 1356.4414 - val_mae: 1356.9396 - lr: 0.0010\n",
            "Epoch 19/500\n",
            "195/195 [==============================] - 1s 5ms/step - loss: 1267.7115 - mae: 1268.2115 - val_loss: 1249.6429 - val_mae: 1250.1429 - lr: 0.0010\n",
            "Epoch 20/500\n",
            "195/195 [==============================] - 1s 5ms/step - loss: 1254.0601 - mae: 1254.5598 - val_loss: 1215.2166 - val_mae: 1215.7164 - lr: 0.0010\n",
            "Epoch 21/500\n",
            "195/195 [==============================] - 1s 4ms/step - loss: 1274.1027 - mae: 1274.6025 - val_loss: 1217.9091 - val_mae: 1218.4091 - lr: 0.0010\n",
            "Epoch 22/500\n",
            "195/195 [==============================] - 1s 5ms/step - loss: 1247.4883 - mae: 1247.9882 - val_loss: 1521.9352 - val_mae: 1522.4352 - lr: 0.0010\n",
            "Epoch 23/500\n",
            "195/195 [==============================] - 1s 5ms/step - loss: 1219.8173 - mae: 1220.3173 - val_loss: 1151.1063 - val_mae: 1151.6063 - lr: 0.0010\n",
            "Epoch 24/500\n",
            "195/195 [==============================] - 1s 5ms/step - loss: 1199.3782 - mae: 1199.8779 - val_loss: 1240.8983 - val_mae: 1241.3983 - lr: 0.0010\n",
            "Epoch 25/500\n",
            "195/195 [==============================] - 1s 5ms/step - loss: 1221.1963 - mae: 1221.6962 - val_loss: 1410.4199 - val_mae: 1410.9188 - lr: 0.0010\n",
            "Epoch 26/500\n",
            "195/195 [==============================] - 1s 5ms/step - loss: 1202.0432 - mae: 1202.5430 - val_loss: 1224.7853 - val_mae: 1225.2853 - lr: 0.0010\n",
            "Epoch 27/500\n",
            "195/195 [==============================] - 1s 5ms/step - loss: 1201.2174 - mae: 1201.7173 - val_loss: 1178.5857 - val_mae: 1179.0850 - lr: 0.0010\n",
            "Epoch 28/500\n",
            "195/195 [==============================] - 1s 5ms/step - loss: 1158.1885 - mae: 1158.6884 - val_loss: 1317.8019 - val_mae: 1318.3019 - lr: 0.0010\n",
            "Epoch 29/500\n",
            "195/195 [==============================] - 1s 5ms/step - loss: 1183.2751 - mae: 1183.7750 - val_loss: 1096.2369 - val_mae: 1096.7369 - lr: 0.0010\n",
            "Epoch 30/500\n",
            "195/195 [==============================] - 1s 5ms/step - loss: 1164.5920 - mae: 1165.0918 - val_loss: 1167.5914 - val_mae: 1168.0913 - lr: 0.0010\n",
            "Epoch 31/500\n",
            "195/195 [==============================] - 1s 5ms/step - loss: 1169.8009 - mae: 1170.3008 - val_loss: 1184.3579 - val_mae: 1184.8577 - lr: 0.0010\n",
            "Epoch 32/500\n",
            "195/195 [==============================] - 1s 5ms/step - loss: 1150.6512 - mae: 1151.1510 - val_loss: 1083.9698 - val_mae: 1084.4698 - lr: 0.0010\n",
            "Epoch 33/500\n",
            "195/195 [==============================] - 1s 5ms/step - loss: 1131.6534 - mae: 1132.1534 - val_loss: 1083.3944 - val_mae: 1083.8938 - lr: 0.0010\n",
            "Epoch 34/500\n",
            "195/195 [==============================] - 1s 5ms/step - loss: 1146.9641 - mae: 1147.4639 - val_loss: 1075.0785 - val_mae: 1075.5785 - lr: 0.0010\n",
            "Epoch 35/500\n",
            "195/195 [==============================] - 1s 4ms/step - loss: 1153.8132 - mae: 1154.3130 - val_loss: 1152.6927 - val_mae: 1153.1927 - lr: 0.0010\n",
            "Epoch 36/500\n",
            "195/195 [==============================] - 1s 5ms/step - loss: 1090.0367 - mae: 1090.5367 - val_loss: 1026.5128 - val_mae: 1027.0128 - lr: 0.0010\n",
            "Epoch 37/500\n",
            "195/195 [==============================] - 1s 4ms/step - loss: 1074.5847 - mae: 1075.0845 - val_loss: 1063.8281 - val_mae: 1064.3281 - lr: 0.0010\n",
            "Epoch 38/500\n",
            "195/195 [==============================] - 1s 5ms/step - loss: 1086.2108 - mae: 1086.7107 - val_loss: 1144.2335 - val_mae: 1144.7335 - lr: 0.0010\n",
            "Epoch 39/500\n",
            "195/195 [==============================] - 1s 5ms/step - loss: 1045.6697 - mae: 1046.1694 - val_loss: 987.2745 - val_mae: 987.7745 - lr: 0.0010\n",
            "Epoch 40/500\n",
            "195/195 [==============================] - 1s 4ms/step - loss: 1050.7670 - mae: 1051.2668 - val_loss: 1244.0135 - val_mae: 1244.5135 - lr: 0.0010\n",
            "Epoch 41/500\n",
            "195/195 [==============================] - 1s 4ms/step - loss: 1062.8070 - mae: 1063.3068 - val_loss: 1016.1108 - val_mae: 1016.6108 - lr: 0.0010\n",
            "Epoch 42/500\n",
            "195/195 [==============================] - 1s 4ms/step - loss: 1024.8303 - mae: 1025.3302 - val_loss: 1163.9926 - val_mae: 1164.4926 - lr: 0.0010\n",
            "Epoch 43/500\n",
            "195/195 [==============================] - 1s 5ms/step - loss: 1035.6249 - mae: 1036.1246 - val_loss: 906.0766 - val_mae: 906.5766 - lr: 0.0010\n",
            "Epoch 44/500\n",
            "195/195 [==============================] - 1s 4ms/step - loss: 984.1107 - mae: 984.6107 - val_loss: 1156.3173 - val_mae: 1156.8173 - lr: 0.0010\n",
            "Epoch 45/500\n",
            "195/195 [==============================] - 1s 5ms/step - loss: 1050.5469 - mae: 1051.0469 - val_loss: 919.9061 - val_mae: 920.4054 - lr: 0.0010\n",
            "Epoch 46/500\n",
            "195/195 [==============================] - 1s 5ms/step - loss: 962.0508 - mae: 962.5507 - val_loss: 923.7714 - val_mae: 924.2714 - lr: 0.0010\n",
            "Epoch 47/500\n",
            "195/195 [==============================] - 1s 5ms/step - loss: 957.0756 - mae: 957.5754 - val_loss: 897.4135 - val_mae: 897.9133 - lr: 0.0010\n",
            "Epoch 48/500\n",
            "195/195 [==============================] - 1s 5ms/step - loss: 932.9946 - mae: 933.4941 - val_loss: 889.0556 - val_mae: 889.5556 - lr: 0.0010\n",
            "Epoch 49/500\n",
            "195/195 [==============================] - 1s 4ms/step - loss: 942.6354 - mae: 943.1350 - val_loss: 838.0152 - val_mae: 838.5152 - lr: 0.0010\n",
            "Epoch 50/500\n",
            "195/195 [==============================] - 1s 4ms/step - loss: 967.0056 - mae: 967.5054 - val_loss: 909.1111 - val_mae: 909.6111 - lr: 0.0010\n",
            "Epoch 51/500\n",
            "195/195 [==============================] - 1s 4ms/step - loss: 913.3891 - mae: 913.8890 - val_loss: 963.0559 - val_mae: 963.5559 - lr: 0.0010\n",
            "Epoch 52/500\n",
            "195/195 [==============================] - 1s 4ms/step - loss: 906.7484 - mae: 907.2482 - val_loss: 892.2550 - val_mae: 892.7545 - lr: 0.0010\n",
            "Epoch 53/500\n",
            "195/195 [==============================] - 1s 5ms/step - loss: 962.2589 - mae: 962.7587 - val_loss: 978.2576 - val_mae: 978.7575 - lr: 0.0010\n",
            "Epoch 54/500\n",
            "195/195 [==============================] - 1s 5ms/step - loss: 898.4126 - mae: 898.9122 - val_loss: 944.1071 - val_mae: 944.6070 - lr: 0.0010\n",
            "Epoch 55/500\n",
            "195/195 [==============================] - 1s 4ms/step - loss: 879.9453 - mae: 880.4448 - val_loss: 1070.2103 - val_mae: 1070.7103 - lr: 0.0010\n",
            "Epoch 56/500\n",
            "195/195 [==============================] - 1s 4ms/step - loss: 902.3426 - mae: 902.8423 - val_loss: 1066.2817 - val_mae: 1066.7817 - lr: 0.0010\n",
            "Epoch 57/500\n",
            "195/195 [==============================] - 1s 4ms/step - loss: 878.5005 - mae: 879.0003 - val_loss: 847.5701 - val_mae: 848.0690 - lr: 0.0010\n",
            "Epoch 58/500\n",
            "195/195 [==============================] - 1s 5ms/step - loss: 878.5315 - mae: 879.0312 - val_loss: 820.3363 - val_mae: 820.8362 - lr: 0.0010\n",
            "Epoch 59/500\n",
            "195/195 [==============================] - 1s 4ms/step - loss: 876.3448 - mae: 876.8444 - val_loss: 853.0093 - val_mae: 853.5093 - lr: 0.0010\n",
            "Epoch 60/500\n",
            "195/195 [==============================] - 1s 4ms/step - loss: 872.9092 - mae: 873.4091 - val_loss: 851.0071 - val_mae: 851.5071 - lr: 0.0010\n",
            "Epoch 61/500\n",
            "195/195 [==============================] - 1s 4ms/step - loss: 848.9474 - mae: 849.4471 - val_loss: 861.9742 - val_mae: 862.4742 - lr: 0.0010\n",
            "Epoch 62/500\n",
            "195/195 [==============================] - 1s 4ms/step - loss: 844.9256 - mae: 845.4253 - val_loss: 944.7090 - val_mae: 945.2081 - lr: 0.0010\n",
            "Epoch 63/500\n",
            "195/195 [==============================] - 1s 4ms/step - loss: 858.0477 - mae: 858.5473 - val_loss: 952.4313 - val_mae: 952.9313 - lr: 0.0010\n",
            "Epoch 64/500\n",
            "195/195 [==============================] - 1s 5ms/step - loss: 864.2245 - mae: 864.7242 - val_loss: 944.2243 - val_mae: 944.7238 - lr: 0.0010\n",
            "Epoch 65/500\n",
            "195/195 [==============================] - 1s 4ms/step - loss: 860.0327 - mae: 860.5325 - val_loss: 838.9366 - val_mae: 839.4359 - lr: 0.0010\n",
            "Epoch 66/500\n",
            "195/195 [==============================] - 1s 4ms/step - loss: 859.6523 - mae: 860.1520 - val_loss: 1014.7798 - val_mae: 1015.2794 - lr: 0.0010\n",
            "Epoch 67/500\n",
            "195/195 [==============================] - 1s 4ms/step - loss: 857.9076 - mae: 858.4071 - val_loss: 878.9158 - val_mae: 879.4158 - lr: 0.0010\n",
            "Epoch 68/500\n",
            "195/195 [==============================] - 1s 5ms/step - loss: 812.8074 - mae: 813.3071 - val_loss: 770.9036 - val_mae: 771.4036 - lr: 0.0010\n",
            "Epoch 69/500\n",
            "195/195 [==============================] - 1s 5ms/step - loss: 783.4543 - mae: 783.9542 - val_loss: 778.8532 - val_mae: 779.3529 - lr: 0.0010\n",
            "Epoch 70/500\n",
            "195/195 [==============================] - 1s 4ms/step - loss: 867.2062 - mae: 867.7062 - val_loss: 887.5137 - val_mae: 888.0137 - lr: 0.0010\n",
            "Epoch 71/500\n",
            "195/195 [==============================] - 1s 5ms/step - loss: 803.8471 - mae: 804.3466 - val_loss: 919.4788 - val_mae: 919.9786 - lr: 0.0010\n",
            "Epoch 72/500\n",
            "195/195 [==============================] - 1s 5ms/step - loss: 806.1780 - mae: 806.6777 - val_loss: 881.8840 - val_mae: 882.3840 - lr: 0.0010\n",
            "Epoch 73/500\n",
            "195/195 [==============================] - 1s 4ms/step - loss: 804.4754 - mae: 804.9750 - val_loss: 931.6727 - val_mae: 932.1727 - lr: 0.0010\n",
            "Epoch 74/500\n",
            "195/195 [==============================] - 1s 5ms/step - loss: 812.4639 - mae: 812.9636 - val_loss: 885.3765 - val_mae: 885.8759 - lr: 0.0010\n",
            "Epoch 75/500\n",
            "195/195 [==============================] - 1s 5ms/step - loss: 794.7041 - mae: 795.2039 - val_loss: 829.1352 - val_mae: 829.6352 - lr: 0.0010\n",
            "Epoch 76/500\n",
            "195/195 [==============================] - 1s 5ms/step - loss: 773.9862 - mae: 774.4858 - val_loss: 921.0818 - val_mae: 921.5814 - lr: 0.0010\n",
            "Epoch 77/500\n",
            "195/195 [==============================] - 1s 5ms/step - loss: 760.5706 - mae: 761.0698 - val_loss: 775.7941 - val_mae: 776.2941 - lr: 0.0010\n",
            "Epoch 78/500\n",
            "195/195 [==============================] - 1s 4ms/step - loss: 826.6664 - mae: 827.1659 - val_loss: 851.5965 - val_mae: 852.0956 - lr: 0.0010\n",
            "Epoch 79/500\n",
            "195/195 [==============================] - 1s 4ms/step - loss: 831.7394 - mae: 832.2393 - val_loss: 810.3224 - val_mae: 810.8224 - lr: 0.0010\n",
            "Epoch 80/500\n",
            "195/195 [==============================] - 1s 4ms/step - loss: 811.0477 - mae: 811.5475 - val_loss: 818.3644 - val_mae: 818.8635 - lr: 0.0010\n",
            "Epoch 81/500\n",
            "195/195 [==============================] - 1s 4ms/step - loss: 861.0123 - mae: 861.5120 - val_loss: 887.8414 - val_mae: 888.3414 - lr: 0.0010\n",
            "Epoch 82/500\n",
            "195/195 [==============================] - 1s 5ms/step - loss: 805.6577 - mae: 806.1573 - val_loss: 891.5239 - val_mae: 892.0239 - lr: 0.0010\n",
            "Epoch 83/500\n",
            "193/195 [============================>.] - ETA: 0s - loss: 762.3474 - mae: 762.8470\n",
            "Epoch 83: ReduceLROnPlateau reducing learning rate to 0.00010000000474974513.\n",
            "195/195 [==============================] - 1s 4ms/step - loss: 764.8664 - mae: 765.3660 - val_loss: 907.9746 - val_mae: 908.4746 - lr: 0.0010\n",
            "Epoch 84/500\n",
            "195/195 [==============================] - 1s 5ms/step - loss: 665.0172 - mae: 665.5166 - val_loss: 741.0411 - val_mae: 741.5409 - lr: 1.0000e-04\n",
            "Epoch 85/500\n",
            "195/195 [==============================] - 1s 4ms/step - loss: 636.7249 - mae: 637.2242 - val_loss: 744.9152 - val_mae: 745.4140 - lr: 1.0000e-04\n",
            "Epoch 86/500\n",
            "195/195 [==============================] - 1s 4ms/step - loss: 629.2350 - mae: 629.7341 - val_loss: 738.0664 - val_mae: 738.5664 - lr: 1.0000e-04\n",
            "Epoch 87/500\n",
            "195/195 [==============================] - 1s 5ms/step - loss: 620.4219 - mae: 620.9211 - val_loss: 768.1436 - val_mae: 768.6432 - lr: 1.0000e-04\n",
            "Epoch 88/500\n",
            "195/195 [==============================] - 1s 5ms/step - loss: 621.6527 - mae: 622.1518 - val_loss: 746.0901 - val_mae: 746.5895 - lr: 1.0000e-04\n",
            "Epoch 89/500\n",
            "195/195 [==============================] - 1s 5ms/step - loss: 614.5149 - mae: 615.0139 - val_loss: 748.9526 - val_mae: 749.4521 - lr: 1.0000e-04\n",
            "Epoch 90/500\n",
            "195/195 [==============================] - 1s 5ms/step - loss: 614.4098 - mae: 614.9089 - val_loss: 725.7200 - val_mae: 726.2195 - lr: 1.0000e-04\n",
            "Epoch 91/500\n",
            "195/195 [==============================] - 1s 4ms/step - loss: 607.7871 - mae: 608.2863 - val_loss: 727.5653 - val_mae: 728.0647 - lr: 1.0000e-04\n",
            "Epoch 92/500\n",
            "195/195 [==============================] - 1s 5ms/step - loss: 602.4624 - mae: 602.9615 - val_loss: 719.3326 - val_mae: 719.8314 - lr: 1.0000e-04\n",
            "Epoch 93/500\n",
            "195/195 [==============================] - 1s 4ms/step - loss: 604.5151 - mae: 605.0140 - val_loss: 728.1022 - val_mae: 728.6016 - lr: 1.0000e-04\n",
            "Epoch 94/500\n",
            "195/195 [==============================] - 1s 4ms/step - loss: 598.9056 - mae: 599.4047 - val_loss: 723.8671 - val_mae: 724.3661 - lr: 1.0000e-04\n",
            "Epoch 95/500\n",
            "195/195 [==============================] - 1s 5ms/step - loss: 594.8744 - mae: 595.3730 - val_loss: 712.8109 - val_mae: 713.3102 - lr: 1.0000e-04\n",
            "Epoch 96/500\n",
            "195/195 [==============================] - 1s 4ms/step - loss: 592.9344 - mae: 593.4331 - val_loss: 737.0363 - val_mae: 737.5355 - lr: 1.0000e-04\n",
            "Epoch 97/500\n",
            "195/195 [==============================] - 1s 5ms/step - loss: 594.2152 - mae: 594.7144 - val_loss: 716.9110 - val_mae: 717.4105 - lr: 1.0000e-04\n",
            "Epoch 98/500\n",
            "195/195 [==============================] - 1s 5ms/step - loss: 591.3922 - mae: 591.8913 - val_loss: 744.4534 - val_mae: 744.9533 - lr: 1.0000e-04\n",
            "Epoch 99/500\n",
            "195/195 [==============================] - 1s 5ms/step - loss: 589.4106 - mae: 589.9095 - val_loss: 761.3016 - val_mae: 761.8012 - lr: 1.0000e-04\n",
            "Epoch 100/500\n",
            "195/195 [==============================] - 1s 5ms/step - loss: 586.5152 - mae: 587.0140 - val_loss: 721.1203 - val_mae: 721.6195 - lr: 1.0000e-04\n",
            "Epoch 101/500\n",
            "195/195 [==============================] - 1s 5ms/step - loss: 584.2404 - mae: 584.7393 - val_loss: 700.4319 - val_mae: 700.9312 - lr: 1.0000e-04\n",
            "Epoch 102/500\n",
            "195/195 [==============================] - 1s 5ms/step - loss: 580.9819 - mae: 581.4810 - val_loss: 716.0216 - val_mae: 716.5216 - lr: 1.0000e-04\n",
            "Epoch 103/500\n",
            "195/195 [==============================] - 1s 4ms/step - loss: 578.2540 - mae: 578.7526 - val_loss: 717.4926 - val_mae: 717.9925 - lr: 1.0000e-04\n",
            "Epoch 104/500\n",
            "195/195 [==============================] - 1s 4ms/step - loss: 576.9478 - mae: 577.4465 - val_loss: 714.8001 - val_mae: 715.2997 - lr: 1.0000e-04\n",
            "Epoch 105/500\n",
            "195/195 [==============================] - 1s 4ms/step - loss: 573.8027 - mae: 574.3013 - val_loss: 710.8058 - val_mae: 711.3053 - lr: 1.0000e-04\n",
            "Epoch 106/500\n",
            "195/195 [==============================] - 1s 4ms/step - loss: 576.9138 - mae: 577.4127 - val_loss: 729.1075 - val_mae: 729.6065 - lr: 1.0000e-04\n",
            "Epoch 107/500\n",
            "195/195 [==============================] - 1s 4ms/step - loss: 568.3953 - mae: 568.8938 - val_loss: 720.2050 - val_mae: 720.7033 - lr: 1.0000e-04\n",
            "Epoch 108/500\n",
            "195/195 [==============================] - 1s 4ms/step - loss: 571.9931 - mae: 572.4922 - val_loss: 720.1880 - val_mae: 720.6877 - lr: 1.0000e-04\n",
            "Epoch 109/500\n",
            "195/195 [==============================] - 1s 4ms/step - loss: 567.9292 - mae: 568.4281 - val_loss: 723.6046 - val_mae: 724.1036 - lr: 1.0000e-04\n",
            "Epoch 110/500\n",
            "195/195 [==============================] - 1s 5ms/step - loss: 566.4670 - mae: 566.9658 - val_loss: 710.0428 - val_mae: 710.5421 - lr: 1.0000e-04\n",
            "Epoch 111/500\n",
            "195/195 [==============================] - 1s 5ms/step - loss: 561.0200 - mae: 561.5187 - val_loss: 696.4845 - val_mae: 696.9835 - lr: 1.0000e-04\n",
            "Epoch 112/500\n",
            "195/195 [==============================] - 1s 4ms/step - loss: 570.7170 - mae: 571.2160 - val_loss: 740.8606 - val_mae: 741.3606 - lr: 1.0000e-04\n",
            "Epoch 113/500\n",
            "195/195 [==============================] - 1s 5ms/step - loss: 567.2179 - mae: 567.7164 - val_loss: 711.4949 - val_mae: 711.9941 - lr: 1.0000e-04\n",
            "Epoch 114/500\n",
            "195/195 [==============================] - 1s 5ms/step - loss: 560.8906 - mae: 561.3891 - val_loss: 711.1031 - val_mae: 711.6028 - lr: 1.0000e-04\n",
            "Epoch 115/500\n",
            "195/195 [==============================] - 1s 4ms/step - loss: 557.8452 - mae: 558.3437 - val_loss: 701.5024 - val_mae: 702.0023 - lr: 1.0000e-04\n",
            "Epoch 116/500\n",
            "195/195 [==============================] - 1s 5ms/step - loss: 560.4739 - mae: 560.9727 - val_loss: 689.1074 - val_mae: 689.6049 - lr: 1.0000e-04\n",
            "Epoch 117/500\n",
            "195/195 [==============================] - 1s 4ms/step - loss: 557.6244 - mae: 558.1234 - val_loss: 732.3771 - val_mae: 732.8723 - lr: 1.0000e-04\n",
            "Epoch 118/500\n",
            "195/195 [==============================] - 1s 4ms/step - loss: 556.9827 - mae: 557.4808 - val_loss: 721.4531 - val_mae: 721.9525 - lr: 1.0000e-04\n",
            "Epoch 119/500\n",
            "195/195 [==============================] - 1s 4ms/step - loss: 554.9063 - mae: 555.4045 - val_loss: 702.4111 - val_mae: 702.9097 - lr: 1.0000e-04\n",
            "Epoch 120/500\n",
            "195/195 [==============================] - 1s 4ms/step - loss: 553.1619 - mae: 553.6600 - val_loss: 720.9364 - val_mae: 721.4350 - lr: 1.0000e-04\n",
            "Epoch 121/500\n",
            "195/195 [==============================] - 1s 4ms/step - loss: 557.5668 - mae: 558.0659 - val_loss: 702.1658 - val_mae: 702.6650 - lr: 1.0000e-04\n",
            "Epoch 122/500\n",
            "195/195 [==============================] - 1s 5ms/step - loss: 550.0753 - mae: 550.5737 - val_loss: 714.6944 - val_mae: 715.1923 - lr: 1.0000e-04\n",
            "Epoch 123/500\n",
            "195/195 [==============================] - 1s 4ms/step - loss: 549.9196 - mae: 550.4180 - val_loss: 722.3124 - val_mae: 722.8123 - lr: 1.0000e-04\n",
            "Epoch 124/500\n",
            "195/195 [==============================] - 1s 4ms/step - loss: 548.5241 - mae: 549.0223 - val_loss: 714.0266 - val_mae: 714.5239 - lr: 1.0000e-04\n",
            "Epoch 125/500\n",
            "195/195 [==============================] - 1s 4ms/step - loss: 546.2563 - mae: 546.7547 - val_loss: 726.5804 - val_mae: 727.0804 - lr: 1.0000e-04\n",
            "Epoch 126/500\n",
            "195/195 [==============================] - 1s 5ms/step - loss: 545.5413 - mae: 546.0394 - val_loss: 686.2576 - val_mae: 686.7568 - lr: 1.0000e-04\n",
            "Epoch 127/500\n",
            "195/195 [==============================] - 1s 5ms/step - loss: 545.7046 - mae: 546.2034 - val_loss: 679.4129 - val_mae: 679.9088 - lr: 1.0000e-04\n",
            "Epoch 128/500\n",
            "195/195 [==============================] - 1s 5ms/step - loss: 539.3522 - mae: 539.8503 - val_loss: 714.5114 - val_mae: 715.0099 - lr: 1.0000e-04\n",
            "Epoch 129/500\n",
            "195/195 [==============================] - 1s 5ms/step - loss: 539.0657 - mae: 539.5641 - val_loss: 690.9247 - val_mae: 691.4226 - lr: 1.0000e-04\n",
            "Epoch 130/500\n",
            "195/195 [==============================] - 1s 4ms/step - loss: 538.9662 - mae: 539.4647 - val_loss: 692.2629 - val_mae: 692.7611 - lr: 1.0000e-04\n",
            "Epoch 131/500\n",
            "195/195 [==============================] - 1s 5ms/step - loss: 539.3675 - mae: 539.8661 - val_loss: 703.0554 - val_mae: 703.5546 - lr: 1.0000e-04\n",
            "Epoch 132/500\n",
            "195/195 [==============================] - 1s 5ms/step - loss: 538.2997 - mae: 538.7982 - val_loss: 689.9067 - val_mae: 690.4055 - lr: 1.0000e-04\n",
            "Epoch 133/500\n",
            "195/195 [==============================] - 1s 4ms/step - loss: 539.3034 - mae: 539.8022 - val_loss: 704.1232 - val_mae: 704.6221 - lr: 1.0000e-04\n",
            "Epoch 134/500\n",
            "195/195 [==============================] - 1s 4ms/step - loss: 535.4148 - mae: 535.9127 - val_loss: 702.8883 - val_mae: 703.3856 - lr: 1.0000e-04\n",
            "Epoch 135/500\n",
            "195/195 [==============================] - 1s 5ms/step - loss: 534.3679 - mae: 534.8663 - val_loss: 692.6331 - val_mae: 693.1312 - lr: 1.0000e-04\n",
            "Epoch 136/500\n",
            "195/195 [==============================] - 1s 5ms/step - loss: 527.8155 - mae: 528.3132 - val_loss: 693.2918 - val_mae: 693.7885 - lr: 1.0000e-04\n",
            "Epoch 137/500\n",
            "195/195 [==============================] - 1s 4ms/step - loss: 530.3588 - mae: 530.8569 - val_loss: 707.8290 - val_mae: 708.3287 - lr: 1.0000e-04\n",
            "Epoch 138/500\n",
            "195/195 [==============================] - 1s 4ms/step - loss: 529.7722 - mae: 530.2701 - val_loss: 683.5117 - val_mae: 684.0093 - lr: 1.0000e-04\n",
            "Epoch 139/500\n",
            "195/195 [==============================] - 1s 4ms/step - loss: 527.9399 - mae: 528.4384 - val_loss: 682.2234 - val_mae: 682.7215 - lr: 1.0000e-04\n",
            "Epoch 140/500\n",
            "195/195 [==============================] - 1s 5ms/step - loss: 526.6723 - mae: 527.1703 - val_loss: 700.8602 - val_mae: 701.3600 - lr: 1.0000e-04\n",
            "Epoch 141/500\n",
            "195/195 [==============================] - 1s 4ms/step - loss: 526.2787 - mae: 526.7766 - val_loss: 686.3231 - val_mae: 686.8217 - lr: 1.0000e-04\n",
            "Epoch 142/500\n",
            "193/195 [============================>.] - ETA: 0s - loss: 527.4993 - mae: 527.9977\n",
            "Epoch 142: ReduceLROnPlateau reducing learning rate to 0.0001.\n",
            "195/195 [==============================] - 1s 4ms/step - loss: 527.3162 - mae: 527.8146 - val_loss: 738.0739 - val_mae: 738.5721 - lr: 1.0000e-04\n",
            "Epoch 143/500\n",
            "195/195 [==============================] - 1s 4ms/step - loss: 529.9155 - mae: 530.4142 - val_loss: 705.1155 - val_mae: 705.6104 - lr: 1.0000e-04\n",
            "Epoch 144/500\n",
            "195/195 [==============================] - 1s 4ms/step - loss: 521.7227 - mae: 522.2205 - val_loss: 705.9125 - val_mae: 706.4114 - lr: 1.0000e-04\n",
            "Epoch 145/500\n",
            "195/195 [==============================] - 1s 5ms/step - loss: 521.8574 - mae: 522.3555 - val_loss: 710.6936 - val_mae: 711.1924 - lr: 1.0000e-04\n",
            "Epoch 146/500\n",
            "195/195 [==============================] - 1s 5ms/step - loss: 523.5211 - mae: 524.0193 - val_loss: 669.6119 - val_mae: 670.1097 - lr: 1.0000e-04\n",
            "Epoch 147/500\n",
            "195/195 [==============================] - 1s 4ms/step - loss: 522.1221 - mae: 522.6203 - val_loss: 689.5135 - val_mae: 690.0128 - lr: 1.0000e-04\n",
            "Epoch 148/500\n",
            "195/195 [==============================] - 1s 4ms/step - loss: 519.3363 - mae: 519.8342 - val_loss: 707.8724 - val_mae: 708.3715 - lr: 1.0000e-04\n",
            "Epoch 149/500\n",
            "195/195 [==============================] - 1s 5ms/step - loss: 519.7856 - mae: 520.2837 - val_loss: 675.7068 - val_mae: 676.2044 - lr: 1.0000e-04\n",
            "Epoch 150/500\n",
            "195/195 [==============================] - 1s 4ms/step - loss: 522.5066 - mae: 523.0051 - val_loss: 663.7441 - val_mae: 664.2432 - lr: 1.0000e-04\n",
            "Epoch 151/500\n",
            "195/195 [==============================] - 1s 5ms/step - loss: 520.8831 - mae: 521.3809 - val_loss: 689.7863 - val_mae: 690.2844 - lr: 1.0000e-04\n",
            "Epoch 152/500\n",
            "195/195 [==============================] - 1s 5ms/step - loss: 514.8353 - mae: 515.3336 - val_loss: 686.6126 - val_mae: 687.1092 - lr: 1.0000e-04\n",
            "Epoch 153/500\n",
            "195/195 [==============================] - 1s 5ms/step - loss: 518.2847 - mae: 518.7833 - val_loss: 675.5896 - val_mae: 676.0859 - lr: 1.0000e-04\n",
            "Epoch 154/500\n",
            "195/195 [==============================] - 1s 5ms/step - loss: 513.5947 - mae: 514.0928 - val_loss: 670.5797 - val_mae: 671.0788 - lr: 1.0000e-04\n",
            "Epoch 155/500\n",
            "195/195 [==============================] - 1s 5ms/step - loss: 517.0491 - mae: 517.5479 - val_loss: 664.2804 - val_mae: 664.7794 - lr: 1.0000e-04\n",
            "Epoch 156/500\n",
            "195/195 [==============================] - 1s 5ms/step - loss: 508.6755 - mae: 509.1735 - val_loss: 659.2715 - val_mae: 659.7697 - lr: 1.0000e-04\n",
            "Epoch 157/500\n",
            "195/195 [==============================] - 1s 5ms/step - loss: 515.8257 - mae: 516.3241 - val_loss: 704.5430 - val_mae: 705.0383 - lr: 1.0000e-04\n",
            "Epoch 158/500\n",
            "195/195 [==============================] - 1s 5ms/step - loss: 509.5774 - mae: 510.0755 - val_loss: 681.2124 - val_mae: 681.7097 - lr: 1.0000e-04\n",
            "Epoch 159/500\n",
            "195/195 [==============================] - 1s 4ms/step - loss: 512.3754 - mae: 512.8738 - val_loss: 659.5577 - val_mae: 660.0564 - lr: 1.0000e-04\n",
            "Epoch 160/500\n",
            "195/195 [==============================] - 1s 5ms/step - loss: 508.2329 - mae: 508.7311 - val_loss: 669.5047 - val_mae: 670.0034 - lr: 1.0000e-04\n",
            "Epoch 161/500\n",
            "195/195 [==============================] - 1s 4ms/step - loss: 507.9181 - mae: 508.4162 - val_loss: 747.8506 - val_mae: 748.3486 - lr: 1.0000e-04\n",
            "Epoch 162/500\n",
            "195/195 [==============================] - 1s 5ms/step - loss: 507.9696 - mae: 508.4682 - val_loss: 674.4525 - val_mae: 674.9519 - lr: 1.0000e-04\n",
            "Epoch 163/500\n",
            "195/195 [==============================] - 1s 4ms/step - loss: 510.5642 - mae: 511.0628 - val_loss: 656.2938 - val_mae: 656.7913 - lr: 1.0000e-04\n",
            "Epoch 164/500\n",
            "195/195 [==============================] - 1s 5ms/step - loss: 503.8055 - mae: 504.3031 - val_loss: 689.7185 - val_mae: 690.2159 - lr: 1.0000e-04\n",
            "Epoch 165/500\n",
            "195/195 [==============================] - 1s 4ms/step - loss: 504.2845 - mae: 504.7823 - val_loss: 660.9785 - val_mae: 661.4772 - lr: 1.0000e-04\n",
            "Epoch 166/500\n",
            "195/195 [==============================] - 1s 5ms/step - loss: 504.0446 - mae: 504.5426 - val_loss: 703.4970 - val_mae: 703.9942 - lr: 1.0000e-04\n",
            "Epoch 167/500\n",
            "195/195 [==============================] - 1s 5ms/step - loss: 502.2404 - mae: 502.7389 - val_loss: 676.4012 - val_mae: 676.9011 - lr: 1.0000e-04\n",
            "Epoch 168/500\n",
            "195/195 [==============================] - 1s 5ms/step - loss: 503.7776 - mae: 504.2756 - val_loss: 648.8345 - val_mae: 649.3326 - lr: 1.0000e-04\n",
            "Epoch 169/500\n",
            "195/195 [==============================] - 1s 5ms/step - loss: 505.2491 - mae: 505.7479 - val_loss: 659.9357 - val_mae: 660.4329 - lr: 1.0000e-04\n",
            "Epoch 170/500\n",
            "195/195 [==============================] - 1s 5ms/step - loss: 501.1205 - mae: 501.6183 - val_loss: 679.8185 - val_mae: 680.3172 - lr: 1.0000e-04\n",
            "Epoch 171/500\n",
            "195/195 [==============================] - 1s 4ms/step - loss: 499.9464 - mae: 500.4445 - val_loss: 681.9707 - val_mae: 682.4681 - lr: 1.0000e-04\n",
            "Epoch 172/500\n",
            "195/195 [==============================] - 1s 4ms/step - loss: 509.7681 - mae: 510.2667 - val_loss: 662.5610 - val_mae: 663.0583 - lr: 1.0000e-04\n",
            "Epoch 173/500\n",
            "195/195 [==============================] - 1s 4ms/step - loss: 500.6676 - mae: 501.1657 - val_loss: 651.8443 - val_mae: 652.3428 - lr: 1.0000e-04\n",
            "Epoch 174/500\n",
            "195/195 [==============================] - 1s 5ms/step - loss: 505.2528 - mae: 505.7514 - val_loss: 673.8658 - val_mae: 674.3643 - lr: 1.0000e-04\n",
            "Epoch 175/500\n",
            "195/195 [==============================] - 1s 5ms/step - loss: 497.9259 - mae: 498.4237 - val_loss: 681.0877 - val_mae: 681.5872 - lr: 1.0000e-04\n",
            "Epoch 176/500\n",
            "195/195 [==============================] - 1s 5ms/step - loss: 496.7882 - mae: 497.2866 - val_loss: 656.3391 - val_mae: 656.8365 - lr: 1.0000e-04\n",
            "Epoch 177/500\n",
            "195/195 [==============================] - 1s 5ms/step - loss: 493.2020 - mae: 493.6995 - val_loss: 699.6114 - val_mae: 700.1107 - lr: 1.0000e-04\n",
            "Epoch 178/500\n",
            "195/195 [==============================] - 1s 5ms/step - loss: 497.9341 - mae: 498.4326 - val_loss: 688.4927 - val_mae: 688.9908 - lr: 1.0000e-04\n",
            "Epoch 179/500\n",
            "195/195 [==============================] - 1s 4ms/step - loss: 498.3628 - mae: 498.8606 - val_loss: 661.5427 - val_mae: 662.0422 - lr: 1.0000e-04\n",
            "Epoch 180/500\n",
            "195/195 [==============================] - 1s 4ms/step - loss: 493.3754 - mae: 493.8735 - val_loss: 693.7608 - val_mae: 694.2595 - lr: 1.0000e-04\n",
            "Epoch 181/500\n",
            "195/195 [==============================] - 1s 5ms/step - loss: 501.9508 - mae: 502.4497 - val_loss: 654.3323 - val_mae: 654.8312 - lr: 1.0000e-04\n",
            "Epoch 182/500\n",
            "195/195 [==============================] - 1s 5ms/step - loss: 490.0209 - mae: 490.5193 - val_loss: 670.6108 - val_mae: 671.1099 - lr: 1.0000e-04\n",
            "Epoch 183/500\n",
            "195/195 [==============================] - 1s 5ms/step - loss: 491.7961 - mae: 492.2946 - val_loss: 732.0601 - val_mae: 732.5588 - lr: 1.0000e-04\n",
            "Epoch 184/500\n",
            "195/195 [==============================] - 1s 5ms/step - loss: 493.9504 - mae: 494.4487 - val_loss: 656.9242 - val_mae: 657.4234 - lr: 1.0000e-04\n",
            "Epoch 185/500\n",
            "195/195 [==============================] - 1s 5ms/step - loss: 490.6316 - mae: 491.1296 - val_loss: 655.0682 - val_mae: 655.5675 - lr: 1.0000e-04\n",
            "Epoch 186/500\n",
            "195/195 [==============================] - 1s 5ms/step - loss: 484.9200 - mae: 485.4181 - val_loss: 664.0563 - val_mae: 664.5536 - lr: 1.0000e-04\n",
            "Epoch 187/500\n",
            "195/195 [==============================] - 1s 5ms/step - loss: 486.3829 - mae: 486.8808 - val_loss: 666.2301 - val_mae: 666.7286 - lr: 1.0000e-04\n",
            "Epoch 188/500\n",
            "195/195 [==============================] - 1s 4ms/step - loss: 494.0115 - mae: 494.5102 - val_loss: 672.1383 - val_mae: 672.6349 - lr: 1.0000e-04\n",
            "Epoch 189/500\n",
            "195/195 [==============================] - 1s 5ms/step - loss: 484.1811 - mae: 484.6788 - val_loss: 680.5226 - val_mae: 681.0214 - lr: 1.0000e-04\n",
            "Epoch 190/500\n",
            "195/195 [==============================] - 1s 5ms/step - loss: 478.5738 - mae: 479.0715 - val_loss: 655.1954 - val_mae: 655.6944 - lr: 1.0000e-04\n",
            "Epoch 191/500\n",
            "195/195 [==============================] - 1s 5ms/step - loss: 484.7636 - mae: 485.2614 - val_loss: 665.0361 - val_mae: 665.5361 - lr: 1.0000e-04\n",
            "Epoch 192/500\n",
            "195/195 [==============================] - 1s 5ms/step - loss: 487.2821 - mae: 487.7807 - val_loss: 694.7885 - val_mae: 695.2876 - lr: 1.0000e-04\n",
            "Epoch 193/500\n",
            "195/195 [==============================] - 1s 5ms/step - loss: 481.2338 - mae: 481.7323 - val_loss: 671.5821 - val_mae: 672.0808 - lr: 1.0000e-04\n",
            "Epoch 194/500\n",
            "195/195 [==============================] - 1s 5ms/step - loss: 483.7005 - mae: 484.1987 - val_loss: 639.0475 - val_mae: 639.5463 - lr: 1.0000e-04\n",
            "Epoch 195/500\n",
            "195/195 [==============================] - 1s 5ms/step - loss: 482.3275 - mae: 482.8252 - val_loss: 659.0026 - val_mae: 659.5013 - lr: 1.0000e-04\n",
            "Epoch 196/500\n",
            "195/195 [==============================] - 1s 5ms/step - loss: 482.9717 - mae: 483.4696 - val_loss: 698.8489 - val_mae: 699.3476 - lr: 1.0000e-04\n",
            "Epoch 197/500\n",
            "195/195 [==============================] - 1s 5ms/step - loss: 480.3073 - mae: 480.8054 - val_loss: 683.0926 - val_mae: 683.5900 - lr: 1.0000e-04\n",
            "Epoch 198/500\n",
            "195/195 [==============================] - 1s 5ms/step - loss: 475.7474 - mae: 476.2450 - val_loss: 643.0289 - val_mae: 643.5244 - lr: 1.0000e-04\n",
            "Epoch 199/500\n",
            "195/195 [==============================] - 1s 5ms/step - loss: 477.3211 - mae: 477.8194 - val_loss: 673.1132 - val_mae: 673.6119 - lr: 1.0000e-04\n",
            "Epoch 200/500\n",
            "195/195 [==============================] - 1s 5ms/step - loss: 479.1311 - mae: 479.6290 - val_loss: 654.0158 - val_mae: 654.5150 - lr: 1.0000e-04\n",
            "Epoch 201/500\n",
            "195/195 [==============================] - 1s 5ms/step - loss: 471.3071 - mae: 471.8042 - val_loss: 666.3529 - val_mae: 666.8529 - lr: 1.0000e-04\n",
            "Epoch 202/500\n",
            "195/195 [==============================] - 1s 5ms/step - loss: 477.2454 - mae: 477.7438 - val_loss: 646.2700 - val_mae: 646.7692 - lr: 1.0000e-04\n",
            "Epoch 203/500\n",
            "195/195 [==============================] - 1s 5ms/step - loss: 474.8475 - mae: 475.3455 - val_loss: 667.7129 - val_mae: 668.2124 - lr: 1.0000e-04\n",
            "Epoch 204/500\n",
            "195/195 [==============================] - 1s 5ms/step - loss: 473.8383 - mae: 474.3359 - val_loss: 655.8539 - val_mae: 656.3522 - lr: 1.0000e-04\n",
            "Epoch 205/500\n",
            "195/195 [==============================] - 1s 5ms/step - loss: 477.8389 - mae: 478.3368 - val_loss: 684.3516 - val_mae: 684.8505 - lr: 1.0000e-04\n",
            "Epoch 206/500\n",
            "195/195 [==============================] - 1s 5ms/step - loss: 469.5647 - mae: 470.0629 - val_loss: 632.3939 - val_mae: 632.8926 - lr: 1.0000e-04\n",
            "Epoch 207/500\n",
            "195/195 [==============================] - 1s 5ms/step - loss: 479.6159 - mae: 480.1147 - val_loss: 651.4227 - val_mae: 651.9220 - lr: 1.0000e-04\n",
            "Epoch 208/500\n",
            "195/195 [==============================] - 1s 5ms/step - loss: 478.1327 - mae: 478.6310 - val_loss: 646.8912 - val_mae: 647.3906 - lr: 1.0000e-04\n",
            "Epoch 209/500\n",
            "195/195 [==============================] - 1s 5ms/step - loss: 472.7666 - mae: 473.2645 - val_loss: 641.9508 - val_mae: 642.4491 - lr: 1.0000e-04\n",
            "Epoch 210/500\n",
            "195/195 [==============================] - 1s 5ms/step - loss: 477.5575 - mae: 478.0556 - val_loss: 663.1591 - val_mae: 663.6573 - lr: 1.0000e-04\n",
            "Epoch 211/500\n",
            "195/195 [==============================] - 1s 5ms/step - loss: 468.1020 - mae: 468.5995 - val_loss: 636.1966 - val_mae: 636.6953 - lr: 1.0000e-04\n",
            "Epoch 212/500\n",
            "195/195 [==============================] - 1s 5ms/step - loss: 466.5794 - mae: 467.0771 - val_loss: 652.2139 - val_mae: 652.7123 - lr: 1.0000e-04\n",
            "Epoch 213/500\n",
            "195/195 [==============================] - 1s 5ms/step - loss: 470.9943 - mae: 471.4927 - val_loss: 660.3732 - val_mae: 660.8727 - lr: 1.0000e-04\n",
            "Epoch 214/500\n",
            "195/195 [==============================] - 1s 5ms/step - loss: 463.0660 - mae: 463.5636 - val_loss: 660.6291 - val_mae: 661.1271 - lr: 1.0000e-04\n",
            "Epoch 215/500\n",
            "195/195 [==============================] - 1s 5ms/step - loss: 464.0383 - mae: 464.5362 - val_loss: 651.4388 - val_mae: 651.9370 - lr: 1.0000e-04\n",
            "Epoch 216/500\n",
            "195/195 [==============================] - 1s 5ms/step - loss: 461.7203 - mae: 462.2183 - val_loss: 651.2431 - val_mae: 651.7418 - lr: 1.0000e-04\n",
            "Epoch 217/500\n",
            "195/195 [==============================] - 1s 5ms/step - loss: 470.9055 - mae: 471.4036 - val_loss: 638.2386 - val_mae: 638.7384 - lr: 1.0000e-04\n",
            "Epoch 218/500\n",
            "195/195 [==============================] - 1s 5ms/step - loss: 468.1400 - mae: 468.6382 - val_loss: 666.9955 - val_mae: 667.4896 - lr: 1.0000e-04\n",
            "Epoch 219/500\n",
            "195/195 [==============================] - 1s 5ms/step - loss: 466.0377 - mae: 466.5358 - val_loss: 664.9294 - val_mae: 665.4282 - lr: 1.0000e-04\n",
            "Epoch 220/500\n",
            "195/195 [==============================] - 1s 5ms/step - loss: 461.3111 - mae: 461.8083 - val_loss: 668.8817 - val_mae: 669.3813 - lr: 1.0000e-04\n",
            "Epoch 221/500\n",
            "195/195 [==============================] - 1s 5ms/step - loss: 459.5539 - mae: 460.0522 - val_loss: 655.2975 - val_mae: 655.7955 - lr: 1.0000e-04\n",
            "Epoch 222/500\n",
            "195/195 [==============================] - 1s 5ms/step - loss: 462.5346 - mae: 463.0327 - val_loss: 643.2592 - val_mae: 643.7578 - lr: 1.0000e-04\n",
            "Epoch 223/500\n",
            "195/195 [==============================] - 1s 4ms/step - loss: 462.4044 - mae: 462.9024 - val_loss: 649.4990 - val_mae: 649.9979 - lr: 1.0000e-04\n",
            "Epoch 224/500\n",
            "195/195 [==============================] - 1s 5ms/step - loss: 463.2909 - mae: 463.7888 - val_loss: 660.2125 - val_mae: 660.7094 - lr: 1.0000e-04\n",
            "Epoch 225/500\n",
            "195/195 [==============================] - 1s 5ms/step - loss: 459.0861 - mae: 459.5844 - val_loss: 653.8779 - val_mae: 654.3770 - lr: 1.0000e-04\n",
            "Epoch 226/500\n",
            "195/195 [==============================] - 1s 5ms/step - loss: 458.3557 - mae: 458.8535 - val_loss: 668.0480 - val_mae: 668.5463 - lr: 1.0000e-04\n",
            "Epoch 227/500\n",
            "195/195 [==============================] - 1s 5ms/step - loss: 457.9406 - mae: 458.4386 - val_loss: 640.9631 - val_mae: 641.4612 - lr: 1.0000e-04\n",
            "Epoch 228/500\n",
            "195/195 [==============================] - 1s 5ms/step - loss: 453.6032 - mae: 454.1017 - val_loss: 648.7166 - val_mae: 649.2164 - lr: 1.0000e-04\n",
            "Epoch 229/500\n",
            "195/195 [==============================] - 1s 5ms/step - loss: 460.6163 - mae: 461.1142 - val_loss: 673.8947 - val_mae: 674.3926 - lr: 1.0000e-04\n",
            "Epoch 230/500\n",
            "195/195 [==============================] - 1s 5ms/step - loss: 457.5692 - mae: 458.0671 - val_loss: 672.7487 - val_mae: 673.2486 - lr: 1.0000e-04\n",
            "Epoch 231/500\n",
            "195/195 [==============================] - 1s 5ms/step - loss: 453.1793 - mae: 453.6776 - val_loss: 660.0862 - val_mae: 660.5844 - lr: 1.0000e-04\n",
            "Epoch 232/500\n",
            "195/195 [==============================] - 1s 5ms/step - loss: 455.7679 - mae: 456.2658 - val_loss: 662.3386 - val_mae: 662.8368 - lr: 1.0000e-04\n",
            "Epoch 233/500\n",
            "195/195 [==============================] - 1s 5ms/step - loss: 453.5456 - mae: 454.0436 - val_loss: 690.7230 - val_mae: 691.2228 - lr: 1.0000e-04\n",
            "Epoch 234/500\n",
            "195/195 [==============================] - 1s 5ms/step - loss: 456.2452 - mae: 456.7430 - val_loss: 644.0512 - val_mae: 644.5495 - lr: 1.0000e-04\n",
            "Epoch 235/500\n",
            "195/195 [==============================] - 1s 5ms/step - loss: 463.2241 - mae: 463.7224 - val_loss: 660.5241 - val_mae: 661.0222 - lr: 1.0000e-04\n",
            "Epoch 236/500\n",
            "185/195 [===========================>..] - ETA: 0s - loss: 459.3637 - mae: 459.8619Restoring model weights from the end of the best epoch: 206.\n",
            "195/195 [==============================] - 1s 5ms/step - loss: 459.6187 - mae: 460.1171 - val_loss: 654.7639 - val_mae: 655.2588 - lr: 1.0000e-04\n",
            "Epoch 236: early stopping\n"
          ]
        }
      ]
    },
    {
      "cell_type": "code",
      "source": [
        "pd.DataFrame(history.history).plot(figsize=(10, 7))\n",
        "plt.grid(True)\n",
        "plt.show()"
      ],
      "metadata": {
        "colab": {
          "base_uri": "https://localhost:8080/",
          "height": 428
        },
        "id": "P4CCymPgzoNH",
        "outputId": "9f65b855-891b-4d3a-d273-1dc01a6bea2e"
      },
      "execution_count": 38,
      "outputs": [
        {
          "output_type": "display_data",
          "data": {
            "text/plain": [
              "<Figure size 720x504 with 1 Axes>"
            ],
            "image/png": "[encoded data removed]"
          },
          "metadata": {
            "needs_background": "light"
          }
        }
      ]
    },
    {
      "cell_type": "code",
      "source": [
        "scores = model.evaluate(X_test, y_test)"
      ],
      "metadata": {
        "colab": {
          "base_uri": "https://localhost:8080/"
        },
        "id": "LOYayY7H0XTP",
        "outputId": "e5382b20-e553-4795-e662-9dba6a6a0e49"
      },
      "execution_count": 39,
      "outputs": [
        {
          "output_type": "stream",
          "name": "stdout",
          "text": [
            "55/55 [==============================] - 0s 4ms/step - loss: 698.3141 - mae: 698.8130\n"
          ]
        }
      ]
    },
    {
      "cell_type": "code",
      "source": [
        "preds = model.predict(X_test, verbose=1)"
      ],
      "metadata": {
        "colab": {
          "base_uri": "https://localhost:8080/"
        },
        "id": "FJIpkBZg6T-D",
        "outputId": "0ce1e5a8-95ea-4bf1-f332-7cc3d108b620"
      },
      "execution_count": 40,
      "outputs": [
        {
          "output_type": "stream",
          "name": "stdout",
          "text": [
            "55/55 [==============================] - 0s 2ms/step\n"
          ]
        }
      ]
    },
    {
      "cell_type": "code",
      "source": [
        "from scipy import stats"
      ],
      "metadata": {
        "id": "tczk9B-N6WLu"
      },
      "execution_count": 41,
      "outputs": []
    },
    {
      "cell_type": "code",
      "source": [
        "confidence = 0.95\n",
        "\n",
        "abs_errors = abs(preds.flatten() - y_test.to_numpy().flatten())\n",
        "stats.t.interval(confidence, len(abs_errors)-1, \n",
        "                         loc=abs_errors.mean(), \n",
        "                         scale=stats.sem(abs_errors))"
      ],
      "metadata": {
        "colab": {
          "base_uri": "https://localhost:8080/"
        },
        "id": "EXiGUnWP6YUu",
        "outputId": "dde83cd9-506d-4a89-aebb-378a613f9c04"
      },
      "execution_count": 42,
      "outputs": [
        {
          "output_type": "execute_result",
          "data": {
            "text/plain": [
              "(604.2203690704301, 793.4058452785433)"
            ]
          },
          "metadata": {},
          "execution_count": 42
        }
      ]
    },
    {
      "cell_type": "code",
      "source": [
        "# model.save(\"manhattan_model.h5\")"
      ],
      "metadata": {
        "id": "O1EocXxa6r0p"
      },
      "execution_count": 44,
      "outputs": []
    },
    {
      "cell_type": "code",
      "source": [
        "# /content/drive/MyDrive/Boro_DFs/\n",
        "model.save(\"/content/drive/MyDrive/Boro_DFs/manhattan_minimum_features_model.h5\")"
      ],
      "metadata": {
        "id": "yBEwI7ai60uc"
      },
      "execution_count": 46,
      "outputs": []
    }
  ]
}