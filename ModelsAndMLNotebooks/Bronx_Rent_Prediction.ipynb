{
  "nbformat": 4,
  "nbformat_minor": 0,
  "metadata": {
    "colab": {
      "name": "Bronx_Rent_Prediction",
      "provenance": [],
      "machine_shape": "hm"
    },
    "kernelspec": {
      "name": "python3",
      "display_name": "Python 3"
    },
    "language_info": {
      "name": "python"
    },
    "accelerator": "GPU"
  },
  "cells": [
    {
      "cell_type": "code",
      "execution_count": 1,
      "metadata": {
        "id": "IHq6vEX0JQh5"
      },
      "outputs": [],
      "source": [
        "import matplotlib.pyplot as plt\n",
        "import pandas as pd\n",
        "import numpy as np\n",
        "import tarfile\n",
        "import math\n",
        "\n",
        "from tensorflow import keras\n",
        "from keras import models\n",
        "from keras import layers\n",
        "from keras.callbacks import EarlyStopping\n",
        "\n",
        "\n",
        "from sklearn.model_selection import train_test_split\n",
        "from sklearn.impute import SimpleImputer\n",
        "from sklearn.preprocessing import MinMaxScaler\n",
        "from sklearn.preprocessing import OneHotEncoder"
      ]
    },
    {
      "cell_type": "code",
      "source": [
        "from keras.callbacks import ReduceLROnPlateau"
      ],
      "metadata": {
        "id": "QT0Ilkkn0pq5"
      },
      "execution_count": 2,
      "outputs": []
    },
    {
      "cell_type": "code",
      "source": [
        "from keras.layers import AlphaDropout"
      ],
      "metadata": {
        "id": "9pv0CxHhAe4c"
      },
      "execution_count": 3,
      "outputs": []
    },
    {
      "cell_type": "code",
      "source": [
        "from google.colab import drive\n",
        "drive.mount('/content/drive/')"
      ],
      "metadata": {
        "colab": {
          "base_uri": "https://localhost:8080/"
        },
        "id": "LznBSqDlpFQe",
        "outputId": "6a7d1292-2dcd-46a8-c9e2-e2626e2bea6b"
      },
      "execution_count": 4,
      "outputs": [
        {
          "output_type": "stream",
          "name": "stdout",
          "text": [
            "Mounted at /content/drive/\n"
          ]
        }
      ]
    },
    {
      "cell_type": "code",
      "source": [
        "from numpy.random import seed\n",
        "seed(15)\n",
        "\n",
        "from tensorflow.random import set_seed\n",
        "set_seed(15)"
      ],
      "metadata": {
        "id": "F82b9igNpD4a"
      },
      "execution_count": 5,
      "outputs": []
    },
    {
      "cell_type": "code",
      "source": [
        "bronx_csv = '/content/drive/MyDrive/Boro_DFs/bronx_df.csv'"
      ],
      "metadata": {
        "id": "It23BQMkpZrO"
      },
      "execution_count": 47,
      "outputs": []
    },
    {
      "cell_type": "code",
      "source": [
        "bronx_df = pd.DataFrame(pd.read_csv(bronx_csv))"
      ],
      "metadata": {
        "id": "cGPCANEIppM-"
      },
      "execution_count": 52,
      "outputs": []
    },
    {
      "cell_type": "code",
      "source": [
        "bronx_df.head()"
      ],
      "metadata": {
        "colab": {
          "base_uri": "https://localhost:8080/",
          "height": 206
        },
        "id": "nn32hx06p1M7",
        "outputId": "a21f1d9a-ce20-4335-df00-19829013484e"
      },
      "execution_count": 53,
      "outputs": [
        {
          "output_type": "execute_result",
          "data": {
            "text/plain": [
              "  Borough               Area                        Address  Num_Beds  \\\n",
              "0   bronx            Tremont               2065 Ryer Avenue       2.0   \n",
              "1   bronx  Crotona Park East                1169 Hoe Avenue       2.0   \n",
              "2   bronx         Highbridge              1515 Macombs Road       1.0   \n",
              "3   bronx            Norwood  31 West Mosholu Parkway North       2.0   \n",
              "4   bronx     west concourse                2401 3rd Avenue       1.0   \n",
              "\n",
              "   Num_Baths   Sq-Ft    Rent       Long        Lat  ZipCode  Precinct  \\\n",
              "0        1.0  719.00  2217.0 -73.901209  40.852362  10457.0      46.0   \n",
              "1        1.0  848.76  2425.0 -73.890999  40.827804  10459.0      42.0   \n",
              "2        1.0  631.43  1800.0 -73.917725  40.843560  10452.0      44.0   \n",
              "3        1.0  833.22  1950.0 -73.884467  40.881828  10467.0      52.0   \n",
              "4        1.0  675.00  3132.0 -73.931714  40.808009  10451.0      44.0   \n",
              "\n",
              "   CrimeTotalPastYear Train_Line  Dist_To_Line  Dist_To_Station  \\\n",
              "0              2002.0        B-D      0.002654         0.003761   \n",
              "1              1957.0          5      0.002137         0.002310   \n",
              "2              2726.0          4      0.003163         0.003163   \n",
              "3              2092.0          4      0.002087         0.002087   \n",
              "4              2726.0      4-5-6      0.002680         0.005538   \n",
              "\n",
              "   Dist_To_Entrance  \n",
              "0          0.003276  \n",
              "1          0.002322  \n",
              "2          0.003254  \n",
              "3          0.001751  \n",
              "4          0.005391  "
            ],
            "text/html": [
              "\n",
              "  <div id=\"df-9c4e12ad-154b-4dc7-943d-2b619ff826a3\">\n",
              "    <div class=\"colab-df-container\">\n",
              "      <div>\n",
              "<style scoped>\n",
              "    .dataframe tbody tr th:only-of-type {\n",
              "        vertical-align: middle;\n",
              "    }\n",
              "\n",
              "    .dataframe tbody tr th {\n",
              "        vertical-align: top;\n",
              "    }\n",
              "\n",
              "    .dataframe thead th {\n",
              "        text-align: right;\n",
              "    }\n",
              "</style>\n",
              "<table border=\"1\" class=\"dataframe\">\n",
              "  <thead>\n",
              "    <tr style=\"text-align: right;\">\n",
              "      <th></th>\n",
              "      <th>Borough</th>\n",
              "      <th>Area</th>\n",
              "      <th>Address</th>\n",
              "      <th>Num_Beds</th>\n",
              "      <th>Num_Baths</th>\n",
              "      <th>Sq-Ft</th>\n",
              "      <th>Rent</th>\n",
              "      <th>Long</th>\n",
              "      <th>Lat</th>\n",
              "      <th>ZipCode</th>\n",
              "      <th>Precinct</th>\n",
              "      <th>CrimeTotalPastYear</th>\n",
              "      <th>Train_Line</th>\n",
              "      <th>Dist_To_Line</th>\n",
              "      <th>Dist_To_Station</th>\n",
              "      <th>Dist_To_Entrance</th>\n",
              "    </tr>\n",
              "  </thead>\n",
              "  <tbody>\n",
              "    <tr>\n",
              "      <th>0</th>\n",
              "      <td>bronx</td>\n",
              "      <td>Tremont</td>\n",
              "      <td>2065 Ryer Avenue</td>\n",
              "      <td>2.0</td>\n",
              "      <td>1.0</td>\n",
              "      <td>719.00</td>\n",
              "      <td>2217.0</td>\n",
              "      <td>-73.901209</td>\n",
              "      <td>40.852362</td>\n",
              "      <td>10457.0</td>\n",
              "      <td>46.0</td>\n",
              "      <td>2002.0</td>\n",
              "      <td>B-D</td>\n",
              "      <td>0.002654</td>\n",
              "      <td>0.003761</td>\n",
              "      <td>0.003276</td>\n",
              "    </tr>\n",
              "    <tr>\n",
              "      <th>1</th>\n",
              "      <td>bronx</td>\n",
              "      <td>Crotona Park East</td>\n",
              "      <td>1169 Hoe Avenue</td>\n",
              "      <td>2.0</td>\n",
              "      <td>1.0</td>\n",
              "      <td>848.76</td>\n",
              "      <td>2425.0</td>\n",
              "      <td>-73.890999</td>\n",
              "      <td>40.827804</td>\n",
              "      <td>10459.0</td>\n",
              "      <td>42.0</td>\n",
              "      <td>1957.0</td>\n",
              "      <td>5</td>\n",
              "      <td>0.002137</td>\n",
              "      <td>0.002310</td>\n",
              "      <td>0.002322</td>\n",
              "    </tr>\n",
              "    <tr>\n",
              "      <th>2</th>\n",
              "      <td>bronx</td>\n",
              "      <td>Highbridge</td>\n",
              "      <td>1515 Macombs Road</td>\n",
              "      <td>1.0</td>\n",
              "      <td>1.0</td>\n",
              "      <td>631.43</td>\n",
              "      <td>1800.0</td>\n",
              "      <td>-73.917725</td>\n",
              "      <td>40.843560</td>\n",
              "      <td>10452.0</td>\n",
              "      <td>44.0</td>\n",
              "      <td>2726.0</td>\n",
              "      <td>4</td>\n",
              "      <td>0.003163</td>\n",
              "      <td>0.003163</td>\n",
              "      <td>0.003254</td>\n",
              "    </tr>\n",
              "    <tr>\n",
              "      <th>3</th>\n",
              "      <td>bronx</td>\n",
              "      <td>Norwood</td>\n",
              "      <td>31 West Mosholu Parkway North</td>\n",
              "      <td>2.0</td>\n",
              "      <td>1.0</td>\n",
              "      <td>833.22</td>\n",
              "      <td>1950.0</td>\n",
              "      <td>-73.884467</td>\n",
              "      <td>40.881828</td>\n",
              "      <td>10467.0</td>\n",
              "      <td>52.0</td>\n",
              "      <td>2092.0</td>\n",
              "      <td>4</td>\n",
              "      <td>0.002087</td>\n",
              "      <td>0.002087</td>\n",
              "      <td>0.001751</td>\n",
              "    </tr>\n",
              "    <tr>\n",
              "      <th>4</th>\n",
              "      <td>bronx</td>\n",
              "      <td>west concourse</td>\n",
              "      <td>2401 3rd Avenue</td>\n",
              "      <td>1.0</td>\n",
              "      <td>1.0</td>\n",
              "      <td>675.00</td>\n",
              "      <td>3132.0</td>\n",
              "      <td>-73.931714</td>\n",
              "      <td>40.808009</td>\n",
              "      <td>10451.0</td>\n",
              "      <td>44.0</td>\n",
              "      <td>2726.0</td>\n",
              "      <td>4-5-6</td>\n",
              "      <td>0.002680</td>\n",
              "      <td>0.005538</td>\n",
              "      <td>0.005391</td>\n",
              "    </tr>\n",
              "  </tbody>\n",
              "</table>\n",
              "</div>\n",
              "      <button class=\"colab-df-convert\" onclick=\"convertToInteractive('df-9c4e12ad-154b-4dc7-943d-2b619ff826a3')\"\n",
              "              title=\"Convert this dataframe to an interactive table.\"\n",
              "              style=\"display:none;\">\n",
              "        \n",
              "  <svg xmlns=\"http://www.w3.org/2000/svg\" height=\"24px\"viewBox=\"0 0 24 24\"\n",
              "       width=\"24px\">\n",
              "    <path d=\"M0 0h24v24H0V0z\" fill=\"none\"/>\n",
              "    <path d=\"M18.56 5.44l.94 2.06.94-2.06 2.06-.94-2.06-.94-.94-2.06-.94 2.06-2.06.94zm-11 1L8.5 8.5l.94-2.06 2.06-.94-2.06-.94L8.5 2.5l-.94 2.06-2.06.94zm10 10l.94 2.06.94-2.06 2.06-.94-2.06-.94-.94-2.06-.94 2.06-2.06.94z\"/><path d=\"M17.41 7.96l-1.37-1.37c-.4-.4-.92-.59-1.43-.59-.52 0-1.04.2-1.43.59L10.3 9.45l-7.72 7.72c-.78.78-.78 2.05 0 2.83L4 21.41c.39.39.9.59 1.41.59.51 0 1.02-.2 1.41-.59l7.78-7.78 2.81-2.81c.8-.78.8-2.07 0-2.86zM5.41 20L4 18.59l7.72-7.72 1.47 1.35L5.41 20z\"/>\n",
              "  </svg>\n",
              "      </button>\n",
              "      \n",
              "  <style>\n",
              "    .colab-df-container {\n",
              "      display:flex;\n",
              "      flex-wrap:wrap;\n",
              "      gap: 12px;\n",
              "    }\n",
              "\n",
              "    .colab-df-convert {\n",
              "      background-color: #E8F0FE;\n",
              "      border: none;\n",
              "      border-radius: 50%;\n",
              "      cursor: pointer;\n",
              "      display: none;\n",
              "      fill: #1967D2;\n",
              "      height: 32px;\n",
              "      padding: 0 0 0 0;\n",
              "      width: 32px;\n",
              "    }\n",
              "\n",
              "    .colab-df-convert:hover {\n",
              "      background-color: #E2EBFA;\n",
              "      box-shadow: 0px 1px 2px rgba(60, 64, 67, 0.3), 0px 1px 3px 1px rgba(60, 64, 67, 0.15);\n",
              "      fill: #174EA6;\n",
              "    }\n",
              "\n",
              "    [theme=dark] .colab-df-convert {\n",
              "      background-color: #3B4455;\n",
              "      fill: #D2E3FC;\n",
              "    }\n",
              "\n",
              "    [theme=dark] .colab-df-convert:hover {\n",
              "      background-color: #434B5C;\n",
              "      box-shadow: 0px 1px 3px 1px rgba(0, 0, 0, 0.15);\n",
              "      filter: drop-shadow(0px 1px 2px rgba(0, 0, 0, 0.3));\n",
              "      fill: #FFFFFF;\n",
              "    }\n",
              "  </style>\n",
              "\n",
              "      <script>\n",
              "        const buttonEl =\n",
              "          document.querySelector('#df-9c4e12ad-154b-4dc7-943d-2b619ff826a3 button.colab-df-convert');\n",
              "        buttonEl.style.display =\n",
              "          google.colab.kernel.accessAllowed ? 'block' : 'none';\n",
              "\n",
              "        async function convertToInteractive(key) {\n",
              "          const element = document.querySelector('#df-9c4e12ad-154b-4dc7-943d-2b619ff826a3');\n",
              "          const dataTable =\n",
              "            await google.colab.kernel.invokeFunction('convertToInteractive',\n",
              "                                                     [key], {});\n",
              "          if (!dataTable) return;\n",
              "\n",
              "          const docLinkHtml = 'Like what you see? Visit the ' +\n",
              "            '<a target=\"_blank\" href=https://colab.research.google.com/notebooks/data_table.ipynb>data table notebook</a>'\n",
              "            + ' to learn more about interactive tables.';\n",
              "          element.innerHTML = '';\n",
              "          dataTable['output_type'] = 'display_data';\n",
              "          await google.colab.output.renderOutput(dataTable, element);\n",
              "          const docLink = document.createElement('div');\n",
              "          docLink.innerHTML = docLinkHtml;\n",
              "          element.appendChild(docLink);\n",
              "        }\n",
              "      </script>\n",
              "    </div>\n",
              "  </div>\n",
              "  "
            ]
          },
          "metadata": {},
          "execution_count": 53
        }
      ]
    },
    {
      "cell_type": "code",
      "source": [
        "y = bronx_df[['Rent']]"
      ],
      "metadata": {
        "id": "nDuMfPUQqMH2"
      },
      "execution_count": 54,
      "outputs": []
    },
    {
      "cell_type": "code",
      "source": [
        "X = bronx_df.drop(['Borough', 'Rent'], axis=1)\n",
        "X.head()"
      ],
      "metadata": {
        "colab": {
          "base_uri": "https://localhost:8080/",
          "height": 206
        },
        "id": "xhlAi-gSqUtm",
        "outputId": "2006c583-5012-4320-c086-9660660731fb"
      },
      "execution_count": 55,
      "outputs": [
        {
          "output_type": "execute_result",
          "data": {
            "text/plain": [
              "                Area                        Address  Num_Beds  Num_Baths  \\\n",
              "0            Tremont               2065 Ryer Avenue       2.0        1.0   \n",
              "1  Crotona Park East                1169 Hoe Avenue       2.0        1.0   \n",
              "2         Highbridge              1515 Macombs Road       1.0        1.0   \n",
              "3            Norwood  31 West Mosholu Parkway North       2.0        1.0   \n",
              "4     west concourse                2401 3rd Avenue       1.0        1.0   \n",
              "\n",
              "    Sq-Ft       Long        Lat  ZipCode  Precinct  CrimeTotalPastYear  \\\n",
              "0  719.00 -73.901209  40.852362  10457.0      46.0              2002.0   \n",
              "1  848.76 -73.890999  40.827804  10459.0      42.0              1957.0   \n",
              "2  631.43 -73.917725  40.843560  10452.0      44.0              2726.0   \n",
              "3  833.22 -73.884467  40.881828  10467.0      52.0              2092.0   \n",
              "4  675.00 -73.931714  40.808009  10451.0      44.0              2726.0   \n",
              "\n",
              "  Train_Line  Dist_To_Line  Dist_To_Station  Dist_To_Entrance  \n",
              "0        B-D      0.002654         0.003761          0.003276  \n",
              "1          5      0.002137         0.002310          0.002322  \n",
              "2          4      0.003163         0.003163          0.003254  \n",
              "3          4      0.002087         0.002087          0.001751  \n",
              "4      4-5-6      0.002680         0.005538          0.005391  "
            ],
            "text/html": [
              "\n",
              "  <div id=\"df-c6e492ca-a6f4-4034-9ea8-dc1c9c9229f2\">\n",
              "    <div class=\"colab-df-container\">\n",
              "      <div>\n",
              "<style scoped>\n",
              "    .dataframe tbody tr th:only-of-type {\n",
              "        vertical-align: middle;\n",
              "    }\n",
              "\n",
              "    .dataframe tbody tr th {\n",
              "        vertical-align: top;\n",
              "    }\n",
              "\n",
              "    .dataframe thead th {\n",
              "        text-align: right;\n",
              "    }\n",
              "</style>\n",
              "<table border=\"1\" class=\"dataframe\">\n",
              "  <thead>\n",
              "    <tr style=\"text-align: right;\">\n",
              "      <th></th>\n",
              "      <th>Area</th>\n",
              "      <th>Address</th>\n",
              "      <th>Num_Beds</th>\n",
              "      <th>Num_Baths</th>\n",
              "      <th>Sq-Ft</th>\n",
              "      <th>Long</th>\n",
              "      <th>Lat</th>\n",
              "      <th>ZipCode</th>\n",
              "      <th>Precinct</th>\n",
              "      <th>CrimeTotalPastYear</th>\n",
              "      <th>Train_Line</th>\n",
              "      <th>Dist_To_Line</th>\n",
              "      <th>Dist_To_Station</th>\n",
              "      <th>Dist_To_Entrance</th>\n",
              "    </tr>\n",
              "  </thead>\n",
              "  <tbody>\n",
              "    <tr>\n",
              "      <th>0</th>\n",
              "      <td>Tremont</td>\n",
              "      <td>2065 Ryer Avenue</td>\n",
              "      <td>2.0</td>\n",
              "      <td>1.0</td>\n",
              "      <td>719.00</td>\n",
              "      <td>-73.901209</td>\n",
              "      <td>40.852362</td>\n",
              "      <td>10457.0</td>\n",
              "      <td>46.0</td>\n",
              "      <td>2002.0</td>\n",
              "      <td>B-D</td>\n",
              "      <td>0.002654</td>\n",
              "      <td>0.003761</td>\n",
              "      <td>0.003276</td>\n",
              "    </tr>\n",
              "    <tr>\n",
              "      <th>1</th>\n",
              "      <td>Crotona Park East</td>\n",
              "      <td>1169 Hoe Avenue</td>\n",
              "      <td>2.0</td>\n",
              "      <td>1.0</td>\n",
              "      <td>848.76</td>\n",
              "      <td>-73.890999</td>\n",
              "      <td>40.827804</td>\n",
              "      <td>10459.0</td>\n",
              "      <td>42.0</td>\n",
              "      <td>1957.0</td>\n",
              "      <td>5</td>\n",
              "      <td>0.002137</td>\n",
              "      <td>0.002310</td>\n",
              "      <td>0.002322</td>\n",
              "    </tr>\n",
              "    <tr>\n",
              "      <th>2</th>\n",
              "      <td>Highbridge</td>\n",
              "      <td>1515 Macombs Road</td>\n",
              "      <td>1.0</td>\n",
              "      <td>1.0</td>\n",
              "      <td>631.43</td>\n",
              "      <td>-73.917725</td>\n",
              "      <td>40.843560</td>\n",
              "      <td>10452.0</td>\n",
              "      <td>44.0</td>\n",
              "      <td>2726.0</td>\n",
              "      <td>4</td>\n",
              "      <td>0.003163</td>\n",
              "      <td>0.003163</td>\n",
              "      <td>0.003254</td>\n",
              "    </tr>\n",
              "    <tr>\n",
              "      <th>3</th>\n",
              "      <td>Norwood</td>\n",
              "      <td>31 West Mosholu Parkway North</td>\n",
              "      <td>2.0</td>\n",
              "      <td>1.0</td>\n",
              "      <td>833.22</td>\n",
              "      <td>-73.884467</td>\n",
              "      <td>40.881828</td>\n",
              "      <td>10467.0</td>\n",
              "      <td>52.0</td>\n",
              "      <td>2092.0</td>\n",
              "      <td>4</td>\n",
              "      <td>0.002087</td>\n",
              "      <td>0.002087</td>\n",
              "      <td>0.001751</td>\n",
              "    </tr>\n",
              "    <tr>\n",
              "      <th>4</th>\n",
              "      <td>west concourse</td>\n",
              "      <td>2401 3rd Avenue</td>\n",
              "      <td>1.0</td>\n",
              "      <td>1.0</td>\n",
              "      <td>675.00</td>\n",
              "      <td>-73.931714</td>\n",
              "      <td>40.808009</td>\n",
              "      <td>10451.0</td>\n",
              "      <td>44.0</td>\n",
              "      <td>2726.0</td>\n",
              "      <td>4-5-6</td>\n",
              "      <td>0.002680</td>\n",
              "      <td>0.005538</td>\n",
              "      <td>0.005391</td>\n",
              "    </tr>\n",
              "  </tbody>\n",
              "</table>\n",
              "</div>\n",
              "      <button class=\"colab-df-convert\" onclick=\"convertToInteractive('df-c6e492ca-a6f4-4034-9ea8-dc1c9c9229f2')\"\n",
              "              title=\"Convert this dataframe to an interactive table.\"\n",
              "              style=\"display:none;\">\n",
              "        \n",
              "  <svg xmlns=\"http://www.w3.org/2000/svg\" height=\"24px\"viewBox=\"0 0 24 24\"\n",
              "       width=\"24px\">\n",
              "    <path d=\"M0 0h24v24H0V0z\" fill=\"none\"/>\n",
              "    <path d=\"M18.56 5.44l.94 2.06.94-2.06 2.06-.94-2.06-.94-.94-2.06-.94 2.06-2.06.94zm-11 1L8.5 8.5l.94-2.06 2.06-.94-2.06-.94L8.5 2.5l-.94 2.06-2.06.94zm10 10l.94 2.06.94-2.06 2.06-.94-2.06-.94-.94-2.06-.94 2.06-2.06.94z\"/><path d=\"M17.41 7.96l-1.37-1.37c-.4-.4-.92-.59-1.43-.59-.52 0-1.04.2-1.43.59L10.3 9.45l-7.72 7.72c-.78.78-.78 2.05 0 2.83L4 21.41c.39.39.9.59 1.41.59.51 0 1.02-.2 1.41-.59l7.78-7.78 2.81-2.81c.8-.78.8-2.07 0-2.86zM5.41 20L4 18.59l7.72-7.72 1.47 1.35L5.41 20z\"/>\n",
              "  </svg>\n",
              "      </button>\n",
              "      \n",
              "  <style>\n",
              "    .colab-df-container {\n",
              "      display:flex;\n",
              "      flex-wrap:wrap;\n",
              "      gap: 12px;\n",
              "    }\n",
              "\n",
              "    .colab-df-convert {\n",
              "      background-color: #E8F0FE;\n",
              "      border: none;\n",
              "      border-radius: 50%;\n",
              "      cursor: pointer;\n",
              "      display: none;\n",
              "      fill: #1967D2;\n",
              "      height: 32px;\n",
              "      padding: 0 0 0 0;\n",
              "      width: 32px;\n",
              "    }\n",
              "\n",
              "    .colab-df-convert:hover {\n",
              "      background-color: #E2EBFA;\n",
              "      box-shadow: 0px 1px 2px rgba(60, 64, 67, 0.3), 0px 1px 3px 1px rgba(60, 64, 67, 0.15);\n",
              "      fill: #174EA6;\n",
              "    }\n",
              "\n",
              "    [theme=dark] .colab-df-convert {\n",
              "      background-color: #3B4455;\n",
              "      fill: #D2E3FC;\n",
              "    }\n",
              "\n",
              "    [theme=dark] .colab-df-convert:hover {\n",
              "      background-color: #434B5C;\n",
              "      box-shadow: 0px 1px 3px 1px rgba(0, 0, 0, 0.15);\n",
              "      filter: drop-shadow(0px 1px 2px rgba(0, 0, 0, 0.3));\n",
              "      fill: #FFFFFF;\n",
              "    }\n",
              "  </style>\n",
              "\n",
              "      <script>\n",
              "        const buttonEl =\n",
              "          document.querySelector('#df-c6e492ca-a6f4-4034-9ea8-dc1c9c9229f2 button.colab-df-convert');\n",
              "        buttonEl.style.display =\n",
              "          google.colab.kernel.accessAllowed ? 'block' : 'none';\n",
              "\n",
              "        async function convertToInteractive(key) {\n",
              "          const element = document.querySelector('#df-c6e492ca-a6f4-4034-9ea8-dc1c9c9229f2');\n",
              "          const dataTable =\n",
              "            await google.colab.kernel.invokeFunction('convertToInteractive',\n",
              "                                                     [key], {});\n",
              "          if (!dataTable) return;\n",
              "\n",
              "          const docLinkHtml = 'Like what you see? Visit the ' +\n",
              "            '<a target=\"_blank\" href=https://colab.research.google.com/notebooks/data_table.ipynb>data table notebook</a>'\n",
              "            + ' to learn more about interactive tables.';\n",
              "          element.innerHTML = '';\n",
              "          dataTable['output_type'] = 'display_data';\n",
              "          await google.colab.output.renderOutput(dataTable, element);\n",
              "          const docLink = document.createElement('div');\n",
              "          docLink.innerHTML = docLinkHtml;\n",
              "          element.appendChild(docLink);\n",
              "        }\n",
              "      </script>\n",
              "    </div>\n",
              "  </div>\n",
              "  "
            ]
          },
          "metadata": {},
          "execution_count": 55
        }
      ]
    },
    {
      "cell_type": "code",
      "source": [
        "X = pd.get_dummies(X, columns=['Area', 'Address', 'ZipCode', 'Precinct', 'Train_Line'])"
      ],
      "metadata": {
        "id": "4P1BFCNV4NK4"
      },
      "execution_count": 56,
      "outputs": []
    },
    {
      "cell_type": "code",
      "source": [
        "X_train, X_test, y_train, y_test = train_test_split(X, y, test_size=0.2, random_state=42) "
      ],
      "metadata": {
        "id": "PGBo1zfvsq38"
      },
      "execution_count": 57,
      "outputs": []
    },
    {
      "cell_type": "code",
      "source": [
        "numeric_cols = ['Num_Beds', 'Num_Baths', 'Sq-Ft', 'Long', 'Lat', 'CrimeTotalPastYear', 'Dist_To_Line', 'Dist_To_Station', 'Dist_To_Entrance']"
      ],
      "metadata": {
        "id": "uQhhxKkD4efw"
      },
      "execution_count": 58,
      "outputs": []
    },
    {
      "cell_type": "code",
      "source": [
        "X_train_num = X_train[numeric_cols]"
      ],
      "metadata": {
        "id": "I4uVOTx2tGNS"
      },
      "execution_count": 59,
      "outputs": []
    },
    {
      "cell_type": "code",
      "source": [
        "X_test_num = X_test[numeric_cols]"
      ],
      "metadata": {
        "id": "z5-Af9EKtmY2"
      },
      "execution_count": 60,
      "outputs": []
    },
    {
      "cell_type": "code",
      "source": [
        "print(X_train_num.shape)\n",
        "print(X_test_num.shape)"
      ],
      "metadata": {
        "colab": {
          "base_uri": "https://localhost:8080/"
        },
        "id": "Vdgob14o5HKD",
        "outputId": "a29802c9-7afd-41ef-e450-38e386efb391"
      },
      "execution_count": 61,
      "outputs": [
        {
          "output_type": "stream",
          "name": "stdout",
          "text": [
            "(548, 9)\n",
            "(138, 9)\n"
          ]
        }
      ]
    },
    {
      "cell_type": "code",
      "source": [
        "scaler = MinMaxScaler()"
      ],
      "metadata": {
        "id": "p9RNRLAbtwBQ"
      },
      "execution_count": 62,
      "outputs": []
    },
    {
      "cell_type": "code",
      "source": [
        "X_train_num = scaler.fit_transform(X_train_num)"
      ],
      "metadata": {
        "id": "7PtlLZ1Ct1q8"
      },
      "execution_count": 63,
      "outputs": []
    },
    {
      "cell_type": "code",
      "source": [
        "X_train_num.shape"
      ],
      "metadata": {
        "colab": {
          "base_uri": "https://localhost:8080/"
        },
        "id": "UOd7oCyH2aUQ",
        "outputId": "3694b2a4-1572-4ad6-a5f5-45fd08a01557"
      },
      "execution_count": 64,
      "outputs": [
        {
          "output_type": "execute_result",
          "data": {
            "text/plain": [
              "(548, 9)"
            ]
          },
          "metadata": {},
          "execution_count": 64
        }
      ]
    },
    {
      "cell_type": "code",
      "source": [
        "X_test_num = scaler.transform(X_test_num)"
      ],
      "metadata": {
        "id": "P71FdUJ0uBwi"
      },
      "execution_count": 65,
      "outputs": []
    },
    {
      "cell_type": "code",
      "source": [
        "X_test_num.shape"
      ],
      "metadata": {
        "colab": {
          "base_uri": "https://localhost:8080/"
        },
        "id": "ReDQGS852Xdb",
        "outputId": "6edba5a9-5543-49bf-cd0e-0603edd1ebda"
      },
      "execution_count": 66,
      "outputs": [
        {
          "output_type": "execute_result",
          "data": {
            "text/plain": [
              "(138, 9)"
            ]
          },
          "metadata": {},
          "execution_count": 66
        }
      ]
    },
    {
      "cell_type": "code",
      "source": [
        "X_train_onehots = X_train.drop(numeric_cols, axis=1)\n",
        "X_test_onehots = X_test.drop(numeric_cols, axis=1)"
      ],
      "metadata": {
        "id": "FdZcJP0QuIVM"
      },
      "execution_count": 67,
      "outputs": []
    },
    {
      "cell_type": "code",
      "source": [
        "X_train_onehots.shape"
      ],
      "metadata": {
        "colab": {
          "base_uri": "https://localhost:8080/"
        },
        "id": "z6g_xtgK15Je",
        "outputId": "9afe2e05-0f1a-4ff3-f55d-cbfb96e2dc42"
      },
      "execution_count": 68,
      "outputs": [
        {
          "output_type": "execute_result",
          "data": {
            "text/plain": [
              "(548, 440)"
            ]
          },
          "metadata": {},
          "execution_count": 68
        }
      ]
    },
    {
      "cell_type": "code",
      "source": [
        "X_test_onehots.shape"
      ],
      "metadata": {
        "colab": {
          "base_uri": "https://localhost:8080/"
        },
        "id": "kqRZuLf917vt",
        "outputId": "43802d6f-6989-409f-b519-ffde04af3921"
      },
      "execution_count": 69,
      "outputs": [
        {
          "output_type": "execute_result",
          "data": {
            "text/plain": [
              "(138, 440)"
            ]
          },
          "metadata": {},
          "execution_count": 69
        }
      ]
    },
    {
      "cell_type": "code",
      "source": [
        "X_train = np.concatenate((X_train_num, X_train_onehots), axis=1)"
      ],
      "metadata": {
        "id": "fr7kghS9yA5F"
      },
      "execution_count": 70,
      "outputs": []
    },
    {
      "cell_type": "code",
      "source": [
        "X_test = np.concatenate((X_test_num, X_test_onehots), axis=1)"
      ],
      "metadata": {
        "id": "WTUi2RjXyMFd"
      },
      "execution_count": 71,
      "outputs": []
    },
    {
      "cell_type": "code",
      "source": [
        "# create validation set\n",
        "num_val_insts = math.floor(X_train.shape[0]*(.10))\n",
        "\n",
        "X_val = X_train[:num_val_insts]\n",
        "y_val = y_train[:num_val_insts]\n",
        "\n",
        "X_train = X_train[num_val_insts:]\n",
        "y_train = y_train[num_val_insts:]"
      ],
      "metadata": {
        "id": "d3BMgWC8yaXg"
      },
      "execution_count": 72,
      "outputs": []
    },
    {
      "cell_type": "code",
      "source": [
        "print(f\"X_train shape: {X_train.shape}, y_train shape: {y_train.shape}\")\n",
        "print(f\"X_val shape: {X_val.shape}, y_val shape: {y_val.shape}\")\n",
        "print(f\"X_test shape: {X_test.shape}, y_test shape: {y_test.shape}\")"
      ],
      "metadata": {
        "colab": {
          "base_uri": "https://localhost:8080/"
        },
        "id": "HytfmXvtyjHK",
        "outputId": "c6b87213-fe5f-47c0-d92c-c26109660c16"
      },
      "execution_count": 73,
      "outputs": [
        {
          "output_type": "stream",
          "name": "stdout",
          "text": [
            "X_train shape: (494, 449), y_train shape: (494, 1)\n",
            "X_val shape: (54, 449), y_val shape: (54, 1)\n",
            "X_test shape: (138, 449), y_test shape: (138, 1)\n"
          ]
        }
      ]
    },
    {
      "cell_type": "code",
      "source": [
        "from keras.initializers import lecun_normal"
      ],
      "metadata": {
        "id": "Yc8srrdAy3cI"
      },
      "execution_count": 74,
      "outputs": []
    },
    {
      "cell_type": "code",
      "source": [
        "initialiser = lecun_normal(seed=31)"
      ],
      "metadata": {
        "id": "mSe9P4ETy4zn"
      },
      "execution_count": 75,
      "outputs": []
    },
    {
      "cell_type": "code",
      "source": [
        "# model\n",
        "\n",
        "model = models.Sequential()\n",
        "model.add(layers.Dense(512, activation='selu', input_shape=(X_train.shape[1],), kernel_initializer=initialiser))\n",
        "model.add(layers.Dense(512, activation='selu', kernel_initializer=initialiser))\n",
        "model.add(layers.Dense(512, activation='selu', kernel_initializer=initialiser))\n",
        "model.add(layers.Dense(512, activation='selu', kernel_initializer=initialiser))\n",
        "model.add(layers.Dense(512, activation='selu', kernel_initializer=initialiser))\n",
        "model.add(layers.Dense(512, activation='selu', kernel_initializer=initialiser))\n",
        "model.add(layers.Dense(512, activation='selu', kernel_initializer=initialiser))\n",
        "\n",
        "model.add(layers.Dense(256, activation='selu', kernel_initializer=initialiser))\n",
        "model.add(layers.Dense(256, activation='selu', kernel_initializer=initialiser))\n",
        "\n",
        "model.add(layers.Dense(128, activation='selu', kernel_initializer=initialiser))\n",
        "model.add(layers.Dense(128, activation='selu', kernel_initializer=initialiser))\n",
        "\n",
        "model.add(layers.Dense(64, activation='selu', kernel_initializer=initialiser))\n",
        "model.add(layers.Dense(64, activation='selu', kernel_initializer=initialiser))\n",
        "\n",
        "\n",
        "model.add(layers.Dense(1))"
      ],
      "metadata": {
        "id": "iHi12V7BzCM6"
      },
      "execution_count": 76,
      "outputs": []
    },
    {
      "cell_type": "code",
      "source": [
        "model.summary()"
      ],
      "metadata": {
        "colab": {
          "base_uri": "https://localhost:8080/"
        },
        "id": "TPI57bQuzJcc",
        "outputId": "0328d4a7-84e4-4bc5-9022-4d415d177930"
      },
      "execution_count": 77,
      "outputs": [
        {
          "output_type": "stream",
          "name": "stdout",
          "text": [
            "Model: \"sequential_1\"\n",
            "_________________________________________________________________\n",
            " Layer (type)                Output Shape              Param #   \n",
            "=================================================================\n",
            " dense_14 (Dense)            (None, 512)               230400    \n",
            "                                                                 \n",
            " dense_15 (Dense)            (None, 512)               262656    \n",
            "                                                                 \n",
            " dense_16 (Dense)            (None, 512)               262656    \n",
            "                                                                 \n",
            " dense_17 (Dense)            (None, 512)               262656    \n",
            "                                                                 \n",
            " dense_18 (Dense)            (None, 512)               262656    \n",
            "                                                                 \n",
            " dense_19 (Dense)            (None, 512)               262656    \n",
            "                                                                 \n",
            " dense_20 (Dense)            (None, 512)               262656    \n",
            "                                                                 \n",
            " dense_21 (Dense)            (None, 256)               131328    \n",
            "                                                                 \n",
            " dense_22 (Dense)            (None, 256)               65792     \n",
            "                                                                 \n",
            " dense_23 (Dense)            (None, 128)               32896     \n",
            "                                                                 \n",
            " dense_24 (Dense)            (None, 128)               16512     \n",
            "                                                                 \n",
            " dense_25 (Dense)            (None, 64)                8256      \n",
            "                                                                 \n",
            " dense_26 (Dense)            (None, 64)                4160      \n",
            "                                                                 \n",
            " dense_27 (Dense)            (None, 1)                 65        \n",
            "                                                                 \n",
            "=================================================================\n",
            "Total params: 2,065,345\n",
            "Trainable params: 2,065,345\n",
            "Non-trainable params: 0\n",
            "_________________________________________________________________\n"
          ]
        }
      ]
    },
    {
      "cell_type": "code",
      "source": [
        "model.compile(loss=\"huber_loss\", optimizer=keras.optimizers.Adam(learning_rate=.001), metrics=[\"mae\"])"
      ],
      "metadata": {
        "id": "3vPBvwnDzLl7"
      },
      "execution_count": 78,
      "outputs": []
    },
    {
      "cell_type": "code",
      "source": [
        "early_stop = EarlyStopping(monitor='val_mae', mode='min', \n",
        "                           verbose=1, patience=30, min_delta=.5, \n",
        "                           restore_best_weights=True)"
      ],
      "metadata": {
        "id": "SEE4clNfzT-Z"
      },
      "execution_count": 79,
      "outputs": []
    },
    {
      "cell_type": "code",
      "source": [
        "#reduce on plateau\n",
        "reduce_lr = ReduceLROnPlateau(\n",
        "    monitor='val_mae',\n",
        "    patience=15,\n",
        "    factor=.1,\n",
        "    mode='min',\n",
        "    min_delta=.5,\n",
        "    verbose=1,\n",
        "    min_lr=.0001\n",
        ")"
      ],
      "metadata": {
        "id": "Ki-Wg3ke0GSk"
      },
      "execution_count": 80,
      "outputs": []
    },
    {
      "cell_type": "code",
      "source": [
        "history = model.fit(X_train, y_train, epochs=300,\n",
        "                    validation_data=(X_val, y_val),\n",
        "                    callbacks=[early_stop, reduce_lr])"
      ],
      "metadata": {
        "colab": {
          "base_uri": "https://localhost:8080/"
        },
        "id": "ghmmiDo1zYHv",
        "outputId": "fa661e3f-36e5-42c4-e8b9-9d8e63a6f848"
      },
      "execution_count": 81,
      "outputs": [
        {
          "output_type": "stream",
          "name": "stdout",
          "text": [
            "Epoch 1/300\n",
            "16/16 [==============================] - 1s 19ms/step - loss: 2055.3904 - mae: 2055.8904 - val_loss: 741.9773 - val_mae: 742.4773 - lr: 0.0010\n",
            "Epoch 2/300\n",
            "16/16 [==============================] - 0s 6ms/step - loss: 767.2755 - mae: 767.7755 - val_loss: 896.5115 - val_mae: 897.0115 - lr: 0.0010\n",
            "Epoch 3/300\n",
            "16/16 [==============================] - 0s 6ms/step - loss: 542.7858 - mae: 543.2858 - val_loss: 595.2516 - val_mae: 595.7516 - lr: 0.0010\n",
            "Epoch 4/300\n",
            "16/16 [==============================] - 0s 6ms/step - loss: 450.5496 - mae: 451.0488 - val_loss: 554.6264 - val_mae: 555.1177 - lr: 0.0010\n",
            "Epoch 5/300\n",
            "16/16 [==============================] - 0s 6ms/step - loss: 361.9654 - mae: 362.4654 - val_loss: 461.7299 - val_mae: 462.2299 - lr: 0.0010\n",
            "Epoch 6/300\n",
            "16/16 [==============================] - 0s 6ms/step - loss: 341.8273 - mae: 342.3266 - val_loss: 447.2928 - val_mae: 447.7928 - lr: 0.0010\n",
            "Epoch 7/300\n",
            "16/16 [==============================] - 0s 6ms/step - loss: 288.0552 - mae: 288.5544 - val_loss: 429.0829 - val_mae: 429.5829 - lr: 0.0010\n",
            "Epoch 8/300\n",
            "16/16 [==============================] - 0s 5ms/step - loss: 264.4846 - mae: 264.9838 - val_loss: 459.1847 - val_mae: 459.6847 - lr: 0.0010\n",
            "Epoch 9/300\n",
            "16/16 [==============================] - 0s 6ms/step - loss: 274.4077 - mae: 274.9072 - val_loss: 418.5817 - val_mae: 419.0817 - lr: 0.0010\n",
            "Epoch 10/300\n",
            "16/16 [==============================] - 0s 5ms/step - loss: 287.9062 - mae: 288.4044 - val_loss: 486.4820 - val_mae: 486.9820 - lr: 0.0010\n",
            "Epoch 11/300\n",
            "16/16 [==============================] - 0s 5ms/step - loss: 272.6924 - mae: 273.1922 - val_loss: 525.7603 - val_mae: 526.2603 - lr: 0.0010\n",
            "Epoch 12/300\n",
            "16/16 [==============================] - 0s 6ms/step - loss: 246.7598 - mae: 247.2590 - val_loss: 394.2919 - val_mae: 394.7919 - lr: 0.0010\n",
            "Epoch 13/300\n",
            "16/16 [==============================] - 0s 6ms/step - loss: 263.1974 - mae: 263.6973 - val_loss: 392.6031 - val_mae: 393.1031 - lr: 0.0010\n",
            "Epoch 14/300\n",
            "16/16 [==============================] - 0s 6ms/step - loss: 238.3964 - mae: 238.8963 - val_loss: 387.8644 - val_mae: 388.3644 - lr: 0.0010\n",
            "Epoch 15/300\n",
            "16/16 [==============================] - 0s 5ms/step - loss: 234.6073 - mae: 235.1069 - val_loss: 417.1872 - val_mae: 417.6872 - lr: 0.0010\n",
            "Epoch 16/300\n",
            "16/16 [==============================] - 0s 5ms/step - loss: 229.6025 - mae: 230.0995 - val_loss: 465.4812 - val_mae: 465.9812 - lr: 0.0010\n",
            "Epoch 17/300\n",
            "16/16 [==============================] - 0s 6ms/step - loss: 249.2913 - mae: 249.7911 - val_loss: 376.6819 - val_mae: 377.1819 - lr: 0.0010\n",
            "Epoch 18/300\n",
            "16/16 [==============================] - 0s 5ms/step - loss: 227.2196 - mae: 227.7196 - val_loss: 482.9874 - val_mae: 483.4874 - lr: 0.0010\n",
            "Epoch 19/300\n",
            "16/16 [==============================] - 0s 5ms/step - loss: 217.8615 - mae: 218.3614 - val_loss: 397.8562 - val_mae: 398.3562 - lr: 0.0010\n",
            "Epoch 20/300\n",
            "16/16 [==============================] - 0s 5ms/step - loss: 224.8359 - mae: 225.3359 - val_loss: 379.2998 - val_mae: 379.7998 - lr: 0.0010\n",
            "Epoch 21/300\n",
            "16/16 [==============================] - 0s 6ms/step - loss: 180.5914 - mae: 181.0889 - val_loss: 396.3464 - val_mae: 396.8426 - lr: 0.0010\n",
            "Epoch 22/300\n",
            "16/16 [==============================] - 0s 6ms/step - loss: 182.2510 - mae: 182.7504 - val_loss: 355.2333 - val_mae: 355.7333 - lr: 0.0010\n",
            "Epoch 23/300\n",
            "16/16 [==============================] - 0s 5ms/step - loss: 275.0015 - mae: 275.5015 - val_loss: 379.5714 - val_mae: 380.0714 - lr: 0.0010\n",
            "Epoch 24/300\n",
            "16/16 [==============================] - 0s 5ms/step - loss: 258.4969 - mae: 258.9958 - val_loss: 472.5918 - val_mae: 473.0918 - lr: 0.0010\n",
            "Epoch 25/300\n",
            "16/16 [==============================] - 0s 6ms/step - loss: 251.5450 - mae: 252.0449 - val_loss: 351.9924 - val_mae: 352.4924 - lr: 0.0010\n",
            "Epoch 26/300\n",
            "16/16 [==============================] - 0s 6ms/step - loss: 208.5141 - mae: 209.0108 - val_loss: 327.4699 - val_mae: 327.9699 - lr: 0.0010\n",
            "Epoch 27/300\n",
            "16/16 [==============================] - 0s 5ms/step - loss: 240.2584 - mae: 240.7580 - val_loss: 473.3908 - val_mae: 473.8908 - lr: 0.0010\n",
            "Epoch 28/300\n",
            "16/16 [==============================] - 0s 5ms/step - loss: 262.8658 - mae: 263.3657 - val_loss: 339.5290 - val_mae: 340.0290 - lr: 0.0010\n",
            "Epoch 29/300\n",
            "16/16 [==============================] - 0s 6ms/step - loss: 207.8232 - mae: 208.3223 - val_loss: 304.2005 - val_mae: 304.7005 - lr: 0.0010\n",
            "Epoch 30/300\n",
            "16/16 [==============================] - 0s 6ms/step - loss: 229.3294 - mae: 229.8292 - val_loss: 345.6613 - val_mae: 346.1613 - lr: 0.0010\n",
            "Epoch 31/300\n",
            "16/16 [==============================] - 0s 6ms/step - loss: 189.3141 - mae: 189.8141 - val_loss: 281.2032 - val_mae: 281.7032 - lr: 0.0010\n",
            "Epoch 32/300\n",
            "16/16 [==============================] - 0s 5ms/step - loss: 203.7285 - mae: 204.2282 - val_loss: 302.1585 - val_mae: 302.6585 - lr: 0.0010\n",
            "Epoch 33/300\n",
            "16/16 [==============================] - 0s 5ms/step - loss: 163.7873 - mae: 164.2871 - val_loss: 286.1398 - val_mae: 286.6398 - lr: 0.0010\n",
            "Epoch 34/300\n",
            "16/16 [==============================] - 0s 5ms/step - loss: 163.6348 - mae: 164.1335 - val_loss: 341.6203 - val_mae: 342.1203 - lr: 0.0010\n",
            "Epoch 35/300\n",
            "16/16 [==============================] - 0s 5ms/step - loss: 168.0507 - mae: 168.5491 - val_loss: 370.5043 - val_mae: 371.0043 - lr: 0.0010\n",
            "Epoch 36/300\n",
            "16/16 [==============================] - 0s 5ms/step - loss: 161.0323 - mae: 161.5306 - val_loss: 302.6656 - val_mae: 303.1656 - lr: 0.0010\n",
            "Epoch 37/300\n",
            "16/16 [==============================] - 0s 5ms/step - loss: 153.6902 - mae: 154.1881 - val_loss: 316.3237 - val_mae: 316.8237 - lr: 0.0010\n",
            "Epoch 38/300\n",
            "16/16 [==============================] - 0s 5ms/step - loss: 202.1222 - mae: 202.6221 - val_loss: 304.1291 - val_mae: 304.6291 - lr: 0.0010\n",
            "Epoch 39/300\n",
            "16/16 [==============================] - 0s 5ms/step - loss: 175.4119 - mae: 175.9109 - val_loss: 308.6930 - val_mae: 309.1930 - lr: 0.0010\n",
            "Epoch 40/300\n",
            "16/16 [==============================] - 0s 5ms/step - loss: 219.9845 - mae: 220.4834 - val_loss: 592.6597 - val_mae: 593.1597 - lr: 0.0010\n",
            "Epoch 41/300\n",
            "16/16 [==============================] - 0s 6ms/step - loss: 317.0070 - mae: 317.5070 - val_loss: 280.5415 - val_mae: 281.0415 - lr: 0.0010\n",
            "Epoch 42/300\n",
            "16/16 [==============================] - 0s 5ms/step - loss: 181.3163 - mae: 181.8163 - val_loss: 290.6791 - val_mae: 291.1791 - lr: 0.0010\n",
            "Epoch 43/300\n",
            "16/16 [==============================] - 0s 6ms/step - loss: 184.1936 - mae: 184.6928 - val_loss: 272.2238 - val_mae: 272.7146 - lr: 0.0010\n",
            "Epoch 44/300\n",
            "16/16 [==============================] - 0s 5ms/step - loss: 253.4552 - mae: 253.9547 - val_loss: 426.7918 - val_mae: 427.2918 - lr: 0.0010\n",
            "Epoch 45/300\n",
            "16/16 [==============================] - 0s 5ms/step - loss: 247.1476 - mae: 247.6465 - val_loss: 284.5297 - val_mae: 285.0280 - lr: 0.0010\n",
            "Epoch 46/300\n",
            "16/16 [==============================] - 0s 5ms/step - loss: 187.1936 - mae: 187.6927 - val_loss: 276.1449 - val_mae: 276.6449 - lr: 0.0010\n",
            "Epoch 47/300\n",
            "16/16 [==============================] - 0s 5ms/step - loss: 183.8744 - mae: 184.3741 - val_loss: 343.2498 - val_mae: 343.7498 - lr: 0.0010\n",
            "Epoch 48/300\n",
            "16/16 [==============================] - 0s 5ms/step - loss: 162.8381 - mae: 163.3360 - val_loss: 296.5064 - val_mae: 297.0064 - lr: 0.0010\n",
            "Epoch 49/300\n",
            "16/16 [==============================] - 0s 5ms/step - loss: 143.6688 - mae: 144.1680 - val_loss: 273.9840 - val_mae: 274.4840 - lr: 0.0010\n",
            "Epoch 50/300\n",
            "16/16 [==============================] - 0s 5ms/step - loss: 159.5542 - mae: 160.0531 - val_loss: 273.9370 - val_mae: 274.4370 - lr: 0.0010\n",
            "Epoch 51/300\n",
            "16/16 [==============================] - 0s 6ms/step - loss: 140.9328 - mae: 141.4312 - val_loss: 264.7504 - val_mae: 265.2459 - lr: 0.0010\n",
            "Epoch 52/300\n",
            "16/16 [==============================] - 0s 5ms/step - loss: 139.5397 - mae: 140.0379 - val_loss: 270.2080 - val_mae: 270.7079 - lr: 0.0010\n",
            "Epoch 53/300\n",
            "16/16 [==============================] - 0s 5ms/step - loss: 164.3138 - mae: 164.8133 - val_loss: 283.8966 - val_mae: 284.3966 - lr: 0.0010\n",
            "Epoch 54/300\n",
            "16/16 [==============================] - 0s 6ms/step - loss: 150.5233 - mae: 151.0208 - val_loss: 256.8987 - val_mae: 257.3925 - lr: 0.0010\n",
            "Epoch 55/300\n",
            "16/16 [==============================] - 0s 5ms/step - loss: 152.8582 - mae: 153.3582 - val_loss: 328.9309 - val_mae: 329.4309 - lr: 0.0010\n",
            "Epoch 56/300\n",
            "16/16 [==============================] - 0s 5ms/step - loss: 215.4180 - mae: 215.9160 - val_loss: 329.8104 - val_mae: 330.3104 - lr: 0.0010\n",
            "Epoch 57/300\n",
            "16/16 [==============================] - 0s 5ms/step - loss: 177.9650 - mae: 178.4636 - val_loss: 271.7784 - val_mae: 272.2784 - lr: 0.0010\n",
            "Epoch 58/300\n",
            "16/16 [==============================] - 0s 5ms/step - loss: 156.3839 - mae: 156.8823 - val_loss: 286.0879 - val_mae: 286.5879 - lr: 0.0010\n",
            "Epoch 59/300\n",
            "16/16 [==============================] - 0s 5ms/step - loss: 160.1436 - mae: 160.6425 - val_loss: 269.7538 - val_mae: 270.2538 - lr: 0.0010\n",
            "Epoch 60/300\n",
            "16/16 [==============================] - 0s 5ms/step - loss: 161.4628 - mae: 161.9605 - val_loss: 368.1252 - val_mae: 368.6238 - lr: 0.0010\n",
            "Epoch 61/300\n",
            "16/16 [==============================] - 0s 5ms/step - loss: 219.8757 - mae: 220.3753 - val_loss: 306.4484 - val_mae: 306.9484 - lr: 0.0010\n",
            "Epoch 62/300\n",
            "16/16 [==============================] - 0s 5ms/step - loss: 197.6253 - mae: 198.1253 - val_loss: 283.1541 - val_mae: 283.6541 - lr: 0.0010\n",
            "Epoch 63/300\n",
            "16/16 [==============================] - 0s 5ms/step - loss: 183.8636 - mae: 184.3624 - val_loss: 287.1201 - val_mae: 287.6201 - lr: 0.0010\n",
            "Epoch 64/300\n",
            "16/16 [==============================] - 0s 5ms/step - loss: 171.2054 - mae: 171.7035 - val_loss: 283.2188 - val_mae: 283.7172 - lr: 0.0010\n",
            "Epoch 65/300\n",
            "16/16 [==============================] - 0s 5ms/step - loss: 141.0214 - mae: 141.5194 - val_loss: 268.6385 - val_mae: 269.1385 - lr: 0.0010\n",
            "Epoch 66/300\n",
            "16/16 [==============================] - 0s 5ms/step - loss: 153.4744 - mae: 153.9727 - val_loss: 274.9790 - val_mae: 275.4790 - lr: 0.0010\n",
            "Epoch 67/300\n",
            "16/16 [==============================] - 0s 5ms/step - loss: 137.6470 - mae: 138.1459 - val_loss: 258.1889 - val_mae: 258.6884 - lr: 0.0010\n",
            "Epoch 68/300\n",
            "16/16 [==============================] - 0s 5ms/step - loss: 139.0999 - mae: 139.5990 - val_loss: 292.5986 - val_mae: 293.0986 - lr: 0.0010\n",
            "Epoch 69/300\n",
            "15/16 [===========================>..] - ETA: 0s - loss: 152.8132 - mae: 153.3120\n",
            "Epoch 69: ReduceLROnPlateau reducing learning rate to 0.00010000000474974513.\n",
            "16/16 [==============================] - 0s 5ms/step - loss: 155.4020 - mae: 155.9008 - val_loss: 303.3506 - val_mae: 303.8506 - lr: 0.0010\n",
            "Epoch 70/300\n",
            "16/16 [==============================] - 0s 5ms/step - loss: 131.5820 - mae: 132.0804 - val_loss: 271.2600 - val_mae: 271.7600 - lr: 1.0000e-04\n",
            "Epoch 71/300\n",
            "16/16 [==============================] - 0s 5ms/step - loss: 114.9894 - mae: 115.4885 - val_loss: 262.4868 - val_mae: 262.9868 - lr: 1.0000e-04\n",
            "Epoch 72/300\n",
            "16/16 [==============================] - 0s 5ms/step - loss: 105.6180 - mae: 106.1153 - val_loss: 261.1535 - val_mae: 261.6535 - lr: 1.0000e-04\n",
            "Epoch 73/300\n",
            "16/16 [==============================] - 0s 5ms/step - loss: 103.0588 - mae: 103.5581 - val_loss: 259.3268 - val_mae: 259.8268 - lr: 1.0000e-04\n",
            "Epoch 74/300\n",
            "16/16 [==============================] - 0s 6ms/step - loss: 99.8238 - mae: 100.3213 - val_loss: 255.7117 - val_mae: 256.2117 - lr: 1.0000e-04\n",
            "Epoch 75/300\n",
            "16/16 [==============================] - 0s 5ms/step - loss: 97.7275 - mae: 98.2257 - val_loss: 255.5991 - val_mae: 256.0962 - lr: 1.0000e-04\n",
            "Epoch 76/300\n",
            "16/16 [==============================] - 0s 5ms/step - loss: 101.3869 - mae: 101.8848 - val_loss: 260.0340 - val_mae: 260.5340 - lr: 1.0000e-04\n",
            "Epoch 77/300\n",
            "16/16 [==============================] - 0s 6ms/step - loss: 98.5767 - mae: 99.0755 - val_loss: 255.0001 - val_mae: 255.4933 - lr: 1.0000e-04\n",
            "Epoch 78/300\n",
            "16/16 [==============================] - 0s 6ms/step - loss: 96.9023 - mae: 97.4003 - val_loss: 252.4523 - val_mae: 252.9450 - lr: 1.0000e-04\n",
            "Epoch 79/300\n",
            "16/16 [==============================] - 0s 6ms/step - loss: 92.3994 - mae: 92.8952 - val_loss: 251.9052 - val_mae: 252.4052 - lr: 1.0000e-04\n",
            "Epoch 80/300\n",
            "16/16 [==============================] - 0s 6ms/step - loss: 91.4872 - mae: 91.9820 - val_loss: 250.5254 - val_mae: 251.0254 - lr: 1.0000e-04\n",
            "Epoch 81/300\n",
            "16/16 [==============================] - 0s 5ms/step - loss: 90.8526 - mae: 91.3479 - val_loss: 254.5146 - val_mae: 255.0146 - lr: 1.0000e-04\n",
            "Epoch 82/300\n",
            "16/16 [==============================] - 0s 5ms/step - loss: 91.1644 - mae: 91.6589 - val_loss: 251.5411 - val_mae: 252.0411 - lr: 1.0000e-04\n",
            "Epoch 83/300\n",
            "16/16 [==============================] - 0s 6ms/step - loss: 88.4441 - mae: 88.9417 - val_loss: 249.2243 - val_mae: 249.7129 - lr: 1.0000e-04\n",
            "Epoch 84/300\n",
            "16/16 [==============================] - 0s 5ms/step - loss: 87.4738 - mae: 87.9679 - val_loss: 257.1538 - val_mae: 257.6538 - lr: 1.0000e-04\n",
            "Epoch 85/300\n",
            "16/16 [==============================] - 0s 5ms/step - loss: 88.2453 - mae: 88.7385 - val_loss: 257.2587 - val_mae: 257.7532 - lr: 1.0000e-04\n",
            "Epoch 86/300\n",
            "16/16 [==============================] - 0s 6ms/step - loss: 88.2922 - mae: 88.7890 - val_loss: 256.0205 - val_mae: 256.5204 - lr: 1.0000e-04\n",
            "Epoch 87/300\n",
            "16/16 [==============================] - 0s 6ms/step - loss: 89.0971 - mae: 89.5931 - val_loss: 261.7592 - val_mae: 262.2575 - lr: 1.0000e-04\n",
            "Epoch 88/300\n",
            "16/16 [==============================] - 0s 5ms/step - loss: 88.6679 - mae: 89.1631 - val_loss: 250.8760 - val_mae: 251.3756 - lr: 1.0000e-04\n",
            "Epoch 89/300\n",
            "16/16 [==============================] - 0s 5ms/step - loss: 84.3779 - mae: 84.8702 - val_loss: 253.4915 - val_mae: 253.9915 - lr: 1.0000e-04\n",
            "Epoch 90/300\n",
            "16/16 [==============================] - 0s 5ms/step - loss: 84.9269 - mae: 85.4218 - val_loss: 251.1273 - val_mae: 251.6273 - lr: 1.0000e-04\n",
            "Epoch 91/300\n",
            "16/16 [==============================] - 0s 6ms/step - loss: 86.3456 - mae: 86.8403 - val_loss: 248.2090 - val_mae: 248.7090 - lr: 1.0000e-04\n",
            "Epoch 92/300\n",
            "16/16 [==============================] - 0s 5ms/step - loss: 87.6521 - mae: 88.1463 - val_loss: 261.4528 - val_mae: 261.9528 - lr: 1.0000e-04\n",
            "Epoch 93/300\n",
            "16/16 [==============================] - 0s 6ms/step - loss: 81.9958 - mae: 82.4916 - val_loss: 247.3299 - val_mae: 247.8299 - lr: 1.0000e-04\n",
            "Epoch 94/300\n",
            "16/16 [==============================] - 0s 6ms/step - loss: 82.3371 - mae: 82.8298 - val_loss: 252.3751 - val_mae: 252.8712 - lr: 1.0000e-04\n",
            "Epoch 95/300\n",
            "16/16 [==============================] - 0s 6ms/step - loss: 84.4332 - mae: 84.9245 - val_loss: 266.5215 - val_mae: 267.0215 - lr: 1.0000e-04\n",
            "Epoch 96/300\n",
            "16/16 [==============================] - 0s 5ms/step - loss: 82.6809 - mae: 83.1751 - val_loss: 256.8088 - val_mae: 257.3080 - lr: 1.0000e-04\n",
            "Epoch 97/300\n",
            "16/16 [==============================] - 0s 5ms/step - loss: 82.1040 - mae: 82.5940 - val_loss: 252.4322 - val_mae: 252.9203 - lr: 1.0000e-04\n",
            "Epoch 98/300\n",
            "16/16 [==============================] - 0s 5ms/step - loss: 82.4408 - mae: 82.9318 - val_loss: 252.9076 - val_mae: 253.4076 - lr: 1.0000e-04\n",
            "Epoch 99/300\n",
            "16/16 [==============================] - 0s 5ms/step - loss: 83.1676 - mae: 83.6600 - val_loss: 249.8708 - val_mae: 250.3708 - lr: 1.0000e-04\n",
            "Epoch 100/300\n",
            "16/16 [==============================] - 0s 5ms/step - loss: 83.4941 - mae: 83.9896 - val_loss: 250.3871 - val_mae: 250.8871 - lr: 1.0000e-04\n",
            "Epoch 101/300\n",
            "16/16 [==============================] - 0s 5ms/step - loss: 81.8089 - mae: 82.3004 - val_loss: 262.5314 - val_mae: 263.0314 - lr: 1.0000e-04\n",
            "Epoch 102/300\n",
            "16/16 [==============================] - 0s 5ms/step - loss: 78.0620 - mae: 78.5505 - val_loss: 303.8647 - val_mae: 304.3623 - lr: 1.0000e-04\n",
            "Epoch 103/300\n",
            "16/16 [==============================] - 0s 5ms/step - loss: 86.7022 - mae: 87.1964 - val_loss: 251.7724 - val_mae: 252.2724 - lr: 1.0000e-04\n",
            "Epoch 104/300\n",
            "16/16 [==============================] - 0s 5ms/step - loss: 82.4675 - mae: 82.9617 - val_loss: 253.3907 - val_mae: 253.8907 - lr: 1.0000e-04\n",
            "Epoch 105/300\n",
            "16/16 [==============================] - 0s 5ms/step - loss: 83.4556 - mae: 83.9482 - val_loss: 254.3138 - val_mae: 254.8138 - lr: 1.0000e-04\n",
            "Epoch 106/300\n",
            "16/16 [==============================] - 0s 5ms/step - loss: 83.5715 - mae: 84.0675 - val_loss: 253.8071 - val_mae: 254.3071 - lr: 1.0000e-04\n",
            "Epoch 107/300\n",
            "16/16 [==============================] - 0s 6ms/step - loss: 82.5525 - mae: 83.0462 - val_loss: 250.9356 - val_mae: 251.4356 - lr: 1.0000e-04\n",
            "Epoch 108/300\n",
            "16/16 [==============================] - 0s 6ms/step - loss: 88.3723 - mae: 88.8706 - val_loss: 246.0100 - val_mae: 246.5100 - lr: 1.0000e-04\n",
            "Epoch 109/300\n",
            "16/16 [==============================] - 0s 5ms/step - loss: 82.7885 - mae: 83.2865 - val_loss: 256.6748 - val_mae: 257.1748 - lr: 1.0000e-04\n",
            "Epoch 110/300\n",
            "16/16 [==============================] - 0s 5ms/step - loss: 82.0076 - mae: 82.5036 - val_loss: 260.3962 - val_mae: 260.8907 - lr: 1.0000e-04\n",
            "Epoch 111/300\n",
            "16/16 [==============================] - 0s 5ms/step - loss: 90.1742 - mae: 90.6657 - val_loss: 248.0134 - val_mae: 248.5132 - lr: 1.0000e-04\n",
            "Epoch 112/300\n",
            "16/16 [==============================] - 0s 5ms/step - loss: 90.3084 - mae: 90.8054 - val_loss: 254.2861 - val_mae: 254.7861 - lr: 1.0000e-04\n",
            "Epoch 113/300\n",
            "16/16 [==============================] - 0s 5ms/step - loss: 84.7635 - mae: 85.2590 - val_loss: 253.0002 - val_mae: 253.5002 - lr: 1.0000e-04\n",
            "Epoch 114/300\n",
            "16/16 [==============================] - 0s 5ms/step - loss: 82.9150 - mae: 83.4091 - val_loss: 251.1196 - val_mae: 251.6196 - lr: 1.0000e-04\n",
            "Epoch 115/300\n",
            "16/16 [==============================] - 0s 5ms/step - loss: 82.1203 - mae: 82.6151 - val_loss: 253.3688 - val_mae: 253.8688 - lr: 1.0000e-04\n",
            "Epoch 116/300\n",
            "16/16 [==============================] - 0s 5ms/step - loss: 81.4365 - mae: 81.9256 - val_loss: 251.2624 - val_mae: 251.7606 - lr: 1.0000e-04\n",
            "Epoch 117/300\n",
            "16/16 [==============================] - 0s 5ms/step - loss: 84.2482 - mae: 84.7436 - val_loss: 251.0564 - val_mae: 251.5564 - lr: 1.0000e-04\n",
            "Epoch 118/300\n",
            "16/16 [==============================] - 0s 5ms/step - loss: 83.3205 - mae: 83.8155 - val_loss: 260.4513 - val_mae: 260.9492 - lr: 1.0000e-04\n",
            "Epoch 119/300\n",
            "16/16 [==============================] - 0s 6ms/step - loss: 88.8896 - mae: 89.3852 - val_loss: 252.0529 - val_mae: 252.5432 - lr: 1.0000e-04\n",
            "Epoch 120/300\n",
            "16/16 [==============================] - 0s 5ms/step - loss: 82.2306 - mae: 82.7247 - val_loss: 252.4487 - val_mae: 252.9487 - lr: 1.0000e-04\n",
            "Epoch 121/300\n",
            "16/16 [==============================] - 0s 5ms/step - loss: 84.2244 - mae: 84.7181 - val_loss: 255.1120 - val_mae: 255.6120 - lr: 1.0000e-04\n",
            "Epoch 122/300\n",
            "16/16 [==============================] - 0s 5ms/step - loss: 88.7818 - mae: 89.2777 - val_loss: 250.6827 - val_mae: 251.1811 - lr: 1.0000e-04\n",
            "Epoch 123/300\n",
            "15/16 [===========================>..] - ETA: 0s - loss: 78.7291 - mae: 79.2257  \n",
            "Epoch 123: ReduceLROnPlateau reducing learning rate to 0.0001.\n",
            "16/16 [==============================] - 0s 5ms/step - loss: 82.7485 - mae: 83.2452 - val_loss: 253.8850 - val_mae: 254.3850 - lr: 1.0000e-04\n",
            "Epoch 124/300\n",
            "16/16 [==============================] - 0s 5ms/step - loss: 81.1299 - mae: 81.6225 - val_loss: 250.8451 - val_mae: 251.3451 - lr: 1.0000e-04\n",
            "Epoch 125/300\n",
            "16/16 [==============================] - 0s 5ms/step - loss: 83.2453 - mae: 83.7380 - val_loss: 250.8181 - val_mae: 251.3118 - lr: 1.0000e-04\n",
            "Epoch 126/300\n",
            "16/16 [==============================] - 0s 6ms/step - loss: 83.2204 - mae: 83.7136 - val_loss: 250.4823 - val_mae: 250.9765 - lr: 1.0000e-04\n",
            "Epoch 127/300\n",
            "16/16 [==============================] - 0s 6ms/step - loss: 81.5195 - mae: 82.0110 - val_loss: 253.5077 - val_mae: 254.0077 - lr: 1.0000e-04\n",
            "Epoch 128/300\n",
            "16/16 [==============================] - 0s 6ms/step - loss: 80.0131 - mae: 80.5036 - val_loss: 260.6727 - val_mae: 261.1727 - lr: 1.0000e-04\n",
            "Epoch 129/300\n",
            "16/16 [==============================] - 0s 5ms/step - loss: 93.6019 - mae: 94.0996 - val_loss: 255.8069 - val_mae: 256.3069 - lr: 1.0000e-04\n",
            "Epoch 130/300\n",
            "16/16 [==============================] - 0s 5ms/step - loss: 84.6002 - mae: 85.0942 - val_loss: 259.0637 - val_mae: 259.5637 - lr: 1.0000e-04\n",
            "Epoch 131/300\n",
            "16/16 [==============================] - 0s 5ms/step - loss: 82.9522 - mae: 83.4456 - val_loss: 251.7136 - val_mae: 252.2136 - lr: 1.0000e-04\n",
            "Epoch 132/300\n",
            "16/16 [==============================] - 0s 5ms/step - loss: 78.6115 - mae: 79.1057 - val_loss: 255.3996 - val_mae: 255.8965 - lr: 1.0000e-04\n",
            "Epoch 133/300\n",
            "16/16 [==============================] - 0s 5ms/step - loss: 77.9170 - mae: 78.4073 - val_loss: 257.7598 - val_mae: 258.2598 - lr: 1.0000e-04\n",
            "Epoch 134/300\n",
            "16/16 [==============================] - 0s 6ms/step - loss: 80.4348 - mae: 80.9298 - val_loss: 253.2917 - val_mae: 253.7880 - lr: 1.0000e-04\n",
            "Epoch 135/300\n",
            "16/16 [==============================] - 0s 5ms/step - loss: 80.9226 - mae: 81.4152 - val_loss: 250.8726 - val_mae: 251.3724 - lr: 1.0000e-04\n",
            "Epoch 136/300\n",
            "16/16 [==============================] - 0s 5ms/step - loss: 80.4096 - mae: 80.9007 - val_loss: 264.2806 - val_mae: 264.7806 - lr: 1.0000e-04\n",
            "Epoch 137/300\n",
            "16/16 [==============================] - 0s 5ms/step - loss: 85.5004 - mae: 85.9939 - val_loss: 257.2536 - val_mae: 257.7536 - lr: 1.0000e-04\n",
            "Epoch 138/300\n",
            "14/16 [=========================>....] - ETA: 0s - loss: 93.2883 - mae: 93.7857Restoring model weights from the end of the best epoch: 108.\n",
            "16/16 [==============================] - 0s 6ms/step - loss: 90.0746 - mae: 90.5722 - val_loss: 259.6351 - val_mae: 260.1351 - lr: 1.0000e-04\n",
            "Epoch 138: early stopping\n"
          ]
        }
      ]
    },
    {
      "cell_type": "code",
      "source": [
        "pd.DataFrame(history.history).plot(figsize=(10, 7))\n",
        "plt.grid(True)\n",
        "plt.show()"
      ],
      "metadata": {
        "colab": {
          "base_uri": "https://localhost:8080/",
          "height": 428
        },
        "id": "P4CCymPgzoNH",
        "outputId": "ec49a84c-c94c-4cb6-b1a9-3e5e8a0f074d"
      },
      "execution_count": 82,
      "outputs": [
        {
          "output_type": "display_data",
          "data": {
            "text/plain": [
              "<Figure size 720x504 with 1 Axes>"
            ],
            "image/png": "[encoded data removed]"
          },
          "metadata": {
            "needs_background": "light"
          }
        }
      ]
    },
    {
      "cell_type": "code",
      "source": [
        "scores = model.evaluate(X_test, y_test)"
      ],
      "metadata": {
        "colab": {
          "base_uri": "https://localhost:8080/"
        },
        "id": "LOYayY7H0XTP",
        "outputId": "4dcfc0cb-1ac5-42e8-dd55-a895e879c6fc"
      },
      "execution_count": 83,
      "outputs": [
        {
          "output_type": "stream",
          "name": "stdout",
          "text": [
            "5/5 [==============================] - 0s 3ms/step - loss: 263.3526 - mae: 263.8526\n"
          ]
        }
      ]
    },
    {
      "cell_type": "code",
      "source": [
        "preds = model.predict(X_test, verbose=1)"
      ],
      "metadata": {
        "colab": {
          "base_uri": "https://localhost:8080/"
        },
        "id": "FJIpkBZg6T-D",
        "outputId": "6c683c13-4beb-4c5f-82d4-c617e1e36be9"
      },
      "execution_count": 84,
      "outputs": [
        {
          "output_type": "stream",
          "name": "stdout",
          "text": [
            "5/5 [==============================] - 0s 2ms/step\n"
          ]
        }
      ]
    },
    {
      "cell_type": "code",
      "source": [
        "preds[:10].round(2)"
      ],
      "metadata": {
        "colab": {
          "base_uri": "https://localhost:8080/"
        },
        "id": "lWKbmioA-I47",
        "outputId": "57b9e079-5924-4e40-e139-3048391eeaf1"
      },
      "execution_count": 85,
      "outputs": [
        {
          "output_type": "execute_result",
          "data": {
            "text/plain": [
              "array([[2788.97],\n",
              "       [3182.21],\n",
              "       [1957.75],\n",
              "       [1723.  ],\n",
              "       [3399.15],\n",
              "       [3210.  ],\n",
              "       [1789.25],\n",
              "       [2317.84],\n",
              "       [5567.38],\n",
              "       [1970.7 ]], dtype=float32)"
            ]
          },
          "metadata": {},
          "execution_count": 85
        }
      ]
    },
    {
      "cell_type": "code",
      "source": [
        "y_test[:10].round(2)"
      ],
      "metadata": {
        "colab": {
          "base_uri": "https://localhost:8080/",
          "height": 363
        },
        "id": "WU1iSwpc-OcE",
        "outputId": "45099cde-1e9c-461f-a887-273bdcdcb3d0"
      },
      "execution_count": 86,
      "outputs": [
        {
          "output_type": "execute_result",
          "data": {
            "text/plain": [
              "       Rent\n",
              "286  2850.0\n",
              "652  3800.0\n",
              "257  1750.0\n",
              "336  1650.0\n",
              "318  2695.0\n",
              "211  3300.0\n",
              "621  2000.0\n",
              "176  3600.0\n",
              "576  9000.0\n",
              "256  1950.0"
            ],
            "text/html": [
              "\n",
              "  <div id=\"df-3351045d-2c54-49d3-a5ed-7bce26ad06ef\">\n",
              "    <div class=\"colab-df-container\">\n",
              "      <div>\n",
              "<style scoped>\n",
              "    .dataframe tbody tr th:only-of-type {\n",
              "        vertical-align: middle;\n",
              "    }\n",
              "\n",
              "    .dataframe tbody tr th {\n",
              "        vertical-align: top;\n",
              "    }\n",
              "\n",
              "    .dataframe thead th {\n",
              "        text-align: right;\n",
              "    }\n",
              "</style>\n",
              "<table border=\"1\" class=\"dataframe\">\n",
              "  <thead>\n",
              "    <tr style=\"text-align: right;\">\n",
              "      <th></th>\n",
              "      <th>Rent</th>\n",
              "    </tr>\n",
              "  </thead>\n",
              "  <tbody>\n",
              "    <tr>\n",
              "      <th>286</th>\n",
              "      <td>2850.0</td>\n",
              "    </tr>\n",
              "    <tr>\n",
              "      <th>652</th>\n",
              "      <td>3800.0</td>\n",
              "    </tr>\n",
              "    <tr>\n",
              "      <th>257</th>\n",
              "      <td>1750.0</td>\n",
              "    </tr>\n",
              "    <tr>\n",
              "      <th>336</th>\n",
              "      <td>1650.0</td>\n",
              "    </tr>\n",
              "    <tr>\n",
              "      <th>318</th>\n",
              "      <td>2695.0</td>\n",
              "    </tr>\n",
              "    <tr>\n",
              "      <th>211</th>\n",
              "      <td>3300.0</td>\n",
              "    </tr>\n",
              "    <tr>\n",
              "      <th>621</th>\n",
              "      <td>2000.0</td>\n",
              "    </tr>\n",
              "    <tr>\n",
              "      <th>176</th>\n",
              "      <td>3600.0</td>\n",
              "    </tr>\n",
              "    <tr>\n",
              "      <th>576</th>\n",
              "      <td>9000.0</td>\n",
              "    </tr>\n",
              "    <tr>\n",
              "      <th>256</th>\n",
              "      <td>1950.0</td>\n",
              "    </tr>\n",
              "  </tbody>\n",
              "</table>\n",
              "</div>\n",
              "      <button class=\"colab-df-convert\" onclick=\"convertToInteractive('df-3351045d-2c54-49d3-a5ed-7bce26ad06ef')\"\n",
              "              title=\"Convert this dataframe to an interactive table.\"\n",
              "              style=\"display:none;\">\n",
              "        \n",
              "  <svg xmlns=\"http://www.w3.org/2000/svg\" height=\"24px\"viewBox=\"0 0 24 24\"\n",
              "       width=\"24px\">\n",
              "    <path d=\"M0 0h24v24H0V0z\" fill=\"none\"/>\n",
              "    <path d=\"M18.56 5.44l.94 2.06.94-2.06 2.06-.94-2.06-.94-.94-2.06-.94 2.06-2.06.94zm-11 1L8.5 8.5l.94-2.06 2.06-.94-2.06-.94L8.5 2.5l-.94 2.06-2.06.94zm10 10l.94 2.06.94-2.06 2.06-.94-2.06-.94-.94-2.06-.94 2.06-2.06.94z\"/><path d=\"M17.41 7.96l-1.37-1.37c-.4-.4-.92-.59-1.43-.59-.52 0-1.04.2-1.43.59L10.3 9.45l-7.72 7.72c-.78.78-.78 2.05 0 2.83L4 21.41c.39.39.9.59 1.41.59.51 0 1.02-.2 1.41-.59l7.78-7.78 2.81-2.81c.8-.78.8-2.07 0-2.86zM5.41 20L4 18.59l7.72-7.72 1.47 1.35L5.41 20z\"/>\n",
              "  </svg>\n",
              "      </button>\n",
              "      \n",
              "  <style>\n",
              "    .colab-df-container {\n",
              "      display:flex;\n",
              "      flex-wrap:wrap;\n",
              "      gap: 12px;\n",
              "    }\n",
              "\n",
              "    .colab-df-convert {\n",
              "      background-color: #E8F0FE;\n",
              "      border: none;\n",
              "      border-radius: 50%;\n",
              "      cursor: pointer;\n",
              "      display: none;\n",
              "      fill: #1967D2;\n",
              "      height: 32px;\n",
              "      padding: 0 0 0 0;\n",
              "      width: 32px;\n",
              "    }\n",
              "\n",
              "    .colab-df-convert:hover {\n",
              "      background-color: #E2EBFA;\n",
              "      box-shadow: 0px 1px 2px rgba(60, 64, 67, 0.3), 0px 1px 3px 1px rgba(60, 64, 67, 0.15);\n",
              "      fill: #174EA6;\n",
              "    }\n",
              "\n",
              "    [theme=dark] .colab-df-convert {\n",
              "      background-color: #3B4455;\n",
              "      fill: #D2E3FC;\n",
              "    }\n",
              "\n",
              "    [theme=dark] .colab-df-convert:hover {\n",
              "      background-color: #434B5C;\n",
              "      box-shadow: 0px 1px 3px 1px rgba(0, 0, 0, 0.15);\n",
              "      filter: drop-shadow(0px 1px 2px rgba(0, 0, 0, 0.3));\n",
              "      fill: #FFFFFF;\n",
              "    }\n",
              "  </style>\n",
              "\n",
              "      <script>\n",
              "        const buttonEl =\n",
              "          document.querySelector('#df-3351045d-2c54-49d3-a5ed-7bce26ad06ef button.colab-df-convert');\n",
              "        buttonEl.style.display =\n",
              "          google.colab.kernel.accessAllowed ? 'block' : 'none';\n",
              "\n",
              "        async function convertToInteractive(key) {\n",
              "          const element = document.querySelector('#df-3351045d-2c54-49d3-a5ed-7bce26ad06ef');\n",
              "          const dataTable =\n",
              "            await google.colab.kernel.invokeFunction('convertToInteractive',\n",
              "                                                     [key], {});\n",
              "          if (!dataTable) return;\n",
              "\n",
              "          const docLinkHtml = 'Like what you see? Visit the ' +\n",
              "            '<a target=\"_blank\" href=https://colab.research.google.com/notebooks/data_table.ipynb>data table notebook</a>'\n",
              "            + ' to learn more about interactive tables.';\n",
              "          element.innerHTML = '';\n",
              "          dataTable['output_type'] = 'display_data';\n",
              "          await google.colab.output.renderOutput(dataTable, element);\n",
              "          const docLink = document.createElement('div');\n",
              "          docLink.innerHTML = docLinkHtml;\n",
              "          element.appendChild(docLink);\n",
              "        }\n",
              "      </script>\n",
              "    </div>\n",
              "  </div>\n",
              "  "
            ]
          },
          "metadata": {},
          "execution_count": 86
        }
      ]
    },
    {
      "cell_type": "code",
      "source": [
        "from scipy import stats"
      ],
      "metadata": {
        "id": "tczk9B-N6WLu"
      },
      "execution_count": 87,
      "outputs": []
    },
    {
      "cell_type": "code",
      "source": [
        "confidence = 0.95\n",
        "\n",
        "abs_errors = abs(preds.flatten() - y_test.to_numpy().flatten())\n",
        "stats.t.interval(confidence, len(abs_errors)-1, \n",
        "                         loc=abs_errors.mean(), \n",
        "                         scale=stats.sem(abs_errors))"
      ],
      "metadata": {
        "colab": {
          "base_uri": "https://localhost:8080/"
        },
        "id": "EXiGUnWP6YUu",
        "outputId": "69aa84b5-effd-4e68-925a-241e39b30dc0"
      },
      "execution_count": 88,
      "outputs": [
        {
          "output_type": "execute_result",
          "data": {
            "text/plain": [
              "(185.93361747453014, 341.7716764849355)"
            ]
          },
          "metadata": {},
          "execution_count": 88
        }
      ]
    },
    {
      "cell_type": "code",
      "source": [
        "# Using the full set of models also seems to perform well predicting for the Bronx borough of the city\n",
        "\n",
        "# CI with reduce_lr(min_lr = .0001): (187.4612144593679, 343.07993738902434) --> (183.0560336506383, 339.1669357362503)"
      ],
      "metadata": {
        "id": "I235esz4DlNw"
      },
      "execution_count": 89,
      "outputs": []
    },
    {
      "cell_type": "code",
      "source": [
        "# model.save(\"bronx_model.h5\")"
      ],
      "metadata": {
        "id": "O1EocXxa6r0p"
      },
      "execution_count": 90,
      "outputs": []
    },
    {
      "cell_type": "code",
      "source": [
        "# /content/drive/MyDrive/Boro_DFs/\n",
        "model.save(\"/content/drive/MyDrive/Boro_DFs/bronx_model.h5\")"
      ],
      "metadata": {
        "id": "yBEwI7ai60uc"
      },
      "execution_count": 91,
      "outputs": []
    }
  ]
}