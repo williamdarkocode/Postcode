{
  "nbformat": 4,
  "nbformat_minor": 0,
  "metadata": {
    "colab": {
      "name": "Manhattan_Rent_Prediction",
      "provenance": [],
      "machine_shape": "hm"
    },
    "kernelspec": {
      "name": "python3",
      "display_name": "Python 3"
    },
    "language_info": {
      "name": "python"
    },
    "accelerator": "GPU"
  },
  "cells": [
    {
      "cell_type": "code",
      "execution_count": 1,
      "metadata": {
        "id": "IHq6vEX0JQh5"
      },
      "outputs": [],
      "source": [
        "import matplotlib.pyplot as plt\n",
        "import pandas as pd\n",
        "import numpy as np\n",
        "import tarfile\n",
        "import math\n",
        "\n",
        "from tensorflow import keras\n",
        "from keras import models\n",
        "from keras import layers\n",
        "from keras.callbacks import EarlyStopping\n",
        "\n",
        "\n",
        "from sklearn.model_selection import train_test_split\n",
        "from sklearn.impute import SimpleImputer\n",
        "from sklearn.preprocessing import MinMaxScaler\n",
        "from sklearn.preprocessing import OneHotEncoder"
      ]
    },
    {
      "cell_type": "code",
      "source": [
        "from keras.callbacks import ReduceLROnPlateau"
      ],
      "metadata": {
        "id": "QT0Ilkkn0pq5"
      },
      "execution_count": 30,
      "outputs": []
    },
    {
      "cell_type": "code",
      "source": [
        "from keras.layers import AlphaDropout"
      ],
      "metadata": {
        "id": "9pv0CxHhAe4c"
      },
      "execution_count": 2,
      "outputs": []
    },
    {
      "cell_type": "code",
      "source": [
        "from google.colab import drive\n",
        "drive.mount('/content/drive/')"
      ],
      "metadata": {
        "colab": {
          "base_uri": "https://localhost:8080/"
        },
        "id": "LznBSqDlpFQe",
        "outputId": "c165f648-3b12-4174-f425-d781b2e84d65"
      },
      "execution_count": 3,
      "outputs": [
        {
          "output_type": "stream",
          "name": "stdout",
          "text": [
            "Mounted at /content/drive/\n"
          ]
        }
      ]
    },
    {
      "cell_type": "code",
      "source": [
        "from numpy.random import seed\n",
        "seed(15)\n",
        "\n",
        "from tensorflow.random import set_seed\n",
        "set_seed(15)"
      ],
      "metadata": {
        "id": "F82b9igNpD4a"
      },
      "execution_count": 4,
      "outputs": []
    },
    {
      "cell_type": "code",
      "source": [
        "manhattan_csv = '/content/drive/MyDrive/Boro_DFs/manhatt_df.csv'"
      ],
      "metadata": {
        "id": "It23BQMkpZrO"
      },
      "execution_count": 5,
      "outputs": []
    },
    {
      "cell_type": "code",
      "source": [
        "manhattan_df = pd.DataFrame(pd.read_csv(manhattan_csv))"
      ],
      "metadata": {
        "id": "cGPCANEIppM-"
      },
      "execution_count": 6,
      "outputs": []
    },
    {
      "cell_type": "code",
      "source": [
        "manhattan_df.head()"
      ],
      "metadata": {
        "colab": {
          "base_uri": "https://localhost:8080/",
          "height": 206
        },
        "id": "nn32hx06p1M7",
        "outputId": "5fa7dfcb-576b-4d3d-94cc-ae3fbad1cfb2"
      },
      "execution_count": 7,
      "outputs": [
        {
          "output_type": "execute_result",
          "data": {
            "text/plain": [
              "     Borough                           Area                Address  Num_Beds  \\\n",
              "0  manhattan                        Chelsea      130 W 15th Street       2.0   \n",
              "1  manhattan                    Murray Hill   401 East 34th Street       2.0   \n",
              "2  manhattan             Washington Heights  432 West 163rd Street       2.0   \n",
              "3  manhattan                   South Harlem  207 West 121st Street       0.5   \n",
              "4  manhattan  upper east side-carnegie hill      420 E 54th Street       1.0   \n",
              "\n",
              "   Num_Baths    Sq-Ft    Rent       Long        Lat ZipCode  Precinct  \\\n",
              "0        2.0  1377.37  9150.0 -73.997478  40.738415   10011      13.0   \n",
              "1        2.0  1085.00  6276.0 -73.972708  40.743649   10016      13.0   \n",
              "2        1.0   855.99  2646.0 -73.938373  40.836002   10032      33.0   \n",
              "3        1.0   537.89  1950.0 -73.950435  40.806607   10027      28.0   \n",
              "4        2.0   851.00  5869.0 -73.963335  40.755807   10022      18.0   \n",
              "\n",
              "   CrimeTotalPastYear Train_Line  Dist_To_Line  Dist_To_Station  \\\n",
              "0              1549.0          L      0.001283         0.000726   \n",
              "1              1549.0          7      0.008466         0.008466   \n",
              "2              1126.0        A-C      0.001519         0.001519   \n",
              "3              1017.0        B-D      0.002599         0.004581   \n",
              "4              1926.0          E      0.001128         0.005973   \n",
              "\n",
              "   Dist_To_Entrance  \n",
              "0          0.000919  \n",
              "1          0.007582  \n",
              "2          0.001446  \n",
              "3          0.004434  \n",
              "4          0.006087  "
            ],
            "text/html": [
              "\n",
              "  <div id=\"df-1463748a-3cb4-41b7-878f-f3a9cdba4054\">\n",
              "    <div class=\"colab-df-container\">\n",
              "      <div>\n",
              "<style scoped>\n",
              "    .dataframe tbody tr th:only-of-type {\n",
              "        vertical-align: middle;\n",
              "    }\n",
              "\n",
              "    .dataframe tbody tr th {\n",
              "        vertical-align: top;\n",
              "    }\n",
              "\n",
              "    .dataframe thead th {\n",
              "        text-align: right;\n",
              "    }\n",
              "</style>\n",
              "<table border=\"1\" class=\"dataframe\">\n",
              "  <thead>\n",
              "    <tr style=\"text-align: right;\">\n",
              "      <th></th>\n",
              "      <th>Borough</th>\n",
              "      <th>Area</th>\n",
              "      <th>Address</th>\n",
              "      <th>Num_Beds</th>\n",
              "      <th>Num_Baths</th>\n",
              "      <th>Sq-Ft</th>\n",
              "      <th>Rent</th>\n",
              "      <th>Long</th>\n",
              "      <th>Lat</th>\n",
              "      <th>ZipCode</th>\n",
              "      <th>Precinct</th>\n",
              "      <th>CrimeTotalPastYear</th>\n",
              "      <th>Train_Line</th>\n",
              "      <th>Dist_To_Line</th>\n",
              "      <th>Dist_To_Station</th>\n",
              "      <th>Dist_To_Entrance</th>\n",
              "    </tr>\n",
              "  </thead>\n",
              "  <tbody>\n",
              "    <tr>\n",
              "      <th>0</th>\n",
              "      <td>manhattan</td>\n",
              "      <td>Chelsea</td>\n",
              "      <td>130 W 15th Street</td>\n",
              "      <td>2.0</td>\n",
              "      <td>2.0</td>\n",
              "      <td>1377.37</td>\n",
              "      <td>9150.0</td>\n",
              "      <td>-73.997478</td>\n",
              "      <td>40.738415</td>\n",
              "      <td>10011</td>\n",
              "      <td>13.0</td>\n",
              "      <td>1549.0</td>\n",
              "      <td>L</td>\n",
              "      <td>0.001283</td>\n",
              "      <td>0.000726</td>\n",
              "      <td>0.000919</td>\n",
              "    </tr>\n",
              "    <tr>\n",
              "      <th>1</th>\n",
              "      <td>manhattan</td>\n",
              "      <td>Murray Hill</td>\n",
              "      <td>401 East 34th Street</td>\n",
              "      <td>2.0</td>\n",
              "      <td>2.0</td>\n",
              "      <td>1085.00</td>\n",
              "      <td>6276.0</td>\n",
              "      <td>-73.972708</td>\n",
              "      <td>40.743649</td>\n",
              "      <td>10016</td>\n",
              "      <td>13.0</td>\n",
              "      <td>1549.0</td>\n",
              "      <td>7</td>\n",
              "      <td>0.008466</td>\n",
              "      <td>0.008466</td>\n",
              "      <td>0.007582</td>\n",
              "    </tr>\n",
              "    <tr>\n",
              "      <th>2</th>\n",
              "      <td>manhattan</td>\n",
              "      <td>Washington Heights</td>\n",
              "      <td>432 West 163rd Street</td>\n",
              "      <td>2.0</td>\n",
              "      <td>1.0</td>\n",
              "      <td>855.99</td>\n",
              "      <td>2646.0</td>\n",
              "      <td>-73.938373</td>\n",
              "      <td>40.836002</td>\n",
              "      <td>10032</td>\n",
              "      <td>33.0</td>\n",
              "      <td>1126.0</td>\n",
              "      <td>A-C</td>\n",
              "      <td>0.001519</td>\n",
              "      <td>0.001519</td>\n",
              "      <td>0.001446</td>\n",
              "    </tr>\n",
              "    <tr>\n",
              "      <th>3</th>\n",
              "      <td>manhattan</td>\n",
              "      <td>South Harlem</td>\n",
              "      <td>207 West 121st Street</td>\n",
              "      <td>0.5</td>\n",
              "      <td>1.0</td>\n",
              "      <td>537.89</td>\n",
              "      <td>1950.0</td>\n",
              "      <td>-73.950435</td>\n",
              "      <td>40.806607</td>\n",
              "      <td>10027</td>\n",
              "      <td>28.0</td>\n",
              "      <td>1017.0</td>\n",
              "      <td>B-D</td>\n",
              "      <td>0.002599</td>\n",
              "      <td>0.004581</td>\n",
              "      <td>0.004434</td>\n",
              "    </tr>\n",
              "    <tr>\n",
              "      <th>4</th>\n",
              "      <td>manhattan</td>\n",
              "      <td>upper east side-carnegie hill</td>\n",
              "      <td>420 E 54th Street</td>\n",
              "      <td>1.0</td>\n",
              "      <td>2.0</td>\n",
              "      <td>851.00</td>\n",
              "      <td>5869.0</td>\n",
              "      <td>-73.963335</td>\n",
              "      <td>40.755807</td>\n",
              "      <td>10022</td>\n",
              "      <td>18.0</td>\n",
              "      <td>1926.0</td>\n",
              "      <td>E</td>\n",
              "      <td>0.001128</td>\n",
              "      <td>0.005973</td>\n",
              "      <td>0.006087</td>\n",
              "    </tr>\n",
              "  </tbody>\n",
              "</table>\n",
              "</div>\n",
              "      <button class=\"colab-df-convert\" onclick=\"convertToInteractive('df-1463748a-3cb4-41b7-878f-f3a9cdba4054')\"\n",
              "              title=\"Convert this dataframe to an interactive table.\"\n",
              "              style=\"display:none;\">\n",
              "        \n",
              "  <svg xmlns=\"http://www.w3.org/2000/svg\" height=\"24px\"viewBox=\"0 0 24 24\"\n",
              "       width=\"24px\">\n",
              "    <path d=\"M0 0h24v24H0V0z\" fill=\"none\"/>\n",
              "    <path d=\"M18.56 5.44l.94 2.06.94-2.06 2.06-.94-2.06-.94-.94-2.06-.94 2.06-2.06.94zm-11 1L8.5 8.5l.94-2.06 2.06-.94-2.06-.94L8.5 2.5l-.94 2.06-2.06.94zm10 10l.94 2.06.94-2.06 2.06-.94-2.06-.94-.94-2.06-.94 2.06-2.06.94z\"/><path d=\"M17.41 7.96l-1.37-1.37c-.4-.4-.92-.59-1.43-.59-.52 0-1.04.2-1.43.59L10.3 9.45l-7.72 7.72c-.78.78-.78 2.05 0 2.83L4 21.41c.39.39.9.59 1.41.59.51 0 1.02-.2 1.41-.59l7.78-7.78 2.81-2.81c.8-.78.8-2.07 0-2.86zM5.41 20L4 18.59l7.72-7.72 1.47 1.35L5.41 20z\"/>\n",
              "  </svg>\n",
              "      </button>\n",
              "      \n",
              "  <style>\n",
              "    .colab-df-container {\n",
              "      display:flex;\n",
              "      flex-wrap:wrap;\n",
              "      gap: 12px;\n",
              "    }\n",
              "\n",
              "    .colab-df-convert {\n",
              "      background-color: #E8F0FE;\n",
              "      border: none;\n",
              "      border-radius: 50%;\n",
              "      cursor: pointer;\n",
              "      display: none;\n",
              "      fill: #1967D2;\n",
              "      height: 32px;\n",
              "      padding: 0 0 0 0;\n",
              "      width: 32px;\n",
              "    }\n",
              "\n",
              "    .colab-df-convert:hover {\n",
              "      background-color: #E2EBFA;\n",
              "      box-shadow: 0px 1px 2px rgba(60, 64, 67, 0.3), 0px 1px 3px 1px rgba(60, 64, 67, 0.15);\n",
              "      fill: #174EA6;\n",
              "    }\n",
              "\n",
              "    [theme=dark] .colab-df-convert {\n",
              "      background-color: #3B4455;\n",
              "      fill: #D2E3FC;\n",
              "    }\n",
              "\n",
              "    [theme=dark] .colab-df-convert:hover {\n",
              "      background-color: #434B5C;\n",
              "      box-shadow: 0px 1px 3px 1px rgba(0, 0, 0, 0.15);\n",
              "      filter: drop-shadow(0px 1px 2px rgba(0, 0, 0, 0.3));\n",
              "      fill: #FFFFFF;\n",
              "    }\n",
              "  </style>\n",
              "\n",
              "      <script>\n",
              "        const buttonEl =\n",
              "          document.querySelector('#df-1463748a-3cb4-41b7-878f-f3a9cdba4054 button.colab-df-convert');\n",
              "        buttonEl.style.display =\n",
              "          google.colab.kernel.accessAllowed ? 'block' : 'none';\n",
              "\n",
              "        async function convertToInteractive(key) {\n",
              "          const element = document.querySelector('#df-1463748a-3cb4-41b7-878f-f3a9cdba4054');\n",
              "          const dataTable =\n",
              "            await google.colab.kernel.invokeFunction('convertToInteractive',\n",
              "                                                     [key], {});\n",
              "          if (!dataTable) return;\n",
              "\n",
              "          const docLinkHtml = 'Like what you see? Visit the ' +\n",
              "            '<a target=\"_blank\" href=https://colab.research.google.com/notebooks/data_table.ipynb>data table notebook</a>'\n",
              "            + ' to learn more about interactive tables.';\n",
              "          element.innerHTML = '';\n",
              "          dataTable['output_type'] = 'display_data';\n",
              "          await google.colab.output.renderOutput(dataTable, element);\n",
              "          const docLink = document.createElement('div');\n",
              "          docLink.innerHTML = docLinkHtml;\n",
              "          element.appendChild(docLink);\n",
              "        }\n",
              "      </script>\n",
              "    </div>\n",
              "  </div>\n",
              "  "
            ]
          },
          "metadata": {},
          "execution_count": 7
        }
      ]
    },
    {
      "cell_type": "code",
      "source": [
        "y = manhattan_df[['Rent']]"
      ],
      "metadata": {
        "id": "nDuMfPUQqMH2"
      },
      "execution_count": 8,
      "outputs": []
    },
    {
      "cell_type": "code",
      "source": [
        "X = manhattan_df.drop(['Borough', 'Rent'], axis=1)\n",
        "X.head()"
      ],
      "metadata": {
        "colab": {
          "base_uri": "https://localhost:8080/",
          "height": 206
        },
        "id": "xhlAi-gSqUtm",
        "outputId": "dcc8324d-45a4-4197-e93c-5f8a51364d66"
      },
      "execution_count": 9,
      "outputs": [
        {
          "output_type": "execute_result",
          "data": {
            "text/plain": [
              "                            Area                Address  Num_Beds  Num_Baths  \\\n",
              "0                        Chelsea      130 W 15th Street       2.0        2.0   \n",
              "1                    Murray Hill   401 East 34th Street       2.0        2.0   \n",
              "2             Washington Heights  432 West 163rd Street       2.0        1.0   \n",
              "3                   South Harlem  207 West 121st Street       0.5        1.0   \n",
              "4  upper east side-carnegie hill      420 E 54th Street       1.0        2.0   \n",
              "\n",
              "     Sq-Ft       Long        Lat ZipCode  Precinct  CrimeTotalPastYear  \\\n",
              "0  1377.37 -73.997478  40.738415   10011      13.0              1549.0   \n",
              "1  1085.00 -73.972708  40.743649   10016      13.0              1549.0   \n",
              "2   855.99 -73.938373  40.836002   10032      33.0              1126.0   \n",
              "3   537.89 -73.950435  40.806607   10027      28.0              1017.0   \n",
              "4   851.00 -73.963335  40.755807   10022      18.0              1926.0   \n",
              "\n",
              "  Train_Line  Dist_To_Line  Dist_To_Station  Dist_To_Entrance  \n",
              "0          L      0.001283         0.000726          0.000919  \n",
              "1          7      0.008466         0.008466          0.007582  \n",
              "2        A-C      0.001519         0.001519          0.001446  \n",
              "3        B-D      0.002599         0.004581          0.004434  \n",
              "4          E      0.001128         0.005973          0.006087  "
            ],
            "text/html": [
              "\n",
              "  <div id=\"df-23ae665f-028a-4442-a49e-c8657958efa2\">\n",
              "    <div class=\"colab-df-container\">\n",
              "      <div>\n",
              "<style scoped>\n",
              "    .dataframe tbody tr th:only-of-type {\n",
              "        vertical-align: middle;\n",
              "    }\n",
              "\n",
              "    .dataframe tbody tr th {\n",
              "        vertical-align: top;\n",
              "    }\n",
              "\n",
              "    .dataframe thead th {\n",
              "        text-align: right;\n",
              "    }\n",
              "</style>\n",
              "<table border=\"1\" class=\"dataframe\">\n",
              "  <thead>\n",
              "    <tr style=\"text-align: right;\">\n",
              "      <th></th>\n",
              "      <th>Area</th>\n",
              "      <th>Address</th>\n",
              "      <th>Num_Beds</th>\n",
              "      <th>Num_Baths</th>\n",
              "      <th>Sq-Ft</th>\n",
              "      <th>Long</th>\n",
              "      <th>Lat</th>\n",
              "      <th>ZipCode</th>\n",
              "      <th>Precinct</th>\n",
              "      <th>CrimeTotalPastYear</th>\n",
              "      <th>Train_Line</th>\n",
              "      <th>Dist_To_Line</th>\n",
              "      <th>Dist_To_Station</th>\n",
              "      <th>Dist_To_Entrance</th>\n",
              "    </tr>\n",
              "  </thead>\n",
              "  <tbody>\n",
              "    <tr>\n",
              "      <th>0</th>\n",
              "      <td>Chelsea</td>\n",
              "      <td>130 W 15th Street</td>\n",
              "      <td>2.0</td>\n",
              "      <td>2.0</td>\n",
              "      <td>1377.37</td>\n",
              "      <td>-73.997478</td>\n",
              "      <td>40.738415</td>\n",
              "      <td>10011</td>\n",
              "      <td>13.0</td>\n",
              "      <td>1549.0</td>\n",
              "      <td>L</td>\n",
              "      <td>0.001283</td>\n",
              "      <td>0.000726</td>\n",
              "      <td>0.000919</td>\n",
              "    </tr>\n",
              "    <tr>\n",
              "      <th>1</th>\n",
              "      <td>Murray Hill</td>\n",
              "      <td>401 East 34th Street</td>\n",
              "      <td>2.0</td>\n",
              "      <td>2.0</td>\n",
              "      <td>1085.00</td>\n",
              "      <td>-73.972708</td>\n",
              "      <td>40.743649</td>\n",
              "      <td>10016</td>\n",
              "      <td>13.0</td>\n",
              "      <td>1549.0</td>\n",
              "      <td>7</td>\n",
              "      <td>0.008466</td>\n",
              "      <td>0.008466</td>\n",
              "      <td>0.007582</td>\n",
              "    </tr>\n",
              "    <tr>\n",
              "      <th>2</th>\n",
              "      <td>Washington Heights</td>\n",
              "      <td>432 West 163rd Street</td>\n",
              "      <td>2.0</td>\n",
              "      <td>1.0</td>\n",
              "      <td>855.99</td>\n",
              "      <td>-73.938373</td>\n",
              "      <td>40.836002</td>\n",
              "      <td>10032</td>\n",
              "      <td>33.0</td>\n",
              "      <td>1126.0</td>\n",
              "      <td>A-C</td>\n",
              "      <td>0.001519</td>\n",
              "      <td>0.001519</td>\n",
              "      <td>0.001446</td>\n",
              "    </tr>\n",
              "    <tr>\n",
              "      <th>3</th>\n",
              "      <td>South Harlem</td>\n",
              "      <td>207 West 121st Street</td>\n",
              "      <td>0.5</td>\n",
              "      <td>1.0</td>\n",
              "      <td>537.89</td>\n",
              "      <td>-73.950435</td>\n",
              "      <td>40.806607</td>\n",
              "      <td>10027</td>\n",
              "      <td>28.0</td>\n",
              "      <td>1017.0</td>\n",
              "      <td>B-D</td>\n",
              "      <td>0.002599</td>\n",
              "      <td>0.004581</td>\n",
              "      <td>0.004434</td>\n",
              "    </tr>\n",
              "    <tr>\n",
              "      <th>4</th>\n",
              "      <td>upper east side-carnegie hill</td>\n",
              "      <td>420 E 54th Street</td>\n",
              "      <td>1.0</td>\n",
              "      <td>2.0</td>\n",
              "      <td>851.00</td>\n",
              "      <td>-73.963335</td>\n",
              "      <td>40.755807</td>\n",
              "      <td>10022</td>\n",
              "      <td>18.0</td>\n",
              "      <td>1926.0</td>\n",
              "      <td>E</td>\n",
              "      <td>0.001128</td>\n",
              "      <td>0.005973</td>\n",
              "      <td>0.006087</td>\n",
              "    </tr>\n",
              "  </tbody>\n",
              "</table>\n",
              "</div>\n",
              "      <button class=\"colab-df-convert\" onclick=\"convertToInteractive('df-23ae665f-028a-4442-a49e-c8657958efa2')\"\n",
              "              title=\"Convert this dataframe to an interactive table.\"\n",
              "              style=\"display:none;\">\n",
              "        \n",
              "  <svg xmlns=\"http://www.w3.org/2000/svg\" height=\"24px\"viewBox=\"0 0 24 24\"\n",
              "       width=\"24px\">\n",
              "    <path d=\"M0 0h24v24H0V0z\" fill=\"none\"/>\n",
              "    <path d=\"M18.56 5.44l.94 2.06.94-2.06 2.06-.94-2.06-.94-.94-2.06-.94 2.06-2.06.94zm-11 1L8.5 8.5l.94-2.06 2.06-.94-2.06-.94L8.5 2.5l-.94 2.06-2.06.94zm10 10l.94 2.06.94-2.06 2.06-.94-2.06-.94-.94-2.06-.94 2.06-2.06.94z\"/><path d=\"M17.41 7.96l-1.37-1.37c-.4-.4-.92-.59-1.43-.59-.52 0-1.04.2-1.43.59L10.3 9.45l-7.72 7.72c-.78.78-.78 2.05 0 2.83L4 21.41c.39.39.9.59 1.41.59.51 0 1.02-.2 1.41-.59l7.78-7.78 2.81-2.81c.8-.78.8-2.07 0-2.86zM5.41 20L4 18.59l7.72-7.72 1.47 1.35L5.41 20z\"/>\n",
              "  </svg>\n",
              "      </button>\n",
              "      \n",
              "  <style>\n",
              "    .colab-df-container {\n",
              "      display:flex;\n",
              "      flex-wrap:wrap;\n",
              "      gap: 12px;\n",
              "    }\n",
              "\n",
              "    .colab-df-convert {\n",
              "      background-color: #E8F0FE;\n",
              "      border: none;\n",
              "      border-radius: 50%;\n",
              "      cursor: pointer;\n",
              "      display: none;\n",
              "      fill: #1967D2;\n",
              "      height: 32px;\n",
              "      padding: 0 0 0 0;\n",
              "      width: 32px;\n",
              "    }\n",
              "\n",
              "    .colab-df-convert:hover {\n",
              "      background-color: #E2EBFA;\n",
              "      box-shadow: 0px 1px 2px rgba(60, 64, 67, 0.3), 0px 1px 3px 1px rgba(60, 64, 67, 0.15);\n",
              "      fill: #174EA6;\n",
              "    }\n",
              "\n",
              "    [theme=dark] .colab-df-convert {\n",
              "      background-color: #3B4455;\n",
              "      fill: #D2E3FC;\n",
              "    }\n",
              "\n",
              "    [theme=dark] .colab-df-convert:hover {\n",
              "      background-color: #434B5C;\n",
              "      box-shadow: 0px 1px 3px 1px rgba(0, 0, 0, 0.15);\n",
              "      filter: drop-shadow(0px 1px 2px rgba(0, 0, 0, 0.3));\n",
              "      fill: #FFFFFF;\n",
              "    }\n",
              "  </style>\n",
              "\n",
              "      <script>\n",
              "        const buttonEl =\n",
              "          document.querySelector('#df-23ae665f-028a-4442-a49e-c8657958efa2 button.colab-df-convert');\n",
              "        buttonEl.style.display =\n",
              "          google.colab.kernel.accessAllowed ? 'block' : 'none';\n",
              "\n",
              "        async function convertToInteractive(key) {\n",
              "          const element = document.querySelector('#df-23ae665f-028a-4442-a49e-c8657958efa2');\n",
              "          const dataTable =\n",
              "            await google.colab.kernel.invokeFunction('convertToInteractive',\n",
              "                                                     [key], {});\n",
              "          if (!dataTable) return;\n",
              "\n",
              "          const docLinkHtml = 'Like what you see? Visit the ' +\n",
              "            '<a target=\"_blank\" href=https://colab.research.google.com/notebooks/data_table.ipynb>data table notebook</a>'\n",
              "            + ' to learn more about interactive tables.';\n",
              "          element.innerHTML = '';\n",
              "          dataTable['output_type'] = 'display_data';\n",
              "          await google.colab.output.renderOutput(dataTable, element);\n",
              "          const docLink = document.createElement('div');\n",
              "          docLink.innerHTML = docLinkHtml;\n",
              "          element.appendChild(docLink);\n",
              "        }\n",
              "      </script>\n",
              "    </div>\n",
              "  </div>\n",
              "  "
            ]
          },
          "metadata": {},
          "execution_count": 9
        }
      ]
    },
    {
      "cell_type": "code",
      "source": [
        "X = pd.get_dummies(X, columns=['Area', 'Address', 'ZipCode', 'Precinct', 'Train_Line'])"
      ],
      "metadata": {
        "id": "4P1BFCNV4NK4"
      },
      "execution_count": 10,
      "outputs": []
    },
    {
      "cell_type": "code",
      "source": [
        "X_train, X_test, y_train, y_test = train_test_split(X, y, test_size=0.2, random_state=42) "
      ],
      "metadata": {
        "id": "PGBo1zfvsq38"
      },
      "execution_count": 11,
      "outputs": []
    },
    {
      "cell_type": "code",
      "source": [
        "numeric_cols = ['Num_Beds', 'Num_Baths', 'Sq-Ft', 'Long', 'Lat', 'CrimeTotalPastYear', 'Dist_To_Line', 'Dist_To_Station', 'Dist_To_Entrance']"
      ],
      "metadata": {
        "id": "uQhhxKkD4efw"
      },
      "execution_count": 12,
      "outputs": []
    },
    {
      "cell_type": "code",
      "source": [
        "X_train_num = X_train[numeric_cols]"
      ],
      "metadata": {
        "id": "I4uVOTx2tGNS"
      },
      "execution_count": 13,
      "outputs": []
    },
    {
      "cell_type": "code",
      "source": [
        "X_test_num = X_test[numeric_cols]"
      ],
      "metadata": {
        "id": "z5-Af9EKtmY2"
      },
      "execution_count": 14,
      "outputs": []
    },
    {
      "cell_type": "code",
      "source": [
        "print(X_train_num.shape)\n",
        "print(X_test_num.shape)"
      ],
      "metadata": {
        "colab": {
          "base_uri": "https://localhost:8080/"
        },
        "id": "Vdgob14o5HKD",
        "outputId": "190cbb76-a800-441b-d9a3-bb6912568928"
      },
      "execution_count": 15,
      "outputs": [
        {
          "output_type": "stream",
          "name": "stdout",
          "text": [
            "(6914, 9)\n",
            "(1729, 9)\n"
          ]
        }
      ]
    },
    {
      "cell_type": "code",
      "source": [
        "scaler = MinMaxScaler()"
      ],
      "metadata": {
        "id": "p9RNRLAbtwBQ"
      },
      "execution_count": 16,
      "outputs": []
    },
    {
      "cell_type": "code",
      "source": [
        "X_train_num = scaler.fit_transform(X_train_num)"
      ],
      "metadata": {
        "id": "7PtlLZ1Ct1q8"
      },
      "execution_count": 17,
      "outputs": []
    },
    {
      "cell_type": "code",
      "source": [
        "X_train_num.shape"
      ],
      "metadata": {
        "colab": {
          "base_uri": "https://localhost:8080/"
        },
        "id": "UOd7oCyH2aUQ",
        "outputId": "92c0afb7-08e4-4c19-add3-a85a62624b0b"
      },
      "execution_count": 18,
      "outputs": [
        {
          "output_type": "execute_result",
          "data": {
            "text/plain": [
              "(6914, 9)"
            ]
          },
          "metadata": {},
          "execution_count": 18
        }
      ]
    },
    {
      "cell_type": "code",
      "source": [
        "X_test_num = scaler.transform(X_test_num)"
      ],
      "metadata": {
        "id": "P71FdUJ0uBwi"
      },
      "execution_count": 19,
      "outputs": []
    },
    {
      "cell_type": "code",
      "source": [
        "X_test_num.shape"
      ],
      "metadata": {
        "colab": {
          "base_uri": "https://localhost:8080/"
        },
        "id": "ReDQGS852Xdb",
        "outputId": "7827d5f2-7d03-484c-cd18-1939b56b05fe"
      },
      "execution_count": 20,
      "outputs": [
        {
          "output_type": "execute_result",
          "data": {
            "text/plain": [
              "(1729, 9)"
            ]
          },
          "metadata": {},
          "execution_count": 20
        }
      ]
    },
    {
      "cell_type": "code",
      "source": [
        "X_train_onehots = X_train.drop(numeric_cols, axis=1)\n",
        "X_test_onehots = X_test.drop(numeric_cols, axis=1)"
      ],
      "metadata": {
        "id": "FdZcJP0QuIVM"
      },
      "execution_count": 21,
      "outputs": []
    },
    {
      "cell_type": "code",
      "source": [
        "X_train_onehots.shape"
      ],
      "metadata": {
        "colab": {
          "base_uri": "https://localhost:8080/"
        },
        "id": "z6g_xtgK15Je",
        "outputId": "a3871e4b-ee50-45c9-c869-384df5866729"
      },
      "execution_count": 22,
      "outputs": [
        {
          "output_type": "execute_result",
          "data": {
            "text/plain": [
              "(6914, 4011)"
            ]
          },
          "metadata": {},
          "execution_count": 22
        }
      ]
    },
    {
      "cell_type": "code",
      "source": [
        "X_test_onehots.shape"
      ],
      "metadata": {
        "colab": {
          "base_uri": "https://localhost:8080/"
        },
        "id": "kqRZuLf917vt",
        "outputId": "cbd817d0-d3aa-4b6a-a788-055b5eceea61"
      },
      "execution_count": 23,
      "outputs": [
        {
          "output_type": "execute_result",
          "data": {
            "text/plain": [
              "(1729, 4011)"
            ]
          },
          "metadata": {},
          "execution_count": 23
        }
      ]
    },
    {
      "cell_type": "code",
      "source": [
        "X_train = np.concatenate((X_train_num, X_train_onehots), axis=1)"
      ],
      "metadata": {
        "id": "fr7kghS9yA5F"
      },
      "execution_count": 24,
      "outputs": []
    },
    {
      "cell_type": "code",
      "source": [
        "X_test = np.concatenate((X_test_num, X_test_onehots), axis=1)"
      ],
      "metadata": {
        "id": "WTUi2RjXyMFd"
      },
      "execution_count": 25,
      "outputs": []
    },
    {
      "cell_type": "code",
      "source": [
        "# create validation set\n",
        "num_val_insts = math.floor(X_train.shape[0]*(.10))\n",
        "\n",
        "X_val = X_train[:num_val_insts]\n",
        "y_val = y_train[:num_val_insts]\n",
        "\n",
        "X_train = X_train[num_val_insts:]\n",
        "y_train = y_train[num_val_insts:]"
      ],
      "metadata": {
        "id": "d3BMgWC8yaXg"
      },
      "execution_count": 26,
      "outputs": []
    },
    {
      "cell_type": "code",
      "source": [
        "print(f\"X_train shape: {X_train.shape}, y_train shape: {y_train.shape}\")\n",
        "print(f\"X_val shape: {X_val.shape}, y_val shape: {y_val.shape}\")\n",
        "print(f\"X_test shape: {X_test.shape}, y_test shape: {y_test.shape}\")"
      ],
      "metadata": {
        "colab": {
          "base_uri": "https://localhost:8080/"
        },
        "id": "HytfmXvtyjHK",
        "outputId": "de204135-540e-4fb1-ed01-3cc31522daa2"
      },
      "execution_count": 27,
      "outputs": [
        {
          "output_type": "stream",
          "name": "stdout",
          "text": [
            "X_train shape: (6223, 4020), y_train shape: (6223, 1)\n",
            "X_val shape: (691, 4020), y_val shape: (691, 1)\n",
            "X_test shape: (1729, 4020), y_test shape: (1729, 1)\n"
          ]
        }
      ]
    },
    {
      "cell_type": "code",
      "source": [
        "from keras.initializers import lecun_normal"
      ],
      "metadata": {
        "id": "Yc8srrdAy3cI"
      },
      "execution_count": 28,
      "outputs": []
    },
    {
      "cell_type": "code",
      "source": [
        "initialiser = lecun_normal(seed=31)"
      ],
      "metadata": {
        "id": "mSe9P4ETy4zn"
      },
      "execution_count": 29,
      "outputs": []
    },
    {
      "cell_type": "code",
      "source": [
        "# model\n",
        "\n",
        "model = models.Sequential()\n",
        "model.add(layers.Dense(512, activation='selu', input_shape=(X_train.shape[1],), kernel_initializer=initialiser))\n",
        "model.add(layers.Dense(512, activation='selu', kernel_initializer=initialiser))\n",
        "model.add(layers.Dense(512, activation='selu', kernel_initializer=initialiser))\n",
        "model.add(layers.Dense(512, activation='selu', kernel_initializer=initialiser))\n",
        "model.add(layers.Dense(512, activation='selu', kernel_initializer=initialiser))\n",
        "model.add(layers.Dense(512, activation='selu', kernel_initializer=initialiser))\n",
        "model.add(layers.Dense(512, activation='selu', kernel_initializer=initialiser))\n",
        "\n",
        "model.add(layers.Dense(256, activation='selu', kernel_initializer=initialiser))\n",
        "model.add(layers.Dense(256, activation='selu', kernel_initializer=initialiser))\n",
        "\n",
        "model.add(layers.Dense(128, activation='selu', kernel_initializer=initialiser))\n",
        "model.add(layers.Dense(128, activation='selu', kernel_initializer=initialiser))\n",
        "\n",
        "model.add(layers.Dense(64, activation='selu', kernel_initializer=initialiser))\n",
        "model.add(layers.Dense(64, activation='selu', kernel_initializer=initialiser))\n",
        "\n",
        "\n",
        "model.add(layers.Dense(1))"
      ],
      "metadata": {
        "id": "iHi12V7BzCM6"
      },
      "execution_count": 46,
      "outputs": []
    },
    {
      "cell_type": "code",
      "source": [
        "model.summary()"
      ],
      "metadata": {
        "colab": {
          "base_uri": "https://localhost:8080/"
        },
        "id": "TPI57bQuzJcc",
        "outputId": "5ad3af81-612b-4722-8964-1f37cd39893e"
      },
      "execution_count": 47,
      "outputs": [
        {
          "output_type": "stream",
          "name": "stdout",
          "text": [
            "Model: \"sequential_2\"\n",
            "_________________________________________________________________\n",
            " Layer (type)                Output Shape              Param #   \n",
            "=================================================================\n",
            " dense_15 (Dense)            (None, 512)               2058752   \n",
            "                                                                 \n",
            " dense_16 (Dense)            (None, 512)               262656    \n",
            "                                                                 \n",
            " dense_17 (Dense)            (None, 512)               262656    \n",
            "                                                                 \n",
            " dense_18 (Dense)            (None, 512)               262656    \n",
            "                                                                 \n",
            " dense_19 (Dense)            (None, 512)               262656    \n",
            "                                                                 \n",
            " dense_20 (Dense)            (None, 512)               262656    \n",
            "                                                                 \n",
            " dense_21 (Dense)            (None, 512)               262656    \n",
            "                                                                 \n",
            " dense_22 (Dense)            (None, 256)               131328    \n",
            "                                                                 \n",
            " dense_23 (Dense)            (None, 256)               65792     \n",
            "                                                                 \n",
            " dense_24 (Dense)            (None, 128)               32896     \n",
            "                                                                 \n",
            " dense_25 (Dense)            (None, 128)               16512     \n",
            "                                                                 \n",
            " dense_26 (Dense)            (None, 64)                8256      \n",
            "                                                                 \n",
            " dense_27 (Dense)            (None, 64)                4160      \n",
            "                                                                 \n",
            " dense_28 (Dense)            (None, 1)                 65        \n",
            "                                                                 \n",
            "=================================================================\n",
            "Total params: 3,893,697\n",
            "Trainable params: 3,893,697\n",
            "Non-trainable params: 0\n",
            "_________________________________________________________________\n"
          ]
        }
      ]
    },
    {
      "cell_type": "code",
      "source": [
        "model.compile(loss=\"huber_loss\", optimizer=keras.optimizers.Adam(learning_rate=.001), metrics=[\"mae\"])"
      ],
      "metadata": {
        "id": "3vPBvwnDzLl7"
      },
      "execution_count": 48,
      "outputs": []
    },
    {
      "cell_type": "code",
      "source": [
        "early_stop = EarlyStopping(monitor='val_mae', mode='min', \n",
        "                           verbose=1, patience=30, min_delta=.5, \n",
        "                           restore_best_weights=True)"
      ],
      "metadata": {
        "id": "SEE4clNfzT-Z"
      },
      "execution_count": 49,
      "outputs": []
    },
    {
      "cell_type": "code",
      "source": [
        "#reduce on plateau\n",
        "reduce_lr = ReduceLROnPlateau(\n",
        "    monitor='val_mae',\n",
        "    patience=15,\n",
        "    factor=.1,\n",
        "    mode='min',\n",
        "    min_delta=.5,\n",
        "    verbose=1,\n",
        "    min_lr=.0001\n",
        ")"
      ],
      "metadata": {
        "id": "Ki-Wg3ke0GSk"
      },
      "execution_count": 50,
      "outputs": []
    },
    {
      "cell_type": "code",
      "source": [
        "history = model.fit(X_train, y_train, epochs=300,\n",
        "                    validation_data=(X_val, y_val),\n",
        "                    callbacks=[early_stop, reduce_lr])"
      ],
      "metadata": {
        "colab": {
          "base_uri": "https://localhost:8080/"
        },
        "id": "ghmmiDo1zYHv",
        "outputId": "8b5172a6-cfc4-4fd7-cd53-4ba92c8d2fb8"
      },
      "execution_count": 51,
      "outputs": [
        {
          "output_type": "stream",
          "name": "stdout",
          "text": [
            "Epoch 1/300\n",
            "195/195 [==============================] - 2s 6ms/step - loss: 2035.7292 - mae: 2036.2289 - val_loss: 1316.0753 - val_mae: 1316.5752 - lr: 0.0010\n",
            "Epoch 2/300\n",
            "195/195 [==============================] - 1s 5ms/step - loss: 1214.6517 - mae: 1215.1515 - val_loss: 1060.1322 - val_mae: 1060.6322 - lr: 0.0010\n",
            "Epoch 3/300\n",
            "195/195 [==============================] - 1s 5ms/step - loss: 949.2512 - mae: 949.7510 - val_loss: 946.9675 - val_mae: 947.4675 - lr: 0.0010\n",
            "Epoch 4/300\n",
            "195/195 [==============================] - 1s 4ms/step - loss: 845.0170 - mae: 845.5170 - val_loss: 1211.2728 - val_mae: 1211.7728 - lr: 0.0010\n",
            "Epoch 5/300\n",
            "195/195 [==============================] - 1s 4ms/step - loss: 817.8628 - mae: 818.3625 - val_loss: 1084.5857 - val_mae: 1085.0837 - lr: 0.0010\n",
            "Epoch 6/300\n",
            "195/195 [==============================] - 1s 4ms/step - loss: 775.4835 - mae: 775.9834 - val_loss: 923.9884 - val_mae: 924.4878 - lr: 0.0010\n",
            "Epoch 7/300\n",
            "195/195 [==============================] - 1s 4ms/step - loss: 667.3326 - mae: 667.8324 - val_loss: 910.9572 - val_mae: 911.4570 - lr: 0.0010\n",
            "Epoch 8/300\n",
            "195/195 [==============================] - 1s 4ms/step - loss: 638.3973 - mae: 638.8971 - val_loss: 844.3928 - val_mae: 844.8928 - lr: 0.0010\n",
            "Epoch 9/300\n",
            "195/195 [==============================] - 1s 5ms/step - loss: 632.8964 - mae: 633.3960 - val_loss: 889.8995 - val_mae: 890.3995 - lr: 0.0010\n",
            "Epoch 10/300\n",
            "195/195 [==============================] - 1s 5ms/step - loss: 641.3909 - mae: 641.8906 - val_loss: 920.7571 - val_mae: 921.2571 - lr: 0.0010\n",
            "Epoch 11/300\n",
            "195/195 [==============================] - 1s 4ms/step - loss: 652.9597 - mae: 653.4594 - val_loss: 958.3238 - val_mae: 958.8237 - lr: 0.0010\n",
            "Epoch 12/300\n",
            "195/195 [==============================] - 1s 4ms/step - loss: 560.7804 - mae: 561.2800 - val_loss: 874.6378 - val_mae: 875.1374 - lr: 0.0010\n",
            "Epoch 13/300\n",
            "195/195 [==============================] - 1s 4ms/step - loss: 532.4979 - mae: 532.9977 - val_loss: 844.0877 - val_mae: 844.5875 - lr: 0.0010\n",
            "Epoch 14/300\n",
            "195/195 [==============================] - 1s 4ms/step - loss: 503.2756 - mae: 503.7753 - val_loss: 865.0593 - val_mae: 865.5587 - lr: 0.0010\n",
            "Epoch 15/300\n",
            "195/195 [==============================] - 1s 4ms/step - loss: 576.1403 - mae: 576.6401 - val_loss: 850.1838 - val_mae: 850.6837 - lr: 0.0010\n",
            "Epoch 16/300\n",
            "195/195 [==============================] - 1s 4ms/step - loss: 522.9302 - mae: 523.4297 - val_loss: 934.2551 - val_mae: 934.7535 - lr: 0.0010\n",
            "Epoch 17/300\n",
            "195/195 [==============================] - 1s 4ms/step - loss: 517.2006 - mae: 517.7004 - val_loss: 844.8831 - val_mae: 845.3824 - lr: 0.0010\n",
            "Epoch 18/300\n",
            "195/195 [==============================] - 1s 5ms/step - loss: 511.6149 - mae: 512.1146 - val_loss: 811.5447 - val_mae: 812.0447 - lr: 0.0010\n",
            "Epoch 19/300\n",
            "195/195 [==============================] - 1s 4ms/step - loss: 500.4012 - mae: 500.9008 - val_loss: 815.7248 - val_mae: 816.2244 - lr: 0.0010\n",
            "Epoch 20/300\n",
            "195/195 [==============================] - 1s 4ms/step - loss: 468.8441 - mae: 469.3439 - val_loss: 927.4548 - val_mae: 927.9548 - lr: 0.0010\n",
            "Epoch 21/300\n",
            "195/195 [==============================] - 1s 4ms/step - loss: 484.8944 - mae: 485.3941 - val_loss: 869.2241 - val_mae: 869.7236 - lr: 0.0010\n",
            "Epoch 22/300\n",
            "195/195 [==============================] - 1s 5ms/step - loss: 480.2726 - mae: 480.7722 - val_loss: 841.5425 - val_mae: 842.0425 - lr: 0.0010\n",
            "Epoch 23/300\n",
            "195/195 [==============================] - 1s 4ms/step - loss: 486.5936 - mae: 487.0933 - val_loss: 788.6252 - val_mae: 789.1244 - lr: 0.0010\n",
            "Epoch 24/300\n",
            "195/195 [==============================] - 1s 4ms/step - loss: 440.1861 - mae: 440.6855 - val_loss: 808.8229 - val_mae: 809.3217 - lr: 0.0010\n",
            "Epoch 25/300\n",
            "195/195 [==============================] - 1s 4ms/step - loss: 440.4192 - mae: 440.9188 - val_loss: 1093.1006 - val_mae: 1093.6003 - lr: 0.0010\n",
            "Epoch 26/300\n",
            "195/195 [==============================] - 1s 4ms/step - loss: 449.2572 - mae: 449.7569 - val_loss: 857.6049 - val_mae: 858.0989 - lr: 0.0010\n",
            "Epoch 27/300\n",
            "195/195 [==============================] - 1s 4ms/step - loss: 442.3407 - mae: 442.8404 - val_loss: 786.0151 - val_mae: 786.5150 - lr: 0.0010\n",
            "Epoch 28/300\n",
            "195/195 [==============================] - 1s 4ms/step - loss: 415.5036 - mae: 416.0032 - val_loss: 887.2960 - val_mae: 887.7960 - lr: 0.0010\n",
            "Epoch 29/300\n",
            "195/195 [==============================] - 1s 4ms/step - loss: 439.6463 - mae: 440.1460 - val_loss: 807.7762 - val_mae: 808.2762 - lr: 0.0010\n",
            "Epoch 30/300\n",
            "195/195 [==============================] - 1s 4ms/step - loss: 392.0338 - mae: 392.5332 - val_loss: 803.0234 - val_mae: 803.5231 - lr: 0.0010\n",
            "Epoch 31/300\n",
            "195/195 [==============================] - 1s 5ms/step - loss: 413.3778 - mae: 413.8771 - val_loss: 830.9753 - val_mae: 831.4753 - lr: 0.0010\n",
            "Epoch 32/300\n",
            "195/195 [==============================] - 1s 4ms/step - loss: 420.0575 - mae: 420.5570 - val_loss: 993.8069 - val_mae: 994.3065 - lr: 0.0010\n",
            "Epoch 33/300\n",
            "195/195 [==============================] - 1s 4ms/step - loss: 427.3931 - mae: 427.8925 - val_loss: 800.1257 - val_mae: 800.6245 - lr: 0.0010\n",
            "Epoch 34/300\n",
            "195/195 [==============================] - 1s 4ms/step - loss: 433.5495 - mae: 434.0492 - val_loss: 878.5227 - val_mae: 879.0227 - lr: 0.0010\n",
            "Epoch 35/300\n",
            "195/195 [==============================] - 1s 4ms/step - loss: 438.1573 - mae: 438.6569 - val_loss: 990.3203 - val_mae: 990.8202 - lr: 0.0010\n",
            "Epoch 36/300\n",
            "195/195 [==============================] - 1s 4ms/step - loss: 428.6891 - mae: 429.1885 - val_loss: 798.3492 - val_mae: 798.8492 - lr: 0.0010\n",
            "Epoch 37/300\n",
            "195/195 [==============================] - 1s 4ms/step - loss: 418.4100 - mae: 418.9096 - val_loss: 814.3182 - val_mae: 814.8178 - lr: 0.0010\n",
            "Epoch 38/300\n",
            "195/195 [==============================] - 1s 4ms/step - loss: 374.6498 - mae: 375.1494 - val_loss: 809.7356 - val_mae: 810.2354 - lr: 0.0010\n",
            "Epoch 39/300\n",
            "195/195 [==============================] - 1s 5ms/step - loss: 373.6440 - mae: 374.1436 - val_loss: 795.4308 - val_mae: 795.9304 - lr: 0.0010\n",
            "Epoch 40/300\n",
            "195/195 [==============================] - 1s 4ms/step - loss: 364.8725 - mae: 365.3717 - val_loss: 796.0900 - val_mae: 796.5900 - lr: 0.0010\n",
            "Epoch 41/300\n",
            "195/195 [==============================] - 1s 4ms/step - loss: 371.2214 - mae: 371.7209 - val_loss: 804.7806 - val_mae: 805.2794 - lr: 0.0010\n",
            "Epoch 42/300\n",
            "192/195 [============================>.] - ETA: 0s - loss: 368.2192 - mae: 368.7187\n",
            "Epoch 42: ReduceLROnPlateau reducing learning rate to 0.00010000000474974513.\n",
            "195/195 [==============================] - 1s 4ms/step - loss: 370.6218 - mae: 371.1212 - val_loss: 797.8369 - val_mae: 798.3358 - lr: 0.0010\n",
            "Epoch 43/300\n",
            "195/195 [==============================] - 1s 5ms/step - loss: 272.2914 - mae: 272.7902 - val_loss: 778.4197 - val_mae: 778.9197 - lr: 1.0000e-04\n",
            "Epoch 44/300\n",
            "195/195 [==============================] - 1s 5ms/step - loss: 246.8002 - mae: 247.2990 - val_loss: 771.2924 - val_mae: 771.7913 - lr: 1.0000e-04\n",
            "Epoch 45/300\n",
            "195/195 [==============================] - 1s 5ms/step - loss: 230.0540 - mae: 230.5525 - val_loss: 764.0296 - val_mae: 764.5287 - lr: 1.0000e-04\n",
            "Epoch 46/300\n",
            "195/195 [==============================] - 1s 4ms/step - loss: 220.9286 - mae: 221.4268 - val_loss: 766.0204 - val_mae: 766.5204 - lr: 1.0000e-04\n",
            "Epoch 47/300\n",
            "195/195 [==============================] - 1s 5ms/step - loss: 213.0309 - mae: 213.5294 - val_loss: 762.8995 - val_mae: 763.3992 - lr: 1.0000e-04\n",
            "Epoch 48/300\n",
            "195/195 [==============================] - 1s 5ms/step - loss: 203.6782 - mae: 204.1765 - val_loss: 756.8318 - val_mae: 757.3318 - lr: 1.0000e-04\n",
            "Epoch 49/300\n",
            "195/195 [==============================] - 1s 4ms/step - loss: 196.3364 - mae: 196.8338 - val_loss: 750.1305 - val_mae: 750.6299 - lr: 1.0000e-04\n",
            "Epoch 50/300\n",
            "195/195 [==============================] - 1s 5ms/step - loss: 194.2828 - mae: 194.7803 - val_loss: 742.8655 - val_mae: 743.3640 - lr: 1.0000e-04\n",
            "Epoch 51/300\n",
            "195/195 [==============================] - 1s 5ms/step - loss: 192.6801 - mae: 193.1776 - val_loss: 750.3286 - val_mae: 750.8286 - lr: 1.0000e-04\n",
            "Epoch 52/300\n",
            "195/195 [==============================] - 1s 5ms/step - loss: 188.0970 - mae: 188.5944 - val_loss: 748.8799 - val_mae: 749.3787 - lr: 1.0000e-04\n",
            "Epoch 53/300\n",
            "195/195 [==============================] - 1s 5ms/step - loss: 185.5288 - mae: 186.0258 - val_loss: 745.2072 - val_mae: 745.7068 - lr: 1.0000e-04\n",
            "Epoch 54/300\n",
            "195/195 [==============================] - 1s 5ms/step - loss: 184.2716 - mae: 184.7691 - val_loss: 753.2990 - val_mae: 753.7980 - lr: 1.0000e-04\n",
            "Epoch 55/300\n",
            "195/195 [==============================] - 1s 4ms/step - loss: 181.2955 - mae: 181.7928 - val_loss: 746.3234 - val_mae: 746.8225 - lr: 1.0000e-04\n",
            "Epoch 56/300\n",
            "195/195 [==============================] - 1s 5ms/step - loss: 177.5624 - mae: 178.0597 - val_loss: 743.9824 - val_mae: 744.4813 - lr: 1.0000e-04\n",
            "Epoch 57/300\n",
            "195/195 [==============================] - 1s 4ms/step - loss: 176.9122 - mae: 177.4090 - val_loss: 744.1522 - val_mae: 744.6521 - lr: 1.0000e-04\n",
            "Epoch 58/300\n",
            "195/195 [==============================] - 1s 4ms/step - loss: 175.5203 - mae: 176.0161 - val_loss: 747.5818 - val_mae: 748.0812 - lr: 1.0000e-04\n",
            "Epoch 59/300\n",
            "195/195 [==============================] - 1s 4ms/step - loss: 173.7938 - mae: 174.2917 - val_loss: 743.0090 - val_mae: 743.5084 - lr: 1.0000e-04\n",
            "Epoch 60/300\n",
            "195/195 [==============================] - 1s 4ms/step - loss: 173.7782 - mae: 174.2737 - val_loss: 747.7137 - val_mae: 748.2113 - lr: 1.0000e-04\n",
            "Epoch 61/300\n",
            "195/195 [==============================] - 1s 4ms/step - loss: 167.8812 - mae: 168.3767 - val_loss: 741.8928 - val_mae: 742.3879 - lr: 1.0000e-04\n",
            "Epoch 62/300\n",
            "195/195 [==============================] - 1s 5ms/step - loss: 171.6173 - mae: 172.1131 - val_loss: 740.3859 - val_mae: 740.8848 - lr: 1.0000e-04\n",
            "Epoch 63/300\n",
            "195/195 [==============================] - 1s 4ms/step - loss: 171.0413 - mae: 171.5379 - val_loss: 746.5615 - val_mae: 747.0604 - lr: 1.0000e-04\n",
            "Epoch 64/300\n",
            "195/195 [==============================] - 1s 4ms/step - loss: 168.7724 - mae: 169.2687 - val_loss: 743.1637 - val_mae: 743.6631 - lr: 1.0000e-04\n",
            "Epoch 65/300\n",
            "195/195 [==============================] - 1s 5ms/step - loss: 167.7863 - mae: 168.2824 - val_loss: 738.5372 - val_mae: 739.0355 - lr: 1.0000e-04\n",
            "Epoch 66/300\n",
            "195/195 [==============================] - 1s 5ms/step - loss: 166.7492 - mae: 167.2454 - val_loss: 739.9089 - val_mae: 740.4080 - lr: 1.0000e-04\n",
            "Epoch 67/300\n",
            "195/195 [==============================] - 1s 5ms/step - loss: 167.5636 - mae: 168.0596 - val_loss: 735.5574 - val_mae: 736.0563 - lr: 1.0000e-04\n",
            "Epoch 68/300\n",
            "195/195 [==============================] - 1s 5ms/step - loss: 165.5343 - mae: 166.0303 - val_loss: 746.9041 - val_mae: 747.4034 - lr: 1.0000e-04\n",
            "Epoch 69/300\n",
            "195/195 [==============================] - 1s 5ms/step - loss: 171.1767 - mae: 171.6741 - val_loss: 738.4350 - val_mae: 738.9341 - lr: 1.0000e-04\n",
            "Epoch 70/300\n",
            "195/195 [==============================] - 1s 5ms/step - loss: 168.6501 - mae: 169.1465 - val_loss: 739.7806 - val_mae: 740.2796 - lr: 1.0000e-04\n",
            "Epoch 71/300\n",
            "195/195 [==============================] - 1s 5ms/step - loss: 163.4970 - mae: 163.9930 - val_loss: 740.8432 - val_mae: 741.3422 - lr: 1.0000e-04\n",
            "Epoch 72/300\n",
            "195/195 [==============================] - 1s 5ms/step - loss: 165.3470 - mae: 165.8427 - val_loss: 747.4543 - val_mae: 747.9543 - lr: 1.0000e-04\n",
            "Epoch 73/300\n",
            "195/195 [==============================] - 1s 5ms/step - loss: 162.6733 - mae: 163.1689 - val_loss: 741.6678 - val_mae: 742.1667 - lr: 1.0000e-04\n",
            "Epoch 74/300\n",
            "195/195 [==============================] - 1s 5ms/step - loss: 164.8197 - mae: 165.3153 - val_loss: 748.1523 - val_mae: 748.6508 - lr: 1.0000e-04\n",
            "Epoch 75/300\n",
            "195/195 [==============================] - 1s 4ms/step - loss: 165.4434 - mae: 165.9398 - val_loss: 758.8450 - val_mae: 759.3450 - lr: 1.0000e-04\n",
            "Epoch 76/300\n",
            "195/195 [==============================] - 1s 4ms/step - loss: 163.1168 - mae: 163.6125 - val_loss: 738.7353 - val_mae: 739.2339 - lr: 1.0000e-04\n",
            "Epoch 77/300\n",
            "195/195 [==============================] - 1s 5ms/step - loss: 162.7623 - mae: 163.2588 - val_loss: 748.0933 - val_mae: 748.5927 - lr: 1.0000e-04\n",
            "Epoch 78/300\n",
            "195/195 [==============================] - 1s 4ms/step - loss: 164.2272 - mae: 164.7236 - val_loss: 748.0120 - val_mae: 748.5115 - lr: 1.0000e-04\n",
            "Epoch 79/300\n",
            "195/195 [==============================] - 1s 5ms/step - loss: 159.8993 - mae: 160.3945 - val_loss: 735.7487 - val_mae: 736.2479 - lr: 1.0000e-04\n",
            "Epoch 80/300\n",
            "195/195 [==============================] - 1s 4ms/step - loss: 158.9491 - mae: 159.4455 - val_loss: 735.2634 - val_mae: 735.7606 - lr: 1.0000e-04\n",
            "Epoch 81/300\n",
            "195/195 [==============================] - 1s 4ms/step - loss: 160.0157 - mae: 160.5114 - val_loss: 736.7291 - val_mae: 737.2291 - lr: 1.0000e-04\n",
            "Epoch 82/300\n",
            "182/195 [===========================>..] - ETA: 0s - loss: 164.9600 - mae: 165.4563\n",
            "Epoch 82: ReduceLROnPlateau reducing learning rate to 0.0001.\n",
            "195/195 [==============================] - 1s 4ms/step - loss: 163.4659 - mae: 163.9623 - val_loss: 742.4713 - val_mae: 742.9703 - lr: 1.0000e-04\n",
            "Epoch 83/300\n",
            "195/195 [==============================] - 1s 4ms/step - loss: 162.0459 - mae: 162.5407 - val_loss: 734.7874 - val_mae: 735.2856 - lr: 1.0000e-04\n",
            "Epoch 84/300\n",
            "195/195 [==============================] - 1s 5ms/step - loss: 158.1904 - mae: 158.6855 - val_loss: 732.9962 - val_mae: 733.4945 - lr: 1.0000e-04\n",
            "Epoch 85/300\n",
            "195/195 [==============================] - 1s 4ms/step - loss: 157.6901 - mae: 158.1856 - val_loss: 744.5588 - val_mae: 745.0580 - lr: 1.0000e-04\n",
            "Epoch 86/300\n",
            "195/195 [==============================] - 1s 5ms/step - loss: 157.5157 - mae: 158.0116 - val_loss: 733.1072 - val_mae: 733.6061 - lr: 1.0000e-04\n",
            "Epoch 87/300\n",
            "195/195 [==============================] - 1s 4ms/step - loss: 157.6517 - mae: 158.1470 - val_loss: 733.2516 - val_mae: 733.7512 - lr: 1.0000e-04\n",
            "Epoch 88/300\n",
            "195/195 [==============================] - 1s 5ms/step - loss: 160.5844 - mae: 161.0801 - val_loss: 735.7939 - val_mae: 736.2911 - lr: 1.0000e-04\n",
            "Epoch 89/300\n",
            "195/195 [==============================] - 1s 5ms/step - loss: 155.2510 - mae: 155.7457 - val_loss: 734.9854 - val_mae: 735.4826 - lr: 1.0000e-04\n",
            "Epoch 90/300\n",
            "195/195 [==============================] - 1s 4ms/step - loss: 157.3098 - mae: 157.8063 - val_loss: 735.4452 - val_mae: 735.9452 - lr: 1.0000e-04\n",
            "Epoch 91/300\n",
            "195/195 [==============================] - 1s 5ms/step - loss: 158.0381 - mae: 158.5344 - val_loss: 744.3265 - val_mae: 744.8251 - lr: 1.0000e-04\n",
            "Epoch 92/300\n",
            "195/195 [==============================] - 1s 4ms/step - loss: 157.7366 - mae: 158.2319 - val_loss: 739.8177 - val_mae: 740.3175 - lr: 1.0000e-04\n",
            "Epoch 93/300\n",
            "195/195 [==============================] - 1s 4ms/step - loss: 159.0844 - mae: 159.5801 - val_loss: 736.5594 - val_mae: 737.0583 - lr: 1.0000e-04\n",
            "Epoch 94/300\n",
            "195/195 [==============================] - 1s 4ms/step - loss: 156.5259 - mae: 157.0208 - val_loss: 746.5381 - val_mae: 747.0381 - lr: 1.0000e-04\n",
            "Epoch 95/300\n",
            "195/195 [==============================] - 1s 5ms/step - loss: 162.7016 - mae: 163.1981 - val_loss: 735.0870 - val_mae: 735.5865 - lr: 1.0000e-04\n",
            "Epoch 96/300\n",
            "195/195 [==============================] - 1s 5ms/step - loss: 157.8076 - mae: 158.3036 - val_loss: 743.5870 - val_mae: 744.0862 - lr: 1.0000e-04\n",
            "Epoch 97/300\n",
            "195/195 [==============================] - 1s 4ms/step - loss: 160.8589 - mae: 161.3546 - val_loss: 745.3013 - val_mae: 745.7983 - lr: 1.0000e-04\n",
            "Epoch 98/300\n",
            "195/195 [==============================] - 1s 5ms/step - loss: 157.0180 - mae: 157.5141 - val_loss: 735.7008 - val_mae: 736.1989 - lr: 1.0000e-04\n",
            "Epoch 99/300\n",
            "195/195 [==============================] - 1s 4ms/step - loss: 154.7266 - mae: 155.2216 - val_loss: 740.3283 - val_mae: 740.8273 - lr: 1.0000e-04\n",
            "Epoch 100/300\n",
            "195/195 [==============================] - 1s 4ms/step - loss: 159.6631 - mae: 160.1599 - val_loss: 732.2497 - val_mae: 732.7469 - lr: 1.0000e-04\n",
            "Epoch 101/300\n",
            "195/195 [==============================] - 1s 4ms/step - loss: 157.3975 - mae: 157.8932 - val_loss: 733.4517 - val_mae: 733.9510 - lr: 1.0000e-04\n",
            "Epoch 102/300\n",
            "195/195 [==============================] - 1s 4ms/step - loss: 157.5934 - mae: 158.0896 - val_loss: 734.5201 - val_mae: 735.0201 - lr: 1.0000e-04\n",
            "Epoch 103/300\n",
            "195/195 [==============================] - 1s 4ms/step - loss: 157.6669 - mae: 158.1628 - val_loss: 731.6488 - val_mae: 732.1487 - lr: 1.0000e-04\n",
            "Epoch 104/300\n",
            "195/195 [==============================] - 1s 4ms/step - loss: 153.5667 - mae: 154.0620 - val_loss: 740.3708 - val_mae: 740.8707 - lr: 1.0000e-04\n",
            "Epoch 105/300\n",
            "195/195 [==============================] - 1s 4ms/step - loss: 158.4203 - mae: 158.9159 - val_loss: 732.6615 - val_mae: 733.1609 - lr: 1.0000e-04\n",
            "Epoch 106/300\n",
            "195/195 [==============================] - 1s 4ms/step - loss: 157.9713 - mae: 158.4677 - val_loss: 733.9357 - val_mae: 734.4344 - lr: 1.0000e-04\n",
            "Epoch 107/300\n",
            "195/195 [==============================] - 1s 5ms/step - loss: 155.1394 - mae: 155.6354 - val_loss: 735.8928 - val_mae: 736.3924 - lr: 1.0000e-04\n",
            "Epoch 108/300\n",
            "195/195 [==============================] - 1s 4ms/step - loss: 157.2296 - mae: 157.7246 - val_loss: 734.3676 - val_mae: 734.8663 - lr: 1.0000e-04\n",
            "Epoch 109/300\n",
            "195/195 [==============================] - 1s 4ms/step - loss: 155.9140 - mae: 156.4094 - val_loss: 728.9482 - val_mae: 729.4470 - lr: 1.0000e-04\n",
            "Epoch 110/300\n",
            "195/195 [==============================] - 1s 4ms/step - loss: 154.6082 - mae: 155.1044 - val_loss: 734.6292 - val_mae: 735.1272 - lr: 1.0000e-04\n",
            "Epoch 111/300\n",
            "195/195 [==============================] - 1s 4ms/step - loss: 152.2322 - mae: 152.7272 - val_loss: 735.9743 - val_mae: 736.4738 - lr: 1.0000e-04\n",
            "Epoch 112/300\n",
            "195/195 [==============================] - 1s 5ms/step - loss: 154.3427 - mae: 154.8380 - val_loss: 742.1202 - val_mae: 742.6193 - lr: 1.0000e-04\n",
            "Epoch 113/300\n",
            "195/195 [==============================] - 1s 4ms/step - loss: 152.2720 - mae: 152.7690 - val_loss: 734.9845 - val_mae: 735.4832 - lr: 1.0000e-04\n",
            "Epoch 114/300\n",
            "195/195 [==============================] - 1s 4ms/step - loss: 153.8142 - mae: 154.3104 - val_loss: 735.5942 - val_mae: 736.0916 - lr: 1.0000e-04\n",
            "Epoch 115/300\n",
            "195/195 [==============================] - 1s 4ms/step - loss: 154.5144 - mae: 155.0099 - val_loss: 733.9570 - val_mae: 734.4567 - lr: 1.0000e-04\n",
            "Epoch 116/300\n",
            "195/195 [==============================] - 1s 4ms/step - loss: 150.0757 - mae: 150.5710 - val_loss: 732.8825 - val_mae: 733.3775 - lr: 1.0000e-04\n",
            "Epoch 117/300\n",
            "195/195 [==============================] - 1s 4ms/step - loss: 153.2152 - mae: 153.7108 - val_loss: 734.6848 - val_mae: 735.1840 - lr: 1.0000e-04\n",
            "Epoch 118/300\n",
            "195/195 [==============================] - 1s 4ms/step - loss: 152.9813 - mae: 153.4761 - val_loss: 729.4225 - val_mae: 729.9216 - lr: 1.0000e-04\n",
            "Epoch 119/300\n",
            "195/195 [==============================] - 1s 4ms/step - loss: 152.1939 - mae: 152.6895 - val_loss: 730.0049 - val_mae: 730.5040 - lr: 1.0000e-04\n",
            "Epoch 120/300\n",
            "195/195 [==============================] - 1s 4ms/step - loss: 149.3178 - mae: 149.8130 - val_loss: 731.7809 - val_mae: 732.2805 - lr: 1.0000e-04\n",
            "Epoch 121/300\n",
            "195/195 [==============================] - 1s 4ms/step - loss: 152.1202 - mae: 152.6155 - val_loss: 745.1911 - val_mae: 745.6896 - lr: 1.0000e-04\n",
            "Epoch 122/300\n",
            "195/195 [==============================] - 1s 4ms/step - loss: 153.2678 - mae: 153.7628 - val_loss: 731.9258 - val_mae: 732.4250 - lr: 1.0000e-04\n",
            "Epoch 123/300\n",
            "195/195 [==============================] - 1s 5ms/step - loss: 156.1541 - mae: 156.6508 - val_loss: 733.1804 - val_mae: 733.6794 - lr: 1.0000e-04\n",
            "Epoch 124/300\n",
            "195/195 [==============================] - 1s 4ms/step - loss: 152.9030 - mae: 153.3985 - val_loss: 729.5479 - val_mae: 730.0416 - lr: 1.0000e-04\n",
            "Epoch 125/300\n",
            "195/195 [==============================] - 1s 5ms/step - loss: 148.7887 - mae: 149.2828 - val_loss: 726.5859 - val_mae: 727.0855 - lr: 1.0000e-04\n",
            "Epoch 126/300\n",
            "195/195 [==============================] - 1s 4ms/step - loss: 151.3698 - mae: 151.8656 - val_loss: 745.1284 - val_mae: 745.6270 - lr: 1.0000e-04\n",
            "Epoch 127/300\n",
            "195/195 [==============================] - 1s 4ms/step - loss: 152.1054 - mae: 152.6010 - val_loss: 727.6367 - val_mae: 728.1358 - lr: 1.0000e-04\n",
            "Epoch 128/300\n",
            "195/195 [==============================] - 1s 4ms/step - loss: 149.3068 - mae: 149.8021 - val_loss: 733.7669 - val_mae: 734.2663 - lr: 1.0000e-04\n",
            "Epoch 129/300\n",
            "195/195 [==============================] - 1s 4ms/step - loss: 149.0961 - mae: 149.5918 - val_loss: 728.9426 - val_mae: 729.4401 - lr: 1.0000e-04\n",
            "Epoch 130/300\n",
            "195/195 [==============================] - 1s 5ms/step - loss: 150.5181 - mae: 151.0143 - val_loss: 729.6349 - val_mae: 730.1337 - lr: 1.0000e-04\n",
            "Epoch 131/300\n",
            "195/195 [==============================] - 1s 5ms/step - loss: 154.3625 - mae: 154.8580 - val_loss: 726.9681 - val_mae: 727.4678 - lr: 1.0000e-04\n",
            "Epoch 132/300\n",
            "195/195 [==============================] - 1s 4ms/step - loss: 154.1106 - mae: 154.6061 - val_loss: 737.4929 - val_mae: 737.9918 - lr: 1.0000e-04\n",
            "Epoch 133/300\n",
            "195/195 [==============================] - 1s 4ms/step - loss: 151.7216 - mae: 152.2173 - val_loss: 726.7742 - val_mae: 727.2742 - lr: 1.0000e-04\n",
            "Epoch 134/300\n",
            "195/195 [==============================] - 1s 4ms/step - loss: 153.7751 - mae: 154.2714 - val_loss: 735.6410 - val_mae: 736.1401 - lr: 1.0000e-04\n",
            "Epoch 135/300\n",
            "195/195 [==============================] - 1s 5ms/step - loss: 150.1300 - mae: 150.6257 - val_loss: 732.7721 - val_mae: 733.2705 - lr: 1.0000e-04\n",
            "Epoch 136/300\n",
            "195/195 [==============================] - 1s 5ms/step - loss: 150.7769 - mae: 151.2729 - val_loss: 734.4460 - val_mae: 734.9454 - lr: 1.0000e-04\n",
            "Epoch 137/300\n",
            "195/195 [==============================] - 1s 5ms/step - loss: 154.0178 - mae: 154.5141 - val_loss: 731.6523 - val_mae: 732.1511 - lr: 1.0000e-04\n",
            "Epoch 138/300\n",
            "195/195 [==============================] - 1s 4ms/step - loss: 152.9485 - mae: 153.4439 - val_loss: 738.1129 - val_mae: 738.6122 - lr: 1.0000e-04\n",
            "Epoch 139/300\n",
            "195/195 [==============================] - 1s 4ms/step - loss: 147.4280 - mae: 147.9227 - val_loss: 730.2282 - val_mae: 730.7281 - lr: 1.0000e-04\n",
            "Epoch 140/300\n",
            "195/195 [==============================] - 1s 5ms/step - loss: 153.3703 - mae: 153.8663 - val_loss: 727.5380 - val_mae: 728.0375 - lr: 1.0000e-04\n",
            "Epoch 141/300\n",
            "195/195 [==============================] - 1s 4ms/step - loss: 147.5328 - mae: 148.0289 - val_loss: 736.1446 - val_mae: 736.6418 - lr: 1.0000e-04\n",
            "Epoch 142/300\n",
            "195/195 [==============================] - 1s 4ms/step - loss: 147.6102 - mae: 148.1049 - val_loss: 734.5058 - val_mae: 735.0048 - lr: 1.0000e-04\n",
            "Epoch 143/300\n",
            "195/195 [==============================] - 1s 5ms/step - loss: 147.4393 - mae: 147.9352 - val_loss: 732.7197 - val_mae: 733.2189 - lr: 1.0000e-04\n",
            "Epoch 144/300\n",
            "195/195 [==============================] - 1s 4ms/step - loss: 150.8873 - mae: 151.3834 - val_loss: 738.2548 - val_mae: 738.7543 - lr: 1.0000e-04\n",
            "Epoch 145/300\n",
            "195/195 [==============================] - 1s 4ms/step - loss: 150.8500 - mae: 151.3463 - val_loss: 730.7153 - val_mae: 731.2150 - lr: 1.0000e-04\n",
            "Epoch 146/300\n",
            "195/195 [==============================] - 1s 4ms/step - loss: 147.7547 - mae: 148.2494 - val_loss: 730.8506 - val_mae: 731.3497 - lr: 1.0000e-04\n",
            "Epoch 147/300\n",
            "195/195 [==============================] - 1s 4ms/step - loss: 146.5180 - mae: 147.0135 - val_loss: 729.9833 - val_mae: 730.4823 - lr: 1.0000e-04\n",
            "Epoch 148/300\n",
            "195/195 [==============================] - 1s 4ms/step - loss: 146.0464 - mae: 146.5410 - val_loss: 729.6080 - val_mae: 730.1066 - lr: 1.0000e-04\n",
            "Epoch 149/300\n",
            "195/195 [==============================] - 1s 4ms/step - loss: 144.9987 - mae: 145.4940 - val_loss: 728.2061 - val_mae: 728.7042 - lr: 1.0000e-04\n",
            "Epoch 150/300\n",
            "195/195 [==============================] - 1s 4ms/step - loss: 151.8917 - mae: 152.3882 - val_loss: 731.9034 - val_mae: 732.4030 - lr: 1.0000e-04\n",
            "Epoch 151/300\n",
            "195/195 [==============================] - 1s 4ms/step - loss: 151.0734 - mae: 151.5688 - val_loss: 736.3920 - val_mae: 736.8898 - lr: 1.0000e-04\n",
            "Epoch 152/300\n",
            "195/195 [==============================] - 1s 4ms/step - loss: 149.2571 - mae: 149.7528 - val_loss: 738.3807 - val_mae: 738.8806 - lr: 1.0000e-04\n",
            "Epoch 153/300\n",
            "195/195 [==============================] - 1s 4ms/step - loss: 146.8103 - mae: 147.3059 - val_loss: 730.1934 - val_mae: 730.6933 - lr: 1.0000e-04\n",
            "Epoch 154/300\n",
            "195/195 [==============================] - 1s 4ms/step - loss: 144.7680 - mae: 145.2632 - val_loss: 726.4453 - val_mae: 726.9440 - lr: 1.0000e-04\n",
            "Epoch 155/300\n",
            "195/195 [==============================] - 1s 5ms/step - loss: 145.8258 - mae: 146.3210 - val_loss: 723.3812 - val_mae: 723.8735 - lr: 1.0000e-04\n",
            "Epoch 156/300\n",
            "195/195 [==============================] - 1s 4ms/step - loss: 147.2156 - mae: 147.7110 - val_loss: 728.7449 - val_mae: 729.2438 - lr: 1.0000e-04\n",
            "Epoch 157/300\n",
            "195/195 [==============================] - 1s 4ms/step - loss: 145.1223 - mae: 145.6176 - val_loss: 726.8822 - val_mae: 727.3803 - lr: 1.0000e-04\n",
            "Epoch 158/300\n",
            "195/195 [==============================] - 1s 4ms/step - loss: 147.5990 - mae: 148.0949 - val_loss: 724.9138 - val_mae: 725.4117 - lr: 1.0000e-04\n",
            "Epoch 159/300\n",
            "195/195 [==============================] - 1s 5ms/step - loss: 146.9493 - mae: 147.4448 - val_loss: 728.3072 - val_mae: 728.8052 - lr: 1.0000e-04\n",
            "Epoch 160/300\n",
            "195/195 [==============================] - 1s 4ms/step - loss: 144.8041 - mae: 145.2999 - val_loss: 721.7208 - val_mae: 722.2205 - lr: 1.0000e-04\n",
            "Epoch 161/300\n",
            "195/195 [==============================] - 1s 5ms/step - loss: 144.0375 - mae: 144.5325 - val_loss: 730.4325 - val_mae: 730.9293 - lr: 1.0000e-04\n",
            "Epoch 162/300\n",
            "195/195 [==============================] - 1s 4ms/step - loss: 144.6576 - mae: 145.1529 - val_loss: 730.7701 - val_mae: 731.2691 - lr: 1.0000e-04\n",
            "Epoch 163/300\n",
            "195/195 [==============================] - 1s 4ms/step - loss: 147.7480 - mae: 148.2441 - val_loss: 724.5294 - val_mae: 725.0291 - lr: 1.0000e-04\n",
            "Epoch 164/300\n",
            "195/195 [==============================] - 1s 4ms/step - loss: 143.3014 - mae: 143.7974 - val_loss: 730.3033 - val_mae: 730.8031 - lr: 1.0000e-04\n",
            "Epoch 165/300\n",
            "195/195 [==============================] - 1s 4ms/step - loss: 146.0859 - mae: 146.5820 - val_loss: 727.6270 - val_mae: 728.1263 - lr: 1.0000e-04\n",
            "Epoch 166/300\n",
            "195/195 [==============================] - 1s 4ms/step - loss: 144.3335 - mae: 144.8291 - val_loss: 722.6384 - val_mae: 723.1380 - lr: 1.0000e-04\n",
            "Epoch 167/300\n",
            "195/195 [==============================] - 1s 4ms/step - loss: 145.2024 - mae: 145.6978 - val_loss: 727.9150 - val_mae: 728.4141 - lr: 1.0000e-04\n",
            "Epoch 168/300\n",
            "195/195 [==============================] - 1s 5ms/step - loss: 145.1385 - mae: 145.6350 - val_loss: 740.7452 - val_mae: 741.2452 - lr: 1.0000e-04\n",
            "Epoch 169/300\n",
            "195/195 [==============================] - 1s 5ms/step - loss: 148.5073 - mae: 149.0038 - val_loss: 733.1691 - val_mae: 733.6680 - lr: 1.0000e-04\n",
            "Epoch 170/300\n",
            "195/195 [==============================] - 1s 4ms/step - loss: 149.1926 - mae: 149.6889 - val_loss: 727.1813 - val_mae: 727.6803 - lr: 1.0000e-04\n",
            "Epoch 171/300\n",
            "195/195 [==============================] - 1s 5ms/step - loss: 144.7438 - mae: 145.2390 - val_loss: 726.8804 - val_mae: 727.3781 - lr: 1.0000e-04\n",
            "Epoch 172/300\n",
            "195/195 [==============================] - 1s 5ms/step - loss: 141.8685 - mae: 142.3639 - val_loss: 726.3066 - val_mae: 726.8061 - lr: 1.0000e-04\n",
            "Epoch 173/300\n",
            "195/195 [==============================] - 1s 5ms/step - loss: 142.5155 - mae: 143.0112 - val_loss: 734.3141 - val_mae: 734.8134 - lr: 1.0000e-04\n",
            "Epoch 174/300\n",
            "195/195 [==============================] - 1s 5ms/step - loss: 143.8737 - mae: 144.3691 - val_loss: 725.5302 - val_mae: 726.0291 - lr: 1.0000e-04\n",
            "Epoch 175/300\n",
            "195/195 [==============================] - 1s 5ms/step - loss: 140.8361 - mae: 141.3318 - val_loss: 728.0785 - val_mae: 728.5744 - lr: 1.0000e-04\n",
            "Epoch 176/300\n",
            "195/195 [==============================] - 1s 5ms/step - loss: 142.2399 - mae: 142.7351 - val_loss: 723.5383 - val_mae: 724.0370 - lr: 1.0000e-04\n",
            "Epoch 177/300\n",
            "195/195 [==============================] - 1s 5ms/step - loss: 139.7695 - mae: 140.2644 - val_loss: 720.4416 - val_mae: 720.9393 - lr: 1.0000e-04\n",
            "Epoch 178/300\n",
            "195/195 [==============================] - 1s 5ms/step - loss: 144.1687 - mae: 144.6650 - val_loss: 725.9663 - val_mae: 726.4643 - lr: 1.0000e-04\n",
            "Epoch 179/300\n",
            "195/195 [==============================] - 1s 4ms/step - loss: 142.8225 - mae: 143.3185 - val_loss: 735.5287 - val_mae: 736.0287 - lr: 1.0000e-04\n",
            "Epoch 180/300\n",
            "195/195 [==============================] - 1s 4ms/step - loss: 142.1219 - mae: 142.6168 - val_loss: 726.9221 - val_mae: 727.4202 - lr: 1.0000e-04\n",
            "Epoch 181/300\n",
            "195/195 [==============================] - 1s 5ms/step - loss: 145.0291 - mae: 145.5258 - val_loss: 728.2681 - val_mae: 728.7670 - lr: 1.0000e-04\n",
            "Epoch 182/300\n",
            "195/195 [==============================] - 1s 5ms/step - loss: 141.9051 - mae: 142.4004 - val_loss: 723.3464 - val_mae: 723.8447 - lr: 1.0000e-04\n",
            "Epoch 183/300\n",
            "195/195 [==============================] - 1s 4ms/step - loss: 139.9042 - mae: 140.3994 - val_loss: 728.8673 - val_mae: 729.3671 - lr: 1.0000e-04\n",
            "Epoch 184/300\n",
            "195/195 [==============================] - 1s 4ms/step - loss: 142.4551 - mae: 142.9511 - val_loss: 726.5211 - val_mae: 727.0200 - lr: 1.0000e-04\n",
            "Epoch 185/300\n",
            "195/195 [==============================] - 1s 4ms/step - loss: 141.0818 - mae: 141.5773 - val_loss: 725.9822 - val_mae: 726.4811 - lr: 1.0000e-04\n",
            "Epoch 186/300\n",
            "195/195 [==============================] - 1s 5ms/step - loss: 144.2581 - mae: 144.7534 - val_loss: 724.2513 - val_mae: 724.7502 - lr: 1.0000e-04\n",
            "Epoch 187/300\n",
            "195/195 [==============================] - 1s 4ms/step - loss: 144.6381 - mae: 145.1338 - val_loss: 721.3781 - val_mae: 721.8770 - lr: 1.0000e-04\n",
            "Epoch 188/300\n",
            "195/195 [==============================] - 1s 4ms/step - loss: 145.1778 - mae: 145.6741 - val_loss: 734.4968 - val_mae: 734.9942 - lr: 1.0000e-04\n",
            "Epoch 189/300\n",
            "195/195 [==============================] - 1s 5ms/step - loss: 142.3131 - mae: 142.8079 - val_loss: 729.7576 - val_mae: 730.2575 - lr: 1.0000e-04\n",
            "Epoch 190/300\n",
            "195/195 [==============================] - 1s 4ms/step - loss: 138.2309 - mae: 138.7260 - val_loss: 725.5734 - val_mae: 726.0720 - lr: 1.0000e-04\n",
            "Epoch 191/300\n",
            "195/195 [==============================] - 1s 5ms/step - loss: 139.2500 - mae: 139.7450 - val_loss: 732.0212 - val_mae: 732.5193 - lr: 1.0000e-04\n",
            "Epoch 192/300\n",
            "195/195 [==============================] - 1s 5ms/step - loss: 141.7323 - mae: 142.2284 - val_loss: 722.8665 - val_mae: 723.3660 - lr: 1.0000e-04\n",
            "Epoch 193/300\n",
            "195/195 [==============================] - 1s 4ms/step - loss: 138.6536 - mae: 139.1497 - val_loss: 726.7625 - val_mae: 727.2599 - lr: 1.0000e-04\n",
            "Epoch 194/300\n",
            "195/195 [==============================] - 1s 4ms/step - loss: 141.2690 - mae: 141.7641 - val_loss: 735.7194 - val_mae: 736.2179 - lr: 1.0000e-04\n",
            "Epoch 195/300\n",
            "195/195 [==============================] - 1s 4ms/step - loss: 141.3247 - mae: 141.8209 - val_loss: 722.7252 - val_mae: 723.2239 - lr: 1.0000e-04\n",
            "Epoch 196/300\n",
            "195/195 [==============================] - 1s 4ms/step - loss: 141.2675 - mae: 141.7632 - val_loss: 721.5731 - val_mae: 722.0718 - lr: 1.0000e-04\n",
            "Epoch 197/300\n",
            "195/195 [==============================] - 1s 5ms/step - loss: 138.7691 - mae: 139.2640 - val_loss: 727.0690 - val_mae: 727.5643 - lr: 1.0000e-04\n",
            "Epoch 198/300\n",
            "195/195 [==============================] - 1s 5ms/step - loss: 139.6030 - mae: 140.0987 - val_loss: 721.5377 - val_mae: 722.0376 - lr: 1.0000e-04\n",
            "Epoch 199/300\n",
            "195/195 [==============================] - 1s 5ms/step - loss: 138.7188 - mae: 139.2131 - val_loss: 724.7834 - val_mae: 725.2831 - lr: 1.0000e-04\n",
            "Epoch 200/300\n",
            "195/195 [==============================] - 1s 5ms/step - loss: 140.2557 - mae: 140.7515 - val_loss: 726.1291 - val_mae: 726.6291 - lr: 1.0000e-04\n",
            "Epoch 201/300\n",
            "195/195 [==============================] - 1s 5ms/step - loss: 139.0842 - mae: 139.5788 - val_loss: 725.6401 - val_mae: 726.1390 - lr: 1.0000e-04\n",
            "Epoch 202/300\n",
            "195/195 [==============================] - 1s 4ms/step - loss: 140.2061 - mae: 140.7014 - val_loss: 730.3475 - val_mae: 730.8461 - lr: 1.0000e-04\n",
            "Epoch 203/300\n",
            "195/195 [==============================] - 1s 5ms/step - loss: 138.0502 - mae: 138.5453 - val_loss: 725.7195 - val_mae: 726.2171 - lr: 1.0000e-04\n",
            "Epoch 204/300\n",
            "195/195 [==============================] - 1s 5ms/step - loss: 137.9298 - mae: 138.4256 - val_loss: 726.4346 - val_mae: 726.9335 - lr: 1.0000e-04\n",
            "Epoch 205/300\n",
            "195/195 [==============================] - 1s 5ms/step - loss: 136.4147 - mae: 136.9094 - val_loss: 724.2020 - val_mae: 724.7012 - lr: 1.0000e-04\n",
            "Epoch 206/300\n",
            "195/195 [==============================] - 1s 5ms/step - loss: 138.6436 - mae: 139.1391 - val_loss: 724.5213 - val_mae: 725.0200 - lr: 1.0000e-04\n",
            "Epoch 207/300\n",
            "188/195 [===========================>..] - ETA: 0s - loss: 141.0051 - mae: 141.5017Restoring model weights from the end of the best epoch: 177.\n",
            "195/195 [==============================] - 1s 5ms/step - loss: 139.1282 - mae: 139.6248 - val_loss: 727.9586 - val_mae: 728.4561 - lr: 1.0000e-04\n",
            "Epoch 207: early stopping\n"
          ]
        }
      ]
    },
    {
      "cell_type": "code",
      "source": [
        "pd.DataFrame(history.history).plot(figsize=(10, 7))\n",
        "plt.grid(True)\n",
        "plt.show()"
      ],
      "metadata": {
        "colab": {
          "base_uri": "https://localhost:8080/",
          "height": 428
        },
        "id": "P4CCymPgzoNH",
        "outputId": "376021e8-ba6b-455d-a6cd-671b399d0217"
      },
      "execution_count": 52,
      "outputs": [
        {
          "output_type": "display_data",
          "data": {
            "text/plain": [
              "<Figure size 720x504 with 1 Axes>"
            ],
            "image/png": "[encoded data removed]"
          },
          "metadata": {
            "needs_background": "light"
          }
        }
      ]
    },
    {
      "cell_type": "code",
      "source": [
        "scores = model.evaluate(X_test, y_test)"
      ],
      "metadata": {
        "colab": {
          "base_uri": "https://localhost:8080/"
        },
        "id": "LOYayY7H0XTP",
        "outputId": "4c0aaa15-f79c-4c8f-b1ec-4a4fd2f5519a"
      },
      "execution_count": 53,
      "outputs": [
        {
          "output_type": "stream",
          "name": "stdout",
          "text": [
            "55/55 [==============================] - 0s 2ms/step - loss: 833.6248 - mae: 834.1235\n"
          ]
        }
      ]
    },
    {
      "cell_type": "code",
      "source": [
        "preds = model.predict(X_test, verbose=1)"
      ],
      "metadata": {
        "colab": {
          "base_uri": "https://localhost:8080/"
        },
        "id": "FJIpkBZg6T-D",
        "outputId": "ed22f3c8-5b79-4da2-da83-e4807576cd7b"
      },
      "execution_count": 54,
      "outputs": [
        {
          "output_type": "stream",
          "name": "stdout",
          "text": [
            "55/55 [==============================] - 0s 2ms/step\n"
          ]
        }
      ]
    },
    {
      "cell_type": "code",
      "source": [
        "from scipy import stats"
      ],
      "metadata": {
        "id": "tczk9B-N6WLu"
      },
      "execution_count": 55,
      "outputs": []
    },
    {
      "cell_type": "code",
      "source": [
        "confidence = 0.95\n",
        "\n",
        "abs_errors = abs(preds.flatten() - y_test.to_numpy().flatten())\n",
        "stats.t.interval(confidence, len(abs_errors)-1, \n",
        "                         loc=abs_errors.mean(), \n",
        "                         scale=stats.sem(abs_errors))"
      ],
      "metadata": {
        "colab": {
          "base_uri": "https://localhost:8080/"
        },
        "id": "EXiGUnWP6YUu",
        "outputId": "66981404-6d34-4b33-a099-b9673b9df59f"
      },
      "execution_count": 56,
      "outputs": [
        {
          "output_type": "execute_result",
          "data": {
            "text/plain": [
              "(721.7911626262352, 946.455683878925)"
            ]
          },
          "metadata": {},
          "execution_count": 56
        }
      ]
    },
    {
      "cell_type": "code",
      "source": [
        "# (760.9934827739783, 985.9652368447048)"
      ],
      "metadata": {
        "id": "2AN0mAx_CiaT"
      },
      "execution_count": 57,
      "outputs": []
    },
    {
      "cell_type": "code",
      "source": [
        "model.save(\"manhattan_model.h5\")"
      ],
      "metadata": {
        "id": "O1EocXxa6r0p"
      },
      "execution_count": 58,
      "outputs": []
    },
    {
      "cell_type": "code",
      "source": [
        "# /content/drive/MyDrive/Boro_DFs/\n",
        "model.save(\"/content/drive/MyDrive/Boro_DFs/manhattan_model.h5\")"
      ],
      "metadata": {
        "id": "yBEwI7ai60uc"
      },
      "execution_count": 60,
      "outputs": []
    }
  ]
}