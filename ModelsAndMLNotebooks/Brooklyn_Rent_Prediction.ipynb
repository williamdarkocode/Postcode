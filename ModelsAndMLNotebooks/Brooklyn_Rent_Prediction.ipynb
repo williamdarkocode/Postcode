{
  "nbformat": 4,
  "nbformat_minor": 0,
  "metadata": {
    "colab": {
      "name": "Brooklyn_Rent_Prediction",
      "provenance": [],
      "collapsed_sections": [],
      "machine_shape": "hm"
    },
    "kernelspec": {
      "name": "python3",
      "display_name": "Python 3"
    },
    "language_info": {
      "name": "python"
    },
    "accelerator": "GPU"
  },
  "cells": [
    {
      "cell_type": "code",
      "execution_count": 1,
      "metadata": {
        "id": "IHq6vEX0JQh5"
      },
      "outputs": [],
      "source": [
        "import matplotlib.pyplot as plt\n",
        "import pandas as pd\n",
        "import numpy as np\n",
        "import tarfile\n",
        "import math\n",
        "\n",
        "from tensorflow import keras\n",
        "from keras import models\n",
        "from keras import layers\n",
        "from keras.callbacks import EarlyStopping\n",
        "\n",
        "\n",
        "from sklearn.model_selection import train_test_split\n",
        "from sklearn.impute import SimpleImputer\n",
        "from sklearn.preprocessing import MinMaxScaler\n",
        "from sklearn.preprocessing import OneHotEncoder"
      ]
    },
    {
      "cell_type": "code",
      "source": [
        "from keras.callbacks import ReduceLROnPlateau"
      ],
      "metadata": {
        "id": "sUCC2O8M_uM_"
      },
      "execution_count": 2,
      "outputs": []
    },
    {
      "cell_type": "code",
      "source": [
        "from keras.layers import AlphaDropout"
      ],
      "metadata": {
        "id": "cmOS0O_W_v3E"
      },
      "execution_count": 3,
      "outputs": []
    },
    {
      "cell_type": "code",
      "source": [
        "from google.colab import drive\n",
        "drive.mount('/content/drive/')"
      ],
      "metadata": {
        "colab": {
          "base_uri": "https://localhost:8080/"
        },
        "id": "LznBSqDlpFQe",
        "outputId": "98c16ed3-7e15-4237-c80f-51acddaacd98"
      },
      "execution_count": 4,
      "outputs": [
        {
          "output_type": "stream",
          "name": "stdout",
          "text": [
            "Mounted at /content/drive/\n"
          ]
        }
      ]
    },
    {
      "cell_type": "code",
      "source": [
        "from numpy.random import seed\n",
        "seed(15)\n",
        "\n",
        "from tensorflow.random import set_seed\n",
        "set_seed(15)"
      ],
      "metadata": {
        "id": "F82b9igNpD4a"
      },
      "execution_count": 5,
      "outputs": []
    },
    {
      "cell_type": "code",
      "source": [
        "brooklyn_csv = '/content/drive/MyDrive/Boro_DFs/bklyn_df.csv'"
      ],
      "metadata": {
        "id": "It23BQMkpZrO"
      },
      "execution_count": 6,
      "outputs": []
    },
    {
      "cell_type": "code",
      "source": [
        "brooklyn_df = pd.DataFrame(pd.read_csv(brooklyn_csv))"
      ],
      "metadata": {
        "id": "cGPCANEIppM-"
      },
      "execution_count": 7,
      "outputs": []
    },
    {
      "cell_type": "code",
      "source": [
        "brooklyn_df.head()"
      ],
      "metadata": {
        "colab": {
          "base_uri": "https://localhost:8080/",
          "height": 302
        },
        "id": "nn32hx06p1M7",
        "outputId": "bd057e46-a49d-49d5-a8f0-1d153db66937"
      },
      "execution_count": 8,
      "outputs": [
        {
          "output_type": "execute_result",
          "data": {
            "text/plain": [
              "    Borough                                              Area  \\\n",
              "0  brooklyn                         Prospect Lefferts Gardens   \n",
              "1  brooklyn                                      Williamsburg   \n",
              "2  brooklyn                                       Bensonhurst   \n",
              "3  brooklyn  DUMBO-Vinegar Hill-Downtown Brooklyn-Boerum Hill   \n",
              "4  brooklyn                                     East Flatbush   \n",
              "\n",
              "               Address  Num_Beds  Num_Baths    Sq-Ft    Rent       Long  \\\n",
              "0  620 Parkside Avenue       3.0        1.0  1067.73  3100.0 -73.952639   \n",
              "1        1 N 4th Place       1.0        1.0   600.00  4597.0 -74.000048   \n",
              "2     1651 84th Street       2.0        1.0   600.00  1650.0 -74.004634   \n",
              "3     181 Front Street       2.0        2.0  1290.54  6496.0 -73.985988   \n",
              "4  3420 Clarendon Road       1.0        1.0   624.88  1600.0 -73.944233   \n",
              "\n",
              "         Lat  ZipCode  Precinct  CrimeTotalPastYear Train_Line  Dist_To_Line  \\\n",
              "0  40.656024  11226.0      71.0               954.0          2      0.002519   \n",
              "1  40.678412  11231.0      76.0               406.0          F      0.003447   \n",
              "2  40.610703  11214.0      62.0              1179.0          D      0.003225   \n",
              "3  40.702526  11201.0      84.0              1063.0          F      0.001683   \n",
              "4  40.643375  11203.0      67.0              1832.0          5      0.004833   \n",
              "\n",
              "   Dist_To_Station  Dist_To_Entrance  \n",
              "0         0.002638          0.002298  \n",
              "1         0.005430          0.004440  \n",
              "2         0.004249          0.004048  \n",
              "3         0.002925          0.001326  \n",
              "4         0.004935          0.004754  "
            ],
            "text/html": [
              "\n",
              "  <div id=\"df-28e1bb4b-b92a-4ce3-bff0-a1bdcfed3753\">\n",
              "    <div class=\"colab-df-container\">\n",
              "      <div>\n",
              "<style scoped>\n",
              "    .dataframe tbody tr th:only-of-type {\n",
              "        vertical-align: middle;\n",
              "    }\n",
              "\n",
              "    .dataframe tbody tr th {\n",
              "        vertical-align: top;\n",
              "    }\n",
              "\n",
              "    .dataframe thead th {\n",
              "        text-align: right;\n",
              "    }\n",
              "</style>\n",
              "<table border=\"1\" class=\"dataframe\">\n",
              "  <thead>\n",
              "    <tr style=\"text-align: right;\">\n",
              "      <th></th>\n",
              "      <th>Borough</th>\n",
              "      <th>Area</th>\n",
              "      <th>Address</th>\n",
              "      <th>Num_Beds</th>\n",
              "      <th>Num_Baths</th>\n",
              "      <th>Sq-Ft</th>\n",
              "      <th>Rent</th>\n",
              "      <th>Long</th>\n",
              "      <th>Lat</th>\n",
              "      <th>ZipCode</th>\n",
              "      <th>Precinct</th>\n",
              "      <th>CrimeTotalPastYear</th>\n",
              "      <th>Train_Line</th>\n",
              "      <th>Dist_To_Line</th>\n",
              "      <th>Dist_To_Station</th>\n",
              "      <th>Dist_To_Entrance</th>\n",
              "    </tr>\n",
              "  </thead>\n",
              "  <tbody>\n",
              "    <tr>\n",
              "      <th>0</th>\n",
              "      <td>brooklyn</td>\n",
              "      <td>Prospect Lefferts Gardens</td>\n",
              "      <td>620 Parkside Avenue</td>\n",
              "      <td>3.0</td>\n",
              "      <td>1.0</td>\n",
              "      <td>1067.73</td>\n",
              "      <td>3100.0</td>\n",
              "      <td>-73.952639</td>\n",
              "      <td>40.656024</td>\n",
              "      <td>11226.0</td>\n",
              "      <td>71.0</td>\n",
              "      <td>954.0</td>\n",
              "      <td>2</td>\n",
              "      <td>0.002519</td>\n",
              "      <td>0.002638</td>\n",
              "      <td>0.002298</td>\n",
              "    </tr>\n",
              "    <tr>\n",
              "      <th>1</th>\n",
              "      <td>brooklyn</td>\n",
              "      <td>Williamsburg</td>\n",
              "      <td>1 N 4th Place</td>\n",
              "      <td>1.0</td>\n",
              "      <td>1.0</td>\n",
              "      <td>600.00</td>\n",
              "      <td>4597.0</td>\n",
              "      <td>-74.000048</td>\n",
              "      <td>40.678412</td>\n",
              "      <td>11231.0</td>\n",
              "      <td>76.0</td>\n",
              "      <td>406.0</td>\n",
              "      <td>F</td>\n",
              "      <td>0.003447</td>\n",
              "      <td>0.005430</td>\n",
              "      <td>0.004440</td>\n",
              "    </tr>\n",
              "    <tr>\n",
              "      <th>2</th>\n",
              "      <td>brooklyn</td>\n",
              "      <td>Bensonhurst</td>\n",
              "      <td>1651 84th Street</td>\n",
              "      <td>2.0</td>\n",
              "      <td>1.0</td>\n",
              "      <td>600.00</td>\n",
              "      <td>1650.0</td>\n",
              "      <td>-74.004634</td>\n",
              "      <td>40.610703</td>\n",
              "      <td>11214.0</td>\n",
              "      <td>62.0</td>\n",
              "      <td>1179.0</td>\n",
              "      <td>D</td>\n",
              "      <td>0.003225</td>\n",
              "      <td>0.004249</td>\n",
              "      <td>0.004048</td>\n",
              "    </tr>\n",
              "    <tr>\n",
              "      <th>3</th>\n",
              "      <td>brooklyn</td>\n",
              "      <td>DUMBO-Vinegar Hill-Downtown Brooklyn-Boerum Hill</td>\n",
              "      <td>181 Front Street</td>\n",
              "      <td>2.0</td>\n",
              "      <td>2.0</td>\n",
              "      <td>1290.54</td>\n",
              "      <td>6496.0</td>\n",
              "      <td>-73.985988</td>\n",
              "      <td>40.702526</td>\n",
              "      <td>11201.0</td>\n",
              "      <td>84.0</td>\n",
              "      <td>1063.0</td>\n",
              "      <td>F</td>\n",
              "      <td>0.001683</td>\n",
              "      <td>0.002925</td>\n",
              "      <td>0.001326</td>\n",
              "    </tr>\n",
              "    <tr>\n",
              "      <th>4</th>\n",
              "      <td>brooklyn</td>\n",
              "      <td>East Flatbush</td>\n",
              "      <td>3420 Clarendon Road</td>\n",
              "      <td>1.0</td>\n",
              "      <td>1.0</td>\n",
              "      <td>624.88</td>\n",
              "      <td>1600.0</td>\n",
              "      <td>-73.944233</td>\n",
              "      <td>40.643375</td>\n",
              "      <td>11203.0</td>\n",
              "      <td>67.0</td>\n",
              "      <td>1832.0</td>\n",
              "      <td>5</td>\n",
              "      <td>0.004833</td>\n",
              "      <td>0.004935</td>\n",
              "      <td>0.004754</td>\n",
              "    </tr>\n",
              "  </tbody>\n",
              "</table>\n",
              "</div>\n",
              "      <button class=\"colab-df-convert\" onclick=\"convertToInteractive('df-28e1bb4b-b92a-4ce3-bff0-a1bdcfed3753')\"\n",
              "              title=\"Convert this dataframe to an interactive table.\"\n",
              "              style=\"display:none;\">\n",
              "        \n",
              "  <svg xmlns=\"http://www.w3.org/2000/svg\" height=\"24px\"viewBox=\"0 0 24 24\"\n",
              "       width=\"24px\">\n",
              "    <path d=\"M0 0h24v24H0V0z\" fill=\"none\"/>\n",
              "    <path d=\"M18.56 5.44l.94 2.06.94-2.06 2.06-.94-2.06-.94-.94-2.06-.94 2.06-2.06.94zm-11 1L8.5 8.5l.94-2.06 2.06-.94-2.06-.94L8.5 2.5l-.94 2.06-2.06.94zm10 10l.94 2.06.94-2.06 2.06-.94-2.06-.94-.94-2.06-.94 2.06-2.06.94z\"/><path d=\"M17.41 7.96l-1.37-1.37c-.4-.4-.92-.59-1.43-.59-.52 0-1.04.2-1.43.59L10.3 9.45l-7.72 7.72c-.78.78-.78 2.05 0 2.83L4 21.41c.39.39.9.59 1.41.59.51 0 1.02-.2 1.41-.59l7.78-7.78 2.81-2.81c.8-.78.8-2.07 0-2.86zM5.41 20L4 18.59l7.72-7.72 1.47 1.35L5.41 20z\"/>\n",
              "  </svg>\n",
              "      </button>\n",
              "      \n",
              "  <style>\n",
              "    .colab-df-container {\n",
              "      display:flex;\n",
              "      flex-wrap:wrap;\n",
              "      gap: 12px;\n",
              "    }\n",
              "\n",
              "    .colab-df-convert {\n",
              "      background-color: #E8F0FE;\n",
              "      border: none;\n",
              "      border-radius: 50%;\n",
              "      cursor: pointer;\n",
              "      display: none;\n",
              "      fill: #1967D2;\n",
              "      height: 32px;\n",
              "      padding: 0 0 0 0;\n",
              "      width: 32px;\n",
              "    }\n",
              "\n",
              "    .colab-df-convert:hover {\n",
              "      background-color: #E2EBFA;\n",
              "      box-shadow: 0px 1px 2px rgba(60, 64, 67, 0.3), 0px 1px 3px 1px rgba(60, 64, 67, 0.15);\n",
              "      fill: #174EA6;\n",
              "    }\n",
              "\n",
              "    [theme=dark] .colab-df-convert {\n",
              "      background-color: #3B4455;\n",
              "      fill: #D2E3FC;\n",
              "    }\n",
              "\n",
              "    [theme=dark] .colab-df-convert:hover {\n",
              "      background-color: #434B5C;\n",
              "      box-shadow: 0px 1px 3px 1px rgba(0, 0, 0, 0.15);\n",
              "      filter: drop-shadow(0px 1px 2px rgba(0, 0, 0, 0.3));\n",
              "      fill: #FFFFFF;\n",
              "    }\n",
              "  </style>\n",
              "\n",
              "      <script>\n",
              "        const buttonEl =\n",
              "          document.querySelector('#df-28e1bb4b-b92a-4ce3-bff0-a1bdcfed3753 button.colab-df-convert');\n",
              "        buttonEl.style.display =\n",
              "          google.colab.kernel.accessAllowed ? 'block' : 'none';\n",
              "\n",
              "        async function convertToInteractive(key) {\n",
              "          const element = document.querySelector('#df-28e1bb4b-b92a-4ce3-bff0-a1bdcfed3753');\n",
              "          const dataTable =\n",
              "            await google.colab.kernel.invokeFunction('convertToInteractive',\n",
              "                                                     [key], {});\n",
              "          if (!dataTable) return;\n",
              "\n",
              "          const docLinkHtml = 'Like what you see? Visit the ' +\n",
              "            '<a target=\"_blank\" href=https://colab.research.google.com/notebooks/data_table.ipynb>data table notebook</a>'\n",
              "            + ' to learn more about interactive tables.';\n",
              "          element.innerHTML = '';\n",
              "          dataTable['output_type'] = 'display_data';\n",
              "          await google.colab.output.renderOutput(dataTable, element);\n",
              "          const docLink = document.createElement('div');\n",
              "          docLink.innerHTML = docLinkHtml;\n",
              "          element.appendChild(docLink);\n",
              "        }\n",
              "      </script>\n",
              "    </div>\n",
              "  </div>\n",
              "  "
            ]
          },
          "metadata": {},
          "execution_count": 8
        }
      ]
    },
    {
      "cell_type": "code",
      "source": [
        "y = brooklyn_df[['Rent']]"
      ],
      "metadata": {
        "id": "nDuMfPUQqMH2"
      },
      "execution_count": 9,
      "outputs": []
    },
    {
      "cell_type": "code",
      "source": [
        "X = brooklyn_df.drop(['Borough', 'Rent'], axis=1)\n",
        "X.head()"
      ],
      "metadata": {
        "colab": {
          "base_uri": "https://localhost:8080/",
          "height": 206
        },
        "id": "xhlAi-gSqUtm",
        "outputId": "e3864dbe-62d6-4eab-8967-08c5077084df"
      },
      "execution_count": 10,
      "outputs": [
        {
          "output_type": "execute_result",
          "data": {
            "text/plain": [
              "                                               Area              Address  \\\n",
              "0                         Prospect Lefferts Gardens  620 Parkside Avenue   \n",
              "1                                      Williamsburg        1 N 4th Place   \n",
              "2                                       Bensonhurst     1651 84th Street   \n",
              "3  DUMBO-Vinegar Hill-Downtown Brooklyn-Boerum Hill     181 Front Street   \n",
              "4                                     East Flatbush  3420 Clarendon Road   \n",
              "\n",
              "   Num_Beds  Num_Baths    Sq-Ft       Long        Lat  ZipCode  Precinct  \\\n",
              "0       3.0        1.0  1067.73 -73.952639  40.656024  11226.0      71.0   \n",
              "1       1.0        1.0   600.00 -74.000048  40.678412  11231.0      76.0   \n",
              "2       2.0        1.0   600.00 -74.004634  40.610703  11214.0      62.0   \n",
              "3       2.0        2.0  1290.54 -73.985988  40.702526  11201.0      84.0   \n",
              "4       1.0        1.0   624.88 -73.944233  40.643375  11203.0      67.0   \n",
              "\n",
              "   CrimeTotalPastYear Train_Line  Dist_To_Line  Dist_To_Station  \\\n",
              "0               954.0          2      0.002519         0.002638   \n",
              "1               406.0          F      0.003447         0.005430   \n",
              "2              1179.0          D      0.003225         0.004249   \n",
              "3              1063.0          F      0.001683         0.002925   \n",
              "4              1832.0          5      0.004833         0.004935   \n",
              "\n",
              "   Dist_To_Entrance  \n",
              "0          0.002298  \n",
              "1          0.004440  \n",
              "2          0.004048  \n",
              "3          0.001326  \n",
              "4          0.004754  "
            ],
            "text/html": [
              "\n",
              "  <div id=\"df-05b2994c-02f3-4cda-a8ed-22e3f0cb7219\">\n",
              "    <div class=\"colab-df-container\">\n",
              "      <div>\n",
              "<style scoped>\n",
              "    .dataframe tbody tr th:only-of-type {\n",
              "        vertical-align: middle;\n",
              "    }\n",
              "\n",
              "    .dataframe tbody tr th {\n",
              "        vertical-align: top;\n",
              "    }\n",
              "\n",
              "    .dataframe thead th {\n",
              "        text-align: right;\n",
              "    }\n",
              "</style>\n",
              "<table border=\"1\" class=\"dataframe\">\n",
              "  <thead>\n",
              "    <tr style=\"text-align: right;\">\n",
              "      <th></th>\n",
              "      <th>Area</th>\n",
              "      <th>Address</th>\n",
              "      <th>Num_Beds</th>\n",
              "      <th>Num_Baths</th>\n",
              "      <th>Sq-Ft</th>\n",
              "      <th>Long</th>\n",
              "      <th>Lat</th>\n",
              "      <th>ZipCode</th>\n",
              "      <th>Precinct</th>\n",
              "      <th>CrimeTotalPastYear</th>\n",
              "      <th>Train_Line</th>\n",
              "      <th>Dist_To_Line</th>\n",
              "      <th>Dist_To_Station</th>\n",
              "      <th>Dist_To_Entrance</th>\n",
              "    </tr>\n",
              "  </thead>\n",
              "  <tbody>\n",
              "    <tr>\n",
              "      <th>0</th>\n",
              "      <td>Prospect Lefferts Gardens</td>\n",
              "      <td>620 Parkside Avenue</td>\n",
              "      <td>3.0</td>\n",
              "      <td>1.0</td>\n",
              "      <td>1067.73</td>\n",
              "      <td>-73.952639</td>\n",
              "      <td>40.656024</td>\n",
              "      <td>11226.0</td>\n",
              "      <td>71.0</td>\n",
              "      <td>954.0</td>\n",
              "      <td>2</td>\n",
              "      <td>0.002519</td>\n",
              "      <td>0.002638</td>\n",
              "      <td>0.002298</td>\n",
              "    </tr>\n",
              "    <tr>\n",
              "      <th>1</th>\n",
              "      <td>Williamsburg</td>\n",
              "      <td>1 N 4th Place</td>\n",
              "      <td>1.0</td>\n",
              "      <td>1.0</td>\n",
              "      <td>600.00</td>\n",
              "      <td>-74.000048</td>\n",
              "      <td>40.678412</td>\n",
              "      <td>11231.0</td>\n",
              "      <td>76.0</td>\n",
              "      <td>406.0</td>\n",
              "      <td>F</td>\n",
              "      <td>0.003447</td>\n",
              "      <td>0.005430</td>\n",
              "      <td>0.004440</td>\n",
              "    </tr>\n",
              "    <tr>\n",
              "      <th>2</th>\n",
              "      <td>Bensonhurst</td>\n",
              "      <td>1651 84th Street</td>\n",
              "      <td>2.0</td>\n",
              "      <td>1.0</td>\n",
              "      <td>600.00</td>\n",
              "      <td>-74.004634</td>\n",
              "      <td>40.610703</td>\n",
              "      <td>11214.0</td>\n",
              "      <td>62.0</td>\n",
              "      <td>1179.0</td>\n",
              "      <td>D</td>\n",
              "      <td>0.003225</td>\n",
              "      <td>0.004249</td>\n",
              "      <td>0.004048</td>\n",
              "    </tr>\n",
              "    <tr>\n",
              "      <th>3</th>\n",
              "      <td>DUMBO-Vinegar Hill-Downtown Brooklyn-Boerum Hill</td>\n",
              "      <td>181 Front Street</td>\n",
              "      <td>2.0</td>\n",
              "      <td>2.0</td>\n",
              "      <td>1290.54</td>\n",
              "      <td>-73.985988</td>\n",
              "      <td>40.702526</td>\n",
              "      <td>11201.0</td>\n",
              "      <td>84.0</td>\n",
              "      <td>1063.0</td>\n",
              "      <td>F</td>\n",
              "      <td>0.001683</td>\n",
              "      <td>0.002925</td>\n",
              "      <td>0.001326</td>\n",
              "    </tr>\n",
              "    <tr>\n",
              "      <th>4</th>\n",
              "      <td>East Flatbush</td>\n",
              "      <td>3420 Clarendon Road</td>\n",
              "      <td>1.0</td>\n",
              "      <td>1.0</td>\n",
              "      <td>624.88</td>\n",
              "      <td>-73.944233</td>\n",
              "      <td>40.643375</td>\n",
              "      <td>11203.0</td>\n",
              "      <td>67.0</td>\n",
              "      <td>1832.0</td>\n",
              "      <td>5</td>\n",
              "      <td>0.004833</td>\n",
              "      <td>0.004935</td>\n",
              "      <td>0.004754</td>\n",
              "    </tr>\n",
              "  </tbody>\n",
              "</table>\n",
              "</div>\n",
              "      <button class=\"colab-df-convert\" onclick=\"convertToInteractive('df-05b2994c-02f3-4cda-a8ed-22e3f0cb7219')\"\n",
              "              title=\"Convert this dataframe to an interactive table.\"\n",
              "              style=\"display:none;\">\n",
              "        \n",
              "  <svg xmlns=\"http://www.w3.org/2000/svg\" height=\"24px\"viewBox=\"0 0 24 24\"\n",
              "       width=\"24px\">\n",
              "    <path d=\"M0 0h24v24H0V0z\" fill=\"none\"/>\n",
              "    <path d=\"M18.56 5.44l.94 2.06.94-2.06 2.06-.94-2.06-.94-.94-2.06-.94 2.06-2.06.94zm-11 1L8.5 8.5l.94-2.06 2.06-.94-2.06-.94L8.5 2.5l-.94 2.06-2.06.94zm10 10l.94 2.06.94-2.06 2.06-.94-2.06-.94-.94-2.06-.94 2.06-2.06.94z\"/><path d=\"M17.41 7.96l-1.37-1.37c-.4-.4-.92-.59-1.43-.59-.52 0-1.04.2-1.43.59L10.3 9.45l-7.72 7.72c-.78.78-.78 2.05 0 2.83L4 21.41c.39.39.9.59 1.41.59.51 0 1.02-.2 1.41-.59l7.78-7.78 2.81-2.81c.8-.78.8-2.07 0-2.86zM5.41 20L4 18.59l7.72-7.72 1.47 1.35L5.41 20z\"/>\n",
              "  </svg>\n",
              "      </button>\n",
              "      \n",
              "  <style>\n",
              "    .colab-df-container {\n",
              "      display:flex;\n",
              "      flex-wrap:wrap;\n",
              "      gap: 12px;\n",
              "    }\n",
              "\n",
              "    .colab-df-convert {\n",
              "      background-color: #E8F0FE;\n",
              "      border: none;\n",
              "      border-radius: 50%;\n",
              "      cursor: pointer;\n",
              "      display: none;\n",
              "      fill: #1967D2;\n",
              "      height: 32px;\n",
              "      padding: 0 0 0 0;\n",
              "      width: 32px;\n",
              "    }\n",
              "\n",
              "    .colab-df-convert:hover {\n",
              "      background-color: #E2EBFA;\n",
              "      box-shadow: 0px 1px 2px rgba(60, 64, 67, 0.3), 0px 1px 3px 1px rgba(60, 64, 67, 0.15);\n",
              "      fill: #174EA6;\n",
              "    }\n",
              "\n",
              "    [theme=dark] .colab-df-convert {\n",
              "      background-color: #3B4455;\n",
              "      fill: #D2E3FC;\n",
              "    }\n",
              "\n",
              "    [theme=dark] .colab-df-convert:hover {\n",
              "      background-color: #434B5C;\n",
              "      box-shadow: 0px 1px 3px 1px rgba(0, 0, 0, 0.15);\n",
              "      filter: drop-shadow(0px 1px 2px rgba(0, 0, 0, 0.3));\n",
              "      fill: #FFFFFF;\n",
              "    }\n",
              "  </style>\n",
              "\n",
              "      <script>\n",
              "        const buttonEl =\n",
              "          document.querySelector('#df-05b2994c-02f3-4cda-a8ed-22e3f0cb7219 button.colab-df-convert');\n",
              "        buttonEl.style.display =\n",
              "          google.colab.kernel.accessAllowed ? 'block' : 'none';\n",
              "\n",
              "        async function convertToInteractive(key) {\n",
              "          const element = document.querySelector('#df-05b2994c-02f3-4cda-a8ed-22e3f0cb7219');\n",
              "          const dataTable =\n",
              "            await google.colab.kernel.invokeFunction('convertToInteractive',\n",
              "                                                     [key], {});\n",
              "          if (!dataTable) return;\n",
              "\n",
              "          const docLinkHtml = 'Like what you see? Visit the ' +\n",
              "            '<a target=\"_blank\" href=https://colab.research.google.com/notebooks/data_table.ipynb>data table notebook</a>'\n",
              "            + ' to learn more about interactive tables.';\n",
              "          element.innerHTML = '';\n",
              "          dataTable['output_type'] = 'display_data';\n",
              "          await google.colab.output.renderOutput(dataTable, element);\n",
              "          const docLink = document.createElement('div');\n",
              "          docLink.innerHTML = docLinkHtml;\n",
              "          element.appendChild(docLink);\n",
              "        }\n",
              "      </script>\n",
              "    </div>\n",
              "  </div>\n",
              "  "
            ]
          },
          "metadata": {},
          "execution_count": 10
        }
      ]
    },
    {
      "cell_type": "code",
      "source": [
        "X = pd.get_dummies(X, columns=['Area', 'Address', 'ZipCode', 'Precinct', 'Train_Line'])"
      ],
      "metadata": {
        "id": "4P1BFCNV4NK4"
      },
      "execution_count": 11,
      "outputs": []
    },
    {
      "cell_type": "code",
      "source": [
        "X_train, X_test, y_train, y_test = train_test_split(X, y, test_size=0.2, random_state=42) "
      ],
      "metadata": {
        "id": "PGBo1zfvsq38"
      },
      "execution_count": 12,
      "outputs": []
    },
    {
      "cell_type": "code",
      "source": [
        "numeric_cols = ['Num_Beds', 'Num_Baths', 'Sq-Ft', 'Long', 'Lat', 'CrimeTotalPastYear', 'Dist_To_Line', 'Dist_To_Station', 'Dist_To_Entrance']"
      ],
      "metadata": {
        "id": "uQhhxKkD4efw"
      },
      "execution_count": 13,
      "outputs": []
    },
    {
      "cell_type": "code",
      "source": [
        "X_train_num = X_train[numeric_cols]"
      ],
      "metadata": {
        "id": "I4uVOTx2tGNS"
      },
      "execution_count": 14,
      "outputs": []
    },
    {
      "cell_type": "code",
      "source": [
        "X_test_num = X_test[numeric_cols]"
      ],
      "metadata": {
        "id": "z5-Af9EKtmY2"
      },
      "execution_count": 15,
      "outputs": []
    },
    {
      "cell_type": "code",
      "source": [
        "print(X_train_num.shape)\n",
        "print(X_test_num.shape)"
      ],
      "metadata": {
        "colab": {
          "base_uri": "https://localhost:8080/"
        },
        "id": "Vdgob14o5HKD",
        "outputId": "5573cbc1-29c8-4eba-98ae-b77475f5752e"
      },
      "execution_count": 16,
      "outputs": [
        {
          "output_type": "stream",
          "name": "stdout",
          "text": [
            "(4150, 9)\n",
            "(1038, 9)\n"
          ]
        }
      ]
    },
    {
      "cell_type": "code",
      "source": [
        "scaler = MinMaxScaler()"
      ],
      "metadata": {
        "id": "p9RNRLAbtwBQ"
      },
      "execution_count": 17,
      "outputs": []
    },
    {
      "cell_type": "code",
      "source": [
        "X_train_num = scaler.fit_transform(X_train_num)"
      ],
      "metadata": {
        "id": "7PtlLZ1Ct1q8"
      },
      "execution_count": 18,
      "outputs": []
    },
    {
      "cell_type": "code",
      "source": [
        "X_train_num.shape"
      ],
      "metadata": {
        "colab": {
          "base_uri": "https://localhost:8080/"
        },
        "id": "UOd7oCyH2aUQ",
        "outputId": "c9fc4d91-8367-4aa8-c811-98327c37923f"
      },
      "execution_count": 19,
      "outputs": [
        {
          "output_type": "execute_result",
          "data": {
            "text/plain": [
              "(4150, 9)"
            ]
          },
          "metadata": {},
          "execution_count": 19
        }
      ]
    },
    {
      "cell_type": "code",
      "source": [
        "X_test_num = scaler.transform(X_test_num)"
      ],
      "metadata": {
        "id": "P71FdUJ0uBwi"
      },
      "execution_count": 20,
      "outputs": []
    },
    {
      "cell_type": "code",
      "source": [
        "X_test_num.shape"
      ],
      "metadata": {
        "colab": {
          "base_uri": "https://localhost:8080/"
        },
        "id": "ReDQGS852Xdb",
        "outputId": "124b3a29-ee98-4fb5-f081-ade0abcacbc7"
      },
      "execution_count": 21,
      "outputs": [
        {
          "output_type": "execute_result",
          "data": {
            "text/plain": [
              "(1038, 9)"
            ]
          },
          "metadata": {},
          "execution_count": 21
        }
      ]
    },
    {
      "cell_type": "code",
      "source": [
        "X_train_onehots = X_train.drop(numeric_cols, axis=1)\n",
        "X_test_onehots = X_test.drop(numeric_cols, axis=1)"
      ],
      "metadata": {
        "id": "FdZcJP0QuIVM"
      },
      "execution_count": 22,
      "outputs": []
    },
    {
      "cell_type": "code",
      "source": [
        "X_train_onehots.shape"
      ],
      "metadata": {
        "colab": {
          "base_uri": "https://localhost:8080/"
        },
        "id": "z6g_xtgK15Je",
        "outputId": "1ae1f68f-2166-404e-a3cb-039c643a945a"
      },
      "execution_count": 23,
      "outputs": [
        {
          "output_type": "execute_result",
          "data": {
            "text/plain": [
              "(4150, 3052)"
            ]
          },
          "metadata": {},
          "execution_count": 23
        }
      ]
    },
    {
      "cell_type": "code",
      "source": [
        "X_test_onehots.shape"
      ],
      "metadata": {
        "colab": {
          "base_uri": "https://localhost:8080/"
        },
        "id": "kqRZuLf917vt",
        "outputId": "568ea520-be45-4bf1-d74c-650f27b97e7a"
      },
      "execution_count": 24,
      "outputs": [
        {
          "output_type": "execute_result",
          "data": {
            "text/plain": [
              "(1038, 3052)"
            ]
          },
          "metadata": {},
          "execution_count": 24
        }
      ]
    },
    {
      "cell_type": "code",
      "source": [
        "X_train = np.concatenate((X_train_num, X_train_onehots), axis=1)"
      ],
      "metadata": {
        "id": "fr7kghS9yA5F"
      },
      "execution_count": 25,
      "outputs": []
    },
    {
      "cell_type": "code",
      "source": [
        "X_test = np.concatenate((X_test_num, X_test_onehots), axis=1)"
      ],
      "metadata": {
        "id": "WTUi2RjXyMFd"
      },
      "execution_count": 26,
      "outputs": []
    },
    {
      "cell_type": "code",
      "source": [
        "# create validation set\n",
        "num_val_insts = math.floor(X_train.shape[0]*(.10))\n",
        "\n",
        "X_val = X_train[:num_val_insts]\n",
        "y_val = y_train[:num_val_insts]\n",
        "\n",
        "X_train = X_train[num_val_insts:]\n",
        "y_train = y_train[num_val_insts:]"
      ],
      "metadata": {
        "id": "d3BMgWC8yaXg"
      },
      "execution_count": 27,
      "outputs": []
    },
    {
      "cell_type": "code",
      "source": [
        "print(f\"X_train shape: {X_train.shape}, y_train shape: {y_train.shape}\")\n",
        "print(f\"X_val shape: {X_val.shape}, y_val shape: {y_val.shape}\")\n",
        "print(f\"X_test shape: {X_test.shape}, y_test shape: {y_test.shape}\")"
      ],
      "metadata": {
        "colab": {
          "base_uri": "https://localhost:8080/"
        },
        "id": "HytfmXvtyjHK",
        "outputId": "d4c601f9-9d59-4551-a15f-e80e96ed3ef5"
      },
      "execution_count": 28,
      "outputs": [
        {
          "output_type": "stream",
          "name": "stdout",
          "text": [
            "X_train shape: (3735, 3061), y_train shape: (3735, 1)\n",
            "X_val shape: (415, 3061), y_val shape: (415, 1)\n",
            "X_test shape: (1038, 3061), y_test shape: (1038, 1)\n"
          ]
        }
      ]
    },
    {
      "cell_type": "code",
      "source": [
        "from keras.initializers import lecun_normal"
      ],
      "metadata": {
        "id": "Yc8srrdAy3cI"
      },
      "execution_count": 29,
      "outputs": []
    },
    {
      "cell_type": "code",
      "source": [
        "initialiser = lecun_normal(seed=31)"
      ],
      "metadata": {
        "id": "mSe9P4ETy4zn"
      },
      "execution_count": 30,
      "outputs": []
    },
    {
      "cell_type": "code",
      "source": [
        "# model 1\n",
        "\n",
        "# model = models.Sequential()\n",
        "# model.add(layers.Dense(100, activation='selu', input_shape=(X_train.shape[1],), kernel_initializer=initialiser))\n",
        "# model.add(layers.Dense(100, activation='selu', kernel_initializer=initialiser))\n",
        "# model.add(layers.Dense(100, activation='selu', kernel_initializer=initialiser))\n",
        "# model.add(layers.Dense(100, activation='selu', kernel_initializer=initialiser))\n",
        "# model.add(layers.Dense(100, activation='selu', kernel_initializer=initialiser))\n",
        "# model.add(layers.Dense(100, activation='selu', kernel_initializer=initialiser))\n",
        "# model.add(layers.Dense(1))\n",
        "\n",
        "\n",
        "# model 2\n",
        "\n",
        "model = models.Sequential()\n",
        "model.add(layers.Dense(512, activation='selu', input_shape=(X_train.shape[1],), kernel_initializer=initialiser))\n",
        "model.add(layers.Dense(512, activation='selu', kernel_initializer=initialiser))\n",
        "model.add(layers.Dense(512, activation='selu', kernel_initializer=initialiser))\n",
        "model.add(layers.Dense(512, activation='selu', kernel_initializer=initialiser))\n",
        "model.add(layers.Dense(512, activation='selu', kernel_initializer=initialiser))\n",
        "model.add(layers.Dense(512, activation='selu', kernel_initializer=initialiser))\n",
        "model.add(layers.Dense(512, activation='selu', kernel_initializer=initialiser))\n",
        "\n",
        "model.add(layers.Dense(256, activation='selu', kernel_initializer=initialiser))\n",
        "model.add(layers.Dense(256, activation='selu', kernel_initializer=initialiser))\n",
        "\n",
        "model.add(layers.Dense(128, activation='selu', kernel_initializer=initialiser))\n",
        "model.add(layers.Dense(128, activation='selu', kernel_initializer=initialiser))\n",
        "\n",
        "model.add(layers.Dense(64, activation='selu', kernel_initializer=initialiser))\n",
        "model.add(layers.Dense(64, activation='selu', kernel_initializer=initialiser))\n",
        "\n",
        "\n",
        "model.add(layers.Dense(1))"
      ],
      "metadata": {
        "id": "iHi12V7BzCM6"
      },
      "execution_count": 72,
      "outputs": []
    },
    {
      "cell_type": "code",
      "source": [
        "model.summary()"
      ],
      "metadata": {
        "colab": {
          "base_uri": "https://localhost:8080/"
        },
        "id": "TPI57bQuzJcc",
        "outputId": "381eabaa-054f-4d7a-e7db-05d4b84b0c2d"
      },
      "execution_count": 73,
      "outputs": [
        {
          "output_type": "stream",
          "name": "stdout",
          "text": [
            "Model: \"sequential_3\"\n",
            "_________________________________________________________________\n",
            " Layer (type)                Output Shape              Param #   \n",
            "=================================================================\n",
            " dense_35 (Dense)            (None, 512)               1567744   \n",
            "                                                                 \n",
            " dense_36 (Dense)            (None, 512)               262656    \n",
            "                                                                 \n",
            " dense_37 (Dense)            (None, 512)               262656    \n",
            "                                                                 \n",
            " dense_38 (Dense)            (None, 512)               262656    \n",
            "                                                                 \n",
            " dense_39 (Dense)            (None, 512)               262656    \n",
            "                                                                 \n",
            " dense_40 (Dense)            (None, 512)               262656    \n",
            "                                                                 \n",
            " dense_41 (Dense)            (None, 512)               262656    \n",
            "                                                                 \n",
            " dense_42 (Dense)            (None, 256)               131328    \n",
            "                                                                 \n",
            " dense_43 (Dense)            (None, 256)               65792     \n",
            "                                                                 \n",
            " dense_44 (Dense)            (None, 128)               32896     \n",
            "                                                                 \n",
            " dense_45 (Dense)            (None, 128)               16512     \n",
            "                                                                 \n",
            " dense_46 (Dense)            (None, 64)                8256      \n",
            "                                                                 \n",
            " dense_47 (Dense)            (None, 64)                4160      \n",
            "                                                                 \n",
            " dense_48 (Dense)            (None, 1)                 65        \n",
            "                                                                 \n",
            "=================================================================\n",
            "Total params: 3,402,689\n",
            "Trainable params: 3,402,689\n",
            "Non-trainable params: 0\n",
            "_________________________________________________________________\n"
          ]
        }
      ]
    },
    {
      "cell_type": "code",
      "source": [
        "model.compile(loss=\"huber_loss\", optimizer=keras.optimizers.Adam(learning_rate=.001), metrics=[\"mae\"])"
      ],
      "metadata": {
        "id": "3vPBvwnDzLl7"
      },
      "execution_count": 74,
      "outputs": []
    },
    {
      "cell_type": "code",
      "source": [
        "early_stop = EarlyStopping(monitor='val_mae', mode='min', \n",
        "                           verbose=1, patience=50, min_delta=.5, \n",
        "                           restore_best_weights=True)"
      ],
      "metadata": {
        "id": "SEE4clNfzT-Z"
      },
      "execution_count": 75,
      "outputs": []
    },
    {
      "cell_type": "code",
      "source": [
        "#reduce on plateau\n",
        "reduce_lr = ReduceLROnPlateau(\n",
        "    monitor='val_mae',\n",
        "    patience=25,\n",
        "    factor=.1,\n",
        "    mode='min',\n",
        "    min_delta=.5,\n",
        "    verbose=1,\n",
        "    min_lr=.0001\n",
        ")"
      ],
      "metadata": {
        "id": "fXagdD_u_Z04"
      },
      "execution_count": 76,
      "outputs": []
    },
    {
      "cell_type": "code",
      "source": [
        "history = model.fit(X_train, y_train, epochs=500,\n",
        "                    validation_data=(X_val, y_val),\n",
        "                    callbacks=[early_stop, reduce_lr])"
      ],
      "metadata": {
        "colab": {
          "base_uri": "https://localhost:8080/"
        },
        "id": "ghmmiDo1zYHv",
        "outputId": "be316dd3-eda2-4490-849a-9d9205ca9623"
      },
      "execution_count": 77,
      "outputs": [
        {
          "output_type": "stream",
          "name": "stdout",
          "text": [
            "Epoch 1/500\n",
            "117/117 [==============================] - 1s 5ms/step - loss: 1048.1287 - mae: 1048.6285 - val_loss: 860.8810 - val_mae: 861.3810 - lr: 0.0010\n",
            "Epoch 2/500\n",
            "117/117 [==============================] - 0s 4ms/step - loss: 596.0584 - mae: 596.5580 - val_loss: 640.8477 - val_mae: 641.3477 - lr: 0.0010\n",
            "Epoch 3/500\n",
            "117/117 [==============================] - 0s 4ms/step - loss: 490.6024 - mae: 491.1022 - val_loss: 567.0977 - val_mae: 567.5966 - lr: 0.0010\n",
            "Epoch 4/500\n",
            "117/117 [==============================] - 0s 4ms/step - loss: 452.4113 - mae: 452.9108 - val_loss: 583.4516 - val_mae: 583.9516 - lr: 0.0010\n",
            "Epoch 5/500\n",
            "117/117 [==============================] - 0s 4ms/step - loss: 444.4106 - mae: 444.9100 - val_loss: 597.5906 - val_mae: 598.0906 - lr: 0.0010\n",
            "Epoch 6/500\n",
            "117/117 [==============================] - 0s 4ms/step - loss: 411.9563 - mae: 412.4557 - val_loss: 495.0732 - val_mae: 495.5731 - lr: 0.0010\n",
            "Epoch 7/500\n",
            "117/117 [==============================] - 0s 4ms/step - loss: 406.1805 - mae: 406.6801 - val_loss: 536.4188 - val_mae: 536.9188 - lr: 0.0010\n",
            "Epoch 8/500\n",
            "117/117 [==============================] - 0s 4ms/step - loss: 351.5245 - mae: 352.0238 - val_loss: 493.0412 - val_mae: 493.5398 - lr: 0.0010\n",
            "Epoch 9/500\n",
            "117/117 [==============================] - 0s 4ms/step - loss: 340.2184 - mae: 340.7179 - val_loss: 477.8071 - val_mae: 478.3071 - lr: 0.0010\n",
            "Epoch 10/500\n",
            "117/117 [==============================] - 0s 4ms/step - loss: 330.8785 - mae: 331.3780 - val_loss: 489.3494 - val_mae: 489.8489 - lr: 0.0010\n",
            "Epoch 11/500\n",
            "117/117 [==============================] - 0s 4ms/step - loss: 287.5494 - mae: 288.0491 - val_loss: 496.4097 - val_mae: 496.9096 - lr: 0.0010\n",
            "Epoch 12/500\n",
            "117/117 [==============================] - 0s 4ms/step - loss: 297.2878 - mae: 297.7875 - val_loss: 467.3313 - val_mae: 467.8308 - lr: 0.0010\n",
            "Epoch 13/500\n",
            "117/117 [==============================] - 0s 4ms/step - loss: 296.9467 - mae: 297.4464 - val_loss: 461.2621 - val_mae: 461.7621 - lr: 0.0010\n",
            "Epoch 14/500\n",
            "117/117 [==============================] - 0s 4ms/step - loss: 258.1334 - mae: 258.6328 - val_loss: 471.1007 - val_mae: 471.5995 - lr: 0.0010\n",
            "Epoch 15/500\n",
            "117/117 [==============================] - 0s 4ms/step - loss: 257.8610 - mae: 258.3602 - val_loss: 446.2618 - val_mae: 446.7618 - lr: 0.0010\n",
            "Epoch 16/500\n",
            "117/117 [==============================] - 0s 4ms/step - loss: 231.5015 - mae: 232.0010 - val_loss: 532.2668 - val_mae: 532.7668 - lr: 0.0010\n",
            "Epoch 17/500\n",
            "117/117 [==============================] - 0s 4ms/step - loss: 285.5478 - mae: 286.0470 - val_loss: 443.4236 - val_mae: 443.9236 - lr: 0.0010\n",
            "Epoch 18/500\n",
            "117/117 [==============================] - 0s 4ms/step - loss: 265.3321 - mae: 265.8313 - val_loss: 454.3804 - val_mae: 454.8804 - lr: 0.0010\n",
            "Epoch 19/500\n",
            "117/117 [==============================] - 0s 4ms/step - loss: 223.3038 - mae: 223.8031 - val_loss: 419.6195 - val_mae: 420.1165 - lr: 0.0010\n",
            "Epoch 20/500\n",
            "117/117 [==============================] - 0s 4ms/step - loss: 231.3509 - mae: 231.8503 - val_loss: 434.6560 - val_mae: 435.1557 - lr: 0.0010\n",
            "Epoch 21/500\n",
            "117/117 [==============================] - 0s 4ms/step - loss: 215.9352 - mae: 216.4340 - val_loss: 417.6058 - val_mae: 418.1058 - lr: 0.0010\n",
            "Epoch 22/500\n",
            "117/117 [==============================] - 0s 4ms/step - loss: 206.6139 - mae: 207.1130 - val_loss: 450.2737 - val_mae: 450.7737 - lr: 0.0010\n",
            "Epoch 23/500\n",
            "117/117 [==============================] - 0s 4ms/step - loss: 208.8763 - mae: 209.3758 - val_loss: 425.0417 - val_mae: 425.5417 - lr: 0.0010\n",
            "Epoch 24/500\n",
            "117/117 [==============================] - 0s 4ms/step - loss: 190.7327 - mae: 191.2315 - val_loss: 408.7389 - val_mae: 409.2372 - lr: 0.0010\n",
            "Epoch 25/500\n",
            "117/117 [==============================] - 0s 4ms/step - loss: 216.2135 - mae: 216.7132 - val_loss: 451.8151 - val_mae: 452.3139 - lr: 0.0010\n",
            "Epoch 26/500\n",
            "117/117 [==============================] - 0s 4ms/step - loss: 216.6591 - mae: 217.1586 - val_loss: 458.3465 - val_mae: 458.8465 - lr: 0.0010\n",
            "Epoch 27/500\n",
            "117/117 [==============================] - 0s 4ms/step - loss: 206.3067 - mae: 206.8060 - val_loss: 411.9628 - val_mae: 412.4615 - lr: 0.0010\n",
            "Epoch 28/500\n",
            "117/117 [==============================] - 0s 4ms/step - loss: 197.5284 - mae: 198.0280 - val_loss: 436.7285 - val_mae: 437.2283 - lr: 0.0010\n",
            "Epoch 29/500\n",
            "117/117 [==============================] - 0s 4ms/step - loss: 185.4378 - mae: 185.9369 - val_loss: 441.6788 - val_mae: 442.1788 - lr: 0.0010\n",
            "Epoch 30/500\n",
            "117/117 [==============================] - 0s 4ms/step - loss: 228.5457 - mae: 229.0446 - val_loss: 458.5493 - val_mae: 459.0493 - lr: 0.0010\n",
            "Epoch 31/500\n",
            "117/117 [==============================] - 0s 4ms/step - loss: 191.8166 - mae: 192.3157 - val_loss: 435.7334 - val_mae: 436.2332 - lr: 0.0010\n",
            "Epoch 32/500\n",
            "117/117 [==============================] - 0s 4ms/step - loss: 187.6716 - mae: 188.1706 - val_loss: 417.2429 - val_mae: 417.7429 - lr: 0.0010\n",
            "Epoch 33/500\n",
            "117/117 [==============================] - 0s 4ms/step - loss: 179.9167 - mae: 180.4156 - val_loss: 422.8529 - val_mae: 423.3529 - lr: 0.0010\n",
            "Epoch 34/500\n",
            "117/117 [==============================] - 0s 4ms/step - loss: 182.4560 - mae: 182.9553 - val_loss: 433.8080 - val_mae: 434.3080 - lr: 0.0010\n",
            "Epoch 35/500\n",
            "117/117 [==============================] - 0s 3ms/step - loss: 187.6509 - mae: 188.1500 - val_loss: 414.9322 - val_mae: 415.4322 - lr: 0.0010\n",
            "Epoch 36/500\n",
            "117/117 [==============================] - 0s 4ms/step - loss: 179.4968 - mae: 179.9960 - val_loss: 422.6100 - val_mae: 423.1089 - lr: 0.0010\n",
            "Epoch 37/500\n",
            "117/117 [==============================] - 0s 4ms/step - loss: 154.5815 - mae: 155.0807 - val_loss: 406.5595 - val_mae: 407.0591 - lr: 0.0010\n",
            "Epoch 38/500\n",
            "117/117 [==============================] - 0s 4ms/step - loss: 165.5646 - mae: 166.0639 - val_loss: 423.6477 - val_mae: 424.1477 - lr: 0.0010\n",
            "Epoch 39/500\n",
            "117/117 [==============================] - 0s 4ms/step - loss: 183.9162 - mae: 184.4152 - val_loss: 408.4254 - val_mae: 408.9245 - lr: 0.0010\n",
            "Epoch 40/500\n",
            "117/117 [==============================] - 0s 4ms/step - loss: 165.9880 - mae: 166.4866 - val_loss: 410.2729 - val_mae: 410.7729 - lr: 0.0010\n",
            "Epoch 41/500\n",
            "117/117 [==============================] - 0s 4ms/step - loss: 193.7068 - mae: 194.2056 - val_loss: 429.4175 - val_mae: 429.9175 - lr: 0.0010\n",
            "Epoch 42/500\n",
            "117/117 [==============================] - 0s 4ms/step - loss: 177.2147 - mae: 177.7135 - val_loss: 412.9323 - val_mae: 413.4312 - lr: 0.0010\n",
            "Epoch 43/500\n",
            "117/117 [==============================] - 0s 4ms/step - loss: 164.1059 - mae: 164.6047 - val_loss: 429.5410 - val_mae: 430.0409 - lr: 0.0010\n",
            "Epoch 44/500\n",
            "117/117 [==============================] - 0s 4ms/step - loss: 162.6104 - mae: 163.1091 - val_loss: 433.5060 - val_mae: 434.0060 - lr: 0.0010\n",
            "Epoch 45/500\n",
            "117/117 [==============================] - 0s 4ms/step - loss: 174.1906 - mae: 174.6898 - val_loss: 408.6134 - val_mae: 409.1134 - lr: 0.0010\n",
            "Epoch 46/500\n",
            "117/117 [==============================] - 0s 4ms/step - loss: 170.4062 - mae: 170.9053 - val_loss: 423.1423 - val_mae: 423.6423 - lr: 0.0010\n",
            "Epoch 47/500\n",
            "117/117 [==============================] - 0s 4ms/step - loss: 147.1997 - mae: 147.6985 - val_loss: 413.2405 - val_mae: 413.7405 - lr: 0.0010\n",
            "Epoch 48/500\n",
            "117/117 [==============================] - 0s 4ms/step - loss: 170.2296 - mae: 170.7286 - val_loss: 415.4671 - val_mae: 415.9660 - lr: 0.0010\n",
            "Epoch 49/500\n",
            "117/117 [==============================] - 0s 4ms/step - loss: 140.5033 - mae: 141.0016 - val_loss: 411.7616 - val_mae: 412.2609 - lr: 0.0010\n",
            "Epoch 50/500\n",
            "117/117 [==============================] - 0s 4ms/step - loss: 161.1686 - mae: 161.6674 - val_loss: 422.6139 - val_mae: 423.1139 - lr: 0.0010\n",
            "Epoch 51/500\n",
            "117/117 [==============================] - 0s 4ms/step - loss: 151.8554 - mae: 152.3539 - val_loss: 422.9765 - val_mae: 423.4763 - lr: 0.0010\n",
            "Epoch 52/500\n",
            "117/117 [==============================] - 0s 4ms/step - loss: 150.9902 - mae: 151.4886 - val_loss: 419.1120 - val_mae: 419.6118 - lr: 0.0010\n",
            "Epoch 53/500\n",
            "117/117 [==============================] - 0s 4ms/step - loss: 167.2656 - mae: 167.7647 - val_loss: 409.4824 - val_mae: 409.9818 - lr: 0.0010\n",
            "Epoch 54/500\n",
            "117/117 [==============================] - 0s 4ms/step - loss: 163.9047 - mae: 164.4037 - val_loss: 422.1490 - val_mae: 422.6478 - lr: 0.0010\n",
            "Epoch 55/500\n",
            "117/117 [==============================] - 0s 4ms/step - loss: 153.4911 - mae: 153.9893 - val_loss: 406.4983 - val_mae: 406.9982 - lr: 0.0010\n",
            "Epoch 56/500\n",
            "117/117 [==============================] - 0s 4ms/step - loss: 137.0837 - mae: 137.5827 - val_loss: 420.9733 - val_mae: 421.4733 - lr: 0.0010\n",
            "Epoch 57/500\n",
            "117/117 [==============================] - 0s 4ms/step - loss: 151.5287 - mae: 152.0276 - val_loss: 414.9996 - val_mae: 415.4989 - lr: 0.0010\n",
            "Epoch 58/500\n",
            "117/117 [==============================] - 0s 4ms/step - loss: 145.2744 - mae: 145.7735 - val_loss: 408.0625 - val_mae: 408.5623 - lr: 0.0010\n",
            "Epoch 59/500\n",
            "117/117 [==============================] - 0s 4ms/step - loss: 139.1300 - mae: 139.6279 - val_loss: 464.5417 - val_mae: 465.0412 - lr: 0.0010\n",
            "Epoch 60/500\n",
            "117/117 [==============================] - 0s 4ms/step - loss: 137.5582 - mae: 138.0568 - val_loss: 447.9554 - val_mae: 448.4549 - lr: 0.0010\n",
            "Epoch 61/500\n",
            "117/117 [==============================] - 0s 4ms/step - loss: 141.0736 - mae: 141.5726 - val_loss: 414.3357 - val_mae: 414.8357 - lr: 0.0010\n",
            "Epoch 62/500\n",
            "114/117 [============================>.] - ETA: 0s - loss: 137.9372 - mae: 138.4356\n",
            "Epoch 62: ReduceLROnPlateau reducing learning rate to 0.00010000000474974513.\n",
            "117/117 [==============================] - 0s 4ms/step - loss: 138.1372 - mae: 138.6356 - val_loss: 435.0699 - val_mae: 435.5699 - lr: 0.0010\n",
            "Epoch 63/500\n",
            "117/117 [==============================] - 0s 4ms/step - loss: 107.1060 - mae: 107.6043 - val_loss: 400.7330 - val_mae: 401.2323 - lr: 1.0000e-04\n",
            "Epoch 64/500\n",
            "117/117 [==============================] - 0s 3ms/step - loss: 92.4879 - mae: 92.9844 - val_loss: 400.4206 - val_mae: 400.9206 - lr: 1.0000e-04\n",
            "Epoch 65/500\n",
            "117/117 [==============================] - 0s 4ms/step - loss: 88.9914 - mae: 89.4882 - val_loss: 395.3648 - val_mae: 395.8614 - lr: 1.0000e-04\n",
            "Epoch 66/500\n",
            "117/117 [==============================] - 0s 4ms/step - loss: 86.6996 - mae: 87.1959 - val_loss: 397.0367 - val_mae: 397.5360 - lr: 1.0000e-04\n",
            "Epoch 67/500\n",
            "117/117 [==============================] - 0s 4ms/step - loss: 82.1034 - mae: 82.5993 - val_loss: 397.2730 - val_mae: 397.7717 - lr: 1.0000e-04\n",
            "Epoch 68/500\n",
            "117/117 [==============================] - 0s 4ms/step - loss: 79.9577 - mae: 80.4529 - val_loss: 393.5394 - val_mae: 394.0385 - lr: 1.0000e-04\n",
            "Epoch 69/500\n",
            "117/117 [==============================] - 0s 4ms/step - loss: 78.4428 - mae: 78.9363 - val_loss: 395.3689 - val_mae: 395.8689 - lr: 1.0000e-04\n",
            "Epoch 70/500\n",
            "117/117 [==============================] - 0s 4ms/step - loss: 78.5354 - mae: 79.0304 - val_loss: 392.3660 - val_mae: 392.8654 - lr: 1.0000e-04\n",
            "Epoch 71/500\n",
            "117/117 [==============================] - 0s 4ms/step - loss: 76.1631 - mae: 76.6581 - val_loss: 394.1081 - val_mae: 394.6080 - lr: 1.0000e-04\n",
            "Epoch 72/500\n",
            "117/117 [==============================] - 0s 4ms/step - loss: 73.4564 - mae: 73.9478 - val_loss: 392.9781 - val_mae: 393.4778 - lr: 1.0000e-04\n",
            "Epoch 73/500\n",
            "117/117 [==============================] - 0s 4ms/step - loss: 73.7776 - mae: 74.2712 - val_loss: 392.7570 - val_mae: 393.2557 - lr: 1.0000e-04\n",
            "Epoch 74/500\n",
            "117/117 [==============================] - 0s 4ms/step - loss: 72.1805 - mae: 72.6728 - val_loss: 393.1808 - val_mae: 393.6795 - lr: 1.0000e-04\n",
            "Epoch 75/500\n",
            "117/117 [==============================] - 0s 4ms/step - loss: 74.0482 - mae: 74.5429 - val_loss: 399.1312 - val_mae: 399.6305 - lr: 1.0000e-04\n",
            "Epoch 76/500\n",
            "117/117 [==============================] - 0s 4ms/step - loss: 71.9955 - mae: 72.4886 - val_loss: 394.4087 - val_mae: 394.9062 - lr: 1.0000e-04\n",
            "Epoch 77/500\n",
            "117/117 [==============================] - 0s 4ms/step - loss: 70.4642 - mae: 70.9581 - val_loss: 398.0730 - val_mae: 398.5709 - lr: 1.0000e-04\n",
            "Epoch 78/500\n",
            "117/117 [==============================] - 0s 4ms/step - loss: 69.5622 - mae: 70.0538 - val_loss: 391.0070 - val_mae: 391.5031 - lr: 1.0000e-04\n",
            "Epoch 79/500\n",
            "117/117 [==============================] - 0s 4ms/step - loss: 69.4916 - mae: 69.9834 - val_loss: 391.1935 - val_mae: 391.6932 - lr: 1.0000e-04\n",
            "Epoch 80/500\n",
            "117/117 [==============================] - 0s 4ms/step - loss: 69.1788 - mae: 69.6697 - val_loss: 391.1823 - val_mae: 391.6799 - lr: 1.0000e-04\n",
            "Epoch 81/500\n",
            "117/117 [==============================] - 0s 4ms/step - loss: 68.0914 - mae: 68.5799 - val_loss: 392.9825 - val_mae: 393.4810 - lr: 1.0000e-04\n",
            "Epoch 82/500\n",
            "117/117 [==============================] - 0s 4ms/step - loss: 68.5827 - mae: 69.0720 - val_loss: 390.7861 - val_mae: 391.2836 - lr: 1.0000e-04\n",
            "Epoch 83/500\n",
            "117/117 [==============================] - 0s 4ms/step - loss: 68.2020 - mae: 68.6916 - val_loss: 391.7274 - val_mae: 392.2264 - lr: 1.0000e-04\n",
            "Epoch 84/500\n",
            "117/117 [==============================] - 0s 4ms/step - loss: 69.0951 - mae: 69.5861 - val_loss: 391.7735 - val_mae: 392.2711 - lr: 1.0000e-04\n",
            "Epoch 85/500\n",
            "117/117 [==============================] - 0s 4ms/step - loss: 67.1188 - mae: 67.6081 - val_loss: 392.7877 - val_mae: 393.2875 - lr: 1.0000e-04\n",
            "Epoch 86/500\n",
            "117/117 [==============================] - 0s 4ms/step - loss: 67.9932 - mae: 68.4833 - val_loss: 392.8163 - val_mae: 393.3141 - lr: 1.0000e-04\n",
            "Epoch 87/500\n",
            "117/117 [==============================] - 0s 4ms/step - loss: 66.8304 - mae: 67.3185 - val_loss: 391.9930 - val_mae: 392.4917 - lr: 1.0000e-04\n",
            "Epoch 88/500\n",
            "117/117 [==============================] - 0s 4ms/step - loss: 65.8367 - mae: 66.3266 - val_loss: 392.2484 - val_mae: 392.7429 - lr: 1.0000e-04\n",
            "Epoch 89/500\n",
            "117/117 [==============================] - 0s 4ms/step - loss: 68.5271 - mae: 69.0175 - val_loss: 393.1519 - val_mae: 393.6497 - lr: 1.0000e-04\n",
            "Epoch 90/500\n",
            "117/117 [==============================] - 0s 4ms/step - loss: 66.7316 - mae: 67.2197 - val_loss: 392.7685 - val_mae: 393.2675 - lr: 1.0000e-04\n",
            "Epoch 91/500\n",
            "117/117 [==============================] - 0s 4ms/step - loss: 66.0708 - mae: 66.5616 - val_loss: 398.1625 - val_mae: 398.6619 - lr: 1.0000e-04\n",
            "Epoch 92/500\n",
            "117/117 [==============================] - 0s 4ms/step - loss: 67.5049 - mae: 67.9944 - val_loss: 390.8095 - val_mae: 391.3072 - lr: 1.0000e-04\n",
            "Epoch 93/500\n",
            "117/117 [==============================] - 0s 4ms/step - loss: 65.7741 - mae: 66.2629 - val_loss: 390.9604 - val_mae: 391.4576 - lr: 1.0000e-04\n",
            "Epoch 94/500\n",
            "117/117 [==============================] - 1s 5ms/step - loss: 67.6991 - mae: 68.1905 - val_loss: 395.3526 - val_mae: 395.8513 - lr: 1.0000e-04\n",
            "Epoch 95/500\n",
            "117/117 [==============================] - 1s 4ms/step - loss: 67.2690 - mae: 67.7602 - val_loss: 391.5541 - val_mae: 392.0522 - lr: 1.0000e-04\n",
            "Epoch 96/500\n",
            "117/117 [==============================] - 1s 4ms/step - loss: 68.8087 - mae: 69.3003 - val_loss: 390.8312 - val_mae: 391.3307 - lr: 1.0000e-04\n",
            "Epoch 97/500\n",
            "117/117 [==============================] - 1s 4ms/step - loss: 66.6429 - mae: 67.1342 - val_loss: 392.0203 - val_mae: 392.5188 - lr: 1.0000e-04\n",
            "Epoch 98/500\n",
            "117/117 [==============================] - 1s 5ms/step - loss: 65.6908 - mae: 66.1784 - val_loss: 391.0717 - val_mae: 391.5665 - lr: 1.0000e-04\n",
            "Epoch 99/500\n",
            "117/117 [==============================] - 0s 4ms/step - loss: 67.1955 - mae: 67.6867 - val_loss: 392.4683 - val_mae: 392.9681 - lr: 1.0000e-04\n",
            "Epoch 100/500\n",
            "117/117 [==============================] - 0s 4ms/step - loss: 68.1111 - mae: 68.6021 - val_loss: 390.4022 - val_mae: 390.8995 - lr: 1.0000e-04\n",
            "Epoch 101/500\n",
            "117/117 [==============================] - 0s 4ms/step - loss: 67.0415 - mae: 67.5293 - val_loss: 394.0767 - val_mae: 394.5740 - lr: 1.0000e-04\n",
            "Epoch 102/500\n",
            "117/117 [==============================] - 0s 4ms/step - loss: 66.1147 - mae: 66.6035 - val_loss: 392.8410 - val_mae: 393.3381 - lr: 1.0000e-04\n",
            "Epoch 103/500\n",
            "117/117 [==============================] - 0s 4ms/step - loss: 66.0892 - mae: 66.5786 - val_loss: 392.3171 - val_mae: 392.8114 - lr: 1.0000e-04\n",
            "Epoch 104/500\n",
            "117/117 [==============================] - 0s 4ms/step - loss: 66.8457 - mae: 67.3354 - val_loss: 396.3469 - val_mae: 396.8456 - lr: 1.0000e-04\n",
            "Epoch 105/500\n",
            "117/117 [==============================] - 0s 4ms/step - loss: 66.9120 - mae: 67.4027 - val_loss: 392.6130 - val_mae: 393.1129 - lr: 1.0000e-04\n",
            "Epoch 106/500\n",
            "117/117 [==============================] - 0s 4ms/step - loss: 71.7762 - mae: 72.2703 - val_loss: 395.1139 - val_mae: 395.6137 - lr: 1.0000e-04\n",
            "Epoch 107/500\n",
            "117/117 [==============================] - 0s 4ms/step - loss: 67.2208 - mae: 67.7113 - val_loss: 393.4297 - val_mae: 393.9292 - lr: 1.0000e-04\n",
            "Epoch 108/500\n",
            "117/117 [==============================] - 0s 4ms/step - loss: 65.4385 - mae: 65.9280 - val_loss: 394.4978 - val_mae: 394.9974 - lr: 1.0000e-04\n",
            "Epoch 109/500\n",
            "117/117 [==============================] - 0s 4ms/step - loss: 65.8663 - mae: 66.3566 - val_loss: 392.3536 - val_mae: 392.8527 - lr: 1.0000e-04\n",
            "Epoch 110/500\n",
            "117/117 [==============================] - 0s 4ms/step - loss: 65.8467 - mae: 66.3360 - val_loss: 392.0575 - val_mae: 392.5541 - lr: 1.0000e-04\n",
            "Epoch 111/500\n",
            "117/117 [==============================] - 0s 4ms/step - loss: 66.2026 - mae: 66.6927 - val_loss: 390.2520 - val_mae: 390.7467 - lr: 1.0000e-04\n",
            "Epoch 112/500\n",
            "117/117 [==============================] - 0s 4ms/step - loss: 67.2122 - mae: 67.7032 - val_loss: 390.8885 - val_mae: 391.3878 - lr: 1.0000e-04\n",
            "Epoch 113/500\n",
            "117/117 [==============================] - 0s 4ms/step - loss: 64.8219 - mae: 65.3102 - val_loss: 396.8082 - val_mae: 397.3075 - lr: 1.0000e-04\n",
            "Epoch 114/500\n",
            "117/117 [==============================] - 0s 4ms/step - loss: 64.6812 - mae: 65.1690 - val_loss: 390.4451 - val_mae: 390.9444 - lr: 1.0000e-04\n",
            "Epoch 115/500\n",
            "117/117 [==============================] - 0s 4ms/step - loss: 64.5258 - mae: 65.0147 - val_loss: 393.3035 - val_mae: 393.7959 - lr: 1.0000e-04\n",
            "Epoch 116/500\n",
            "117/117 [==============================] - 0s 4ms/step - loss: 65.0815 - mae: 65.5682 - val_loss: 391.4453 - val_mae: 391.9427 - lr: 1.0000e-04\n",
            "Epoch 117/500\n",
            "117/117 [==============================] - 0s 4ms/step - loss: 65.3037 - mae: 65.7926 - val_loss: 391.2097 - val_mae: 391.7090 - lr: 1.0000e-04\n",
            "Epoch 118/500\n",
            "117/117 [==============================] - 0s 4ms/step - loss: 67.4626 - mae: 67.9551 - val_loss: 392.9537 - val_mae: 393.4492 - lr: 1.0000e-04\n",
            "Epoch 119/500\n",
            "117/117 [==============================] - 0s 4ms/step - loss: 67.2686 - mae: 67.7592 - val_loss: 392.2770 - val_mae: 392.7768 - lr: 1.0000e-04\n",
            "Epoch 120/500\n",
            "117/117 [==============================] - 0s 4ms/step - loss: 65.6601 - mae: 66.1507 - val_loss: 390.4436 - val_mae: 390.9400 - lr: 1.0000e-04\n",
            "Epoch 121/500\n",
            "117/117 [==============================] - 0s 4ms/step - loss: 65.6611 - mae: 66.1520 - val_loss: 392.1632 - val_mae: 392.6600 - lr: 1.0000e-04\n",
            "Epoch 122/500\n",
            "117/117 [==============================] - 0s 4ms/step - loss: 64.8534 - mae: 65.3429 - val_loss: 391.1900 - val_mae: 391.6873 - lr: 1.0000e-04\n",
            "Epoch 123/500\n",
            "117/117 [==============================] - 0s 4ms/step - loss: 64.2020 - mae: 64.6913 - val_loss: 390.7021 - val_mae: 391.2014 - lr: 1.0000e-04\n",
            "Epoch 124/500\n",
            "117/117 [==============================] - 0s 4ms/step - loss: 63.5810 - mae: 64.0662 - val_loss: 391.3087 - val_mae: 391.8046 - lr: 1.0000e-04\n",
            "Epoch 125/500\n",
            "111/117 [===========================>..] - ETA: 0s - loss: 65.2476 - mae: 65.7372\n",
            "Epoch 125: ReduceLROnPlateau reducing learning rate to 0.0001.\n",
            "117/117 [==============================] - 0s 4ms/step - loss: 65.2125 - mae: 65.7020 - val_loss: 392.8247 - val_mae: 393.3213 - lr: 1.0000e-04\n",
            "Epoch 126/500\n",
            "117/117 [==============================] - 0s 4ms/step - loss: 64.4129 - mae: 64.9032 - val_loss: 391.0836 - val_mae: 391.5820 - lr: 1.0000e-04\n",
            "Epoch 127/500\n",
            "117/117 [==============================] - 0s 4ms/step - loss: 65.1831 - mae: 65.6719 - val_loss: 391.7355 - val_mae: 392.2355 - lr: 1.0000e-04\n",
            "Epoch 128/500\n",
            "117/117 [==============================] - 0s 4ms/step - loss: 64.3973 - mae: 64.8871 - val_loss: 392.7128 - val_mae: 393.2073 - lr: 1.0000e-04\n",
            "Epoch 129/500\n",
            "117/117 [==============================] - 0s 4ms/step - loss: 65.3223 - mae: 65.8111 - val_loss: 392.9429 - val_mae: 393.4424 - lr: 1.0000e-04\n",
            "Epoch 130/500\n",
            "117/117 [==============================] - 0s 4ms/step - loss: 64.1742 - mae: 64.6625 - val_loss: 394.9706 - val_mae: 395.4703 - lr: 1.0000e-04\n",
            "Epoch 131/500\n",
            "117/117 [==============================] - 0s 4ms/step - loss: 65.3717 - mae: 65.8614 - val_loss: 392.0136 - val_mae: 392.5124 - lr: 1.0000e-04\n",
            "Epoch 132/500\n",
            "117/117 [==============================] - 0s 4ms/step - loss: 65.7476 - mae: 66.2395 - val_loss: 393.4485 - val_mae: 393.9478 - lr: 1.0000e-04\n",
            "Epoch 133/500\n",
            "117/117 [==============================] - 0s 4ms/step - loss: 64.0645 - mae: 64.5545 - val_loss: 392.0438 - val_mae: 392.5411 - lr: 1.0000e-04\n",
            "Epoch 134/500\n",
            "117/117 [==============================] - 0s 4ms/step - loss: 64.9186 - mae: 65.4096 - val_loss: 392.0111 - val_mae: 392.5094 - lr: 1.0000e-04\n",
            "Epoch 135/500\n",
            "117/117 [==============================] - 0s 4ms/step - loss: 63.5169 - mae: 64.0060 - val_loss: 391.9356 - val_mae: 392.4312 - lr: 1.0000e-04\n",
            "Epoch 136/500\n",
            "117/117 [==============================] - 0s 4ms/step - loss: 63.4896 - mae: 63.9768 - val_loss: 393.3572 - val_mae: 393.8543 - lr: 1.0000e-04\n",
            "Epoch 137/500\n",
            "117/117 [==============================] - 0s 4ms/step - loss: 65.7603 - mae: 66.2493 - val_loss: 392.4665 - val_mae: 392.9652 - lr: 1.0000e-04\n",
            "Epoch 138/500\n",
            "117/117 [==============================] - 0s 4ms/step - loss: 64.4654 - mae: 64.9565 - val_loss: 392.6906 - val_mae: 393.1877 - lr: 1.0000e-04\n",
            "Epoch 139/500\n",
            "117/117 [==============================] - 0s 4ms/step - loss: 65.8156 - mae: 66.3045 - val_loss: 392.5189 - val_mae: 393.0139 - lr: 1.0000e-04\n",
            "Epoch 140/500\n",
            "117/117 [==============================] - 0s 4ms/step - loss: 63.2112 - mae: 63.7000 - val_loss: 394.2441 - val_mae: 394.7421 - lr: 1.0000e-04\n",
            "Epoch 141/500\n",
            "117/117 [==============================] - 0s 4ms/step - loss: 63.6233 - mae: 64.1121 - val_loss: 393.6751 - val_mae: 394.1751 - lr: 1.0000e-04\n",
            "Epoch 142/500\n",
            "117/117 [==============================] - 0s 4ms/step - loss: 63.4001 - mae: 63.8885 - val_loss: 393.8600 - val_mae: 394.3585 - lr: 1.0000e-04\n",
            "Epoch 143/500\n",
            "117/117 [==============================] - 0s 4ms/step - loss: 64.0136 - mae: 64.5022 - val_loss: 394.6597 - val_mae: 395.1588 - lr: 1.0000e-04\n",
            "Epoch 144/500\n",
            "117/117 [==============================] - 0s 4ms/step - loss: 64.1175 - mae: 64.6069 - val_loss: 393.9667 - val_mae: 394.4615 - lr: 1.0000e-04\n",
            "Epoch 145/500\n",
            "117/117 [==============================] - 0s 4ms/step - loss: 65.0710 - mae: 65.5611 - val_loss: 394.7228 - val_mae: 395.2198 - lr: 1.0000e-04\n",
            "Epoch 146/500\n",
            "117/117 [==============================] - 0s 4ms/step - loss: 64.0505 - mae: 64.5405 - val_loss: 391.6485 - val_mae: 392.1480 - lr: 1.0000e-04\n",
            "Epoch 147/500\n",
            "117/117 [==============================] - 0s 4ms/step - loss: 63.6974 - mae: 64.1869 - val_loss: 394.2391 - val_mae: 394.7386 - lr: 1.0000e-04\n",
            "Epoch 148/500\n",
            "117/117 [==============================] - 0s 4ms/step - loss: 65.5869 - mae: 66.0775 - val_loss: 392.5018 - val_mae: 393.0003 - lr: 1.0000e-04\n",
            "Epoch 149/500\n",
            "117/117 [==============================] - 0s 4ms/step - loss: 64.7072 - mae: 65.1978 - val_loss: 393.8069 - val_mae: 394.3062 - lr: 1.0000e-04\n",
            "Epoch 150/500\n",
            "113/117 [===========================>..] - ETA: 0s - loss: 63.3110 - mae: 63.7997Restoring model weights from the end of the best epoch: 100.\n",
            "117/117 [==============================] - 0s 4ms/step - loss: 63.5990 - mae: 64.0878 - val_loss: 397.2606 - val_mae: 397.7585 - lr: 1.0000e-04\n",
            "Epoch 150: early stopping\n"
          ]
        }
      ]
    },
    {
      "cell_type": "code",
      "source": [
        "pd.DataFrame(history.history).plot(figsize=(10, 7))\n",
        "plt.grid(True)\n",
        "plt.show()"
      ],
      "metadata": {
        "colab": {
          "base_uri": "https://localhost:8080/",
          "height": 428
        },
        "id": "P4CCymPgzoNH",
        "outputId": "2ea798d9-ac50-42d7-c4c2-0634fc295340"
      },
      "execution_count": 78,
      "outputs": [
        {
          "output_type": "display_data",
          "data": {
            "text/plain": [
              "<Figure size 720x504 with 1 Axes>"
            ],
            "image/png": "[encoded data removed]"
          },
          "metadata": {
            "needs_background": "light"
          }
        }
      ]
    },
    {
      "cell_type": "code",
      "source": [
        "scores = model.evaluate(X_test, y_test)"
      ],
      "metadata": {
        "colab": {
          "base_uri": "https://localhost:8080/"
        },
        "id": "LOYayY7H0XTP",
        "outputId": "a38458f3-a0c2-4a48-cee0-6eb9b30f46f7"
      },
      "execution_count": 79,
      "outputs": [
        {
          "output_type": "stream",
          "name": "stdout",
          "text": [
            "33/33 [==============================] - 0s 2ms/step - loss: 382.3043 - mae: 382.8028\n"
          ]
        }
      ]
    },
    {
      "cell_type": "code",
      "source": [
        "preds = model.predict(X_test, verbose=1)"
      ],
      "metadata": {
        "colab": {
          "base_uri": "https://localhost:8080/"
        },
        "id": "FJIpkBZg6T-D",
        "outputId": "ddcc26fe-1fc6-4a14-9b24-40ee51ed3a65"
      },
      "execution_count": 80,
      "outputs": [
        {
          "output_type": "stream",
          "name": "stdout",
          "text": [
            "33/33 [==============================] - 0s 2ms/step\n"
          ]
        }
      ]
    },
    {
      "cell_type": "code",
      "source": [
        "from scipy import stats"
      ],
      "metadata": {
        "id": "tczk9B-N6WLu"
      },
      "execution_count": 81,
      "outputs": []
    },
    {
      "cell_type": "code",
      "source": [
        "confidence = 0.95\n",
        "\n",
        "abs_errors = abs(preds.flatten() - y_test.to_numpy().flatten())\n",
        "stats.t.interval(confidence, len(abs_errors)-1, \n",
        "                         loc=abs_errors.mean(), \n",
        "                         scale=stats.sem(abs_errors))"
      ],
      "metadata": {
        "colab": {
          "base_uri": "https://localhost:8080/"
        },
        "id": "EXiGUnWP6YUu",
        "outputId": "ab7cf3a5-a144-4944-d563-e9f79e5f4e7e"
      },
      "execution_count": 82,
      "outputs": [
        {
          "output_type": "execute_result",
          "data": {
            "text/plain": [
              "(350.60446449129694, 415.00121335409386)"
            ]
          },
          "metadata": {},
          "execution_count": 82
        }
      ]
    },
    {
      "cell_type": "code",
      "source": [
        "# CI with model 2 & reduce_lr (353.13518581186594, 415.448782334133) ---> (349.8813049279353, 414.6199550540764)\n",
        "\n",
        "# CI with model 1 & reduce_lr (348.6903547674969, 413.900172246969)\n",
        "\n",
        "# it appears model complexity only marginally improves preformance"
      ],
      "metadata": {
        "id": "KC9dSUw2AcXD"
      },
      "execution_count": 83,
      "outputs": []
    },
    {
      "cell_type": "code",
      "source": [
        "model.save(\"brooklyn_model.h5\")"
      ],
      "metadata": {
        "id": "O1EocXxa6r0p"
      },
      "execution_count": 84,
      "outputs": []
    },
    {
      "cell_type": "code",
      "source": [
        "# /content/drive/MyDrive/Boro_DFs/\n",
        "model.save(\"/content/drive/MyDrive/Boro_DFs/brooklyn_model.h5\")"
      ],
      "metadata": {
        "id": "yBEwI7ai60uc"
      },
      "execution_count": 85,
      "outputs": []
    }
  ]
}