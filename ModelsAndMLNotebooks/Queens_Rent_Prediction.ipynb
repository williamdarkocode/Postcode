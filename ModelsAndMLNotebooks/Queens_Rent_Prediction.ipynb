{
  "nbformat": 4,
  "nbformat_minor": 0,
  "metadata": {
    "colab": {
      "name": "Queens_Rent_Prediction",
      "provenance": [],
      "machine_shape": "hm"
    },
    "kernelspec": {
      "name": "python3",
      "display_name": "Python 3"
    },
    "language_info": {
      "name": "python"
    },
    "accelerator": "GPU"
  },
  "cells": [
    {
      "cell_type": "code",
      "execution_count": 1,
      "metadata": {
        "id": "IHq6vEX0JQh5"
      },
      "outputs": [],
      "source": [
        "import matplotlib.pyplot as plt\n",
        "import pandas as pd\n",
        "import numpy as np\n",
        "import tarfile\n",
        "import math\n",
        "\n",
        "from tensorflow import keras\n",
        "from keras import models\n",
        "from keras import layers\n",
        "from keras.callbacks import EarlyStopping\n",
        "\n",
        "\n",
        "from sklearn.model_selection import train_test_split\n",
        "from sklearn.impute import SimpleImputer\n",
        "from sklearn.preprocessing import MinMaxScaler\n",
        "from sklearn.preprocessing import OneHotEncoder"
      ]
    },
    {
      "cell_type": "code",
      "source": [
        "from keras.callbacks import ReduceLROnPlateau"
      ],
      "metadata": {
        "id": "QT0Ilkkn0pq5"
      },
      "execution_count": 2,
      "outputs": []
    },
    {
      "cell_type": "code",
      "source": [
        "from keras.layers import AlphaDropout"
      ],
      "metadata": {
        "id": "9pv0CxHhAe4c"
      },
      "execution_count": 3,
      "outputs": []
    },
    {
      "cell_type": "code",
      "source": [
        "from google.colab import drive\n",
        "drive.mount('/content/drive/')"
      ],
      "metadata": {
        "colab": {
          "base_uri": "https://localhost:8080/"
        },
        "id": "LznBSqDlpFQe",
        "outputId": "088ccd59-1757-4add-a2d2-56892ed58b35"
      },
      "execution_count": 4,
      "outputs": [
        {
          "output_type": "stream",
          "name": "stdout",
          "text": [
            "Mounted at /content/drive/\n"
          ]
        }
      ]
    },
    {
      "cell_type": "code",
      "source": [
        "from numpy.random import seed\n",
        "seed(15)\n",
        "\n",
        "from tensorflow.random import set_seed\n",
        "set_seed(15)"
      ],
      "metadata": {
        "id": "F82b9igNpD4a"
      },
      "execution_count": 5,
      "outputs": []
    },
    {
      "cell_type": "code",
      "source": [
        "queens_csv = '/content/drive/MyDrive/Boro_DFs/queens_df.csv'"
      ],
      "metadata": {
        "id": "It23BQMkpZrO"
      },
      "execution_count": 6,
      "outputs": []
    },
    {
      "cell_type": "code",
      "source": [
        "queens_df = pd.DataFrame(pd.read_csv(queens_csv))"
      ],
      "metadata": {
        "id": "cGPCANEIppM-"
      },
      "execution_count": 7,
      "outputs": []
    },
    {
      "cell_type": "code",
      "source": [
        "queens_df.head()"
      ],
      "metadata": {
        "colab": {
          "base_uri": "https://localhost:8080/",
          "height": 206
        },
        "id": "nn32hx06p1M7",
        "outputId": "a1cef0a9-b983-4b9f-e5cc-a2fbe647a477"
      },
      "execution_count": 8,
      "outputs": [
        {
          "output_type": "execute_result",
          "data": {
            "text/plain": [
              "  Borough              Area                          Address  Num_Beds  \\\n",
              "0  queens           Jamaica               153-30 89th Avenue       2.0   \n",
              "1  queens            Corona  97-11 Horace Harding Expressway       1.0   \n",
              "2  queens           Astoria                32-57 46th Street       3.0   \n",
              "3  queens  Long Island City         29-59 Northern Boulevard       0.5   \n",
              "4  queens          Woodside                33-16 61st Street       2.0   \n",
              "\n",
              "   Num_Baths    Sq-Ft    Rent       Long        Lat ZipCode  Precinct  \\\n",
              "0        2.0  1040.00  3000.0 -73.802233  40.705192   11432     103.0   \n",
              "1        1.0   713.00  2003.0 -73.861895  40.736073   11368     110.0   \n",
              "2        2.0  1200.00  3500.0 -73.915120  40.755264   11103     115.0   \n",
              "3        1.0   578.26  3184.0 -73.854861  40.758454   11368     115.0   \n",
              "4        1.0   843.04  2250.0 -73.903724  40.737006   11377     104.0   \n",
              "\n",
              "   CrimeTotalPastYear Train_Line  Dist_To_Line  Dist_To_Station  \\\n",
              "0              1705.0          F      0.002611         0.002604   \n",
              "1              2102.0          R      0.005640         0.006315   \n",
              "2              1943.0          M      0.001530         0.001914   \n",
              "3              1943.0          7      0.006741         0.006740   \n",
              "4              1473.0          7      0.008501         0.008655   \n",
              "\n",
              "   Dist_To_Entrance  \n",
              "0          0.002350  \n",
              "1          0.005676  \n",
              "2          0.001536  \n",
              "3          0.006945  \n",
              "4          0.008538  "
            ],
            "text/html": [
              "\n",
              "  <div id=\"df-9256b9cb-2735-4541-bbbe-ca89d37ad290\">\n",
              "    <div class=\"colab-df-container\">\n",
              "      <div>\n",
              "<style scoped>\n",
              "    .dataframe tbody tr th:only-of-type {\n",
              "        vertical-align: middle;\n",
              "    }\n",
              "\n",
              "    .dataframe tbody tr th {\n",
              "        vertical-align: top;\n",
              "    }\n",
              "\n",
              "    .dataframe thead th {\n",
              "        text-align: right;\n",
              "    }\n",
              "</style>\n",
              "<table border=\"1\" class=\"dataframe\">\n",
              "  <thead>\n",
              "    <tr style=\"text-align: right;\">\n",
              "      <th></th>\n",
              "      <th>Borough</th>\n",
              "      <th>Area</th>\n",
              "      <th>Address</th>\n",
              "      <th>Num_Beds</th>\n",
              "      <th>Num_Baths</th>\n",
              "      <th>Sq-Ft</th>\n",
              "      <th>Rent</th>\n",
              "      <th>Long</th>\n",
              "      <th>Lat</th>\n",
              "      <th>ZipCode</th>\n",
              "      <th>Precinct</th>\n",
              "      <th>CrimeTotalPastYear</th>\n",
              "      <th>Train_Line</th>\n",
              "      <th>Dist_To_Line</th>\n",
              "      <th>Dist_To_Station</th>\n",
              "      <th>Dist_To_Entrance</th>\n",
              "    </tr>\n",
              "  </thead>\n",
              "  <tbody>\n",
              "    <tr>\n",
              "      <th>0</th>\n",
              "      <td>queens</td>\n",
              "      <td>Jamaica</td>\n",
              "      <td>153-30 89th Avenue</td>\n",
              "      <td>2.0</td>\n",
              "      <td>2.0</td>\n",
              "      <td>1040.00</td>\n",
              "      <td>3000.0</td>\n",
              "      <td>-73.802233</td>\n",
              "      <td>40.705192</td>\n",
              "      <td>11432</td>\n",
              "      <td>103.0</td>\n",
              "      <td>1705.0</td>\n",
              "      <td>F</td>\n",
              "      <td>0.002611</td>\n",
              "      <td>0.002604</td>\n",
              "      <td>0.002350</td>\n",
              "    </tr>\n",
              "    <tr>\n",
              "      <th>1</th>\n",
              "      <td>queens</td>\n",
              "      <td>Corona</td>\n",
              "      <td>97-11 Horace Harding Expressway</td>\n",
              "      <td>1.0</td>\n",
              "      <td>1.0</td>\n",
              "      <td>713.00</td>\n",
              "      <td>2003.0</td>\n",
              "      <td>-73.861895</td>\n",
              "      <td>40.736073</td>\n",
              "      <td>11368</td>\n",
              "      <td>110.0</td>\n",
              "      <td>2102.0</td>\n",
              "      <td>R</td>\n",
              "      <td>0.005640</td>\n",
              "      <td>0.006315</td>\n",
              "      <td>0.005676</td>\n",
              "    </tr>\n",
              "    <tr>\n",
              "      <th>2</th>\n",
              "      <td>queens</td>\n",
              "      <td>Astoria</td>\n",
              "      <td>32-57 46th Street</td>\n",
              "      <td>3.0</td>\n",
              "      <td>2.0</td>\n",
              "      <td>1200.00</td>\n",
              "      <td>3500.0</td>\n",
              "      <td>-73.915120</td>\n",
              "      <td>40.755264</td>\n",
              "      <td>11103</td>\n",
              "      <td>115.0</td>\n",
              "      <td>1943.0</td>\n",
              "      <td>M</td>\n",
              "      <td>0.001530</td>\n",
              "      <td>0.001914</td>\n",
              "      <td>0.001536</td>\n",
              "    </tr>\n",
              "    <tr>\n",
              "      <th>3</th>\n",
              "      <td>queens</td>\n",
              "      <td>Long Island City</td>\n",
              "      <td>29-59 Northern Boulevard</td>\n",
              "      <td>0.5</td>\n",
              "      <td>1.0</td>\n",
              "      <td>578.26</td>\n",
              "      <td>3184.0</td>\n",
              "      <td>-73.854861</td>\n",
              "      <td>40.758454</td>\n",
              "      <td>11368</td>\n",
              "      <td>115.0</td>\n",
              "      <td>1943.0</td>\n",
              "      <td>7</td>\n",
              "      <td>0.006741</td>\n",
              "      <td>0.006740</td>\n",
              "      <td>0.006945</td>\n",
              "    </tr>\n",
              "    <tr>\n",
              "      <th>4</th>\n",
              "      <td>queens</td>\n",
              "      <td>Woodside</td>\n",
              "      <td>33-16 61st Street</td>\n",
              "      <td>2.0</td>\n",
              "      <td>1.0</td>\n",
              "      <td>843.04</td>\n",
              "      <td>2250.0</td>\n",
              "      <td>-73.903724</td>\n",
              "      <td>40.737006</td>\n",
              "      <td>11377</td>\n",
              "      <td>104.0</td>\n",
              "      <td>1473.0</td>\n",
              "      <td>7</td>\n",
              "      <td>0.008501</td>\n",
              "      <td>0.008655</td>\n",
              "      <td>0.008538</td>\n",
              "    </tr>\n",
              "  </tbody>\n",
              "</table>\n",
              "</div>\n",
              "      <button class=\"colab-df-convert\" onclick=\"convertToInteractive('df-9256b9cb-2735-4541-bbbe-ca89d37ad290')\"\n",
              "              title=\"Convert this dataframe to an interactive table.\"\n",
              "              style=\"display:none;\">\n",
              "        \n",
              "  <svg xmlns=\"http://www.w3.org/2000/svg\" height=\"24px\"viewBox=\"0 0 24 24\"\n",
              "       width=\"24px\">\n",
              "    <path d=\"M0 0h24v24H0V0z\" fill=\"none\"/>\n",
              "    <path d=\"M18.56 5.44l.94 2.06.94-2.06 2.06-.94-2.06-.94-.94-2.06-.94 2.06-2.06.94zm-11 1L8.5 8.5l.94-2.06 2.06-.94-2.06-.94L8.5 2.5l-.94 2.06-2.06.94zm10 10l.94 2.06.94-2.06 2.06-.94-2.06-.94-.94-2.06-.94 2.06-2.06.94z\"/><path d=\"M17.41 7.96l-1.37-1.37c-.4-.4-.92-.59-1.43-.59-.52 0-1.04.2-1.43.59L10.3 9.45l-7.72 7.72c-.78.78-.78 2.05 0 2.83L4 21.41c.39.39.9.59 1.41.59.51 0 1.02-.2 1.41-.59l7.78-7.78 2.81-2.81c.8-.78.8-2.07 0-2.86zM5.41 20L4 18.59l7.72-7.72 1.47 1.35L5.41 20z\"/>\n",
              "  </svg>\n",
              "      </button>\n",
              "      \n",
              "  <style>\n",
              "    .colab-df-container {\n",
              "      display:flex;\n",
              "      flex-wrap:wrap;\n",
              "      gap: 12px;\n",
              "    }\n",
              "\n",
              "    .colab-df-convert {\n",
              "      background-color: #E8F0FE;\n",
              "      border: none;\n",
              "      border-radius: 50%;\n",
              "      cursor: pointer;\n",
              "      display: none;\n",
              "      fill: #1967D2;\n",
              "      height: 32px;\n",
              "      padding: 0 0 0 0;\n",
              "      width: 32px;\n",
              "    }\n",
              "\n",
              "    .colab-df-convert:hover {\n",
              "      background-color: #E2EBFA;\n",
              "      box-shadow: 0px 1px 2px rgba(60, 64, 67, 0.3), 0px 1px 3px 1px rgba(60, 64, 67, 0.15);\n",
              "      fill: #174EA6;\n",
              "    }\n",
              "\n",
              "    [theme=dark] .colab-df-convert {\n",
              "      background-color: #3B4455;\n",
              "      fill: #D2E3FC;\n",
              "    }\n",
              "\n",
              "    [theme=dark] .colab-df-convert:hover {\n",
              "      background-color: #434B5C;\n",
              "      box-shadow: 0px 1px 3px 1px rgba(0, 0, 0, 0.15);\n",
              "      filter: drop-shadow(0px 1px 2px rgba(0, 0, 0, 0.3));\n",
              "      fill: #FFFFFF;\n",
              "    }\n",
              "  </style>\n",
              "\n",
              "      <script>\n",
              "        const buttonEl =\n",
              "          document.querySelector('#df-9256b9cb-2735-4541-bbbe-ca89d37ad290 button.colab-df-convert');\n",
              "        buttonEl.style.display =\n",
              "          google.colab.kernel.accessAllowed ? 'block' : 'none';\n",
              "\n",
              "        async function convertToInteractive(key) {\n",
              "          const element = document.querySelector('#df-9256b9cb-2735-4541-bbbe-ca89d37ad290');\n",
              "          const dataTable =\n",
              "            await google.colab.kernel.invokeFunction('convertToInteractive',\n",
              "                                                     [key], {});\n",
              "          if (!dataTable) return;\n",
              "\n",
              "          const docLinkHtml = 'Like what you see? Visit the ' +\n",
              "            '<a target=\"_blank\" href=https://colab.research.google.com/notebooks/data_table.ipynb>data table notebook</a>'\n",
              "            + ' to learn more about interactive tables.';\n",
              "          element.innerHTML = '';\n",
              "          dataTable['output_type'] = 'display_data';\n",
              "          await google.colab.output.renderOutput(dataTable, element);\n",
              "          const docLink = document.createElement('div');\n",
              "          docLink.innerHTML = docLinkHtml;\n",
              "          element.appendChild(docLink);\n",
              "        }\n",
              "      </script>\n",
              "    </div>\n",
              "  </div>\n",
              "  "
            ]
          },
          "metadata": {},
          "execution_count": 8
        }
      ]
    },
    {
      "cell_type": "code",
      "source": [
        "y = queens_df[['Rent']]"
      ],
      "metadata": {
        "id": "nDuMfPUQqMH2"
      },
      "execution_count": 9,
      "outputs": []
    },
    {
      "cell_type": "code",
      "source": [
        "X = queens_df.drop(['Borough', 'Rent'], axis=1)\n",
        "X.head()"
      ],
      "metadata": {
        "colab": {
          "base_uri": "https://localhost:8080/",
          "height": 206
        },
        "id": "xhlAi-gSqUtm",
        "outputId": "d3c066da-987b-42d7-f754-b1e8b86eb6f8"
      },
      "execution_count": 10,
      "outputs": [
        {
          "output_type": "execute_result",
          "data": {
            "text/plain": [
              "               Area                          Address  Num_Beds  Num_Baths  \\\n",
              "0           Jamaica               153-30 89th Avenue       2.0        2.0   \n",
              "1            Corona  97-11 Horace Harding Expressway       1.0        1.0   \n",
              "2           Astoria                32-57 46th Street       3.0        2.0   \n",
              "3  Long Island City         29-59 Northern Boulevard       0.5        1.0   \n",
              "4          Woodside                33-16 61st Street       2.0        1.0   \n",
              "\n",
              "     Sq-Ft       Long        Lat ZipCode  Precinct  CrimeTotalPastYear  \\\n",
              "0  1040.00 -73.802233  40.705192   11432     103.0              1705.0   \n",
              "1   713.00 -73.861895  40.736073   11368     110.0              2102.0   \n",
              "2  1200.00 -73.915120  40.755264   11103     115.0              1943.0   \n",
              "3   578.26 -73.854861  40.758454   11368     115.0              1943.0   \n",
              "4   843.04 -73.903724  40.737006   11377     104.0              1473.0   \n",
              "\n",
              "  Train_Line  Dist_To_Line  Dist_To_Station  Dist_To_Entrance  \n",
              "0          F      0.002611         0.002604          0.002350  \n",
              "1          R      0.005640         0.006315          0.005676  \n",
              "2          M      0.001530         0.001914          0.001536  \n",
              "3          7      0.006741         0.006740          0.006945  \n",
              "4          7      0.008501         0.008655          0.008538  "
            ],
            "text/html": [
              "\n",
              "  <div id=\"df-d112fbf1-d470-4e90-8658-1d358287a0ec\">\n",
              "    <div class=\"colab-df-container\">\n",
              "      <div>\n",
              "<style scoped>\n",
              "    .dataframe tbody tr th:only-of-type {\n",
              "        vertical-align: middle;\n",
              "    }\n",
              "\n",
              "    .dataframe tbody tr th {\n",
              "        vertical-align: top;\n",
              "    }\n",
              "\n",
              "    .dataframe thead th {\n",
              "        text-align: right;\n",
              "    }\n",
              "</style>\n",
              "<table border=\"1\" class=\"dataframe\">\n",
              "  <thead>\n",
              "    <tr style=\"text-align: right;\">\n",
              "      <th></th>\n",
              "      <th>Area</th>\n",
              "      <th>Address</th>\n",
              "      <th>Num_Beds</th>\n",
              "      <th>Num_Baths</th>\n",
              "      <th>Sq-Ft</th>\n",
              "      <th>Long</th>\n",
              "      <th>Lat</th>\n",
              "      <th>ZipCode</th>\n",
              "      <th>Precinct</th>\n",
              "      <th>CrimeTotalPastYear</th>\n",
              "      <th>Train_Line</th>\n",
              "      <th>Dist_To_Line</th>\n",
              "      <th>Dist_To_Station</th>\n",
              "      <th>Dist_To_Entrance</th>\n",
              "    </tr>\n",
              "  </thead>\n",
              "  <tbody>\n",
              "    <tr>\n",
              "      <th>0</th>\n",
              "      <td>Jamaica</td>\n",
              "      <td>153-30 89th Avenue</td>\n",
              "      <td>2.0</td>\n",
              "      <td>2.0</td>\n",
              "      <td>1040.00</td>\n",
              "      <td>-73.802233</td>\n",
              "      <td>40.705192</td>\n",
              "      <td>11432</td>\n",
              "      <td>103.0</td>\n",
              "      <td>1705.0</td>\n",
              "      <td>F</td>\n",
              "      <td>0.002611</td>\n",
              "      <td>0.002604</td>\n",
              "      <td>0.002350</td>\n",
              "    </tr>\n",
              "    <tr>\n",
              "      <th>1</th>\n",
              "      <td>Corona</td>\n",
              "      <td>97-11 Horace Harding Expressway</td>\n",
              "      <td>1.0</td>\n",
              "      <td>1.0</td>\n",
              "      <td>713.00</td>\n",
              "      <td>-73.861895</td>\n",
              "      <td>40.736073</td>\n",
              "      <td>11368</td>\n",
              "      <td>110.0</td>\n",
              "      <td>2102.0</td>\n",
              "      <td>R</td>\n",
              "      <td>0.005640</td>\n",
              "      <td>0.006315</td>\n",
              "      <td>0.005676</td>\n",
              "    </tr>\n",
              "    <tr>\n",
              "      <th>2</th>\n",
              "      <td>Astoria</td>\n",
              "      <td>32-57 46th Street</td>\n",
              "      <td>3.0</td>\n",
              "      <td>2.0</td>\n",
              "      <td>1200.00</td>\n",
              "      <td>-73.915120</td>\n",
              "      <td>40.755264</td>\n",
              "      <td>11103</td>\n",
              "      <td>115.0</td>\n",
              "      <td>1943.0</td>\n",
              "      <td>M</td>\n",
              "      <td>0.001530</td>\n",
              "      <td>0.001914</td>\n",
              "      <td>0.001536</td>\n",
              "    </tr>\n",
              "    <tr>\n",
              "      <th>3</th>\n",
              "      <td>Long Island City</td>\n",
              "      <td>29-59 Northern Boulevard</td>\n",
              "      <td>0.5</td>\n",
              "      <td>1.0</td>\n",
              "      <td>578.26</td>\n",
              "      <td>-73.854861</td>\n",
              "      <td>40.758454</td>\n",
              "      <td>11368</td>\n",
              "      <td>115.0</td>\n",
              "      <td>1943.0</td>\n",
              "      <td>7</td>\n",
              "      <td>0.006741</td>\n",
              "      <td>0.006740</td>\n",
              "      <td>0.006945</td>\n",
              "    </tr>\n",
              "    <tr>\n",
              "      <th>4</th>\n",
              "      <td>Woodside</td>\n",
              "      <td>33-16 61st Street</td>\n",
              "      <td>2.0</td>\n",
              "      <td>1.0</td>\n",
              "      <td>843.04</td>\n",
              "      <td>-73.903724</td>\n",
              "      <td>40.737006</td>\n",
              "      <td>11377</td>\n",
              "      <td>104.0</td>\n",
              "      <td>1473.0</td>\n",
              "      <td>7</td>\n",
              "      <td>0.008501</td>\n",
              "      <td>0.008655</td>\n",
              "      <td>0.008538</td>\n",
              "    </tr>\n",
              "  </tbody>\n",
              "</table>\n",
              "</div>\n",
              "      <button class=\"colab-df-convert\" onclick=\"convertToInteractive('df-d112fbf1-d470-4e90-8658-1d358287a0ec')\"\n",
              "              title=\"Convert this dataframe to an interactive table.\"\n",
              "              style=\"display:none;\">\n",
              "        \n",
              "  <svg xmlns=\"http://www.w3.org/2000/svg\" height=\"24px\"viewBox=\"0 0 24 24\"\n",
              "       width=\"24px\">\n",
              "    <path d=\"M0 0h24v24H0V0z\" fill=\"none\"/>\n",
              "    <path d=\"M18.56 5.44l.94 2.06.94-2.06 2.06-.94-2.06-.94-.94-2.06-.94 2.06-2.06.94zm-11 1L8.5 8.5l.94-2.06 2.06-.94-2.06-.94L8.5 2.5l-.94 2.06-2.06.94zm10 10l.94 2.06.94-2.06 2.06-.94-2.06-.94-.94-2.06-.94 2.06-2.06.94z\"/><path d=\"M17.41 7.96l-1.37-1.37c-.4-.4-.92-.59-1.43-.59-.52 0-1.04.2-1.43.59L10.3 9.45l-7.72 7.72c-.78.78-.78 2.05 0 2.83L4 21.41c.39.39.9.59 1.41.59.51 0 1.02-.2 1.41-.59l7.78-7.78 2.81-2.81c.8-.78.8-2.07 0-2.86zM5.41 20L4 18.59l7.72-7.72 1.47 1.35L5.41 20z\"/>\n",
              "  </svg>\n",
              "      </button>\n",
              "      \n",
              "  <style>\n",
              "    .colab-df-container {\n",
              "      display:flex;\n",
              "      flex-wrap:wrap;\n",
              "      gap: 12px;\n",
              "    }\n",
              "\n",
              "    .colab-df-convert {\n",
              "      background-color: #E8F0FE;\n",
              "      border: none;\n",
              "      border-radius: 50%;\n",
              "      cursor: pointer;\n",
              "      display: none;\n",
              "      fill: #1967D2;\n",
              "      height: 32px;\n",
              "      padding: 0 0 0 0;\n",
              "      width: 32px;\n",
              "    }\n",
              "\n",
              "    .colab-df-convert:hover {\n",
              "      background-color: #E2EBFA;\n",
              "      box-shadow: 0px 1px 2px rgba(60, 64, 67, 0.3), 0px 1px 3px 1px rgba(60, 64, 67, 0.15);\n",
              "      fill: #174EA6;\n",
              "    }\n",
              "\n",
              "    [theme=dark] .colab-df-convert {\n",
              "      background-color: #3B4455;\n",
              "      fill: #D2E3FC;\n",
              "    }\n",
              "\n",
              "    [theme=dark] .colab-df-convert:hover {\n",
              "      background-color: #434B5C;\n",
              "      box-shadow: 0px 1px 3px 1px rgba(0, 0, 0, 0.15);\n",
              "      filter: drop-shadow(0px 1px 2px rgba(0, 0, 0, 0.3));\n",
              "      fill: #FFFFFF;\n",
              "    }\n",
              "  </style>\n",
              "\n",
              "      <script>\n",
              "        const buttonEl =\n",
              "          document.querySelector('#df-d112fbf1-d470-4e90-8658-1d358287a0ec button.colab-df-convert');\n",
              "        buttonEl.style.display =\n",
              "          google.colab.kernel.accessAllowed ? 'block' : 'none';\n",
              "\n",
              "        async function convertToInteractive(key) {\n",
              "          const element = document.querySelector('#df-d112fbf1-d470-4e90-8658-1d358287a0ec');\n",
              "          const dataTable =\n",
              "            await google.colab.kernel.invokeFunction('convertToInteractive',\n",
              "                                                     [key], {});\n",
              "          if (!dataTable) return;\n",
              "\n",
              "          const docLinkHtml = 'Like what you see? Visit the ' +\n",
              "            '<a target=\"_blank\" href=https://colab.research.google.com/notebooks/data_table.ipynb>data table notebook</a>'\n",
              "            + ' to learn more about interactive tables.';\n",
              "          element.innerHTML = '';\n",
              "          dataTable['output_type'] = 'display_data';\n",
              "          await google.colab.output.renderOutput(dataTable, element);\n",
              "          const docLink = document.createElement('div');\n",
              "          docLink.innerHTML = docLinkHtml;\n",
              "          element.appendChild(docLink);\n",
              "        }\n",
              "      </script>\n",
              "    </div>\n",
              "  </div>\n",
              "  "
            ]
          },
          "metadata": {},
          "execution_count": 10
        }
      ]
    },
    {
      "cell_type": "code",
      "source": [
        "X = pd.get_dummies(X, columns=['Area', 'Address', 'ZipCode', 'Precinct', 'Train_Line'])"
      ],
      "metadata": {
        "id": "4P1BFCNV4NK4"
      },
      "execution_count": 11,
      "outputs": []
    },
    {
      "cell_type": "code",
      "source": [
        "X_train, X_test, y_train, y_test = train_test_split(X, y, test_size=0.2, random_state=42) "
      ],
      "metadata": {
        "id": "PGBo1zfvsq38"
      },
      "execution_count": 12,
      "outputs": []
    },
    {
      "cell_type": "code",
      "source": [
        "numeric_cols = ['Num_Beds', 'Num_Baths', 'Sq-Ft', 'Long', 'Lat', 'CrimeTotalPastYear', 'Dist_To_Line', 'Dist_To_Station', 'Dist_To_Entrance']"
      ],
      "metadata": {
        "id": "uQhhxKkD4efw"
      },
      "execution_count": 13,
      "outputs": []
    },
    {
      "cell_type": "code",
      "source": [
        "X_train_num = X_train[numeric_cols]"
      ],
      "metadata": {
        "id": "I4uVOTx2tGNS"
      },
      "execution_count": 14,
      "outputs": []
    },
    {
      "cell_type": "code",
      "source": [
        "X_test_num = X_test[numeric_cols]"
      ],
      "metadata": {
        "id": "z5-Af9EKtmY2"
      },
      "execution_count": 15,
      "outputs": []
    },
    {
      "cell_type": "code",
      "source": [
        "print(X_train_num.shape)\n",
        "print(X_test_num.shape)"
      ],
      "metadata": {
        "colab": {
          "base_uri": "https://localhost:8080/"
        },
        "id": "Vdgob14o5HKD",
        "outputId": "8bc66bcd-8f2f-444e-be77-bb737aacd997"
      },
      "execution_count": 16,
      "outputs": [
        {
          "output_type": "stream",
          "name": "stdout",
          "text": [
            "(1936, 9)\n",
            "(484, 9)\n"
          ]
        }
      ]
    },
    {
      "cell_type": "code",
      "source": [
        "scaler = MinMaxScaler()"
      ],
      "metadata": {
        "id": "p9RNRLAbtwBQ"
      },
      "execution_count": 17,
      "outputs": []
    },
    {
      "cell_type": "code",
      "source": [
        "X_train_num = scaler.fit_transform(X_train_num)"
      ],
      "metadata": {
        "id": "7PtlLZ1Ct1q8"
      },
      "execution_count": 18,
      "outputs": []
    },
    {
      "cell_type": "code",
      "source": [
        "X_train_num.shape"
      ],
      "metadata": {
        "colab": {
          "base_uri": "https://localhost:8080/"
        },
        "id": "UOd7oCyH2aUQ",
        "outputId": "7c9ec5ef-04d7-4500-de5c-27000a9ab333"
      },
      "execution_count": 19,
      "outputs": [
        {
          "output_type": "execute_result",
          "data": {
            "text/plain": [
              "(1936, 9)"
            ]
          },
          "metadata": {},
          "execution_count": 19
        }
      ]
    },
    {
      "cell_type": "code",
      "source": [
        "X_test_num = scaler.transform(X_test_num)"
      ],
      "metadata": {
        "id": "P71FdUJ0uBwi"
      },
      "execution_count": 20,
      "outputs": []
    },
    {
      "cell_type": "code",
      "source": [
        "X_test_num.shape"
      ],
      "metadata": {
        "colab": {
          "base_uri": "https://localhost:8080/"
        },
        "id": "ReDQGS852Xdb",
        "outputId": "d2f117bd-8135-454e-d534-ed22607e426c"
      },
      "execution_count": 21,
      "outputs": [
        {
          "output_type": "execute_result",
          "data": {
            "text/plain": [
              "(484, 9)"
            ]
          },
          "metadata": {},
          "execution_count": 21
        }
      ]
    },
    {
      "cell_type": "code",
      "source": [
        "X_train_onehots = X_train.drop(numeric_cols, axis=1)\n",
        "X_test_onehots = X_test.drop(numeric_cols, axis=1)"
      ],
      "metadata": {
        "id": "FdZcJP0QuIVM"
      },
      "execution_count": 22,
      "outputs": []
    },
    {
      "cell_type": "code",
      "source": [
        "X_train_onehots.shape"
      ],
      "metadata": {
        "colab": {
          "base_uri": "https://localhost:8080/"
        },
        "id": "z6g_xtgK15Je",
        "outputId": "4c587177-3afe-44e4-d81c-f6a23c48af2c"
      },
      "execution_count": 23,
      "outputs": [
        {
          "output_type": "execute_result",
          "data": {
            "text/plain": [
              "(1936, 1518)"
            ]
          },
          "metadata": {},
          "execution_count": 23
        }
      ]
    },
    {
      "cell_type": "code",
      "source": [
        "X_test_onehots.shape"
      ],
      "metadata": {
        "colab": {
          "base_uri": "https://localhost:8080/"
        },
        "id": "kqRZuLf917vt",
        "outputId": "b57cee2d-47b7-4fca-e603-c8e808dafa33"
      },
      "execution_count": 24,
      "outputs": [
        {
          "output_type": "execute_result",
          "data": {
            "text/plain": [
              "(484, 1518)"
            ]
          },
          "metadata": {},
          "execution_count": 24
        }
      ]
    },
    {
      "cell_type": "code",
      "source": [
        "X_train = np.concatenate((X_train_num, X_train_onehots), axis=1)"
      ],
      "metadata": {
        "id": "fr7kghS9yA5F"
      },
      "execution_count": 25,
      "outputs": []
    },
    {
      "cell_type": "code",
      "source": [
        "X_test = np.concatenate((X_test_num, X_test_onehots), axis=1)"
      ],
      "metadata": {
        "id": "WTUi2RjXyMFd"
      },
      "execution_count": 26,
      "outputs": []
    },
    {
      "cell_type": "code",
      "source": [
        "# create validation set\n",
        "num_val_insts = math.floor(X_train.shape[0]*(.10))\n",
        "\n",
        "X_val = X_train[:num_val_insts]\n",
        "y_val = y_train[:num_val_insts]\n",
        "\n",
        "X_train = X_train[num_val_insts:]\n",
        "y_train = y_train[num_val_insts:]"
      ],
      "metadata": {
        "id": "d3BMgWC8yaXg"
      },
      "execution_count": 27,
      "outputs": []
    },
    {
      "cell_type": "code",
      "source": [
        "print(f\"X_train shape: {X_train.shape}, y_train shape: {y_train.shape}\")\n",
        "print(f\"X_val shape: {X_val.shape}, y_val shape: {y_val.shape}\")\n",
        "print(f\"X_test shape: {X_test.shape}, y_test shape: {y_test.shape}\")"
      ],
      "metadata": {
        "colab": {
          "base_uri": "https://localhost:8080/"
        },
        "id": "HytfmXvtyjHK",
        "outputId": "76429157-98db-497f-c130-7092e978b0cc"
      },
      "execution_count": 28,
      "outputs": [
        {
          "output_type": "stream",
          "name": "stdout",
          "text": [
            "X_train shape: (1743, 1527), y_train shape: (1743, 1)\n",
            "X_val shape: (193, 1527), y_val shape: (193, 1)\n",
            "X_test shape: (484, 1527), y_test shape: (484, 1)\n"
          ]
        }
      ]
    },
    {
      "cell_type": "code",
      "source": [
        "from keras.initializers import lecun_normal"
      ],
      "metadata": {
        "id": "Yc8srrdAy3cI"
      },
      "execution_count": 29,
      "outputs": []
    },
    {
      "cell_type": "code",
      "source": [
        "initialiser = lecun_normal(seed=31)"
      ],
      "metadata": {
        "id": "mSe9P4ETy4zn"
      },
      "execution_count": 30,
      "outputs": []
    },
    {
      "cell_type": "code",
      "source": [
        "# model\n",
        "\n",
        "model = models.Sequential()\n",
        "model.add(layers.Dense(512, activation='selu', input_shape=(X_train.shape[1],), kernel_initializer=initialiser))\n",
        "model.add(layers.Dense(512, activation='selu', kernel_initializer=initialiser))\n",
        "model.add(layers.Dense(512, activation='selu', kernel_initializer=initialiser))\n",
        "model.add(layers.Dense(512, activation='selu', kernel_initializer=initialiser))\n",
        "model.add(layers.Dense(512, activation='selu', kernel_initializer=initialiser))\n",
        "model.add(layers.Dense(512, activation='selu', kernel_initializer=initialiser))\n",
        "model.add(layers.Dense(512, activation='selu', kernel_initializer=initialiser))\n",
        "\n",
        "model.add(layers.Dense(256, activation='selu', kernel_initializer=initialiser))\n",
        "model.add(layers.Dense(256, activation='selu', kernel_initializer=initialiser))\n",
        "\n",
        "model.add(layers.Dense(128, activation='selu', kernel_initializer=initialiser))\n",
        "model.add(layers.Dense(128, activation='selu', kernel_initializer=initialiser))\n",
        "\n",
        "model.add(layers.Dense(64, activation='selu', kernel_initializer=initialiser))\n",
        "model.add(layers.Dense(64, activation='selu', kernel_initializer=initialiser))\n",
        "\n",
        "\n",
        "model.add(layers.Dense(1))"
      ],
      "metadata": {
        "id": "iHi12V7BzCM6"
      },
      "execution_count": 31,
      "outputs": []
    },
    {
      "cell_type": "code",
      "source": [
        "model.summary()"
      ],
      "metadata": {
        "colab": {
          "base_uri": "https://localhost:8080/"
        },
        "id": "TPI57bQuzJcc",
        "outputId": "a80545ee-87b2-4823-9575-541acc764ce3"
      },
      "execution_count": 32,
      "outputs": [
        {
          "output_type": "stream",
          "name": "stdout",
          "text": [
            "Model: \"sequential\"\n",
            "_________________________________________________________________\n",
            " Layer (type)                Output Shape              Param #   \n",
            "=================================================================\n",
            " dense (Dense)               (None, 512)               782336    \n",
            "                                                                 \n",
            " dense_1 (Dense)             (None, 512)               262656    \n",
            "                                                                 \n",
            " dense_2 (Dense)             (None, 512)               262656    \n",
            "                                                                 \n",
            " dense_3 (Dense)             (None, 512)               262656    \n",
            "                                                                 \n",
            " dense_4 (Dense)             (None, 512)               262656    \n",
            "                                                                 \n",
            " dense_5 (Dense)             (None, 512)               262656    \n",
            "                                                                 \n",
            " dense_6 (Dense)             (None, 512)               262656    \n",
            "                                                                 \n",
            " dense_7 (Dense)             (None, 256)               131328    \n",
            "                                                                 \n",
            " dense_8 (Dense)             (None, 256)               65792     \n",
            "                                                                 \n",
            " dense_9 (Dense)             (None, 128)               32896     \n",
            "                                                                 \n",
            " dense_10 (Dense)            (None, 128)               16512     \n",
            "                                                                 \n",
            " dense_11 (Dense)            (None, 64)                8256      \n",
            "                                                                 \n",
            " dense_12 (Dense)            (None, 64)                4160      \n",
            "                                                                 \n",
            " dense_13 (Dense)            (None, 1)                 65        \n",
            "                                                                 \n",
            "=================================================================\n",
            "Total params: 2,617,281\n",
            "Trainable params: 2,617,281\n",
            "Non-trainable params: 0\n",
            "_________________________________________________________________\n"
          ]
        }
      ]
    },
    {
      "cell_type": "code",
      "source": [
        "model.compile(loss=\"huber_loss\", optimizer=keras.optimizers.Adam(learning_rate=.001), metrics=[\"mae\"])"
      ],
      "metadata": {
        "id": "3vPBvwnDzLl7"
      },
      "execution_count": 33,
      "outputs": []
    },
    {
      "cell_type": "code",
      "source": [
        "early_stop = EarlyStopping(monitor='val_mae', mode='min', \n",
        "                           verbose=1, patience=30, min_delta=.5, \n",
        "                           restore_best_weights=True)"
      ],
      "metadata": {
        "id": "SEE4clNfzT-Z"
      },
      "execution_count": 34,
      "outputs": []
    },
    {
      "cell_type": "code",
      "source": [
        "#reduce on plateau\n",
        "reduce_lr = ReduceLROnPlateau(\n",
        "    monitor='val_mae',\n",
        "    patience=15,\n",
        "    factor=.1,\n",
        "    mode='min',\n",
        "    min_delta=.5,\n",
        "    verbose=1,\n",
        "    min_lr=.0001\n",
        ")"
      ],
      "metadata": {
        "id": "Ki-Wg3ke0GSk"
      },
      "execution_count": 35,
      "outputs": []
    },
    {
      "cell_type": "code",
      "source": [
        "history = model.fit(X_train, y_train, epochs=300,\n",
        "                    validation_data=(X_val, y_val),\n",
        "                    callbacks=[early_stop, reduce_lr])"
      ],
      "metadata": {
        "colab": {
          "base_uri": "https://localhost:8080/"
        },
        "id": "ghmmiDo1zYHv",
        "outputId": "37034dc5-2384-492a-c065-5e3a24a70992"
      },
      "execution_count": 36,
      "outputs": [
        {
          "output_type": "stream",
          "name": "stdout",
          "text": [
            "Epoch 1/300\n",
            "55/55 [==============================] - 5s 11ms/step - loss: 1220.4718 - mae: 1220.9718 - val_loss: 688.0521 - val_mae: 688.5521 - lr: 0.0010\n",
            "Epoch 2/300\n",
            "55/55 [==============================] - 0s 5ms/step - loss: 519.8657 - mae: 520.3651 - val_loss: 412.0521 - val_mae: 412.5521 - lr: 0.0010\n",
            "Epoch 3/300\n",
            "55/55 [==============================] - 0s 5ms/step - loss: 432.8266 - mae: 433.3266 - val_loss: 384.1694 - val_mae: 384.6694 - lr: 0.0010\n",
            "Epoch 4/300\n",
            "55/55 [==============================] - 0s 5ms/step - loss: 353.3028 - mae: 353.8025 - val_loss: 338.5938 - val_mae: 339.0937 - lr: 0.0010\n",
            "Epoch 5/300\n",
            "55/55 [==============================] - 0s 5ms/step - loss: 288.6435 - mae: 289.1426 - val_loss: 312.3660 - val_mae: 312.8660 - lr: 0.0010\n",
            "Epoch 6/300\n",
            "55/55 [==============================] - 0s 5ms/step - loss: 272.4153 - mae: 272.9149 - val_loss: 391.3401 - val_mae: 391.8394 - lr: 0.0010\n",
            "Epoch 7/300\n",
            "55/55 [==============================] - 0s 5ms/step - loss: 258.4174 - mae: 258.9168 - val_loss: 337.4697 - val_mae: 337.9697 - lr: 0.0010\n",
            "Epoch 8/300\n",
            "55/55 [==============================] - 0s 5ms/step - loss: 229.2156 - mae: 229.7148 - val_loss: 277.2158 - val_mae: 277.7138 - lr: 0.0010\n",
            "Epoch 9/300\n",
            "55/55 [==============================] - 0s 5ms/step - loss: 249.0203 - mae: 249.5194 - val_loss: 320.5494 - val_mae: 321.0494 - lr: 0.0010\n",
            "Epoch 10/300\n",
            "55/55 [==============================] - 0s 5ms/step - loss: 224.7486 - mae: 225.2478 - val_loss: 303.3441 - val_mae: 303.8441 - lr: 0.0010\n",
            "Epoch 11/300\n",
            "55/55 [==============================] - 0s 5ms/step - loss: 202.3123 - mae: 202.8117 - val_loss: 357.5202 - val_mae: 358.0202 - lr: 0.0010\n",
            "Epoch 12/300\n",
            "55/55 [==============================] - 0s 5ms/step - loss: 218.1844 - mae: 218.6840 - val_loss: 310.9004 - val_mae: 311.4004 - lr: 0.0010\n",
            "Epoch 13/300\n",
            "55/55 [==============================] - 0s 5ms/step - loss: 192.5325 - mae: 193.0318 - val_loss: 372.9179 - val_mae: 373.4179 - lr: 0.0010\n",
            "Epoch 14/300\n",
            "55/55 [==============================] - 0s 5ms/step - loss: 233.1515 - mae: 233.6510 - val_loss: 308.9276 - val_mae: 309.4276 - lr: 0.0010\n",
            "Epoch 15/300\n",
            "55/55 [==============================] - 0s 5ms/step - loss: 244.2185 - mae: 244.7179 - val_loss: 269.4348 - val_mae: 269.9348 - lr: 0.0010\n",
            "Epoch 16/300\n",
            "55/55 [==============================] - 0s 5ms/step - loss: 182.4706 - mae: 182.9695 - val_loss: 284.4802 - val_mae: 284.9802 - lr: 0.0010\n",
            "Epoch 17/300\n",
            "55/55 [==============================] - 0s 5ms/step - loss: 180.2893 - mae: 180.7881 - val_loss: 292.8277 - val_mae: 293.3277 - lr: 0.0010\n",
            "Epoch 18/300\n",
            "55/55 [==============================] - 0s 5ms/step - loss: 178.8635 - mae: 179.3629 - val_loss: 266.3186 - val_mae: 266.8186 - lr: 0.0010\n",
            "Epoch 19/300\n",
            "55/55 [==============================] - 0s 5ms/step - loss: 195.8303 - mae: 196.3291 - val_loss: 269.2392 - val_mae: 269.7392 - lr: 0.0010\n",
            "Epoch 20/300\n",
            "55/55 [==============================] - 0s 5ms/step - loss: 174.7102 - mae: 175.2092 - val_loss: 242.1275 - val_mae: 242.6275 - lr: 0.0010\n",
            "Epoch 21/300\n",
            "55/55 [==============================] - 0s 5ms/step - loss: 184.0368 - mae: 184.5353 - val_loss: 368.1824 - val_mae: 368.6806 - lr: 0.0010\n",
            "Epoch 22/300\n",
            "55/55 [==============================] - 0s 5ms/step - loss: 162.7595 - mae: 163.2576 - val_loss: 281.3960 - val_mae: 281.8960 - lr: 0.0010\n",
            "Epoch 23/300\n",
            "55/55 [==============================] - 0s 5ms/step - loss: 159.7969 - mae: 160.2959 - val_loss: 270.1063 - val_mae: 270.6063 - lr: 0.0010\n",
            "Epoch 24/300\n",
            "55/55 [==============================] - 0s 5ms/step - loss: 183.9755 - mae: 184.4744 - val_loss: 248.7772 - val_mae: 249.2772 - lr: 0.0010\n",
            "Epoch 25/300\n",
            "55/55 [==============================] - 0s 5ms/step - loss: 161.5879 - mae: 162.0868 - val_loss: 362.3888 - val_mae: 362.8888 - lr: 0.0010\n",
            "Epoch 26/300\n",
            "55/55 [==============================] - 0s 5ms/step - loss: 150.2829 - mae: 150.7816 - val_loss: 252.7414 - val_mae: 253.2413 - lr: 0.0010\n",
            "Epoch 27/300\n",
            "55/55 [==============================] - 0s 5ms/step - loss: 148.3334 - mae: 148.8327 - val_loss: 261.8018 - val_mae: 262.3018 - lr: 0.0010\n",
            "Epoch 28/300\n",
            "55/55 [==============================] - 0s 5ms/step - loss: 176.3824 - mae: 176.8815 - val_loss: 249.4136 - val_mae: 249.9136 - lr: 0.0010\n",
            "Epoch 29/300\n",
            "55/55 [==============================] - 0s 5ms/step - loss: 179.2814 - mae: 179.7805 - val_loss: 260.6441 - val_mae: 261.1441 - lr: 0.0010\n",
            "Epoch 30/300\n",
            "55/55 [==============================] - 0s 5ms/step - loss: 164.9904 - mae: 165.4895 - val_loss: 247.2930 - val_mae: 247.7930 - lr: 0.0010\n",
            "Epoch 31/300\n",
            "55/55 [==============================] - 0s 5ms/step - loss: 186.3326 - mae: 186.8321 - val_loss: 245.5523 - val_mae: 246.0511 - lr: 0.0010\n",
            "Epoch 32/300\n",
            "55/55 [==============================] - 0s 5ms/step - loss: 162.7227 - mae: 163.2223 - val_loss: 232.4038 - val_mae: 232.9038 - lr: 0.0010\n",
            "Epoch 33/300\n",
            "55/55 [==============================] - 0s 5ms/step - loss: 156.0076 - mae: 156.5068 - val_loss: 256.0159 - val_mae: 256.5159 - lr: 0.0010\n",
            "Epoch 34/300\n",
            "55/55 [==============================] - 0s 5ms/step - loss: 164.6601 - mae: 165.1593 - val_loss: 272.6005 - val_mae: 273.1005 - lr: 0.0010\n",
            "Epoch 35/300\n",
            "55/55 [==============================] - 0s 5ms/step - loss: 144.4076 - mae: 144.9069 - val_loss: 237.9253 - val_mae: 238.4227 - lr: 0.0010\n",
            "Epoch 36/300\n",
            "55/55 [==============================] - 0s 5ms/step - loss: 169.0537 - mae: 169.5531 - val_loss: 239.0619 - val_mae: 239.5619 - lr: 0.0010\n",
            "Epoch 37/300\n",
            "55/55 [==============================] - 0s 5ms/step - loss: 127.3019 - mae: 127.8004 - val_loss: 219.9261 - val_mae: 220.4226 - lr: 0.0010\n",
            "Epoch 38/300\n",
            "55/55 [==============================] - 0s 5ms/step - loss: 154.0540 - mae: 154.5533 - val_loss: 258.0975 - val_mae: 258.5952 - lr: 0.0010\n",
            "Epoch 39/300\n",
            "55/55 [==============================] - 0s 5ms/step - loss: 141.6809 - mae: 142.1796 - val_loss: 255.5529 - val_mae: 256.0509 - lr: 0.0010\n",
            "Epoch 40/300\n",
            "55/55 [==============================] - 0s 5ms/step - loss: 167.0860 - mae: 167.5851 - val_loss: 338.5789 - val_mae: 339.0789 - lr: 0.0010\n",
            "Epoch 41/300\n",
            "55/55 [==============================] - 0s 5ms/step - loss: 156.1925 - mae: 156.6916 - val_loss: 249.2403 - val_mae: 249.7396 - lr: 0.0010\n",
            "Epoch 42/300\n",
            "55/55 [==============================] - 0s 5ms/step - loss: 142.6805 - mae: 143.1795 - val_loss: 234.7124 - val_mae: 235.2121 - lr: 0.0010\n",
            "Epoch 43/300\n",
            "55/55 [==============================] - 0s 5ms/step - loss: 143.4593 - mae: 143.9583 - val_loss: 248.5777 - val_mae: 249.0777 - lr: 0.0010\n",
            "Epoch 44/300\n",
            "55/55 [==============================] - 0s 5ms/step - loss: 135.2384 - mae: 135.7377 - val_loss: 246.1850 - val_mae: 246.6850 - lr: 0.0010\n",
            "Epoch 45/300\n",
            "55/55 [==============================] - 0s 5ms/step - loss: 153.3437 - mae: 153.8426 - val_loss: 318.2543 - val_mae: 318.7543 - lr: 0.0010\n",
            "Epoch 46/300\n",
            "55/55 [==============================] - 0s 5ms/step - loss: 176.9566 - mae: 177.4558 - val_loss: 244.4908 - val_mae: 244.9908 - lr: 0.0010\n",
            "Epoch 47/300\n",
            "55/55 [==============================] - 0s 5ms/step - loss: 119.7534 - mae: 120.2513 - val_loss: 251.5420 - val_mae: 252.0420 - lr: 0.0010\n",
            "Epoch 48/300\n",
            "55/55 [==============================] - 0s 5ms/step - loss: 146.8699 - mae: 147.3694 - val_loss: 236.0216 - val_mae: 236.5216 - lr: 0.0010\n",
            "Epoch 49/300\n",
            "55/55 [==============================] - 0s 5ms/step - loss: 130.3369 - mae: 130.8356 - val_loss: 236.5014 - val_mae: 237.0012 - lr: 0.0010\n",
            "Epoch 50/300\n",
            "55/55 [==============================] - 0s 5ms/step - loss: 110.9030 - mae: 111.4016 - val_loss: 228.2505 - val_mae: 228.7490 - lr: 0.0010\n",
            "Epoch 51/300\n",
            "55/55 [==============================] - 0s 5ms/step - loss: 124.5622 - mae: 125.0605 - val_loss: 228.5513 - val_mae: 229.0505 - lr: 0.0010\n",
            "Epoch 52/300\n",
            "50/55 [==========================>...] - ETA: 0s - loss: 108.3469 - mae: 108.8456\n",
            "Epoch 52: ReduceLROnPlateau reducing learning rate to 0.00010000000474974513.\n",
            "55/55 [==============================] - 0s 5ms/step - loss: 109.6370 - mae: 110.1357 - val_loss: 220.4485 - val_mae: 220.9485 - lr: 0.0010\n",
            "Epoch 53/300\n",
            "55/55 [==============================] - 0s 5ms/step - loss: 85.2635 - mae: 85.7610 - val_loss: 210.9477 - val_mae: 211.4477 - lr: 1.0000e-04\n",
            "Epoch 54/300\n",
            "55/55 [==============================] - 0s 5ms/step - loss: 76.4172 - mae: 76.9150 - val_loss: 209.3699 - val_mae: 209.8686 - lr: 1.0000e-04\n",
            "Epoch 55/300\n",
            "55/55 [==============================] - 0s 5ms/step - loss: 71.8131 - mae: 72.3107 - val_loss: 206.3656 - val_mae: 206.8656 - lr: 1.0000e-04\n",
            "Epoch 56/300\n",
            "55/55 [==============================] - 0s 5ms/step - loss: 70.3120 - mae: 70.8080 - val_loss: 210.0103 - val_mae: 210.5037 - lr: 1.0000e-04\n",
            "Epoch 57/300\n",
            "55/55 [==============================] - 0s 5ms/step - loss: 70.3763 - mae: 70.8724 - val_loss: 207.2168 - val_mae: 207.7151 - lr: 1.0000e-04\n",
            "Epoch 58/300\n",
            "55/55 [==============================] - 0s 5ms/step - loss: 66.9848 - mae: 67.4797 - val_loss: 210.4204 - val_mae: 210.9178 - lr: 1.0000e-04\n",
            "Epoch 59/300\n",
            "55/55 [==============================] - 0s 5ms/step - loss: 65.4015 - mae: 65.8956 - val_loss: 210.4535 - val_mae: 210.9535 - lr: 1.0000e-04\n",
            "Epoch 60/300\n",
            "55/55 [==============================] - 0s 5ms/step - loss: 63.4669 - mae: 63.9628 - val_loss: 206.5162 - val_mae: 207.0161 - lr: 1.0000e-04\n",
            "Epoch 61/300\n",
            "55/55 [==============================] - 0s 5ms/step - loss: 60.9043 - mae: 61.3974 - val_loss: 206.6796 - val_mae: 207.1794 - lr: 1.0000e-04\n",
            "Epoch 62/300\n",
            "55/55 [==============================] - 0s 5ms/step - loss: 59.6065 - mae: 60.1020 - val_loss: 204.9625 - val_mae: 205.4601 - lr: 1.0000e-04\n",
            "Epoch 63/300\n",
            "55/55 [==============================] - 0s 5ms/step - loss: 59.7895 - mae: 60.2840 - val_loss: 206.2974 - val_mae: 206.7974 - lr: 1.0000e-04\n",
            "Epoch 64/300\n",
            "55/55 [==============================] - 0s 5ms/step - loss: 58.8181 - mae: 59.3123 - val_loss: 204.5063 - val_mae: 205.0055 - lr: 1.0000e-04\n",
            "Epoch 65/300\n",
            "55/55 [==============================] - 0s 5ms/step - loss: 56.6819 - mae: 57.1746 - val_loss: 203.4777 - val_mae: 203.9677 - lr: 1.0000e-04\n",
            "Epoch 66/300\n",
            "55/55 [==============================] - 0s 5ms/step - loss: 57.9990 - mae: 58.4936 - val_loss: 205.4812 - val_mae: 205.9811 - lr: 1.0000e-04\n",
            "Epoch 67/300\n",
            "55/55 [==============================] - 0s 5ms/step - loss: 56.2138 - mae: 56.7059 - val_loss: 204.6217 - val_mae: 205.1215 - lr: 1.0000e-04\n",
            "Epoch 68/300\n",
            "55/55 [==============================] - 0s 5ms/step - loss: 56.3578 - mae: 56.8502 - val_loss: 203.7551 - val_mae: 204.2547 - lr: 1.0000e-04\n",
            "Epoch 69/300\n",
            "55/55 [==============================] - 0s 5ms/step - loss: 58.3779 - mae: 58.8730 - val_loss: 209.2817 - val_mae: 209.7816 - lr: 1.0000e-04\n",
            "Epoch 70/300\n",
            "55/55 [==============================] - 0s 5ms/step - loss: 59.7171 - mae: 60.2087 - val_loss: 206.7644 - val_mae: 207.2644 - lr: 1.0000e-04\n",
            "Epoch 71/300\n",
            "55/55 [==============================] - 0s 5ms/step - loss: 55.5888 - mae: 56.0806 - val_loss: 204.6688 - val_mae: 205.1685 - lr: 1.0000e-04\n",
            "Epoch 72/300\n",
            "55/55 [==============================] - 0s 5ms/step - loss: 55.4495 - mae: 55.9401 - val_loss: 204.7810 - val_mae: 205.2810 - lr: 1.0000e-04\n",
            "Epoch 73/300\n",
            "55/55 [==============================] - 0s 5ms/step - loss: 59.9640 - mae: 60.4589 - val_loss: 203.1964 - val_mae: 203.6960 - lr: 1.0000e-04\n",
            "Epoch 74/300\n",
            "55/55 [==============================] - 0s 5ms/step - loss: 55.7216 - mae: 56.2127 - val_loss: 202.9346 - val_mae: 203.4320 - lr: 1.0000e-04\n",
            "Epoch 75/300\n",
            "55/55 [==============================] - 0s 5ms/step - loss: 55.5411 - mae: 56.0328 - val_loss: 205.1633 - val_mae: 205.6627 - lr: 1.0000e-04\n",
            "Epoch 76/300\n",
            "55/55 [==============================] - 0s 5ms/step - loss: 58.2151 - mae: 58.7098 - val_loss: 203.6611 - val_mae: 204.1606 - lr: 1.0000e-04\n",
            "Epoch 77/300\n",
            "55/55 [==============================] - 0s 5ms/step - loss: 55.8151 - mae: 56.3081 - val_loss: 203.8382 - val_mae: 204.3321 - lr: 1.0000e-04\n",
            "Epoch 78/300\n",
            "55/55 [==============================] - 0s 5ms/step - loss: 54.9874 - mae: 55.4792 - val_loss: 202.2233 - val_mae: 202.7219 - lr: 1.0000e-04\n",
            "Epoch 79/300\n",
            "55/55 [==============================] - 0s 5ms/step - loss: 54.7339 - mae: 55.2254 - val_loss: 203.9832 - val_mae: 204.4823 - lr: 1.0000e-04\n",
            "Epoch 80/300\n",
            "55/55 [==============================] - 0s 5ms/step - loss: 55.5245 - mae: 56.0177 - val_loss: 203.8995 - val_mae: 204.3995 - lr: 1.0000e-04\n",
            "Epoch 81/300\n",
            "55/55 [==============================] - 0s 5ms/step - loss: 57.5926 - mae: 58.0840 - val_loss: 203.7593 - val_mae: 204.2572 - lr: 1.0000e-04\n",
            "Epoch 82/300\n",
            "55/55 [==============================] - 0s 5ms/step - loss: 54.3569 - mae: 54.8496 - val_loss: 202.1322 - val_mae: 202.6284 - lr: 1.0000e-04\n",
            "Epoch 83/300\n",
            "55/55 [==============================] - 0s 5ms/step - loss: 53.4193 - mae: 53.9063 - val_loss: 205.4018 - val_mae: 205.9018 - lr: 1.0000e-04\n",
            "Epoch 84/300\n",
            "55/55 [==============================] - 0s 5ms/step - loss: 55.3086 - mae: 55.8005 - val_loss: 201.7134 - val_mae: 202.2106 - lr: 1.0000e-04\n",
            "Epoch 85/300\n",
            "55/55 [==============================] - 0s 5ms/step - loss: 53.9946 - mae: 54.4859 - val_loss: 202.8243 - val_mae: 203.3164 - lr: 1.0000e-04\n",
            "Epoch 86/300\n",
            "55/55 [==============================] - 0s 5ms/step - loss: 54.3421 - mae: 54.8342 - val_loss: 205.8965 - val_mae: 206.3916 - lr: 1.0000e-04\n",
            "Epoch 87/300\n",
            "55/55 [==============================] - 0s 5ms/step - loss: 54.7785 - mae: 55.2711 - val_loss: 202.4185 - val_mae: 202.9161 - lr: 1.0000e-04\n",
            "Epoch 88/300\n",
            "55/55 [==============================] - 0s 5ms/step - loss: 53.9525 - mae: 54.4455 - val_loss: 201.4384 - val_mae: 201.9347 - lr: 1.0000e-04\n",
            "Epoch 89/300\n",
            "55/55 [==============================] - 0s 5ms/step - loss: 53.6246 - mae: 54.1177 - val_loss: 201.9603 - val_mae: 202.4585 - lr: 1.0000e-04\n",
            "Epoch 90/300\n",
            "55/55 [==============================] - 0s 5ms/step - loss: 54.0499 - mae: 54.5436 - val_loss: 201.6377 - val_mae: 202.1376 - lr: 1.0000e-04\n",
            "Epoch 91/300\n",
            "55/55 [==============================] - 0s 5ms/step - loss: 54.1256 - mae: 54.6195 - val_loss: 204.9504 - val_mae: 205.4504 - lr: 1.0000e-04\n",
            "Epoch 92/300\n",
            "55/55 [==============================] - 0s 5ms/step - loss: 54.9925 - mae: 55.4858 - val_loss: 202.8741 - val_mae: 203.3715 - lr: 1.0000e-04\n",
            "Epoch 93/300\n",
            "55/55 [==============================] - 0s 5ms/step - loss: 53.4681 - mae: 53.9594 - val_loss: 202.8235 - val_mae: 203.3227 - lr: 1.0000e-04\n",
            "Epoch 94/300\n",
            "55/55 [==============================] - 0s 5ms/step - loss: 54.8442 - mae: 55.3387 - val_loss: 209.2325 - val_mae: 209.7325 - lr: 1.0000e-04\n",
            "Epoch 95/300\n",
            "55/55 [==============================] - 0s 5ms/step - loss: 56.6002 - mae: 57.0943 - val_loss: 202.0025 - val_mae: 202.4983 - lr: 1.0000e-04\n",
            "Epoch 96/300\n",
            "55/55 [==============================] - 0s 5ms/step - loss: 54.5711 - mae: 55.0643 - val_loss: 201.3917 - val_mae: 201.8917 - lr: 1.0000e-04\n",
            "Epoch 97/300\n",
            "55/55 [==============================] - 0s 5ms/step - loss: 51.8671 - mae: 52.3558 - val_loss: 202.7086 - val_mae: 203.2086 - lr: 1.0000e-04\n",
            "Epoch 98/300\n",
            "55/55 [==============================] - 0s 5ms/step - loss: 53.5889 - mae: 54.0815 - val_loss: 208.0738 - val_mae: 208.5738 - lr: 1.0000e-04\n",
            "Epoch 99/300\n",
            "48/55 [=========================>....] - ETA: 0s - loss: 63.0233 - mae: 63.5193\n",
            "Epoch 99: ReduceLROnPlateau reducing learning rate to 0.0001.\n",
            "55/55 [==============================] - 0s 5ms/step - loss: 60.8811 - mae: 61.3773 - val_loss: 201.3719 - val_mae: 201.8685 - lr: 1.0000e-04\n",
            "Epoch 100/300\n",
            "55/55 [==============================] - 0s 5ms/step - loss: 54.0519 - mae: 54.5454 - val_loss: 200.6520 - val_mae: 201.1520 - lr: 1.0000e-04\n",
            "Epoch 101/300\n",
            "55/55 [==============================] - 0s 5ms/step - loss: 57.2214 - mae: 57.7159 - val_loss: 201.8599 - val_mae: 202.3522 - lr: 1.0000e-04\n",
            "Epoch 102/300\n",
            "55/55 [==============================] - 0s 5ms/step - loss: 54.1381 - mae: 54.6299 - val_loss: 200.5806 - val_mae: 201.0805 - lr: 1.0000e-04\n",
            "Epoch 103/300\n",
            "55/55 [==============================] - 0s 5ms/step - loss: 53.8768 - mae: 54.3685 - val_loss: 201.9504 - val_mae: 202.4490 - lr: 1.0000e-04\n",
            "Epoch 104/300\n",
            "55/55 [==============================] - 0s 5ms/step - loss: 54.4453 - mae: 54.9381 - val_loss: 205.8813 - val_mae: 206.3784 - lr: 1.0000e-04\n",
            "Epoch 105/300\n",
            "55/55 [==============================] - 0s 5ms/step - loss: 53.4108 - mae: 53.9019 - val_loss: 202.2811 - val_mae: 202.7811 - lr: 1.0000e-04\n",
            "Epoch 106/300\n",
            "55/55 [==============================] - 0s 5ms/step - loss: 52.7265 - mae: 53.2184 - val_loss: 201.4110 - val_mae: 201.9105 - lr: 1.0000e-04\n",
            "Epoch 107/300\n",
            "55/55 [==============================] - 0s 5ms/step - loss: 52.7818 - mae: 53.2747 - val_loss: 200.3071 - val_mae: 200.8017 - lr: 1.0000e-04\n",
            "Epoch 108/300\n",
            "55/55 [==============================] - 0s 5ms/step - loss: 53.0704 - mae: 53.5623 - val_loss: 201.2941 - val_mae: 201.7937 - lr: 1.0000e-04\n",
            "Epoch 109/300\n",
            "55/55 [==============================] - 0s 5ms/step - loss: 51.9508 - mae: 52.4406 - val_loss: 200.3208 - val_mae: 200.8180 - lr: 1.0000e-04\n",
            "Epoch 110/300\n",
            "55/55 [==============================] - 0s 5ms/step - loss: 54.4441 - mae: 54.9365 - val_loss: 205.3456 - val_mae: 205.8395 - lr: 1.0000e-04\n",
            "Epoch 111/300\n",
            "55/55 [==============================] - 0s 5ms/step - loss: 52.6905 - mae: 53.1808 - val_loss: 201.8209 - val_mae: 202.3201 - lr: 1.0000e-04\n",
            "Epoch 112/300\n",
            "55/55 [==============================] - 0s 5ms/step - loss: 56.0061 - mae: 56.4996 - val_loss: 202.4679 - val_mae: 202.9658 - lr: 1.0000e-04\n",
            "Epoch 113/300\n",
            "55/55 [==============================] - 0s 5ms/step - loss: 53.4797 - mae: 53.9739 - val_loss: 200.6651 - val_mae: 201.1644 - lr: 1.0000e-04\n",
            "Epoch 114/300\n",
            "55/55 [==============================] - 0s 5ms/step - loss: 51.4538 - mae: 51.9443 - val_loss: 199.9159 - val_mae: 200.4159 - lr: 1.0000e-04\n",
            "Epoch 115/300\n",
            "55/55 [==============================] - 0s 5ms/step - loss: 52.5664 - mae: 53.0572 - val_loss: 202.0939 - val_mae: 202.5939 - lr: 1.0000e-04\n",
            "Epoch 116/300\n",
            "55/55 [==============================] - 0s 5ms/step - loss: 54.7755 - mae: 55.2681 - val_loss: 203.0140 - val_mae: 203.5123 - lr: 1.0000e-04\n",
            "Epoch 117/300\n",
            "55/55 [==============================] - 0s 5ms/step - loss: 55.4958 - mae: 55.9879 - val_loss: 201.5118 - val_mae: 202.0081 - lr: 1.0000e-04\n",
            "Epoch 118/300\n",
            "55/55 [==============================] - 0s 5ms/step - loss: 51.2308 - mae: 51.7213 - val_loss: 200.5451 - val_mae: 201.0436 - lr: 1.0000e-04\n",
            "Epoch 119/300\n",
            "55/55 [==============================] - 0s 5ms/step - loss: 56.3874 - mae: 56.8830 - val_loss: 204.6641 - val_mae: 205.1641 - lr: 1.0000e-04\n",
            "Epoch 120/300\n",
            "55/55 [==============================] - 0s 5ms/step - loss: 53.1889 - mae: 53.6811 - val_loss: 201.1442 - val_mae: 201.6442 - lr: 1.0000e-04\n",
            "Epoch 121/300\n",
            "55/55 [==============================] - 0s 5ms/step - loss: 53.9557 - mae: 54.4482 - val_loss: 203.1582 - val_mae: 203.6562 - lr: 1.0000e-04\n",
            "Epoch 122/300\n",
            "55/55 [==============================] - 0s 5ms/step - loss: 50.9174 - mae: 51.4075 - val_loss: 200.1589 - val_mae: 200.6546 - lr: 1.0000e-04\n",
            "Epoch 123/300\n",
            "55/55 [==============================] - 0s 5ms/step - loss: 55.7811 - mae: 56.2731 - val_loss: 203.8076 - val_mae: 204.3076 - lr: 1.0000e-04\n",
            "Epoch 124/300\n",
            "55/55 [==============================] - 0s 5ms/step - loss: 53.7435 - mae: 54.2362 - val_loss: 203.1925 - val_mae: 203.6925 - lr: 1.0000e-04\n",
            "Epoch 125/300\n",
            "55/55 [==============================] - 0s 5ms/step - loss: 53.2730 - mae: 53.7655 - val_loss: 200.9421 - val_mae: 201.4415 - lr: 1.0000e-04\n",
            "Epoch 126/300\n",
            "55/55 [==============================] - 0s 5ms/step - loss: 52.7738 - mae: 53.2684 - val_loss: 204.7741 - val_mae: 205.2741 - lr: 1.0000e-04\n",
            "Epoch 127/300\n",
            "55/55 [==============================] - 0s 5ms/step - loss: 53.5495 - mae: 54.0407 - val_loss: 200.7648 - val_mae: 201.2648 - lr: 1.0000e-04\n",
            "Epoch 128/300\n",
            "55/55 [==============================] - 0s 5ms/step - loss: 54.3155 - mae: 54.8055 - val_loss: 200.6402 - val_mae: 201.1394 - lr: 1.0000e-04\n",
            "Epoch 129/300\n",
            "55/55 [==============================] - 0s 5ms/step - loss: 55.5152 - mae: 56.0100 - val_loss: 201.4885 - val_mae: 201.9885 - lr: 1.0000e-04\n",
            "Epoch 130/300\n",
            "55/55 [==============================] - 0s 5ms/step - loss: 53.5996 - mae: 54.0907 - val_loss: 204.9645 - val_mae: 205.4624 - lr: 1.0000e-04\n",
            "Epoch 131/300\n",
            "55/55 [==============================] - 0s 5ms/step - loss: 52.7330 - mae: 53.2245 - val_loss: 207.8568 - val_mae: 208.3568 - lr: 1.0000e-04\n",
            "Epoch 132/300\n",
            "55/55 [==============================] - 0s 5ms/step - loss: 51.8320 - mae: 52.3234 - val_loss: 199.9903 - val_mae: 200.4902 - lr: 1.0000e-04\n",
            "Epoch 133/300\n",
            "55/55 [==============================] - 0s 5ms/step - loss: 50.9457 - mae: 51.4359 - val_loss: 200.9473 - val_mae: 201.4473 - lr: 1.0000e-04\n",
            "Epoch 134/300\n",
            "55/55 [==============================] - 0s 5ms/step - loss: 50.9679 - mae: 51.4578 - val_loss: 202.2362 - val_mae: 202.7360 - lr: 1.0000e-04\n",
            "Epoch 135/300\n",
            "55/55 [==============================] - 0s 5ms/step - loss: 52.0768 - mae: 52.5697 - val_loss: 199.5849 - val_mae: 200.0835 - lr: 1.0000e-04\n",
            "Epoch 136/300\n",
            "55/55 [==============================] - 0s 5ms/step - loss: 53.2197 - mae: 53.7145 - val_loss: 202.7697 - val_mae: 203.2687 - lr: 1.0000e-04\n",
            "Epoch 137/300\n",
            "55/55 [==============================] - 0s 5ms/step - loss: 51.7957 - mae: 52.2875 - val_loss: 200.0469 - val_mae: 200.5432 - lr: 1.0000e-04\n",
            "Epoch 138/300\n",
            "55/55 [==============================] - 0s 5ms/step - loss: 52.5135 - mae: 53.0074 - val_loss: 200.9483 - val_mae: 201.4464 - lr: 1.0000e-04\n",
            "Epoch 139/300\n",
            "55/55 [==============================] - 0s 5ms/step - loss: 50.2369 - mae: 50.7279 - val_loss: 199.4519 - val_mae: 199.9514 - lr: 1.0000e-04\n",
            "Epoch 140/300\n",
            "55/55 [==============================] - 0s 5ms/step - loss: 51.7544 - mae: 52.2459 - val_loss: 198.7220 - val_mae: 199.2205 - lr: 1.0000e-04\n",
            "Epoch 141/300\n",
            "55/55 [==============================] - 0s 5ms/step - loss: 51.8176 - mae: 52.3094 - val_loss: 200.5932 - val_mae: 201.0932 - lr: 1.0000e-04\n",
            "Epoch 142/300\n",
            "55/55 [==============================] - 0s 5ms/step - loss: 53.0569 - mae: 53.5498 - val_loss: 199.9123 - val_mae: 200.4109 - lr: 1.0000e-04\n",
            "Epoch 143/300\n",
            "55/55 [==============================] - 0s 5ms/step - loss: 49.8837 - mae: 50.3727 - val_loss: 201.5517 - val_mae: 202.0516 - lr: 1.0000e-04\n",
            "Epoch 144/300\n",
            "55/55 [==============================] - 0s 5ms/step - loss: 52.6536 - mae: 53.1466 - val_loss: 201.9182 - val_mae: 202.4182 - lr: 1.0000e-04\n",
            "Epoch 145/300\n",
            "55/55 [==============================] - 0s 5ms/step - loss: 49.6785 - mae: 50.1687 - val_loss: 203.1555 - val_mae: 203.6537 - lr: 1.0000e-04\n",
            "Epoch 146/300\n",
            "55/55 [==============================] - 0s 5ms/step - loss: 49.7919 - mae: 50.2809 - val_loss: 199.2846 - val_mae: 199.7846 - lr: 1.0000e-04\n",
            "Epoch 147/300\n",
            "55/55 [==============================] - 0s 5ms/step - loss: 52.3826 - mae: 52.8759 - val_loss: 203.3178 - val_mae: 203.8178 - lr: 1.0000e-04\n",
            "Epoch 148/300\n",
            "55/55 [==============================] - 0s 5ms/step - loss: 54.4157 - mae: 54.9093 - val_loss: 203.5796 - val_mae: 204.0771 - lr: 1.0000e-04\n",
            "Epoch 149/300\n",
            "55/55 [==============================] - 0s 5ms/step - loss: 51.3676 - mae: 51.8598 - val_loss: 198.3826 - val_mae: 198.8807 - lr: 1.0000e-04\n",
            "Epoch 150/300\n",
            "55/55 [==============================] - 0s 5ms/step - loss: 56.4328 - mae: 56.9274 - val_loss: 200.8870 - val_mae: 201.3781 - lr: 1.0000e-04\n",
            "Epoch 151/300\n",
            "55/55 [==============================] - 0s 5ms/step - loss: 52.1466 - mae: 52.6379 - val_loss: 199.6395 - val_mae: 200.1370 - lr: 1.0000e-04\n",
            "Epoch 152/300\n",
            "55/55 [==============================] - 0s 5ms/step - loss: 49.2574 - mae: 49.7480 - val_loss: 200.6689 - val_mae: 201.1665 - lr: 1.0000e-04\n",
            "Epoch 153/300\n",
            "55/55 [==============================] - 0s 5ms/step - loss: 50.1578 - mae: 50.6473 - val_loss: 199.8359 - val_mae: 200.3284 - lr: 1.0000e-04\n",
            "Epoch 154/300\n",
            "55/55 [==============================] - 0s 5ms/step - loss: 50.7850 - mae: 51.2751 - val_loss: 198.6315 - val_mae: 199.1273 - lr: 1.0000e-04\n",
            "Epoch 155/300\n",
            "55/55 [==============================] - 0s 5ms/step - loss: 50.1259 - mae: 50.6146 - val_loss: 199.4578 - val_mae: 199.9560 - lr: 1.0000e-04\n",
            "Epoch 156/300\n",
            "55/55 [==============================] - 0s 5ms/step - loss: 51.3536 - mae: 51.8438 - val_loss: 199.0447 - val_mae: 199.5419 - lr: 1.0000e-04\n",
            "Epoch 157/300\n",
            "55/55 [==============================] - 0s 5ms/step - loss: 50.6581 - mae: 51.1506 - val_loss: 200.5248 - val_mae: 201.0213 - lr: 1.0000e-04\n",
            "Epoch 158/300\n",
            "55/55 [==============================] - 0s 5ms/step - loss: 50.2881 - mae: 50.7792 - val_loss: 202.2897 - val_mae: 202.7897 - lr: 1.0000e-04\n",
            "Epoch 159/300\n",
            "55/55 [==============================] - 0s 5ms/step - loss: 55.3539 - mae: 55.8477 - val_loss: 201.6233 - val_mae: 202.1233 - lr: 1.0000e-04\n",
            "Epoch 160/300\n",
            "55/55 [==============================] - 0s 5ms/step - loss: 50.3994 - mae: 50.8905 - val_loss: 203.3333 - val_mae: 203.8327 - lr: 1.0000e-04\n",
            "Epoch 161/300\n",
            "55/55 [==============================] - 0s 5ms/step - loss: 53.0801 - mae: 53.5735 - val_loss: 199.3193 - val_mae: 199.8187 - lr: 1.0000e-04\n",
            "Epoch 162/300\n",
            "55/55 [==============================] - 0s 5ms/step - loss: 50.4203 - mae: 50.9110 - val_loss: 203.1269 - val_mae: 203.6251 - lr: 1.0000e-04\n",
            "Epoch 163/300\n",
            "55/55 [==============================] - 0s 5ms/step - loss: 50.7536 - mae: 51.2450 - val_loss: 203.6176 - val_mae: 204.1173 - lr: 1.0000e-04\n",
            "Epoch 164/300\n",
            "55/55 [==============================] - 0s 5ms/step - loss: 51.6840 - mae: 52.1769 - val_loss: 202.1353 - val_mae: 202.6344 - lr: 1.0000e-04\n",
            "Epoch 165/300\n",
            "55/55 [==============================] - 0s 5ms/step - loss: 50.2188 - mae: 50.7107 - val_loss: 199.9500 - val_mae: 200.4470 - lr: 1.0000e-04\n",
            "Epoch 166/300\n",
            "55/55 [==============================] - 0s 5ms/step - loss: 54.8539 - mae: 55.3496 - val_loss: 207.1401 - val_mae: 207.6397 - lr: 1.0000e-04\n",
            "Epoch 167/300\n",
            "55/55 [==============================] - 0s 5ms/step - loss: 53.8233 - mae: 54.3164 - val_loss: 204.3475 - val_mae: 204.8475 - lr: 1.0000e-04\n",
            "Epoch 168/300\n",
            "55/55 [==============================] - 0s 5ms/step - loss: 51.8950 - mae: 52.3889 - val_loss: 199.5049 - val_mae: 200.0034 - lr: 1.0000e-04\n",
            "Epoch 169/300\n",
            "55/55 [==============================] - 0s 5ms/step - loss: 48.4786 - mae: 48.9690 - val_loss: 200.2540 - val_mae: 200.7522 - lr: 1.0000e-04\n",
            "Epoch 170/300\n",
            "48/55 [=========================>....] - ETA: 0s - loss: 51.1955 - mae: 51.6900Restoring model weights from the end of the best epoch: 140.\n",
            "55/55 [==============================] - 0s 6ms/step - loss: 52.1015 - mae: 52.5958 - val_loss: 201.2854 - val_mae: 201.7853 - lr: 1.0000e-04\n",
            "Epoch 170: early stopping\n"
          ]
        }
      ]
    },
    {
      "cell_type": "code",
      "source": [
        "pd.DataFrame(history.history).plot(figsize=(10, 7))\n",
        "plt.grid(True)\n",
        "plt.show()"
      ],
      "metadata": {
        "colab": {
          "base_uri": "https://localhost:8080/",
          "height": 428
        },
        "id": "P4CCymPgzoNH",
        "outputId": "8c927d02-e269-4de4-c744-77297837acf1"
      },
      "execution_count": 37,
      "outputs": [
        {
          "output_type": "display_data",
          "data": {
            "text/plain": [
              "<Figure size 720x504 with 1 Axes>"
            ],
            "image/png": "[encoded data removed]"
          },
          "metadata": {
            "needs_background": "light"
          }
        }
      ]
    },
    {
      "cell_type": "code",
      "source": [
        "scores = model.evaluate(X_test, y_test)"
      ],
      "metadata": {
        "colab": {
          "base_uri": "https://localhost:8080/"
        },
        "id": "LOYayY7H0XTP",
        "outputId": "f6946521-3cf8-4c4d-da8f-4aa77758790f"
      },
      "execution_count": 38,
      "outputs": [
        {
          "output_type": "stream",
          "name": "stdout",
          "text": [
            "16/16 [==============================] - 0s 3ms/step - loss: 228.1660 - mae: 228.6649\n"
          ]
        }
      ]
    },
    {
      "cell_type": "code",
      "source": [
        "preds = model.predict(X_test, verbose=1)"
      ],
      "metadata": {
        "colab": {
          "base_uri": "https://localhost:8080/"
        },
        "id": "FJIpkBZg6T-D",
        "outputId": "8e34156e-aae3-4912-8ec9-2cbfb154aa19"
      },
      "execution_count": 39,
      "outputs": [
        {
          "output_type": "stream",
          "name": "stdout",
          "text": [
            "16/16 [==============================] - 0s 2ms/step\n"
          ]
        }
      ]
    },
    {
      "cell_type": "code",
      "source": [
        "preds[:10].round(2)"
      ],
      "metadata": {
        "colab": {
          "base_uri": "https://localhost:8080/"
        },
        "id": "lWKbmioA-I47",
        "outputId": "76c97fd0-dd85-40aa-f2d0-7be166a9737a"
      },
      "execution_count": 47,
      "outputs": [
        {
          "output_type": "execute_result",
          "data": {
            "text/plain": [
              "array([[1790.44],\n",
              "       [2192.64],\n",
              "       [1774.68],\n",
              "       [2002.07],\n",
              "       [2253.75],\n",
              "       [4842.55],\n",
              "       [2157.63],\n",
              "       [1838.17],\n",
              "       [3624.52],\n",
              "       [1987.39]], dtype=float32)"
            ]
          },
          "metadata": {},
          "execution_count": 47
        }
      ]
    },
    {
      "cell_type": "code",
      "source": [
        "y_test[:10].round(2)"
      ],
      "metadata": {
        "colab": {
          "base_uri": "https://localhost:8080/",
          "height": 363
        },
        "id": "WU1iSwpc-OcE",
        "outputId": "930bb618-ce41-4fc8-f4f5-05f5c597cc31"
      },
      "execution_count": 48,
      "outputs": [
        {
          "output_type": "execute_result",
          "data": {
            "text/plain": [
              "        Rent\n",
              "410   1625.0\n",
              "199   1800.0\n",
              "1674  1775.0\n",
              "1124  2049.0\n",
              "1355  2300.0\n",
              "891   4900.0\n",
              "254   2550.0\n",
              "2105  1850.0\n",
              "1545  3500.0\n",
              "1719  2250.0"
            ],
            "text/html": [
              "\n",
              "  <div id=\"df-47c6a692-8297-4cb4-8c15-4189fab6c6d0\">\n",
              "    <div class=\"colab-df-container\">\n",
              "      <div>\n",
              "<style scoped>\n",
              "    .dataframe tbody tr th:only-of-type {\n",
              "        vertical-align: middle;\n",
              "    }\n",
              "\n",
              "    .dataframe tbody tr th {\n",
              "        vertical-align: top;\n",
              "    }\n",
              "\n",
              "    .dataframe thead th {\n",
              "        text-align: right;\n",
              "    }\n",
              "</style>\n",
              "<table border=\"1\" class=\"dataframe\">\n",
              "  <thead>\n",
              "    <tr style=\"text-align: right;\">\n",
              "      <th></th>\n",
              "      <th>Rent</th>\n",
              "    </tr>\n",
              "  </thead>\n",
              "  <tbody>\n",
              "    <tr>\n",
              "      <th>410</th>\n",
              "      <td>1625.0</td>\n",
              "    </tr>\n",
              "    <tr>\n",
              "      <th>199</th>\n",
              "      <td>1800.0</td>\n",
              "    </tr>\n",
              "    <tr>\n",
              "      <th>1674</th>\n",
              "      <td>1775.0</td>\n",
              "    </tr>\n",
              "    <tr>\n",
              "      <th>1124</th>\n",
              "      <td>2049.0</td>\n",
              "    </tr>\n",
              "    <tr>\n",
              "      <th>1355</th>\n",
              "      <td>2300.0</td>\n",
              "    </tr>\n",
              "    <tr>\n",
              "      <th>891</th>\n",
              "      <td>4900.0</td>\n",
              "    </tr>\n",
              "    <tr>\n",
              "      <th>254</th>\n",
              "      <td>2550.0</td>\n",
              "    </tr>\n",
              "    <tr>\n",
              "      <th>2105</th>\n",
              "      <td>1850.0</td>\n",
              "    </tr>\n",
              "    <tr>\n",
              "      <th>1545</th>\n",
              "      <td>3500.0</td>\n",
              "    </tr>\n",
              "    <tr>\n",
              "      <th>1719</th>\n",
              "      <td>2250.0</td>\n",
              "    </tr>\n",
              "  </tbody>\n",
              "</table>\n",
              "</div>\n",
              "      <button class=\"colab-df-convert\" onclick=\"convertToInteractive('df-47c6a692-8297-4cb4-8c15-4189fab6c6d0')\"\n",
              "              title=\"Convert this dataframe to an interactive table.\"\n",
              "              style=\"display:none;\">\n",
              "        \n",
              "  <svg xmlns=\"http://www.w3.org/2000/svg\" height=\"24px\"viewBox=\"0 0 24 24\"\n",
              "       width=\"24px\">\n",
              "    <path d=\"M0 0h24v24H0V0z\" fill=\"none\"/>\n",
              "    <path d=\"M18.56 5.44l.94 2.06.94-2.06 2.06-.94-2.06-.94-.94-2.06-.94 2.06-2.06.94zm-11 1L8.5 8.5l.94-2.06 2.06-.94-2.06-.94L8.5 2.5l-.94 2.06-2.06.94zm10 10l.94 2.06.94-2.06 2.06-.94-2.06-.94-.94-2.06-.94 2.06-2.06.94z\"/><path d=\"M17.41 7.96l-1.37-1.37c-.4-.4-.92-.59-1.43-.59-.52 0-1.04.2-1.43.59L10.3 9.45l-7.72 7.72c-.78.78-.78 2.05 0 2.83L4 21.41c.39.39.9.59 1.41.59.51 0 1.02-.2 1.41-.59l7.78-7.78 2.81-2.81c.8-.78.8-2.07 0-2.86zM5.41 20L4 18.59l7.72-7.72 1.47 1.35L5.41 20z\"/>\n",
              "  </svg>\n",
              "      </button>\n",
              "      \n",
              "  <style>\n",
              "    .colab-df-container {\n",
              "      display:flex;\n",
              "      flex-wrap:wrap;\n",
              "      gap: 12px;\n",
              "    }\n",
              "\n",
              "    .colab-df-convert {\n",
              "      background-color: #E8F0FE;\n",
              "      border: none;\n",
              "      border-radius: 50%;\n",
              "      cursor: pointer;\n",
              "      display: none;\n",
              "      fill: #1967D2;\n",
              "      height: 32px;\n",
              "      padding: 0 0 0 0;\n",
              "      width: 32px;\n",
              "    }\n",
              "\n",
              "    .colab-df-convert:hover {\n",
              "      background-color: #E2EBFA;\n",
              "      box-shadow: 0px 1px 2px rgba(60, 64, 67, 0.3), 0px 1px 3px 1px rgba(60, 64, 67, 0.15);\n",
              "      fill: #174EA6;\n",
              "    }\n",
              "\n",
              "    [theme=dark] .colab-df-convert {\n",
              "      background-color: #3B4455;\n",
              "      fill: #D2E3FC;\n",
              "    }\n",
              "\n",
              "    [theme=dark] .colab-df-convert:hover {\n",
              "      background-color: #434B5C;\n",
              "      box-shadow: 0px 1px 3px 1px rgba(0, 0, 0, 0.15);\n",
              "      filter: drop-shadow(0px 1px 2px rgba(0, 0, 0, 0.3));\n",
              "      fill: #FFFFFF;\n",
              "    }\n",
              "  </style>\n",
              "\n",
              "      <script>\n",
              "        const buttonEl =\n",
              "          document.querySelector('#df-47c6a692-8297-4cb4-8c15-4189fab6c6d0 button.colab-df-convert');\n",
              "        buttonEl.style.display =\n",
              "          google.colab.kernel.accessAllowed ? 'block' : 'none';\n",
              "\n",
              "        async function convertToInteractive(key) {\n",
              "          const element = document.querySelector('#df-47c6a692-8297-4cb4-8c15-4189fab6c6d0');\n",
              "          const dataTable =\n",
              "            await google.colab.kernel.invokeFunction('convertToInteractive',\n",
              "                                                     [key], {});\n",
              "          if (!dataTable) return;\n",
              "\n",
              "          const docLinkHtml = 'Like what you see? Visit the ' +\n",
              "            '<a target=\"_blank\" href=https://colab.research.google.com/notebooks/data_table.ipynb>data table notebook</a>'\n",
              "            + ' to learn more about interactive tables.';\n",
              "          element.innerHTML = '';\n",
              "          dataTable['output_type'] = 'display_data';\n",
              "          await google.colab.output.renderOutput(dataTable, element);\n",
              "          const docLink = document.createElement('div');\n",
              "          docLink.innerHTML = docLinkHtml;\n",
              "          element.appendChild(docLink);\n",
              "        }\n",
              "      </script>\n",
              "    </div>\n",
              "  </div>\n",
              "  "
            ]
          },
          "metadata": {},
          "execution_count": 48
        }
      ]
    },
    {
      "cell_type": "code",
      "source": [
        "from scipy import stats"
      ],
      "metadata": {
        "id": "tczk9B-N6WLu"
      },
      "execution_count": 40,
      "outputs": []
    },
    {
      "cell_type": "code",
      "source": [
        "confidence = 0.95\n",
        "\n",
        "abs_errors = abs(preds.flatten() - y_test.to_numpy().flatten())\n",
        "stats.t.interval(confidence, len(abs_errors)-1, \n",
        "                         loc=abs_errors.mean(), \n",
        "                         scale=stats.sem(abs_errors))"
      ],
      "metadata": {
        "colab": {
          "base_uri": "https://localhost:8080/"
        },
        "id": "EXiGUnWP6YUu",
        "outputId": "7d5d68ab-931c-401b-fa43-0d3f456780ba"
      },
      "execution_count": 41,
      "outputs": [
        {
          "output_type": "execute_result",
          "data": {
            "text/plain": [
              "(199.01526200374687, 258.31450085701636)"
            ]
          },
          "metadata": {},
          "execution_count": 41
        }
      ]
    },
    {
      "cell_type": "code",
      "source": [
        "# Using the full set of features seems to be more effective predicting rent in the Queens borough of the city"
      ],
      "metadata": {
        "id": "9PhUKEcl994K"
      },
      "execution_count": null,
      "outputs": []
    },
    {
      "cell_type": "code",
      "source": [
        "model.save(\"queens_model.h5\")"
      ],
      "metadata": {
        "id": "O1EocXxa6r0p"
      },
      "execution_count": 43,
      "outputs": []
    },
    {
      "cell_type": "code",
      "source": [
        "# /content/drive/MyDrive/Boro_DFs/\n",
        "model.save(\"/content/drive/MyDrive/Boro_DFs/queens_model.h5\")"
      ],
      "metadata": {
        "id": "yBEwI7ai60uc"
      },
      "execution_count": 44,
      "outputs": []
    }
  ]
}