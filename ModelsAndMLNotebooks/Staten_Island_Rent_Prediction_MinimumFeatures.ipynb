{
  "nbformat": 4,
  "nbformat_minor": 0,
  "metadata": {
    "colab": {
      "name": "Staten_Island_Rent_Prediction_MinimumFeatures.ipynb",
      "provenance": [],
      "machine_shape": "hm"
    },
    "kernelspec": {
      "name": "python3",
      "display_name": "Python 3"
    },
    "language_info": {
      "name": "python"
    },
    "accelerator": "GPU"
  },
  "cells": [
    {
      "cell_type": "code",
      "execution_count": 1,
      "metadata": {
        "id": "IHq6vEX0JQh5"
      },
      "outputs": [],
      "source": [
        "import matplotlib.pyplot as plt\n",
        "import pandas as pd\n",
        "import numpy as np\n",
        "import tarfile\n",
        "import math\n",
        "\n",
        "from tensorflow import keras\n",
        "from keras import models\n",
        "from keras import layers\n",
        "from keras.callbacks import EarlyStopping\n",
        "\n",
        "\n",
        "from sklearn.model_selection import train_test_split\n",
        "from sklearn.impute import SimpleImputer\n",
        "from sklearn.preprocessing import MinMaxScaler\n",
        "from sklearn.preprocessing import OneHotEncoder"
      ]
    },
    {
      "cell_type": "code",
      "source": [
        "from keras.callbacks import ReduceLROnPlateau"
      ],
      "metadata": {
        "id": "QT0Ilkkn0pq5"
      },
      "execution_count": 2,
      "outputs": []
    },
    {
      "cell_type": "code",
      "source": [
        "from keras.layers import AlphaDropout"
      ],
      "metadata": {
        "id": "9pv0CxHhAe4c"
      },
      "execution_count": 3,
      "outputs": []
    },
    {
      "cell_type": "code",
      "source": [
        "from google.colab import drive\n",
        "drive.mount('/content/drive/')"
      ],
      "metadata": {
        "colab": {
          "base_uri": "https://localhost:8080/"
        },
        "id": "LznBSqDlpFQe",
        "outputId": "2bfcbe89-18a1-466a-a584-a9eaaf337700"
      },
      "execution_count": 4,
      "outputs": [
        {
          "output_type": "stream",
          "name": "stdout",
          "text": [
            "Mounted at /content/drive/\n"
          ]
        }
      ]
    },
    {
      "cell_type": "code",
      "source": [
        "from numpy.random import seed\n",
        "seed(15)\n",
        "\n",
        "from tensorflow.random import set_seed\n",
        "set_seed(15)"
      ],
      "metadata": {
        "id": "F82b9igNpD4a"
      },
      "execution_count": 5,
      "outputs": []
    },
    {
      "cell_type": "code",
      "source": [
        "staten_csv = '/content/drive/MyDrive/Boro_DFs/stat_df.csv'"
      ],
      "metadata": {
        "id": "It23BQMkpZrO"
      },
      "execution_count": 6,
      "outputs": []
    },
    {
      "cell_type": "code",
      "source": [
        "staten_df = pd.DataFrame(pd.read_csv(staten_csv))"
      ],
      "metadata": {
        "id": "cGPCANEIppM-"
      },
      "execution_count": 7,
      "outputs": []
    },
    {
      "cell_type": "code",
      "source": [
        "staten_df.head()"
      ],
      "metadata": {
        "colab": {
          "base_uri": "https://localhost:8080/",
          "height": 206
        },
        "id": "nn32hx06p1M7",
        "outputId": "ddf09277-8241-47a6-fb9f-c86e8a75adaf"
      },
      "execution_count": 8,
      "outputs": [
        {
          "output_type": "execute_result",
          "data": {
            "text/plain": [
              "         Borough            Area               Address  Num_Beds  Num_Baths  \\\n",
              "0  staten-island  New Dorp Beach     48C Winham Avenue       0.5        1.0   \n",
              "1  staten-island     Eltingville  3676 Richmond Avenue       3.0        1.0   \n",
              "2  staten-island    Saint George    36 Hamilton Avenue       2.0        1.0   \n",
              "3  staten-island    Saint George    36 Hamilton Avenue       1.0        1.0   \n",
              "4  staten-island    Saint George    60 Hamilton Avenue       2.0        1.0   \n",
              "\n",
              "     Sq-Ft    Rent       Long        Lat  ZipCode  Precinct  \\\n",
              "0   513.32  1199.0 -74.103650  40.565749  10306.0     120.0   \n",
              "1  1500.00  2400.0 -74.167172  40.548162  10312.0     123.0   \n",
              "2   900.00  2150.0 -74.078906  40.644986  10301.0     120.0   \n",
              "3   750.00  1600.0 -74.078906  40.644986  10301.0     120.0   \n",
              "4   833.22  1950.0 -74.079733  40.644802  10301.0     120.0   \n",
              "\n",
              "   CrimeTotalPastYear Train_Line  Dist_To_Line  Dist_To_Station  \\\n",
              "0               799.0          R      0.088793         0.088793   \n",
              "1               338.0          R      0.152523         0.152523   \n",
              "2               799.0          R      0.055211         0.055211   \n",
              "3               799.0          R      0.055211         0.055211   \n",
              "4               799.0          R      0.055896         0.055896   \n",
              "\n",
              "   Dist_To_Entrance  \n",
              "0          0.014446  \n",
              "1          0.004251  \n",
              "2          0.005682  \n",
              "3          0.005682  \n",
              "4          0.006485  "
            ],
            "text/html": [
              "\n",
              "  <div id=\"df-6910088a-948b-4011-aea2-128ae4bf5688\">\n",
              "    <div class=\"colab-df-container\">\n",
              "      <div>\n",
              "<style scoped>\n",
              "    .dataframe tbody tr th:only-of-type {\n",
              "        vertical-align: middle;\n",
              "    }\n",
              "\n",
              "    .dataframe tbody tr th {\n",
              "        vertical-align: top;\n",
              "    }\n",
              "\n",
              "    .dataframe thead th {\n",
              "        text-align: right;\n",
              "    }\n",
              "</style>\n",
              "<table border=\"1\" class=\"dataframe\">\n",
              "  <thead>\n",
              "    <tr style=\"text-align: right;\">\n",
              "      <th></th>\n",
              "      <th>Borough</th>\n",
              "      <th>Area</th>\n",
              "      <th>Address</th>\n",
              "      <th>Num_Beds</th>\n",
              "      <th>Num_Baths</th>\n",
              "      <th>Sq-Ft</th>\n",
              "      <th>Rent</th>\n",
              "      <th>Long</th>\n",
              "      <th>Lat</th>\n",
              "      <th>ZipCode</th>\n",
              "      <th>Precinct</th>\n",
              "      <th>CrimeTotalPastYear</th>\n",
              "      <th>Train_Line</th>\n",
              "      <th>Dist_To_Line</th>\n",
              "      <th>Dist_To_Station</th>\n",
              "      <th>Dist_To_Entrance</th>\n",
              "    </tr>\n",
              "  </thead>\n",
              "  <tbody>\n",
              "    <tr>\n",
              "      <th>0</th>\n",
              "      <td>staten-island</td>\n",
              "      <td>New Dorp Beach</td>\n",
              "      <td>48C Winham Avenue</td>\n",
              "      <td>0.5</td>\n",
              "      <td>1.0</td>\n",
              "      <td>513.32</td>\n",
              "      <td>1199.0</td>\n",
              "      <td>-74.103650</td>\n",
              "      <td>40.565749</td>\n",
              "      <td>10306.0</td>\n",
              "      <td>120.0</td>\n",
              "      <td>799.0</td>\n",
              "      <td>R</td>\n",
              "      <td>0.088793</td>\n",
              "      <td>0.088793</td>\n",
              "      <td>0.014446</td>\n",
              "    </tr>\n",
              "    <tr>\n",
              "      <th>1</th>\n",
              "      <td>staten-island</td>\n",
              "      <td>Eltingville</td>\n",
              "      <td>3676 Richmond Avenue</td>\n",
              "      <td>3.0</td>\n",
              "      <td>1.0</td>\n",
              "      <td>1500.00</td>\n",
              "      <td>2400.0</td>\n",
              "      <td>-74.167172</td>\n",
              "      <td>40.548162</td>\n",
              "      <td>10312.0</td>\n",
              "      <td>123.0</td>\n",
              "      <td>338.0</td>\n",
              "      <td>R</td>\n",
              "      <td>0.152523</td>\n",
              "      <td>0.152523</td>\n",
              "      <td>0.004251</td>\n",
              "    </tr>\n",
              "    <tr>\n",
              "      <th>2</th>\n",
              "      <td>staten-island</td>\n",
              "      <td>Saint George</td>\n",
              "      <td>36 Hamilton Avenue</td>\n",
              "      <td>2.0</td>\n",
              "      <td>1.0</td>\n",
              "      <td>900.00</td>\n",
              "      <td>2150.0</td>\n",
              "      <td>-74.078906</td>\n",
              "      <td>40.644986</td>\n",
              "      <td>10301.0</td>\n",
              "      <td>120.0</td>\n",
              "      <td>799.0</td>\n",
              "      <td>R</td>\n",
              "      <td>0.055211</td>\n",
              "      <td>0.055211</td>\n",
              "      <td>0.005682</td>\n",
              "    </tr>\n",
              "    <tr>\n",
              "      <th>3</th>\n",
              "      <td>staten-island</td>\n",
              "      <td>Saint George</td>\n",
              "      <td>36 Hamilton Avenue</td>\n",
              "      <td>1.0</td>\n",
              "      <td>1.0</td>\n",
              "      <td>750.00</td>\n",
              "      <td>1600.0</td>\n",
              "      <td>-74.078906</td>\n",
              "      <td>40.644986</td>\n",
              "      <td>10301.0</td>\n",
              "      <td>120.0</td>\n",
              "      <td>799.0</td>\n",
              "      <td>R</td>\n",
              "      <td>0.055211</td>\n",
              "      <td>0.055211</td>\n",
              "      <td>0.005682</td>\n",
              "    </tr>\n",
              "    <tr>\n",
              "      <th>4</th>\n",
              "      <td>staten-island</td>\n",
              "      <td>Saint George</td>\n",
              "      <td>60 Hamilton Avenue</td>\n",
              "      <td>2.0</td>\n",
              "      <td>1.0</td>\n",
              "      <td>833.22</td>\n",
              "      <td>1950.0</td>\n",
              "      <td>-74.079733</td>\n",
              "      <td>40.644802</td>\n",
              "      <td>10301.0</td>\n",
              "      <td>120.0</td>\n",
              "      <td>799.0</td>\n",
              "      <td>R</td>\n",
              "      <td>0.055896</td>\n",
              "      <td>0.055896</td>\n",
              "      <td>0.006485</td>\n",
              "    </tr>\n",
              "  </tbody>\n",
              "</table>\n",
              "</div>\n",
              "      <button class=\"colab-df-convert\" onclick=\"convertToInteractive('df-6910088a-948b-4011-aea2-128ae4bf5688')\"\n",
              "              title=\"Convert this dataframe to an interactive table.\"\n",
              "              style=\"display:none;\">\n",
              "        \n",
              "  <svg xmlns=\"http://www.w3.org/2000/svg\" height=\"24px\"viewBox=\"0 0 24 24\"\n",
              "       width=\"24px\">\n",
              "    <path d=\"M0 0h24v24H0V0z\" fill=\"none\"/>\n",
              "    <path d=\"M18.56 5.44l.94 2.06.94-2.06 2.06-.94-2.06-.94-.94-2.06-.94 2.06-2.06.94zm-11 1L8.5 8.5l.94-2.06 2.06-.94-2.06-.94L8.5 2.5l-.94 2.06-2.06.94zm10 10l.94 2.06.94-2.06 2.06-.94-2.06-.94-.94-2.06-.94 2.06-2.06.94z\"/><path d=\"M17.41 7.96l-1.37-1.37c-.4-.4-.92-.59-1.43-.59-.52 0-1.04.2-1.43.59L10.3 9.45l-7.72 7.72c-.78.78-.78 2.05 0 2.83L4 21.41c.39.39.9.59 1.41.59.51 0 1.02-.2 1.41-.59l7.78-7.78 2.81-2.81c.8-.78.8-2.07 0-2.86zM5.41 20L4 18.59l7.72-7.72 1.47 1.35L5.41 20z\"/>\n",
              "  </svg>\n",
              "      </button>\n",
              "      \n",
              "  <style>\n",
              "    .colab-df-container {\n",
              "      display:flex;\n",
              "      flex-wrap:wrap;\n",
              "      gap: 12px;\n",
              "    }\n",
              "\n",
              "    .colab-df-convert {\n",
              "      background-color: #E8F0FE;\n",
              "      border: none;\n",
              "      border-radius: 50%;\n",
              "      cursor: pointer;\n",
              "      display: none;\n",
              "      fill: #1967D2;\n",
              "      height: 32px;\n",
              "      padding: 0 0 0 0;\n",
              "      width: 32px;\n",
              "    }\n",
              "\n",
              "    .colab-df-convert:hover {\n",
              "      background-color: #E2EBFA;\n",
              "      box-shadow: 0px 1px 2px rgba(60, 64, 67, 0.3), 0px 1px 3px 1px rgba(60, 64, 67, 0.15);\n",
              "      fill: #174EA6;\n",
              "    }\n",
              "\n",
              "    [theme=dark] .colab-df-convert {\n",
              "      background-color: #3B4455;\n",
              "      fill: #D2E3FC;\n",
              "    }\n",
              "\n",
              "    [theme=dark] .colab-df-convert:hover {\n",
              "      background-color: #434B5C;\n",
              "      box-shadow: 0px 1px 3px 1px rgba(0, 0, 0, 0.15);\n",
              "      filter: drop-shadow(0px 1px 2px rgba(0, 0, 0, 0.3));\n",
              "      fill: #FFFFFF;\n",
              "    }\n",
              "  </style>\n",
              "\n",
              "      <script>\n",
              "        const buttonEl =\n",
              "          document.querySelector('#df-6910088a-948b-4011-aea2-128ae4bf5688 button.colab-df-convert');\n",
              "        buttonEl.style.display =\n",
              "          google.colab.kernel.accessAllowed ? 'block' : 'none';\n",
              "\n",
              "        async function convertToInteractive(key) {\n",
              "          const element = document.querySelector('#df-6910088a-948b-4011-aea2-128ae4bf5688');\n",
              "          const dataTable =\n",
              "            await google.colab.kernel.invokeFunction('convertToInteractive',\n",
              "                                                     [key], {});\n",
              "          if (!dataTable) return;\n",
              "\n",
              "          const docLinkHtml = 'Like what you see? Visit the ' +\n",
              "            '<a target=\"_blank\" href=https://colab.research.google.com/notebooks/data_table.ipynb>data table notebook</a>'\n",
              "            + ' to learn more about interactive tables.';\n",
              "          element.innerHTML = '';\n",
              "          dataTable['output_type'] = 'display_data';\n",
              "          await google.colab.output.renderOutput(dataTable, element);\n",
              "          const docLink = document.createElement('div');\n",
              "          docLink.innerHTML = docLinkHtml;\n",
              "          element.appendChild(docLink);\n",
              "        }\n",
              "      </script>\n",
              "    </div>\n",
              "  </div>\n",
              "  "
            ]
          },
          "metadata": {},
          "execution_count": 8
        }
      ]
    },
    {
      "cell_type": "code",
      "source": [
        "y = staten_df[['Rent']]"
      ],
      "metadata": {
        "id": "nDuMfPUQqMH2"
      },
      "execution_count": 9,
      "outputs": []
    },
    {
      "cell_type": "code",
      "source": [
        "X = staten_df.drop(['Area', 'Address','Borough', 'Rent', 'ZipCode', 'Precinct', 'CrimeTotalPastYear', 'Train_Line', 'Dist_To_Line', 'Dist_To_Station', 'Dist_To_Entrance'], axis=1)\n",
        "X.head()"
      ],
      "metadata": {
        "colab": {
          "base_uri": "https://localhost:8080/",
          "height": 206
        },
        "id": "xhlAi-gSqUtm",
        "outputId": "2121094a-9519-4179-9e2b-804874612e41"
      },
      "execution_count": 10,
      "outputs": [
        {
          "output_type": "execute_result",
          "data": {
            "text/plain": [
              "   Num_Beds  Num_Baths    Sq-Ft       Long        Lat\n",
              "0       0.5        1.0   513.32 -74.103650  40.565749\n",
              "1       3.0        1.0  1500.00 -74.167172  40.548162\n",
              "2       2.0        1.0   900.00 -74.078906  40.644986\n",
              "3       1.0        1.0   750.00 -74.078906  40.644986\n",
              "4       2.0        1.0   833.22 -74.079733  40.644802"
            ],
            "text/html": [
              "\n",
              "  <div id=\"df-8da4c4cf-4442-48b8-b284-c2aabd32f5d1\">\n",
              "    <div class=\"colab-df-container\">\n",
              "      <div>\n",
              "<style scoped>\n",
              "    .dataframe tbody tr th:only-of-type {\n",
              "        vertical-align: middle;\n",
              "    }\n",
              "\n",
              "    .dataframe tbody tr th {\n",
              "        vertical-align: top;\n",
              "    }\n",
              "\n",
              "    .dataframe thead th {\n",
              "        text-align: right;\n",
              "    }\n",
              "</style>\n",
              "<table border=\"1\" class=\"dataframe\">\n",
              "  <thead>\n",
              "    <tr style=\"text-align: right;\">\n",
              "      <th></th>\n",
              "      <th>Num_Beds</th>\n",
              "      <th>Num_Baths</th>\n",
              "      <th>Sq-Ft</th>\n",
              "      <th>Long</th>\n",
              "      <th>Lat</th>\n",
              "    </tr>\n",
              "  </thead>\n",
              "  <tbody>\n",
              "    <tr>\n",
              "      <th>0</th>\n",
              "      <td>0.5</td>\n",
              "      <td>1.0</td>\n",
              "      <td>513.32</td>\n",
              "      <td>-74.103650</td>\n",
              "      <td>40.565749</td>\n",
              "    </tr>\n",
              "    <tr>\n",
              "      <th>1</th>\n",
              "      <td>3.0</td>\n",
              "      <td>1.0</td>\n",
              "      <td>1500.00</td>\n",
              "      <td>-74.167172</td>\n",
              "      <td>40.548162</td>\n",
              "    </tr>\n",
              "    <tr>\n",
              "      <th>2</th>\n",
              "      <td>2.0</td>\n",
              "      <td>1.0</td>\n",
              "      <td>900.00</td>\n",
              "      <td>-74.078906</td>\n",
              "      <td>40.644986</td>\n",
              "    </tr>\n",
              "    <tr>\n",
              "      <th>3</th>\n",
              "      <td>1.0</td>\n",
              "      <td>1.0</td>\n",
              "      <td>750.00</td>\n",
              "      <td>-74.078906</td>\n",
              "      <td>40.644986</td>\n",
              "    </tr>\n",
              "    <tr>\n",
              "      <th>4</th>\n",
              "      <td>2.0</td>\n",
              "      <td>1.0</td>\n",
              "      <td>833.22</td>\n",
              "      <td>-74.079733</td>\n",
              "      <td>40.644802</td>\n",
              "    </tr>\n",
              "  </tbody>\n",
              "</table>\n",
              "</div>\n",
              "      <button class=\"colab-df-convert\" onclick=\"convertToInteractive('df-8da4c4cf-4442-48b8-b284-c2aabd32f5d1')\"\n",
              "              title=\"Convert this dataframe to an interactive table.\"\n",
              "              style=\"display:none;\">\n",
              "        \n",
              "  <svg xmlns=\"http://www.w3.org/2000/svg\" height=\"24px\"viewBox=\"0 0 24 24\"\n",
              "       width=\"24px\">\n",
              "    <path d=\"M0 0h24v24H0V0z\" fill=\"none\"/>\n",
              "    <path d=\"M18.56 5.44l.94 2.06.94-2.06 2.06-.94-2.06-.94-.94-2.06-.94 2.06-2.06.94zm-11 1L8.5 8.5l.94-2.06 2.06-.94-2.06-.94L8.5 2.5l-.94 2.06-2.06.94zm10 10l.94 2.06.94-2.06 2.06-.94-2.06-.94-.94-2.06-.94 2.06-2.06.94z\"/><path d=\"M17.41 7.96l-1.37-1.37c-.4-.4-.92-.59-1.43-.59-.52 0-1.04.2-1.43.59L10.3 9.45l-7.72 7.72c-.78.78-.78 2.05 0 2.83L4 21.41c.39.39.9.59 1.41.59.51 0 1.02-.2 1.41-.59l7.78-7.78 2.81-2.81c.8-.78.8-2.07 0-2.86zM5.41 20L4 18.59l7.72-7.72 1.47 1.35L5.41 20z\"/>\n",
              "  </svg>\n",
              "      </button>\n",
              "      \n",
              "  <style>\n",
              "    .colab-df-container {\n",
              "      display:flex;\n",
              "      flex-wrap:wrap;\n",
              "      gap: 12px;\n",
              "    }\n",
              "\n",
              "    .colab-df-convert {\n",
              "      background-color: #E8F0FE;\n",
              "      border: none;\n",
              "      border-radius: 50%;\n",
              "      cursor: pointer;\n",
              "      display: none;\n",
              "      fill: #1967D2;\n",
              "      height: 32px;\n",
              "      padding: 0 0 0 0;\n",
              "      width: 32px;\n",
              "    }\n",
              "\n",
              "    .colab-df-convert:hover {\n",
              "      background-color: #E2EBFA;\n",
              "      box-shadow: 0px 1px 2px rgba(60, 64, 67, 0.3), 0px 1px 3px 1px rgba(60, 64, 67, 0.15);\n",
              "      fill: #174EA6;\n",
              "    }\n",
              "\n",
              "    [theme=dark] .colab-df-convert {\n",
              "      background-color: #3B4455;\n",
              "      fill: #D2E3FC;\n",
              "    }\n",
              "\n",
              "    [theme=dark] .colab-df-convert:hover {\n",
              "      background-color: #434B5C;\n",
              "      box-shadow: 0px 1px 3px 1px rgba(0, 0, 0, 0.15);\n",
              "      filter: drop-shadow(0px 1px 2px rgba(0, 0, 0, 0.3));\n",
              "      fill: #FFFFFF;\n",
              "    }\n",
              "  </style>\n",
              "\n",
              "      <script>\n",
              "        const buttonEl =\n",
              "          document.querySelector('#df-8da4c4cf-4442-48b8-b284-c2aabd32f5d1 button.colab-df-convert');\n",
              "        buttonEl.style.display =\n",
              "          google.colab.kernel.accessAllowed ? 'block' : 'none';\n",
              "\n",
              "        async function convertToInteractive(key) {\n",
              "          const element = document.querySelector('#df-8da4c4cf-4442-48b8-b284-c2aabd32f5d1');\n",
              "          const dataTable =\n",
              "            await google.colab.kernel.invokeFunction('convertToInteractive',\n",
              "                                                     [key], {});\n",
              "          if (!dataTable) return;\n",
              "\n",
              "          const docLinkHtml = 'Like what you see? Visit the ' +\n",
              "            '<a target=\"_blank\" href=https://colab.research.google.com/notebooks/data_table.ipynb>data table notebook</a>'\n",
              "            + ' to learn more about interactive tables.';\n",
              "          element.innerHTML = '';\n",
              "          dataTable['output_type'] = 'display_data';\n",
              "          await google.colab.output.renderOutput(dataTable, element);\n",
              "          const docLink = document.createElement('div');\n",
              "          docLink.innerHTML = docLinkHtml;\n",
              "          element.appendChild(docLink);\n",
              "        }\n",
              "      </script>\n",
              "    </div>\n",
              "  </div>\n",
              "  "
            ]
          },
          "metadata": {},
          "execution_count": 10
        }
      ]
    },
    {
      "cell_type": "code",
      "source": [
        "# X = pd.get_dummies(X, columns=['Area', 'Address', 'ZipCode', 'Precinct', 'Train_Line'])"
      ],
      "metadata": {
        "id": "4P1BFCNV4NK4"
      },
      "execution_count": 11,
      "outputs": []
    },
    {
      "cell_type": "code",
      "source": [
        "X_train, X_test, y_train, y_test = train_test_split(X, y, test_size=0.2, random_state=42) "
      ],
      "metadata": {
        "id": "PGBo1zfvsq38"
      },
      "execution_count": 12,
      "outputs": []
    },
    {
      "cell_type": "code",
      "source": [
        "# numeric_cols = ['Num_Beds', 'Num_Baths', 'Sq-Ft', 'Long', 'Lat', 'CrimeTotalPastYear', 'Dist_To_Line', 'Dist_To_Station', 'Dist_To_Entrance']"
      ],
      "metadata": {
        "id": "uQhhxKkD4efw"
      },
      "execution_count": 13,
      "outputs": []
    },
    {
      "cell_type": "code",
      "source": [
        "# X_train_num = X_train[numeric_cols]"
      ],
      "metadata": {
        "id": "I4uVOTx2tGNS"
      },
      "execution_count": 14,
      "outputs": []
    },
    {
      "cell_type": "code",
      "source": [
        "# X_test_num = X_test[numeric_cols]"
      ],
      "metadata": {
        "id": "z5-Af9EKtmY2"
      },
      "execution_count": 15,
      "outputs": []
    },
    {
      "cell_type": "code",
      "source": [
        "# print(X_train_num.shape)\n",
        "# print(X_test_num.shape)"
      ],
      "metadata": {
        "id": "Vdgob14o5HKD"
      },
      "execution_count": 16,
      "outputs": []
    },
    {
      "cell_type": "code",
      "source": [
        "scaler = MinMaxScaler()"
      ],
      "metadata": {
        "id": "p9RNRLAbtwBQ"
      },
      "execution_count": 17,
      "outputs": []
    },
    {
      "cell_type": "code",
      "source": [
        "X_train = scaler.fit_transform(X_train)"
      ],
      "metadata": {
        "id": "7PtlLZ1Ct1q8"
      },
      "execution_count": 18,
      "outputs": []
    },
    {
      "cell_type": "code",
      "source": [
        "X_train.shape"
      ],
      "metadata": {
        "colab": {
          "base_uri": "https://localhost:8080/"
        },
        "id": "UOd7oCyH2aUQ",
        "outputId": "24b6d65a-1166-4e72-fb95-36fcfa32defc"
      },
      "execution_count": 19,
      "outputs": [
        {
          "output_type": "execute_result",
          "data": {
            "text/plain": [
              "(38, 5)"
            ]
          },
          "metadata": {},
          "execution_count": 19
        }
      ]
    },
    {
      "cell_type": "code",
      "source": [
        "X_test = scaler.transform(X_test)"
      ],
      "metadata": {
        "id": "P71FdUJ0uBwi"
      },
      "execution_count": 20,
      "outputs": []
    },
    {
      "cell_type": "code",
      "source": [
        "X_test.shape"
      ],
      "metadata": {
        "colab": {
          "base_uri": "https://localhost:8080/"
        },
        "id": "ReDQGS852Xdb",
        "outputId": "b2eaced3-f596-4b67-9d9c-0f44f17bd52f"
      },
      "execution_count": 21,
      "outputs": [
        {
          "output_type": "execute_result",
          "data": {
            "text/plain": [
              "(10, 5)"
            ]
          },
          "metadata": {},
          "execution_count": 21
        }
      ]
    },
    {
      "cell_type": "code",
      "source": [
        "# X_train_onehots = X_train.drop(numeric_cols, axis=1)\n",
        "# X_test_onehots = X_test.drop(numeric_cols, axis=1)"
      ],
      "metadata": {
        "id": "FdZcJP0QuIVM"
      },
      "execution_count": 22,
      "outputs": []
    },
    {
      "cell_type": "code",
      "source": [
        "# X_train_onehots.shape"
      ],
      "metadata": {
        "id": "z6g_xtgK15Je"
      },
      "execution_count": 23,
      "outputs": []
    },
    {
      "cell_type": "code",
      "source": [
        "# X_test_onehots.shape"
      ],
      "metadata": {
        "id": "kqRZuLf917vt"
      },
      "execution_count": 24,
      "outputs": []
    },
    {
      "cell_type": "code",
      "source": [
        "# X_train = np.concatenate((X_train_num, X_train_onehots), axis=1)"
      ],
      "metadata": {
        "id": "fr7kghS9yA5F"
      },
      "execution_count": 25,
      "outputs": []
    },
    {
      "cell_type": "code",
      "source": [
        "# X_test = np.concatenate((X_test_num, X_test_onehots), axis=1)"
      ],
      "metadata": {
        "id": "WTUi2RjXyMFd"
      },
      "execution_count": 26,
      "outputs": []
    },
    {
      "cell_type": "code",
      "source": [
        "# create validation set\n",
        "num_val_insts = math.floor(X_train.shape[0]*(.10))\n",
        "\n",
        "X_val = X_train[:num_val_insts]\n",
        "y_val = y_train[:num_val_insts]\n",
        "\n",
        "X_train = X_train[num_val_insts:]\n",
        "y_train = y_train[num_val_insts:]"
      ],
      "metadata": {
        "id": "d3BMgWC8yaXg"
      },
      "execution_count": 27,
      "outputs": []
    },
    {
      "cell_type": "code",
      "source": [
        "print(f\"X_train shape: {X_train.shape}, y_train shape: {y_train.shape}\")\n",
        "print(f\"X_val shape: {X_val.shape}, y_val shape: {y_val.shape}\")\n",
        "print(f\"X_test shape: {X_test.shape}, y_test shape: {y_test.shape}\")"
      ],
      "metadata": {
        "colab": {
          "base_uri": "https://localhost:8080/"
        },
        "id": "HytfmXvtyjHK",
        "outputId": "b705d625-8a98-4101-c573-1154620dfbd9"
      },
      "execution_count": 28,
      "outputs": [
        {
          "output_type": "stream",
          "name": "stdout",
          "text": [
            "X_train shape: (35, 5), y_train shape: (35, 1)\n",
            "X_val shape: (3, 5), y_val shape: (3, 1)\n",
            "X_test shape: (10, 5), y_test shape: (10, 1)\n"
          ]
        }
      ]
    },
    {
      "cell_type": "code",
      "source": [
        "from keras.initializers import lecun_normal"
      ],
      "metadata": {
        "id": "Yc8srrdAy3cI"
      },
      "execution_count": 29,
      "outputs": []
    },
    {
      "cell_type": "code",
      "source": [
        "initialiser = lecun_normal(seed=31)"
      ],
      "metadata": {
        "id": "mSe9P4ETy4zn"
      },
      "execution_count": 30,
      "outputs": []
    },
    {
      "cell_type": "code",
      "source": [
        "# model\n",
        "\n",
        "model = models.Sequential()\n",
        "model.add(layers.Dense(512, activation='selu', input_shape=(X_train.shape[1],), kernel_initializer=initialiser))\n",
        "model.add(layers.Dense(512, activation='selu', kernel_initializer=initialiser))\n",
        "model.add(layers.Dense(512, activation='selu', kernel_initializer=initialiser))\n",
        "model.add(layers.Dense(512, activation='selu', kernel_initializer=initialiser))\n",
        "model.add(layers.Dense(512, activation='selu', kernel_initializer=initialiser))\n",
        "model.add(layers.Dense(512, activation='selu', kernel_initializer=initialiser))\n",
        "model.add(layers.Dense(512, activation='selu', kernel_initializer=initialiser))\n",
        "\n",
        "model.add(layers.Dense(256, activation='selu', kernel_initializer=initialiser))\n",
        "model.add(layers.Dense(256, activation='selu', kernel_initializer=initialiser))\n",
        "\n",
        "model.add(layers.Dense(128, activation='selu', kernel_initializer=initialiser))\n",
        "model.add(layers.Dense(128, activation='selu', kernel_initializer=initialiser))\n",
        "\n",
        "model.add(layers.Dense(64, activation='selu', kernel_initializer=initialiser))\n",
        "model.add(layers.Dense(64, activation='selu', kernel_initializer=initialiser))\n",
        "\n",
        "\n",
        "model.add(layers.Dense(1))"
      ],
      "metadata": {
        "id": "iHi12V7BzCM6"
      },
      "execution_count": 31,
      "outputs": []
    },
    {
      "cell_type": "code",
      "source": [
        "model.summary()"
      ],
      "metadata": {
        "colab": {
          "base_uri": "https://localhost:8080/"
        },
        "id": "TPI57bQuzJcc",
        "outputId": "e6bb900e-c8b5-4763-8dd2-7d10f220dc46"
      },
      "execution_count": 32,
      "outputs": [
        {
          "output_type": "stream",
          "name": "stdout",
          "text": [
            "Model: \"sequential\"\n",
            "_________________________________________________________________\n",
            " Layer (type)                Output Shape              Param #   \n",
            "=================================================================\n",
            " dense (Dense)               (None, 512)               3072      \n",
            "                                                                 \n",
            " dense_1 (Dense)             (None, 512)               262656    \n",
            "                                                                 \n",
            " dense_2 (Dense)             (None, 512)               262656    \n",
            "                                                                 \n",
            " dense_3 (Dense)             (None, 512)               262656    \n",
            "                                                                 \n",
            " dense_4 (Dense)             (None, 512)               262656    \n",
            "                                                                 \n",
            " dense_5 (Dense)             (None, 512)               262656    \n",
            "                                                                 \n",
            " dense_6 (Dense)             (None, 512)               262656    \n",
            "                                                                 \n",
            " dense_7 (Dense)             (None, 256)               131328    \n",
            "                                                                 \n",
            " dense_8 (Dense)             (None, 256)               65792     \n",
            "                                                                 \n",
            " dense_9 (Dense)             (None, 128)               32896     \n",
            "                                                                 \n",
            " dense_10 (Dense)            (None, 128)               16512     \n",
            "                                                                 \n",
            " dense_11 (Dense)            (None, 64)                8256      \n",
            "                                                                 \n",
            " dense_12 (Dense)            (None, 64)                4160      \n",
            "                                                                 \n",
            " dense_13 (Dense)            (None, 1)                 65        \n",
            "                                                                 \n",
            "=================================================================\n",
            "Total params: 1,838,017\n",
            "Trainable params: 1,838,017\n",
            "Non-trainable params: 0\n",
            "_________________________________________________________________\n"
          ]
        }
      ]
    },
    {
      "cell_type": "code",
      "source": [
        "model.compile(loss=\"huber_loss\", optimizer=keras.optimizers.Adam(learning_rate=.001), metrics=[\"mae\"])"
      ],
      "metadata": {
        "id": "3vPBvwnDzLl7"
      },
      "execution_count": 33,
      "outputs": []
    },
    {
      "cell_type": "code",
      "source": [
        "early_stop = EarlyStopping(monitor='val_mae', mode='min', \n",
        "                           verbose=1, patience=30, min_delta=.5, \n",
        "                           restore_best_weights=True)"
      ],
      "metadata": {
        "id": "SEE4clNfzT-Z"
      },
      "execution_count": 34,
      "outputs": []
    },
    {
      "cell_type": "code",
      "source": [
        "#reduce on plateau\n",
        "reduce_lr = ReduceLROnPlateau(\n",
        "    monitor='val_mae',\n",
        "    patience=15,\n",
        "    factor=.1,\n",
        "    mode='min',\n",
        "    min_delta=.5,\n",
        "    verbose=1,\n",
        "    min_lr=.0001\n",
        ")"
      ],
      "metadata": {
        "id": "Ki-Wg3ke0GSk"
      },
      "execution_count": 35,
      "outputs": []
    },
    {
      "cell_type": "code",
      "source": [
        "history = model.fit(X_train, y_train, epochs=500,\n",
        "                    validation_data=(X_val, y_val),\n",
        "                    callbacks=[early_stop, reduce_lr])"
      ],
      "metadata": {
        "colab": {
          "base_uri": "https://localhost:8080/"
        },
        "id": "ghmmiDo1zYHv",
        "outputId": "b37c6cdf-228e-46ed-fe19-ee789557ea7b"
      },
      "execution_count": 36,
      "outputs": [
        {
          "output_type": "stream",
          "name": "stdout",
          "text": [
            "Epoch 1/500\n",
            "2/2 [==============================] - 4s 254ms/step - loss: 2209.5862 - mae: 2210.0862 - val_loss: 1487.7998 - val_mae: 1488.2998 - lr: 0.0010\n",
            "Epoch 2/500\n",
            "2/2 [==============================] - 0s 32ms/step - loss: 2196.8481 - mae: 2197.3481 - val_loss: 1471.6748 - val_mae: 1472.1748 - lr: 0.0010\n",
            "Epoch 3/500\n",
            "2/2 [==============================] - 0s 32ms/step - loss: 2179.8787 - mae: 2180.3787 - val_loss: 1424.6532 - val_mae: 1425.1532 - lr: 0.0010\n",
            "Epoch 4/500\n",
            "2/2 [==============================] - 0s 32ms/step - loss: 2127.5471 - mae: 2128.0471 - val_loss: 1219.3452 - val_mae: 1219.8452 - lr: 0.0010\n",
            "Epoch 5/500\n",
            "2/2 [==============================] - 0s 31ms/step - loss: 1899.4904 - mae: 1899.9904 - val_loss: 341.6849 - val_mae: 342.1849 - lr: 0.0010\n",
            "Epoch 6/500\n",
            "2/2 [==============================] - 0s 21ms/step - loss: 1018.6611 - mae: 1019.1611 - val_loss: 1095.2086 - val_mae: 1095.7086 - lr: 0.0010\n",
            "Epoch 7/500\n",
            "2/2 [==============================] - 0s 31ms/step - loss: 763.4960 - mae: 763.9960 - val_loss: 161.6720 - val_mae: 162.1720 - lr: 0.0010\n",
            "Epoch 8/500\n",
            "2/2 [==============================] - 0s 35ms/step - loss: 688.1697 - mae: 688.6697 - val_loss: 136.5943 - val_mae: 137.0943 - lr: 0.0010\n",
            "Epoch 9/500\n",
            "2/2 [==============================] - 0s 21ms/step - loss: 705.5818 - mae: 706.0818 - val_loss: 575.0665 - val_mae: 575.5665 - lr: 0.0010\n",
            "Epoch 10/500\n",
            "2/2 [==============================] - 0s 21ms/step - loss: 501.4991 - mae: 501.9991 - val_loss: 635.2330 - val_mae: 635.7330 - lr: 0.0010\n",
            "Epoch 11/500\n",
            "2/2 [==============================] - 0s 21ms/step - loss: 498.8434 - mae: 499.3434 - val_loss: 336.9610 - val_mae: 337.4610 - lr: 0.0010\n",
            "Epoch 12/500\n",
            "2/2 [==============================] - 0s 21ms/step - loss: 465.4028 - mae: 465.9028 - val_loss: 768.9230 - val_mae: 769.4230 - lr: 0.0010\n",
            "Epoch 13/500\n",
            "2/2 [==============================] - 0s 24ms/step - loss: 612.5444 - mae: 613.0444 - val_loss: 447.3576 - val_mae: 447.8576 - lr: 0.0010\n",
            "Epoch 14/500\n",
            "2/2 [==============================] - 0s 22ms/step - loss: 404.4352 - mae: 404.9352 - val_loss: 146.8161 - val_mae: 147.3161 - lr: 0.0010\n",
            "Epoch 15/500\n",
            "2/2 [==============================] - 0s 34ms/step - loss: 605.0381 - mae: 605.5381 - val_loss: 108.9524 - val_mae: 109.4524 - lr: 0.0010\n",
            "Epoch 16/500\n",
            "2/2 [==============================] - 0s 22ms/step - loss: 484.4557 - mae: 484.9557 - val_loss: 212.9651 - val_mae: 213.4651 - lr: 0.0010\n",
            "Epoch 17/500\n",
            "2/2 [==============================] - 0s 22ms/step - loss: 347.5478 - mae: 348.0478 - val_loss: 113.2428 - val_mae: 113.7428 - lr: 0.0010\n",
            "Epoch 18/500\n",
            "2/2 [==============================] - 0s 32ms/step - loss: 349.7000 - mae: 350.2000 - val_loss: 79.2658 - val_mae: 79.7658 - lr: 0.0010\n",
            "Epoch 19/500\n",
            "2/2 [==============================] - 0s 22ms/step - loss: 342.3108 - mae: 342.8108 - val_loss: 142.9720 - val_mae: 143.4720 - lr: 0.0010\n",
            "Epoch 20/500\n",
            "2/2 [==============================] - 0s 32ms/step - loss: 364.5867 - mae: 365.0867 - val_loss: 74.1456 - val_mae: 74.6456 - lr: 0.0010\n",
            "Epoch 21/500\n",
            "2/2 [==============================] - 0s 22ms/step - loss: 336.7565 - mae: 337.2565 - val_loss: 190.5934 - val_mae: 191.0934 - lr: 0.0010\n",
            "Epoch 22/500\n",
            "2/2 [==============================] - 0s 22ms/step - loss: 480.9712 - mae: 481.4712 - val_loss: 106.9082 - val_mae: 107.4082 - lr: 0.0010\n",
            "Epoch 23/500\n",
            "2/2 [==============================] - 0s 22ms/step - loss: 347.2559 - mae: 347.7559 - val_loss: 176.1289 - val_mae: 176.6289 - lr: 0.0010\n",
            "Epoch 24/500\n",
            "2/2 [==============================] - 0s 22ms/step - loss: 330.5253 - mae: 331.0253 - val_loss: 99.0893 - val_mae: 99.5893 - lr: 0.0010\n",
            "Epoch 25/500\n",
            "2/2 [==============================] - 0s 22ms/step - loss: 415.5291 - mae: 416.0291 - val_loss: 210.1226 - val_mae: 210.6226 - lr: 0.0010\n",
            "Epoch 26/500\n",
            "2/2 [==============================] - 0s 21ms/step - loss: 338.8416 - mae: 339.3416 - val_loss: 194.7826 - val_mae: 195.2826 - lr: 0.0010\n",
            "Epoch 27/500\n",
            "2/2 [==============================] - 0s 23ms/step - loss: 342.0927 - mae: 342.5927 - val_loss: 170.9781 - val_mae: 171.4781 - lr: 0.0010\n",
            "Epoch 28/500\n",
            "2/2 [==============================] - 0s 22ms/step - loss: 339.7953 - mae: 340.2953 - val_loss: 143.8009 - val_mae: 144.3009 - lr: 0.0010\n",
            "Epoch 29/500\n",
            "2/2 [==============================] - 0s 27ms/step - loss: 328.5991 - mae: 329.0991 - val_loss: 80.5700 - val_mae: 81.0700 - lr: 0.0010\n",
            "Epoch 30/500\n",
            "2/2 [==============================] - 0s 23ms/step - loss: 330.5234 - mae: 331.0234 - val_loss: 105.6912 - val_mae: 106.1912 - lr: 0.0010\n",
            "Epoch 31/500\n",
            "2/2 [==============================] - 0s 21ms/step - loss: 384.7810 - mae: 385.2810 - val_loss: 94.5278 - val_mae: 95.0278 - lr: 0.0010\n",
            "Epoch 32/500\n",
            "2/2 [==============================] - 0s 22ms/step - loss: 372.2774 - mae: 372.7774 - val_loss: 339.5338 - val_mae: 340.0338 - lr: 0.0010\n",
            "Epoch 33/500\n",
            "2/2 [==============================] - 0s 22ms/step - loss: 486.4665 - mae: 486.9665 - val_loss: 390.4449 - val_mae: 390.9449 - lr: 0.0010\n",
            "Epoch 34/500\n",
            "2/2 [==============================] - 0s 25ms/step - loss: 503.0238 - mae: 503.5238 - val_loss: 234.7830 - val_mae: 235.2830 - lr: 0.0010\n",
            "Epoch 35/500\n",
            "1/2 [==============>...............] - ETA: 0s - loss: 625.4315 - mae: 625.9315\n",
            "Epoch 35: ReduceLROnPlateau reducing learning rate to 0.00010000000474974513.\n",
            "2/2 [==============================] - 0s 23ms/step - loss: 646.5699 - mae: 647.0699 - val_loss: 208.1655 - val_mae: 208.6655 - lr: 0.0010\n",
            "Epoch 36/500\n",
            "2/2 [==============================] - 0s 21ms/step - loss: 508.5546 - mae: 509.0477 - val_loss: 117.4680 - val_mae: 117.9680 - lr: 1.0000e-04\n",
            "Epoch 37/500\n",
            "2/2 [==============================] - 0s 22ms/step - loss: 415.9670 - mae: 416.4670 - val_loss: 75.7707 - val_mae: 76.2707 - lr: 1.0000e-04\n",
            "Epoch 38/500\n",
            "2/2 [==============================] - 0s 21ms/step - loss: 339.9499 - mae: 340.4413 - val_loss: 106.0770 - val_mae: 106.5525 - lr: 1.0000e-04\n",
            "Epoch 39/500\n",
            "2/2 [==============================] - 0s 22ms/step - loss: 354.6881 - mae: 355.1784 - val_loss: 159.3452 - val_mae: 159.8452 - lr: 1.0000e-04\n",
            "Epoch 40/500\n",
            "2/2 [==============================] - 0s 23ms/step - loss: 388.4747 - mae: 388.9747 - val_loss: 156.7931 - val_mae: 157.2931 - lr: 1.0000e-04\n",
            "Epoch 41/500\n",
            "2/2 [==============================] - 0s 23ms/step - loss: 389.0383 - mae: 389.5383 - val_loss: 123.1165 - val_mae: 123.6165 - lr: 1.0000e-04\n",
            "Epoch 42/500\n",
            "2/2 [==============================] - 0s 22ms/step - loss: 369.4546 - mae: 369.9546 - val_loss: 96.4614 - val_mae: 96.9614 - lr: 1.0000e-04\n",
            "Epoch 43/500\n",
            "2/2 [==============================] - 0s 22ms/step - loss: 341.6145 - mae: 342.1145 - val_loss: 94.9482 - val_mae: 95.4482 - lr: 1.0000e-04\n",
            "Epoch 44/500\n",
            "2/2 [==============================] - 0s 24ms/step - loss: 318.9669 - mae: 319.4669 - val_loss: 120.0135 - val_mae: 120.5135 - lr: 1.0000e-04\n",
            "Epoch 45/500\n",
            "2/2 [==============================] - 0s 23ms/step - loss: 327.3625 - mae: 327.8625 - val_loss: 130.0872 - val_mae: 130.5872 - lr: 1.0000e-04\n",
            "Epoch 46/500\n",
            "2/2 [==============================] - 0s 24ms/step - loss: 330.1612 - mae: 330.6612 - val_loss: 120.8291 - val_mae: 121.3291 - lr: 1.0000e-04\n",
            "Epoch 47/500\n",
            "2/2 [==============================] - 0s 22ms/step - loss: 313.7374 - mae: 314.2374 - val_loss: 105.3130 - val_mae: 105.8130 - lr: 1.0000e-04\n",
            "Epoch 48/500\n",
            "2/2 [==============================] - 0s 23ms/step - loss: 313.5645 - mae: 314.0645 - val_loss: 90.9473 - val_mae: 91.4473 - lr: 1.0000e-04\n",
            "Epoch 49/500\n",
            "2/2 [==============================] - 0s 23ms/step - loss: 339.4534 - mae: 339.9534 - val_loss: 113.3656 - val_mae: 113.8656 - lr: 1.0000e-04\n",
            "Epoch 50/500\n",
            "1/2 [==============>...............] - ETA: 0s - loss: 385.5913 - mae: 386.0913Restoring model weights from the end of the best epoch: 20.\n",
            "\n",
            "Epoch 50: ReduceLROnPlateau reducing learning rate to 0.0001.\n",
            "2/2 [==============================] - 0s 36ms/step - loss: 380.3556 - mae: 380.8556 - val_loss: 117.0393 - val_mae: 117.5393 - lr: 1.0000e-04\n",
            "Epoch 50: early stopping\n"
          ]
        }
      ]
    },
    {
      "cell_type": "code",
      "source": [
        "pd.DataFrame(history.history).plot(figsize=(10, 7))\n",
        "plt.grid(True)\n",
        "plt.show()"
      ],
      "metadata": {
        "colab": {
          "base_uri": "https://localhost:8080/",
          "height": 428
        },
        "id": "P4CCymPgzoNH",
        "outputId": "314a1729-0f77-49d0-a75a-bd350739a351"
      },
      "execution_count": 37,
      "outputs": [
        {
          "output_type": "display_data",
          "data": {
            "text/plain": [
              "<Figure size 720x504 with 1 Axes>"
            ],
            "image/png": "[encoded data removed]"
          },
          "metadata": {
            "needs_background": "light"
          }
        }
      ]
    },
    {
      "cell_type": "code",
      "source": [
        "scores = model.evaluate(X_test, y_test)"
      ],
      "metadata": {
        "colab": {
          "base_uri": "https://localhost:8080/"
        },
        "id": "LOYayY7H0XTP",
        "outputId": "f015e3dc-b670-4ab6-e342-19373d64fad0"
      },
      "execution_count": 38,
      "outputs": [
        {
          "output_type": "stream",
          "name": "stdout",
          "text": [
            "1/1 [==============================] - 0s 18ms/step - loss: 167.5865 - mae: 168.0865\n"
          ]
        }
      ]
    },
    {
      "cell_type": "code",
      "source": [
        "preds = model.predict(X_test, verbose=1)"
      ],
      "metadata": {
        "colab": {
          "base_uri": "https://localhost:8080/"
        },
        "id": "FJIpkBZg6T-D",
        "outputId": "c0b60024-684a-46ee-dbe6-a94e1ec19c20"
      },
      "execution_count": 39,
      "outputs": [
        {
          "output_type": "stream",
          "name": "stdout",
          "text": [
            "1/1 [==============================] - 0s 125ms/step\n"
          ]
        }
      ]
    },
    {
      "cell_type": "code",
      "source": [
        "from scipy import stats"
      ],
      "metadata": {
        "id": "tczk9B-N6WLu"
      },
      "execution_count": 40,
      "outputs": []
    },
    {
      "cell_type": "code",
      "source": [
        "confidence = 0.95\n",
        "\n",
        "abs_errors = abs(preds.flatten() - y_test.to_numpy().flatten())\n",
        "stats.t.interval(confidence, len(abs_errors)-1, \n",
        "                         loc=abs_errors.mean(), \n",
        "                         scale=stats.sem(abs_errors))"
      ],
      "metadata": {
        "colab": {
          "base_uri": "https://localhost:8080/"
        },
        "id": "EXiGUnWP6YUu",
        "outputId": "af07aea9-57ce-4cdf-bfc6-954d70095681"
      },
      "execution_count": 41,
      "outputs": [
        {
          "output_type": "execute_result",
          "data": {
            "text/plain": [
              "(70.37396309982668, 265.79910818923577)"
            ]
          },
          "metadata": {},
          "execution_count": 41
        }
      ]
    },
    {
      "cell_type": "code",
      "source": [
        "# We observe a better confidence interval using the full set of features; thus make better predictions\n",
        "# The model using the minimum set of features doesn't out perform the model using all features"
      ],
      "metadata": {
        "id": "a7a4tGKDHiqk"
      },
      "execution_count": 42,
      "outputs": []
    },
    {
      "cell_type": "code",
      "source": [
        "# model.save(\"staten_island.h5\")"
      ],
      "metadata": {
        "id": "O1EocXxa6r0p"
      },
      "execution_count": 43,
      "outputs": []
    },
    {
      "cell_type": "code",
      "source": [
        "# /content/drive/MyDrive/Boro_DFs/\n",
        "model.save(\"/content/drive/MyDrive/Boro_DFs/staten_island_minimum_features_model.h5\")"
      ],
      "metadata": {
        "id": "yBEwI7ai60uc"
      },
      "execution_count": 44,
      "outputs": []
    }
  ]
}