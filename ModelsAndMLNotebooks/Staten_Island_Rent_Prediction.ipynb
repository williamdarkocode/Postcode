{
  "nbformat": 4,
  "nbformat_minor": 0,
  "metadata": {
    "colab": {
      "name": "Staten_Island_Rent_Prediction",
      "provenance": [],
      "collapsed_sections": [],
      "machine_shape": "hm"
    },
    "kernelspec": {
      "name": "python3",
      "display_name": "Python 3"
    },
    "language_info": {
      "name": "python"
    },
    "accelerator": "GPU"
  },
  "cells": [
    {
      "cell_type": "code",
      "execution_count": 1,
      "metadata": {
        "id": "IHq6vEX0JQh5"
      },
      "outputs": [],
      "source": [
        "import matplotlib.pyplot as plt\n",
        "import pandas as pd\n",
        "import numpy as np\n",
        "import tarfile\n",
        "import math\n",
        "\n",
        "from tensorflow import keras\n",
        "from keras import models\n",
        "from keras import layers\n",
        "from keras.callbacks import EarlyStopping\n",
        "\n",
        "\n",
        "from sklearn.model_selection import train_test_split\n",
        "from sklearn.impute import SimpleImputer\n",
        "from sklearn.preprocessing import MinMaxScaler\n",
        "from sklearn.preprocessing import OneHotEncoder"
      ]
    },
    {
      "cell_type": "code",
      "source": [
        "from keras.callbacks import ReduceLROnPlateau"
      ],
      "metadata": {
        "id": "_VbUGw21Z__Q"
      },
      "execution_count": 2,
      "outputs": []
    },
    {
      "cell_type": "code",
      "source": [
        "from keras.layers import AlphaDropout"
      ],
      "metadata": {
        "id": "pvQYBZXraAVn"
      },
      "execution_count": 3,
      "outputs": []
    },
    {
      "cell_type": "code",
      "source": [
        "from google.colab import drive\n",
        "drive.mount('/content/drive/')"
      ],
      "metadata": {
        "colab": {
          "base_uri": "https://localhost:8080/"
        },
        "id": "LznBSqDlpFQe",
        "outputId": "e7dff137-7ea8-4f66-8c9b-05401c2fb577"
      },
      "execution_count": 4,
      "outputs": [
        {
          "output_type": "stream",
          "name": "stdout",
          "text": [
            "Mounted at /content/drive/\n"
          ]
        }
      ]
    },
    {
      "cell_type": "code",
      "source": [
        "from numpy.random import seed\n",
        "seed(15)\n",
        "\n",
        "from tensorflow.random import set_seed\n",
        "set_seed(15)"
      ],
      "metadata": {
        "id": "F82b9igNpD4a"
      },
      "execution_count": 5,
      "outputs": []
    },
    {
      "cell_type": "code",
      "source": [
        "staten_csv = '/content/drive/MyDrive/Boro_DFs/stat_df.csv'"
      ],
      "metadata": {
        "id": "It23BQMkpZrO"
      },
      "execution_count": 6,
      "outputs": []
    },
    {
      "cell_type": "code",
      "source": [
        "staten_df = pd.DataFrame(pd.read_csv(staten_csv))"
      ],
      "metadata": {
        "id": "cGPCANEIppM-"
      },
      "execution_count": 7,
      "outputs": []
    },
    {
      "cell_type": "code",
      "source": [
        "staten_df.head()"
      ],
      "metadata": {
        "colab": {
          "base_uri": "https://localhost:8080/",
          "height": 444
        },
        "id": "nn32hx06p1M7",
        "outputId": "9b69a0ba-e284-465b-8f61-a11ddddc1f84"
      },
      "execution_count": 8,
      "outputs": [
        {
          "output_type": "execute_result",
          "data": {
            "text/plain": [
              "         Borough            Area               Address  Num_Beds  Num_Baths  \\\n",
              "0  staten-island  New Dorp Beach     48C Winham Avenue       0.5        1.0   \n",
              "1  staten-island     Eltingville  3676 Richmond Avenue       3.0        1.0   \n",
              "2  staten-island    Saint George    36 Hamilton Avenue       2.0        1.0   \n",
              "3  staten-island    Saint George    36 Hamilton Avenue       1.0        1.0   \n",
              "4  staten-island    Saint George    60 Hamilton Avenue       2.0        1.0   \n",
              "\n",
              "     Sq-Ft    Rent       Long        Lat  ZipCode  Precinct  \\\n",
              "0   513.32  1199.0 -74.103650  40.565749  10306.0     120.0   \n",
              "1  1500.00  2400.0 -74.167172  40.548162  10312.0     123.0   \n",
              "2   900.00  2150.0 -74.078906  40.644986  10301.0     120.0   \n",
              "3   750.00  1600.0 -74.078906  40.644986  10301.0     120.0   \n",
              "4   833.22  1950.0 -74.079733  40.644802  10301.0     120.0   \n",
              "\n",
              "   CrimeTotalPastYear Train_Line  Dist_To_Line  Dist_To_Station  \\\n",
              "0               799.0          R      0.088793         0.088793   \n",
              "1               338.0          R      0.152523         0.152523   \n",
              "2               799.0          R      0.055211         0.055211   \n",
              "3               799.0          R      0.055211         0.055211   \n",
              "4               799.0          R      0.055896         0.055896   \n",
              "\n",
              "   Dist_To_Entrance  \n",
              "0          0.014446  \n",
              "1          0.004251  \n",
              "2          0.005682  \n",
              "3          0.005682  \n",
              "4          0.006485  "
            ],
            "text/html": [
              "\n",
              "  <div id=\"df-8ab3c2d4-506d-4f60-9c1a-f2494d231e1c\">\n",
              "    <div class=\"colab-df-container\">\n",
              "      <div>\n",
              "<style scoped>\n",
              "    .dataframe tbody tr th:only-of-type {\n",
              "        vertical-align: middle;\n",
              "    }\n",
              "\n",
              "    .dataframe tbody tr th {\n",
              "        vertical-align: top;\n",
              "    }\n",
              "\n",
              "    .dataframe thead th {\n",
              "        text-align: right;\n",
              "    }\n",
              "</style>\n",
              "<table border=\"1\" class=\"dataframe\">\n",
              "  <thead>\n",
              "    <tr style=\"text-align: right;\">\n",
              "      <th></th>\n",
              "      <th>Borough</th>\n",
              "      <th>Area</th>\n",
              "      <th>Address</th>\n",
              "      <th>Num_Beds</th>\n",
              "      <th>Num_Baths</th>\n",
              "      <th>Sq-Ft</th>\n",
              "      <th>Rent</th>\n",
              "      <th>Long</th>\n",
              "      <th>Lat</th>\n",
              "      <th>ZipCode</th>\n",
              "      <th>Precinct</th>\n",
              "      <th>CrimeTotalPastYear</th>\n",
              "      <th>Train_Line</th>\n",
              "      <th>Dist_To_Line</th>\n",
              "      <th>Dist_To_Station</th>\n",
              "      <th>Dist_To_Entrance</th>\n",
              "    </tr>\n",
              "  </thead>\n",
              "  <tbody>\n",
              "    <tr>\n",
              "      <th>0</th>\n",
              "      <td>staten-island</td>\n",
              "      <td>New Dorp Beach</td>\n",
              "      <td>48C Winham Avenue</td>\n",
              "      <td>0.5</td>\n",
              "      <td>1.0</td>\n",
              "      <td>513.32</td>\n",
              "      <td>1199.0</td>\n",
              "      <td>-74.103650</td>\n",
              "      <td>40.565749</td>\n",
              "      <td>10306.0</td>\n",
              "      <td>120.0</td>\n",
              "      <td>799.0</td>\n",
              "      <td>R</td>\n",
              "      <td>0.088793</td>\n",
              "      <td>0.088793</td>\n",
              "      <td>0.014446</td>\n",
              "    </tr>\n",
              "    <tr>\n",
              "      <th>1</th>\n",
              "      <td>staten-island</td>\n",
              "      <td>Eltingville</td>\n",
              "      <td>3676 Richmond Avenue</td>\n",
              "      <td>3.0</td>\n",
              "      <td>1.0</td>\n",
              "      <td>1500.00</td>\n",
              "      <td>2400.0</td>\n",
              "      <td>-74.167172</td>\n",
              "      <td>40.548162</td>\n",
              "      <td>10312.0</td>\n",
              "      <td>123.0</td>\n",
              "      <td>338.0</td>\n",
              "      <td>R</td>\n",
              "      <td>0.152523</td>\n",
              "      <td>0.152523</td>\n",
              "      <td>0.004251</td>\n",
              "    </tr>\n",
              "    <tr>\n",
              "      <th>2</th>\n",
              "      <td>staten-island</td>\n",
              "      <td>Saint George</td>\n",
              "      <td>36 Hamilton Avenue</td>\n",
              "      <td>2.0</td>\n",
              "      <td>1.0</td>\n",
              "      <td>900.00</td>\n",
              "      <td>2150.0</td>\n",
              "      <td>-74.078906</td>\n",
              "      <td>40.644986</td>\n",
              "      <td>10301.0</td>\n",
              "      <td>120.0</td>\n",
              "      <td>799.0</td>\n",
              "      <td>R</td>\n",
              "      <td>0.055211</td>\n",
              "      <td>0.055211</td>\n",
              "      <td>0.005682</td>\n",
              "    </tr>\n",
              "    <tr>\n",
              "      <th>3</th>\n",
              "      <td>staten-island</td>\n",
              "      <td>Saint George</td>\n",
              "      <td>36 Hamilton Avenue</td>\n",
              "      <td>1.0</td>\n",
              "      <td>1.0</td>\n",
              "      <td>750.00</td>\n",
              "      <td>1600.0</td>\n",
              "      <td>-74.078906</td>\n",
              "      <td>40.644986</td>\n",
              "      <td>10301.0</td>\n",
              "      <td>120.0</td>\n",
              "      <td>799.0</td>\n",
              "      <td>R</td>\n",
              "      <td>0.055211</td>\n",
              "      <td>0.055211</td>\n",
              "      <td>0.005682</td>\n",
              "    </tr>\n",
              "    <tr>\n",
              "      <th>4</th>\n",
              "      <td>staten-island</td>\n",
              "      <td>Saint George</td>\n",
              "      <td>60 Hamilton Avenue</td>\n",
              "      <td>2.0</td>\n",
              "      <td>1.0</td>\n",
              "      <td>833.22</td>\n",
              "      <td>1950.0</td>\n",
              "      <td>-74.079733</td>\n",
              "      <td>40.644802</td>\n",
              "      <td>10301.0</td>\n",
              "      <td>120.0</td>\n",
              "      <td>799.0</td>\n",
              "      <td>R</td>\n",
              "      <td>0.055896</td>\n",
              "      <td>0.055896</td>\n",
              "      <td>0.006485</td>\n",
              "    </tr>\n",
              "  </tbody>\n",
              "</table>\n",
              "</div>\n",
              "      <button class=\"colab-df-convert\" onclick=\"convertToInteractive('df-8ab3c2d4-506d-4f60-9c1a-f2494d231e1c')\"\n",
              "              title=\"Convert this dataframe to an interactive table.\"\n",
              "              style=\"display:none;\">\n",
              "        \n",
              "  <svg xmlns=\"http://www.w3.org/2000/svg\" height=\"24px\"viewBox=\"0 0 24 24\"\n",
              "       width=\"24px\">\n",
              "    <path d=\"M0 0h24v24H0V0z\" fill=\"none\"/>\n",
              "    <path d=\"M18.56 5.44l.94 2.06.94-2.06 2.06-.94-2.06-.94-.94-2.06-.94 2.06-2.06.94zm-11 1L8.5 8.5l.94-2.06 2.06-.94-2.06-.94L8.5 2.5l-.94 2.06-2.06.94zm10 10l.94 2.06.94-2.06 2.06-.94-2.06-.94-.94-2.06-.94 2.06-2.06.94z\"/><path d=\"M17.41 7.96l-1.37-1.37c-.4-.4-.92-.59-1.43-.59-.52 0-1.04.2-1.43.59L10.3 9.45l-7.72 7.72c-.78.78-.78 2.05 0 2.83L4 21.41c.39.39.9.59 1.41.59.51 0 1.02-.2 1.41-.59l7.78-7.78 2.81-2.81c.8-.78.8-2.07 0-2.86zM5.41 20L4 18.59l7.72-7.72 1.47 1.35L5.41 20z\"/>\n",
              "  </svg>\n",
              "      </button>\n",
              "      \n",
              "  <style>\n",
              "    .colab-df-container {\n",
              "      display:flex;\n",
              "      flex-wrap:wrap;\n",
              "      gap: 12px;\n",
              "    }\n",
              "\n",
              "    .colab-df-convert {\n",
              "      background-color: #E8F0FE;\n",
              "      border: none;\n",
              "      border-radius: 50%;\n",
              "      cursor: pointer;\n",
              "      display: none;\n",
              "      fill: #1967D2;\n",
              "      height: 32px;\n",
              "      padding: 0 0 0 0;\n",
              "      width: 32px;\n",
              "    }\n",
              "\n",
              "    .colab-df-convert:hover {\n",
              "      background-color: #E2EBFA;\n",
              "      box-shadow: 0px 1px 2px rgba(60, 64, 67, 0.3), 0px 1px 3px 1px rgba(60, 64, 67, 0.15);\n",
              "      fill: #174EA6;\n",
              "    }\n",
              "\n",
              "    [theme=dark] .colab-df-convert {\n",
              "      background-color: #3B4455;\n",
              "      fill: #D2E3FC;\n",
              "    }\n",
              "\n",
              "    [theme=dark] .colab-df-convert:hover {\n",
              "      background-color: #434B5C;\n",
              "      box-shadow: 0px 1px 3px 1px rgba(0, 0, 0, 0.15);\n",
              "      filter: drop-shadow(0px 1px 2px rgba(0, 0, 0, 0.3));\n",
              "      fill: #FFFFFF;\n",
              "    }\n",
              "  </style>\n",
              "\n",
              "      <script>\n",
              "        const buttonEl =\n",
              "          document.querySelector('#df-8ab3c2d4-506d-4f60-9c1a-f2494d231e1c button.colab-df-convert');\n",
              "        buttonEl.style.display =\n",
              "          google.colab.kernel.accessAllowed ? 'block' : 'none';\n",
              "\n",
              "        async function convertToInteractive(key) {\n",
              "          const element = document.querySelector('#df-8ab3c2d4-506d-4f60-9c1a-f2494d231e1c');\n",
              "          const dataTable =\n",
              "            await google.colab.kernel.invokeFunction('convertToInteractive',\n",
              "                                                     [key], {});\n",
              "          if (!dataTable) return;\n",
              "\n",
              "          const docLinkHtml = 'Like what you see? Visit the ' +\n",
              "            '<a target=\"_blank\" href=https://colab.research.google.com/notebooks/data_table.ipynb>data table notebook</a>'\n",
              "            + ' to learn more about interactive tables.';\n",
              "          element.innerHTML = '';\n",
              "          dataTable['output_type'] = 'display_data';\n",
              "          await google.colab.output.renderOutput(dataTable, element);\n",
              "          const docLink = document.createElement('div');\n",
              "          docLink.innerHTML = docLinkHtml;\n",
              "          element.appendChild(docLink);\n",
              "        }\n",
              "      </script>\n",
              "    </div>\n",
              "  </div>\n",
              "  "
            ]
          },
          "metadata": {},
          "execution_count": 8
        }
      ]
    },
    {
      "cell_type": "code",
      "source": [
        "y = staten_df[['Rent']]"
      ],
      "metadata": {
        "id": "nDuMfPUQqMH2"
      },
      "execution_count": 9,
      "outputs": []
    },
    {
      "cell_type": "code",
      "source": [
        "X = staten_df.drop(['Borough', 'Rent'], axis=1)\n",
        "X.head()"
      ],
      "metadata": {
        "colab": {
          "base_uri": "https://localhost:8080/",
          "height": 285
        },
        "id": "xhlAi-gSqUtm",
        "outputId": "08af5ced-3bc9-4d7b-93f5-c910b107bd35"
      },
      "execution_count": 10,
      "outputs": [
        {
          "output_type": "execute_result",
          "data": {
            "text/plain": [
              "             Area               Address  Num_Beds  Num_Baths    Sq-Ft  \\\n",
              "0  New Dorp Beach     48C Winham Avenue       0.5        1.0   513.32   \n",
              "1     Eltingville  3676 Richmond Avenue       3.0        1.0  1500.00   \n",
              "2    Saint George    36 Hamilton Avenue       2.0        1.0   900.00   \n",
              "3    Saint George    36 Hamilton Avenue       1.0        1.0   750.00   \n",
              "4    Saint George    60 Hamilton Avenue       2.0        1.0   833.22   \n",
              "\n",
              "        Long        Lat  ZipCode  Precinct  CrimeTotalPastYear Train_Line  \\\n",
              "0 -74.103650  40.565749  10306.0     120.0               799.0          R   \n",
              "1 -74.167172  40.548162  10312.0     123.0               338.0          R   \n",
              "2 -74.078906  40.644986  10301.0     120.0               799.0          R   \n",
              "3 -74.078906  40.644986  10301.0     120.0               799.0          R   \n",
              "4 -74.079733  40.644802  10301.0     120.0               799.0          R   \n",
              "\n",
              "   Dist_To_Line  Dist_To_Station  Dist_To_Entrance  \n",
              "0      0.088793         0.088793          0.014446  \n",
              "1      0.152523         0.152523          0.004251  \n",
              "2      0.055211         0.055211          0.005682  \n",
              "3      0.055211         0.055211          0.005682  \n",
              "4      0.055896         0.055896          0.006485  "
            ],
            "text/html": [
              "\n",
              "  <div id=\"df-80dc76ee-b96c-4e50-bda3-e997d6543150\">\n",
              "    <div class=\"colab-df-container\">\n",
              "      <div>\n",
              "<style scoped>\n",
              "    .dataframe tbody tr th:only-of-type {\n",
              "        vertical-align: middle;\n",
              "    }\n",
              "\n",
              "    .dataframe tbody tr th {\n",
              "        vertical-align: top;\n",
              "    }\n",
              "\n",
              "    .dataframe thead th {\n",
              "        text-align: right;\n",
              "    }\n",
              "</style>\n",
              "<table border=\"1\" class=\"dataframe\">\n",
              "  <thead>\n",
              "    <tr style=\"text-align: right;\">\n",
              "      <th></th>\n",
              "      <th>Area</th>\n",
              "      <th>Address</th>\n",
              "      <th>Num_Beds</th>\n",
              "      <th>Num_Baths</th>\n",
              "      <th>Sq-Ft</th>\n",
              "      <th>Long</th>\n",
              "      <th>Lat</th>\n",
              "      <th>ZipCode</th>\n",
              "      <th>Precinct</th>\n",
              "      <th>CrimeTotalPastYear</th>\n",
              "      <th>Train_Line</th>\n",
              "      <th>Dist_To_Line</th>\n",
              "      <th>Dist_To_Station</th>\n",
              "      <th>Dist_To_Entrance</th>\n",
              "    </tr>\n",
              "  </thead>\n",
              "  <tbody>\n",
              "    <tr>\n",
              "      <th>0</th>\n",
              "      <td>New Dorp Beach</td>\n",
              "      <td>48C Winham Avenue</td>\n",
              "      <td>0.5</td>\n",
              "      <td>1.0</td>\n",
              "      <td>513.32</td>\n",
              "      <td>-74.103650</td>\n",
              "      <td>40.565749</td>\n",
              "      <td>10306.0</td>\n",
              "      <td>120.0</td>\n",
              "      <td>799.0</td>\n",
              "      <td>R</td>\n",
              "      <td>0.088793</td>\n",
              "      <td>0.088793</td>\n",
              "      <td>0.014446</td>\n",
              "    </tr>\n",
              "    <tr>\n",
              "      <th>1</th>\n",
              "      <td>Eltingville</td>\n",
              "      <td>3676 Richmond Avenue</td>\n",
              "      <td>3.0</td>\n",
              "      <td>1.0</td>\n",
              "      <td>1500.00</td>\n",
              "      <td>-74.167172</td>\n",
              "      <td>40.548162</td>\n",
              "      <td>10312.0</td>\n",
              "      <td>123.0</td>\n",
              "      <td>338.0</td>\n",
              "      <td>R</td>\n",
              "      <td>0.152523</td>\n",
              "      <td>0.152523</td>\n",
              "      <td>0.004251</td>\n",
              "    </tr>\n",
              "    <tr>\n",
              "      <th>2</th>\n",
              "      <td>Saint George</td>\n",
              "      <td>36 Hamilton Avenue</td>\n",
              "      <td>2.0</td>\n",
              "      <td>1.0</td>\n",
              "      <td>900.00</td>\n",
              "      <td>-74.078906</td>\n",
              "      <td>40.644986</td>\n",
              "      <td>10301.0</td>\n",
              "      <td>120.0</td>\n",
              "      <td>799.0</td>\n",
              "      <td>R</td>\n",
              "      <td>0.055211</td>\n",
              "      <td>0.055211</td>\n",
              "      <td>0.005682</td>\n",
              "    </tr>\n",
              "    <tr>\n",
              "      <th>3</th>\n",
              "      <td>Saint George</td>\n",
              "      <td>36 Hamilton Avenue</td>\n",
              "      <td>1.0</td>\n",
              "      <td>1.0</td>\n",
              "      <td>750.00</td>\n",
              "      <td>-74.078906</td>\n",
              "      <td>40.644986</td>\n",
              "      <td>10301.0</td>\n",
              "      <td>120.0</td>\n",
              "      <td>799.0</td>\n",
              "      <td>R</td>\n",
              "      <td>0.055211</td>\n",
              "      <td>0.055211</td>\n",
              "      <td>0.005682</td>\n",
              "    </tr>\n",
              "    <tr>\n",
              "      <th>4</th>\n",
              "      <td>Saint George</td>\n",
              "      <td>60 Hamilton Avenue</td>\n",
              "      <td>2.0</td>\n",
              "      <td>1.0</td>\n",
              "      <td>833.22</td>\n",
              "      <td>-74.079733</td>\n",
              "      <td>40.644802</td>\n",
              "      <td>10301.0</td>\n",
              "      <td>120.0</td>\n",
              "      <td>799.0</td>\n",
              "      <td>R</td>\n",
              "      <td>0.055896</td>\n",
              "      <td>0.055896</td>\n",
              "      <td>0.006485</td>\n",
              "    </tr>\n",
              "  </tbody>\n",
              "</table>\n",
              "</div>\n",
              "      <button class=\"colab-df-convert\" onclick=\"convertToInteractive('df-80dc76ee-b96c-4e50-bda3-e997d6543150')\"\n",
              "              title=\"Convert this dataframe to an interactive table.\"\n",
              "              style=\"display:none;\">\n",
              "        \n",
              "  <svg xmlns=\"http://www.w3.org/2000/svg\" height=\"24px\"viewBox=\"0 0 24 24\"\n",
              "       width=\"24px\">\n",
              "    <path d=\"M0 0h24v24H0V0z\" fill=\"none\"/>\n",
              "    <path d=\"M18.56 5.44l.94 2.06.94-2.06 2.06-.94-2.06-.94-.94-2.06-.94 2.06-2.06.94zm-11 1L8.5 8.5l.94-2.06 2.06-.94-2.06-.94L8.5 2.5l-.94 2.06-2.06.94zm10 10l.94 2.06.94-2.06 2.06-.94-2.06-.94-.94-2.06-.94 2.06-2.06.94z\"/><path d=\"M17.41 7.96l-1.37-1.37c-.4-.4-.92-.59-1.43-.59-.52 0-1.04.2-1.43.59L10.3 9.45l-7.72 7.72c-.78.78-.78 2.05 0 2.83L4 21.41c.39.39.9.59 1.41.59.51 0 1.02-.2 1.41-.59l7.78-7.78 2.81-2.81c.8-.78.8-2.07 0-2.86zM5.41 20L4 18.59l7.72-7.72 1.47 1.35L5.41 20z\"/>\n",
              "  </svg>\n",
              "      </button>\n",
              "      \n",
              "  <style>\n",
              "    .colab-df-container {\n",
              "      display:flex;\n",
              "      flex-wrap:wrap;\n",
              "      gap: 12px;\n",
              "    }\n",
              "\n",
              "    .colab-df-convert {\n",
              "      background-color: #E8F0FE;\n",
              "      border: none;\n",
              "      border-radius: 50%;\n",
              "      cursor: pointer;\n",
              "      display: none;\n",
              "      fill: #1967D2;\n",
              "      height: 32px;\n",
              "      padding: 0 0 0 0;\n",
              "      width: 32px;\n",
              "    }\n",
              "\n",
              "    .colab-df-convert:hover {\n",
              "      background-color: #E2EBFA;\n",
              "      box-shadow: 0px 1px 2px rgba(60, 64, 67, 0.3), 0px 1px 3px 1px rgba(60, 64, 67, 0.15);\n",
              "      fill: #174EA6;\n",
              "    }\n",
              "\n",
              "    [theme=dark] .colab-df-convert {\n",
              "      background-color: #3B4455;\n",
              "      fill: #D2E3FC;\n",
              "    }\n",
              "\n",
              "    [theme=dark] .colab-df-convert:hover {\n",
              "      background-color: #434B5C;\n",
              "      box-shadow: 0px 1px 3px 1px rgba(0, 0, 0, 0.15);\n",
              "      filter: drop-shadow(0px 1px 2px rgba(0, 0, 0, 0.3));\n",
              "      fill: #FFFFFF;\n",
              "    }\n",
              "  </style>\n",
              "\n",
              "      <script>\n",
              "        const buttonEl =\n",
              "          document.querySelector('#df-80dc76ee-b96c-4e50-bda3-e997d6543150 button.colab-df-convert');\n",
              "        buttonEl.style.display =\n",
              "          google.colab.kernel.accessAllowed ? 'block' : 'none';\n",
              "\n",
              "        async function convertToInteractive(key) {\n",
              "          const element = document.querySelector('#df-80dc76ee-b96c-4e50-bda3-e997d6543150');\n",
              "          const dataTable =\n",
              "            await google.colab.kernel.invokeFunction('convertToInteractive',\n",
              "                                                     [key], {});\n",
              "          if (!dataTable) return;\n",
              "\n",
              "          const docLinkHtml = 'Like what you see? Visit the ' +\n",
              "            '<a target=\"_blank\" href=https://colab.research.google.com/notebooks/data_table.ipynb>data table notebook</a>'\n",
              "            + ' to learn more about interactive tables.';\n",
              "          element.innerHTML = '';\n",
              "          dataTable['output_type'] = 'display_data';\n",
              "          await google.colab.output.renderOutput(dataTable, element);\n",
              "          const docLink = document.createElement('div');\n",
              "          docLink.innerHTML = docLinkHtml;\n",
              "          element.appendChild(docLink);\n",
              "        }\n",
              "      </script>\n",
              "    </div>\n",
              "  </div>\n",
              "  "
            ]
          },
          "metadata": {},
          "execution_count": 10
        }
      ]
    },
    {
      "cell_type": "code",
      "source": [
        "X = pd.get_dummies(X, columns=['Area', 'Address', 'ZipCode', 'Precinct', 'Train_Line'])"
      ],
      "metadata": {
        "id": "4P1BFCNV4NK4"
      },
      "execution_count": 11,
      "outputs": []
    },
    {
      "cell_type": "code",
      "source": [
        "X_train, X_test, y_train, y_test = train_test_split(X, y, test_size=0.2, random_state=42) "
      ],
      "metadata": {
        "id": "PGBo1zfvsq38"
      },
      "execution_count": 12,
      "outputs": []
    },
    {
      "cell_type": "code",
      "source": [
        "numeric_cols = ['Num_Beds', 'Num_Baths', 'Sq-Ft', 'Long', 'Lat', 'CrimeTotalPastYear', 'Dist_To_Line', 'Dist_To_Station', 'Dist_To_Entrance']"
      ],
      "metadata": {
        "id": "uQhhxKkD4efw"
      },
      "execution_count": 13,
      "outputs": []
    },
    {
      "cell_type": "code",
      "source": [
        "X_train_num = X_train[numeric_cols]"
      ],
      "metadata": {
        "id": "I4uVOTx2tGNS"
      },
      "execution_count": 14,
      "outputs": []
    },
    {
      "cell_type": "code",
      "source": [
        "X_test_num = X_test[numeric_cols]"
      ],
      "metadata": {
        "id": "z5-Af9EKtmY2"
      },
      "execution_count": 15,
      "outputs": []
    },
    {
      "cell_type": "code",
      "source": [
        "print(X_train_num.shape)\n",
        "print(X_test_num.shape)"
      ],
      "metadata": {
        "colab": {
          "base_uri": "https://localhost:8080/"
        },
        "id": "Vdgob14o5HKD",
        "outputId": "b8704d62-eacb-436b-af44-786d9b52fb70"
      },
      "execution_count": 16,
      "outputs": [
        {
          "output_type": "stream",
          "name": "stdout",
          "text": [
            "(38, 9)\n",
            "(10, 9)\n"
          ]
        }
      ]
    },
    {
      "cell_type": "code",
      "source": [
        "scaler = MinMaxScaler()"
      ],
      "metadata": {
        "id": "p9RNRLAbtwBQ"
      },
      "execution_count": 17,
      "outputs": []
    },
    {
      "cell_type": "code",
      "source": [
        "X_train_num = scaler.fit_transform(X_train_num)"
      ],
      "metadata": {
        "id": "7PtlLZ1Ct1q8"
      },
      "execution_count": 18,
      "outputs": []
    },
    {
      "cell_type": "code",
      "source": [
        "X_train_num.shape"
      ],
      "metadata": {
        "colab": {
          "base_uri": "https://localhost:8080/"
        },
        "id": "UOd7oCyH2aUQ",
        "outputId": "56f0d049-a7b9-47b7-a538-c4d9899df841"
      },
      "execution_count": 19,
      "outputs": [
        {
          "output_type": "execute_result",
          "data": {
            "text/plain": [
              "(38, 9)"
            ]
          },
          "metadata": {},
          "execution_count": 19
        }
      ]
    },
    {
      "cell_type": "code",
      "source": [
        "X_test_num = scaler.transform(X_test_num)"
      ],
      "metadata": {
        "id": "P71FdUJ0uBwi"
      },
      "execution_count": 20,
      "outputs": []
    },
    {
      "cell_type": "code",
      "source": [
        "X_test_num.shape"
      ],
      "metadata": {
        "colab": {
          "base_uri": "https://localhost:8080/"
        },
        "id": "ReDQGS852Xdb",
        "outputId": "e003749e-03ee-4d09-d7eb-6e8a08d70e81"
      },
      "execution_count": 21,
      "outputs": [
        {
          "output_type": "execute_result",
          "data": {
            "text/plain": [
              "(10, 9)"
            ]
          },
          "metadata": {},
          "execution_count": 21
        }
      ]
    },
    {
      "cell_type": "code",
      "source": [
        "X_train_onehots = X_train.drop(numeric_cols, axis=1)\n",
        "X_test_onehots = X_test.drop(numeric_cols, axis=1)"
      ],
      "metadata": {
        "id": "FdZcJP0QuIVM"
      },
      "execution_count": 22,
      "outputs": []
    },
    {
      "cell_type": "code",
      "source": [
        "X_train_onehots.shape"
      ],
      "metadata": {
        "colab": {
          "base_uri": "https://localhost:8080/"
        },
        "id": "z6g_xtgK15Je",
        "outputId": "e0919cad-2ccc-4b6b-9787-d98530cc3ae1"
      },
      "execution_count": 23,
      "outputs": [
        {
          "output_type": "execute_result",
          "data": {
            "text/plain": [
              "(38, 90)"
            ]
          },
          "metadata": {},
          "execution_count": 23
        }
      ]
    },
    {
      "cell_type": "code",
      "source": [
        "X_test_onehots.shape"
      ],
      "metadata": {
        "colab": {
          "base_uri": "https://localhost:8080/"
        },
        "id": "kqRZuLf917vt",
        "outputId": "55643ddd-b271-46e0-e734-d52ecf547cac"
      },
      "execution_count": 24,
      "outputs": [
        {
          "output_type": "execute_result",
          "data": {
            "text/plain": [
              "(10, 90)"
            ]
          },
          "metadata": {},
          "execution_count": 24
        }
      ]
    },
    {
      "cell_type": "code",
      "source": [
        "X_train = np.concatenate((X_train_num, X_train_onehots), axis=1)"
      ],
      "metadata": {
        "id": "fr7kghS9yA5F"
      },
      "execution_count": 25,
      "outputs": []
    },
    {
      "cell_type": "code",
      "source": [
        "X_test = np.concatenate((X_test_num, X_test_onehots), axis=1)"
      ],
      "metadata": {
        "id": "WTUi2RjXyMFd"
      },
      "execution_count": 26,
      "outputs": []
    },
    {
      "cell_type": "code",
      "source": [
        "# create validation set\n",
        "num_val_insts = math.floor(X_train.shape[0]*(.10))\n",
        "\n",
        "X_val = X_train[:num_val_insts]\n",
        "y_val = y_train[:num_val_insts]\n",
        "\n",
        "X_train = X_train[num_val_insts:]\n",
        "y_train = y_train[num_val_insts:]"
      ],
      "metadata": {
        "id": "d3BMgWC8yaXg"
      },
      "execution_count": 27,
      "outputs": []
    },
    {
      "cell_type": "code",
      "source": [
        "print(f\"X_train shape: {X_train.shape}, y_train shape: {y_train.shape}\")\n",
        "print(f\"X_val shape: {X_val.shape}, y_val shape: {y_val.shape}\")\n",
        "print(f\"X_test shape: {X_test.shape}, y_test shape: {y_test.shape}\")"
      ],
      "metadata": {
        "colab": {
          "base_uri": "https://localhost:8080/"
        },
        "id": "HytfmXvtyjHK",
        "outputId": "9be149f1-98e1-482e-ccbd-a2d21849d77e"
      },
      "execution_count": 28,
      "outputs": [
        {
          "output_type": "stream",
          "name": "stdout",
          "text": [
            "X_train shape: (35, 99), y_train shape: (35, 1)\n",
            "X_val shape: (3, 99), y_val shape: (3, 1)\n",
            "X_test shape: (10, 99), y_test shape: (10, 1)\n"
          ]
        }
      ]
    },
    {
      "cell_type": "code",
      "source": [
        "from keras.initializers import lecun_normal"
      ],
      "metadata": {
        "id": "Yc8srrdAy3cI"
      },
      "execution_count": 29,
      "outputs": []
    },
    {
      "cell_type": "code",
      "source": [
        "initialiser = lecun_normal(seed=31)"
      ],
      "metadata": {
        "id": "mSe9P4ETy4zn"
      },
      "execution_count": 30,
      "outputs": []
    },
    {
      "cell_type": "code",
      "source": [
        "# model 1\n",
        "\n",
        "# model = models.Sequential()\n",
        "# model.add(layers.Dense(100, activation='selu', input_shape=(X_train.shape[1],), kernel_initializer=initialiser))\n",
        "# model.add(layers.Dense(100, activation='selu', kernel_initializer=initialiser))\n",
        "# model.add(layers.Dense(100, activation='selu', kernel_initializer=initialiser))\n",
        "# model.add(layers.Dense(100, activation='selu', kernel_initializer=initialiser))\n",
        "# model.add(layers.Dense(100, activation='selu', kernel_initializer=initialiser))\n",
        "# model.add(layers.Dense(100, activation='selu', kernel_initializer=initialiser))\n",
        "# model.add(layers.Dense(1))\n",
        "\n",
        "\n",
        "# model 2\n",
        "model = models.Sequential()\n",
        "model.add(layers.Dense(512, activation='selu', input_shape=(X_train.shape[1],), kernel_initializer=initialiser))\n",
        "model.add(layers.Dense(512, activation='selu', kernel_initializer=initialiser))\n",
        "model.add(layers.Dense(512, activation='selu', kernel_initializer=initialiser))\n",
        "model.add(layers.Dense(512, activation='selu', kernel_initializer=initialiser))\n",
        "model.add(layers.Dense(512, activation='selu', kernel_initializer=initialiser))\n",
        "model.add(layers.Dense(512, activation='selu', kernel_initializer=initialiser))\n",
        "model.add(layers.Dense(512, activation='selu', kernel_initializer=initialiser))\n",
        "\n",
        "model.add(layers.Dense(256, activation='selu', kernel_initializer=initialiser))\n",
        "model.add(layers.Dense(256, activation='selu', kernel_initializer=initialiser))\n",
        "\n",
        "model.add(layers.Dense(128, activation='selu', kernel_initializer=initialiser))\n",
        "model.add(layers.Dense(128, activation='selu', kernel_initializer=initialiser))\n",
        "\n",
        "model.add(layers.Dense(64, activation='selu', kernel_initializer=initialiser))\n",
        "model.add(layers.Dense(64, activation='selu', kernel_initializer=initialiser))\n",
        "\n",
        "\n",
        "model.add(layers.Dense(1))"
      ],
      "metadata": {
        "id": "iHi12V7BzCM6"
      },
      "execution_count": 31,
      "outputs": []
    },
    {
      "cell_type": "code",
      "source": [
        "model.summary()"
      ],
      "metadata": {
        "colab": {
          "base_uri": "https://localhost:8080/"
        },
        "id": "TPI57bQuzJcc",
        "outputId": "702129f3-27fe-4f8a-c807-1be1d37c4bdc"
      },
      "execution_count": 32,
      "outputs": [
        {
          "output_type": "stream",
          "name": "stdout",
          "text": [
            "Model: \"sequential\"\n",
            "_________________________________________________________________\n",
            " Layer (type)                Output Shape              Param #   \n",
            "=================================================================\n",
            " dense (Dense)               (None, 512)               51200     \n",
            "                                                                 \n",
            " dense_1 (Dense)             (None, 512)               262656    \n",
            "                                                                 \n",
            " dense_2 (Dense)             (None, 512)               262656    \n",
            "                                                                 \n",
            " dense_3 (Dense)             (None, 512)               262656    \n",
            "                                                                 \n",
            " dense_4 (Dense)             (None, 512)               262656    \n",
            "                                                                 \n",
            " dense_5 (Dense)             (None, 512)               262656    \n",
            "                                                                 \n",
            " dense_6 (Dense)             (None, 512)               262656    \n",
            "                                                                 \n",
            " dense_7 (Dense)             (None, 256)               131328    \n",
            "                                                                 \n",
            " dense_8 (Dense)             (None, 256)               65792     \n",
            "                                                                 \n",
            " dense_9 (Dense)             (None, 128)               32896     \n",
            "                                                                 \n",
            " dense_10 (Dense)            (None, 128)               16512     \n",
            "                                                                 \n",
            " dense_11 (Dense)            (None, 64)                8256      \n",
            "                                                                 \n",
            " dense_12 (Dense)            (None, 64)                4160      \n",
            "                                                                 \n",
            " dense_13 (Dense)            (None, 1)                 65        \n",
            "                                                                 \n",
            "=================================================================\n",
            "Total params: 1,886,145\n",
            "Trainable params: 1,886,145\n",
            "Non-trainable params: 0\n",
            "_________________________________________________________________\n"
          ]
        }
      ]
    },
    {
      "cell_type": "code",
      "source": [
        "model.compile(loss=\"huber_loss\", optimizer=keras.optimizers.Adam(learning_rate=.001), metrics=[\"mae\"])"
      ],
      "metadata": {
        "id": "3vPBvwnDzLl7"
      },
      "execution_count": 33,
      "outputs": []
    },
    {
      "cell_type": "code",
      "source": [
        "early_stop = EarlyStopping(monitor='val_mae', mode='min', \n",
        "                           verbose=1, patience=30, min_delta=1, \n",
        "                           restore_best_weights=True)"
      ],
      "metadata": {
        "id": "SEE4clNfzT-Z"
      },
      "execution_count": 34,
      "outputs": []
    },
    {
      "cell_type": "code",
      "source": [
        "reduce_lr = ReduceLROnPlateau(\n",
        "    monitor='val_mae',\n",
        "    patience=15,\n",
        "    factor=.1,\n",
        "    mode='min',\n",
        "    min_delta=.5,\n",
        "    verbose=1,\n",
        "    min_lr=.0001\n",
        ")"
      ],
      "metadata": {
        "id": "z60rRQ9JaII0"
      },
      "execution_count": 35,
      "outputs": []
    },
    {
      "cell_type": "code",
      "source": [
        "history = model.fit(X_train, y_train, epochs=300,\n",
        "                    validation_data=(X_val, y_val),\n",
        "                    callbacks=[early_stop, reduce_lr])"
      ],
      "metadata": {
        "colab": {
          "base_uri": "https://localhost:8080/"
        },
        "id": "ghmmiDo1zYHv",
        "outputId": "7d2a72bf-63e3-49a4-a71d-74189b70cfb5"
      },
      "execution_count": 36,
      "outputs": [
        {
          "output_type": "stream",
          "name": "stdout",
          "text": [
            "Epoch 1/300\n",
            "2/2 [==============================] - 3s 229ms/step - loss: 2207.7566 - mae: 2208.2566 - val_loss: 1483.0201 - val_mae: 1483.5201 - lr: 0.0010\n",
            "Epoch 2/300\n",
            "2/2 [==============================] - 0s 33ms/step - loss: 2191.7500 - mae: 2192.2500 - val_loss: 1460.7632 - val_mae: 1461.2632 - lr: 0.0010\n",
            "Epoch 3/300\n",
            "2/2 [==============================] - 0s 31ms/step - loss: 2167.7886 - mae: 2168.2886 - val_loss: 1385.1259 - val_mae: 1385.6259 - lr: 0.0010\n",
            "Epoch 4/300\n",
            "2/2 [==============================] - 0s 31ms/step - loss: 2083.7000 - mae: 2084.2000 - val_loss: 1074.2363 - val_mae: 1074.7363 - lr: 0.0010\n",
            "Epoch 5/300\n",
            "2/2 [==============================] - 0s 31ms/step - loss: 1735.3728 - mae: 1735.8728 - val_loss: 231.5313 - val_mae: 232.0313 - lr: 0.0010\n",
            "Epoch 6/300\n",
            "2/2 [==============================] - 0s 24ms/step - loss: 767.2597 - mae: 767.7597 - val_loss: 1394.3053 - val_mae: 1394.8053 - lr: 0.0010\n",
            "Epoch 7/300\n",
            "2/2 [==============================] - 0s 31ms/step - loss: 995.7092 - mae: 996.2092 - val_loss: 185.9770 - val_mae: 186.4770 - lr: 0.0010\n",
            "Epoch 8/300\n",
            "2/2 [==============================] - 0s 23ms/step - loss: 686.7921 - mae: 687.2921 - val_loss: 219.7997 - val_mae: 220.2997 - lr: 0.0010\n",
            "Epoch 9/300\n",
            "2/2 [==============================] - 0s 32ms/step - loss: 877.7870 - mae: 878.2870 - val_loss: 164.6836 - val_mae: 165.1836 - lr: 0.0010\n",
            "Epoch 10/300\n",
            "2/2 [==============================] - 0s 22ms/step - loss: 718.4477 - mae: 718.9477 - val_loss: 730.2341 - val_mae: 730.7341 - lr: 0.0010\n",
            "Epoch 11/300\n",
            "2/2 [==============================] - 0s 21ms/step - loss: 607.7056 - mae: 608.2056 - val_loss: 1369.2682 - val_mae: 1369.7682 - lr: 0.0010\n",
            "Epoch 12/300\n",
            "2/2 [==============================] - 0s 21ms/step - loss: 1010.5228 - mae: 1011.0228 - val_loss: 547.8752 - val_mae: 548.3752 - lr: 0.0010\n",
            "Epoch 13/300\n",
            "2/2 [==============================] - 0s 24ms/step - loss: 524.8245 - mae: 525.3245 - val_loss: 191.1179 - val_mae: 191.6179 - lr: 0.0010\n",
            "Epoch 14/300\n",
            "2/2 [==============================] - 0s 21ms/step - loss: 797.2769 - mae: 797.7769 - val_loss: 211.3783 - val_mae: 211.8783 - lr: 0.0010\n",
            "Epoch 15/300\n",
            "2/2 [==============================] - 0s 31ms/step - loss: 837.9473 - mae: 838.4473 - val_loss: 153.1101 - val_mae: 153.6101 - lr: 0.0010\n",
            "Epoch 16/300\n",
            "2/2 [==============================] - 0s 23ms/step - loss: 632.3618 - mae: 632.8618 - val_loss: 492.9977 - val_mae: 493.4977 - lr: 0.0010\n",
            "Epoch 17/300\n",
            "2/2 [==============================] - 0s 25ms/step - loss: 519.9677 - mae: 520.4677 - val_loss: 714.6579 - val_mae: 715.1579 - lr: 0.0010\n",
            "Epoch 18/300\n",
            "2/2 [==============================] - 0s 21ms/step - loss: 559.3184 - mae: 559.8184 - val_loss: 554.4167 - val_mae: 554.9167 - lr: 0.0010\n",
            "Epoch 19/300\n",
            "2/2 [==============================] - 0s 31ms/step - loss: 478.4669 - mae: 478.9669 - val_loss: 145.6284 - val_mae: 146.1284 - lr: 0.0010\n",
            "Epoch 20/300\n",
            "2/2 [==============================] - 0s 21ms/step - loss: 642.6072 - mae: 643.1072 - val_loss: 200.4064 - val_mae: 200.9064 - lr: 0.0010\n",
            "Epoch 21/300\n",
            "2/2 [==============================] - 0s 30ms/step - loss: 759.8641 - mae: 760.3641 - val_loss: 133.2308 - val_mae: 133.7308 - lr: 0.0010\n",
            "Epoch 22/300\n",
            "2/2 [==============================] - 0s 23ms/step - loss: 547.3532 - mae: 547.8532 - val_loss: 600.2992 - val_mae: 600.7992 - lr: 0.0010\n",
            "Epoch 23/300\n",
            "2/2 [==============================] - 0s 22ms/step - loss: 477.2029 - mae: 477.7029 - val_loss: 393.1678 - val_mae: 393.6678 - lr: 0.0010\n",
            "Epoch 24/300\n",
            "2/2 [==============================] - 0s 20ms/step - loss: 391.3944 - mae: 391.8944 - val_loss: 159.8110 - val_mae: 160.3110 - lr: 0.0010\n",
            "Epoch 25/300\n",
            "2/2 [==============================] - 0s 21ms/step - loss: 445.8739 - mae: 446.3689 - val_loss: 389.5813 - val_mae: 390.0813 - lr: 0.0010\n",
            "Epoch 26/300\n",
            "2/2 [==============================] - 0s 20ms/step - loss: 340.7800 - mae: 341.2800 - val_loss: 548.4337 - val_mae: 548.9337 - lr: 0.0010\n",
            "Epoch 27/300\n",
            "2/2 [==============================] - 0s 22ms/step - loss: 428.2845 - mae: 428.7845 - val_loss: 321.9922 - val_mae: 322.4922 - lr: 0.0010\n",
            "Epoch 28/300\n",
            "2/2 [==============================] - 0s 20ms/step - loss: 371.2263 - mae: 371.7263 - val_loss: 203.7126 - val_mae: 204.2126 - lr: 0.0010\n",
            "Epoch 29/300\n",
            "2/2 [==============================] - 0s 20ms/step - loss: 355.4626 - mae: 355.9626 - val_loss: 612.2619 - val_mae: 612.7619 - lr: 0.0010\n",
            "Epoch 30/300\n",
            "2/2 [==============================] - 0s 21ms/step - loss: 454.7495 - mae: 455.2495 - val_loss: 591.9700 - val_mae: 592.4700 - lr: 0.0010\n",
            "Epoch 31/300\n",
            "2/2 [==============================] - 0s 21ms/step - loss: 418.1777 - mae: 418.6777 - val_loss: 217.9722 - val_mae: 218.4722 - lr: 0.0010\n",
            "Epoch 32/300\n",
            "2/2 [==============================] - 0s 22ms/step - loss: 327.8132 - mae: 328.3132 - val_loss: 524.6113 - val_mae: 525.1113 - lr: 0.0010\n",
            "Epoch 33/300\n",
            "2/2 [==============================] - 0s 21ms/step - loss: 371.1409 - mae: 371.6409 - val_loss: 476.4851 - val_mae: 476.9851 - lr: 0.0010\n",
            "Epoch 34/300\n",
            "2/2 [==============================] - 0s 21ms/step - loss: 356.3938 - mae: 356.8938 - val_loss: 202.7390 - val_mae: 203.2390 - lr: 0.0010\n",
            "Epoch 35/300\n",
            "2/2 [==============================] - 0s 22ms/step - loss: 336.6249 - mae: 337.1249 - val_loss: 489.6646 - val_mae: 490.1646 - lr: 0.0010\n",
            "Epoch 36/300\n",
            "1/2 [==============>...............] - ETA: 0s - loss: 314.2061 - mae: 314.7061\n",
            "Epoch 36: ReduceLROnPlateau reducing learning rate to 0.00010000000474974513.\n",
            "2/2 [==============================] - 0s 22ms/step - loss: 330.9807 - mae: 331.4807 - val_loss: 353.5682 - val_mae: 354.0682 - lr: 0.0010\n",
            "Epoch 37/300\n",
            "2/2 [==============================] - 0s 21ms/step - loss: 279.8022 - mae: 280.3022 - val_loss: 311.9754 - val_mae: 312.4754 - lr: 1.0000e-04\n",
            "Epoch 38/300\n",
            "2/2 [==============================] - 0s 21ms/step - loss: 272.2573 - mae: 272.7573 - val_loss: 297.8256 - val_mae: 298.3256 - lr: 1.0000e-04\n",
            "Epoch 39/300\n",
            "2/2 [==============================] - 0s 21ms/step - loss: 267.8326 - mae: 268.3326 - val_loss: 289.5023 - val_mae: 290.0023 - lr: 1.0000e-04\n",
            "Epoch 40/300\n",
            "2/2 [==============================] - 0s 20ms/step - loss: 264.2453 - mae: 264.7453 - val_loss: 291.5518 - val_mae: 292.0518 - lr: 1.0000e-04\n",
            "Epoch 41/300\n",
            "2/2 [==============================] - 0s 22ms/step - loss: 260.5448 - mae: 261.0448 - val_loss: 292.2661 - val_mae: 292.7661 - lr: 1.0000e-04\n",
            "Epoch 42/300\n",
            "2/2 [==============================] - 0s 21ms/step - loss: 256.2242 - mae: 256.7242 - val_loss: 293.5689 - val_mae: 294.0689 - lr: 1.0000e-04\n",
            "Epoch 43/300\n",
            "2/2 [==============================] - 0s 20ms/step - loss: 249.4735 - mae: 249.9735 - val_loss: 307.2544 - val_mae: 307.6630 - lr: 1.0000e-04\n",
            "Epoch 44/300\n",
            "2/2 [==============================] - 0s 21ms/step - loss: 249.2643 - mae: 249.7643 - val_loss: 339.4223 - val_mae: 339.9223 - lr: 1.0000e-04\n",
            "Epoch 45/300\n",
            "2/2 [==============================] - 0s 21ms/step - loss: 249.3616 - mae: 249.8616 - val_loss: 345.5712 - val_mae: 346.0712 - lr: 1.0000e-04\n",
            "Epoch 46/300\n",
            "2/2 [==============================] - 0s 21ms/step - loss: 246.0113 - mae: 246.5019 - val_loss: 331.7953 - val_mae: 332.2953 - lr: 1.0000e-04\n",
            "Epoch 47/300\n",
            "2/2 [==============================] - 0s 22ms/step - loss: 238.0441 - mae: 238.5441 - val_loss: 300.8683 - val_mae: 301.3683 - lr: 1.0000e-04\n",
            "Epoch 48/300\n",
            "2/2 [==============================] - 0s 21ms/step - loss: 229.0725 - mae: 229.5725 - val_loss: 278.2551 - val_mae: 278.7551 - lr: 1.0000e-04\n",
            "Epoch 49/300\n",
            "2/2 [==============================] - 0s 21ms/step - loss: 242.6865 - mae: 243.1865 - val_loss: 268.7955 - val_mae: 269.2955 - lr: 1.0000e-04\n",
            "Epoch 50/300\n",
            "2/2 [==============================] - 0s 25ms/step - loss: 250.6163 - mae: 251.1137 - val_loss: 273.2779 - val_mae: 273.7779 - lr: 1.0000e-04\n",
            "Epoch 51/300\n",
            "1/2 [==============>...............] - ETA: 0s - loss: 259.7619 - mae: 260.2619Restoring model weights from the end of the best epoch: 21.\n",
            "\n",
            "Epoch 51: ReduceLROnPlateau reducing learning rate to 0.0001.\n",
            "2/2 [==============================] - 0s 37ms/step - loss: 241.2686 - mae: 241.7686 - val_loss: 292.2013 - val_mae: 292.7013 - lr: 1.0000e-04\n",
            "Epoch 51: early stopping\n"
          ]
        }
      ]
    },
    {
      "cell_type": "code",
      "source": [
        "pd.DataFrame(history.history).plot(figsize=(10, 7))\n",
        "plt.grid(True)\n",
        "plt.show()"
      ],
      "metadata": {
        "colab": {
          "base_uri": "https://localhost:8080/",
          "height": 428
        },
        "id": "P4CCymPgzoNH",
        "outputId": "4d5bc752-4e44-4cfb-c4d8-67b9ada899e3"
      },
      "execution_count": 37,
      "outputs": [
        {
          "output_type": "display_data",
          "data": {
            "text/plain": [
              "<Figure size 720x504 with 1 Axes>"
            ],
            "image/png": "[encoded data removed]"
          },
          "metadata": {
            "needs_background": "light"
          }
        }
      ]
    },
    {
      "cell_type": "code",
      "source": [
        "scores = model.evaluate(X_test, y_test)"
      ],
      "metadata": {
        "colab": {
          "base_uri": "https://localhost:8080/"
        },
        "id": "LOYayY7H0XTP",
        "outputId": "9d41c0ee-152f-49f4-fe24-56776126fc67"
      },
      "execution_count": 38,
      "outputs": [
        {
          "output_type": "stream",
          "name": "stdout",
          "text": [
            "1/1 [==============================] - 0s 17ms/step - loss: 436.6702 - mae: 437.1702\n"
          ]
        }
      ]
    },
    {
      "cell_type": "code",
      "source": [
        "preds = model.predict(X_test, verbose=1)"
      ],
      "metadata": {
        "colab": {
          "base_uri": "https://localhost:8080/"
        },
        "id": "FJIpkBZg6T-D",
        "outputId": "5ad123e6-aa5c-4678-fe8d-84dd1ba0dd03"
      },
      "execution_count": 39,
      "outputs": [
        {
          "output_type": "stream",
          "name": "stdout",
          "text": [
            "1/1 [==============================] - 0s 117ms/step\n"
          ]
        }
      ]
    },
    {
      "cell_type": "code",
      "source": [
        "from scipy import stats"
      ],
      "metadata": {
        "id": "tczk9B-N6WLu"
      },
      "execution_count": 40,
      "outputs": []
    },
    {
      "cell_type": "code",
      "source": [
        "confidence = 0.95\n",
        "\n",
        "abs_errors = abs(preds.flatten() - y_test.to_numpy().flatten())\n",
        "stats.t.interval(confidence, len(abs_errors)-1, \n",
        "                         loc=abs_errors.mean(), \n",
        "                         scale=stats.sem(abs_errors))"
      ],
      "metadata": {
        "colab": {
          "base_uri": "https://localhost:8080/"
        },
        "id": "EXiGUnWP6YUu",
        "outputId": "ecac0c2f-962c-4a49-b3d4-687e57ec2c7b"
      },
      "execution_count": 41,
      "outputs": [
        {
          "output_type": "execute_result",
          "data": {
            "text/plain": [
              "(280.71723829521346, 593.6231181500991)"
            ]
          },
          "metadata": {},
          "execution_count": 41
        }
      ]
    },
    {
      "cell_type": "code",
      "source": [
        "# CI on model 1: (338.5518175907122, 842.0092419796002)\n",
        "# CI on model 2: (280.71723829521346, 593.6231181500991)"
      ],
      "metadata": {
        "id": "jxSV7mzdZ4Xp"
      },
      "execution_count": 42,
      "outputs": []
    },
    {
      "cell_type": "code",
      "source": [
        "model.save(\"staten_island_model.h5\")"
      ],
      "metadata": {
        "id": "O1EocXxa6r0p"
      },
      "execution_count": 43,
      "outputs": []
    },
    {
      "cell_type": "code",
      "source": [
        "# /content/drive/MyDrive/Boro_DFs/\n",
        "model.save(\"/content/drive/MyDrive/Boro_DFs/staten_island_model.h5\")"
      ],
      "metadata": {
        "id": "yBEwI7ai60uc"
      },
      "execution_count": 44,
      "outputs": []
    }
  ]
}