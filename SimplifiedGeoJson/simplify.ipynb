{
 "cells": [
  {
   "cell_type": "code",
   "execution_count": 1,
   "metadata": {},
   "outputs": [],
   "source": [
    "import json\n",
    "import pandas as pd\n",
    "import numpy as np"
   ]
  },
  {
   "cell_type": "code",
   "execution_count": 3,
   "metadata": {},
   "outputs": [],
   "source": [
    "# GeoJson sources\n",
    "\n",
    "neigh_bounds = \"../Geojson/NeighbourhoodBoundaries.json\"\n",
    "train_lines = \"../Geojson/SubwayLinesEdit.geojson\"\n",
    "train_entrances = \"../Geojson/SubwayEntrances.geojson\"\n",
    "train_stations = \"../Geojson/SubwayStations.geojson\""
   ]
  },
  {
   "cell_type": "code",
   "execution_count": 4,
   "metadata": {},
   "outputs": [],
   "source": [
    "# Neighbourhood Boundaries simplify\n",
    "\n",
    "with open(neigh_bounds, 'r') as bounds_file:\n",
    "    bounds_data = json.load(bounds_file)\n"
   ]
  },
  {
   "cell_type": "code",
   "execution_count": 5,
   "metadata": {},
   "outputs": [],
   "source": [
    "for i, data in enumerate(bounds_data['features']):\n",
    "    bounds_data['features'][i] = { \n",
    "        'ntacode': data['properties']['ntacode'], \n",
    "        'name': data['properties']['ntaname'], \n",
    "        'boro': data['properties']['boro_name'], \n",
    "        'coords': data['geometry']['coordinates'],\n",
    "        'geom_type':  data['geometry']['type']}"
   ]
  },
  {
   "cell_type": "code",
   "execution_count": 6,
   "metadata": {},
   "outputs": [],
   "source": [
    "with open('reduced_nbounds.json', 'w') as f:\n",
    "    json.dump(bounds_data, f)"
   ]
  },
  {
   "cell_type": "code",
   "execution_count": 5,
   "metadata": {},
   "outputs": [],
   "source": [
    "# Subway Entrances simplify\n",
    "\n",
    "with open(train_entrances, 'r') as entr_file:\n",
    "    entr_data = json.load(entr_file)"
   ]
  },
  {
   "cell_type": "code",
   "execution_count": 6,
   "metadata": {},
   "outputs": [],
   "source": [
    "for i, data in enumerate(entr_data['features']):\n",
    "    entr_data['features'][i] = {\n",
    "        'line': data['properties']['line'],\n",
    "        'line_name': data['properties']['name'],\n",
    "        'type': data['geometry']['type'],\n",
    "        'coords': data['geometry']['coordinates']\n",
    "    }"
   ]
  },
  {
   "cell_type": "code",
   "execution_count": 8,
   "metadata": {},
   "outputs": [],
   "source": [
    "with open('reduced_subentr.json', 'w') as fp:\n",
    "    json.dump(entr_data, fp)"
   ]
  },
  {
   "cell_type": "code",
   "execution_count": 9,
   "metadata": {},
   "outputs": [],
   "source": [
    "# Subway stations simplify\n",
    "with open(train_stations, 'r') as stations_file:\n",
    "    stations_data = json.load(stations_file)\n"
   ]
  },
  {
   "cell_type": "code",
   "execution_count": 11,
   "metadata": {},
   "outputs": [],
   "source": [
    "for i, data in enumerate(stations_data['features']):\n",
    "    stations_data['features'][i] = {\n",
    "        'name': data['properties']['name'],\n",
    "        'line': data['properties']['line'],\n",
    "        'coords': data['geometry']['coordinates'],\n",
    "        'type': data['geometry']['type']\n",
    "    }"
   ]
  },
  {
   "cell_type": "code",
   "execution_count": 12,
   "metadata": {},
   "outputs": [],
   "source": [
    "with open('reduced_stations.json', 'w') as fp:\n",
    "    json.dump(stations_data, fp)"
   ]
  },
  {
   "cell_type": "code",
   "execution_count": 13,
   "metadata": {},
   "outputs": [],
   "source": [
    "# Subway lines edit\n",
    "with open(train_lines, 'r') as lines_file:\n",
    "    lines_data = json.load(lines_file)"
   ]
  },
  {
   "cell_type": "code",
   "execution_count": 14,
   "metadata": {},
   "outputs": [],
   "source": [
    "for i, data in enumerate(lines_data['features']):\n",
    "    lines_data['features'][i] = {\n",
    "        'line_name': data['properties']['name'],\n",
    "        'coords': data['geometry']['coordinates'],\n",
    "        'type': data['geometry']['type']\n",
    "    }"
   ]
  },
  {
   "cell_type": "code",
   "execution_count": 15,
   "metadata": {},
   "outputs": [],
   "source": [
    "with open('reduced_lines.json', 'w') as fp:\n",
    "    json.dump(lines_data, fp)"
   ]
  },
  {
   "cell_type": "code",
   "execution_count": 40,
   "metadata": {},
   "outputs": [],
   "source": [
    "exdf = pd.read_excel('../tempexcel.xlsx')"
   ]
  },
  {
   "cell_type": "code",
   "execution_count": 41,
   "metadata": {},
   "outputs": [],
   "source": [
    "exdf = pd.DataFrame(exdf)"
   ]
  },
  {
   "cell_type": "code",
   "execution_count": 42,
   "metadata": {},
   "outputs": [],
   "source": [
    "exdf.to_csv('tempcsv.csv', index=False)\n"
   ]
  },
  {
   "cell_type": "code",
   "execution_count": 43,
   "metadata": {},
   "outputs": [],
   "source": [
    "tempcsv = pd.read_csv('../tempcsv.csv', skiprows=10)"
   ]
  },
  {
   "cell_type": "code",
   "execution_count": 44,
   "metadata": {},
   "outputs": [],
   "source": [
    "tempdf = pd.DataFrame(tempcsv)\n",
    "tempdf.drop(tempdf.columns[0],axis=1, inplace=True)\n",
    "tempdf.drop(tempdf.columns[1],axis=1, inplace=True)\n",
    "tempdf.drop(tempdf.columns[-1],axis=1, inplace=True)\n",
    "tempdf.drop(tempdf.columns[-1],axis=1, inplace=True)"
   ]
  },
  {
   "cell_type": "code",
   "execution_count": 45,
   "metadata": {},
   "outputs": [
    {
     "data": {
      "text/html": [
       "<div>\n",
       "<style scoped>\n",
       "    .dataframe tbody tr th:only-of-type {\n",
       "        vertical-align: middle;\n",
       "    }\n",
       "\n",
       "    .dataframe tbody tr th {\n",
       "        vertical-align: top;\n",
       "    }\n",
       "\n",
       "    .dataframe thead th {\n",
       "        text-align: right;\n",
       "    }\n",
       "</style>\n",
       "<table border=\"1\" class=\"dataframe\">\n",
       "  <thead>\n",
       "    <tr style=\"text-align: right;\">\n",
       "      <th></th>\n",
       "      <th>Crime Complaints</th>\n",
       "      <th>Unnamed: 3</th>\n",
       "      <th>Unnamed: 4</th>\n",
       "      <th>Unnamed: 5</th>\n",
       "      <th>Unnamed: 6</th>\n",
       "      <th>Unnamed: 7</th>\n",
       "      <th>Unnamed: 8</th>\n",
       "      <th>Unnamed: 9</th>\n",
       "      <th>Unnamed: 10</th>\n",
       "      <th>Unnamed: 11</th>\n",
       "      <th>Unnamed: 12</th>\n",
       "    </tr>\n",
       "  </thead>\n",
       "  <tbody>\n",
       "    <tr>\n",
       "      <th>0</th>\n",
       "      <td>NaN</td>\n",
       "      <td>Week to Date</td>\n",
       "      <td>NaN</td>\n",
       "      <td>NaN</td>\n",
       "      <td>28 Day</td>\n",
       "      <td>NaN</td>\n",
       "      <td>NaN</td>\n",
       "      <td>Year to Date*</td>\n",
       "      <td>NaN</td>\n",
       "      <td>NaN</td>\n",
       "      <td>2 Year</td>\n",
       "    </tr>\n",
       "    <tr>\n",
       "      <th>1</th>\n",
       "      <td></td>\n",
       "      <td>2022</td>\n",
       "      <td>2021.0</td>\n",
       "      <td>% Chg</td>\n",
       "      <td>2022</td>\n",
       "      <td>2021</td>\n",
       "      <td>% Chg</td>\n",
       "      <td>2022</td>\n",
       "      <td>2021</td>\n",
       "      <td>% Chg</td>\n",
       "      <td>% Chg</td>\n",
       "    </tr>\n",
       "    <tr>\n",
       "      <th>2</th>\n",
       "      <td>Murder</td>\n",
       "      <td>4</td>\n",
       "      <td>4.0</td>\n",
       "      <td>0</td>\n",
       "      <td>11</td>\n",
       "      <td>14</td>\n",
       "      <td>-21.428571428571</td>\n",
       "      <td>40</td>\n",
       "      <td>37</td>\n",
       "      <td>8.108108108108</td>\n",
       "      <td>60</td>\n",
       "    </tr>\n",
       "    <tr>\n",
       "      <th>3</th>\n",
       "      <td>Rape</td>\n",
       "      <td>4</td>\n",
       "      <td>3.0</td>\n",
       "      <td>33.333333333333</td>\n",
       "      <td>25</td>\n",
       "      <td>30</td>\n",
       "      <td>-16.666666666666</td>\n",
       "      <td>115</td>\n",
       "      <td>101</td>\n",
       "      <td>13.861386138613</td>\n",
       "      <td>25</td>\n",
       "    </tr>\n",
       "    <tr>\n",
       "      <th>4</th>\n",
       "      <td>Robbery</td>\n",
       "      <td>58</td>\n",
       "      <td>56.0</td>\n",
       "      <td>3.571428571428</td>\n",
       "      <td>302</td>\n",
       "      <td>222</td>\n",
       "      <td>36.036036036036</td>\n",
       "      <td>1243</td>\n",
       "      <td>882</td>\n",
       "      <td>40.929705215419</td>\n",
       "      <td>21.98233562316</td>\n",
       "    </tr>\n",
       "  </tbody>\n",
       "</table>\n",
       "</div>"
      ],
      "text/plain": [
       "  Crime Complaints    Unnamed: 3  Unnamed: 4       Unnamed: 5    Unnamed: 6  \\\n",
       "0              NaN  Week to Date         NaN              NaN        28 Day   \n",
       "1                           2022      2021.0            % Chg          2022   \n",
       "2           Murder             4         4.0                0            11   \n",
       "3             Rape             4         3.0  33.333333333333            25   \n",
       "4          Robbery            58        56.0   3.571428571428           302   \n",
       "\n",
       "  Unnamed: 7        Unnamed: 8           Unnamed: 9 Unnamed: 10  \\\n",
       "0        NaN               NaN        Year to Date*         NaN   \n",
       "1       2021             % Chg                 2022        2021   \n",
       "2         14  -21.428571428571                   40          37   \n",
       "3         30  -16.666666666666                  115         101   \n",
       "4        222   36.036036036036                 1243         882   \n",
       "\n",
       "       Unnamed: 11     Unnamed: 12  \n",
       "0              NaN       2 Year     \n",
       "1            % Chg           % Chg  \n",
       "2   8.108108108108              60  \n",
       "3  13.861386138613              25  \n",
       "4  40.929705215419  21.98233562316  "
      ]
     },
     "execution_count": 45,
     "metadata": {},
     "output_type": "execute_result"
    }
   ],
   "source": [
    "tempdf.head()"
   ]
  },
  {
   "cell_type": "code",
   "execution_count": 47,
   "metadata": {},
   "outputs": [],
   "source": [
    "tempdf.rename(columns= {\n",
    "    \"Unnamed: 3\": \"week2date_curyear\", \n",
    "    \"Unnamed: 4\": \"week2date_prevyear\", \n",
    "    \"Unnamed: 5\": \"week2date_pctchange\", \n",
    "    \"Unnamed: 6\": \"28day_curyear\",\n",
    "    \"Unnamed: 7\": \"28day_prevyear\", \n",
    "    \"Unnamed: 8\": \"28day_pctchange\",\n",
    "    \"Unnamed: 9\": \"year2date_curyear\",\n",
    "    \"Unnamed: 10\": \"year2date_prevyear\", \n",
    "    \"Unnamed: 11\": \"year2date_pctchange\",\n",
    "    \"Unnamed: 12\": \"2year_pctchange\"\n",
    "    }, inplace=True)"
   ]
  },
  {
   "cell_type": "code",
   "execution_count": 48,
   "metadata": {},
   "outputs": [
    {
     "data": {
      "text/html": [
       "<div>\n",
       "<style scoped>\n",
       "    .dataframe tbody tr th:only-of-type {\n",
       "        vertical-align: middle;\n",
       "    }\n",
       "\n",
       "    .dataframe tbody tr th {\n",
       "        vertical-align: top;\n",
       "    }\n",
       "\n",
       "    .dataframe thead th {\n",
       "        text-align: right;\n",
       "    }\n",
       "</style>\n",
       "<table border=\"1\" class=\"dataframe\">\n",
       "  <thead>\n",
       "    <tr style=\"text-align: right;\">\n",
       "      <th></th>\n",
       "      <th>Crime Complaints</th>\n",
       "      <th>week2date_curyear</th>\n",
       "      <th>week2date_prevyear</th>\n",
       "      <th>week2date_pctchange</th>\n",
       "      <th>28day_curyear</th>\n",
       "      <th>28day_prevyear</th>\n",
       "      <th>28day_pctchange</th>\n",
       "      <th>year2date_curyear</th>\n",
       "      <th>year2date_prevyear</th>\n",
       "      <th>year2date_pctchange</th>\n",
       "      <th>2year_pctchange</th>\n",
       "    </tr>\n",
       "  </thead>\n",
       "  <tbody>\n",
       "    <tr>\n",
       "      <th>0</th>\n",
       "      <td>NaN</td>\n",
       "      <td>Week to Date</td>\n",
       "      <td>NaN</td>\n",
       "      <td>NaN</td>\n",
       "      <td>28 Day</td>\n",
       "      <td>NaN</td>\n",
       "      <td>NaN</td>\n",
       "      <td>Year to Date*</td>\n",
       "      <td>NaN</td>\n",
       "      <td>NaN</td>\n",
       "      <td>2 Year</td>\n",
       "    </tr>\n",
       "    <tr>\n",
       "      <th>1</th>\n",
       "      <td></td>\n",
       "      <td>2022</td>\n",
       "      <td>2021.0</td>\n",
       "      <td>% Chg</td>\n",
       "      <td>2022</td>\n",
       "      <td>2021</td>\n",
       "      <td>% Chg</td>\n",
       "      <td>2022</td>\n",
       "      <td>2021</td>\n",
       "      <td>% Chg</td>\n",
       "      <td>% Chg</td>\n",
       "    </tr>\n",
       "    <tr>\n",
       "      <th>2</th>\n",
       "      <td>Murder</td>\n",
       "      <td>4</td>\n",
       "      <td>4.0</td>\n",
       "      <td>0</td>\n",
       "      <td>11</td>\n",
       "      <td>14</td>\n",
       "      <td>-21.428571428571</td>\n",
       "      <td>40</td>\n",
       "      <td>37</td>\n",
       "      <td>8.108108108108</td>\n",
       "      <td>60</td>\n",
       "    </tr>\n",
       "    <tr>\n",
       "      <th>3</th>\n",
       "      <td>Rape</td>\n",
       "      <td>4</td>\n",
       "      <td>3.0</td>\n",
       "      <td>33.333333333333</td>\n",
       "      <td>25</td>\n",
       "      <td>30</td>\n",
       "      <td>-16.666666666666</td>\n",
       "      <td>115</td>\n",
       "      <td>101</td>\n",
       "      <td>13.861386138613</td>\n",
       "      <td>25</td>\n",
       "    </tr>\n",
       "    <tr>\n",
       "      <th>4</th>\n",
       "      <td>Robbery</td>\n",
       "      <td>58</td>\n",
       "      <td>56.0</td>\n",
       "      <td>3.571428571428</td>\n",
       "      <td>302</td>\n",
       "      <td>222</td>\n",
       "      <td>36.036036036036</td>\n",
       "      <td>1243</td>\n",
       "      <td>882</td>\n",
       "      <td>40.929705215419</td>\n",
       "      <td>21.98233562316</td>\n",
       "    </tr>\n",
       "  </tbody>\n",
       "</table>\n",
       "</div>"
      ],
      "text/plain": [
       "  Crime Complaints week2date_curyear  week2date_prevyear week2date_pctchange  \\\n",
       "0              NaN      Week to Date                 NaN                 NaN   \n",
       "1                               2022              2021.0               % Chg   \n",
       "2           Murder                 4                 4.0                   0   \n",
       "3             Rape                 4                 3.0     33.333333333333   \n",
       "4          Robbery                58                56.0      3.571428571428   \n",
       "\n",
       "  28day_curyear 28day_prevyear   28day_pctchange    year2date_curyear  \\\n",
       "0        28 Day            NaN               NaN        Year to Date*   \n",
       "1          2022           2021             % Chg                 2022   \n",
       "2            11             14  -21.428571428571                   40   \n",
       "3            25             30  -16.666666666666                  115   \n",
       "4           302            222   36.036036036036                 1243   \n",
       "\n",
       "  year2date_prevyear year2date_pctchange 2year_pctchange  \n",
       "0                NaN                 NaN       2 Year     \n",
       "1               2021               % Chg           % Chg  \n",
       "2                 37      8.108108108108              60  \n",
       "3                101     13.861386138613              25  \n",
       "4                882     40.929705215419  21.98233562316  "
      ]
     },
     "execution_count": 48,
     "metadata": {},
     "output_type": "execute_result"
    }
   ],
   "source": [
    "tempdf.head()"
   ]
  },
  {
   "cell_type": "code",
   "execution_count": 49,
   "metadata": {},
   "outputs": [],
   "source": [
    "tempdf.drop([0,1], inplace=True)"
   ]
  },
  {
   "cell_type": "code",
   "execution_count": 50,
   "metadata": {},
   "outputs": [
    {
     "data": {
      "text/html": [
       "<div>\n",
       "<style scoped>\n",
       "    .dataframe tbody tr th:only-of-type {\n",
       "        vertical-align: middle;\n",
       "    }\n",
       "\n",
       "    .dataframe tbody tr th {\n",
       "        vertical-align: top;\n",
       "    }\n",
       "\n",
       "    .dataframe thead th {\n",
       "        text-align: right;\n",
       "    }\n",
       "</style>\n",
       "<table border=\"1\" class=\"dataframe\">\n",
       "  <thead>\n",
       "    <tr style=\"text-align: right;\">\n",
       "      <th></th>\n",
       "      <th>Crime Complaints</th>\n",
       "      <th>week2date_curyear</th>\n",
       "      <th>week2date_prevyear</th>\n",
       "      <th>week2date_pctchange</th>\n",
       "      <th>28day_curyear</th>\n",
       "      <th>28day_prevyear</th>\n",
       "      <th>28day_pctchange</th>\n",
       "      <th>year2date_curyear</th>\n",
       "      <th>year2date_prevyear</th>\n",
       "      <th>year2date_pctchange</th>\n",
       "      <th>2year_pctchange</th>\n",
       "    </tr>\n",
       "  </thead>\n",
       "  <tbody>\n",
       "    <tr>\n",
       "      <th>2</th>\n",
       "      <td>Murder</td>\n",
       "      <td>4</td>\n",
       "      <td>4.0</td>\n",
       "      <td>0</td>\n",
       "      <td>11</td>\n",
       "      <td>14</td>\n",
       "      <td>-21.428571428571</td>\n",
       "      <td>40</td>\n",
       "      <td>37</td>\n",
       "      <td>8.108108108108</td>\n",
       "      <td>60</td>\n",
       "    </tr>\n",
       "    <tr>\n",
       "      <th>3</th>\n",
       "      <td>Rape</td>\n",
       "      <td>4</td>\n",
       "      <td>3.0</td>\n",
       "      <td>33.333333333333</td>\n",
       "      <td>25</td>\n",
       "      <td>30</td>\n",
       "      <td>-16.666666666666</td>\n",
       "      <td>115</td>\n",
       "      <td>101</td>\n",
       "      <td>13.861386138613</td>\n",
       "      <td>25</td>\n",
       "    </tr>\n",
       "    <tr>\n",
       "      <th>4</th>\n",
       "      <td>Robbery</td>\n",
       "      <td>58</td>\n",
       "      <td>56.0</td>\n",
       "      <td>3.571428571428</td>\n",
       "      <td>302</td>\n",
       "      <td>222</td>\n",
       "      <td>36.036036036036</td>\n",
       "      <td>1243</td>\n",
       "      <td>882</td>\n",
       "      <td>40.929705215419</td>\n",
       "      <td>21.98233562316</td>\n",
       "    </tr>\n",
       "    <tr>\n",
       "      <th>5</th>\n",
       "      <td>Fel. Assault</td>\n",
       "      <td>150</td>\n",
       "      <td>91.0</td>\n",
       "      <td>64.835164835164</td>\n",
       "      <td>540</td>\n",
       "      <td>402</td>\n",
       "      <td>34.328358208955</td>\n",
       "      <td>1876</td>\n",
       "      <td>1521</td>\n",
       "      <td>23.339907955292</td>\n",
       "      <td>21.423948220064</td>\n",
       "    </tr>\n",
       "    <tr>\n",
       "      <th>6</th>\n",
       "      <td>Burglary</td>\n",
       "      <td>59</td>\n",
       "      <td>46.0</td>\n",
       "      <td>28.260869565217</td>\n",
       "      <td>233</td>\n",
       "      <td>172</td>\n",
       "      <td>35.465116279069</td>\n",
       "      <td>876</td>\n",
       "      <td>614</td>\n",
       "      <td>42.671009771987</td>\n",
       "      <td>29.777777777777</td>\n",
       "    </tr>\n",
       "  </tbody>\n",
       "</table>\n",
       "</div>"
      ],
      "text/plain": [
       "  Crime Complaints week2date_curyear  week2date_prevyear week2date_pctchange  \\\n",
       "2           Murder                 4                 4.0                   0   \n",
       "3             Rape                 4                 3.0     33.333333333333   \n",
       "4          Robbery                58                56.0      3.571428571428   \n",
       "5     Fel. Assault               150                91.0     64.835164835164   \n",
       "6         Burglary                59                46.0     28.260869565217   \n",
       "\n",
       "  28day_curyear 28day_prevyear   28day_pctchange year2date_curyear  \\\n",
       "2            11             14  -21.428571428571                40   \n",
       "3            25             30  -16.666666666666               115   \n",
       "4           302            222   36.036036036036              1243   \n",
       "5           540            402   34.328358208955              1876   \n",
       "6           233            172   35.465116279069               876   \n",
       "\n",
       "  year2date_prevyear year2date_pctchange  2year_pctchange  \n",
       "2                 37      8.108108108108               60  \n",
       "3                101     13.861386138613               25  \n",
       "4                882     40.929705215419   21.98233562316  \n",
       "5               1521     23.339907955292  21.423948220064  \n",
       "6                614     42.671009771987  29.777777777777  "
      ]
     },
     "execution_count": 50,
     "metadata": {},
     "output_type": "execute_result"
    }
   ],
   "source": [
    "tempdf.head()"
   ]
  },
  {
   "cell_type": "code",
   "execution_count": 51,
   "metadata": {},
   "outputs": [],
   "source": [
    "tempdict = tempdf.to_dict()"
   ]
  },
  {
   "cell_type": "code",
   "execution_count": 52,
   "metadata": {},
   "outputs": [
    {
     "data": {
      "text/plain": [
       "dict_keys(['Crime Complaints', 'week2date_curyear', 'week2date_prevyear', 'week2date_pctchange', '28day_curyear', '28day_prevyear', '28day_pctchange', 'year2date_curyear', 'year2date_prevyear', 'year2date_pctchange', '2year_pctchange'])"
      ]
     },
     "execution_count": 52,
     "metadata": {},
     "output_type": "execute_result"
    }
   ],
   "source": [
    "tempdict.keys()"
   ]
  },
  {
   "cell_type": "code",
   "execution_count": 54,
   "metadata": {},
   "outputs": [],
   "source": [
    "tempdf.to_json('../tempjson.json')"
   ]
  }
 ],
 "metadata": {
  "interpreter": {
   "hash": "c5955eb65c5dc112211fcc00164b6f01590904a8555f25d74f588620738db32e"
  },
  "kernelspec": {
   "display_name": "Python 3.9.4 ('ai')",
   "language": "python",
   "name": "python3"
  },
  "language_info": {
   "codemirror_mode": {
    "name": "ipython",
    "version": 3
   },
   "file_extension": ".py",
   "mimetype": "text/x-python",
   "name": "python",
   "nbconvert_exporter": "python",
   "pygments_lexer": "ipython3",
   "version": "3.9.4"
  },
  "orig_nbformat": 4
 },
 "nbformat": 4,
 "nbformat_minor": 2
}
